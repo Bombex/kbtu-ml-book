{
 "cells": [
  {
   "cell_type": "markdown",
   "id": "54b8a57a",
   "metadata": {},
   "source": [
    "## Binary step activation function"
   ]
  },
  {
   "cell_type": "code",
   "execution_count": 8,
   "id": "93c57990",
   "metadata": {},
   "outputs": [
    {
     "data": {
      "application/vnd.jupyter.widget-view+json": {
       "model_id": "7f03426d5e074f04b7213b63a3ec8c26",
       "version_major": 2,
       "version_minor": 0
      },
      "text/plain": [
       "VBox(children=(FloatSlider(value=0.0, description='Threshold', max=5.0, min=-5.0), FigureWidget({\n",
       "    'data': …"
      ]
     },
     "metadata": {},
     "output_type": "display_data"
    }
   ],
   "source": [
    "import numpy as np\n",
    "import plotly.graph_objects as go\n",
    "from plotly.subplots import make_subplots\n",
    "from ipywidgets import interact, widgets\n",
    "\n",
    "def binary_step_function(x, threshold):\n",
    "    return np.where(x > threshold, 1, 0)\n",
    "\n",
    "def plot_binary_step(threshold):\n",
    "    x = np.linspace(-10, 10, 1000)\n",
    "    y = binary_step_function(x, threshold)\n",
    "\n",
    "    fig = make_subplots(rows=1, cols=1, subplot_titles=['Binary step activation function'])\n",
    "    trace = go.Scatter(x=x, y=y, mode='lines', name=f'Threshold = {threshold}', line=dict(color='#FDAB9F'))\n",
    "\n",
    "    fig.add_trace(trace)\n",
    "\n",
    "    fig.update_layout(\n",
    "        xaxis_title='x',\n",
    "        yaxis_title='f(x)',\n",
    "        showlegend=True,\n",
    "        legend=dict(x=0, y=1, traceorder='normal'),\n",
    "        height=500,\n",
    "        width=700,\n",
    "    )\n",
    "\n",
    "    return fig\n",
    "\n",
    "initial_threshold = 0.0\n",
    "\n",
    "fig = go.FigureWidget(plot_binary_step(initial_threshold))\n",
    "\n",
    "\n",
    "def update_threshold(threshold):\n",
    "    with fig.batch_update():\n",
    "        fig.data[0].y = binary_step_function(fig.data[0].x, threshold)\n",
    "        fig.layout.title.text = f'Binary step activation function (threshold = {threshold})'\n",
    "\n",
    "\n",
    "threshold_slider = widgets.FloatSlider(value=initial_threshold, min=-5.0, max=5.0, step=0.1, description='Threshold')\n",
    "threshold_slider.observe(lambda change: update_threshold(change.new), names='value')\n",
    "widgets.VBox([threshold_slider, fig])"
   ]
  },
  {
   "cell_type": "markdown",
   "id": "efe2d430",
   "metadata": {},
   "source": [
    "### Linear activation function"
   ]
  },
  {
   "cell_type": "code",
   "execution_count": 2,
   "id": "21f33428",
   "metadata": {},
   "outputs": [
    {
     "data": {
      "application/vnd.jupyter.widget-view+json": {
       "model_id": "34847fcf20de4a9faea3e5acebb9dbfe",
       "version_major": 2,
       "version_minor": 0
      },
      "text/plain": [
       "VBox(children=(FigureWidget({\n",
       "    'data': [{'line': {'color': '#FDAB9F'},\n",
       "              'mode': 'lines',\n",
       "     …"
      ]
     },
     "metadata": {},
     "output_type": "display_data"
    }
   ],
   "source": [
    "import numpy as np\n",
    "import plotly.graph_objects as go\n",
    "from plotly.subplots import make_subplots\n",
    "from ipywidgets import interact, widgets\n",
    "\n",
    "def linear_activation_function(x):\n",
    "    return x\n",
    "\n",
    "def plot_linear_activation():\n",
    "    x = np.linspace(-10, 10, 1000)\n",
    "    y = linear_activation_function(x)\n",
    "\n",
    "    fig = make_subplots(rows=1, cols=1, subplot_titles=['Linear Activation Function'])\n",
    "    trace = go.Scatter(x=x, y=y, mode='lines', name='Linear Activation', line=dict(color='#FDAB9F'))\n",
    "\n",
    "    fig.add_trace(trace)\n",
    "\n",
    "    fig.update_layout(\n",
    "        xaxis_title='x',\n",
    "        yaxis_title='f(x)',\n",
    "        showlegend=True,\n",
    "        legend=dict(x=0, y=1, traceorder='normal'),\n",
    "        height=500,\n",
    "        width=700,\n",
    "    )\n",
    "\n",
    "    return fig\n",
    "\n",
    "\n",
    "fig_linear = go.FigureWidget(plot_linear_activation())\n",
    "widgets.VBox([fig_linear])\n"
   ]
  },
  {
   "cell_type": "markdown",
   "id": "e33abb17",
   "metadata": {},
   "source": [
    "### Non-Linear activation function"
   ]
  },
  {
   "cell_type": "code",
   "execution_count": null,
   "id": "90435595",
   "metadata": {},
   "outputs": [],
   "source": []
  },
  {
   "cell_type": "code",
   "execution_count": null,
   "id": "c0a7e179",
   "metadata": {},
   "outputs": [],
   "source": []
  },
  {
   "cell_type": "markdown",
   "id": "5cc26401",
   "metadata": {},
   "source": [
    "### Sigmoid function"
   ]
  },
  {
   "cell_type": "code",
   "execution_count": 7,
   "id": "279ff3c8",
   "metadata": {
    "tags": [
     "remove-input"
    ]
   },
   "outputs": [
    {
     "data": {
      "application/vnd.jupyter.widget-view+json": {
       "model_id": "b6f54c636e80458cb9b524fb5652ffc6",
       "version_major": 2,
       "version_minor": 0
      },
      "text/plain": [
       "VBox(children=(Dropdown(description='Select Plot:', index=2, options=(('Sigmoid Function', 'sigmoid'), ('Sigmo…"
      ]
     },
     "metadata": {},
     "output_type": "display_data"
    }
   ],
   "source": [
    "import numpy as np\n",
    "import plotly.graph_objects as go\n",
    "import ipywidgets as widgets\n",
    "from IPython.display import display\n",
    "\n",
    "def sigmoid(x):\n",
    "    return 1 / (1 + np.exp(-x))\n",
    "\n",
    "def sigmoid_derivative(x):\n",
    "    return sigmoid(x) * (1 - sigmoid(x))\n",
    "\n",
    "x = np.linspace(-7, 7, 100)\n",
    "sigmoid_values = sigmoid(x)\n",
    "sigmoid_derivative_values = sigmoid_derivative(x)\n",
    "\n",
    "fig = go.FigureWidget()\n",
    "sigmoid_trace = go.Scatter(x=x, y=sigmoid_values, mode='lines', name='Sigmoid function')\n",
    "sigmoid_derivative_trace = go.Scatter(x=x, y=sigmoid_derivative_values, mode='lines', name='Sigmoid derivative', line=dict(color='#FDAB9F'))\n",
    "\n",
    "sigmoid_title = \"Sigmoid Function\"\n",
    "sigmoid_derivative_title = \"Sigmoid Derivative\"\n",
    "\n",
    "plot_dropdown = widgets.Dropdown(\n",
    "    options=[(\"Sigmoid Function\", \"sigmoid\"), (\"Sigmoid Derivative\", \"derivative\"), (\"Both\", \"both\")],\n",
    "    value=\"both\",\n",
    "    description=\"Select Plot:\"\n",
    ")\n",
    "\n",
    "def update_plot(selected_plot):\n",
    "    with fig.batch_update():\n",
    "        fig.data = []\n",
    "        if selected_plot == \"sigmoid\" or selected_plot == \"both\":\n",
    "            fig.add_trace(sigmoid_trace)\n",
    "            fig.update_layout(title=sigmoid_title)\n",
    "        if selected_plot == \"derivative\" or selected_plot == \"both\":\n",
    "            fig.add_trace(sigmoid_derivative_trace)\n",
    "            fig.update_layout(title=sigmoid_derivative_title)\n",
    "\n",
    "def on_dropdown_change(change):\n",
    "    selected_plot = change.new\n",
    "    update_plot(selected_plot)\n",
    "\n",
    "plot_dropdown.observe(on_dropdown_change, names='value')\n",
    "\n",
    "display(widgets.VBox([plot_dropdown, fig]))"
   ]
  },
  {
   "cell_type": "markdown",
   "id": "8aebb292",
   "metadata": {},
   "source": [
    "### Tanh function (Hyperbolic Tangent)"
   ]
  },
  {
   "cell_type": "code",
   "execution_count": 4,
   "id": "12df8591",
   "metadata": {},
   "outputs": [
    {
     "data": {
      "application/vnd.plotly.v1+json": {
       "config": {
        "plotlyServerURL": "https://plot.ly"
       },
       "data": [
        {
         "mode": "lines",
         "name": "tanh",
         "type": "scatter",
         "x": [
          -7,
          -6.858585858585859,
          -6.717171717171717,
          -6.575757575757576,
          -6.434343434343434,
          -6.292929292929293,
          -6.151515151515151,
          -6.01010101010101,
          -5.8686868686868685,
          -5.7272727272727275,
          -5.585858585858586,
          -5.444444444444445,
          -5.303030303030303,
          -5.161616161616162,
          -5.020202020202021,
          -4.878787878787879,
          -4.737373737373737,
          -4.595959595959596,
          -4.454545454545455,
          -4.313131313131313,
          -4.171717171717171,
          -4.03030303030303,
          -3.888888888888889,
          -3.7474747474747474,
          -3.6060606060606064,
          -3.464646464646465,
          -3.3232323232323235,
          -3.181818181818182,
          -3.0404040404040407,
          -2.898989898989899,
          -2.757575757575758,
          -2.616161616161616,
          -2.474747474747475,
          -2.333333333333334,
          -2.191919191919192,
          -2.050505050505051,
          -1.9090909090909092,
          -1.7676767676767682,
          -1.6262626262626263,
          -1.4848484848484853,
          -1.3434343434343434,
          -1.2020202020202024,
          -1.0606060606060606,
          -0.9191919191919196,
          -0.7777777777777777,
          -0.6363636363636367,
          -0.4949494949494948,
          -0.3535353535353538,
          -0.21212121212121282,
          -0.07070707070707094,
          0.07070707070707005,
          0.21212121212121193,
          0.3535353535353529,
          0.4949494949494948,
          0.6363636363636358,
          0.7777777777777777,
          0.9191919191919187,
          1.0606060606060606,
          1.2020202020202024,
          1.3434343434343425,
          1.4848484848484844,
          1.6262626262626263,
          1.7676767676767682,
          1.9090909090909083,
          2.05050505050505,
          2.191919191919192,
          2.333333333333332,
          2.474747474747474,
          2.616161616161616,
          2.757575757575758,
          2.898989898989898,
          3.0404040404040398,
          3.1818181818181817,
          3.3232323232323235,
          3.4646464646464636,
          3.6060606060606055,
          3.7474747474747474,
          3.8888888888888893,
          4.030303030303029,
          4.171717171717171,
          4.313131313131313,
          4.454545454545453,
          4.595959595959595,
          4.737373737373737,
          4.878787878787879,
          5.020202020202019,
          5.161616161616161,
          5.303030303030303,
          5.444444444444445,
          5.585858585858585,
          5.727272727272727,
          5.8686868686868685,
          6.01010101010101,
          6.1515151515151505,
          6.292929292929292,
          6.434343434343434,
          6.575757575757574,
          6.717171717171716,
          6.858585858585858,
          7
         ],
         "y": [
          -0.9999983369439447,
          -0.9999977933292803,
          -0.9999970720197813,
          -0.9999961149313877,
          -0.9999948449939436,
          -0.9999931599452729,
          -0.9999909240968349,
          -0.9999879574080253,
          -0.9999840209895904,
          -0.9999787978692679,
          -0.9999718674716198,
          -0.9999626717584847,
          -0.9999504703060593,
          -0.9999342807057018,
          -0.999912799497203,
          -0.9998842972817451,
          -0.9998464795933361,
          -0.9997963023691455,
          -0.9997297272365864,
          -0.9996413970474411,
          -0.9995242057705604,
          -0.999368728529705,
          -0.9991624666311112,
          -0.9988888480897063,
          -0.9985259054625207,
          -0.9980445285481079,
          -0.9974061583209597,
          -0.9965597488095614,
          -0.9954377740103706,
          -0.9939509963249229,
          -0.9919816416460111,
          -0.989374547118292,
          -0.9859257692708713,
          -0.9813680813098666,
          -0.9753527852312549,
          -0.9674273828633239,
          -0.9570090018249322,
          -0.9433542359113937,
          -0.9255274962065272,
          -0.9023724178465217,
          -0.8724946682797368,
          -0.8342697721569995,
          -0.7858957075716457,
          -0.7255149093946937,
          -0.651429357642829,
          -0.5624185091066976,
          -0.4581359410027759,
          -0.3395071407363771,
          -0.20899595543422458,
          -0.07058947277927188,
          0.070589472779271,
          0.20899595543422372,
          0.3395071407363763,
          0.4581359410027759,
          0.562418509106697,
          0.651429357642829,
          0.7255149093946932,
          0.7858957075716457,
          0.8342697721569995,
          0.8724946682797365,
          0.9023724178465214,
          0.9255274962065272,
          0.9433542359113937,
          0.9570090018249321,
          0.9674273828633239,
          0.9753527852312549,
          0.9813680813098666,
          0.9859257692708713,
          0.989374547118292,
          0.9919816416460111,
          0.9939509963249229,
          0.9954377740103706,
          0.9965597488095614,
          0.9974061583209597,
          0.9980445285481079,
          0.9985259054625207,
          0.9988888480897063,
          0.9991624666311112,
          0.999368728529705,
          0.9995242057705604,
          0.9996413970474411,
          0.9997297272365864,
          0.9997963023691455,
          0.9998464795933361,
          0.9998842972817451,
          0.999912799497203,
          0.9999342807057018,
          0.9999504703060593,
          0.9999626717584847,
          0.9999718674716198,
          0.9999787978692679,
          0.9999840209895904,
          0.9999879574080253,
          0.9999909240968349,
          0.9999931599452729,
          0.9999948449939436,
          0.9999961149313877,
          0.9999970720197813,
          0.9999977933292803,
          0.9999983369439447
         ]
        },
        {
         "line": {
          "color": "#FDAB9F"
         },
         "mode": "lines",
         "name": "tanh derivative",
         "type": "scatter",
         "x": [
          -7,
          -6.858585858585859,
          -6.717171717171717,
          -6.575757575757576,
          -6.434343434343434,
          -6.292929292929293,
          -6.151515151515151,
          -6.01010101010101,
          -5.8686868686868685,
          -5.7272727272727275,
          -5.585858585858586,
          -5.444444444444445,
          -5.303030303030303,
          -5.161616161616162,
          -5.020202020202021,
          -4.878787878787879,
          -4.737373737373737,
          -4.595959595959596,
          -4.454545454545455,
          -4.313131313131313,
          -4.171717171717171,
          -4.03030303030303,
          -3.888888888888889,
          -3.7474747474747474,
          -3.6060606060606064,
          -3.464646464646465,
          -3.3232323232323235,
          -3.181818181818182,
          -3.0404040404040407,
          -2.898989898989899,
          -2.757575757575758,
          -2.616161616161616,
          -2.474747474747475,
          -2.333333333333334,
          -2.191919191919192,
          -2.050505050505051,
          -1.9090909090909092,
          -1.7676767676767682,
          -1.6262626262626263,
          -1.4848484848484853,
          -1.3434343434343434,
          -1.2020202020202024,
          -1.0606060606060606,
          -0.9191919191919196,
          -0.7777777777777777,
          -0.6363636363636367,
          -0.4949494949494948,
          -0.3535353535353538,
          -0.21212121212121282,
          -0.07070707070707094,
          0.07070707070707005,
          0.21212121212121193,
          0.3535353535353529,
          0.4949494949494948,
          0.6363636363636358,
          0.7777777777777777,
          0.9191919191919187,
          1.0606060606060606,
          1.2020202020202024,
          1.3434343434343425,
          1.4848484848484844,
          1.6262626262626263,
          1.7676767676767682,
          1.9090909090909083,
          2.05050505050505,
          2.191919191919192,
          2.333333333333332,
          2.474747474747474,
          2.616161616161616,
          2.757575757575758,
          2.898989898989898,
          3.0404040404040398,
          3.1818181818181817,
          3.3232323232323235,
          3.4646464646464636,
          3.6060606060606055,
          3.7474747474747474,
          3.8888888888888893,
          4.030303030303029,
          4.171717171717171,
          4.313131313131313,
          4.454545454545453,
          4.595959595959595,
          4.737373737373737,
          4.878787878787879,
          5.020202020202019,
          5.161616161616161,
          5.303030303030303,
          5.444444444444445,
          5.585858585858585,
          5.727272727272727,
          5.8686868686868685,
          6.01010101010101,
          6.1515151515151505,
          6.292929292929292,
          6.434343434343434,
          6.575757575757574,
          6.717171717171716,
          6.858585858585858,
          7
         ],
         "y": [
          0.0000033261093448366807,
          0.0000044133365699750016,
          0.000005855951864419673,
          0.000007770122130823509,
          0.000010309985538636823,
          0.000013680062667775772,
          0.00001815172395824849,
          0.000024085038925480973,
          0.00003195776549047569,
          0.000042403811933877655,
          0.000056264265321237517,
          0.00007465508963289125,
          0.000099056934690811,
          0.00013143426957074045,
          0.00017439340166625072,
          0.0002313920493908217,
          0.00030701724481263515,
          0.0004073537689841533,
          0.0005404724794606519,
          0.0007170773090401372,
          0.0009513620787303667,
          0.0012621444369207424,
          0.0016743652756335825,
          0.0022210691620195844,
          0.0029460161202531365,
          0.003907119035185036,
          0.005180955343424665,
          0.006868667052623789,
          0.009103638073278408,
          0.01206141690469309,
          0.015972422637284822,
          0.021138005514474645,
          0.027950377487640732,
          0.03691668898619094,
          0.048686944341633565,
          0.06408425888621982,
          0.08413377042604686,
          0.11008278558803064,
          0.14339885376567685,
          0.18572401950982254,
          0.23875305382343215,
          0.3039939472651082,
          0.38236793682046233,
          0.4736281162460094,
          0.5756397920010512,
          0.6836854206141996,
          0.7901114595615011,
          0.8847349013890098,
          0.9563206906121356,
          0.9950171263327444,
          0.9950171263327445,
          0.956320690612136,
          0.8847349013890105,
          0.7901114595615011,
          0.6836854206142002,
          0.5756397920010512,
          0.4736281162460101,
          0.38236793682046233,
          0.3039939472651082,
          0.23875305382343248,
          0.18572401950982287,
          0.14339885376567685,
          0.11008278558803064,
          0.08413377042604708,
          0.06408425888621982,
          0.048686944341633565,
          0.03691668898619094,
          0.027950377487640732,
          0.021138005514474645,
          0.015972422637284822,
          0.01206141690469309,
          0.009103638073278408,
          0.006868667052623789,
          0.005180955343424665,
          0.003907119035185036,
          0.0029460161202531365,
          0.0022210691620195844,
          0.0016743652756335825,
          0.0012621444369207424,
          0.0009513620787303667,
          0.0007170773090401372,
          0.0005404724794606519,
          0.0004073537689841533,
          0.00030701724481263515,
          0.0002313920493908217,
          0.00017439340166625072,
          0.00013143426957074045,
          0.000099056934690811,
          0.00007465508963289125,
          0.000056264265321237517,
          0.000042403811933877655,
          0.00003195776549047569,
          0.000024085038925480973,
          0.00001815172395824849,
          0.000013680062667775772,
          0.000010309985538636823,
          0.000007770122130823509,
          0.000005855951864419673,
          0.0000044133365699750016,
          0.0000033261093448366807
         ]
        }
       ],
       "layout": {
        "showlegend": true,
        "template": {
         "data": {
          "bar": [
           {
            "error_x": {
             "color": "#2a3f5f"
            },
            "error_y": {
             "color": "#2a3f5f"
            },
            "marker": {
             "line": {
              "color": "#E5ECF6",
              "width": 0.5
             },
             "pattern": {
              "fillmode": "overlay",
              "size": 10,
              "solidity": 0.2
             }
            },
            "type": "bar"
           }
          ],
          "barpolar": [
           {
            "marker": {
             "line": {
              "color": "#E5ECF6",
              "width": 0.5
             },
             "pattern": {
              "fillmode": "overlay",
              "size": 10,
              "solidity": 0.2
             }
            },
            "type": "barpolar"
           }
          ],
          "carpet": [
           {
            "aaxis": {
             "endlinecolor": "#2a3f5f",
             "gridcolor": "white",
             "linecolor": "white",
             "minorgridcolor": "white",
             "startlinecolor": "#2a3f5f"
            },
            "baxis": {
             "endlinecolor": "#2a3f5f",
             "gridcolor": "white",
             "linecolor": "white",
             "minorgridcolor": "white",
             "startlinecolor": "#2a3f5f"
            },
            "type": "carpet"
           }
          ],
          "choropleth": [
           {
            "colorbar": {
             "outlinewidth": 0,
             "ticks": ""
            },
            "type": "choropleth"
           }
          ],
          "contour": [
           {
            "colorbar": {
             "outlinewidth": 0,
             "ticks": ""
            },
            "colorscale": [
             [
              0,
              "#0d0887"
             ],
             [
              0.1111111111111111,
              "#46039f"
             ],
             [
              0.2222222222222222,
              "#7201a8"
             ],
             [
              0.3333333333333333,
              "#9c179e"
             ],
             [
              0.4444444444444444,
              "#bd3786"
             ],
             [
              0.5555555555555556,
              "#d8576b"
             ],
             [
              0.6666666666666666,
              "#ed7953"
             ],
             [
              0.7777777777777778,
              "#fb9f3a"
             ],
             [
              0.8888888888888888,
              "#fdca26"
             ],
             [
              1,
              "#f0f921"
             ]
            ],
            "type": "contour"
           }
          ],
          "contourcarpet": [
           {
            "colorbar": {
             "outlinewidth": 0,
             "ticks": ""
            },
            "type": "contourcarpet"
           }
          ],
          "heatmap": [
           {
            "colorbar": {
             "outlinewidth": 0,
             "ticks": ""
            },
            "colorscale": [
             [
              0,
              "#0d0887"
             ],
             [
              0.1111111111111111,
              "#46039f"
             ],
             [
              0.2222222222222222,
              "#7201a8"
             ],
             [
              0.3333333333333333,
              "#9c179e"
             ],
             [
              0.4444444444444444,
              "#bd3786"
             ],
             [
              0.5555555555555556,
              "#d8576b"
             ],
             [
              0.6666666666666666,
              "#ed7953"
             ],
             [
              0.7777777777777778,
              "#fb9f3a"
             ],
             [
              0.8888888888888888,
              "#fdca26"
             ],
             [
              1,
              "#f0f921"
             ]
            ],
            "type": "heatmap"
           }
          ],
          "heatmapgl": [
           {
            "colorbar": {
             "outlinewidth": 0,
             "ticks": ""
            },
            "colorscale": [
             [
              0,
              "#0d0887"
             ],
             [
              0.1111111111111111,
              "#46039f"
             ],
             [
              0.2222222222222222,
              "#7201a8"
             ],
             [
              0.3333333333333333,
              "#9c179e"
             ],
             [
              0.4444444444444444,
              "#bd3786"
             ],
             [
              0.5555555555555556,
              "#d8576b"
             ],
             [
              0.6666666666666666,
              "#ed7953"
             ],
             [
              0.7777777777777778,
              "#fb9f3a"
             ],
             [
              0.8888888888888888,
              "#fdca26"
             ],
             [
              1,
              "#f0f921"
             ]
            ],
            "type": "heatmapgl"
           }
          ],
          "histogram": [
           {
            "marker": {
             "pattern": {
              "fillmode": "overlay",
              "size": 10,
              "solidity": 0.2
             }
            },
            "type": "histogram"
           }
          ],
          "histogram2d": [
           {
            "colorbar": {
             "outlinewidth": 0,
             "ticks": ""
            },
            "colorscale": [
             [
              0,
              "#0d0887"
             ],
             [
              0.1111111111111111,
              "#46039f"
             ],
             [
              0.2222222222222222,
              "#7201a8"
             ],
             [
              0.3333333333333333,
              "#9c179e"
             ],
             [
              0.4444444444444444,
              "#bd3786"
             ],
             [
              0.5555555555555556,
              "#d8576b"
             ],
             [
              0.6666666666666666,
              "#ed7953"
             ],
             [
              0.7777777777777778,
              "#fb9f3a"
             ],
             [
              0.8888888888888888,
              "#fdca26"
             ],
             [
              1,
              "#f0f921"
             ]
            ],
            "type": "histogram2d"
           }
          ],
          "histogram2dcontour": [
           {
            "colorbar": {
             "outlinewidth": 0,
             "ticks": ""
            },
            "colorscale": [
             [
              0,
              "#0d0887"
             ],
             [
              0.1111111111111111,
              "#46039f"
             ],
             [
              0.2222222222222222,
              "#7201a8"
             ],
             [
              0.3333333333333333,
              "#9c179e"
             ],
             [
              0.4444444444444444,
              "#bd3786"
             ],
             [
              0.5555555555555556,
              "#d8576b"
             ],
             [
              0.6666666666666666,
              "#ed7953"
             ],
             [
              0.7777777777777778,
              "#fb9f3a"
             ],
             [
              0.8888888888888888,
              "#fdca26"
             ],
             [
              1,
              "#f0f921"
             ]
            ],
            "type": "histogram2dcontour"
           }
          ],
          "mesh3d": [
           {
            "colorbar": {
             "outlinewidth": 0,
             "ticks": ""
            },
            "type": "mesh3d"
           }
          ],
          "parcoords": [
           {
            "line": {
             "colorbar": {
              "outlinewidth": 0,
              "ticks": ""
             }
            },
            "type": "parcoords"
           }
          ],
          "pie": [
           {
            "automargin": true,
            "type": "pie"
           }
          ],
          "scatter": [
           {
            "fillpattern": {
             "fillmode": "overlay",
             "size": 10,
             "solidity": 0.2
            },
            "type": "scatter"
           }
          ],
          "scatter3d": [
           {
            "line": {
             "colorbar": {
              "outlinewidth": 0,
              "ticks": ""
             }
            },
            "marker": {
             "colorbar": {
              "outlinewidth": 0,
              "ticks": ""
             }
            },
            "type": "scatter3d"
           }
          ],
          "scattercarpet": [
           {
            "marker": {
             "colorbar": {
              "outlinewidth": 0,
              "ticks": ""
             }
            },
            "type": "scattercarpet"
           }
          ],
          "scattergeo": [
           {
            "marker": {
             "colorbar": {
              "outlinewidth": 0,
              "ticks": ""
             }
            },
            "type": "scattergeo"
           }
          ],
          "scattergl": [
           {
            "marker": {
             "colorbar": {
              "outlinewidth": 0,
              "ticks": ""
             }
            },
            "type": "scattergl"
           }
          ],
          "scattermapbox": [
           {
            "marker": {
             "colorbar": {
              "outlinewidth": 0,
              "ticks": ""
             }
            },
            "type": "scattermapbox"
           }
          ],
          "scatterpolar": [
           {
            "marker": {
             "colorbar": {
              "outlinewidth": 0,
              "ticks": ""
             }
            },
            "type": "scatterpolar"
           }
          ],
          "scatterpolargl": [
           {
            "marker": {
             "colorbar": {
              "outlinewidth": 0,
              "ticks": ""
             }
            },
            "type": "scatterpolargl"
           }
          ],
          "scatterternary": [
           {
            "marker": {
             "colorbar": {
              "outlinewidth": 0,
              "ticks": ""
             }
            },
            "type": "scatterternary"
           }
          ],
          "surface": [
           {
            "colorbar": {
             "outlinewidth": 0,
             "ticks": ""
            },
            "colorscale": [
             [
              0,
              "#0d0887"
             ],
             [
              0.1111111111111111,
              "#46039f"
             ],
             [
              0.2222222222222222,
              "#7201a8"
             ],
             [
              0.3333333333333333,
              "#9c179e"
             ],
             [
              0.4444444444444444,
              "#bd3786"
             ],
             [
              0.5555555555555556,
              "#d8576b"
             ],
             [
              0.6666666666666666,
              "#ed7953"
             ],
             [
              0.7777777777777778,
              "#fb9f3a"
             ],
             [
              0.8888888888888888,
              "#fdca26"
             ],
             [
              1,
              "#f0f921"
             ]
            ],
            "type": "surface"
           }
          ],
          "table": [
           {
            "cells": {
             "fill": {
              "color": "#EBF0F8"
             },
             "line": {
              "color": "white"
             }
            },
            "header": {
             "fill": {
              "color": "#C8D4E3"
             },
             "line": {
              "color": "white"
             }
            },
            "type": "table"
           }
          ]
         },
         "layout": {
          "annotationdefaults": {
           "arrowcolor": "#2a3f5f",
           "arrowhead": 0,
           "arrowwidth": 1
          },
          "autotypenumbers": "strict",
          "coloraxis": {
           "colorbar": {
            "outlinewidth": 0,
            "ticks": ""
           }
          },
          "colorscale": {
           "diverging": [
            [
             0,
             "#8e0152"
            ],
            [
             0.1,
             "#c51b7d"
            ],
            [
             0.2,
             "#de77ae"
            ],
            [
             0.3,
             "#f1b6da"
            ],
            [
             0.4,
             "#fde0ef"
            ],
            [
             0.5,
             "#f7f7f7"
            ],
            [
             0.6,
             "#e6f5d0"
            ],
            [
             0.7,
             "#b8e186"
            ],
            [
             0.8,
             "#7fbc41"
            ],
            [
             0.9,
             "#4d9221"
            ],
            [
             1,
             "#276419"
            ]
           ],
           "sequential": [
            [
             0,
             "#0d0887"
            ],
            [
             0.1111111111111111,
             "#46039f"
            ],
            [
             0.2222222222222222,
             "#7201a8"
            ],
            [
             0.3333333333333333,
             "#9c179e"
            ],
            [
             0.4444444444444444,
             "#bd3786"
            ],
            [
             0.5555555555555556,
             "#d8576b"
            ],
            [
             0.6666666666666666,
             "#ed7953"
            ],
            [
             0.7777777777777778,
             "#fb9f3a"
            ],
            [
             0.8888888888888888,
             "#fdca26"
            ],
            [
             1,
             "#f0f921"
            ]
           ],
           "sequentialminus": [
            [
             0,
             "#0d0887"
            ],
            [
             0.1111111111111111,
             "#46039f"
            ],
            [
             0.2222222222222222,
             "#7201a8"
            ],
            [
             0.3333333333333333,
             "#9c179e"
            ],
            [
             0.4444444444444444,
             "#bd3786"
            ],
            [
             0.5555555555555556,
             "#d8576b"
            ],
            [
             0.6666666666666666,
             "#ed7953"
            ],
            [
             0.7777777777777778,
             "#fb9f3a"
            ],
            [
             0.8888888888888888,
             "#fdca26"
            ],
            [
             1,
             "#f0f921"
            ]
           ]
          },
          "colorway": [
           "#636efa",
           "#EF553B",
           "#00cc96",
           "#ab63fa",
           "#FFA15A",
           "#19d3f3",
           "#FF6692",
           "#B6E880",
           "#FF97FF",
           "#FECB52"
          ],
          "font": {
           "color": "#2a3f5f"
          },
          "geo": {
           "bgcolor": "white",
           "lakecolor": "white",
           "landcolor": "#E5ECF6",
           "showlakes": true,
           "showland": true,
           "subunitcolor": "white"
          },
          "hoverlabel": {
           "align": "left"
          },
          "hovermode": "closest",
          "mapbox": {
           "style": "light"
          },
          "paper_bgcolor": "white",
          "plot_bgcolor": "#E5ECF6",
          "polar": {
           "angularaxis": {
            "gridcolor": "white",
            "linecolor": "white",
            "ticks": ""
           },
           "bgcolor": "#E5ECF6",
           "radialaxis": {
            "gridcolor": "white",
            "linecolor": "white",
            "ticks": ""
           }
          },
          "scene": {
           "xaxis": {
            "backgroundcolor": "#E5ECF6",
            "gridcolor": "white",
            "gridwidth": 2,
            "linecolor": "white",
            "showbackground": true,
            "ticks": "",
            "zerolinecolor": "white"
           },
           "yaxis": {
            "backgroundcolor": "#E5ECF6",
            "gridcolor": "white",
            "gridwidth": 2,
            "linecolor": "white",
            "showbackground": true,
            "ticks": "",
            "zerolinecolor": "white"
           },
           "zaxis": {
            "backgroundcolor": "#E5ECF6",
            "gridcolor": "white",
            "gridwidth": 2,
            "linecolor": "white",
            "showbackground": true,
            "ticks": "",
            "zerolinecolor": "white"
           }
          },
          "shapedefaults": {
           "line": {
            "color": "#2a3f5f"
           }
          },
          "ternary": {
           "aaxis": {
            "gridcolor": "white",
            "linecolor": "white",
            "ticks": ""
           },
           "baxis": {
            "gridcolor": "white",
            "linecolor": "white",
            "ticks": ""
           },
           "bgcolor": "#E5ECF6",
           "caxis": {
            "gridcolor": "white",
            "linecolor": "white",
            "ticks": ""
           }
          },
          "title": {
           "x": 0.05
          },
          "xaxis": {
           "automargin": true,
           "gridcolor": "white",
           "linecolor": "white",
           "ticks": "",
           "title": {
            "standoff": 15
           },
           "zerolinecolor": "white",
           "zerolinewidth": 2
          },
          "yaxis": {
           "automargin": true,
           "gridcolor": "white",
           "linecolor": "white",
           "ticks": "",
           "title": {
            "standoff": 15
           },
           "zerolinecolor": "white",
           "zerolinewidth": 2
          }
         }
        },
        "title": {
         "text": "Hyperbolic tangent function"
        },
        "xaxis": {
         "title": {
          "text": "x"
         }
        },
        "yaxis": {
         "title": {
          "text": "tanh(x)"
         }
        }
       }
      }
     },
     "metadata": {},
     "output_type": "display_data"
    }
   ],
   "source": [
    "import numpy as np\n",
    "import plotly.graph_objects as go\n",
    "\n",
    "def tanh(x):\n",
    "    return np.tanh(x)\n",
    "\n",
    "def tanh_derivative(x):\n",
    "    return 1.0 - tanh(x)**2\n",
    "\n",
    "x = np.linspace(-7, 7, 100)\n",
    "tanh_values = tanh(x)\n",
    "tanh_derivative_values = tanh_derivative(x)\n",
    "fig = go.Figure()\n",
    "fig.add_trace(go.Scatter(x=x, y=tanh_values, mode='lines', name='tanh'))\n",
    "fig.add_trace(go.Scatter(x=x, y=tanh_derivative_values, mode='lines', name='tanh derivative', line=dict(color='#FDAB9F')))\n",
    "fig.update_layout(\n",
    "    title='Hyperbolic tangent function',\n",
    "    xaxis=dict(title='x'),\n",
    "    yaxis=dict(title='tanh(x)'),\n",
    "    showlegend=True\n",
    ")\n",
    "fig.show()\n"
   ]
  },
  {
   "cell_type": "markdown",
   "id": "9be6b5ab",
   "metadata": {},
   "source": [
    "### ReLU function"
   ]
  },
  {
   "cell_type": "code",
   "execution_count": 5,
   "id": "1478c11f",
   "metadata": {},
   "outputs": [
    {
     "data": {
      "application/vnd.plotly.v1+json": {
       "config": {
        "plotlyServerURL": "https://plot.ly"
       },
       "data": [
        {
         "mode": "lines",
         "name": "ReLU function",
         "type": "scatter",
         "x": [
          -3,
          -2.9393939393939394,
          -2.878787878787879,
          -2.8181818181818183,
          -2.757575757575758,
          -2.696969696969697,
          -2.6363636363636362,
          -2.5757575757575757,
          -2.515151515151515,
          -2.4545454545454546,
          -2.393939393939394,
          -2.333333333333333,
          -2.2727272727272725,
          -2.212121212121212,
          -2.1515151515151514,
          -2.090909090909091,
          -2.0303030303030303,
          -1.9696969696969697,
          -1.9090909090909092,
          -1.8484848484848484,
          -1.7878787878787878,
          -1.7272727272727273,
          -1.6666666666666665,
          -1.606060606060606,
          -1.5454545454545454,
          -1.4848484848484849,
          -1.4242424242424243,
          -1.3636363636363635,
          -1.303030303030303,
          -1.2424242424242424,
          -1.1818181818181817,
          -1.121212121212121,
          -1.0606060606060606,
          -1,
          -0.9393939393939394,
          -0.8787878787878789,
          -0.8181818181818183,
          -0.7575757575757573,
          -0.6969696969696968,
          -0.6363636363636362,
          -0.5757575757575757,
          -0.5151515151515151,
          -0.4545454545454546,
          -0.39393939393939403,
          -0.33333333333333304,
          -0.2727272727272725,
          -0.21212121212121193,
          -0.15151515151515138,
          -0.09090909090909083,
          -0.030303030303030276,
          0.030303030303030276,
          0.09090909090909083,
          0.15151515151515138,
          0.21212121212121238,
          0.27272727272727293,
          0.3333333333333335,
          0.39393939393939403,
          0.4545454545454546,
          0.5151515151515151,
          0.5757575757575757,
          0.6363636363636367,
          0.6969696969696972,
          0.7575757575757578,
          0.8181818181818183,
          0.8787878787878789,
          0.9393939393939394,
          1,
          1.0606060606060606,
          1.121212121212121,
          1.1818181818181817,
          1.2424242424242422,
          1.3030303030303028,
          1.3636363636363633,
          1.4242424242424248,
          1.4848484848484853,
          1.5454545454545459,
          1.6060606060606064,
          1.666666666666667,
          1.7272727272727275,
          1.787878787878788,
          1.8484848484848486,
          1.9090909090909092,
          1.9696969696969697,
          2.0303030303030303,
          2.090909090909091,
          2.1515151515151514,
          2.212121212121212,
          2.2727272727272725,
          2.333333333333334,
          2.3939393939393945,
          2.454545454545455,
          2.5151515151515156,
          2.575757575757576,
          2.6363636363636367,
          2.6969696969696972,
          2.757575757575758,
          2.8181818181818183,
          2.878787878787879,
          2.9393939393939394,
          3
         ],
         "y": [
          0,
          0,
          0,
          0,
          0,
          0,
          0,
          0,
          0,
          0,
          0,
          0,
          0,
          0,
          0,
          0,
          0,
          0,
          0,
          0,
          0,
          0,
          0,
          0,
          0,
          0,
          0,
          0,
          0,
          0,
          0,
          0,
          0,
          0,
          0,
          0,
          0,
          0,
          0,
          0,
          0,
          0,
          0,
          0,
          0,
          0,
          0,
          0,
          0,
          0,
          0.030303030303030276,
          0.09090909090909083,
          0.15151515151515138,
          0.21212121212121238,
          0.27272727272727293,
          0.3333333333333335,
          0.39393939393939403,
          0.4545454545454546,
          0.5151515151515151,
          0.5757575757575757,
          0.6363636363636367,
          0.6969696969696972,
          0.7575757575757578,
          0.8181818181818183,
          0.8787878787878789,
          0.9393939393939394,
          1,
          1.0606060606060606,
          1.121212121212121,
          1.1818181818181817,
          1.2424242424242422,
          1.3030303030303028,
          1.3636363636363633,
          1.4242424242424248,
          1.4848484848484853,
          1.5454545454545459,
          1.6060606060606064,
          1.666666666666667,
          1.7272727272727275,
          1.787878787878788,
          1.8484848484848486,
          1.9090909090909092,
          1.9696969696969697,
          2.0303030303030303,
          2.090909090909091,
          2.1515151515151514,
          2.212121212121212,
          2.2727272727272725,
          2.333333333333334,
          2.3939393939393945,
          2.454545454545455,
          2.5151515151515156,
          2.575757575757576,
          2.6363636363636367,
          2.6969696969696972,
          2.757575757575758,
          2.8181818181818183,
          2.878787878787879,
          2.9393939393939394,
          3
         ]
        },
        {
         "line": {
          "color": "#FDAB9F"
         },
         "mode": "lines",
         "name": "ReLU derivative",
         "type": "scatter",
         "x": [
          -3,
          -2.9393939393939394,
          -2.878787878787879,
          -2.8181818181818183,
          -2.757575757575758,
          -2.696969696969697,
          -2.6363636363636362,
          -2.5757575757575757,
          -2.515151515151515,
          -2.4545454545454546,
          -2.393939393939394,
          -2.333333333333333,
          -2.2727272727272725,
          -2.212121212121212,
          -2.1515151515151514,
          -2.090909090909091,
          -2.0303030303030303,
          -1.9696969696969697,
          -1.9090909090909092,
          -1.8484848484848484,
          -1.7878787878787878,
          -1.7272727272727273,
          -1.6666666666666665,
          -1.606060606060606,
          -1.5454545454545454,
          -1.4848484848484849,
          -1.4242424242424243,
          -1.3636363636363635,
          -1.303030303030303,
          -1.2424242424242424,
          -1.1818181818181817,
          -1.121212121212121,
          -1.0606060606060606,
          -1,
          -0.9393939393939394,
          -0.8787878787878789,
          -0.8181818181818183,
          -0.7575757575757573,
          -0.6969696969696968,
          -0.6363636363636362,
          -0.5757575757575757,
          -0.5151515151515151,
          -0.4545454545454546,
          -0.39393939393939403,
          -0.33333333333333304,
          -0.2727272727272725,
          -0.21212121212121193,
          -0.15151515151515138,
          -0.09090909090909083,
          -0.030303030303030276,
          0.030303030303030276,
          0.09090909090909083,
          0.15151515151515138,
          0.21212121212121238,
          0.27272727272727293,
          0.3333333333333335,
          0.39393939393939403,
          0.4545454545454546,
          0.5151515151515151,
          0.5757575757575757,
          0.6363636363636367,
          0.6969696969696972,
          0.7575757575757578,
          0.8181818181818183,
          0.8787878787878789,
          0.9393939393939394,
          1,
          1.0606060606060606,
          1.121212121212121,
          1.1818181818181817,
          1.2424242424242422,
          1.3030303030303028,
          1.3636363636363633,
          1.4242424242424248,
          1.4848484848484853,
          1.5454545454545459,
          1.6060606060606064,
          1.666666666666667,
          1.7272727272727275,
          1.787878787878788,
          1.8484848484848486,
          1.9090909090909092,
          1.9696969696969697,
          2.0303030303030303,
          2.090909090909091,
          2.1515151515151514,
          2.212121212121212,
          2.2727272727272725,
          2.333333333333334,
          2.3939393939393945,
          2.454545454545455,
          2.5151515151515156,
          2.575757575757576,
          2.6363636363636367,
          2.6969696969696972,
          2.757575757575758,
          2.8181818181818183,
          2.878787878787879,
          2.9393939393939394,
          3
         ],
         "y": [
          0,
          0,
          0,
          0,
          0,
          0,
          0,
          0,
          0,
          0,
          0,
          0,
          0,
          0,
          0,
          0,
          0,
          0,
          0,
          0,
          0,
          0,
          0,
          0,
          0,
          0,
          0,
          0,
          0,
          0,
          0,
          0,
          0,
          0,
          0,
          0,
          0,
          0,
          0,
          0,
          0,
          0,
          0,
          0,
          0,
          0,
          0,
          0,
          0,
          0,
          1,
          1,
          1,
          1,
          1,
          1,
          1,
          1,
          1,
          1,
          1,
          1,
          1,
          1,
          1,
          1,
          1,
          1,
          1,
          1,
          1,
          1,
          1,
          1,
          1,
          1,
          1,
          1,
          1,
          1,
          1,
          1,
          1,
          1,
          1,
          1,
          1,
          1,
          1,
          1,
          1,
          1,
          1,
          1,
          1,
          1,
          1,
          1,
          1,
          1
         ]
        }
       ],
       "layout": {
        "showlegend": true,
        "template": {
         "data": {
          "bar": [
           {
            "error_x": {
             "color": "#2a3f5f"
            },
            "error_y": {
             "color": "#2a3f5f"
            },
            "marker": {
             "line": {
              "color": "#E5ECF6",
              "width": 0.5
             },
             "pattern": {
              "fillmode": "overlay",
              "size": 10,
              "solidity": 0.2
             }
            },
            "type": "bar"
           }
          ],
          "barpolar": [
           {
            "marker": {
             "line": {
              "color": "#E5ECF6",
              "width": 0.5
             },
             "pattern": {
              "fillmode": "overlay",
              "size": 10,
              "solidity": 0.2
             }
            },
            "type": "barpolar"
           }
          ],
          "carpet": [
           {
            "aaxis": {
             "endlinecolor": "#2a3f5f",
             "gridcolor": "white",
             "linecolor": "white",
             "minorgridcolor": "white",
             "startlinecolor": "#2a3f5f"
            },
            "baxis": {
             "endlinecolor": "#2a3f5f",
             "gridcolor": "white",
             "linecolor": "white",
             "minorgridcolor": "white",
             "startlinecolor": "#2a3f5f"
            },
            "type": "carpet"
           }
          ],
          "choropleth": [
           {
            "colorbar": {
             "outlinewidth": 0,
             "ticks": ""
            },
            "type": "choropleth"
           }
          ],
          "contour": [
           {
            "colorbar": {
             "outlinewidth": 0,
             "ticks": ""
            },
            "colorscale": [
             [
              0,
              "#0d0887"
             ],
             [
              0.1111111111111111,
              "#46039f"
             ],
             [
              0.2222222222222222,
              "#7201a8"
             ],
             [
              0.3333333333333333,
              "#9c179e"
             ],
             [
              0.4444444444444444,
              "#bd3786"
             ],
             [
              0.5555555555555556,
              "#d8576b"
             ],
             [
              0.6666666666666666,
              "#ed7953"
             ],
             [
              0.7777777777777778,
              "#fb9f3a"
             ],
             [
              0.8888888888888888,
              "#fdca26"
             ],
             [
              1,
              "#f0f921"
             ]
            ],
            "type": "contour"
           }
          ],
          "contourcarpet": [
           {
            "colorbar": {
             "outlinewidth": 0,
             "ticks": ""
            },
            "type": "contourcarpet"
           }
          ],
          "heatmap": [
           {
            "colorbar": {
             "outlinewidth": 0,
             "ticks": ""
            },
            "colorscale": [
             [
              0,
              "#0d0887"
             ],
             [
              0.1111111111111111,
              "#46039f"
             ],
             [
              0.2222222222222222,
              "#7201a8"
             ],
             [
              0.3333333333333333,
              "#9c179e"
             ],
             [
              0.4444444444444444,
              "#bd3786"
             ],
             [
              0.5555555555555556,
              "#d8576b"
             ],
             [
              0.6666666666666666,
              "#ed7953"
             ],
             [
              0.7777777777777778,
              "#fb9f3a"
             ],
             [
              0.8888888888888888,
              "#fdca26"
             ],
             [
              1,
              "#f0f921"
             ]
            ],
            "type": "heatmap"
           }
          ],
          "heatmapgl": [
           {
            "colorbar": {
             "outlinewidth": 0,
             "ticks": ""
            },
            "colorscale": [
             [
              0,
              "#0d0887"
             ],
             [
              0.1111111111111111,
              "#46039f"
             ],
             [
              0.2222222222222222,
              "#7201a8"
             ],
             [
              0.3333333333333333,
              "#9c179e"
             ],
             [
              0.4444444444444444,
              "#bd3786"
             ],
             [
              0.5555555555555556,
              "#d8576b"
             ],
             [
              0.6666666666666666,
              "#ed7953"
             ],
             [
              0.7777777777777778,
              "#fb9f3a"
             ],
             [
              0.8888888888888888,
              "#fdca26"
             ],
             [
              1,
              "#f0f921"
             ]
            ],
            "type": "heatmapgl"
           }
          ],
          "histogram": [
           {
            "marker": {
             "pattern": {
              "fillmode": "overlay",
              "size": 10,
              "solidity": 0.2
             }
            },
            "type": "histogram"
           }
          ],
          "histogram2d": [
           {
            "colorbar": {
             "outlinewidth": 0,
             "ticks": ""
            },
            "colorscale": [
             [
              0,
              "#0d0887"
             ],
             [
              0.1111111111111111,
              "#46039f"
             ],
             [
              0.2222222222222222,
              "#7201a8"
             ],
             [
              0.3333333333333333,
              "#9c179e"
             ],
             [
              0.4444444444444444,
              "#bd3786"
             ],
             [
              0.5555555555555556,
              "#d8576b"
             ],
             [
              0.6666666666666666,
              "#ed7953"
             ],
             [
              0.7777777777777778,
              "#fb9f3a"
             ],
             [
              0.8888888888888888,
              "#fdca26"
             ],
             [
              1,
              "#f0f921"
             ]
            ],
            "type": "histogram2d"
           }
          ],
          "histogram2dcontour": [
           {
            "colorbar": {
             "outlinewidth": 0,
             "ticks": ""
            },
            "colorscale": [
             [
              0,
              "#0d0887"
             ],
             [
              0.1111111111111111,
              "#46039f"
             ],
             [
              0.2222222222222222,
              "#7201a8"
             ],
             [
              0.3333333333333333,
              "#9c179e"
             ],
             [
              0.4444444444444444,
              "#bd3786"
             ],
             [
              0.5555555555555556,
              "#d8576b"
             ],
             [
              0.6666666666666666,
              "#ed7953"
             ],
             [
              0.7777777777777778,
              "#fb9f3a"
             ],
             [
              0.8888888888888888,
              "#fdca26"
             ],
             [
              1,
              "#f0f921"
             ]
            ],
            "type": "histogram2dcontour"
           }
          ],
          "mesh3d": [
           {
            "colorbar": {
             "outlinewidth": 0,
             "ticks": ""
            },
            "type": "mesh3d"
           }
          ],
          "parcoords": [
           {
            "line": {
             "colorbar": {
              "outlinewidth": 0,
              "ticks": ""
             }
            },
            "type": "parcoords"
           }
          ],
          "pie": [
           {
            "automargin": true,
            "type": "pie"
           }
          ],
          "scatter": [
           {
            "fillpattern": {
             "fillmode": "overlay",
             "size": 10,
             "solidity": 0.2
            },
            "type": "scatter"
           }
          ],
          "scatter3d": [
           {
            "line": {
             "colorbar": {
              "outlinewidth": 0,
              "ticks": ""
             }
            },
            "marker": {
             "colorbar": {
              "outlinewidth": 0,
              "ticks": ""
             }
            },
            "type": "scatter3d"
           }
          ],
          "scattercarpet": [
           {
            "marker": {
             "colorbar": {
              "outlinewidth": 0,
              "ticks": ""
             }
            },
            "type": "scattercarpet"
           }
          ],
          "scattergeo": [
           {
            "marker": {
             "colorbar": {
              "outlinewidth": 0,
              "ticks": ""
             }
            },
            "type": "scattergeo"
           }
          ],
          "scattergl": [
           {
            "marker": {
             "colorbar": {
              "outlinewidth": 0,
              "ticks": ""
             }
            },
            "type": "scattergl"
           }
          ],
          "scattermapbox": [
           {
            "marker": {
             "colorbar": {
              "outlinewidth": 0,
              "ticks": ""
             }
            },
            "type": "scattermapbox"
           }
          ],
          "scatterpolar": [
           {
            "marker": {
             "colorbar": {
              "outlinewidth": 0,
              "ticks": ""
             }
            },
            "type": "scatterpolar"
           }
          ],
          "scatterpolargl": [
           {
            "marker": {
             "colorbar": {
              "outlinewidth": 0,
              "ticks": ""
             }
            },
            "type": "scatterpolargl"
           }
          ],
          "scatterternary": [
           {
            "marker": {
             "colorbar": {
              "outlinewidth": 0,
              "ticks": ""
             }
            },
            "type": "scatterternary"
           }
          ],
          "surface": [
           {
            "colorbar": {
             "outlinewidth": 0,
             "ticks": ""
            },
            "colorscale": [
             [
              0,
              "#0d0887"
             ],
             [
              0.1111111111111111,
              "#46039f"
             ],
             [
              0.2222222222222222,
              "#7201a8"
             ],
             [
              0.3333333333333333,
              "#9c179e"
             ],
             [
              0.4444444444444444,
              "#bd3786"
             ],
             [
              0.5555555555555556,
              "#d8576b"
             ],
             [
              0.6666666666666666,
              "#ed7953"
             ],
             [
              0.7777777777777778,
              "#fb9f3a"
             ],
             [
              0.8888888888888888,
              "#fdca26"
             ],
             [
              1,
              "#f0f921"
             ]
            ],
            "type": "surface"
           }
          ],
          "table": [
           {
            "cells": {
             "fill": {
              "color": "#EBF0F8"
             },
             "line": {
              "color": "white"
             }
            },
            "header": {
             "fill": {
              "color": "#C8D4E3"
             },
             "line": {
              "color": "white"
             }
            },
            "type": "table"
           }
          ]
         },
         "layout": {
          "annotationdefaults": {
           "arrowcolor": "#2a3f5f",
           "arrowhead": 0,
           "arrowwidth": 1
          },
          "autotypenumbers": "strict",
          "coloraxis": {
           "colorbar": {
            "outlinewidth": 0,
            "ticks": ""
           }
          },
          "colorscale": {
           "diverging": [
            [
             0,
             "#8e0152"
            ],
            [
             0.1,
             "#c51b7d"
            ],
            [
             0.2,
             "#de77ae"
            ],
            [
             0.3,
             "#f1b6da"
            ],
            [
             0.4,
             "#fde0ef"
            ],
            [
             0.5,
             "#f7f7f7"
            ],
            [
             0.6,
             "#e6f5d0"
            ],
            [
             0.7,
             "#b8e186"
            ],
            [
             0.8,
             "#7fbc41"
            ],
            [
             0.9,
             "#4d9221"
            ],
            [
             1,
             "#276419"
            ]
           ],
           "sequential": [
            [
             0,
             "#0d0887"
            ],
            [
             0.1111111111111111,
             "#46039f"
            ],
            [
             0.2222222222222222,
             "#7201a8"
            ],
            [
             0.3333333333333333,
             "#9c179e"
            ],
            [
             0.4444444444444444,
             "#bd3786"
            ],
            [
             0.5555555555555556,
             "#d8576b"
            ],
            [
             0.6666666666666666,
             "#ed7953"
            ],
            [
             0.7777777777777778,
             "#fb9f3a"
            ],
            [
             0.8888888888888888,
             "#fdca26"
            ],
            [
             1,
             "#f0f921"
            ]
           ],
           "sequentialminus": [
            [
             0,
             "#0d0887"
            ],
            [
             0.1111111111111111,
             "#46039f"
            ],
            [
             0.2222222222222222,
             "#7201a8"
            ],
            [
             0.3333333333333333,
             "#9c179e"
            ],
            [
             0.4444444444444444,
             "#bd3786"
            ],
            [
             0.5555555555555556,
             "#d8576b"
            ],
            [
             0.6666666666666666,
             "#ed7953"
            ],
            [
             0.7777777777777778,
             "#fb9f3a"
            ],
            [
             0.8888888888888888,
             "#fdca26"
            ],
            [
             1,
             "#f0f921"
            ]
           ]
          },
          "colorway": [
           "#636efa",
           "#EF553B",
           "#00cc96",
           "#ab63fa",
           "#FFA15A",
           "#19d3f3",
           "#FF6692",
           "#B6E880",
           "#FF97FF",
           "#FECB52"
          ],
          "font": {
           "color": "#2a3f5f"
          },
          "geo": {
           "bgcolor": "white",
           "lakecolor": "white",
           "landcolor": "#E5ECF6",
           "showlakes": true,
           "showland": true,
           "subunitcolor": "white"
          },
          "hoverlabel": {
           "align": "left"
          },
          "hovermode": "closest",
          "mapbox": {
           "style": "light"
          },
          "paper_bgcolor": "white",
          "plot_bgcolor": "#E5ECF6",
          "polar": {
           "angularaxis": {
            "gridcolor": "white",
            "linecolor": "white",
            "ticks": ""
           },
           "bgcolor": "#E5ECF6",
           "radialaxis": {
            "gridcolor": "white",
            "linecolor": "white",
            "ticks": ""
           }
          },
          "scene": {
           "xaxis": {
            "backgroundcolor": "#E5ECF6",
            "gridcolor": "white",
            "gridwidth": 2,
            "linecolor": "white",
            "showbackground": true,
            "ticks": "",
            "zerolinecolor": "white"
           },
           "yaxis": {
            "backgroundcolor": "#E5ECF6",
            "gridcolor": "white",
            "gridwidth": 2,
            "linecolor": "white",
            "showbackground": true,
            "ticks": "",
            "zerolinecolor": "white"
           },
           "zaxis": {
            "backgroundcolor": "#E5ECF6",
            "gridcolor": "white",
            "gridwidth": 2,
            "linecolor": "white",
            "showbackground": true,
            "ticks": "",
            "zerolinecolor": "white"
           }
          },
          "shapedefaults": {
           "line": {
            "color": "#2a3f5f"
           }
          },
          "ternary": {
           "aaxis": {
            "gridcolor": "white",
            "linecolor": "white",
            "ticks": ""
           },
           "baxis": {
            "gridcolor": "white",
            "linecolor": "white",
            "ticks": ""
           },
           "bgcolor": "#E5ECF6",
           "caxis": {
            "gridcolor": "white",
            "linecolor": "white",
            "ticks": ""
           }
          },
          "title": {
           "x": 0.05
          },
          "xaxis": {
           "automargin": true,
           "gridcolor": "white",
           "linecolor": "white",
           "ticks": "",
           "title": {
            "standoff": 15
           },
           "zerolinecolor": "white",
           "zerolinewidth": 2
          },
          "yaxis": {
           "automargin": true,
           "gridcolor": "white",
           "linecolor": "white",
           "ticks": "",
           "title": {
            "standoff": 15
           },
           "zerolinecolor": "white",
           "zerolinewidth": 2
          }
         }
        },
        "title": {
         "text": "Rectified linear unit (ReLU) function and derivative"
        },
        "xaxis": {
         "title": {
          "text": "x"
         }
        },
        "yaxis": {
         "title": {
          "text": "f(x)"
         }
        }
       }
      }
     },
     "metadata": {},
     "output_type": "display_data"
    }
   ],
   "source": [
    "import numpy as np\n",
    "import plotly.graph_objects as go\n",
    "\n",
    "def relu(x):\n",
    "    return np.maximum(0, x)\n",
    "\n",
    "def relu_derivative(x):\n",
    "    return np.where(x > 0, 1, 0)\n",
    "\n",
    "x = np.linspace(-3, 3, 100)\n",
    "relu_values = relu(x)\n",
    "relu_derivative_values = relu_derivative(x)\n",
    "\n",
    "\n",
    "fig = go.Figure()\n",
    "fig.add_trace(go.Scatter(x=x, y=relu_values, mode='lines', name='ReLU function'))\n",
    "fig.add_trace(go.Scatter(x=x, y=relu_derivative_values, mode='lines', name='ReLU derivative', line=dict(color='#FDAB9F')))\n",
    "\n",
    "fig.update_layout(\n",
    "    title='Rectified linear unit (ReLU) function and derivative',\n",
    "    xaxis=dict(title='x'),\n",
    "    yaxis=dict(title='f(x)'),\n",
    "    showlegend=True\n",
    ")\n",
    "\n",
    "fig.show()\n"
   ]
  },
  {
   "cell_type": "code",
   "execution_count": null,
   "id": "23d5b9f8",
   "metadata": {},
   "outputs": [],
   "source": []
  },
  {
   "cell_type": "markdown",
   "id": "79b00e15",
   "metadata": {},
   "source": [
    "### Leaky ReLU"
   ]
  },
  {
   "cell_type": "code",
   "execution_count": 27,
   "id": "d379472b",
   "metadata": {},
   "outputs": [
    {
     "data": {
      "application/vnd.plotly.v1+json": {
       "config": {
        "plotlyServerURL": "https://plot.ly"
       },
       "data": [
        {
         "mode": "lines",
         "name": "Leaky ReLU Function",
         "type": "scatter",
         "x": [
          -3,
          -2.9393939393939394,
          -2.878787878787879,
          -2.8181818181818183,
          -2.757575757575758,
          -2.696969696969697,
          -2.6363636363636362,
          -2.5757575757575757,
          -2.515151515151515,
          -2.4545454545454546,
          -2.393939393939394,
          -2.333333333333333,
          -2.2727272727272725,
          -2.212121212121212,
          -2.1515151515151514,
          -2.090909090909091,
          -2.0303030303030303,
          -1.9696969696969697,
          -1.9090909090909092,
          -1.8484848484848484,
          -1.7878787878787878,
          -1.7272727272727273,
          -1.6666666666666665,
          -1.606060606060606,
          -1.5454545454545454,
          -1.4848484848484849,
          -1.4242424242424243,
          -1.3636363636363635,
          -1.303030303030303,
          -1.2424242424242424,
          -1.1818181818181817,
          -1.121212121212121,
          -1.0606060606060606,
          -1,
          -0.9393939393939394,
          -0.8787878787878789,
          -0.8181818181818183,
          -0.7575757575757573,
          -0.6969696969696968,
          -0.6363636363636362,
          -0.5757575757575757,
          -0.5151515151515151,
          -0.4545454545454546,
          -0.39393939393939403,
          -0.33333333333333304,
          -0.2727272727272725,
          -0.21212121212121193,
          -0.15151515151515138,
          -0.09090909090909083,
          -0.030303030303030276,
          0.030303030303030276,
          0.09090909090909083,
          0.15151515151515138,
          0.21212121212121238,
          0.27272727272727293,
          0.3333333333333335,
          0.39393939393939403,
          0.4545454545454546,
          0.5151515151515151,
          0.5757575757575757,
          0.6363636363636367,
          0.6969696969696972,
          0.7575757575757578,
          0.8181818181818183,
          0.8787878787878789,
          0.9393939393939394,
          1,
          1.0606060606060606,
          1.121212121212121,
          1.1818181818181817,
          1.2424242424242422,
          1.3030303030303028,
          1.3636363636363633,
          1.4242424242424248,
          1.4848484848484853,
          1.5454545454545459,
          1.6060606060606064,
          1.666666666666667,
          1.7272727272727275,
          1.787878787878788,
          1.8484848484848486,
          1.9090909090909092,
          1.9696969696969697,
          2.0303030303030303,
          2.090909090909091,
          2.1515151515151514,
          2.212121212121212,
          2.2727272727272725,
          2.333333333333334,
          2.3939393939393945,
          2.454545454545455,
          2.5151515151515156,
          2.575757575757576,
          2.6363636363636367,
          2.6969696969696972,
          2.757575757575758,
          2.8181818181818183,
          2.878787878787879,
          2.9393939393939394,
          3
         ],
         "y": [
          -0.03,
          -0.029393939393939396,
          -0.02878787878787879,
          -0.028181818181818183,
          -0.02757575757575758,
          -0.02696969696969697,
          -0.026363636363636363,
          -0.025757575757575757,
          -0.02515151515151515,
          -0.024545454545454547,
          -0.02393939393939394,
          -0.02333333333333333,
          -0.022727272727272724,
          -0.02212121212121212,
          -0.021515151515151515,
          -0.02090909090909091,
          -0.020303030303030302,
          -0.0196969696969697,
          -0.019090909090909092,
          -0.018484848484848486,
          -0.01787878787878788,
          -0.017272727272727273,
          -0.016666666666666666,
          -0.01606060606060606,
          -0.015454545454545455,
          -0.014848484848484849,
          -0.014242424242424244,
          -0.013636363636363636,
          -0.013030303030303031,
          -0.012424242424242424,
          -0.011818181818181816,
          -0.011212121212121211,
          -0.010606060606060605,
          -0.01,
          -0.009393939393939395,
          -0.008787878787878789,
          -0.008181818181818184,
          -0.007575757575757573,
          -0.006969696969696968,
          -0.006363636363636363,
          -0.005757575757575757,
          -0.005151515151515152,
          -0.004545454545454546,
          -0.0039393939393939405,
          -0.0033333333333333305,
          -0.002727272727272725,
          -0.0021212121212121193,
          -0.0015151515151515138,
          -0.0009090909090909083,
          -0.00030303030303030276,
          0.030303030303030276,
          0.09090909090909083,
          0.15151515151515138,
          0.21212121212121238,
          0.27272727272727293,
          0.3333333333333335,
          0.39393939393939403,
          0.4545454545454546,
          0.5151515151515151,
          0.5757575757575757,
          0.6363636363636367,
          0.6969696969696972,
          0.7575757575757578,
          0.8181818181818183,
          0.8787878787878789,
          0.9393939393939394,
          1,
          1.0606060606060606,
          1.121212121212121,
          1.1818181818181817,
          1.2424242424242422,
          1.3030303030303028,
          1.3636363636363633,
          1.4242424242424248,
          1.4848484848484853,
          1.5454545454545459,
          1.6060606060606064,
          1.666666666666667,
          1.7272727272727275,
          1.787878787878788,
          1.8484848484848486,
          1.9090909090909092,
          1.9696969696969697,
          2.0303030303030303,
          2.090909090909091,
          2.1515151515151514,
          2.212121212121212,
          2.2727272727272725,
          2.333333333333334,
          2.3939393939393945,
          2.454545454545455,
          2.5151515151515156,
          2.575757575757576,
          2.6363636363636367,
          2.6969696969696972,
          2.757575757575758,
          2.8181818181818183,
          2.878787878787879,
          2.9393939393939394,
          3
         ]
        },
        {
         "mode": "lines",
         "name": "Leaky ReLU Derivative",
         "type": "scatter",
         "x": [
          -3,
          -2.9393939393939394,
          -2.878787878787879,
          -2.8181818181818183,
          -2.757575757575758,
          -2.696969696969697,
          -2.6363636363636362,
          -2.5757575757575757,
          -2.515151515151515,
          -2.4545454545454546,
          -2.393939393939394,
          -2.333333333333333,
          -2.2727272727272725,
          -2.212121212121212,
          -2.1515151515151514,
          -2.090909090909091,
          -2.0303030303030303,
          -1.9696969696969697,
          -1.9090909090909092,
          -1.8484848484848484,
          -1.7878787878787878,
          -1.7272727272727273,
          -1.6666666666666665,
          -1.606060606060606,
          -1.5454545454545454,
          -1.4848484848484849,
          -1.4242424242424243,
          -1.3636363636363635,
          -1.303030303030303,
          -1.2424242424242424,
          -1.1818181818181817,
          -1.121212121212121,
          -1.0606060606060606,
          -1,
          -0.9393939393939394,
          -0.8787878787878789,
          -0.8181818181818183,
          -0.7575757575757573,
          -0.6969696969696968,
          -0.6363636363636362,
          -0.5757575757575757,
          -0.5151515151515151,
          -0.4545454545454546,
          -0.39393939393939403,
          -0.33333333333333304,
          -0.2727272727272725,
          -0.21212121212121193,
          -0.15151515151515138,
          -0.09090909090909083,
          -0.030303030303030276,
          0.030303030303030276,
          0.09090909090909083,
          0.15151515151515138,
          0.21212121212121238,
          0.27272727272727293,
          0.3333333333333335,
          0.39393939393939403,
          0.4545454545454546,
          0.5151515151515151,
          0.5757575757575757,
          0.6363636363636367,
          0.6969696969696972,
          0.7575757575757578,
          0.8181818181818183,
          0.8787878787878789,
          0.9393939393939394,
          1,
          1.0606060606060606,
          1.121212121212121,
          1.1818181818181817,
          1.2424242424242422,
          1.3030303030303028,
          1.3636363636363633,
          1.4242424242424248,
          1.4848484848484853,
          1.5454545454545459,
          1.6060606060606064,
          1.666666666666667,
          1.7272727272727275,
          1.787878787878788,
          1.8484848484848486,
          1.9090909090909092,
          1.9696969696969697,
          2.0303030303030303,
          2.090909090909091,
          2.1515151515151514,
          2.212121212121212,
          2.2727272727272725,
          2.333333333333334,
          2.3939393939393945,
          2.454545454545455,
          2.5151515151515156,
          2.575757575757576,
          2.6363636363636367,
          2.6969696969696972,
          2.757575757575758,
          2.8181818181818183,
          2.878787878787879,
          2.9393939393939394,
          3
         ],
         "y": [
          0.01,
          0.01,
          0.01,
          0.01,
          0.01,
          0.01,
          0.01,
          0.01,
          0.01,
          0.01,
          0.01,
          0.01,
          0.01,
          0.01,
          0.01,
          0.01,
          0.01,
          0.01,
          0.01,
          0.01,
          0.01,
          0.01,
          0.01,
          0.01,
          0.01,
          0.01,
          0.01,
          0.01,
          0.01,
          0.01,
          0.01,
          0.01,
          0.01,
          0.01,
          0.01,
          0.01,
          0.01,
          0.01,
          0.01,
          0.01,
          0.01,
          0.01,
          0.01,
          0.01,
          0.01,
          0.01,
          0.01,
          0.01,
          0.01,
          0.01,
          1,
          1,
          1,
          1,
          1,
          1,
          1,
          1,
          1,
          1,
          1,
          1,
          1,
          1,
          1,
          1,
          1,
          1,
          1,
          1,
          1,
          1,
          1,
          1,
          1,
          1,
          1,
          1,
          1,
          1,
          1,
          1,
          1,
          1,
          1,
          1,
          1,
          1,
          1,
          1,
          1,
          1,
          1,
          1,
          1,
          1,
          1,
          1,
          1,
          1
         ]
        }
       ],
       "layout": {
        "showlegend": true,
        "template": {
         "data": {
          "bar": [
           {
            "error_x": {
             "color": "#2a3f5f"
            },
            "error_y": {
             "color": "#2a3f5f"
            },
            "marker": {
             "line": {
              "color": "#E5ECF6",
              "width": 0.5
             },
             "pattern": {
              "fillmode": "overlay",
              "size": 10,
              "solidity": 0.2
             }
            },
            "type": "bar"
           }
          ],
          "barpolar": [
           {
            "marker": {
             "line": {
              "color": "#E5ECF6",
              "width": 0.5
             },
             "pattern": {
              "fillmode": "overlay",
              "size": 10,
              "solidity": 0.2
             }
            },
            "type": "barpolar"
           }
          ],
          "carpet": [
           {
            "aaxis": {
             "endlinecolor": "#2a3f5f",
             "gridcolor": "white",
             "linecolor": "white",
             "minorgridcolor": "white",
             "startlinecolor": "#2a3f5f"
            },
            "baxis": {
             "endlinecolor": "#2a3f5f",
             "gridcolor": "white",
             "linecolor": "white",
             "minorgridcolor": "white",
             "startlinecolor": "#2a3f5f"
            },
            "type": "carpet"
           }
          ],
          "choropleth": [
           {
            "colorbar": {
             "outlinewidth": 0,
             "ticks": ""
            },
            "type": "choropleth"
           }
          ],
          "contour": [
           {
            "colorbar": {
             "outlinewidth": 0,
             "ticks": ""
            },
            "colorscale": [
             [
              0,
              "#0d0887"
             ],
             [
              0.1111111111111111,
              "#46039f"
             ],
             [
              0.2222222222222222,
              "#7201a8"
             ],
             [
              0.3333333333333333,
              "#9c179e"
             ],
             [
              0.4444444444444444,
              "#bd3786"
             ],
             [
              0.5555555555555556,
              "#d8576b"
             ],
             [
              0.6666666666666666,
              "#ed7953"
             ],
             [
              0.7777777777777778,
              "#fb9f3a"
             ],
             [
              0.8888888888888888,
              "#fdca26"
             ],
             [
              1,
              "#f0f921"
             ]
            ],
            "type": "contour"
           }
          ],
          "contourcarpet": [
           {
            "colorbar": {
             "outlinewidth": 0,
             "ticks": ""
            },
            "type": "contourcarpet"
           }
          ],
          "heatmap": [
           {
            "colorbar": {
             "outlinewidth": 0,
             "ticks": ""
            },
            "colorscale": [
             [
              0,
              "#0d0887"
             ],
             [
              0.1111111111111111,
              "#46039f"
             ],
             [
              0.2222222222222222,
              "#7201a8"
             ],
             [
              0.3333333333333333,
              "#9c179e"
             ],
             [
              0.4444444444444444,
              "#bd3786"
             ],
             [
              0.5555555555555556,
              "#d8576b"
             ],
             [
              0.6666666666666666,
              "#ed7953"
             ],
             [
              0.7777777777777778,
              "#fb9f3a"
             ],
             [
              0.8888888888888888,
              "#fdca26"
             ],
             [
              1,
              "#f0f921"
             ]
            ],
            "type": "heatmap"
           }
          ],
          "heatmapgl": [
           {
            "colorbar": {
             "outlinewidth": 0,
             "ticks": ""
            },
            "colorscale": [
             [
              0,
              "#0d0887"
             ],
             [
              0.1111111111111111,
              "#46039f"
             ],
             [
              0.2222222222222222,
              "#7201a8"
             ],
             [
              0.3333333333333333,
              "#9c179e"
             ],
             [
              0.4444444444444444,
              "#bd3786"
             ],
             [
              0.5555555555555556,
              "#d8576b"
             ],
             [
              0.6666666666666666,
              "#ed7953"
             ],
             [
              0.7777777777777778,
              "#fb9f3a"
             ],
             [
              0.8888888888888888,
              "#fdca26"
             ],
             [
              1,
              "#f0f921"
             ]
            ],
            "type": "heatmapgl"
           }
          ],
          "histogram": [
           {
            "marker": {
             "pattern": {
              "fillmode": "overlay",
              "size": 10,
              "solidity": 0.2
             }
            },
            "type": "histogram"
           }
          ],
          "histogram2d": [
           {
            "colorbar": {
             "outlinewidth": 0,
             "ticks": ""
            },
            "colorscale": [
             [
              0,
              "#0d0887"
             ],
             [
              0.1111111111111111,
              "#46039f"
             ],
             [
              0.2222222222222222,
              "#7201a8"
             ],
             [
              0.3333333333333333,
              "#9c179e"
             ],
             [
              0.4444444444444444,
              "#bd3786"
             ],
             [
              0.5555555555555556,
              "#d8576b"
             ],
             [
              0.6666666666666666,
              "#ed7953"
             ],
             [
              0.7777777777777778,
              "#fb9f3a"
             ],
             [
              0.8888888888888888,
              "#fdca26"
             ],
             [
              1,
              "#f0f921"
             ]
            ],
            "type": "histogram2d"
           }
          ],
          "histogram2dcontour": [
           {
            "colorbar": {
             "outlinewidth": 0,
             "ticks": ""
            },
            "colorscale": [
             [
              0,
              "#0d0887"
             ],
             [
              0.1111111111111111,
              "#46039f"
             ],
             [
              0.2222222222222222,
              "#7201a8"
             ],
             [
              0.3333333333333333,
              "#9c179e"
             ],
             [
              0.4444444444444444,
              "#bd3786"
             ],
             [
              0.5555555555555556,
              "#d8576b"
             ],
             [
              0.6666666666666666,
              "#ed7953"
             ],
             [
              0.7777777777777778,
              "#fb9f3a"
             ],
             [
              0.8888888888888888,
              "#fdca26"
             ],
             [
              1,
              "#f0f921"
             ]
            ],
            "type": "histogram2dcontour"
           }
          ],
          "mesh3d": [
           {
            "colorbar": {
             "outlinewidth": 0,
             "ticks": ""
            },
            "type": "mesh3d"
           }
          ],
          "parcoords": [
           {
            "line": {
             "colorbar": {
              "outlinewidth": 0,
              "ticks": ""
             }
            },
            "type": "parcoords"
           }
          ],
          "pie": [
           {
            "automargin": true,
            "type": "pie"
           }
          ],
          "scatter": [
           {
            "fillpattern": {
             "fillmode": "overlay",
             "size": 10,
             "solidity": 0.2
            },
            "type": "scatter"
           }
          ],
          "scatter3d": [
           {
            "line": {
             "colorbar": {
              "outlinewidth": 0,
              "ticks": ""
             }
            },
            "marker": {
             "colorbar": {
              "outlinewidth": 0,
              "ticks": ""
             }
            },
            "type": "scatter3d"
           }
          ],
          "scattercarpet": [
           {
            "marker": {
             "colorbar": {
              "outlinewidth": 0,
              "ticks": ""
             }
            },
            "type": "scattercarpet"
           }
          ],
          "scattergeo": [
           {
            "marker": {
             "colorbar": {
              "outlinewidth": 0,
              "ticks": ""
             }
            },
            "type": "scattergeo"
           }
          ],
          "scattergl": [
           {
            "marker": {
             "colorbar": {
              "outlinewidth": 0,
              "ticks": ""
             }
            },
            "type": "scattergl"
           }
          ],
          "scattermapbox": [
           {
            "marker": {
             "colorbar": {
              "outlinewidth": 0,
              "ticks": ""
             }
            },
            "type": "scattermapbox"
           }
          ],
          "scatterpolar": [
           {
            "marker": {
             "colorbar": {
              "outlinewidth": 0,
              "ticks": ""
             }
            },
            "type": "scatterpolar"
           }
          ],
          "scatterpolargl": [
           {
            "marker": {
             "colorbar": {
              "outlinewidth": 0,
              "ticks": ""
             }
            },
            "type": "scatterpolargl"
           }
          ],
          "scatterternary": [
           {
            "marker": {
             "colorbar": {
              "outlinewidth": 0,
              "ticks": ""
             }
            },
            "type": "scatterternary"
           }
          ],
          "surface": [
           {
            "colorbar": {
             "outlinewidth": 0,
             "ticks": ""
            },
            "colorscale": [
             [
              0,
              "#0d0887"
             ],
             [
              0.1111111111111111,
              "#46039f"
             ],
             [
              0.2222222222222222,
              "#7201a8"
             ],
             [
              0.3333333333333333,
              "#9c179e"
             ],
             [
              0.4444444444444444,
              "#bd3786"
             ],
             [
              0.5555555555555556,
              "#d8576b"
             ],
             [
              0.6666666666666666,
              "#ed7953"
             ],
             [
              0.7777777777777778,
              "#fb9f3a"
             ],
             [
              0.8888888888888888,
              "#fdca26"
             ],
             [
              1,
              "#f0f921"
             ]
            ],
            "type": "surface"
           }
          ],
          "table": [
           {
            "cells": {
             "fill": {
              "color": "#EBF0F8"
             },
             "line": {
              "color": "white"
             }
            },
            "header": {
             "fill": {
              "color": "#C8D4E3"
             },
             "line": {
              "color": "white"
             }
            },
            "type": "table"
           }
          ]
         },
         "layout": {
          "annotationdefaults": {
           "arrowcolor": "#2a3f5f",
           "arrowhead": 0,
           "arrowwidth": 1
          },
          "autotypenumbers": "strict",
          "coloraxis": {
           "colorbar": {
            "outlinewidth": 0,
            "ticks": ""
           }
          },
          "colorscale": {
           "diverging": [
            [
             0,
             "#8e0152"
            ],
            [
             0.1,
             "#c51b7d"
            ],
            [
             0.2,
             "#de77ae"
            ],
            [
             0.3,
             "#f1b6da"
            ],
            [
             0.4,
             "#fde0ef"
            ],
            [
             0.5,
             "#f7f7f7"
            ],
            [
             0.6,
             "#e6f5d0"
            ],
            [
             0.7,
             "#b8e186"
            ],
            [
             0.8,
             "#7fbc41"
            ],
            [
             0.9,
             "#4d9221"
            ],
            [
             1,
             "#276419"
            ]
           ],
           "sequential": [
            [
             0,
             "#0d0887"
            ],
            [
             0.1111111111111111,
             "#46039f"
            ],
            [
             0.2222222222222222,
             "#7201a8"
            ],
            [
             0.3333333333333333,
             "#9c179e"
            ],
            [
             0.4444444444444444,
             "#bd3786"
            ],
            [
             0.5555555555555556,
             "#d8576b"
            ],
            [
             0.6666666666666666,
             "#ed7953"
            ],
            [
             0.7777777777777778,
             "#fb9f3a"
            ],
            [
             0.8888888888888888,
             "#fdca26"
            ],
            [
             1,
             "#f0f921"
            ]
           ],
           "sequentialminus": [
            [
             0,
             "#0d0887"
            ],
            [
             0.1111111111111111,
             "#46039f"
            ],
            [
             0.2222222222222222,
             "#7201a8"
            ],
            [
             0.3333333333333333,
             "#9c179e"
            ],
            [
             0.4444444444444444,
             "#bd3786"
            ],
            [
             0.5555555555555556,
             "#d8576b"
            ],
            [
             0.6666666666666666,
             "#ed7953"
            ],
            [
             0.7777777777777778,
             "#fb9f3a"
            ],
            [
             0.8888888888888888,
             "#fdca26"
            ],
            [
             1,
             "#f0f921"
            ]
           ]
          },
          "colorway": [
           "#636efa",
           "#EF553B",
           "#00cc96",
           "#ab63fa",
           "#FFA15A",
           "#19d3f3",
           "#FF6692",
           "#B6E880",
           "#FF97FF",
           "#FECB52"
          ],
          "font": {
           "color": "#2a3f5f"
          },
          "geo": {
           "bgcolor": "white",
           "lakecolor": "white",
           "landcolor": "#E5ECF6",
           "showlakes": true,
           "showland": true,
           "subunitcolor": "white"
          },
          "hoverlabel": {
           "align": "left"
          },
          "hovermode": "closest",
          "mapbox": {
           "style": "light"
          },
          "paper_bgcolor": "white",
          "plot_bgcolor": "#E5ECF6",
          "polar": {
           "angularaxis": {
            "gridcolor": "white",
            "linecolor": "white",
            "ticks": ""
           },
           "bgcolor": "#E5ECF6",
           "radialaxis": {
            "gridcolor": "white",
            "linecolor": "white",
            "ticks": ""
           }
          },
          "scene": {
           "xaxis": {
            "backgroundcolor": "#E5ECF6",
            "gridcolor": "white",
            "gridwidth": 2,
            "linecolor": "white",
            "showbackground": true,
            "ticks": "",
            "zerolinecolor": "white"
           },
           "yaxis": {
            "backgroundcolor": "#E5ECF6",
            "gridcolor": "white",
            "gridwidth": 2,
            "linecolor": "white",
            "showbackground": true,
            "ticks": "",
            "zerolinecolor": "white"
           },
           "zaxis": {
            "backgroundcolor": "#E5ECF6",
            "gridcolor": "white",
            "gridwidth": 2,
            "linecolor": "white",
            "showbackground": true,
            "ticks": "",
            "zerolinecolor": "white"
           }
          },
          "shapedefaults": {
           "line": {
            "color": "#2a3f5f"
           }
          },
          "ternary": {
           "aaxis": {
            "gridcolor": "white",
            "linecolor": "white",
            "ticks": ""
           },
           "baxis": {
            "gridcolor": "white",
            "linecolor": "white",
            "ticks": ""
           },
           "bgcolor": "#E5ECF6",
           "caxis": {
            "gridcolor": "white",
            "linecolor": "white",
            "ticks": ""
           }
          },
          "title": {
           "x": 0.05
          },
          "xaxis": {
           "automargin": true,
           "gridcolor": "white",
           "linecolor": "white",
           "ticks": "",
           "title": {
            "standoff": 15
           },
           "zerolinecolor": "white",
           "zerolinewidth": 2
          },
          "yaxis": {
           "automargin": true,
           "gridcolor": "white",
           "linecolor": "white",
           "ticks": "",
           "title": {
            "standoff": 15
           },
           "zerolinecolor": "white",
           "zerolinewidth": 2
          }
         }
        },
        "title": {
         "text": "Leaky ReLU function and derivative, alpha = 0.01"
        },
        "xaxis": {
         "title": {
          "text": "x"
         }
        },
        "yaxis": {
         "title": {
          "text": "Value"
         }
        }
       }
      },
      "text/html": [
       "<div>                            <div id=\"1119b2c0-7ecd-458d-b41c-0a0fd5ce42a0\" class=\"plotly-graph-div\" style=\"height:525px; width:100%;\"></div>            <script type=\"text/javascript\">                require([\"plotly\"], function(Plotly) {                    window.PLOTLYENV=window.PLOTLYENV || {};                                    if (document.getElementById(\"1119b2c0-7ecd-458d-b41c-0a0fd5ce42a0\")) {                    Plotly.newPlot(                        \"1119b2c0-7ecd-458d-b41c-0a0fd5ce42a0\",                        [{\"mode\":\"lines\",\"name\":\"Leaky ReLU Function\",\"x\":[-3.0,-2.9393939393939394,-2.878787878787879,-2.8181818181818183,-2.757575757575758,-2.696969696969697,-2.6363636363636362,-2.5757575757575757,-2.515151515151515,-2.4545454545454546,-2.393939393939394,-2.333333333333333,-2.2727272727272725,-2.212121212121212,-2.1515151515151514,-2.090909090909091,-2.0303030303030303,-1.9696969696969697,-1.9090909090909092,-1.8484848484848484,-1.7878787878787878,-1.7272727272727273,-1.6666666666666665,-1.606060606060606,-1.5454545454545454,-1.4848484848484849,-1.4242424242424243,-1.3636363636363635,-1.303030303030303,-1.2424242424242424,-1.1818181818181817,-1.121212121212121,-1.0606060606060606,-1.0,-0.9393939393939394,-0.8787878787878789,-0.8181818181818183,-0.7575757575757573,-0.6969696969696968,-0.6363636363636362,-0.5757575757575757,-0.5151515151515151,-0.4545454545454546,-0.39393939393939403,-0.33333333333333304,-0.2727272727272725,-0.21212121212121193,-0.15151515151515138,-0.09090909090909083,-0.030303030303030276,0.030303030303030276,0.09090909090909083,0.15151515151515138,0.21212121212121238,0.27272727272727293,0.3333333333333335,0.39393939393939403,0.4545454545454546,0.5151515151515151,0.5757575757575757,0.6363636363636367,0.6969696969696972,0.7575757575757578,0.8181818181818183,0.8787878787878789,0.9393939393939394,1.0,1.0606060606060606,1.121212121212121,1.1818181818181817,1.2424242424242422,1.3030303030303028,1.3636363636363633,1.4242424242424248,1.4848484848484853,1.5454545454545459,1.6060606060606064,1.666666666666667,1.7272727272727275,1.787878787878788,1.8484848484848486,1.9090909090909092,1.9696969696969697,2.0303030303030303,2.090909090909091,2.1515151515151514,2.212121212121212,2.2727272727272725,2.333333333333334,2.3939393939393945,2.454545454545455,2.5151515151515156,2.575757575757576,2.6363636363636367,2.6969696969696972,2.757575757575758,2.8181818181818183,2.878787878787879,2.9393939393939394,3.0],\"y\":[-0.03,-0.029393939393939396,-0.02878787878787879,-0.028181818181818183,-0.02757575757575758,-0.02696969696969697,-0.026363636363636363,-0.025757575757575757,-0.02515151515151515,-0.024545454545454547,-0.02393939393939394,-0.02333333333333333,-0.022727272727272724,-0.02212121212121212,-0.021515151515151515,-0.02090909090909091,-0.020303030303030302,-0.0196969696969697,-0.019090909090909092,-0.018484848484848486,-0.01787878787878788,-0.017272727272727273,-0.016666666666666666,-0.01606060606060606,-0.015454545454545455,-0.014848484848484849,-0.014242424242424244,-0.013636363636363636,-0.013030303030303031,-0.012424242424242424,-0.011818181818181816,-0.011212121212121211,-0.010606060606060605,-0.01,-0.009393939393939395,-0.008787878787878789,-0.008181818181818184,-0.007575757575757573,-0.006969696969696968,-0.006363636363636363,-0.005757575757575757,-0.005151515151515152,-0.004545454545454546,-0.0039393939393939405,-0.0033333333333333305,-0.002727272727272725,-0.0021212121212121193,-0.0015151515151515138,-0.0009090909090909083,-0.00030303030303030276,0.030303030303030276,0.09090909090909083,0.15151515151515138,0.21212121212121238,0.27272727272727293,0.3333333333333335,0.39393939393939403,0.4545454545454546,0.5151515151515151,0.5757575757575757,0.6363636363636367,0.6969696969696972,0.7575757575757578,0.8181818181818183,0.8787878787878789,0.9393939393939394,1.0,1.0606060606060606,1.121212121212121,1.1818181818181817,1.2424242424242422,1.3030303030303028,1.3636363636363633,1.4242424242424248,1.4848484848484853,1.5454545454545459,1.6060606060606064,1.666666666666667,1.7272727272727275,1.787878787878788,1.8484848484848486,1.9090909090909092,1.9696969696969697,2.0303030303030303,2.090909090909091,2.1515151515151514,2.212121212121212,2.2727272727272725,2.333333333333334,2.3939393939393945,2.454545454545455,2.5151515151515156,2.575757575757576,2.6363636363636367,2.6969696969696972,2.757575757575758,2.8181818181818183,2.878787878787879,2.9393939393939394,3.0],\"type\":\"scatter\"},{\"mode\":\"lines\",\"name\":\"Leaky ReLU Derivative\",\"x\":[-3.0,-2.9393939393939394,-2.878787878787879,-2.8181818181818183,-2.757575757575758,-2.696969696969697,-2.6363636363636362,-2.5757575757575757,-2.515151515151515,-2.4545454545454546,-2.393939393939394,-2.333333333333333,-2.2727272727272725,-2.212121212121212,-2.1515151515151514,-2.090909090909091,-2.0303030303030303,-1.9696969696969697,-1.9090909090909092,-1.8484848484848484,-1.7878787878787878,-1.7272727272727273,-1.6666666666666665,-1.606060606060606,-1.5454545454545454,-1.4848484848484849,-1.4242424242424243,-1.3636363636363635,-1.303030303030303,-1.2424242424242424,-1.1818181818181817,-1.121212121212121,-1.0606060606060606,-1.0,-0.9393939393939394,-0.8787878787878789,-0.8181818181818183,-0.7575757575757573,-0.6969696969696968,-0.6363636363636362,-0.5757575757575757,-0.5151515151515151,-0.4545454545454546,-0.39393939393939403,-0.33333333333333304,-0.2727272727272725,-0.21212121212121193,-0.15151515151515138,-0.09090909090909083,-0.030303030303030276,0.030303030303030276,0.09090909090909083,0.15151515151515138,0.21212121212121238,0.27272727272727293,0.3333333333333335,0.39393939393939403,0.4545454545454546,0.5151515151515151,0.5757575757575757,0.6363636363636367,0.6969696969696972,0.7575757575757578,0.8181818181818183,0.8787878787878789,0.9393939393939394,1.0,1.0606060606060606,1.121212121212121,1.1818181818181817,1.2424242424242422,1.3030303030303028,1.3636363636363633,1.4242424242424248,1.4848484848484853,1.5454545454545459,1.6060606060606064,1.666666666666667,1.7272727272727275,1.787878787878788,1.8484848484848486,1.9090909090909092,1.9696969696969697,2.0303030303030303,2.090909090909091,2.1515151515151514,2.212121212121212,2.2727272727272725,2.333333333333334,2.3939393939393945,2.454545454545455,2.5151515151515156,2.575757575757576,2.6363636363636367,2.6969696969696972,2.757575757575758,2.8181818181818183,2.878787878787879,2.9393939393939394,3.0],\"y\":[0.01,0.01,0.01,0.01,0.01,0.01,0.01,0.01,0.01,0.01,0.01,0.01,0.01,0.01,0.01,0.01,0.01,0.01,0.01,0.01,0.01,0.01,0.01,0.01,0.01,0.01,0.01,0.01,0.01,0.01,0.01,0.01,0.01,0.01,0.01,0.01,0.01,0.01,0.01,0.01,0.01,0.01,0.01,0.01,0.01,0.01,0.01,0.01,0.01,0.01,1.0,1.0,1.0,1.0,1.0,1.0,1.0,1.0,1.0,1.0,1.0,1.0,1.0,1.0,1.0,1.0,1.0,1.0,1.0,1.0,1.0,1.0,1.0,1.0,1.0,1.0,1.0,1.0,1.0,1.0,1.0,1.0,1.0,1.0,1.0,1.0,1.0,1.0,1.0,1.0,1.0,1.0,1.0,1.0,1.0,1.0,1.0,1.0,1.0,1.0],\"type\":\"scatter\"}],                        {\"template\":{\"data\":{\"histogram2dcontour\":[{\"type\":\"histogram2dcontour\",\"colorbar\":{\"outlinewidth\":0,\"ticks\":\"\"},\"colorscale\":[[0.0,\"#0d0887\"],[0.1111111111111111,\"#46039f\"],[0.2222222222222222,\"#7201a8\"],[0.3333333333333333,\"#9c179e\"],[0.4444444444444444,\"#bd3786\"],[0.5555555555555556,\"#d8576b\"],[0.6666666666666666,\"#ed7953\"],[0.7777777777777778,\"#fb9f3a\"],[0.8888888888888888,\"#fdca26\"],[1.0,\"#f0f921\"]]}],\"choropleth\":[{\"type\":\"choropleth\",\"colorbar\":{\"outlinewidth\":0,\"ticks\":\"\"}}],\"histogram2d\":[{\"type\":\"histogram2d\",\"colorbar\":{\"outlinewidth\":0,\"ticks\":\"\"},\"colorscale\":[[0.0,\"#0d0887\"],[0.1111111111111111,\"#46039f\"],[0.2222222222222222,\"#7201a8\"],[0.3333333333333333,\"#9c179e\"],[0.4444444444444444,\"#bd3786\"],[0.5555555555555556,\"#d8576b\"],[0.6666666666666666,\"#ed7953\"],[0.7777777777777778,\"#fb9f3a\"],[0.8888888888888888,\"#fdca26\"],[1.0,\"#f0f921\"]]}],\"heatmap\":[{\"type\":\"heatmap\",\"colorbar\":{\"outlinewidth\":0,\"ticks\":\"\"},\"colorscale\":[[0.0,\"#0d0887\"],[0.1111111111111111,\"#46039f\"],[0.2222222222222222,\"#7201a8\"],[0.3333333333333333,\"#9c179e\"],[0.4444444444444444,\"#bd3786\"],[0.5555555555555556,\"#d8576b\"],[0.6666666666666666,\"#ed7953\"],[0.7777777777777778,\"#fb9f3a\"],[0.8888888888888888,\"#fdca26\"],[1.0,\"#f0f921\"]]}],\"heatmapgl\":[{\"type\":\"heatmapgl\",\"colorbar\":{\"outlinewidth\":0,\"ticks\":\"\"},\"colorscale\":[[0.0,\"#0d0887\"],[0.1111111111111111,\"#46039f\"],[0.2222222222222222,\"#7201a8\"],[0.3333333333333333,\"#9c179e\"],[0.4444444444444444,\"#bd3786\"],[0.5555555555555556,\"#d8576b\"],[0.6666666666666666,\"#ed7953\"],[0.7777777777777778,\"#fb9f3a\"],[0.8888888888888888,\"#fdca26\"],[1.0,\"#f0f921\"]]}],\"contourcarpet\":[{\"type\":\"contourcarpet\",\"colorbar\":{\"outlinewidth\":0,\"ticks\":\"\"}}],\"contour\":[{\"type\":\"contour\",\"colorbar\":{\"outlinewidth\":0,\"ticks\":\"\"},\"colorscale\":[[0.0,\"#0d0887\"],[0.1111111111111111,\"#46039f\"],[0.2222222222222222,\"#7201a8\"],[0.3333333333333333,\"#9c179e\"],[0.4444444444444444,\"#bd3786\"],[0.5555555555555556,\"#d8576b\"],[0.6666666666666666,\"#ed7953\"],[0.7777777777777778,\"#fb9f3a\"],[0.8888888888888888,\"#fdca26\"],[1.0,\"#f0f921\"]]}],\"surface\":[{\"type\":\"surface\",\"colorbar\":{\"outlinewidth\":0,\"ticks\":\"\"},\"colorscale\":[[0.0,\"#0d0887\"],[0.1111111111111111,\"#46039f\"],[0.2222222222222222,\"#7201a8\"],[0.3333333333333333,\"#9c179e\"],[0.4444444444444444,\"#bd3786\"],[0.5555555555555556,\"#d8576b\"],[0.6666666666666666,\"#ed7953\"],[0.7777777777777778,\"#fb9f3a\"],[0.8888888888888888,\"#fdca26\"],[1.0,\"#f0f921\"]]}],\"mesh3d\":[{\"type\":\"mesh3d\",\"colorbar\":{\"outlinewidth\":0,\"ticks\":\"\"}}],\"scatter\":[{\"fillpattern\":{\"fillmode\":\"overlay\",\"size\":10,\"solidity\":0.2},\"type\":\"scatter\"}],\"parcoords\":[{\"type\":\"parcoords\",\"line\":{\"colorbar\":{\"outlinewidth\":0,\"ticks\":\"\"}}}],\"scatterpolargl\":[{\"type\":\"scatterpolargl\",\"marker\":{\"colorbar\":{\"outlinewidth\":0,\"ticks\":\"\"}}}],\"bar\":[{\"error_x\":{\"color\":\"#2a3f5f\"},\"error_y\":{\"color\":\"#2a3f5f\"},\"marker\":{\"line\":{\"color\":\"#E5ECF6\",\"width\":0.5},\"pattern\":{\"fillmode\":\"overlay\",\"size\":10,\"solidity\":0.2}},\"type\":\"bar\"}],\"scattergeo\":[{\"type\":\"scattergeo\",\"marker\":{\"colorbar\":{\"outlinewidth\":0,\"ticks\":\"\"}}}],\"scatterpolar\":[{\"type\":\"scatterpolar\",\"marker\":{\"colorbar\":{\"outlinewidth\":0,\"ticks\":\"\"}}}],\"histogram\":[{\"marker\":{\"pattern\":{\"fillmode\":\"overlay\",\"size\":10,\"solidity\":0.2}},\"type\":\"histogram\"}],\"scattergl\":[{\"type\":\"scattergl\",\"marker\":{\"colorbar\":{\"outlinewidth\":0,\"ticks\":\"\"}}}],\"scatter3d\":[{\"type\":\"scatter3d\",\"line\":{\"colorbar\":{\"outlinewidth\":0,\"ticks\":\"\"}},\"marker\":{\"colorbar\":{\"outlinewidth\":0,\"ticks\":\"\"}}}],\"scattermapbox\":[{\"type\":\"scattermapbox\",\"marker\":{\"colorbar\":{\"outlinewidth\":0,\"ticks\":\"\"}}}],\"scatterternary\":[{\"type\":\"scatterternary\",\"marker\":{\"colorbar\":{\"outlinewidth\":0,\"ticks\":\"\"}}}],\"scattercarpet\":[{\"type\":\"scattercarpet\",\"marker\":{\"colorbar\":{\"outlinewidth\":0,\"ticks\":\"\"}}}],\"carpet\":[{\"aaxis\":{\"endlinecolor\":\"#2a3f5f\",\"gridcolor\":\"white\",\"linecolor\":\"white\",\"minorgridcolor\":\"white\",\"startlinecolor\":\"#2a3f5f\"},\"baxis\":{\"endlinecolor\":\"#2a3f5f\",\"gridcolor\":\"white\",\"linecolor\":\"white\",\"minorgridcolor\":\"white\",\"startlinecolor\":\"#2a3f5f\"},\"type\":\"carpet\"}],\"table\":[{\"cells\":{\"fill\":{\"color\":\"#EBF0F8\"},\"line\":{\"color\":\"white\"}},\"header\":{\"fill\":{\"color\":\"#C8D4E3\"},\"line\":{\"color\":\"white\"}},\"type\":\"table\"}],\"barpolar\":[{\"marker\":{\"line\":{\"color\":\"#E5ECF6\",\"width\":0.5},\"pattern\":{\"fillmode\":\"overlay\",\"size\":10,\"solidity\":0.2}},\"type\":\"barpolar\"}],\"pie\":[{\"automargin\":true,\"type\":\"pie\"}]},\"layout\":{\"autotypenumbers\":\"strict\",\"colorway\":[\"#636efa\",\"#EF553B\",\"#00cc96\",\"#ab63fa\",\"#FFA15A\",\"#19d3f3\",\"#FF6692\",\"#B6E880\",\"#FF97FF\",\"#FECB52\"],\"font\":{\"color\":\"#2a3f5f\"},\"hovermode\":\"closest\",\"hoverlabel\":{\"align\":\"left\"},\"paper_bgcolor\":\"white\",\"plot_bgcolor\":\"#E5ECF6\",\"polar\":{\"bgcolor\":\"#E5ECF6\",\"angularaxis\":{\"gridcolor\":\"white\",\"linecolor\":\"white\",\"ticks\":\"\"},\"radialaxis\":{\"gridcolor\":\"white\",\"linecolor\":\"white\",\"ticks\":\"\"}},\"ternary\":{\"bgcolor\":\"#E5ECF6\",\"aaxis\":{\"gridcolor\":\"white\",\"linecolor\":\"white\",\"ticks\":\"\"},\"baxis\":{\"gridcolor\":\"white\",\"linecolor\":\"white\",\"ticks\":\"\"},\"caxis\":{\"gridcolor\":\"white\",\"linecolor\":\"white\",\"ticks\":\"\"}},\"coloraxis\":{\"colorbar\":{\"outlinewidth\":0,\"ticks\":\"\"}},\"colorscale\":{\"sequential\":[[0.0,\"#0d0887\"],[0.1111111111111111,\"#46039f\"],[0.2222222222222222,\"#7201a8\"],[0.3333333333333333,\"#9c179e\"],[0.4444444444444444,\"#bd3786\"],[0.5555555555555556,\"#d8576b\"],[0.6666666666666666,\"#ed7953\"],[0.7777777777777778,\"#fb9f3a\"],[0.8888888888888888,\"#fdca26\"],[1.0,\"#f0f921\"]],\"sequentialminus\":[[0.0,\"#0d0887\"],[0.1111111111111111,\"#46039f\"],[0.2222222222222222,\"#7201a8\"],[0.3333333333333333,\"#9c179e\"],[0.4444444444444444,\"#bd3786\"],[0.5555555555555556,\"#d8576b\"],[0.6666666666666666,\"#ed7953\"],[0.7777777777777778,\"#fb9f3a\"],[0.8888888888888888,\"#fdca26\"],[1.0,\"#f0f921\"]],\"diverging\":[[0,\"#8e0152\"],[0.1,\"#c51b7d\"],[0.2,\"#de77ae\"],[0.3,\"#f1b6da\"],[0.4,\"#fde0ef\"],[0.5,\"#f7f7f7\"],[0.6,\"#e6f5d0\"],[0.7,\"#b8e186\"],[0.8,\"#7fbc41\"],[0.9,\"#4d9221\"],[1,\"#276419\"]]},\"xaxis\":{\"gridcolor\":\"white\",\"linecolor\":\"white\",\"ticks\":\"\",\"title\":{\"standoff\":15},\"zerolinecolor\":\"white\",\"automargin\":true,\"zerolinewidth\":2},\"yaxis\":{\"gridcolor\":\"white\",\"linecolor\":\"white\",\"ticks\":\"\",\"title\":{\"standoff\":15},\"zerolinecolor\":\"white\",\"automargin\":true,\"zerolinewidth\":2},\"scene\":{\"xaxis\":{\"backgroundcolor\":\"#E5ECF6\",\"gridcolor\":\"white\",\"linecolor\":\"white\",\"showbackground\":true,\"ticks\":\"\",\"zerolinecolor\":\"white\",\"gridwidth\":2},\"yaxis\":{\"backgroundcolor\":\"#E5ECF6\",\"gridcolor\":\"white\",\"linecolor\":\"white\",\"showbackground\":true,\"ticks\":\"\",\"zerolinecolor\":\"white\",\"gridwidth\":2},\"zaxis\":{\"backgroundcolor\":\"#E5ECF6\",\"gridcolor\":\"white\",\"linecolor\":\"white\",\"showbackground\":true,\"ticks\":\"\",\"zerolinecolor\":\"white\",\"gridwidth\":2}},\"shapedefaults\":{\"line\":{\"color\":\"#2a3f5f\"}},\"annotationdefaults\":{\"arrowcolor\":\"#2a3f5f\",\"arrowhead\":0,\"arrowwidth\":1},\"geo\":{\"bgcolor\":\"white\",\"landcolor\":\"#E5ECF6\",\"subunitcolor\":\"white\",\"showland\":true,\"showlakes\":true,\"lakecolor\":\"white\"},\"title\":{\"x\":0.05},\"mapbox\":{\"style\":\"light\"}}},\"title\":{\"text\":\"Leaky ReLU function and derivative, alpha = 0.01\"},\"xaxis\":{\"title\":{\"text\":\"x\"}},\"yaxis\":{\"title\":{\"text\":\"Value\"}},\"showlegend\":true},                        {\"responsive\": true}                    ).then(function(){\n",
       "                            \n",
       "var gd = document.getElementById('1119b2c0-7ecd-458d-b41c-0a0fd5ce42a0');\n",
       "var x = new MutationObserver(function (mutations, observer) {{\n",
       "        var display = window.getComputedStyle(gd).display;\n",
       "        if (!display || display === 'none') {{\n",
       "            console.log([gd, 'removed!']);\n",
       "            Plotly.purge(gd);\n",
       "            observer.disconnect();\n",
       "        }}\n",
       "}});\n",
       "\n",
       "// Listen for the removal of the full notebook cells\n",
       "var notebookContainer = gd.closest('#notebook-container');\n",
       "if (notebookContainer) {{\n",
       "    x.observe(notebookContainer, {childList: true});\n",
       "}}\n",
       "\n",
       "// Listen for the clearing of the current output cell\n",
       "var outputEl = gd.closest('.output');\n",
       "if (outputEl) {{\n",
       "    x.observe(outputEl, {childList: true});\n",
       "}}\n",
       "\n",
       "                        })                };                });            </script>        </div>"
      ]
     },
     "metadata": {},
     "output_type": "display_data"
    }
   ],
   "source": [
    "import numpy as np\n",
    "import plotly.graph_objects as go\n",
    "\n",
    "def leaky_relu(x, alpha=0.01):\n",
    "    return np.where(x > 0, x, alpha * x)\n",
    "\n",
    "def leaky_relu_derivative(x, alpha=0.01):\n",
    "    return np.where(x > 0, 1, alpha)\n",
    "\n",
    "x = np.linspace(-3, 3, 100)\n",
    "leaky_relu_values = leaky_relu(x)\n",
    "leaky_relu_derivative_values = leaky_relu_derivative(x)\n",
    "\n",
    "fig = go.Figure()\n",
    "fig.add_trace(go.Scatter(x=x, y=leaky_relu_values, mode='lines', name='Leaky ReLU Function'))\n",
    "fig.add_trace(go.Scatter(x=x, y=leaky_relu_derivative_values, mode='lines', name='Leaky ReLU Derivative'))\n",
    "\n",
    "fig.update_layout(\n",
    "    title='Leaky ReLU function and derivative, alpha = 0.01',\n",
    "    xaxis=dict(title='x'),\n",
    "    yaxis=dict(title='Value'),\n",
    "    showlegend=True\n",
    ")\n",
    "\n",
    "fig.show()\n"
   ]
  },
  {
   "cell_type": "markdown",
   "id": "f446c6f8",
   "metadata": {},
   "source": [
    "### Parametric ReLU"
   ]
  },
  {
   "cell_type": "code",
   "execution_count": 6,
   "id": "0daf937f",
   "metadata": {},
   "outputs": [
    {
     "data": {
      "application/vnd.jupyter.widget-view+json": {
       "model_id": "976170b5f3c24c3a9af43271dfc262e5",
       "version_major": 2,
       "version_minor": 0
      },
      "text/plain": [
       "interactive(children=(FloatSlider(value=0.01, description='Alpha', max=1.0, min=0.01, step=0.01), Output()), _…"
      ]
     },
     "metadata": {},
     "output_type": "display_data"
    },
    {
     "data": {
      "application/vnd.plotly.v1+json": {
       "config": {
        "plotlyServerURL": "https://plot.ly"
       },
       "data": [
        {
         "mode": "lines",
         "name": "PReLU function (alpha=0.01)",
         "type": "scatter",
         "x": [
          -3,
          -2.9393939393939394,
          -2.878787878787879,
          -2.8181818181818183,
          -2.757575757575758,
          -2.696969696969697,
          -2.6363636363636362,
          -2.5757575757575757,
          -2.515151515151515,
          -2.4545454545454546,
          -2.393939393939394,
          -2.333333333333333,
          -2.2727272727272725,
          -2.212121212121212,
          -2.1515151515151514,
          -2.090909090909091,
          -2.0303030303030303,
          -1.9696969696969697,
          -1.9090909090909092,
          -1.8484848484848484,
          -1.7878787878787878,
          -1.7272727272727273,
          -1.6666666666666665,
          -1.606060606060606,
          -1.5454545454545454,
          -1.4848484848484849,
          -1.4242424242424243,
          -1.3636363636363635,
          -1.303030303030303,
          -1.2424242424242424,
          -1.1818181818181817,
          -1.121212121212121,
          -1.0606060606060606,
          -1,
          -0.9393939393939394,
          -0.8787878787878789,
          -0.8181818181818183,
          -0.7575757575757573,
          -0.6969696969696968,
          -0.6363636363636362,
          -0.5757575757575757,
          -0.5151515151515151,
          -0.4545454545454546,
          -0.39393939393939403,
          -0.33333333333333304,
          -0.2727272727272725,
          -0.21212121212121193,
          -0.15151515151515138,
          -0.09090909090909083,
          -0.030303030303030276,
          0.030303030303030276,
          0.09090909090909083,
          0.15151515151515138,
          0.21212121212121238,
          0.27272727272727293,
          0.3333333333333335,
          0.39393939393939403,
          0.4545454545454546,
          0.5151515151515151,
          0.5757575757575757,
          0.6363636363636367,
          0.6969696969696972,
          0.7575757575757578,
          0.8181818181818183,
          0.8787878787878789,
          0.9393939393939394,
          1,
          1.0606060606060606,
          1.121212121212121,
          1.1818181818181817,
          1.2424242424242422,
          1.3030303030303028,
          1.3636363636363633,
          1.4242424242424248,
          1.4848484848484853,
          1.5454545454545459,
          1.6060606060606064,
          1.666666666666667,
          1.7272727272727275,
          1.787878787878788,
          1.8484848484848486,
          1.9090909090909092,
          1.9696969696969697,
          2.0303030303030303,
          2.090909090909091,
          2.1515151515151514,
          2.212121212121212,
          2.2727272727272725,
          2.333333333333334,
          2.3939393939393945,
          2.454545454545455,
          2.5151515151515156,
          2.575757575757576,
          2.6363636363636367,
          2.6969696969696972,
          2.757575757575758,
          2.8181818181818183,
          2.878787878787879,
          2.9393939393939394,
          3
         ],
         "y": [
          -0.03,
          -0.029393939393939396,
          -0.02878787878787879,
          -0.028181818181818183,
          -0.02757575757575758,
          -0.02696969696969697,
          -0.026363636363636363,
          -0.025757575757575757,
          -0.02515151515151515,
          -0.024545454545454547,
          -0.02393939393939394,
          -0.02333333333333333,
          -0.022727272727272724,
          -0.02212121212121212,
          -0.021515151515151515,
          -0.02090909090909091,
          -0.020303030303030302,
          -0.0196969696969697,
          -0.019090909090909092,
          -0.018484848484848486,
          -0.01787878787878788,
          -0.017272727272727273,
          -0.016666666666666666,
          -0.01606060606060606,
          -0.015454545454545455,
          -0.014848484848484849,
          -0.014242424242424244,
          -0.013636363636363636,
          -0.013030303030303031,
          -0.012424242424242424,
          -0.011818181818181816,
          -0.011212121212121211,
          -0.010606060606060605,
          -0.01,
          -0.009393939393939395,
          -0.008787878787878789,
          -0.008181818181818184,
          -0.007575757575757573,
          -0.006969696969696968,
          -0.006363636363636363,
          -0.005757575757575757,
          -0.005151515151515152,
          -0.004545454545454546,
          -0.0039393939393939405,
          -0.0033333333333333305,
          -0.002727272727272725,
          -0.0021212121212121193,
          -0.0015151515151515138,
          -0.0009090909090909083,
          -0.00030303030303030276,
          0.030303030303030276,
          0.09090909090909083,
          0.15151515151515138,
          0.21212121212121238,
          0.27272727272727293,
          0.3333333333333335,
          0.39393939393939403,
          0.4545454545454546,
          0.5151515151515151,
          0.5757575757575757,
          0.6363636363636367,
          0.6969696969696972,
          0.7575757575757578,
          0.8181818181818183,
          0.8787878787878789,
          0.9393939393939394,
          1,
          1.0606060606060606,
          1.121212121212121,
          1.1818181818181817,
          1.2424242424242422,
          1.3030303030303028,
          1.3636363636363633,
          1.4242424242424248,
          1.4848484848484853,
          1.5454545454545459,
          1.6060606060606064,
          1.666666666666667,
          1.7272727272727275,
          1.787878787878788,
          1.8484848484848486,
          1.9090909090909092,
          1.9696969696969697,
          2.0303030303030303,
          2.090909090909091,
          2.1515151515151514,
          2.212121212121212,
          2.2727272727272725,
          2.333333333333334,
          2.3939393939393945,
          2.454545454545455,
          2.5151515151515156,
          2.575757575757576,
          2.6363636363636367,
          2.6969696969696972,
          2.757575757575758,
          2.8181818181818183,
          2.878787878787879,
          2.9393939393939394,
          3
         ]
        },
        {
         "mode": "lines",
         "name": "PReLU derivative (alpha=0.01)",
         "type": "scatter",
         "x": [
          -3,
          -2.9393939393939394,
          -2.878787878787879,
          -2.8181818181818183,
          -2.757575757575758,
          -2.696969696969697,
          -2.6363636363636362,
          -2.5757575757575757,
          -2.515151515151515,
          -2.4545454545454546,
          -2.393939393939394,
          -2.333333333333333,
          -2.2727272727272725,
          -2.212121212121212,
          -2.1515151515151514,
          -2.090909090909091,
          -2.0303030303030303,
          -1.9696969696969697,
          -1.9090909090909092,
          -1.8484848484848484,
          -1.7878787878787878,
          -1.7272727272727273,
          -1.6666666666666665,
          -1.606060606060606,
          -1.5454545454545454,
          -1.4848484848484849,
          -1.4242424242424243,
          -1.3636363636363635,
          -1.303030303030303,
          -1.2424242424242424,
          -1.1818181818181817,
          -1.121212121212121,
          -1.0606060606060606,
          -1,
          -0.9393939393939394,
          -0.8787878787878789,
          -0.8181818181818183,
          -0.7575757575757573,
          -0.6969696969696968,
          -0.6363636363636362,
          -0.5757575757575757,
          -0.5151515151515151,
          -0.4545454545454546,
          -0.39393939393939403,
          -0.33333333333333304,
          -0.2727272727272725,
          -0.21212121212121193,
          -0.15151515151515138,
          -0.09090909090909083,
          -0.030303030303030276,
          0.030303030303030276,
          0.09090909090909083,
          0.15151515151515138,
          0.21212121212121238,
          0.27272727272727293,
          0.3333333333333335,
          0.39393939393939403,
          0.4545454545454546,
          0.5151515151515151,
          0.5757575757575757,
          0.6363636363636367,
          0.6969696969696972,
          0.7575757575757578,
          0.8181818181818183,
          0.8787878787878789,
          0.9393939393939394,
          1,
          1.0606060606060606,
          1.121212121212121,
          1.1818181818181817,
          1.2424242424242422,
          1.3030303030303028,
          1.3636363636363633,
          1.4242424242424248,
          1.4848484848484853,
          1.5454545454545459,
          1.6060606060606064,
          1.666666666666667,
          1.7272727272727275,
          1.787878787878788,
          1.8484848484848486,
          1.9090909090909092,
          1.9696969696969697,
          2.0303030303030303,
          2.090909090909091,
          2.1515151515151514,
          2.212121212121212,
          2.2727272727272725,
          2.333333333333334,
          2.3939393939393945,
          2.454545454545455,
          2.5151515151515156,
          2.575757575757576,
          2.6363636363636367,
          2.6969696969696972,
          2.757575757575758,
          2.8181818181818183,
          2.878787878787879,
          2.9393939393939394,
          3
         ],
         "y": [
          0.01,
          0.01,
          0.01,
          0.01,
          0.01,
          0.01,
          0.01,
          0.01,
          0.01,
          0.01,
          0.01,
          0.01,
          0.01,
          0.01,
          0.01,
          0.01,
          0.01,
          0.01,
          0.01,
          0.01,
          0.01,
          0.01,
          0.01,
          0.01,
          0.01,
          0.01,
          0.01,
          0.01,
          0.01,
          0.01,
          0.01,
          0.01,
          0.01,
          0.01,
          0.01,
          0.01,
          0.01,
          0.01,
          0.01,
          0.01,
          0.01,
          0.01,
          0.01,
          0.01,
          0.01,
          0.01,
          0.01,
          0.01,
          0.01,
          0.01,
          1,
          1,
          1,
          1,
          1,
          1,
          1,
          1,
          1,
          1,
          1,
          1,
          1,
          1,
          1,
          1,
          1,
          1,
          1,
          1,
          1,
          1,
          1,
          1,
          1,
          1,
          1,
          1,
          1,
          1,
          1,
          1,
          1,
          1,
          1,
          1,
          1,
          1,
          1,
          1,
          1,
          1,
          1,
          1,
          1,
          1,
          1,
          1,
          1,
          1
         ]
        }
       ],
       "layout": {
        "showlegend": true,
        "template": {
         "data": {
          "bar": [
           {
            "error_x": {
             "color": "#2a3f5f"
            },
            "error_y": {
             "color": "#2a3f5f"
            },
            "marker": {
             "line": {
              "color": "#E5ECF6",
              "width": 0.5
             },
             "pattern": {
              "fillmode": "overlay",
              "size": 10,
              "solidity": 0.2
             }
            },
            "type": "bar"
           }
          ],
          "barpolar": [
           {
            "marker": {
             "line": {
              "color": "#E5ECF6",
              "width": 0.5
             },
             "pattern": {
              "fillmode": "overlay",
              "size": 10,
              "solidity": 0.2
             }
            },
            "type": "barpolar"
           }
          ],
          "carpet": [
           {
            "aaxis": {
             "endlinecolor": "#2a3f5f",
             "gridcolor": "white",
             "linecolor": "white",
             "minorgridcolor": "white",
             "startlinecolor": "#2a3f5f"
            },
            "baxis": {
             "endlinecolor": "#2a3f5f",
             "gridcolor": "white",
             "linecolor": "white",
             "minorgridcolor": "white",
             "startlinecolor": "#2a3f5f"
            },
            "type": "carpet"
           }
          ],
          "choropleth": [
           {
            "colorbar": {
             "outlinewidth": 0,
             "ticks": ""
            },
            "type": "choropleth"
           }
          ],
          "contour": [
           {
            "colorbar": {
             "outlinewidth": 0,
             "ticks": ""
            },
            "colorscale": [
             [
              0,
              "#0d0887"
             ],
             [
              0.1111111111111111,
              "#46039f"
             ],
             [
              0.2222222222222222,
              "#7201a8"
             ],
             [
              0.3333333333333333,
              "#9c179e"
             ],
             [
              0.4444444444444444,
              "#bd3786"
             ],
             [
              0.5555555555555556,
              "#d8576b"
             ],
             [
              0.6666666666666666,
              "#ed7953"
             ],
             [
              0.7777777777777778,
              "#fb9f3a"
             ],
             [
              0.8888888888888888,
              "#fdca26"
             ],
             [
              1,
              "#f0f921"
             ]
            ],
            "type": "contour"
           }
          ],
          "contourcarpet": [
           {
            "colorbar": {
             "outlinewidth": 0,
             "ticks": ""
            },
            "type": "contourcarpet"
           }
          ],
          "heatmap": [
           {
            "colorbar": {
             "outlinewidth": 0,
             "ticks": ""
            },
            "colorscale": [
             [
              0,
              "#0d0887"
             ],
             [
              0.1111111111111111,
              "#46039f"
             ],
             [
              0.2222222222222222,
              "#7201a8"
             ],
             [
              0.3333333333333333,
              "#9c179e"
             ],
             [
              0.4444444444444444,
              "#bd3786"
             ],
             [
              0.5555555555555556,
              "#d8576b"
             ],
             [
              0.6666666666666666,
              "#ed7953"
             ],
             [
              0.7777777777777778,
              "#fb9f3a"
             ],
             [
              0.8888888888888888,
              "#fdca26"
             ],
             [
              1,
              "#f0f921"
             ]
            ],
            "type": "heatmap"
           }
          ],
          "heatmapgl": [
           {
            "colorbar": {
             "outlinewidth": 0,
             "ticks": ""
            },
            "colorscale": [
             [
              0,
              "#0d0887"
             ],
             [
              0.1111111111111111,
              "#46039f"
             ],
             [
              0.2222222222222222,
              "#7201a8"
             ],
             [
              0.3333333333333333,
              "#9c179e"
             ],
             [
              0.4444444444444444,
              "#bd3786"
             ],
             [
              0.5555555555555556,
              "#d8576b"
             ],
             [
              0.6666666666666666,
              "#ed7953"
             ],
             [
              0.7777777777777778,
              "#fb9f3a"
             ],
             [
              0.8888888888888888,
              "#fdca26"
             ],
             [
              1,
              "#f0f921"
             ]
            ],
            "type": "heatmapgl"
           }
          ],
          "histogram": [
           {
            "marker": {
             "pattern": {
              "fillmode": "overlay",
              "size": 10,
              "solidity": 0.2
             }
            },
            "type": "histogram"
           }
          ],
          "histogram2d": [
           {
            "colorbar": {
             "outlinewidth": 0,
             "ticks": ""
            },
            "colorscale": [
             [
              0,
              "#0d0887"
             ],
             [
              0.1111111111111111,
              "#46039f"
             ],
             [
              0.2222222222222222,
              "#7201a8"
             ],
             [
              0.3333333333333333,
              "#9c179e"
             ],
             [
              0.4444444444444444,
              "#bd3786"
             ],
             [
              0.5555555555555556,
              "#d8576b"
             ],
             [
              0.6666666666666666,
              "#ed7953"
             ],
             [
              0.7777777777777778,
              "#fb9f3a"
             ],
             [
              0.8888888888888888,
              "#fdca26"
             ],
             [
              1,
              "#f0f921"
             ]
            ],
            "type": "histogram2d"
           }
          ],
          "histogram2dcontour": [
           {
            "colorbar": {
             "outlinewidth": 0,
             "ticks": ""
            },
            "colorscale": [
             [
              0,
              "#0d0887"
             ],
             [
              0.1111111111111111,
              "#46039f"
             ],
             [
              0.2222222222222222,
              "#7201a8"
             ],
             [
              0.3333333333333333,
              "#9c179e"
             ],
             [
              0.4444444444444444,
              "#bd3786"
             ],
             [
              0.5555555555555556,
              "#d8576b"
             ],
             [
              0.6666666666666666,
              "#ed7953"
             ],
             [
              0.7777777777777778,
              "#fb9f3a"
             ],
             [
              0.8888888888888888,
              "#fdca26"
             ],
             [
              1,
              "#f0f921"
             ]
            ],
            "type": "histogram2dcontour"
           }
          ],
          "mesh3d": [
           {
            "colorbar": {
             "outlinewidth": 0,
             "ticks": ""
            },
            "type": "mesh3d"
           }
          ],
          "parcoords": [
           {
            "line": {
             "colorbar": {
              "outlinewidth": 0,
              "ticks": ""
             }
            },
            "type": "parcoords"
           }
          ],
          "pie": [
           {
            "automargin": true,
            "type": "pie"
           }
          ],
          "scatter": [
           {
            "fillpattern": {
             "fillmode": "overlay",
             "size": 10,
             "solidity": 0.2
            },
            "type": "scatter"
           }
          ],
          "scatter3d": [
           {
            "line": {
             "colorbar": {
              "outlinewidth": 0,
              "ticks": ""
             }
            },
            "marker": {
             "colorbar": {
              "outlinewidth": 0,
              "ticks": ""
             }
            },
            "type": "scatter3d"
           }
          ],
          "scattercarpet": [
           {
            "marker": {
             "colorbar": {
              "outlinewidth": 0,
              "ticks": ""
             }
            },
            "type": "scattercarpet"
           }
          ],
          "scattergeo": [
           {
            "marker": {
             "colorbar": {
              "outlinewidth": 0,
              "ticks": ""
             }
            },
            "type": "scattergeo"
           }
          ],
          "scattergl": [
           {
            "marker": {
             "colorbar": {
              "outlinewidth": 0,
              "ticks": ""
             }
            },
            "type": "scattergl"
           }
          ],
          "scattermapbox": [
           {
            "marker": {
             "colorbar": {
              "outlinewidth": 0,
              "ticks": ""
             }
            },
            "type": "scattermapbox"
           }
          ],
          "scatterpolar": [
           {
            "marker": {
             "colorbar": {
              "outlinewidth": 0,
              "ticks": ""
             }
            },
            "type": "scatterpolar"
           }
          ],
          "scatterpolargl": [
           {
            "marker": {
             "colorbar": {
              "outlinewidth": 0,
              "ticks": ""
             }
            },
            "type": "scatterpolargl"
           }
          ],
          "scatterternary": [
           {
            "marker": {
             "colorbar": {
              "outlinewidth": 0,
              "ticks": ""
             }
            },
            "type": "scatterternary"
           }
          ],
          "surface": [
           {
            "colorbar": {
             "outlinewidth": 0,
             "ticks": ""
            },
            "colorscale": [
             [
              0,
              "#0d0887"
             ],
             [
              0.1111111111111111,
              "#46039f"
             ],
             [
              0.2222222222222222,
              "#7201a8"
             ],
             [
              0.3333333333333333,
              "#9c179e"
             ],
             [
              0.4444444444444444,
              "#bd3786"
             ],
             [
              0.5555555555555556,
              "#d8576b"
             ],
             [
              0.6666666666666666,
              "#ed7953"
             ],
             [
              0.7777777777777778,
              "#fb9f3a"
             ],
             [
              0.8888888888888888,
              "#fdca26"
             ],
             [
              1,
              "#f0f921"
             ]
            ],
            "type": "surface"
           }
          ],
          "table": [
           {
            "cells": {
             "fill": {
              "color": "#EBF0F8"
             },
             "line": {
              "color": "white"
             }
            },
            "header": {
             "fill": {
              "color": "#C8D4E3"
             },
             "line": {
              "color": "white"
             }
            },
            "type": "table"
           }
          ]
         },
         "layout": {
          "annotationdefaults": {
           "arrowcolor": "#2a3f5f",
           "arrowhead": 0,
           "arrowwidth": 1
          },
          "autotypenumbers": "strict",
          "coloraxis": {
           "colorbar": {
            "outlinewidth": 0,
            "ticks": ""
           }
          },
          "colorscale": {
           "diverging": [
            [
             0,
             "#8e0152"
            ],
            [
             0.1,
             "#c51b7d"
            ],
            [
             0.2,
             "#de77ae"
            ],
            [
             0.3,
             "#f1b6da"
            ],
            [
             0.4,
             "#fde0ef"
            ],
            [
             0.5,
             "#f7f7f7"
            ],
            [
             0.6,
             "#e6f5d0"
            ],
            [
             0.7,
             "#b8e186"
            ],
            [
             0.8,
             "#7fbc41"
            ],
            [
             0.9,
             "#4d9221"
            ],
            [
             1,
             "#276419"
            ]
           ],
           "sequential": [
            [
             0,
             "#0d0887"
            ],
            [
             0.1111111111111111,
             "#46039f"
            ],
            [
             0.2222222222222222,
             "#7201a8"
            ],
            [
             0.3333333333333333,
             "#9c179e"
            ],
            [
             0.4444444444444444,
             "#bd3786"
            ],
            [
             0.5555555555555556,
             "#d8576b"
            ],
            [
             0.6666666666666666,
             "#ed7953"
            ],
            [
             0.7777777777777778,
             "#fb9f3a"
            ],
            [
             0.8888888888888888,
             "#fdca26"
            ],
            [
             1,
             "#f0f921"
            ]
           ],
           "sequentialminus": [
            [
             0,
             "#0d0887"
            ],
            [
             0.1111111111111111,
             "#46039f"
            ],
            [
             0.2222222222222222,
             "#7201a8"
            ],
            [
             0.3333333333333333,
             "#9c179e"
            ],
            [
             0.4444444444444444,
             "#bd3786"
            ],
            [
             0.5555555555555556,
             "#d8576b"
            ],
            [
             0.6666666666666666,
             "#ed7953"
            ],
            [
             0.7777777777777778,
             "#fb9f3a"
            ],
            [
             0.8888888888888888,
             "#fdca26"
            ],
            [
             1,
             "#f0f921"
            ]
           ]
          },
          "colorway": [
           "#636efa",
           "#EF553B",
           "#00cc96",
           "#ab63fa",
           "#FFA15A",
           "#19d3f3",
           "#FF6692",
           "#B6E880",
           "#FF97FF",
           "#FECB52"
          ],
          "font": {
           "color": "#2a3f5f"
          },
          "geo": {
           "bgcolor": "white",
           "lakecolor": "white",
           "landcolor": "#E5ECF6",
           "showlakes": true,
           "showland": true,
           "subunitcolor": "white"
          },
          "hoverlabel": {
           "align": "left"
          },
          "hovermode": "closest",
          "mapbox": {
           "style": "light"
          },
          "paper_bgcolor": "white",
          "plot_bgcolor": "#E5ECF6",
          "polar": {
           "angularaxis": {
            "gridcolor": "white",
            "linecolor": "white",
            "ticks": ""
           },
           "bgcolor": "#E5ECF6",
           "radialaxis": {
            "gridcolor": "white",
            "linecolor": "white",
            "ticks": ""
           }
          },
          "scene": {
           "xaxis": {
            "backgroundcolor": "#E5ECF6",
            "gridcolor": "white",
            "gridwidth": 2,
            "linecolor": "white",
            "showbackground": true,
            "ticks": "",
            "zerolinecolor": "white"
           },
           "yaxis": {
            "backgroundcolor": "#E5ECF6",
            "gridcolor": "white",
            "gridwidth": 2,
            "linecolor": "white",
            "showbackground": true,
            "ticks": "",
            "zerolinecolor": "white"
           },
           "zaxis": {
            "backgroundcolor": "#E5ECF6",
            "gridcolor": "white",
            "gridwidth": 2,
            "linecolor": "white",
            "showbackground": true,
            "ticks": "",
            "zerolinecolor": "white"
           }
          },
          "shapedefaults": {
           "line": {
            "color": "#2a3f5f"
           }
          },
          "ternary": {
           "aaxis": {
            "gridcolor": "white",
            "linecolor": "white",
            "ticks": ""
           },
           "baxis": {
            "gridcolor": "white",
            "linecolor": "white",
            "ticks": ""
           },
           "bgcolor": "#E5ECF6",
           "caxis": {
            "gridcolor": "white",
            "linecolor": "white",
            "ticks": ""
           }
          },
          "title": {
           "x": 0.05
          },
          "xaxis": {
           "automargin": true,
           "gridcolor": "white",
           "linecolor": "white",
           "ticks": "",
           "title": {
            "standoff": 15
           },
           "zerolinecolor": "white",
           "zerolinewidth": 2
          },
          "yaxis": {
           "automargin": true,
           "gridcolor": "white",
           "linecolor": "white",
           "ticks": "",
           "title": {
            "standoff": 15
           },
           "zerolinecolor": "white",
           "zerolinewidth": 2
          }
         }
        },
        "title": {
         "text": "Parametric ReLU and Derivative "
        },
        "xaxis": {
         "title": {
          "text": "x"
         }
        },
        "yaxis": {
         "title": {
          "text": "y"
         }
        }
       }
      }
     },
     "metadata": {},
     "output_type": "display_data"
    },
    {
     "data": {
      "application/vnd.plotly.v1+json": {
       "config": {
        "plotlyServerURL": "https://plot.ly"
       },
       "data": [
        {
         "mode": "lines",
         "name": "PReLU function (alpha=0.02)",
         "type": "scatter",
         "x": [
          -3,
          -2.9393939393939394,
          -2.878787878787879,
          -2.8181818181818183,
          -2.757575757575758,
          -2.696969696969697,
          -2.6363636363636362,
          -2.5757575757575757,
          -2.515151515151515,
          -2.4545454545454546,
          -2.393939393939394,
          -2.333333333333333,
          -2.2727272727272725,
          -2.212121212121212,
          -2.1515151515151514,
          -2.090909090909091,
          -2.0303030303030303,
          -1.9696969696969697,
          -1.9090909090909092,
          -1.8484848484848484,
          -1.7878787878787878,
          -1.7272727272727273,
          -1.6666666666666665,
          -1.606060606060606,
          -1.5454545454545454,
          -1.4848484848484849,
          -1.4242424242424243,
          -1.3636363636363635,
          -1.303030303030303,
          -1.2424242424242424,
          -1.1818181818181817,
          -1.121212121212121,
          -1.0606060606060606,
          -1,
          -0.9393939393939394,
          -0.8787878787878789,
          -0.8181818181818183,
          -0.7575757575757573,
          -0.6969696969696968,
          -0.6363636363636362,
          -0.5757575757575757,
          -0.5151515151515151,
          -0.4545454545454546,
          -0.39393939393939403,
          -0.33333333333333304,
          -0.2727272727272725,
          -0.21212121212121193,
          -0.15151515151515138,
          -0.09090909090909083,
          -0.030303030303030276,
          0.030303030303030276,
          0.09090909090909083,
          0.15151515151515138,
          0.21212121212121238,
          0.27272727272727293,
          0.3333333333333335,
          0.39393939393939403,
          0.4545454545454546,
          0.5151515151515151,
          0.5757575757575757,
          0.6363636363636367,
          0.6969696969696972,
          0.7575757575757578,
          0.8181818181818183,
          0.8787878787878789,
          0.9393939393939394,
          1,
          1.0606060606060606,
          1.121212121212121,
          1.1818181818181817,
          1.2424242424242422,
          1.3030303030303028,
          1.3636363636363633,
          1.4242424242424248,
          1.4848484848484853,
          1.5454545454545459,
          1.6060606060606064,
          1.666666666666667,
          1.7272727272727275,
          1.787878787878788,
          1.8484848484848486,
          1.9090909090909092,
          1.9696969696969697,
          2.0303030303030303,
          2.090909090909091,
          2.1515151515151514,
          2.212121212121212,
          2.2727272727272725,
          2.333333333333334,
          2.3939393939393945,
          2.454545454545455,
          2.5151515151515156,
          2.575757575757576,
          2.6363636363636367,
          2.6969696969696972,
          2.757575757575758,
          2.8181818181818183,
          2.878787878787879,
          2.9393939393939394,
          3
         ],
         "y": [
          -0.06,
          -0.05878787878787879,
          -0.05757575757575758,
          -0.056363636363636366,
          -0.05515151515151516,
          -0.05393939393939394,
          -0.05272727272727273,
          -0.051515151515151514,
          -0.0503030303030303,
          -0.049090909090909095,
          -0.04787878787878788,
          -0.04666666666666666,
          -0.04545454545454545,
          -0.04424242424242424,
          -0.04303030303030303,
          -0.04181818181818182,
          -0.040606060606060604,
          -0.0393939393939394,
          -0.038181818181818185,
          -0.03696969696969697,
          -0.03575757575757576,
          -0.034545454545454546,
          -0.03333333333333333,
          -0.03212121212121212,
          -0.03090909090909091,
          -0.029696969696969697,
          -0.028484848484848488,
          -0.02727272727272727,
          -0.026060606060606062,
          -0.02484848484848485,
          -0.023636363636363632,
          -0.022424242424242423,
          -0.02121212121212121,
          -0.02,
          -0.01878787878787879,
          -0.017575757575757578,
          -0.01636363636363637,
          -0.015151515151515147,
          -0.013939393939393935,
          -0.012727272727272726,
          -0.011515151515151515,
          -0.010303030303030303,
          -0.009090909090909092,
          -0.007878787878787881,
          -0.006666666666666661,
          -0.00545454545454545,
          -0.0042424242424242385,
          -0.0030303030303030277,
          -0.0018181818181818167,
          -0.0006060606060606055,
          0.030303030303030276,
          0.09090909090909083,
          0.15151515151515138,
          0.21212121212121238,
          0.27272727272727293,
          0.3333333333333335,
          0.39393939393939403,
          0.4545454545454546,
          0.5151515151515151,
          0.5757575757575757,
          0.6363636363636367,
          0.6969696969696972,
          0.7575757575757578,
          0.8181818181818183,
          0.8787878787878789,
          0.9393939393939394,
          1,
          1.0606060606060606,
          1.121212121212121,
          1.1818181818181817,
          1.2424242424242422,
          1.3030303030303028,
          1.3636363636363633,
          1.4242424242424248,
          1.4848484848484853,
          1.5454545454545459,
          1.6060606060606064,
          1.666666666666667,
          1.7272727272727275,
          1.787878787878788,
          1.8484848484848486,
          1.9090909090909092,
          1.9696969696969697,
          2.0303030303030303,
          2.090909090909091,
          2.1515151515151514,
          2.212121212121212,
          2.2727272727272725,
          2.333333333333334,
          2.3939393939393945,
          2.454545454545455,
          2.5151515151515156,
          2.575757575757576,
          2.6363636363636367,
          2.6969696969696972,
          2.757575757575758,
          2.8181818181818183,
          2.878787878787879,
          2.9393939393939394,
          3
         ]
        },
        {
         "mode": "lines",
         "name": "PReLU derivative (alpha=0.02)",
         "type": "scatter",
         "x": [
          -3,
          -2.9393939393939394,
          -2.878787878787879,
          -2.8181818181818183,
          -2.757575757575758,
          -2.696969696969697,
          -2.6363636363636362,
          -2.5757575757575757,
          -2.515151515151515,
          -2.4545454545454546,
          -2.393939393939394,
          -2.333333333333333,
          -2.2727272727272725,
          -2.212121212121212,
          -2.1515151515151514,
          -2.090909090909091,
          -2.0303030303030303,
          -1.9696969696969697,
          -1.9090909090909092,
          -1.8484848484848484,
          -1.7878787878787878,
          -1.7272727272727273,
          -1.6666666666666665,
          -1.606060606060606,
          -1.5454545454545454,
          -1.4848484848484849,
          -1.4242424242424243,
          -1.3636363636363635,
          -1.303030303030303,
          -1.2424242424242424,
          -1.1818181818181817,
          -1.121212121212121,
          -1.0606060606060606,
          -1,
          -0.9393939393939394,
          -0.8787878787878789,
          -0.8181818181818183,
          -0.7575757575757573,
          -0.6969696969696968,
          -0.6363636363636362,
          -0.5757575757575757,
          -0.5151515151515151,
          -0.4545454545454546,
          -0.39393939393939403,
          -0.33333333333333304,
          -0.2727272727272725,
          -0.21212121212121193,
          -0.15151515151515138,
          -0.09090909090909083,
          -0.030303030303030276,
          0.030303030303030276,
          0.09090909090909083,
          0.15151515151515138,
          0.21212121212121238,
          0.27272727272727293,
          0.3333333333333335,
          0.39393939393939403,
          0.4545454545454546,
          0.5151515151515151,
          0.5757575757575757,
          0.6363636363636367,
          0.6969696969696972,
          0.7575757575757578,
          0.8181818181818183,
          0.8787878787878789,
          0.9393939393939394,
          1,
          1.0606060606060606,
          1.121212121212121,
          1.1818181818181817,
          1.2424242424242422,
          1.3030303030303028,
          1.3636363636363633,
          1.4242424242424248,
          1.4848484848484853,
          1.5454545454545459,
          1.6060606060606064,
          1.666666666666667,
          1.7272727272727275,
          1.787878787878788,
          1.8484848484848486,
          1.9090909090909092,
          1.9696969696969697,
          2.0303030303030303,
          2.090909090909091,
          2.1515151515151514,
          2.212121212121212,
          2.2727272727272725,
          2.333333333333334,
          2.3939393939393945,
          2.454545454545455,
          2.5151515151515156,
          2.575757575757576,
          2.6363636363636367,
          2.6969696969696972,
          2.757575757575758,
          2.8181818181818183,
          2.878787878787879,
          2.9393939393939394,
          3
         ],
         "y": [
          0.02,
          0.02,
          0.02,
          0.02,
          0.02,
          0.02,
          0.02,
          0.02,
          0.02,
          0.02,
          0.02,
          0.02,
          0.02,
          0.02,
          0.02,
          0.02,
          0.02,
          0.02,
          0.02,
          0.02,
          0.02,
          0.02,
          0.02,
          0.02,
          0.02,
          0.02,
          0.02,
          0.02,
          0.02,
          0.02,
          0.02,
          0.02,
          0.02,
          0.02,
          0.02,
          0.02,
          0.02,
          0.02,
          0.02,
          0.02,
          0.02,
          0.02,
          0.02,
          0.02,
          0.02,
          0.02,
          0.02,
          0.02,
          0.02,
          0.02,
          1,
          1,
          1,
          1,
          1,
          1,
          1,
          1,
          1,
          1,
          1,
          1,
          1,
          1,
          1,
          1,
          1,
          1,
          1,
          1,
          1,
          1,
          1,
          1,
          1,
          1,
          1,
          1,
          1,
          1,
          1,
          1,
          1,
          1,
          1,
          1,
          1,
          1,
          1,
          1,
          1,
          1,
          1,
          1,
          1,
          1,
          1,
          1,
          1,
          1
         ]
        }
       ],
       "layout": {
        "showlegend": true,
        "template": {
         "data": {
          "bar": [
           {
            "error_x": {
             "color": "#2a3f5f"
            },
            "error_y": {
             "color": "#2a3f5f"
            },
            "marker": {
             "line": {
              "color": "#E5ECF6",
              "width": 0.5
             },
             "pattern": {
              "fillmode": "overlay",
              "size": 10,
              "solidity": 0.2
             }
            },
            "type": "bar"
           }
          ],
          "barpolar": [
           {
            "marker": {
             "line": {
              "color": "#E5ECF6",
              "width": 0.5
             },
             "pattern": {
              "fillmode": "overlay",
              "size": 10,
              "solidity": 0.2
             }
            },
            "type": "barpolar"
           }
          ],
          "carpet": [
           {
            "aaxis": {
             "endlinecolor": "#2a3f5f",
             "gridcolor": "white",
             "linecolor": "white",
             "minorgridcolor": "white",
             "startlinecolor": "#2a3f5f"
            },
            "baxis": {
             "endlinecolor": "#2a3f5f",
             "gridcolor": "white",
             "linecolor": "white",
             "minorgridcolor": "white",
             "startlinecolor": "#2a3f5f"
            },
            "type": "carpet"
           }
          ],
          "choropleth": [
           {
            "colorbar": {
             "outlinewidth": 0,
             "ticks": ""
            },
            "type": "choropleth"
           }
          ],
          "contour": [
           {
            "colorbar": {
             "outlinewidth": 0,
             "ticks": ""
            },
            "colorscale": [
             [
              0,
              "#0d0887"
             ],
             [
              0.1111111111111111,
              "#46039f"
             ],
             [
              0.2222222222222222,
              "#7201a8"
             ],
             [
              0.3333333333333333,
              "#9c179e"
             ],
             [
              0.4444444444444444,
              "#bd3786"
             ],
             [
              0.5555555555555556,
              "#d8576b"
             ],
             [
              0.6666666666666666,
              "#ed7953"
             ],
             [
              0.7777777777777778,
              "#fb9f3a"
             ],
             [
              0.8888888888888888,
              "#fdca26"
             ],
             [
              1,
              "#f0f921"
             ]
            ],
            "type": "contour"
           }
          ],
          "contourcarpet": [
           {
            "colorbar": {
             "outlinewidth": 0,
             "ticks": ""
            },
            "type": "contourcarpet"
           }
          ],
          "heatmap": [
           {
            "colorbar": {
             "outlinewidth": 0,
             "ticks": ""
            },
            "colorscale": [
             [
              0,
              "#0d0887"
             ],
             [
              0.1111111111111111,
              "#46039f"
             ],
             [
              0.2222222222222222,
              "#7201a8"
             ],
             [
              0.3333333333333333,
              "#9c179e"
             ],
             [
              0.4444444444444444,
              "#bd3786"
             ],
             [
              0.5555555555555556,
              "#d8576b"
             ],
             [
              0.6666666666666666,
              "#ed7953"
             ],
             [
              0.7777777777777778,
              "#fb9f3a"
             ],
             [
              0.8888888888888888,
              "#fdca26"
             ],
             [
              1,
              "#f0f921"
             ]
            ],
            "type": "heatmap"
           }
          ],
          "heatmapgl": [
           {
            "colorbar": {
             "outlinewidth": 0,
             "ticks": ""
            },
            "colorscale": [
             [
              0,
              "#0d0887"
             ],
             [
              0.1111111111111111,
              "#46039f"
             ],
             [
              0.2222222222222222,
              "#7201a8"
             ],
             [
              0.3333333333333333,
              "#9c179e"
             ],
             [
              0.4444444444444444,
              "#bd3786"
             ],
             [
              0.5555555555555556,
              "#d8576b"
             ],
             [
              0.6666666666666666,
              "#ed7953"
             ],
             [
              0.7777777777777778,
              "#fb9f3a"
             ],
             [
              0.8888888888888888,
              "#fdca26"
             ],
             [
              1,
              "#f0f921"
             ]
            ],
            "type": "heatmapgl"
           }
          ],
          "histogram": [
           {
            "marker": {
             "pattern": {
              "fillmode": "overlay",
              "size": 10,
              "solidity": 0.2
             }
            },
            "type": "histogram"
           }
          ],
          "histogram2d": [
           {
            "colorbar": {
             "outlinewidth": 0,
             "ticks": ""
            },
            "colorscale": [
             [
              0,
              "#0d0887"
             ],
             [
              0.1111111111111111,
              "#46039f"
             ],
             [
              0.2222222222222222,
              "#7201a8"
             ],
             [
              0.3333333333333333,
              "#9c179e"
             ],
             [
              0.4444444444444444,
              "#bd3786"
             ],
             [
              0.5555555555555556,
              "#d8576b"
             ],
             [
              0.6666666666666666,
              "#ed7953"
             ],
             [
              0.7777777777777778,
              "#fb9f3a"
             ],
             [
              0.8888888888888888,
              "#fdca26"
             ],
             [
              1,
              "#f0f921"
             ]
            ],
            "type": "histogram2d"
           }
          ],
          "histogram2dcontour": [
           {
            "colorbar": {
             "outlinewidth": 0,
             "ticks": ""
            },
            "colorscale": [
             [
              0,
              "#0d0887"
             ],
             [
              0.1111111111111111,
              "#46039f"
             ],
             [
              0.2222222222222222,
              "#7201a8"
             ],
             [
              0.3333333333333333,
              "#9c179e"
             ],
             [
              0.4444444444444444,
              "#bd3786"
             ],
             [
              0.5555555555555556,
              "#d8576b"
             ],
             [
              0.6666666666666666,
              "#ed7953"
             ],
             [
              0.7777777777777778,
              "#fb9f3a"
             ],
             [
              0.8888888888888888,
              "#fdca26"
             ],
             [
              1,
              "#f0f921"
             ]
            ],
            "type": "histogram2dcontour"
           }
          ],
          "mesh3d": [
           {
            "colorbar": {
             "outlinewidth": 0,
             "ticks": ""
            },
            "type": "mesh3d"
           }
          ],
          "parcoords": [
           {
            "line": {
             "colorbar": {
              "outlinewidth": 0,
              "ticks": ""
             }
            },
            "type": "parcoords"
           }
          ],
          "pie": [
           {
            "automargin": true,
            "type": "pie"
           }
          ],
          "scatter": [
           {
            "fillpattern": {
             "fillmode": "overlay",
             "size": 10,
             "solidity": 0.2
            },
            "type": "scatter"
           }
          ],
          "scatter3d": [
           {
            "line": {
             "colorbar": {
              "outlinewidth": 0,
              "ticks": ""
             }
            },
            "marker": {
             "colorbar": {
              "outlinewidth": 0,
              "ticks": ""
             }
            },
            "type": "scatter3d"
           }
          ],
          "scattercarpet": [
           {
            "marker": {
             "colorbar": {
              "outlinewidth": 0,
              "ticks": ""
             }
            },
            "type": "scattercarpet"
           }
          ],
          "scattergeo": [
           {
            "marker": {
             "colorbar": {
              "outlinewidth": 0,
              "ticks": ""
             }
            },
            "type": "scattergeo"
           }
          ],
          "scattergl": [
           {
            "marker": {
             "colorbar": {
              "outlinewidth": 0,
              "ticks": ""
             }
            },
            "type": "scattergl"
           }
          ],
          "scattermapbox": [
           {
            "marker": {
             "colorbar": {
              "outlinewidth": 0,
              "ticks": ""
             }
            },
            "type": "scattermapbox"
           }
          ],
          "scatterpolar": [
           {
            "marker": {
             "colorbar": {
              "outlinewidth": 0,
              "ticks": ""
             }
            },
            "type": "scatterpolar"
           }
          ],
          "scatterpolargl": [
           {
            "marker": {
             "colorbar": {
              "outlinewidth": 0,
              "ticks": ""
             }
            },
            "type": "scatterpolargl"
           }
          ],
          "scatterternary": [
           {
            "marker": {
             "colorbar": {
              "outlinewidth": 0,
              "ticks": ""
             }
            },
            "type": "scatterternary"
           }
          ],
          "surface": [
           {
            "colorbar": {
             "outlinewidth": 0,
             "ticks": ""
            },
            "colorscale": [
             [
              0,
              "#0d0887"
             ],
             [
              0.1111111111111111,
              "#46039f"
             ],
             [
              0.2222222222222222,
              "#7201a8"
             ],
             [
              0.3333333333333333,
              "#9c179e"
             ],
             [
              0.4444444444444444,
              "#bd3786"
             ],
             [
              0.5555555555555556,
              "#d8576b"
             ],
             [
              0.6666666666666666,
              "#ed7953"
             ],
             [
              0.7777777777777778,
              "#fb9f3a"
             ],
             [
              0.8888888888888888,
              "#fdca26"
             ],
             [
              1,
              "#f0f921"
             ]
            ],
            "type": "surface"
           }
          ],
          "table": [
           {
            "cells": {
             "fill": {
              "color": "#EBF0F8"
             },
             "line": {
              "color": "white"
             }
            },
            "header": {
             "fill": {
              "color": "#C8D4E3"
             },
             "line": {
              "color": "white"
             }
            },
            "type": "table"
           }
          ]
         },
         "layout": {
          "annotationdefaults": {
           "arrowcolor": "#2a3f5f",
           "arrowhead": 0,
           "arrowwidth": 1
          },
          "autotypenumbers": "strict",
          "coloraxis": {
           "colorbar": {
            "outlinewidth": 0,
            "ticks": ""
           }
          },
          "colorscale": {
           "diverging": [
            [
             0,
             "#8e0152"
            ],
            [
             0.1,
             "#c51b7d"
            ],
            [
             0.2,
             "#de77ae"
            ],
            [
             0.3,
             "#f1b6da"
            ],
            [
             0.4,
             "#fde0ef"
            ],
            [
             0.5,
             "#f7f7f7"
            ],
            [
             0.6,
             "#e6f5d0"
            ],
            [
             0.7,
             "#b8e186"
            ],
            [
             0.8,
             "#7fbc41"
            ],
            [
             0.9,
             "#4d9221"
            ],
            [
             1,
             "#276419"
            ]
           ],
           "sequential": [
            [
             0,
             "#0d0887"
            ],
            [
             0.1111111111111111,
             "#46039f"
            ],
            [
             0.2222222222222222,
             "#7201a8"
            ],
            [
             0.3333333333333333,
             "#9c179e"
            ],
            [
             0.4444444444444444,
             "#bd3786"
            ],
            [
             0.5555555555555556,
             "#d8576b"
            ],
            [
             0.6666666666666666,
             "#ed7953"
            ],
            [
             0.7777777777777778,
             "#fb9f3a"
            ],
            [
             0.8888888888888888,
             "#fdca26"
            ],
            [
             1,
             "#f0f921"
            ]
           ],
           "sequentialminus": [
            [
             0,
             "#0d0887"
            ],
            [
             0.1111111111111111,
             "#46039f"
            ],
            [
             0.2222222222222222,
             "#7201a8"
            ],
            [
             0.3333333333333333,
             "#9c179e"
            ],
            [
             0.4444444444444444,
             "#bd3786"
            ],
            [
             0.5555555555555556,
             "#d8576b"
            ],
            [
             0.6666666666666666,
             "#ed7953"
            ],
            [
             0.7777777777777778,
             "#fb9f3a"
            ],
            [
             0.8888888888888888,
             "#fdca26"
            ],
            [
             1,
             "#f0f921"
            ]
           ]
          },
          "colorway": [
           "#636efa",
           "#EF553B",
           "#00cc96",
           "#ab63fa",
           "#FFA15A",
           "#19d3f3",
           "#FF6692",
           "#B6E880",
           "#FF97FF",
           "#FECB52"
          ],
          "font": {
           "color": "#2a3f5f"
          },
          "geo": {
           "bgcolor": "white",
           "lakecolor": "white",
           "landcolor": "#E5ECF6",
           "showlakes": true,
           "showland": true,
           "subunitcolor": "white"
          },
          "hoverlabel": {
           "align": "left"
          },
          "hovermode": "closest",
          "mapbox": {
           "style": "light"
          },
          "paper_bgcolor": "white",
          "plot_bgcolor": "#E5ECF6",
          "polar": {
           "angularaxis": {
            "gridcolor": "white",
            "linecolor": "white",
            "ticks": ""
           },
           "bgcolor": "#E5ECF6",
           "radialaxis": {
            "gridcolor": "white",
            "linecolor": "white",
            "ticks": ""
           }
          },
          "scene": {
           "xaxis": {
            "backgroundcolor": "#E5ECF6",
            "gridcolor": "white",
            "gridwidth": 2,
            "linecolor": "white",
            "showbackground": true,
            "ticks": "",
            "zerolinecolor": "white"
           },
           "yaxis": {
            "backgroundcolor": "#E5ECF6",
            "gridcolor": "white",
            "gridwidth": 2,
            "linecolor": "white",
            "showbackground": true,
            "ticks": "",
            "zerolinecolor": "white"
           },
           "zaxis": {
            "backgroundcolor": "#E5ECF6",
            "gridcolor": "white",
            "gridwidth": 2,
            "linecolor": "white",
            "showbackground": true,
            "ticks": "",
            "zerolinecolor": "white"
           }
          },
          "shapedefaults": {
           "line": {
            "color": "#2a3f5f"
           }
          },
          "ternary": {
           "aaxis": {
            "gridcolor": "white",
            "linecolor": "white",
            "ticks": ""
           },
           "baxis": {
            "gridcolor": "white",
            "linecolor": "white",
            "ticks": ""
           },
           "bgcolor": "#E5ECF6",
           "caxis": {
            "gridcolor": "white",
            "linecolor": "white",
            "ticks": ""
           }
          },
          "title": {
           "x": 0.05
          },
          "xaxis": {
           "automargin": true,
           "gridcolor": "white",
           "linecolor": "white",
           "ticks": "",
           "title": {
            "standoff": 15
           },
           "zerolinecolor": "white",
           "zerolinewidth": 2
          },
          "yaxis": {
           "automargin": true,
           "gridcolor": "white",
           "linecolor": "white",
           "ticks": "",
           "title": {
            "standoff": 15
           },
           "zerolinecolor": "white",
           "zerolinewidth": 2
          }
         }
        },
        "title": {
         "text": "Parametric ReLU and Derivative "
        },
        "xaxis": {
         "title": {
          "text": "x"
         }
        },
        "yaxis": {
         "title": {
          "text": "y"
         }
        }
       }
      }
     },
     "metadata": {},
     "output_type": "display_data"
    },
    {
     "data": {
      "application/vnd.plotly.v1+json": {
       "config": {
        "plotlyServerURL": "https://plot.ly"
       },
       "data": [
        {
         "mode": "lines",
         "name": "PReLU function (alpha=0.35)",
         "type": "scatter",
         "x": [
          -3,
          -2.9393939393939394,
          -2.878787878787879,
          -2.8181818181818183,
          -2.757575757575758,
          -2.696969696969697,
          -2.6363636363636362,
          -2.5757575757575757,
          -2.515151515151515,
          -2.4545454545454546,
          -2.393939393939394,
          -2.333333333333333,
          -2.2727272727272725,
          -2.212121212121212,
          -2.1515151515151514,
          -2.090909090909091,
          -2.0303030303030303,
          -1.9696969696969697,
          -1.9090909090909092,
          -1.8484848484848484,
          -1.7878787878787878,
          -1.7272727272727273,
          -1.6666666666666665,
          -1.606060606060606,
          -1.5454545454545454,
          -1.4848484848484849,
          -1.4242424242424243,
          -1.3636363636363635,
          -1.303030303030303,
          -1.2424242424242424,
          -1.1818181818181817,
          -1.121212121212121,
          -1.0606060606060606,
          -1,
          -0.9393939393939394,
          -0.8787878787878789,
          -0.8181818181818183,
          -0.7575757575757573,
          -0.6969696969696968,
          -0.6363636363636362,
          -0.5757575757575757,
          -0.5151515151515151,
          -0.4545454545454546,
          -0.39393939393939403,
          -0.33333333333333304,
          -0.2727272727272725,
          -0.21212121212121193,
          -0.15151515151515138,
          -0.09090909090909083,
          -0.030303030303030276,
          0.030303030303030276,
          0.09090909090909083,
          0.15151515151515138,
          0.21212121212121238,
          0.27272727272727293,
          0.3333333333333335,
          0.39393939393939403,
          0.4545454545454546,
          0.5151515151515151,
          0.5757575757575757,
          0.6363636363636367,
          0.6969696969696972,
          0.7575757575757578,
          0.8181818181818183,
          0.8787878787878789,
          0.9393939393939394,
          1,
          1.0606060606060606,
          1.121212121212121,
          1.1818181818181817,
          1.2424242424242422,
          1.3030303030303028,
          1.3636363636363633,
          1.4242424242424248,
          1.4848484848484853,
          1.5454545454545459,
          1.6060606060606064,
          1.666666666666667,
          1.7272727272727275,
          1.787878787878788,
          1.8484848484848486,
          1.9090909090909092,
          1.9696969696969697,
          2.0303030303030303,
          2.090909090909091,
          2.1515151515151514,
          2.212121212121212,
          2.2727272727272725,
          2.333333333333334,
          2.3939393939393945,
          2.454545454545455,
          2.5151515151515156,
          2.575757575757576,
          2.6363636363636367,
          2.6969696969696972,
          2.757575757575758,
          2.8181818181818183,
          2.878787878787879,
          2.9393939393939394,
          3
         ],
         "y": [
          -1.0499999999999998,
          -1.0287878787878788,
          -1.0075757575757576,
          -0.9863636363636363,
          -0.9651515151515152,
          -0.9439393939393939,
          -0.9227272727272726,
          -0.9015151515151514,
          -0.8803030303030303,
          -0.859090909090909,
          -0.8378787878787879,
          -0.8166666666666665,
          -0.7954545454545453,
          -0.7742424242424242,
          -0.7530303030303029,
          -0.7318181818181817,
          -0.7106060606060606,
          -0.6893939393939393,
          -0.6681818181818182,
          -0.6469696969696969,
          -0.6257575757575757,
          -0.6045454545454545,
          -0.5833333333333333,
          -0.562121212121212,
          -0.5409090909090909,
          -0.5196969696969697,
          -0.4984848484848485,
          -0.4772727272727272,
          -0.456060606060606,
          -0.4348484848484848,
          -0.4136363636363636,
          -0.39242424242424234,
          -0.37121212121212116,
          -0.35,
          -0.3287878787878788,
          -0.3075757575757576,
          -0.2863636363636364,
          -0.265151515151515,
          -0.24393939393939387,
          -0.22272727272727266,
          -0.20151515151515148,
          -0.1803030303030303,
          -0.1590909090909091,
          -0.1378787878787879,
          -0.11666666666666656,
          -0.09545454545454536,
          -0.07424242424242417,
          -0.05303030303030298,
          -0.03181818181818179,
          -0.010606060606060596,
          0.030303030303030276,
          0.09090909090909083,
          0.15151515151515138,
          0.21212121212121238,
          0.27272727272727293,
          0.3333333333333335,
          0.39393939393939403,
          0.4545454545454546,
          0.5151515151515151,
          0.5757575757575757,
          0.6363636363636367,
          0.6969696969696972,
          0.7575757575757578,
          0.8181818181818183,
          0.8787878787878789,
          0.9393939393939394,
          1,
          1.0606060606060606,
          1.121212121212121,
          1.1818181818181817,
          1.2424242424242422,
          1.3030303030303028,
          1.3636363636363633,
          1.4242424242424248,
          1.4848484848484853,
          1.5454545454545459,
          1.6060606060606064,
          1.666666666666667,
          1.7272727272727275,
          1.787878787878788,
          1.8484848484848486,
          1.9090909090909092,
          1.9696969696969697,
          2.0303030303030303,
          2.090909090909091,
          2.1515151515151514,
          2.212121212121212,
          2.2727272727272725,
          2.333333333333334,
          2.3939393939393945,
          2.454545454545455,
          2.5151515151515156,
          2.575757575757576,
          2.6363636363636367,
          2.6969696969696972,
          2.757575757575758,
          2.8181818181818183,
          2.878787878787879,
          2.9393939393939394,
          3
         ]
        },
        {
         "mode": "lines",
         "name": "PReLU derivative (alpha=0.35)",
         "type": "scatter",
         "x": [
          -3,
          -2.9393939393939394,
          -2.878787878787879,
          -2.8181818181818183,
          -2.757575757575758,
          -2.696969696969697,
          -2.6363636363636362,
          -2.5757575757575757,
          -2.515151515151515,
          -2.4545454545454546,
          -2.393939393939394,
          -2.333333333333333,
          -2.2727272727272725,
          -2.212121212121212,
          -2.1515151515151514,
          -2.090909090909091,
          -2.0303030303030303,
          -1.9696969696969697,
          -1.9090909090909092,
          -1.8484848484848484,
          -1.7878787878787878,
          -1.7272727272727273,
          -1.6666666666666665,
          -1.606060606060606,
          -1.5454545454545454,
          -1.4848484848484849,
          -1.4242424242424243,
          -1.3636363636363635,
          -1.303030303030303,
          -1.2424242424242424,
          -1.1818181818181817,
          -1.121212121212121,
          -1.0606060606060606,
          -1,
          -0.9393939393939394,
          -0.8787878787878789,
          -0.8181818181818183,
          -0.7575757575757573,
          -0.6969696969696968,
          -0.6363636363636362,
          -0.5757575757575757,
          -0.5151515151515151,
          -0.4545454545454546,
          -0.39393939393939403,
          -0.33333333333333304,
          -0.2727272727272725,
          -0.21212121212121193,
          -0.15151515151515138,
          -0.09090909090909083,
          -0.030303030303030276,
          0.030303030303030276,
          0.09090909090909083,
          0.15151515151515138,
          0.21212121212121238,
          0.27272727272727293,
          0.3333333333333335,
          0.39393939393939403,
          0.4545454545454546,
          0.5151515151515151,
          0.5757575757575757,
          0.6363636363636367,
          0.6969696969696972,
          0.7575757575757578,
          0.8181818181818183,
          0.8787878787878789,
          0.9393939393939394,
          1,
          1.0606060606060606,
          1.121212121212121,
          1.1818181818181817,
          1.2424242424242422,
          1.3030303030303028,
          1.3636363636363633,
          1.4242424242424248,
          1.4848484848484853,
          1.5454545454545459,
          1.6060606060606064,
          1.666666666666667,
          1.7272727272727275,
          1.787878787878788,
          1.8484848484848486,
          1.9090909090909092,
          1.9696969696969697,
          2.0303030303030303,
          2.090909090909091,
          2.1515151515151514,
          2.212121212121212,
          2.2727272727272725,
          2.333333333333334,
          2.3939393939393945,
          2.454545454545455,
          2.5151515151515156,
          2.575757575757576,
          2.6363636363636367,
          2.6969696969696972,
          2.757575757575758,
          2.8181818181818183,
          2.878787878787879,
          2.9393939393939394,
          3
         ],
         "y": [
          0.35,
          0.35,
          0.35,
          0.35,
          0.35,
          0.35,
          0.35,
          0.35,
          0.35,
          0.35,
          0.35,
          0.35,
          0.35,
          0.35,
          0.35,
          0.35,
          0.35,
          0.35,
          0.35,
          0.35,
          0.35,
          0.35,
          0.35,
          0.35,
          0.35,
          0.35,
          0.35,
          0.35,
          0.35,
          0.35,
          0.35,
          0.35,
          0.35,
          0.35,
          0.35,
          0.35,
          0.35,
          0.35,
          0.35,
          0.35,
          0.35,
          0.35,
          0.35,
          0.35,
          0.35,
          0.35,
          0.35,
          0.35,
          0.35,
          0.35,
          1,
          1,
          1,
          1,
          1,
          1,
          1,
          1,
          1,
          1,
          1,
          1,
          1,
          1,
          1,
          1,
          1,
          1,
          1,
          1,
          1,
          1,
          1,
          1,
          1,
          1,
          1,
          1,
          1,
          1,
          1,
          1,
          1,
          1,
          1,
          1,
          1,
          1,
          1,
          1,
          1,
          1,
          1,
          1,
          1,
          1,
          1,
          1,
          1,
          1
         ]
        }
       ],
       "layout": {
        "showlegend": true,
        "template": {
         "data": {
          "bar": [
           {
            "error_x": {
             "color": "#2a3f5f"
            },
            "error_y": {
             "color": "#2a3f5f"
            },
            "marker": {
             "line": {
              "color": "#E5ECF6",
              "width": 0.5
             },
             "pattern": {
              "fillmode": "overlay",
              "size": 10,
              "solidity": 0.2
             }
            },
            "type": "bar"
           }
          ],
          "barpolar": [
           {
            "marker": {
             "line": {
              "color": "#E5ECF6",
              "width": 0.5
             },
             "pattern": {
              "fillmode": "overlay",
              "size": 10,
              "solidity": 0.2
             }
            },
            "type": "barpolar"
           }
          ],
          "carpet": [
           {
            "aaxis": {
             "endlinecolor": "#2a3f5f",
             "gridcolor": "white",
             "linecolor": "white",
             "minorgridcolor": "white",
             "startlinecolor": "#2a3f5f"
            },
            "baxis": {
             "endlinecolor": "#2a3f5f",
             "gridcolor": "white",
             "linecolor": "white",
             "minorgridcolor": "white",
             "startlinecolor": "#2a3f5f"
            },
            "type": "carpet"
           }
          ],
          "choropleth": [
           {
            "colorbar": {
             "outlinewidth": 0,
             "ticks": ""
            },
            "type": "choropleth"
           }
          ],
          "contour": [
           {
            "colorbar": {
             "outlinewidth": 0,
             "ticks": ""
            },
            "colorscale": [
             [
              0,
              "#0d0887"
             ],
             [
              0.1111111111111111,
              "#46039f"
             ],
             [
              0.2222222222222222,
              "#7201a8"
             ],
             [
              0.3333333333333333,
              "#9c179e"
             ],
             [
              0.4444444444444444,
              "#bd3786"
             ],
             [
              0.5555555555555556,
              "#d8576b"
             ],
             [
              0.6666666666666666,
              "#ed7953"
             ],
             [
              0.7777777777777778,
              "#fb9f3a"
             ],
             [
              0.8888888888888888,
              "#fdca26"
             ],
             [
              1,
              "#f0f921"
             ]
            ],
            "type": "contour"
           }
          ],
          "contourcarpet": [
           {
            "colorbar": {
             "outlinewidth": 0,
             "ticks": ""
            },
            "type": "contourcarpet"
           }
          ],
          "heatmap": [
           {
            "colorbar": {
             "outlinewidth": 0,
             "ticks": ""
            },
            "colorscale": [
             [
              0,
              "#0d0887"
             ],
             [
              0.1111111111111111,
              "#46039f"
             ],
             [
              0.2222222222222222,
              "#7201a8"
             ],
             [
              0.3333333333333333,
              "#9c179e"
             ],
             [
              0.4444444444444444,
              "#bd3786"
             ],
             [
              0.5555555555555556,
              "#d8576b"
             ],
             [
              0.6666666666666666,
              "#ed7953"
             ],
             [
              0.7777777777777778,
              "#fb9f3a"
             ],
             [
              0.8888888888888888,
              "#fdca26"
             ],
             [
              1,
              "#f0f921"
             ]
            ],
            "type": "heatmap"
           }
          ],
          "heatmapgl": [
           {
            "colorbar": {
             "outlinewidth": 0,
             "ticks": ""
            },
            "colorscale": [
             [
              0,
              "#0d0887"
             ],
             [
              0.1111111111111111,
              "#46039f"
             ],
             [
              0.2222222222222222,
              "#7201a8"
             ],
             [
              0.3333333333333333,
              "#9c179e"
             ],
             [
              0.4444444444444444,
              "#bd3786"
             ],
             [
              0.5555555555555556,
              "#d8576b"
             ],
             [
              0.6666666666666666,
              "#ed7953"
             ],
             [
              0.7777777777777778,
              "#fb9f3a"
             ],
             [
              0.8888888888888888,
              "#fdca26"
             ],
             [
              1,
              "#f0f921"
             ]
            ],
            "type": "heatmapgl"
           }
          ],
          "histogram": [
           {
            "marker": {
             "pattern": {
              "fillmode": "overlay",
              "size": 10,
              "solidity": 0.2
             }
            },
            "type": "histogram"
           }
          ],
          "histogram2d": [
           {
            "colorbar": {
             "outlinewidth": 0,
             "ticks": ""
            },
            "colorscale": [
             [
              0,
              "#0d0887"
             ],
             [
              0.1111111111111111,
              "#46039f"
             ],
             [
              0.2222222222222222,
              "#7201a8"
             ],
             [
              0.3333333333333333,
              "#9c179e"
             ],
             [
              0.4444444444444444,
              "#bd3786"
             ],
             [
              0.5555555555555556,
              "#d8576b"
             ],
             [
              0.6666666666666666,
              "#ed7953"
             ],
             [
              0.7777777777777778,
              "#fb9f3a"
             ],
             [
              0.8888888888888888,
              "#fdca26"
             ],
             [
              1,
              "#f0f921"
             ]
            ],
            "type": "histogram2d"
           }
          ],
          "histogram2dcontour": [
           {
            "colorbar": {
             "outlinewidth": 0,
             "ticks": ""
            },
            "colorscale": [
             [
              0,
              "#0d0887"
             ],
             [
              0.1111111111111111,
              "#46039f"
             ],
             [
              0.2222222222222222,
              "#7201a8"
             ],
             [
              0.3333333333333333,
              "#9c179e"
             ],
             [
              0.4444444444444444,
              "#bd3786"
             ],
             [
              0.5555555555555556,
              "#d8576b"
             ],
             [
              0.6666666666666666,
              "#ed7953"
             ],
             [
              0.7777777777777778,
              "#fb9f3a"
             ],
             [
              0.8888888888888888,
              "#fdca26"
             ],
             [
              1,
              "#f0f921"
             ]
            ],
            "type": "histogram2dcontour"
           }
          ],
          "mesh3d": [
           {
            "colorbar": {
             "outlinewidth": 0,
             "ticks": ""
            },
            "type": "mesh3d"
           }
          ],
          "parcoords": [
           {
            "line": {
             "colorbar": {
              "outlinewidth": 0,
              "ticks": ""
             }
            },
            "type": "parcoords"
           }
          ],
          "pie": [
           {
            "automargin": true,
            "type": "pie"
           }
          ],
          "scatter": [
           {
            "fillpattern": {
             "fillmode": "overlay",
             "size": 10,
             "solidity": 0.2
            },
            "type": "scatter"
           }
          ],
          "scatter3d": [
           {
            "line": {
             "colorbar": {
              "outlinewidth": 0,
              "ticks": ""
             }
            },
            "marker": {
             "colorbar": {
              "outlinewidth": 0,
              "ticks": ""
             }
            },
            "type": "scatter3d"
           }
          ],
          "scattercarpet": [
           {
            "marker": {
             "colorbar": {
              "outlinewidth": 0,
              "ticks": ""
             }
            },
            "type": "scattercarpet"
           }
          ],
          "scattergeo": [
           {
            "marker": {
             "colorbar": {
              "outlinewidth": 0,
              "ticks": ""
             }
            },
            "type": "scattergeo"
           }
          ],
          "scattergl": [
           {
            "marker": {
             "colorbar": {
              "outlinewidth": 0,
              "ticks": ""
             }
            },
            "type": "scattergl"
           }
          ],
          "scattermapbox": [
           {
            "marker": {
             "colorbar": {
              "outlinewidth": 0,
              "ticks": ""
             }
            },
            "type": "scattermapbox"
           }
          ],
          "scatterpolar": [
           {
            "marker": {
             "colorbar": {
              "outlinewidth": 0,
              "ticks": ""
             }
            },
            "type": "scatterpolar"
           }
          ],
          "scatterpolargl": [
           {
            "marker": {
             "colorbar": {
              "outlinewidth": 0,
              "ticks": ""
             }
            },
            "type": "scatterpolargl"
           }
          ],
          "scatterternary": [
           {
            "marker": {
             "colorbar": {
              "outlinewidth": 0,
              "ticks": ""
             }
            },
            "type": "scatterternary"
           }
          ],
          "surface": [
           {
            "colorbar": {
             "outlinewidth": 0,
             "ticks": ""
            },
            "colorscale": [
             [
              0,
              "#0d0887"
             ],
             [
              0.1111111111111111,
              "#46039f"
             ],
             [
              0.2222222222222222,
              "#7201a8"
             ],
             [
              0.3333333333333333,
              "#9c179e"
             ],
             [
              0.4444444444444444,
              "#bd3786"
             ],
             [
              0.5555555555555556,
              "#d8576b"
             ],
             [
              0.6666666666666666,
              "#ed7953"
             ],
             [
              0.7777777777777778,
              "#fb9f3a"
             ],
             [
              0.8888888888888888,
              "#fdca26"
             ],
             [
              1,
              "#f0f921"
             ]
            ],
            "type": "surface"
           }
          ],
          "table": [
           {
            "cells": {
             "fill": {
              "color": "#EBF0F8"
             },
             "line": {
              "color": "white"
             }
            },
            "header": {
             "fill": {
              "color": "#C8D4E3"
             },
             "line": {
              "color": "white"
             }
            },
            "type": "table"
           }
          ]
         },
         "layout": {
          "annotationdefaults": {
           "arrowcolor": "#2a3f5f",
           "arrowhead": 0,
           "arrowwidth": 1
          },
          "autotypenumbers": "strict",
          "coloraxis": {
           "colorbar": {
            "outlinewidth": 0,
            "ticks": ""
           }
          },
          "colorscale": {
           "diverging": [
            [
             0,
             "#8e0152"
            ],
            [
             0.1,
             "#c51b7d"
            ],
            [
             0.2,
             "#de77ae"
            ],
            [
             0.3,
             "#f1b6da"
            ],
            [
             0.4,
             "#fde0ef"
            ],
            [
             0.5,
             "#f7f7f7"
            ],
            [
             0.6,
             "#e6f5d0"
            ],
            [
             0.7,
             "#b8e186"
            ],
            [
             0.8,
             "#7fbc41"
            ],
            [
             0.9,
             "#4d9221"
            ],
            [
             1,
             "#276419"
            ]
           ],
           "sequential": [
            [
             0,
             "#0d0887"
            ],
            [
             0.1111111111111111,
             "#46039f"
            ],
            [
             0.2222222222222222,
             "#7201a8"
            ],
            [
             0.3333333333333333,
             "#9c179e"
            ],
            [
             0.4444444444444444,
             "#bd3786"
            ],
            [
             0.5555555555555556,
             "#d8576b"
            ],
            [
             0.6666666666666666,
             "#ed7953"
            ],
            [
             0.7777777777777778,
             "#fb9f3a"
            ],
            [
             0.8888888888888888,
             "#fdca26"
            ],
            [
             1,
             "#f0f921"
            ]
           ],
           "sequentialminus": [
            [
             0,
             "#0d0887"
            ],
            [
             0.1111111111111111,
             "#46039f"
            ],
            [
             0.2222222222222222,
             "#7201a8"
            ],
            [
             0.3333333333333333,
             "#9c179e"
            ],
            [
             0.4444444444444444,
             "#bd3786"
            ],
            [
             0.5555555555555556,
             "#d8576b"
            ],
            [
             0.6666666666666666,
             "#ed7953"
            ],
            [
             0.7777777777777778,
             "#fb9f3a"
            ],
            [
             0.8888888888888888,
             "#fdca26"
            ],
            [
             1,
             "#f0f921"
            ]
           ]
          },
          "colorway": [
           "#636efa",
           "#EF553B",
           "#00cc96",
           "#ab63fa",
           "#FFA15A",
           "#19d3f3",
           "#FF6692",
           "#B6E880",
           "#FF97FF",
           "#FECB52"
          ],
          "font": {
           "color": "#2a3f5f"
          },
          "geo": {
           "bgcolor": "white",
           "lakecolor": "white",
           "landcolor": "#E5ECF6",
           "showlakes": true,
           "showland": true,
           "subunitcolor": "white"
          },
          "hoverlabel": {
           "align": "left"
          },
          "hovermode": "closest",
          "mapbox": {
           "style": "light"
          },
          "paper_bgcolor": "white",
          "plot_bgcolor": "#E5ECF6",
          "polar": {
           "angularaxis": {
            "gridcolor": "white",
            "linecolor": "white",
            "ticks": ""
           },
           "bgcolor": "#E5ECF6",
           "radialaxis": {
            "gridcolor": "white",
            "linecolor": "white",
            "ticks": ""
           }
          },
          "scene": {
           "xaxis": {
            "backgroundcolor": "#E5ECF6",
            "gridcolor": "white",
            "gridwidth": 2,
            "linecolor": "white",
            "showbackground": true,
            "ticks": "",
            "zerolinecolor": "white"
           },
           "yaxis": {
            "backgroundcolor": "#E5ECF6",
            "gridcolor": "white",
            "gridwidth": 2,
            "linecolor": "white",
            "showbackground": true,
            "ticks": "",
            "zerolinecolor": "white"
           },
           "zaxis": {
            "backgroundcolor": "#E5ECF6",
            "gridcolor": "white",
            "gridwidth": 2,
            "linecolor": "white",
            "showbackground": true,
            "ticks": "",
            "zerolinecolor": "white"
           }
          },
          "shapedefaults": {
           "line": {
            "color": "#2a3f5f"
           }
          },
          "ternary": {
           "aaxis": {
            "gridcolor": "white",
            "linecolor": "white",
            "ticks": ""
           },
           "baxis": {
            "gridcolor": "white",
            "linecolor": "white",
            "ticks": ""
           },
           "bgcolor": "#E5ECF6",
           "caxis": {
            "gridcolor": "white",
            "linecolor": "white",
            "ticks": ""
           }
          },
          "title": {
           "x": 0.05
          },
          "xaxis": {
           "automargin": true,
           "gridcolor": "white",
           "linecolor": "white",
           "ticks": "",
           "title": {
            "standoff": 15
           },
           "zerolinecolor": "white",
           "zerolinewidth": 2
          },
          "yaxis": {
           "automargin": true,
           "gridcolor": "white",
           "linecolor": "white",
           "ticks": "",
           "title": {
            "standoff": 15
           },
           "zerolinecolor": "white",
           "zerolinewidth": 2
          }
         }
        },
        "title": {
         "text": "Parametric ReLU and Derivative "
        },
        "xaxis": {
         "title": {
          "text": "x"
         }
        },
        "yaxis": {
         "title": {
          "text": "y"
         }
        }
       }
      }
     },
     "metadata": {},
     "output_type": "display_data"
    },
    {
     "data": {
      "application/vnd.plotly.v1+json": {
       "config": {
        "plotlyServerURL": "https://plot.ly"
       },
       "data": [
        {
         "mode": "lines",
         "name": "PReLU function (alpha=0.68)",
         "type": "scatter",
         "x": [
          -3,
          -2.9393939393939394,
          -2.878787878787879,
          -2.8181818181818183,
          -2.757575757575758,
          -2.696969696969697,
          -2.6363636363636362,
          -2.5757575757575757,
          -2.515151515151515,
          -2.4545454545454546,
          -2.393939393939394,
          -2.333333333333333,
          -2.2727272727272725,
          -2.212121212121212,
          -2.1515151515151514,
          -2.090909090909091,
          -2.0303030303030303,
          -1.9696969696969697,
          -1.9090909090909092,
          -1.8484848484848484,
          -1.7878787878787878,
          -1.7272727272727273,
          -1.6666666666666665,
          -1.606060606060606,
          -1.5454545454545454,
          -1.4848484848484849,
          -1.4242424242424243,
          -1.3636363636363635,
          -1.303030303030303,
          -1.2424242424242424,
          -1.1818181818181817,
          -1.121212121212121,
          -1.0606060606060606,
          -1,
          -0.9393939393939394,
          -0.8787878787878789,
          -0.8181818181818183,
          -0.7575757575757573,
          -0.6969696969696968,
          -0.6363636363636362,
          -0.5757575757575757,
          -0.5151515151515151,
          -0.4545454545454546,
          -0.39393939393939403,
          -0.33333333333333304,
          -0.2727272727272725,
          -0.21212121212121193,
          -0.15151515151515138,
          -0.09090909090909083,
          -0.030303030303030276,
          0.030303030303030276,
          0.09090909090909083,
          0.15151515151515138,
          0.21212121212121238,
          0.27272727272727293,
          0.3333333333333335,
          0.39393939393939403,
          0.4545454545454546,
          0.5151515151515151,
          0.5757575757575757,
          0.6363636363636367,
          0.6969696969696972,
          0.7575757575757578,
          0.8181818181818183,
          0.8787878787878789,
          0.9393939393939394,
          1,
          1.0606060606060606,
          1.121212121212121,
          1.1818181818181817,
          1.2424242424242422,
          1.3030303030303028,
          1.3636363636363633,
          1.4242424242424248,
          1.4848484848484853,
          1.5454545454545459,
          1.6060606060606064,
          1.666666666666667,
          1.7272727272727275,
          1.787878787878788,
          1.8484848484848486,
          1.9090909090909092,
          1.9696969696969697,
          2.0303030303030303,
          2.090909090909091,
          2.1515151515151514,
          2.212121212121212,
          2.2727272727272725,
          2.333333333333334,
          2.3939393939393945,
          2.454545454545455,
          2.5151515151515156,
          2.575757575757576,
          2.6363636363636367,
          2.6969696969696972,
          2.757575757575758,
          2.8181818181818183,
          2.878787878787879,
          2.9393939393939394,
          3
         ],
         "y": [
          -2.04,
          -1.998787878787879,
          -1.9575757575757577,
          -1.9163636363636367,
          -1.8751515151515155,
          -1.833939393939394,
          -1.7927272727272727,
          -1.7515151515151517,
          -1.7103030303030304,
          -1.6690909090909092,
          -1.6278787878787881,
          -1.5866666666666667,
          -1.5454545454545454,
          -1.5042424242424242,
          -1.4630303030303031,
          -1.4218181818181819,
          -1.3806060606060606,
          -1.3393939393939396,
          -1.2981818181818183,
          -1.256969696969697,
          -1.2157575757575758,
          -1.1745454545454546,
          -1.1333333333333333,
          -1.092121212121212,
          -1.050909090909091,
          -1.0096969696969698,
          -0.9684848484848486,
          -0.9272727272727272,
          -0.8860606060606061,
          -0.844848484848485,
          -0.8036363636363636,
          -0.7624242424242424,
          -0.7212121212121212,
          -0.68,
          -0.6387878787878789,
          -0.5975757575757576,
          -0.5563636363636365,
          -0.515151515151515,
          -0.4739393939393938,
          -0.4327272727272727,
          -0.3915151515151515,
          -0.35030303030303034,
          -0.30909090909090914,
          -0.26787878787878794,
          -0.2266666666666665,
          -0.18545454545454532,
          -0.14424242424242412,
          -0.10303030303030294,
          -0.061818181818181765,
          -0.02060606060606059,
          0.030303030303030276,
          0.09090909090909083,
          0.15151515151515138,
          0.21212121212121238,
          0.27272727272727293,
          0.3333333333333335,
          0.39393939393939403,
          0.4545454545454546,
          0.5151515151515151,
          0.5757575757575757,
          0.6363636363636367,
          0.6969696969696972,
          0.7575757575757578,
          0.8181818181818183,
          0.8787878787878789,
          0.9393939393939394,
          1,
          1.0606060606060606,
          1.121212121212121,
          1.1818181818181817,
          1.2424242424242422,
          1.3030303030303028,
          1.3636363636363633,
          1.4242424242424248,
          1.4848484848484853,
          1.5454545454545459,
          1.6060606060606064,
          1.666666666666667,
          1.7272727272727275,
          1.787878787878788,
          1.8484848484848486,
          1.9090909090909092,
          1.9696969696969697,
          2.0303030303030303,
          2.090909090909091,
          2.1515151515151514,
          2.212121212121212,
          2.2727272727272725,
          2.333333333333334,
          2.3939393939393945,
          2.454545454545455,
          2.5151515151515156,
          2.575757575757576,
          2.6363636363636367,
          2.6969696969696972,
          2.757575757575758,
          2.8181818181818183,
          2.878787878787879,
          2.9393939393939394,
          3
         ]
        },
        {
         "mode": "lines",
         "name": "PReLU derivative (alpha=0.68)",
         "type": "scatter",
         "x": [
          -3,
          -2.9393939393939394,
          -2.878787878787879,
          -2.8181818181818183,
          -2.757575757575758,
          -2.696969696969697,
          -2.6363636363636362,
          -2.5757575757575757,
          -2.515151515151515,
          -2.4545454545454546,
          -2.393939393939394,
          -2.333333333333333,
          -2.2727272727272725,
          -2.212121212121212,
          -2.1515151515151514,
          -2.090909090909091,
          -2.0303030303030303,
          -1.9696969696969697,
          -1.9090909090909092,
          -1.8484848484848484,
          -1.7878787878787878,
          -1.7272727272727273,
          -1.6666666666666665,
          -1.606060606060606,
          -1.5454545454545454,
          -1.4848484848484849,
          -1.4242424242424243,
          -1.3636363636363635,
          -1.303030303030303,
          -1.2424242424242424,
          -1.1818181818181817,
          -1.121212121212121,
          -1.0606060606060606,
          -1,
          -0.9393939393939394,
          -0.8787878787878789,
          -0.8181818181818183,
          -0.7575757575757573,
          -0.6969696969696968,
          -0.6363636363636362,
          -0.5757575757575757,
          -0.5151515151515151,
          -0.4545454545454546,
          -0.39393939393939403,
          -0.33333333333333304,
          -0.2727272727272725,
          -0.21212121212121193,
          -0.15151515151515138,
          -0.09090909090909083,
          -0.030303030303030276,
          0.030303030303030276,
          0.09090909090909083,
          0.15151515151515138,
          0.21212121212121238,
          0.27272727272727293,
          0.3333333333333335,
          0.39393939393939403,
          0.4545454545454546,
          0.5151515151515151,
          0.5757575757575757,
          0.6363636363636367,
          0.6969696969696972,
          0.7575757575757578,
          0.8181818181818183,
          0.8787878787878789,
          0.9393939393939394,
          1,
          1.0606060606060606,
          1.121212121212121,
          1.1818181818181817,
          1.2424242424242422,
          1.3030303030303028,
          1.3636363636363633,
          1.4242424242424248,
          1.4848484848484853,
          1.5454545454545459,
          1.6060606060606064,
          1.666666666666667,
          1.7272727272727275,
          1.787878787878788,
          1.8484848484848486,
          1.9090909090909092,
          1.9696969696969697,
          2.0303030303030303,
          2.090909090909091,
          2.1515151515151514,
          2.212121212121212,
          2.2727272727272725,
          2.333333333333334,
          2.3939393939393945,
          2.454545454545455,
          2.5151515151515156,
          2.575757575757576,
          2.6363636363636367,
          2.6969696969696972,
          2.757575757575758,
          2.8181818181818183,
          2.878787878787879,
          2.9393939393939394,
          3
         ],
         "y": [
          0.68,
          0.68,
          0.68,
          0.68,
          0.68,
          0.68,
          0.68,
          0.68,
          0.68,
          0.68,
          0.68,
          0.68,
          0.68,
          0.68,
          0.68,
          0.68,
          0.68,
          0.68,
          0.68,
          0.68,
          0.68,
          0.68,
          0.68,
          0.68,
          0.68,
          0.68,
          0.68,
          0.68,
          0.68,
          0.68,
          0.68,
          0.68,
          0.68,
          0.68,
          0.68,
          0.68,
          0.68,
          0.68,
          0.68,
          0.68,
          0.68,
          0.68,
          0.68,
          0.68,
          0.68,
          0.68,
          0.68,
          0.68,
          0.68,
          0.68,
          1,
          1,
          1,
          1,
          1,
          1,
          1,
          1,
          1,
          1,
          1,
          1,
          1,
          1,
          1,
          1,
          1,
          1,
          1,
          1,
          1,
          1,
          1,
          1,
          1,
          1,
          1,
          1,
          1,
          1,
          1,
          1,
          1,
          1,
          1,
          1,
          1,
          1,
          1,
          1,
          1,
          1,
          1,
          1,
          1,
          1,
          1,
          1,
          1,
          1
         ]
        }
       ],
       "layout": {
        "showlegend": true,
        "template": {
         "data": {
          "bar": [
           {
            "error_x": {
             "color": "#2a3f5f"
            },
            "error_y": {
             "color": "#2a3f5f"
            },
            "marker": {
             "line": {
              "color": "#E5ECF6",
              "width": 0.5
             },
             "pattern": {
              "fillmode": "overlay",
              "size": 10,
              "solidity": 0.2
             }
            },
            "type": "bar"
           }
          ],
          "barpolar": [
           {
            "marker": {
             "line": {
              "color": "#E5ECF6",
              "width": 0.5
             },
             "pattern": {
              "fillmode": "overlay",
              "size": 10,
              "solidity": 0.2
             }
            },
            "type": "barpolar"
           }
          ],
          "carpet": [
           {
            "aaxis": {
             "endlinecolor": "#2a3f5f",
             "gridcolor": "white",
             "linecolor": "white",
             "minorgridcolor": "white",
             "startlinecolor": "#2a3f5f"
            },
            "baxis": {
             "endlinecolor": "#2a3f5f",
             "gridcolor": "white",
             "linecolor": "white",
             "minorgridcolor": "white",
             "startlinecolor": "#2a3f5f"
            },
            "type": "carpet"
           }
          ],
          "choropleth": [
           {
            "colorbar": {
             "outlinewidth": 0,
             "ticks": ""
            },
            "type": "choropleth"
           }
          ],
          "contour": [
           {
            "colorbar": {
             "outlinewidth": 0,
             "ticks": ""
            },
            "colorscale": [
             [
              0,
              "#0d0887"
             ],
             [
              0.1111111111111111,
              "#46039f"
             ],
             [
              0.2222222222222222,
              "#7201a8"
             ],
             [
              0.3333333333333333,
              "#9c179e"
             ],
             [
              0.4444444444444444,
              "#bd3786"
             ],
             [
              0.5555555555555556,
              "#d8576b"
             ],
             [
              0.6666666666666666,
              "#ed7953"
             ],
             [
              0.7777777777777778,
              "#fb9f3a"
             ],
             [
              0.8888888888888888,
              "#fdca26"
             ],
             [
              1,
              "#f0f921"
             ]
            ],
            "type": "contour"
           }
          ],
          "contourcarpet": [
           {
            "colorbar": {
             "outlinewidth": 0,
             "ticks": ""
            },
            "type": "contourcarpet"
           }
          ],
          "heatmap": [
           {
            "colorbar": {
             "outlinewidth": 0,
             "ticks": ""
            },
            "colorscale": [
             [
              0,
              "#0d0887"
             ],
             [
              0.1111111111111111,
              "#46039f"
             ],
             [
              0.2222222222222222,
              "#7201a8"
             ],
             [
              0.3333333333333333,
              "#9c179e"
             ],
             [
              0.4444444444444444,
              "#bd3786"
             ],
             [
              0.5555555555555556,
              "#d8576b"
             ],
             [
              0.6666666666666666,
              "#ed7953"
             ],
             [
              0.7777777777777778,
              "#fb9f3a"
             ],
             [
              0.8888888888888888,
              "#fdca26"
             ],
             [
              1,
              "#f0f921"
             ]
            ],
            "type": "heatmap"
           }
          ],
          "heatmapgl": [
           {
            "colorbar": {
             "outlinewidth": 0,
             "ticks": ""
            },
            "colorscale": [
             [
              0,
              "#0d0887"
             ],
             [
              0.1111111111111111,
              "#46039f"
             ],
             [
              0.2222222222222222,
              "#7201a8"
             ],
             [
              0.3333333333333333,
              "#9c179e"
             ],
             [
              0.4444444444444444,
              "#bd3786"
             ],
             [
              0.5555555555555556,
              "#d8576b"
             ],
             [
              0.6666666666666666,
              "#ed7953"
             ],
             [
              0.7777777777777778,
              "#fb9f3a"
             ],
             [
              0.8888888888888888,
              "#fdca26"
             ],
             [
              1,
              "#f0f921"
             ]
            ],
            "type": "heatmapgl"
           }
          ],
          "histogram": [
           {
            "marker": {
             "pattern": {
              "fillmode": "overlay",
              "size": 10,
              "solidity": 0.2
             }
            },
            "type": "histogram"
           }
          ],
          "histogram2d": [
           {
            "colorbar": {
             "outlinewidth": 0,
             "ticks": ""
            },
            "colorscale": [
             [
              0,
              "#0d0887"
             ],
             [
              0.1111111111111111,
              "#46039f"
             ],
             [
              0.2222222222222222,
              "#7201a8"
             ],
             [
              0.3333333333333333,
              "#9c179e"
             ],
             [
              0.4444444444444444,
              "#bd3786"
             ],
             [
              0.5555555555555556,
              "#d8576b"
             ],
             [
              0.6666666666666666,
              "#ed7953"
             ],
             [
              0.7777777777777778,
              "#fb9f3a"
             ],
             [
              0.8888888888888888,
              "#fdca26"
             ],
             [
              1,
              "#f0f921"
             ]
            ],
            "type": "histogram2d"
           }
          ],
          "histogram2dcontour": [
           {
            "colorbar": {
             "outlinewidth": 0,
             "ticks": ""
            },
            "colorscale": [
             [
              0,
              "#0d0887"
             ],
             [
              0.1111111111111111,
              "#46039f"
             ],
             [
              0.2222222222222222,
              "#7201a8"
             ],
             [
              0.3333333333333333,
              "#9c179e"
             ],
             [
              0.4444444444444444,
              "#bd3786"
             ],
             [
              0.5555555555555556,
              "#d8576b"
             ],
             [
              0.6666666666666666,
              "#ed7953"
             ],
             [
              0.7777777777777778,
              "#fb9f3a"
             ],
             [
              0.8888888888888888,
              "#fdca26"
             ],
             [
              1,
              "#f0f921"
             ]
            ],
            "type": "histogram2dcontour"
           }
          ],
          "mesh3d": [
           {
            "colorbar": {
             "outlinewidth": 0,
             "ticks": ""
            },
            "type": "mesh3d"
           }
          ],
          "parcoords": [
           {
            "line": {
             "colorbar": {
              "outlinewidth": 0,
              "ticks": ""
             }
            },
            "type": "parcoords"
           }
          ],
          "pie": [
           {
            "automargin": true,
            "type": "pie"
           }
          ],
          "scatter": [
           {
            "fillpattern": {
             "fillmode": "overlay",
             "size": 10,
             "solidity": 0.2
            },
            "type": "scatter"
           }
          ],
          "scatter3d": [
           {
            "line": {
             "colorbar": {
              "outlinewidth": 0,
              "ticks": ""
             }
            },
            "marker": {
             "colorbar": {
              "outlinewidth": 0,
              "ticks": ""
             }
            },
            "type": "scatter3d"
           }
          ],
          "scattercarpet": [
           {
            "marker": {
             "colorbar": {
              "outlinewidth": 0,
              "ticks": ""
             }
            },
            "type": "scattercarpet"
           }
          ],
          "scattergeo": [
           {
            "marker": {
             "colorbar": {
              "outlinewidth": 0,
              "ticks": ""
             }
            },
            "type": "scattergeo"
           }
          ],
          "scattergl": [
           {
            "marker": {
             "colorbar": {
              "outlinewidth": 0,
              "ticks": ""
             }
            },
            "type": "scattergl"
           }
          ],
          "scattermapbox": [
           {
            "marker": {
             "colorbar": {
              "outlinewidth": 0,
              "ticks": ""
             }
            },
            "type": "scattermapbox"
           }
          ],
          "scatterpolar": [
           {
            "marker": {
             "colorbar": {
              "outlinewidth": 0,
              "ticks": ""
             }
            },
            "type": "scatterpolar"
           }
          ],
          "scatterpolargl": [
           {
            "marker": {
             "colorbar": {
              "outlinewidth": 0,
              "ticks": ""
             }
            },
            "type": "scatterpolargl"
           }
          ],
          "scatterternary": [
           {
            "marker": {
             "colorbar": {
              "outlinewidth": 0,
              "ticks": ""
             }
            },
            "type": "scatterternary"
           }
          ],
          "surface": [
           {
            "colorbar": {
             "outlinewidth": 0,
             "ticks": ""
            },
            "colorscale": [
             [
              0,
              "#0d0887"
             ],
             [
              0.1111111111111111,
              "#46039f"
             ],
             [
              0.2222222222222222,
              "#7201a8"
             ],
             [
              0.3333333333333333,
              "#9c179e"
             ],
             [
              0.4444444444444444,
              "#bd3786"
             ],
             [
              0.5555555555555556,
              "#d8576b"
             ],
             [
              0.6666666666666666,
              "#ed7953"
             ],
             [
              0.7777777777777778,
              "#fb9f3a"
             ],
             [
              0.8888888888888888,
              "#fdca26"
             ],
             [
              1,
              "#f0f921"
             ]
            ],
            "type": "surface"
           }
          ],
          "table": [
           {
            "cells": {
             "fill": {
              "color": "#EBF0F8"
             },
             "line": {
              "color": "white"
             }
            },
            "header": {
             "fill": {
              "color": "#C8D4E3"
             },
             "line": {
              "color": "white"
             }
            },
            "type": "table"
           }
          ]
         },
         "layout": {
          "annotationdefaults": {
           "arrowcolor": "#2a3f5f",
           "arrowhead": 0,
           "arrowwidth": 1
          },
          "autotypenumbers": "strict",
          "coloraxis": {
           "colorbar": {
            "outlinewidth": 0,
            "ticks": ""
           }
          },
          "colorscale": {
           "diverging": [
            [
             0,
             "#8e0152"
            ],
            [
             0.1,
             "#c51b7d"
            ],
            [
             0.2,
             "#de77ae"
            ],
            [
             0.3,
             "#f1b6da"
            ],
            [
             0.4,
             "#fde0ef"
            ],
            [
             0.5,
             "#f7f7f7"
            ],
            [
             0.6,
             "#e6f5d0"
            ],
            [
             0.7,
             "#b8e186"
            ],
            [
             0.8,
             "#7fbc41"
            ],
            [
             0.9,
             "#4d9221"
            ],
            [
             1,
             "#276419"
            ]
           ],
           "sequential": [
            [
             0,
             "#0d0887"
            ],
            [
             0.1111111111111111,
             "#46039f"
            ],
            [
             0.2222222222222222,
             "#7201a8"
            ],
            [
             0.3333333333333333,
             "#9c179e"
            ],
            [
             0.4444444444444444,
             "#bd3786"
            ],
            [
             0.5555555555555556,
             "#d8576b"
            ],
            [
             0.6666666666666666,
             "#ed7953"
            ],
            [
             0.7777777777777778,
             "#fb9f3a"
            ],
            [
             0.8888888888888888,
             "#fdca26"
            ],
            [
             1,
             "#f0f921"
            ]
           ],
           "sequentialminus": [
            [
             0,
             "#0d0887"
            ],
            [
             0.1111111111111111,
             "#46039f"
            ],
            [
             0.2222222222222222,
             "#7201a8"
            ],
            [
             0.3333333333333333,
             "#9c179e"
            ],
            [
             0.4444444444444444,
             "#bd3786"
            ],
            [
             0.5555555555555556,
             "#d8576b"
            ],
            [
             0.6666666666666666,
             "#ed7953"
            ],
            [
             0.7777777777777778,
             "#fb9f3a"
            ],
            [
             0.8888888888888888,
             "#fdca26"
            ],
            [
             1,
             "#f0f921"
            ]
           ]
          },
          "colorway": [
           "#636efa",
           "#EF553B",
           "#00cc96",
           "#ab63fa",
           "#FFA15A",
           "#19d3f3",
           "#FF6692",
           "#B6E880",
           "#FF97FF",
           "#FECB52"
          ],
          "font": {
           "color": "#2a3f5f"
          },
          "geo": {
           "bgcolor": "white",
           "lakecolor": "white",
           "landcolor": "#E5ECF6",
           "showlakes": true,
           "showland": true,
           "subunitcolor": "white"
          },
          "hoverlabel": {
           "align": "left"
          },
          "hovermode": "closest",
          "mapbox": {
           "style": "light"
          },
          "paper_bgcolor": "white",
          "plot_bgcolor": "#E5ECF6",
          "polar": {
           "angularaxis": {
            "gridcolor": "white",
            "linecolor": "white",
            "ticks": ""
           },
           "bgcolor": "#E5ECF6",
           "radialaxis": {
            "gridcolor": "white",
            "linecolor": "white",
            "ticks": ""
           }
          },
          "scene": {
           "xaxis": {
            "backgroundcolor": "#E5ECF6",
            "gridcolor": "white",
            "gridwidth": 2,
            "linecolor": "white",
            "showbackground": true,
            "ticks": "",
            "zerolinecolor": "white"
           },
           "yaxis": {
            "backgroundcolor": "#E5ECF6",
            "gridcolor": "white",
            "gridwidth": 2,
            "linecolor": "white",
            "showbackground": true,
            "ticks": "",
            "zerolinecolor": "white"
           },
           "zaxis": {
            "backgroundcolor": "#E5ECF6",
            "gridcolor": "white",
            "gridwidth": 2,
            "linecolor": "white",
            "showbackground": true,
            "ticks": "",
            "zerolinecolor": "white"
           }
          },
          "shapedefaults": {
           "line": {
            "color": "#2a3f5f"
           }
          },
          "ternary": {
           "aaxis": {
            "gridcolor": "white",
            "linecolor": "white",
            "ticks": ""
           },
           "baxis": {
            "gridcolor": "white",
            "linecolor": "white",
            "ticks": ""
           },
           "bgcolor": "#E5ECF6",
           "caxis": {
            "gridcolor": "white",
            "linecolor": "white",
            "ticks": ""
           }
          },
          "title": {
           "x": 0.05
          },
          "xaxis": {
           "automargin": true,
           "gridcolor": "white",
           "linecolor": "white",
           "ticks": "",
           "title": {
            "standoff": 15
           },
           "zerolinecolor": "white",
           "zerolinewidth": 2
          },
          "yaxis": {
           "automargin": true,
           "gridcolor": "white",
           "linecolor": "white",
           "ticks": "",
           "title": {
            "standoff": 15
           },
           "zerolinecolor": "white",
           "zerolinewidth": 2
          }
         }
        },
        "title": {
         "text": "Parametric ReLU and Derivative "
        },
        "xaxis": {
         "title": {
          "text": "x"
         }
        },
        "yaxis": {
         "title": {
          "text": "y"
         }
        }
       }
      }
     },
     "metadata": {},
     "output_type": "display_data"
    },
    {
     "data": {
      "application/vnd.plotly.v1+json": {
       "config": {
        "plotlyServerURL": "https://plot.ly"
       },
       "data": [
        {
         "mode": "lines",
         "name": "PReLU function (alpha=0.67)",
         "type": "scatter",
         "x": [
          -3,
          -2.9393939393939394,
          -2.878787878787879,
          -2.8181818181818183,
          -2.757575757575758,
          -2.696969696969697,
          -2.6363636363636362,
          -2.5757575757575757,
          -2.515151515151515,
          -2.4545454545454546,
          -2.393939393939394,
          -2.333333333333333,
          -2.2727272727272725,
          -2.212121212121212,
          -2.1515151515151514,
          -2.090909090909091,
          -2.0303030303030303,
          -1.9696969696969697,
          -1.9090909090909092,
          -1.8484848484848484,
          -1.7878787878787878,
          -1.7272727272727273,
          -1.6666666666666665,
          -1.606060606060606,
          -1.5454545454545454,
          -1.4848484848484849,
          -1.4242424242424243,
          -1.3636363636363635,
          -1.303030303030303,
          -1.2424242424242424,
          -1.1818181818181817,
          -1.121212121212121,
          -1.0606060606060606,
          -1,
          -0.9393939393939394,
          -0.8787878787878789,
          -0.8181818181818183,
          -0.7575757575757573,
          -0.6969696969696968,
          -0.6363636363636362,
          -0.5757575757575757,
          -0.5151515151515151,
          -0.4545454545454546,
          -0.39393939393939403,
          -0.33333333333333304,
          -0.2727272727272725,
          -0.21212121212121193,
          -0.15151515151515138,
          -0.09090909090909083,
          -0.030303030303030276,
          0.030303030303030276,
          0.09090909090909083,
          0.15151515151515138,
          0.21212121212121238,
          0.27272727272727293,
          0.3333333333333335,
          0.39393939393939403,
          0.4545454545454546,
          0.5151515151515151,
          0.5757575757575757,
          0.6363636363636367,
          0.6969696969696972,
          0.7575757575757578,
          0.8181818181818183,
          0.8787878787878789,
          0.9393939393939394,
          1,
          1.0606060606060606,
          1.121212121212121,
          1.1818181818181817,
          1.2424242424242422,
          1.3030303030303028,
          1.3636363636363633,
          1.4242424242424248,
          1.4848484848484853,
          1.5454545454545459,
          1.6060606060606064,
          1.666666666666667,
          1.7272727272727275,
          1.787878787878788,
          1.8484848484848486,
          1.9090909090909092,
          1.9696969696969697,
          2.0303030303030303,
          2.090909090909091,
          2.1515151515151514,
          2.212121212121212,
          2.2727272727272725,
          2.333333333333334,
          2.3939393939393945,
          2.454545454545455,
          2.5151515151515156,
          2.575757575757576,
          2.6363636363636367,
          2.6969696969696972,
          2.757575757575758,
          2.8181818181818183,
          2.878787878787879,
          2.9393939393939394,
          3
         ],
         "y": [
          -2.0100000000000002,
          -1.9693939393939395,
          -1.928787878787879,
          -1.8881818181818184,
          -1.8475757575757579,
          -1.806969696969697,
          -1.7663636363636364,
          -1.7257575757575758,
          -1.6851515151515153,
          -1.6445454545454548,
          -1.603939393939394,
          -1.5633333333333332,
          -1.5227272727272727,
          -1.4821212121212122,
          -1.4415151515151514,
          -1.4009090909090909,
          -1.3603030303030303,
          -1.3196969696969698,
          -1.2790909090909093,
          -1.2384848484848485,
          -1.197878787878788,
          -1.1572727272727275,
          -1.1166666666666667,
          -1.0760606060606062,
          -1.0354545454545454,
          -0.9948484848484849,
          -0.9542424242424243,
          -0.9136363636363636,
          -0.873030303030303,
          -0.8324242424242425,
          -0.7918181818181818,
          -0.7512121212121212,
          -0.7106060606060606,
          -0.67,
          -0.6293939393939395,
          -0.5887878787878789,
          -0.5481818181818183,
          -0.5075757575757575,
          -0.46696969696969687,
          -0.42636363636363633,
          -0.38575757575757574,
          -0.34515151515151515,
          -0.30454545454545456,
          -0.26393939393939403,
          -0.22333333333333316,
          -0.18272727272727257,
          -0.142121212121212,
          -0.10151515151515143,
          -0.06090909090909086,
          -0.020303030303030285,
          0.030303030303030276,
          0.09090909090909083,
          0.15151515151515138,
          0.21212121212121238,
          0.27272727272727293,
          0.3333333333333335,
          0.39393939393939403,
          0.4545454545454546,
          0.5151515151515151,
          0.5757575757575757,
          0.6363636363636367,
          0.6969696969696972,
          0.7575757575757578,
          0.8181818181818183,
          0.8787878787878789,
          0.9393939393939394,
          1,
          1.0606060606060606,
          1.121212121212121,
          1.1818181818181817,
          1.2424242424242422,
          1.3030303030303028,
          1.3636363636363633,
          1.4242424242424248,
          1.4848484848484853,
          1.5454545454545459,
          1.6060606060606064,
          1.666666666666667,
          1.7272727272727275,
          1.787878787878788,
          1.8484848484848486,
          1.9090909090909092,
          1.9696969696969697,
          2.0303030303030303,
          2.090909090909091,
          2.1515151515151514,
          2.212121212121212,
          2.2727272727272725,
          2.333333333333334,
          2.3939393939393945,
          2.454545454545455,
          2.5151515151515156,
          2.575757575757576,
          2.6363636363636367,
          2.6969696969696972,
          2.757575757575758,
          2.8181818181818183,
          2.878787878787879,
          2.9393939393939394,
          3
         ]
        },
        {
         "mode": "lines",
         "name": "PReLU derivative (alpha=0.67)",
         "type": "scatter",
         "x": [
          -3,
          -2.9393939393939394,
          -2.878787878787879,
          -2.8181818181818183,
          -2.757575757575758,
          -2.696969696969697,
          -2.6363636363636362,
          -2.5757575757575757,
          -2.515151515151515,
          -2.4545454545454546,
          -2.393939393939394,
          -2.333333333333333,
          -2.2727272727272725,
          -2.212121212121212,
          -2.1515151515151514,
          -2.090909090909091,
          -2.0303030303030303,
          -1.9696969696969697,
          -1.9090909090909092,
          -1.8484848484848484,
          -1.7878787878787878,
          -1.7272727272727273,
          -1.6666666666666665,
          -1.606060606060606,
          -1.5454545454545454,
          -1.4848484848484849,
          -1.4242424242424243,
          -1.3636363636363635,
          -1.303030303030303,
          -1.2424242424242424,
          -1.1818181818181817,
          -1.121212121212121,
          -1.0606060606060606,
          -1,
          -0.9393939393939394,
          -0.8787878787878789,
          -0.8181818181818183,
          -0.7575757575757573,
          -0.6969696969696968,
          -0.6363636363636362,
          -0.5757575757575757,
          -0.5151515151515151,
          -0.4545454545454546,
          -0.39393939393939403,
          -0.33333333333333304,
          -0.2727272727272725,
          -0.21212121212121193,
          -0.15151515151515138,
          -0.09090909090909083,
          -0.030303030303030276,
          0.030303030303030276,
          0.09090909090909083,
          0.15151515151515138,
          0.21212121212121238,
          0.27272727272727293,
          0.3333333333333335,
          0.39393939393939403,
          0.4545454545454546,
          0.5151515151515151,
          0.5757575757575757,
          0.6363636363636367,
          0.6969696969696972,
          0.7575757575757578,
          0.8181818181818183,
          0.8787878787878789,
          0.9393939393939394,
          1,
          1.0606060606060606,
          1.121212121212121,
          1.1818181818181817,
          1.2424242424242422,
          1.3030303030303028,
          1.3636363636363633,
          1.4242424242424248,
          1.4848484848484853,
          1.5454545454545459,
          1.6060606060606064,
          1.666666666666667,
          1.7272727272727275,
          1.787878787878788,
          1.8484848484848486,
          1.9090909090909092,
          1.9696969696969697,
          2.0303030303030303,
          2.090909090909091,
          2.1515151515151514,
          2.212121212121212,
          2.2727272727272725,
          2.333333333333334,
          2.3939393939393945,
          2.454545454545455,
          2.5151515151515156,
          2.575757575757576,
          2.6363636363636367,
          2.6969696969696972,
          2.757575757575758,
          2.8181818181818183,
          2.878787878787879,
          2.9393939393939394,
          3
         ],
         "y": [
          0.67,
          0.67,
          0.67,
          0.67,
          0.67,
          0.67,
          0.67,
          0.67,
          0.67,
          0.67,
          0.67,
          0.67,
          0.67,
          0.67,
          0.67,
          0.67,
          0.67,
          0.67,
          0.67,
          0.67,
          0.67,
          0.67,
          0.67,
          0.67,
          0.67,
          0.67,
          0.67,
          0.67,
          0.67,
          0.67,
          0.67,
          0.67,
          0.67,
          0.67,
          0.67,
          0.67,
          0.67,
          0.67,
          0.67,
          0.67,
          0.67,
          0.67,
          0.67,
          0.67,
          0.67,
          0.67,
          0.67,
          0.67,
          0.67,
          0.67,
          1,
          1,
          1,
          1,
          1,
          1,
          1,
          1,
          1,
          1,
          1,
          1,
          1,
          1,
          1,
          1,
          1,
          1,
          1,
          1,
          1,
          1,
          1,
          1,
          1,
          1,
          1,
          1,
          1,
          1,
          1,
          1,
          1,
          1,
          1,
          1,
          1,
          1,
          1,
          1,
          1,
          1,
          1,
          1,
          1,
          1,
          1,
          1,
          1,
          1
         ]
        }
       ],
       "layout": {
        "showlegend": true,
        "template": {
         "data": {
          "bar": [
           {
            "error_x": {
             "color": "#2a3f5f"
            },
            "error_y": {
             "color": "#2a3f5f"
            },
            "marker": {
             "line": {
              "color": "#E5ECF6",
              "width": 0.5
             },
             "pattern": {
              "fillmode": "overlay",
              "size": 10,
              "solidity": 0.2
             }
            },
            "type": "bar"
           }
          ],
          "barpolar": [
           {
            "marker": {
             "line": {
              "color": "#E5ECF6",
              "width": 0.5
             },
             "pattern": {
              "fillmode": "overlay",
              "size": 10,
              "solidity": 0.2
             }
            },
            "type": "barpolar"
           }
          ],
          "carpet": [
           {
            "aaxis": {
             "endlinecolor": "#2a3f5f",
             "gridcolor": "white",
             "linecolor": "white",
             "minorgridcolor": "white",
             "startlinecolor": "#2a3f5f"
            },
            "baxis": {
             "endlinecolor": "#2a3f5f",
             "gridcolor": "white",
             "linecolor": "white",
             "minorgridcolor": "white",
             "startlinecolor": "#2a3f5f"
            },
            "type": "carpet"
           }
          ],
          "choropleth": [
           {
            "colorbar": {
             "outlinewidth": 0,
             "ticks": ""
            },
            "type": "choropleth"
           }
          ],
          "contour": [
           {
            "colorbar": {
             "outlinewidth": 0,
             "ticks": ""
            },
            "colorscale": [
             [
              0,
              "#0d0887"
             ],
             [
              0.1111111111111111,
              "#46039f"
             ],
             [
              0.2222222222222222,
              "#7201a8"
             ],
             [
              0.3333333333333333,
              "#9c179e"
             ],
             [
              0.4444444444444444,
              "#bd3786"
             ],
             [
              0.5555555555555556,
              "#d8576b"
             ],
             [
              0.6666666666666666,
              "#ed7953"
             ],
             [
              0.7777777777777778,
              "#fb9f3a"
             ],
             [
              0.8888888888888888,
              "#fdca26"
             ],
             [
              1,
              "#f0f921"
             ]
            ],
            "type": "contour"
           }
          ],
          "contourcarpet": [
           {
            "colorbar": {
             "outlinewidth": 0,
             "ticks": ""
            },
            "type": "contourcarpet"
           }
          ],
          "heatmap": [
           {
            "colorbar": {
             "outlinewidth": 0,
             "ticks": ""
            },
            "colorscale": [
             [
              0,
              "#0d0887"
             ],
             [
              0.1111111111111111,
              "#46039f"
             ],
             [
              0.2222222222222222,
              "#7201a8"
             ],
             [
              0.3333333333333333,
              "#9c179e"
             ],
             [
              0.4444444444444444,
              "#bd3786"
             ],
             [
              0.5555555555555556,
              "#d8576b"
             ],
             [
              0.6666666666666666,
              "#ed7953"
             ],
             [
              0.7777777777777778,
              "#fb9f3a"
             ],
             [
              0.8888888888888888,
              "#fdca26"
             ],
             [
              1,
              "#f0f921"
             ]
            ],
            "type": "heatmap"
           }
          ],
          "heatmapgl": [
           {
            "colorbar": {
             "outlinewidth": 0,
             "ticks": ""
            },
            "colorscale": [
             [
              0,
              "#0d0887"
             ],
             [
              0.1111111111111111,
              "#46039f"
             ],
             [
              0.2222222222222222,
              "#7201a8"
             ],
             [
              0.3333333333333333,
              "#9c179e"
             ],
             [
              0.4444444444444444,
              "#bd3786"
             ],
             [
              0.5555555555555556,
              "#d8576b"
             ],
             [
              0.6666666666666666,
              "#ed7953"
             ],
             [
              0.7777777777777778,
              "#fb9f3a"
             ],
             [
              0.8888888888888888,
              "#fdca26"
             ],
             [
              1,
              "#f0f921"
             ]
            ],
            "type": "heatmapgl"
           }
          ],
          "histogram": [
           {
            "marker": {
             "pattern": {
              "fillmode": "overlay",
              "size": 10,
              "solidity": 0.2
             }
            },
            "type": "histogram"
           }
          ],
          "histogram2d": [
           {
            "colorbar": {
             "outlinewidth": 0,
             "ticks": ""
            },
            "colorscale": [
             [
              0,
              "#0d0887"
             ],
             [
              0.1111111111111111,
              "#46039f"
             ],
             [
              0.2222222222222222,
              "#7201a8"
             ],
             [
              0.3333333333333333,
              "#9c179e"
             ],
             [
              0.4444444444444444,
              "#bd3786"
             ],
             [
              0.5555555555555556,
              "#d8576b"
             ],
             [
              0.6666666666666666,
              "#ed7953"
             ],
             [
              0.7777777777777778,
              "#fb9f3a"
             ],
             [
              0.8888888888888888,
              "#fdca26"
             ],
             [
              1,
              "#f0f921"
             ]
            ],
            "type": "histogram2d"
           }
          ],
          "histogram2dcontour": [
           {
            "colorbar": {
             "outlinewidth": 0,
             "ticks": ""
            },
            "colorscale": [
             [
              0,
              "#0d0887"
             ],
             [
              0.1111111111111111,
              "#46039f"
             ],
             [
              0.2222222222222222,
              "#7201a8"
             ],
             [
              0.3333333333333333,
              "#9c179e"
             ],
             [
              0.4444444444444444,
              "#bd3786"
             ],
             [
              0.5555555555555556,
              "#d8576b"
             ],
             [
              0.6666666666666666,
              "#ed7953"
             ],
             [
              0.7777777777777778,
              "#fb9f3a"
             ],
             [
              0.8888888888888888,
              "#fdca26"
             ],
             [
              1,
              "#f0f921"
             ]
            ],
            "type": "histogram2dcontour"
           }
          ],
          "mesh3d": [
           {
            "colorbar": {
             "outlinewidth": 0,
             "ticks": ""
            },
            "type": "mesh3d"
           }
          ],
          "parcoords": [
           {
            "line": {
             "colorbar": {
              "outlinewidth": 0,
              "ticks": ""
             }
            },
            "type": "parcoords"
           }
          ],
          "pie": [
           {
            "automargin": true,
            "type": "pie"
           }
          ],
          "scatter": [
           {
            "fillpattern": {
             "fillmode": "overlay",
             "size": 10,
             "solidity": 0.2
            },
            "type": "scatter"
           }
          ],
          "scatter3d": [
           {
            "line": {
             "colorbar": {
              "outlinewidth": 0,
              "ticks": ""
             }
            },
            "marker": {
             "colorbar": {
              "outlinewidth": 0,
              "ticks": ""
             }
            },
            "type": "scatter3d"
           }
          ],
          "scattercarpet": [
           {
            "marker": {
             "colorbar": {
              "outlinewidth": 0,
              "ticks": ""
             }
            },
            "type": "scattercarpet"
           }
          ],
          "scattergeo": [
           {
            "marker": {
             "colorbar": {
              "outlinewidth": 0,
              "ticks": ""
             }
            },
            "type": "scattergeo"
           }
          ],
          "scattergl": [
           {
            "marker": {
             "colorbar": {
              "outlinewidth": 0,
              "ticks": ""
             }
            },
            "type": "scattergl"
           }
          ],
          "scattermapbox": [
           {
            "marker": {
             "colorbar": {
              "outlinewidth": 0,
              "ticks": ""
             }
            },
            "type": "scattermapbox"
           }
          ],
          "scatterpolar": [
           {
            "marker": {
             "colorbar": {
              "outlinewidth": 0,
              "ticks": ""
             }
            },
            "type": "scatterpolar"
           }
          ],
          "scatterpolargl": [
           {
            "marker": {
             "colorbar": {
              "outlinewidth": 0,
              "ticks": ""
             }
            },
            "type": "scatterpolargl"
           }
          ],
          "scatterternary": [
           {
            "marker": {
             "colorbar": {
              "outlinewidth": 0,
              "ticks": ""
             }
            },
            "type": "scatterternary"
           }
          ],
          "surface": [
           {
            "colorbar": {
             "outlinewidth": 0,
             "ticks": ""
            },
            "colorscale": [
             [
              0,
              "#0d0887"
             ],
             [
              0.1111111111111111,
              "#46039f"
             ],
             [
              0.2222222222222222,
              "#7201a8"
             ],
             [
              0.3333333333333333,
              "#9c179e"
             ],
             [
              0.4444444444444444,
              "#bd3786"
             ],
             [
              0.5555555555555556,
              "#d8576b"
             ],
             [
              0.6666666666666666,
              "#ed7953"
             ],
             [
              0.7777777777777778,
              "#fb9f3a"
             ],
             [
              0.8888888888888888,
              "#fdca26"
             ],
             [
              1,
              "#f0f921"
             ]
            ],
            "type": "surface"
           }
          ],
          "table": [
           {
            "cells": {
             "fill": {
              "color": "#EBF0F8"
             },
             "line": {
              "color": "white"
             }
            },
            "header": {
             "fill": {
              "color": "#C8D4E3"
             },
             "line": {
              "color": "white"
             }
            },
            "type": "table"
           }
          ]
         },
         "layout": {
          "annotationdefaults": {
           "arrowcolor": "#2a3f5f",
           "arrowhead": 0,
           "arrowwidth": 1
          },
          "autotypenumbers": "strict",
          "coloraxis": {
           "colorbar": {
            "outlinewidth": 0,
            "ticks": ""
           }
          },
          "colorscale": {
           "diverging": [
            [
             0,
             "#8e0152"
            ],
            [
             0.1,
             "#c51b7d"
            ],
            [
             0.2,
             "#de77ae"
            ],
            [
             0.3,
             "#f1b6da"
            ],
            [
             0.4,
             "#fde0ef"
            ],
            [
             0.5,
             "#f7f7f7"
            ],
            [
             0.6,
             "#e6f5d0"
            ],
            [
             0.7,
             "#b8e186"
            ],
            [
             0.8,
             "#7fbc41"
            ],
            [
             0.9,
             "#4d9221"
            ],
            [
             1,
             "#276419"
            ]
           ],
           "sequential": [
            [
             0,
             "#0d0887"
            ],
            [
             0.1111111111111111,
             "#46039f"
            ],
            [
             0.2222222222222222,
             "#7201a8"
            ],
            [
             0.3333333333333333,
             "#9c179e"
            ],
            [
             0.4444444444444444,
             "#bd3786"
            ],
            [
             0.5555555555555556,
             "#d8576b"
            ],
            [
             0.6666666666666666,
             "#ed7953"
            ],
            [
             0.7777777777777778,
             "#fb9f3a"
            ],
            [
             0.8888888888888888,
             "#fdca26"
            ],
            [
             1,
             "#f0f921"
            ]
           ],
           "sequentialminus": [
            [
             0,
             "#0d0887"
            ],
            [
             0.1111111111111111,
             "#46039f"
            ],
            [
             0.2222222222222222,
             "#7201a8"
            ],
            [
             0.3333333333333333,
             "#9c179e"
            ],
            [
             0.4444444444444444,
             "#bd3786"
            ],
            [
             0.5555555555555556,
             "#d8576b"
            ],
            [
             0.6666666666666666,
             "#ed7953"
            ],
            [
             0.7777777777777778,
             "#fb9f3a"
            ],
            [
             0.8888888888888888,
             "#fdca26"
            ],
            [
             1,
             "#f0f921"
            ]
           ]
          },
          "colorway": [
           "#636efa",
           "#EF553B",
           "#00cc96",
           "#ab63fa",
           "#FFA15A",
           "#19d3f3",
           "#FF6692",
           "#B6E880",
           "#FF97FF",
           "#FECB52"
          ],
          "font": {
           "color": "#2a3f5f"
          },
          "geo": {
           "bgcolor": "white",
           "lakecolor": "white",
           "landcolor": "#E5ECF6",
           "showlakes": true,
           "showland": true,
           "subunitcolor": "white"
          },
          "hoverlabel": {
           "align": "left"
          },
          "hovermode": "closest",
          "mapbox": {
           "style": "light"
          },
          "paper_bgcolor": "white",
          "plot_bgcolor": "#E5ECF6",
          "polar": {
           "angularaxis": {
            "gridcolor": "white",
            "linecolor": "white",
            "ticks": ""
           },
           "bgcolor": "#E5ECF6",
           "radialaxis": {
            "gridcolor": "white",
            "linecolor": "white",
            "ticks": ""
           }
          },
          "scene": {
           "xaxis": {
            "backgroundcolor": "#E5ECF6",
            "gridcolor": "white",
            "gridwidth": 2,
            "linecolor": "white",
            "showbackground": true,
            "ticks": "",
            "zerolinecolor": "white"
           },
           "yaxis": {
            "backgroundcolor": "#E5ECF6",
            "gridcolor": "white",
            "gridwidth": 2,
            "linecolor": "white",
            "showbackground": true,
            "ticks": "",
            "zerolinecolor": "white"
           },
           "zaxis": {
            "backgroundcolor": "#E5ECF6",
            "gridcolor": "white",
            "gridwidth": 2,
            "linecolor": "white",
            "showbackground": true,
            "ticks": "",
            "zerolinecolor": "white"
           }
          },
          "shapedefaults": {
           "line": {
            "color": "#2a3f5f"
           }
          },
          "ternary": {
           "aaxis": {
            "gridcolor": "white",
            "linecolor": "white",
            "ticks": ""
           },
           "baxis": {
            "gridcolor": "white",
            "linecolor": "white",
            "ticks": ""
           },
           "bgcolor": "#E5ECF6",
           "caxis": {
            "gridcolor": "white",
            "linecolor": "white",
            "ticks": ""
           }
          },
          "title": {
           "x": 0.05
          },
          "xaxis": {
           "automargin": true,
           "gridcolor": "white",
           "linecolor": "white",
           "ticks": "",
           "title": {
            "standoff": 15
           },
           "zerolinecolor": "white",
           "zerolinewidth": 2
          },
          "yaxis": {
           "automargin": true,
           "gridcolor": "white",
           "linecolor": "white",
           "ticks": "",
           "title": {
            "standoff": 15
           },
           "zerolinecolor": "white",
           "zerolinewidth": 2
          }
         }
        },
        "title": {
         "text": "Parametric ReLU and Derivative "
        },
        "xaxis": {
         "title": {
          "text": "x"
         }
        },
        "yaxis": {
         "title": {
          "text": "y"
         }
        }
       }
      }
     },
     "metadata": {},
     "output_type": "display_data"
    },
    {
     "data": {
      "application/vnd.plotly.v1+json": {
       "config": {
        "plotlyServerURL": "https://plot.ly"
       },
       "data": [
        {
         "mode": "lines",
         "name": "PReLU function (alpha=0.65)",
         "type": "scatter",
         "x": [
          -3,
          -2.9393939393939394,
          -2.878787878787879,
          -2.8181818181818183,
          -2.757575757575758,
          -2.696969696969697,
          -2.6363636363636362,
          -2.5757575757575757,
          -2.515151515151515,
          -2.4545454545454546,
          -2.393939393939394,
          -2.333333333333333,
          -2.2727272727272725,
          -2.212121212121212,
          -2.1515151515151514,
          -2.090909090909091,
          -2.0303030303030303,
          -1.9696969696969697,
          -1.9090909090909092,
          -1.8484848484848484,
          -1.7878787878787878,
          -1.7272727272727273,
          -1.6666666666666665,
          -1.606060606060606,
          -1.5454545454545454,
          -1.4848484848484849,
          -1.4242424242424243,
          -1.3636363636363635,
          -1.303030303030303,
          -1.2424242424242424,
          -1.1818181818181817,
          -1.121212121212121,
          -1.0606060606060606,
          -1,
          -0.9393939393939394,
          -0.8787878787878789,
          -0.8181818181818183,
          -0.7575757575757573,
          -0.6969696969696968,
          -0.6363636363636362,
          -0.5757575757575757,
          -0.5151515151515151,
          -0.4545454545454546,
          -0.39393939393939403,
          -0.33333333333333304,
          -0.2727272727272725,
          -0.21212121212121193,
          -0.15151515151515138,
          -0.09090909090909083,
          -0.030303030303030276,
          0.030303030303030276,
          0.09090909090909083,
          0.15151515151515138,
          0.21212121212121238,
          0.27272727272727293,
          0.3333333333333335,
          0.39393939393939403,
          0.4545454545454546,
          0.5151515151515151,
          0.5757575757575757,
          0.6363636363636367,
          0.6969696969696972,
          0.7575757575757578,
          0.8181818181818183,
          0.8787878787878789,
          0.9393939393939394,
          1,
          1.0606060606060606,
          1.121212121212121,
          1.1818181818181817,
          1.2424242424242422,
          1.3030303030303028,
          1.3636363636363633,
          1.4242424242424248,
          1.4848484848484853,
          1.5454545454545459,
          1.6060606060606064,
          1.666666666666667,
          1.7272727272727275,
          1.787878787878788,
          1.8484848484848486,
          1.9090909090909092,
          1.9696969696969697,
          2.0303030303030303,
          2.090909090909091,
          2.1515151515151514,
          2.212121212121212,
          2.2727272727272725,
          2.333333333333334,
          2.3939393939393945,
          2.454545454545455,
          2.5151515151515156,
          2.575757575757576,
          2.6363636363636367,
          2.6969696969696972,
          2.757575757575758,
          2.8181818181818183,
          2.878787878787879,
          2.9393939393939394,
          3
         ],
         "y": [
          -1.9500000000000002,
          -1.9106060606060606,
          -1.8712121212121213,
          -1.831818181818182,
          -1.7924242424242427,
          -1.753030303030303,
          -1.7136363636363636,
          -1.6742424242424243,
          -1.634848484848485,
          -1.5954545454545455,
          -1.5560606060606061,
          -1.5166666666666666,
          -1.477272727272727,
          -1.4378787878787878,
          -1.3984848484848484,
          -1.3590909090909091,
          -1.3196969696969698,
          -1.2803030303030303,
          -1.240909090909091,
          -1.2015151515151514,
          -1.162121212121212,
          -1.1227272727272728,
          -1.0833333333333333,
          -1.043939393939394,
          -1.0045454545454546,
          -0.9651515151515152,
          -0.9257575757575758,
          -0.8863636363636364,
          -0.8469696969696969,
          -0.8075757575757576,
          -0.7681818181818181,
          -0.7287878787878788,
          -0.6893939393939393,
          -0.65,
          -0.6106060606060607,
          -0.5712121212121213,
          -0.531818181818182,
          -0.4924242424242423,
          -0.45303030303030295,
          -0.4136363636363636,
          -0.3742424242424242,
          -0.33484848484848484,
          -0.29545454545454547,
          -0.25606060606060616,
          -0.21666666666666648,
          -0.1772727272727271,
          -0.13787878787878777,
          -0.0984848484848484,
          -0.05909090909090904,
          -0.01969696969696968,
          0.030303030303030276,
          0.09090909090909083,
          0.15151515151515138,
          0.21212121212121238,
          0.27272727272727293,
          0.3333333333333335,
          0.39393939393939403,
          0.4545454545454546,
          0.5151515151515151,
          0.5757575757575757,
          0.6363636363636367,
          0.6969696969696972,
          0.7575757575757578,
          0.8181818181818183,
          0.8787878787878789,
          0.9393939393939394,
          1,
          1.0606060606060606,
          1.121212121212121,
          1.1818181818181817,
          1.2424242424242422,
          1.3030303030303028,
          1.3636363636363633,
          1.4242424242424248,
          1.4848484848484853,
          1.5454545454545459,
          1.6060606060606064,
          1.666666666666667,
          1.7272727272727275,
          1.787878787878788,
          1.8484848484848486,
          1.9090909090909092,
          1.9696969696969697,
          2.0303030303030303,
          2.090909090909091,
          2.1515151515151514,
          2.212121212121212,
          2.2727272727272725,
          2.333333333333334,
          2.3939393939393945,
          2.454545454545455,
          2.5151515151515156,
          2.575757575757576,
          2.6363636363636367,
          2.6969696969696972,
          2.757575757575758,
          2.8181818181818183,
          2.878787878787879,
          2.9393939393939394,
          3
         ]
        },
        {
         "mode": "lines",
         "name": "PReLU derivative (alpha=0.65)",
         "type": "scatter",
         "x": [
          -3,
          -2.9393939393939394,
          -2.878787878787879,
          -2.8181818181818183,
          -2.757575757575758,
          -2.696969696969697,
          -2.6363636363636362,
          -2.5757575757575757,
          -2.515151515151515,
          -2.4545454545454546,
          -2.393939393939394,
          -2.333333333333333,
          -2.2727272727272725,
          -2.212121212121212,
          -2.1515151515151514,
          -2.090909090909091,
          -2.0303030303030303,
          -1.9696969696969697,
          -1.9090909090909092,
          -1.8484848484848484,
          -1.7878787878787878,
          -1.7272727272727273,
          -1.6666666666666665,
          -1.606060606060606,
          -1.5454545454545454,
          -1.4848484848484849,
          -1.4242424242424243,
          -1.3636363636363635,
          -1.303030303030303,
          -1.2424242424242424,
          -1.1818181818181817,
          -1.121212121212121,
          -1.0606060606060606,
          -1,
          -0.9393939393939394,
          -0.8787878787878789,
          -0.8181818181818183,
          -0.7575757575757573,
          -0.6969696969696968,
          -0.6363636363636362,
          -0.5757575757575757,
          -0.5151515151515151,
          -0.4545454545454546,
          -0.39393939393939403,
          -0.33333333333333304,
          -0.2727272727272725,
          -0.21212121212121193,
          -0.15151515151515138,
          -0.09090909090909083,
          -0.030303030303030276,
          0.030303030303030276,
          0.09090909090909083,
          0.15151515151515138,
          0.21212121212121238,
          0.27272727272727293,
          0.3333333333333335,
          0.39393939393939403,
          0.4545454545454546,
          0.5151515151515151,
          0.5757575757575757,
          0.6363636363636367,
          0.6969696969696972,
          0.7575757575757578,
          0.8181818181818183,
          0.8787878787878789,
          0.9393939393939394,
          1,
          1.0606060606060606,
          1.121212121212121,
          1.1818181818181817,
          1.2424242424242422,
          1.3030303030303028,
          1.3636363636363633,
          1.4242424242424248,
          1.4848484848484853,
          1.5454545454545459,
          1.6060606060606064,
          1.666666666666667,
          1.7272727272727275,
          1.787878787878788,
          1.8484848484848486,
          1.9090909090909092,
          1.9696969696969697,
          2.0303030303030303,
          2.090909090909091,
          2.1515151515151514,
          2.212121212121212,
          2.2727272727272725,
          2.333333333333334,
          2.3939393939393945,
          2.454545454545455,
          2.5151515151515156,
          2.575757575757576,
          2.6363636363636367,
          2.6969696969696972,
          2.757575757575758,
          2.8181818181818183,
          2.878787878787879,
          2.9393939393939394,
          3
         ],
         "y": [
          0.65,
          0.65,
          0.65,
          0.65,
          0.65,
          0.65,
          0.65,
          0.65,
          0.65,
          0.65,
          0.65,
          0.65,
          0.65,
          0.65,
          0.65,
          0.65,
          0.65,
          0.65,
          0.65,
          0.65,
          0.65,
          0.65,
          0.65,
          0.65,
          0.65,
          0.65,
          0.65,
          0.65,
          0.65,
          0.65,
          0.65,
          0.65,
          0.65,
          0.65,
          0.65,
          0.65,
          0.65,
          0.65,
          0.65,
          0.65,
          0.65,
          0.65,
          0.65,
          0.65,
          0.65,
          0.65,
          0.65,
          0.65,
          0.65,
          0.65,
          1,
          1,
          1,
          1,
          1,
          1,
          1,
          1,
          1,
          1,
          1,
          1,
          1,
          1,
          1,
          1,
          1,
          1,
          1,
          1,
          1,
          1,
          1,
          1,
          1,
          1,
          1,
          1,
          1,
          1,
          1,
          1,
          1,
          1,
          1,
          1,
          1,
          1,
          1,
          1,
          1,
          1,
          1,
          1,
          1,
          1,
          1,
          1,
          1,
          1
         ]
        }
       ],
       "layout": {
        "showlegend": true,
        "template": {
         "data": {
          "bar": [
           {
            "error_x": {
             "color": "#2a3f5f"
            },
            "error_y": {
             "color": "#2a3f5f"
            },
            "marker": {
             "line": {
              "color": "#E5ECF6",
              "width": 0.5
             },
             "pattern": {
              "fillmode": "overlay",
              "size": 10,
              "solidity": 0.2
             }
            },
            "type": "bar"
           }
          ],
          "barpolar": [
           {
            "marker": {
             "line": {
              "color": "#E5ECF6",
              "width": 0.5
             },
             "pattern": {
              "fillmode": "overlay",
              "size": 10,
              "solidity": 0.2
             }
            },
            "type": "barpolar"
           }
          ],
          "carpet": [
           {
            "aaxis": {
             "endlinecolor": "#2a3f5f",
             "gridcolor": "white",
             "linecolor": "white",
             "minorgridcolor": "white",
             "startlinecolor": "#2a3f5f"
            },
            "baxis": {
             "endlinecolor": "#2a3f5f",
             "gridcolor": "white",
             "linecolor": "white",
             "minorgridcolor": "white",
             "startlinecolor": "#2a3f5f"
            },
            "type": "carpet"
           }
          ],
          "choropleth": [
           {
            "colorbar": {
             "outlinewidth": 0,
             "ticks": ""
            },
            "type": "choropleth"
           }
          ],
          "contour": [
           {
            "colorbar": {
             "outlinewidth": 0,
             "ticks": ""
            },
            "colorscale": [
             [
              0,
              "#0d0887"
             ],
             [
              0.1111111111111111,
              "#46039f"
             ],
             [
              0.2222222222222222,
              "#7201a8"
             ],
             [
              0.3333333333333333,
              "#9c179e"
             ],
             [
              0.4444444444444444,
              "#bd3786"
             ],
             [
              0.5555555555555556,
              "#d8576b"
             ],
             [
              0.6666666666666666,
              "#ed7953"
             ],
             [
              0.7777777777777778,
              "#fb9f3a"
             ],
             [
              0.8888888888888888,
              "#fdca26"
             ],
             [
              1,
              "#f0f921"
             ]
            ],
            "type": "contour"
           }
          ],
          "contourcarpet": [
           {
            "colorbar": {
             "outlinewidth": 0,
             "ticks": ""
            },
            "type": "contourcarpet"
           }
          ],
          "heatmap": [
           {
            "colorbar": {
             "outlinewidth": 0,
             "ticks": ""
            },
            "colorscale": [
             [
              0,
              "#0d0887"
             ],
             [
              0.1111111111111111,
              "#46039f"
             ],
             [
              0.2222222222222222,
              "#7201a8"
             ],
             [
              0.3333333333333333,
              "#9c179e"
             ],
             [
              0.4444444444444444,
              "#bd3786"
             ],
             [
              0.5555555555555556,
              "#d8576b"
             ],
             [
              0.6666666666666666,
              "#ed7953"
             ],
             [
              0.7777777777777778,
              "#fb9f3a"
             ],
             [
              0.8888888888888888,
              "#fdca26"
             ],
             [
              1,
              "#f0f921"
             ]
            ],
            "type": "heatmap"
           }
          ],
          "heatmapgl": [
           {
            "colorbar": {
             "outlinewidth": 0,
             "ticks": ""
            },
            "colorscale": [
             [
              0,
              "#0d0887"
             ],
             [
              0.1111111111111111,
              "#46039f"
             ],
             [
              0.2222222222222222,
              "#7201a8"
             ],
             [
              0.3333333333333333,
              "#9c179e"
             ],
             [
              0.4444444444444444,
              "#bd3786"
             ],
             [
              0.5555555555555556,
              "#d8576b"
             ],
             [
              0.6666666666666666,
              "#ed7953"
             ],
             [
              0.7777777777777778,
              "#fb9f3a"
             ],
             [
              0.8888888888888888,
              "#fdca26"
             ],
             [
              1,
              "#f0f921"
             ]
            ],
            "type": "heatmapgl"
           }
          ],
          "histogram": [
           {
            "marker": {
             "pattern": {
              "fillmode": "overlay",
              "size": 10,
              "solidity": 0.2
             }
            },
            "type": "histogram"
           }
          ],
          "histogram2d": [
           {
            "colorbar": {
             "outlinewidth": 0,
             "ticks": ""
            },
            "colorscale": [
             [
              0,
              "#0d0887"
             ],
             [
              0.1111111111111111,
              "#46039f"
             ],
             [
              0.2222222222222222,
              "#7201a8"
             ],
             [
              0.3333333333333333,
              "#9c179e"
             ],
             [
              0.4444444444444444,
              "#bd3786"
             ],
             [
              0.5555555555555556,
              "#d8576b"
             ],
             [
              0.6666666666666666,
              "#ed7953"
             ],
             [
              0.7777777777777778,
              "#fb9f3a"
             ],
             [
              0.8888888888888888,
              "#fdca26"
             ],
             [
              1,
              "#f0f921"
             ]
            ],
            "type": "histogram2d"
           }
          ],
          "histogram2dcontour": [
           {
            "colorbar": {
             "outlinewidth": 0,
             "ticks": ""
            },
            "colorscale": [
             [
              0,
              "#0d0887"
             ],
             [
              0.1111111111111111,
              "#46039f"
             ],
             [
              0.2222222222222222,
              "#7201a8"
             ],
             [
              0.3333333333333333,
              "#9c179e"
             ],
             [
              0.4444444444444444,
              "#bd3786"
             ],
             [
              0.5555555555555556,
              "#d8576b"
             ],
             [
              0.6666666666666666,
              "#ed7953"
             ],
             [
              0.7777777777777778,
              "#fb9f3a"
             ],
             [
              0.8888888888888888,
              "#fdca26"
             ],
             [
              1,
              "#f0f921"
             ]
            ],
            "type": "histogram2dcontour"
           }
          ],
          "mesh3d": [
           {
            "colorbar": {
             "outlinewidth": 0,
             "ticks": ""
            },
            "type": "mesh3d"
           }
          ],
          "parcoords": [
           {
            "line": {
             "colorbar": {
              "outlinewidth": 0,
              "ticks": ""
             }
            },
            "type": "parcoords"
           }
          ],
          "pie": [
           {
            "automargin": true,
            "type": "pie"
           }
          ],
          "scatter": [
           {
            "fillpattern": {
             "fillmode": "overlay",
             "size": 10,
             "solidity": 0.2
            },
            "type": "scatter"
           }
          ],
          "scatter3d": [
           {
            "line": {
             "colorbar": {
              "outlinewidth": 0,
              "ticks": ""
             }
            },
            "marker": {
             "colorbar": {
              "outlinewidth": 0,
              "ticks": ""
             }
            },
            "type": "scatter3d"
           }
          ],
          "scattercarpet": [
           {
            "marker": {
             "colorbar": {
              "outlinewidth": 0,
              "ticks": ""
             }
            },
            "type": "scattercarpet"
           }
          ],
          "scattergeo": [
           {
            "marker": {
             "colorbar": {
              "outlinewidth": 0,
              "ticks": ""
             }
            },
            "type": "scattergeo"
           }
          ],
          "scattergl": [
           {
            "marker": {
             "colorbar": {
              "outlinewidth": 0,
              "ticks": ""
             }
            },
            "type": "scattergl"
           }
          ],
          "scattermapbox": [
           {
            "marker": {
             "colorbar": {
              "outlinewidth": 0,
              "ticks": ""
             }
            },
            "type": "scattermapbox"
           }
          ],
          "scatterpolar": [
           {
            "marker": {
             "colorbar": {
              "outlinewidth": 0,
              "ticks": ""
             }
            },
            "type": "scatterpolar"
           }
          ],
          "scatterpolargl": [
           {
            "marker": {
             "colorbar": {
              "outlinewidth": 0,
              "ticks": ""
             }
            },
            "type": "scatterpolargl"
           }
          ],
          "scatterternary": [
           {
            "marker": {
             "colorbar": {
              "outlinewidth": 0,
              "ticks": ""
             }
            },
            "type": "scatterternary"
           }
          ],
          "surface": [
           {
            "colorbar": {
             "outlinewidth": 0,
             "ticks": ""
            },
            "colorscale": [
             [
              0,
              "#0d0887"
             ],
             [
              0.1111111111111111,
              "#46039f"
             ],
             [
              0.2222222222222222,
              "#7201a8"
             ],
             [
              0.3333333333333333,
              "#9c179e"
             ],
             [
              0.4444444444444444,
              "#bd3786"
             ],
             [
              0.5555555555555556,
              "#d8576b"
             ],
             [
              0.6666666666666666,
              "#ed7953"
             ],
             [
              0.7777777777777778,
              "#fb9f3a"
             ],
             [
              0.8888888888888888,
              "#fdca26"
             ],
             [
              1,
              "#f0f921"
             ]
            ],
            "type": "surface"
           }
          ],
          "table": [
           {
            "cells": {
             "fill": {
              "color": "#EBF0F8"
             },
             "line": {
              "color": "white"
             }
            },
            "header": {
             "fill": {
              "color": "#C8D4E3"
             },
             "line": {
              "color": "white"
             }
            },
            "type": "table"
           }
          ]
         },
         "layout": {
          "annotationdefaults": {
           "arrowcolor": "#2a3f5f",
           "arrowhead": 0,
           "arrowwidth": 1
          },
          "autotypenumbers": "strict",
          "coloraxis": {
           "colorbar": {
            "outlinewidth": 0,
            "ticks": ""
           }
          },
          "colorscale": {
           "diverging": [
            [
             0,
             "#8e0152"
            ],
            [
             0.1,
             "#c51b7d"
            ],
            [
             0.2,
             "#de77ae"
            ],
            [
             0.3,
             "#f1b6da"
            ],
            [
             0.4,
             "#fde0ef"
            ],
            [
             0.5,
             "#f7f7f7"
            ],
            [
             0.6,
             "#e6f5d0"
            ],
            [
             0.7,
             "#b8e186"
            ],
            [
             0.8,
             "#7fbc41"
            ],
            [
             0.9,
             "#4d9221"
            ],
            [
             1,
             "#276419"
            ]
           ],
           "sequential": [
            [
             0,
             "#0d0887"
            ],
            [
             0.1111111111111111,
             "#46039f"
            ],
            [
             0.2222222222222222,
             "#7201a8"
            ],
            [
             0.3333333333333333,
             "#9c179e"
            ],
            [
             0.4444444444444444,
             "#bd3786"
            ],
            [
             0.5555555555555556,
             "#d8576b"
            ],
            [
             0.6666666666666666,
             "#ed7953"
            ],
            [
             0.7777777777777778,
             "#fb9f3a"
            ],
            [
             0.8888888888888888,
             "#fdca26"
            ],
            [
             1,
             "#f0f921"
            ]
           ],
           "sequentialminus": [
            [
             0,
             "#0d0887"
            ],
            [
             0.1111111111111111,
             "#46039f"
            ],
            [
             0.2222222222222222,
             "#7201a8"
            ],
            [
             0.3333333333333333,
             "#9c179e"
            ],
            [
             0.4444444444444444,
             "#bd3786"
            ],
            [
             0.5555555555555556,
             "#d8576b"
            ],
            [
             0.6666666666666666,
             "#ed7953"
            ],
            [
             0.7777777777777778,
             "#fb9f3a"
            ],
            [
             0.8888888888888888,
             "#fdca26"
            ],
            [
             1,
             "#f0f921"
            ]
           ]
          },
          "colorway": [
           "#636efa",
           "#EF553B",
           "#00cc96",
           "#ab63fa",
           "#FFA15A",
           "#19d3f3",
           "#FF6692",
           "#B6E880",
           "#FF97FF",
           "#FECB52"
          ],
          "font": {
           "color": "#2a3f5f"
          },
          "geo": {
           "bgcolor": "white",
           "lakecolor": "white",
           "landcolor": "#E5ECF6",
           "showlakes": true,
           "showland": true,
           "subunitcolor": "white"
          },
          "hoverlabel": {
           "align": "left"
          },
          "hovermode": "closest",
          "mapbox": {
           "style": "light"
          },
          "paper_bgcolor": "white",
          "plot_bgcolor": "#E5ECF6",
          "polar": {
           "angularaxis": {
            "gridcolor": "white",
            "linecolor": "white",
            "ticks": ""
           },
           "bgcolor": "#E5ECF6",
           "radialaxis": {
            "gridcolor": "white",
            "linecolor": "white",
            "ticks": ""
           }
          },
          "scene": {
           "xaxis": {
            "backgroundcolor": "#E5ECF6",
            "gridcolor": "white",
            "gridwidth": 2,
            "linecolor": "white",
            "showbackground": true,
            "ticks": "",
            "zerolinecolor": "white"
           },
           "yaxis": {
            "backgroundcolor": "#E5ECF6",
            "gridcolor": "white",
            "gridwidth": 2,
            "linecolor": "white",
            "showbackground": true,
            "ticks": "",
            "zerolinecolor": "white"
           },
           "zaxis": {
            "backgroundcolor": "#E5ECF6",
            "gridcolor": "white",
            "gridwidth": 2,
            "linecolor": "white",
            "showbackground": true,
            "ticks": "",
            "zerolinecolor": "white"
           }
          },
          "shapedefaults": {
           "line": {
            "color": "#2a3f5f"
           }
          },
          "ternary": {
           "aaxis": {
            "gridcolor": "white",
            "linecolor": "white",
            "ticks": ""
           },
           "baxis": {
            "gridcolor": "white",
            "linecolor": "white",
            "ticks": ""
           },
           "bgcolor": "#E5ECF6",
           "caxis": {
            "gridcolor": "white",
            "linecolor": "white",
            "ticks": ""
           }
          },
          "title": {
           "x": 0.05
          },
          "xaxis": {
           "automargin": true,
           "gridcolor": "white",
           "linecolor": "white",
           "ticks": "",
           "title": {
            "standoff": 15
           },
           "zerolinecolor": "white",
           "zerolinewidth": 2
          },
          "yaxis": {
           "automargin": true,
           "gridcolor": "white",
           "linecolor": "white",
           "ticks": "",
           "title": {
            "standoff": 15
           },
           "zerolinecolor": "white",
           "zerolinewidth": 2
          }
         }
        },
        "title": {
         "text": "Parametric ReLU and Derivative "
        },
        "xaxis": {
         "title": {
          "text": "x"
         }
        },
        "yaxis": {
         "title": {
          "text": "y"
         }
        }
       }
      }
     },
     "metadata": {},
     "output_type": "display_data"
    },
    {
     "data": {
      "application/vnd.plotly.v1+json": {
       "config": {
        "plotlyServerURL": "https://plot.ly"
       },
       "data": [
        {
         "mode": "lines",
         "name": "PReLU function (alpha=0.56)",
         "type": "scatter",
         "x": [
          -3,
          -2.9393939393939394,
          -2.878787878787879,
          -2.8181818181818183,
          -2.757575757575758,
          -2.696969696969697,
          -2.6363636363636362,
          -2.5757575757575757,
          -2.515151515151515,
          -2.4545454545454546,
          -2.393939393939394,
          -2.333333333333333,
          -2.2727272727272725,
          -2.212121212121212,
          -2.1515151515151514,
          -2.090909090909091,
          -2.0303030303030303,
          -1.9696969696969697,
          -1.9090909090909092,
          -1.8484848484848484,
          -1.7878787878787878,
          -1.7272727272727273,
          -1.6666666666666665,
          -1.606060606060606,
          -1.5454545454545454,
          -1.4848484848484849,
          -1.4242424242424243,
          -1.3636363636363635,
          -1.303030303030303,
          -1.2424242424242424,
          -1.1818181818181817,
          -1.121212121212121,
          -1.0606060606060606,
          -1,
          -0.9393939393939394,
          -0.8787878787878789,
          -0.8181818181818183,
          -0.7575757575757573,
          -0.6969696969696968,
          -0.6363636363636362,
          -0.5757575757575757,
          -0.5151515151515151,
          -0.4545454545454546,
          -0.39393939393939403,
          -0.33333333333333304,
          -0.2727272727272725,
          -0.21212121212121193,
          -0.15151515151515138,
          -0.09090909090909083,
          -0.030303030303030276,
          0.030303030303030276,
          0.09090909090909083,
          0.15151515151515138,
          0.21212121212121238,
          0.27272727272727293,
          0.3333333333333335,
          0.39393939393939403,
          0.4545454545454546,
          0.5151515151515151,
          0.5757575757575757,
          0.6363636363636367,
          0.6969696969696972,
          0.7575757575757578,
          0.8181818181818183,
          0.8787878787878789,
          0.9393939393939394,
          1,
          1.0606060606060606,
          1.121212121212121,
          1.1818181818181817,
          1.2424242424242422,
          1.3030303030303028,
          1.3636363636363633,
          1.4242424242424248,
          1.4848484848484853,
          1.5454545454545459,
          1.6060606060606064,
          1.666666666666667,
          1.7272727272727275,
          1.787878787878788,
          1.8484848484848486,
          1.9090909090909092,
          1.9696969696969697,
          2.0303030303030303,
          2.090909090909091,
          2.1515151515151514,
          2.212121212121212,
          2.2727272727272725,
          2.333333333333334,
          2.3939393939393945,
          2.454545454545455,
          2.5151515151515156,
          2.575757575757576,
          2.6363636363636367,
          2.6969696969696972,
          2.757575757575758,
          2.8181818181818183,
          2.878787878787879,
          2.9393939393939394,
          3
         ],
         "y": [
          -1.6800000000000002,
          -1.6460606060606062,
          -1.6121212121212123,
          -1.5781818181818184,
          -1.5442424242424244,
          -1.5103030303030303,
          -1.4763636363636365,
          -1.4424242424242426,
          -1.4084848484848487,
          -1.3745454545454547,
          -1.3406060606060608,
          -1.3066666666666666,
          -1.2727272727272727,
          -1.2387878787878788,
          -1.2048484848484848,
          -1.170909090909091,
          -1.136969696969697,
          -1.1030303030303032,
          -1.0690909090909093,
          -1.0351515151515152,
          -1.0012121212121212,
          -0.9672727272727274,
          -0.9333333333333333,
          -0.8993939393939394,
          -0.8654545454545455,
          -0.8315151515151517,
          -0.7975757575757577,
          -0.7636363636363637,
          -0.7296969696969697,
          -0.6957575757575758,
          -0.6618181818181817,
          -0.6278787878787879,
          -0.593939393939394,
          -0.56,
          -0.5260606060606061,
          -0.49212121212121224,
          -0.4581818181818183,
          -0.42424242424242414,
          -0.39030303030303026,
          -0.3563636363636363,
          -0.3224242424242424,
          -0.2884848484848485,
          -0.2545454545454546,
          -0.22060606060606067,
          -0.1866666666666665,
          -0.1527272727272726,
          -0.11878787878787869,
          -0.08484848484848478,
          -0.05090909090909087,
          -0.016969696969696958,
          0.030303030303030276,
          0.09090909090909083,
          0.15151515151515138,
          0.21212121212121238,
          0.27272727272727293,
          0.3333333333333335,
          0.39393939393939403,
          0.4545454545454546,
          0.5151515151515151,
          0.5757575757575757,
          0.6363636363636367,
          0.6969696969696972,
          0.7575757575757578,
          0.8181818181818183,
          0.8787878787878789,
          0.9393939393939394,
          1,
          1.0606060606060606,
          1.121212121212121,
          1.1818181818181817,
          1.2424242424242422,
          1.3030303030303028,
          1.3636363636363633,
          1.4242424242424248,
          1.4848484848484853,
          1.5454545454545459,
          1.6060606060606064,
          1.666666666666667,
          1.7272727272727275,
          1.787878787878788,
          1.8484848484848486,
          1.9090909090909092,
          1.9696969696969697,
          2.0303030303030303,
          2.090909090909091,
          2.1515151515151514,
          2.212121212121212,
          2.2727272727272725,
          2.333333333333334,
          2.3939393939393945,
          2.454545454545455,
          2.5151515151515156,
          2.575757575757576,
          2.6363636363636367,
          2.6969696969696972,
          2.757575757575758,
          2.8181818181818183,
          2.878787878787879,
          2.9393939393939394,
          3
         ]
        },
        {
         "mode": "lines",
         "name": "PReLU derivative (alpha=0.56)",
         "type": "scatter",
         "x": [
          -3,
          -2.9393939393939394,
          -2.878787878787879,
          -2.8181818181818183,
          -2.757575757575758,
          -2.696969696969697,
          -2.6363636363636362,
          -2.5757575757575757,
          -2.515151515151515,
          -2.4545454545454546,
          -2.393939393939394,
          -2.333333333333333,
          -2.2727272727272725,
          -2.212121212121212,
          -2.1515151515151514,
          -2.090909090909091,
          -2.0303030303030303,
          -1.9696969696969697,
          -1.9090909090909092,
          -1.8484848484848484,
          -1.7878787878787878,
          -1.7272727272727273,
          -1.6666666666666665,
          -1.606060606060606,
          -1.5454545454545454,
          -1.4848484848484849,
          -1.4242424242424243,
          -1.3636363636363635,
          -1.303030303030303,
          -1.2424242424242424,
          -1.1818181818181817,
          -1.121212121212121,
          -1.0606060606060606,
          -1,
          -0.9393939393939394,
          -0.8787878787878789,
          -0.8181818181818183,
          -0.7575757575757573,
          -0.6969696969696968,
          -0.6363636363636362,
          -0.5757575757575757,
          -0.5151515151515151,
          -0.4545454545454546,
          -0.39393939393939403,
          -0.33333333333333304,
          -0.2727272727272725,
          -0.21212121212121193,
          -0.15151515151515138,
          -0.09090909090909083,
          -0.030303030303030276,
          0.030303030303030276,
          0.09090909090909083,
          0.15151515151515138,
          0.21212121212121238,
          0.27272727272727293,
          0.3333333333333335,
          0.39393939393939403,
          0.4545454545454546,
          0.5151515151515151,
          0.5757575757575757,
          0.6363636363636367,
          0.6969696969696972,
          0.7575757575757578,
          0.8181818181818183,
          0.8787878787878789,
          0.9393939393939394,
          1,
          1.0606060606060606,
          1.121212121212121,
          1.1818181818181817,
          1.2424242424242422,
          1.3030303030303028,
          1.3636363636363633,
          1.4242424242424248,
          1.4848484848484853,
          1.5454545454545459,
          1.6060606060606064,
          1.666666666666667,
          1.7272727272727275,
          1.787878787878788,
          1.8484848484848486,
          1.9090909090909092,
          1.9696969696969697,
          2.0303030303030303,
          2.090909090909091,
          2.1515151515151514,
          2.212121212121212,
          2.2727272727272725,
          2.333333333333334,
          2.3939393939393945,
          2.454545454545455,
          2.5151515151515156,
          2.575757575757576,
          2.6363636363636367,
          2.6969696969696972,
          2.757575757575758,
          2.8181818181818183,
          2.878787878787879,
          2.9393939393939394,
          3
         ],
         "y": [
          0.56,
          0.56,
          0.56,
          0.56,
          0.56,
          0.56,
          0.56,
          0.56,
          0.56,
          0.56,
          0.56,
          0.56,
          0.56,
          0.56,
          0.56,
          0.56,
          0.56,
          0.56,
          0.56,
          0.56,
          0.56,
          0.56,
          0.56,
          0.56,
          0.56,
          0.56,
          0.56,
          0.56,
          0.56,
          0.56,
          0.56,
          0.56,
          0.56,
          0.56,
          0.56,
          0.56,
          0.56,
          0.56,
          0.56,
          0.56,
          0.56,
          0.56,
          0.56,
          0.56,
          0.56,
          0.56,
          0.56,
          0.56,
          0.56,
          0.56,
          1,
          1,
          1,
          1,
          1,
          1,
          1,
          1,
          1,
          1,
          1,
          1,
          1,
          1,
          1,
          1,
          1,
          1,
          1,
          1,
          1,
          1,
          1,
          1,
          1,
          1,
          1,
          1,
          1,
          1,
          1,
          1,
          1,
          1,
          1,
          1,
          1,
          1,
          1,
          1,
          1,
          1,
          1,
          1,
          1,
          1,
          1,
          1,
          1,
          1
         ]
        }
       ],
       "layout": {
        "showlegend": true,
        "template": {
         "data": {
          "bar": [
           {
            "error_x": {
             "color": "#2a3f5f"
            },
            "error_y": {
             "color": "#2a3f5f"
            },
            "marker": {
             "line": {
              "color": "#E5ECF6",
              "width": 0.5
             },
             "pattern": {
              "fillmode": "overlay",
              "size": 10,
              "solidity": 0.2
             }
            },
            "type": "bar"
           }
          ],
          "barpolar": [
           {
            "marker": {
             "line": {
              "color": "#E5ECF6",
              "width": 0.5
             },
             "pattern": {
              "fillmode": "overlay",
              "size": 10,
              "solidity": 0.2
             }
            },
            "type": "barpolar"
           }
          ],
          "carpet": [
           {
            "aaxis": {
             "endlinecolor": "#2a3f5f",
             "gridcolor": "white",
             "linecolor": "white",
             "minorgridcolor": "white",
             "startlinecolor": "#2a3f5f"
            },
            "baxis": {
             "endlinecolor": "#2a3f5f",
             "gridcolor": "white",
             "linecolor": "white",
             "minorgridcolor": "white",
             "startlinecolor": "#2a3f5f"
            },
            "type": "carpet"
           }
          ],
          "choropleth": [
           {
            "colorbar": {
             "outlinewidth": 0,
             "ticks": ""
            },
            "type": "choropleth"
           }
          ],
          "contour": [
           {
            "colorbar": {
             "outlinewidth": 0,
             "ticks": ""
            },
            "colorscale": [
             [
              0,
              "#0d0887"
             ],
             [
              0.1111111111111111,
              "#46039f"
             ],
             [
              0.2222222222222222,
              "#7201a8"
             ],
             [
              0.3333333333333333,
              "#9c179e"
             ],
             [
              0.4444444444444444,
              "#bd3786"
             ],
             [
              0.5555555555555556,
              "#d8576b"
             ],
             [
              0.6666666666666666,
              "#ed7953"
             ],
             [
              0.7777777777777778,
              "#fb9f3a"
             ],
             [
              0.8888888888888888,
              "#fdca26"
             ],
             [
              1,
              "#f0f921"
             ]
            ],
            "type": "contour"
           }
          ],
          "contourcarpet": [
           {
            "colorbar": {
             "outlinewidth": 0,
             "ticks": ""
            },
            "type": "contourcarpet"
           }
          ],
          "heatmap": [
           {
            "colorbar": {
             "outlinewidth": 0,
             "ticks": ""
            },
            "colorscale": [
             [
              0,
              "#0d0887"
             ],
             [
              0.1111111111111111,
              "#46039f"
             ],
             [
              0.2222222222222222,
              "#7201a8"
             ],
             [
              0.3333333333333333,
              "#9c179e"
             ],
             [
              0.4444444444444444,
              "#bd3786"
             ],
             [
              0.5555555555555556,
              "#d8576b"
             ],
             [
              0.6666666666666666,
              "#ed7953"
             ],
             [
              0.7777777777777778,
              "#fb9f3a"
             ],
             [
              0.8888888888888888,
              "#fdca26"
             ],
             [
              1,
              "#f0f921"
             ]
            ],
            "type": "heatmap"
           }
          ],
          "heatmapgl": [
           {
            "colorbar": {
             "outlinewidth": 0,
             "ticks": ""
            },
            "colorscale": [
             [
              0,
              "#0d0887"
             ],
             [
              0.1111111111111111,
              "#46039f"
             ],
             [
              0.2222222222222222,
              "#7201a8"
             ],
             [
              0.3333333333333333,
              "#9c179e"
             ],
             [
              0.4444444444444444,
              "#bd3786"
             ],
             [
              0.5555555555555556,
              "#d8576b"
             ],
             [
              0.6666666666666666,
              "#ed7953"
             ],
             [
              0.7777777777777778,
              "#fb9f3a"
             ],
             [
              0.8888888888888888,
              "#fdca26"
             ],
             [
              1,
              "#f0f921"
             ]
            ],
            "type": "heatmapgl"
           }
          ],
          "histogram": [
           {
            "marker": {
             "pattern": {
              "fillmode": "overlay",
              "size": 10,
              "solidity": 0.2
             }
            },
            "type": "histogram"
           }
          ],
          "histogram2d": [
           {
            "colorbar": {
             "outlinewidth": 0,
             "ticks": ""
            },
            "colorscale": [
             [
              0,
              "#0d0887"
             ],
             [
              0.1111111111111111,
              "#46039f"
             ],
             [
              0.2222222222222222,
              "#7201a8"
             ],
             [
              0.3333333333333333,
              "#9c179e"
             ],
             [
              0.4444444444444444,
              "#bd3786"
             ],
             [
              0.5555555555555556,
              "#d8576b"
             ],
             [
              0.6666666666666666,
              "#ed7953"
             ],
             [
              0.7777777777777778,
              "#fb9f3a"
             ],
             [
              0.8888888888888888,
              "#fdca26"
             ],
             [
              1,
              "#f0f921"
             ]
            ],
            "type": "histogram2d"
           }
          ],
          "histogram2dcontour": [
           {
            "colorbar": {
             "outlinewidth": 0,
             "ticks": ""
            },
            "colorscale": [
             [
              0,
              "#0d0887"
             ],
             [
              0.1111111111111111,
              "#46039f"
             ],
             [
              0.2222222222222222,
              "#7201a8"
             ],
             [
              0.3333333333333333,
              "#9c179e"
             ],
             [
              0.4444444444444444,
              "#bd3786"
             ],
             [
              0.5555555555555556,
              "#d8576b"
             ],
             [
              0.6666666666666666,
              "#ed7953"
             ],
             [
              0.7777777777777778,
              "#fb9f3a"
             ],
             [
              0.8888888888888888,
              "#fdca26"
             ],
             [
              1,
              "#f0f921"
             ]
            ],
            "type": "histogram2dcontour"
           }
          ],
          "mesh3d": [
           {
            "colorbar": {
             "outlinewidth": 0,
             "ticks": ""
            },
            "type": "mesh3d"
           }
          ],
          "parcoords": [
           {
            "line": {
             "colorbar": {
              "outlinewidth": 0,
              "ticks": ""
             }
            },
            "type": "parcoords"
           }
          ],
          "pie": [
           {
            "automargin": true,
            "type": "pie"
           }
          ],
          "scatter": [
           {
            "fillpattern": {
             "fillmode": "overlay",
             "size": 10,
             "solidity": 0.2
            },
            "type": "scatter"
           }
          ],
          "scatter3d": [
           {
            "line": {
             "colorbar": {
              "outlinewidth": 0,
              "ticks": ""
             }
            },
            "marker": {
             "colorbar": {
              "outlinewidth": 0,
              "ticks": ""
             }
            },
            "type": "scatter3d"
           }
          ],
          "scattercarpet": [
           {
            "marker": {
             "colorbar": {
              "outlinewidth": 0,
              "ticks": ""
             }
            },
            "type": "scattercarpet"
           }
          ],
          "scattergeo": [
           {
            "marker": {
             "colorbar": {
              "outlinewidth": 0,
              "ticks": ""
             }
            },
            "type": "scattergeo"
           }
          ],
          "scattergl": [
           {
            "marker": {
             "colorbar": {
              "outlinewidth": 0,
              "ticks": ""
             }
            },
            "type": "scattergl"
           }
          ],
          "scattermapbox": [
           {
            "marker": {
             "colorbar": {
              "outlinewidth": 0,
              "ticks": ""
             }
            },
            "type": "scattermapbox"
           }
          ],
          "scatterpolar": [
           {
            "marker": {
             "colorbar": {
              "outlinewidth": 0,
              "ticks": ""
             }
            },
            "type": "scatterpolar"
           }
          ],
          "scatterpolargl": [
           {
            "marker": {
             "colorbar": {
              "outlinewidth": 0,
              "ticks": ""
             }
            },
            "type": "scatterpolargl"
           }
          ],
          "scatterternary": [
           {
            "marker": {
             "colorbar": {
              "outlinewidth": 0,
              "ticks": ""
             }
            },
            "type": "scatterternary"
           }
          ],
          "surface": [
           {
            "colorbar": {
             "outlinewidth": 0,
             "ticks": ""
            },
            "colorscale": [
             [
              0,
              "#0d0887"
             ],
             [
              0.1111111111111111,
              "#46039f"
             ],
             [
              0.2222222222222222,
              "#7201a8"
             ],
             [
              0.3333333333333333,
              "#9c179e"
             ],
             [
              0.4444444444444444,
              "#bd3786"
             ],
             [
              0.5555555555555556,
              "#d8576b"
             ],
             [
              0.6666666666666666,
              "#ed7953"
             ],
             [
              0.7777777777777778,
              "#fb9f3a"
             ],
             [
              0.8888888888888888,
              "#fdca26"
             ],
             [
              1,
              "#f0f921"
             ]
            ],
            "type": "surface"
           }
          ],
          "table": [
           {
            "cells": {
             "fill": {
              "color": "#EBF0F8"
             },
             "line": {
              "color": "white"
             }
            },
            "header": {
             "fill": {
              "color": "#C8D4E3"
             },
             "line": {
              "color": "white"
             }
            },
            "type": "table"
           }
          ]
         },
         "layout": {
          "annotationdefaults": {
           "arrowcolor": "#2a3f5f",
           "arrowhead": 0,
           "arrowwidth": 1
          },
          "autotypenumbers": "strict",
          "coloraxis": {
           "colorbar": {
            "outlinewidth": 0,
            "ticks": ""
           }
          },
          "colorscale": {
           "diverging": [
            [
             0,
             "#8e0152"
            ],
            [
             0.1,
             "#c51b7d"
            ],
            [
             0.2,
             "#de77ae"
            ],
            [
             0.3,
             "#f1b6da"
            ],
            [
             0.4,
             "#fde0ef"
            ],
            [
             0.5,
             "#f7f7f7"
            ],
            [
             0.6,
             "#e6f5d0"
            ],
            [
             0.7,
             "#b8e186"
            ],
            [
             0.8,
             "#7fbc41"
            ],
            [
             0.9,
             "#4d9221"
            ],
            [
             1,
             "#276419"
            ]
           ],
           "sequential": [
            [
             0,
             "#0d0887"
            ],
            [
             0.1111111111111111,
             "#46039f"
            ],
            [
             0.2222222222222222,
             "#7201a8"
            ],
            [
             0.3333333333333333,
             "#9c179e"
            ],
            [
             0.4444444444444444,
             "#bd3786"
            ],
            [
             0.5555555555555556,
             "#d8576b"
            ],
            [
             0.6666666666666666,
             "#ed7953"
            ],
            [
             0.7777777777777778,
             "#fb9f3a"
            ],
            [
             0.8888888888888888,
             "#fdca26"
            ],
            [
             1,
             "#f0f921"
            ]
           ],
           "sequentialminus": [
            [
             0,
             "#0d0887"
            ],
            [
             0.1111111111111111,
             "#46039f"
            ],
            [
             0.2222222222222222,
             "#7201a8"
            ],
            [
             0.3333333333333333,
             "#9c179e"
            ],
            [
             0.4444444444444444,
             "#bd3786"
            ],
            [
             0.5555555555555556,
             "#d8576b"
            ],
            [
             0.6666666666666666,
             "#ed7953"
            ],
            [
             0.7777777777777778,
             "#fb9f3a"
            ],
            [
             0.8888888888888888,
             "#fdca26"
            ],
            [
             1,
             "#f0f921"
            ]
           ]
          },
          "colorway": [
           "#636efa",
           "#EF553B",
           "#00cc96",
           "#ab63fa",
           "#FFA15A",
           "#19d3f3",
           "#FF6692",
           "#B6E880",
           "#FF97FF",
           "#FECB52"
          ],
          "font": {
           "color": "#2a3f5f"
          },
          "geo": {
           "bgcolor": "white",
           "lakecolor": "white",
           "landcolor": "#E5ECF6",
           "showlakes": true,
           "showland": true,
           "subunitcolor": "white"
          },
          "hoverlabel": {
           "align": "left"
          },
          "hovermode": "closest",
          "mapbox": {
           "style": "light"
          },
          "paper_bgcolor": "white",
          "plot_bgcolor": "#E5ECF6",
          "polar": {
           "angularaxis": {
            "gridcolor": "white",
            "linecolor": "white",
            "ticks": ""
           },
           "bgcolor": "#E5ECF6",
           "radialaxis": {
            "gridcolor": "white",
            "linecolor": "white",
            "ticks": ""
           }
          },
          "scene": {
           "xaxis": {
            "backgroundcolor": "#E5ECF6",
            "gridcolor": "white",
            "gridwidth": 2,
            "linecolor": "white",
            "showbackground": true,
            "ticks": "",
            "zerolinecolor": "white"
           },
           "yaxis": {
            "backgroundcolor": "#E5ECF6",
            "gridcolor": "white",
            "gridwidth": 2,
            "linecolor": "white",
            "showbackground": true,
            "ticks": "",
            "zerolinecolor": "white"
           },
           "zaxis": {
            "backgroundcolor": "#E5ECF6",
            "gridcolor": "white",
            "gridwidth": 2,
            "linecolor": "white",
            "showbackground": true,
            "ticks": "",
            "zerolinecolor": "white"
           }
          },
          "shapedefaults": {
           "line": {
            "color": "#2a3f5f"
           }
          },
          "ternary": {
           "aaxis": {
            "gridcolor": "white",
            "linecolor": "white",
            "ticks": ""
           },
           "baxis": {
            "gridcolor": "white",
            "linecolor": "white",
            "ticks": ""
           },
           "bgcolor": "#E5ECF6",
           "caxis": {
            "gridcolor": "white",
            "linecolor": "white",
            "ticks": ""
           }
          },
          "title": {
           "x": 0.05
          },
          "xaxis": {
           "automargin": true,
           "gridcolor": "white",
           "linecolor": "white",
           "ticks": "",
           "title": {
            "standoff": 15
           },
           "zerolinecolor": "white",
           "zerolinewidth": 2
          },
          "yaxis": {
           "automargin": true,
           "gridcolor": "white",
           "linecolor": "white",
           "ticks": "",
           "title": {
            "standoff": 15
           },
           "zerolinecolor": "white",
           "zerolinewidth": 2
          }
         }
        },
        "title": {
         "text": "Parametric ReLU and Derivative "
        },
        "xaxis": {
         "title": {
          "text": "x"
         }
        },
        "yaxis": {
         "title": {
          "text": "y"
         }
        }
       }
      }
     },
     "metadata": {},
     "output_type": "display_data"
    },
    {
     "data": {
      "application/vnd.plotly.v1+json": {
       "config": {
        "plotlyServerURL": "https://plot.ly"
       },
       "data": [
        {
         "mode": "lines",
         "name": "PReLU function (alpha=0.55)",
         "type": "scatter",
         "x": [
          -3,
          -2.9393939393939394,
          -2.878787878787879,
          -2.8181818181818183,
          -2.757575757575758,
          -2.696969696969697,
          -2.6363636363636362,
          -2.5757575757575757,
          -2.515151515151515,
          -2.4545454545454546,
          -2.393939393939394,
          -2.333333333333333,
          -2.2727272727272725,
          -2.212121212121212,
          -2.1515151515151514,
          -2.090909090909091,
          -2.0303030303030303,
          -1.9696969696969697,
          -1.9090909090909092,
          -1.8484848484848484,
          -1.7878787878787878,
          -1.7272727272727273,
          -1.6666666666666665,
          -1.606060606060606,
          -1.5454545454545454,
          -1.4848484848484849,
          -1.4242424242424243,
          -1.3636363636363635,
          -1.303030303030303,
          -1.2424242424242424,
          -1.1818181818181817,
          -1.121212121212121,
          -1.0606060606060606,
          -1,
          -0.9393939393939394,
          -0.8787878787878789,
          -0.8181818181818183,
          -0.7575757575757573,
          -0.6969696969696968,
          -0.6363636363636362,
          -0.5757575757575757,
          -0.5151515151515151,
          -0.4545454545454546,
          -0.39393939393939403,
          -0.33333333333333304,
          -0.2727272727272725,
          -0.21212121212121193,
          -0.15151515151515138,
          -0.09090909090909083,
          -0.030303030303030276,
          0.030303030303030276,
          0.09090909090909083,
          0.15151515151515138,
          0.21212121212121238,
          0.27272727272727293,
          0.3333333333333335,
          0.39393939393939403,
          0.4545454545454546,
          0.5151515151515151,
          0.5757575757575757,
          0.6363636363636367,
          0.6969696969696972,
          0.7575757575757578,
          0.8181818181818183,
          0.8787878787878789,
          0.9393939393939394,
          1,
          1.0606060606060606,
          1.121212121212121,
          1.1818181818181817,
          1.2424242424242422,
          1.3030303030303028,
          1.3636363636363633,
          1.4242424242424248,
          1.4848484848484853,
          1.5454545454545459,
          1.6060606060606064,
          1.666666666666667,
          1.7272727272727275,
          1.787878787878788,
          1.8484848484848486,
          1.9090909090909092,
          1.9696969696969697,
          2.0303030303030303,
          2.090909090909091,
          2.1515151515151514,
          2.212121212121212,
          2.2727272727272725,
          2.333333333333334,
          2.3939393939393945,
          2.454545454545455,
          2.5151515151515156,
          2.575757575757576,
          2.6363636363636367,
          2.6969696969696972,
          2.757575757575758,
          2.8181818181818183,
          2.878787878787879,
          2.9393939393939394,
          3
         ],
         "y": [
          -1.6500000000000001,
          -1.616666666666667,
          -1.5833333333333335,
          -1.5500000000000003,
          -1.5166666666666668,
          -1.4833333333333334,
          -1.45,
          -1.4166666666666667,
          -1.3833333333333335,
          -1.35,
          -1.3166666666666669,
          -1.2833333333333332,
          -1.25,
          -1.2166666666666666,
          -1.1833333333333333,
          -1.1500000000000001,
          -1.1166666666666667,
          -1.0833333333333335,
          -1.05,
          -1.0166666666666666,
          -0.9833333333333334,
          -0.9500000000000001,
          -0.9166666666666666,
          -0.8833333333333333,
          -0.8500000000000001,
          -0.8166666666666668,
          -0.7833333333333334,
          -0.75,
          -0.7166666666666667,
          -0.6833333333333333,
          -0.6499999999999999,
          -0.6166666666666667,
          -0.5833333333333334,
          -0.55,
          -0.5166666666666667,
          -0.48333333333333345,
          -0.4500000000000001,
          -0.4166666666666666,
          -0.38333333333333325,
          -0.35,
          -0.31666666666666665,
          -0.2833333333333333,
          -0.25000000000000006,
          -0.21666666666666673,
          -0.18333333333333318,
          -0.14999999999999988,
          -0.11666666666666657,
          -0.08333333333333326,
          -0.04999999999999996,
          -0.016666666666666653,
          0.030303030303030276,
          0.09090909090909083,
          0.15151515151515138,
          0.21212121212121238,
          0.27272727272727293,
          0.3333333333333335,
          0.39393939393939403,
          0.4545454545454546,
          0.5151515151515151,
          0.5757575757575757,
          0.6363636363636367,
          0.6969696969696972,
          0.7575757575757578,
          0.8181818181818183,
          0.8787878787878789,
          0.9393939393939394,
          1,
          1.0606060606060606,
          1.121212121212121,
          1.1818181818181817,
          1.2424242424242422,
          1.3030303030303028,
          1.3636363636363633,
          1.4242424242424248,
          1.4848484848484853,
          1.5454545454545459,
          1.6060606060606064,
          1.666666666666667,
          1.7272727272727275,
          1.787878787878788,
          1.8484848484848486,
          1.9090909090909092,
          1.9696969696969697,
          2.0303030303030303,
          2.090909090909091,
          2.1515151515151514,
          2.212121212121212,
          2.2727272727272725,
          2.333333333333334,
          2.3939393939393945,
          2.454545454545455,
          2.5151515151515156,
          2.575757575757576,
          2.6363636363636367,
          2.6969696969696972,
          2.757575757575758,
          2.8181818181818183,
          2.878787878787879,
          2.9393939393939394,
          3
         ]
        },
        {
         "mode": "lines",
         "name": "PReLU derivative (alpha=0.55)",
         "type": "scatter",
         "x": [
          -3,
          -2.9393939393939394,
          -2.878787878787879,
          -2.8181818181818183,
          -2.757575757575758,
          -2.696969696969697,
          -2.6363636363636362,
          -2.5757575757575757,
          -2.515151515151515,
          -2.4545454545454546,
          -2.393939393939394,
          -2.333333333333333,
          -2.2727272727272725,
          -2.212121212121212,
          -2.1515151515151514,
          -2.090909090909091,
          -2.0303030303030303,
          -1.9696969696969697,
          -1.9090909090909092,
          -1.8484848484848484,
          -1.7878787878787878,
          -1.7272727272727273,
          -1.6666666666666665,
          -1.606060606060606,
          -1.5454545454545454,
          -1.4848484848484849,
          -1.4242424242424243,
          -1.3636363636363635,
          -1.303030303030303,
          -1.2424242424242424,
          -1.1818181818181817,
          -1.121212121212121,
          -1.0606060606060606,
          -1,
          -0.9393939393939394,
          -0.8787878787878789,
          -0.8181818181818183,
          -0.7575757575757573,
          -0.6969696969696968,
          -0.6363636363636362,
          -0.5757575757575757,
          -0.5151515151515151,
          -0.4545454545454546,
          -0.39393939393939403,
          -0.33333333333333304,
          -0.2727272727272725,
          -0.21212121212121193,
          -0.15151515151515138,
          -0.09090909090909083,
          -0.030303030303030276,
          0.030303030303030276,
          0.09090909090909083,
          0.15151515151515138,
          0.21212121212121238,
          0.27272727272727293,
          0.3333333333333335,
          0.39393939393939403,
          0.4545454545454546,
          0.5151515151515151,
          0.5757575757575757,
          0.6363636363636367,
          0.6969696969696972,
          0.7575757575757578,
          0.8181818181818183,
          0.8787878787878789,
          0.9393939393939394,
          1,
          1.0606060606060606,
          1.121212121212121,
          1.1818181818181817,
          1.2424242424242422,
          1.3030303030303028,
          1.3636363636363633,
          1.4242424242424248,
          1.4848484848484853,
          1.5454545454545459,
          1.6060606060606064,
          1.666666666666667,
          1.7272727272727275,
          1.787878787878788,
          1.8484848484848486,
          1.9090909090909092,
          1.9696969696969697,
          2.0303030303030303,
          2.090909090909091,
          2.1515151515151514,
          2.212121212121212,
          2.2727272727272725,
          2.333333333333334,
          2.3939393939393945,
          2.454545454545455,
          2.5151515151515156,
          2.575757575757576,
          2.6363636363636367,
          2.6969696969696972,
          2.757575757575758,
          2.8181818181818183,
          2.878787878787879,
          2.9393939393939394,
          3
         ],
         "y": [
          0.55,
          0.55,
          0.55,
          0.55,
          0.55,
          0.55,
          0.55,
          0.55,
          0.55,
          0.55,
          0.55,
          0.55,
          0.55,
          0.55,
          0.55,
          0.55,
          0.55,
          0.55,
          0.55,
          0.55,
          0.55,
          0.55,
          0.55,
          0.55,
          0.55,
          0.55,
          0.55,
          0.55,
          0.55,
          0.55,
          0.55,
          0.55,
          0.55,
          0.55,
          0.55,
          0.55,
          0.55,
          0.55,
          0.55,
          0.55,
          0.55,
          0.55,
          0.55,
          0.55,
          0.55,
          0.55,
          0.55,
          0.55,
          0.55,
          0.55,
          1,
          1,
          1,
          1,
          1,
          1,
          1,
          1,
          1,
          1,
          1,
          1,
          1,
          1,
          1,
          1,
          1,
          1,
          1,
          1,
          1,
          1,
          1,
          1,
          1,
          1,
          1,
          1,
          1,
          1,
          1,
          1,
          1,
          1,
          1,
          1,
          1,
          1,
          1,
          1,
          1,
          1,
          1,
          1,
          1,
          1,
          1,
          1,
          1,
          1
         ]
        }
       ],
       "layout": {
        "showlegend": true,
        "template": {
         "data": {
          "bar": [
           {
            "error_x": {
             "color": "#2a3f5f"
            },
            "error_y": {
             "color": "#2a3f5f"
            },
            "marker": {
             "line": {
              "color": "#E5ECF6",
              "width": 0.5
             },
             "pattern": {
              "fillmode": "overlay",
              "size": 10,
              "solidity": 0.2
             }
            },
            "type": "bar"
           }
          ],
          "barpolar": [
           {
            "marker": {
             "line": {
              "color": "#E5ECF6",
              "width": 0.5
             },
             "pattern": {
              "fillmode": "overlay",
              "size": 10,
              "solidity": 0.2
             }
            },
            "type": "barpolar"
           }
          ],
          "carpet": [
           {
            "aaxis": {
             "endlinecolor": "#2a3f5f",
             "gridcolor": "white",
             "linecolor": "white",
             "minorgridcolor": "white",
             "startlinecolor": "#2a3f5f"
            },
            "baxis": {
             "endlinecolor": "#2a3f5f",
             "gridcolor": "white",
             "linecolor": "white",
             "minorgridcolor": "white",
             "startlinecolor": "#2a3f5f"
            },
            "type": "carpet"
           }
          ],
          "choropleth": [
           {
            "colorbar": {
             "outlinewidth": 0,
             "ticks": ""
            },
            "type": "choropleth"
           }
          ],
          "contour": [
           {
            "colorbar": {
             "outlinewidth": 0,
             "ticks": ""
            },
            "colorscale": [
             [
              0,
              "#0d0887"
             ],
             [
              0.1111111111111111,
              "#46039f"
             ],
             [
              0.2222222222222222,
              "#7201a8"
             ],
             [
              0.3333333333333333,
              "#9c179e"
             ],
             [
              0.4444444444444444,
              "#bd3786"
             ],
             [
              0.5555555555555556,
              "#d8576b"
             ],
             [
              0.6666666666666666,
              "#ed7953"
             ],
             [
              0.7777777777777778,
              "#fb9f3a"
             ],
             [
              0.8888888888888888,
              "#fdca26"
             ],
             [
              1,
              "#f0f921"
             ]
            ],
            "type": "contour"
           }
          ],
          "contourcarpet": [
           {
            "colorbar": {
             "outlinewidth": 0,
             "ticks": ""
            },
            "type": "contourcarpet"
           }
          ],
          "heatmap": [
           {
            "colorbar": {
             "outlinewidth": 0,
             "ticks": ""
            },
            "colorscale": [
             [
              0,
              "#0d0887"
             ],
             [
              0.1111111111111111,
              "#46039f"
             ],
             [
              0.2222222222222222,
              "#7201a8"
             ],
             [
              0.3333333333333333,
              "#9c179e"
             ],
             [
              0.4444444444444444,
              "#bd3786"
             ],
             [
              0.5555555555555556,
              "#d8576b"
             ],
             [
              0.6666666666666666,
              "#ed7953"
             ],
             [
              0.7777777777777778,
              "#fb9f3a"
             ],
             [
              0.8888888888888888,
              "#fdca26"
             ],
             [
              1,
              "#f0f921"
             ]
            ],
            "type": "heatmap"
           }
          ],
          "heatmapgl": [
           {
            "colorbar": {
             "outlinewidth": 0,
             "ticks": ""
            },
            "colorscale": [
             [
              0,
              "#0d0887"
             ],
             [
              0.1111111111111111,
              "#46039f"
             ],
             [
              0.2222222222222222,
              "#7201a8"
             ],
             [
              0.3333333333333333,
              "#9c179e"
             ],
             [
              0.4444444444444444,
              "#bd3786"
             ],
             [
              0.5555555555555556,
              "#d8576b"
             ],
             [
              0.6666666666666666,
              "#ed7953"
             ],
             [
              0.7777777777777778,
              "#fb9f3a"
             ],
             [
              0.8888888888888888,
              "#fdca26"
             ],
             [
              1,
              "#f0f921"
             ]
            ],
            "type": "heatmapgl"
           }
          ],
          "histogram": [
           {
            "marker": {
             "pattern": {
              "fillmode": "overlay",
              "size": 10,
              "solidity": 0.2
             }
            },
            "type": "histogram"
           }
          ],
          "histogram2d": [
           {
            "colorbar": {
             "outlinewidth": 0,
             "ticks": ""
            },
            "colorscale": [
             [
              0,
              "#0d0887"
             ],
             [
              0.1111111111111111,
              "#46039f"
             ],
             [
              0.2222222222222222,
              "#7201a8"
             ],
             [
              0.3333333333333333,
              "#9c179e"
             ],
             [
              0.4444444444444444,
              "#bd3786"
             ],
             [
              0.5555555555555556,
              "#d8576b"
             ],
             [
              0.6666666666666666,
              "#ed7953"
             ],
             [
              0.7777777777777778,
              "#fb9f3a"
             ],
             [
              0.8888888888888888,
              "#fdca26"
             ],
             [
              1,
              "#f0f921"
             ]
            ],
            "type": "histogram2d"
           }
          ],
          "histogram2dcontour": [
           {
            "colorbar": {
             "outlinewidth": 0,
             "ticks": ""
            },
            "colorscale": [
             [
              0,
              "#0d0887"
             ],
             [
              0.1111111111111111,
              "#46039f"
             ],
             [
              0.2222222222222222,
              "#7201a8"
             ],
             [
              0.3333333333333333,
              "#9c179e"
             ],
             [
              0.4444444444444444,
              "#bd3786"
             ],
             [
              0.5555555555555556,
              "#d8576b"
             ],
             [
              0.6666666666666666,
              "#ed7953"
             ],
             [
              0.7777777777777778,
              "#fb9f3a"
             ],
             [
              0.8888888888888888,
              "#fdca26"
             ],
             [
              1,
              "#f0f921"
             ]
            ],
            "type": "histogram2dcontour"
           }
          ],
          "mesh3d": [
           {
            "colorbar": {
             "outlinewidth": 0,
             "ticks": ""
            },
            "type": "mesh3d"
           }
          ],
          "parcoords": [
           {
            "line": {
             "colorbar": {
              "outlinewidth": 0,
              "ticks": ""
             }
            },
            "type": "parcoords"
           }
          ],
          "pie": [
           {
            "automargin": true,
            "type": "pie"
           }
          ],
          "scatter": [
           {
            "fillpattern": {
             "fillmode": "overlay",
             "size": 10,
             "solidity": 0.2
            },
            "type": "scatter"
           }
          ],
          "scatter3d": [
           {
            "line": {
             "colorbar": {
              "outlinewidth": 0,
              "ticks": ""
             }
            },
            "marker": {
             "colorbar": {
              "outlinewidth": 0,
              "ticks": ""
             }
            },
            "type": "scatter3d"
           }
          ],
          "scattercarpet": [
           {
            "marker": {
             "colorbar": {
              "outlinewidth": 0,
              "ticks": ""
             }
            },
            "type": "scattercarpet"
           }
          ],
          "scattergeo": [
           {
            "marker": {
             "colorbar": {
              "outlinewidth": 0,
              "ticks": ""
             }
            },
            "type": "scattergeo"
           }
          ],
          "scattergl": [
           {
            "marker": {
             "colorbar": {
              "outlinewidth": 0,
              "ticks": ""
             }
            },
            "type": "scattergl"
           }
          ],
          "scattermapbox": [
           {
            "marker": {
             "colorbar": {
              "outlinewidth": 0,
              "ticks": ""
             }
            },
            "type": "scattermapbox"
           }
          ],
          "scatterpolar": [
           {
            "marker": {
             "colorbar": {
              "outlinewidth": 0,
              "ticks": ""
             }
            },
            "type": "scatterpolar"
           }
          ],
          "scatterpolargl": [
           {
            "marker": {
             "colorbar": {
              "outlinewidth": 0,
              "ticks": ""
             }
            },
            "type": "scatterpolargl"
           }
          ],
          "scatterternary": [
           {
            "marker": {
             "colorbar": {
              "outlinewidth": 0,
              "ticks": ""
             }
            },
            "type": "scatterternary"
           }
          ],
          "surface": [
           {
            "colorbar": {
             "outlinewidth": 0,
             "ticks": ""
            },
            "colorscale": [
             [
              0,
              "#0d0887"
             ],
             [
              0.1111111111111111,
              "#46039f"
             ],
             [
              0.2222222222222222,
              "#7201a8"
             ],
             [
              0.3333333333333333,
              "#9c179e"
             ],
             [
              0.4444444444444444,
              "#bd3786"
             ],
             [
              0.5555555555555556,
              "#d8576b"
             ],
             [
              0.6666666666666666,
              "#ed7953"
             ],
             [
              0.7777777777777778,
              "#fb9f3a"
             ],
             [
              0.8888888888888888,
              "#fdca26"
             ],
             [
              1,
              "#f0f921"
             ]
            ],
            "type": "surface"
           }
          ],
          "table": [
           {
            "cells": {
             "fill": {
              "color": "#EBF0F8"
             },
             "line": {
              "color": "white"
             }
            },
            "header": {
             "fill": {
              "color": "#C8D4E3"
             },
             "line": {
              "color": "white"
             }
            },
            "type": "table"
           }
          ]
         },
         "layout": {
          "annotationdefaults": {
           "arrowcolor": "#2a3f5f",
           "arrowhead": 0,
           "arrowwidth": 1
          },
          "autotypenumbers": "strict",
          "coloraxis": {
           "colorbar": {
            "outlinewidth": 0,
            "ticks": ""
           }
          },
          "colorscale": {
           "diverging": [
            [
             0,
             "#8e0152"
            ],
            [
             0.1,
             "#c51b7d"
            ],
            [
             0.2,
             "#de77ae"
            ],
            [
             0.3,
             "#f1b6da"
            ],
            [
             0.4,
             "#fde0ef"
            ],
            [
             0.5,
             "#f7f7f7"
            ],
            [
             0.6,
             "#e6f5d0"
            ],
            [
             0.7,
             "#b8e186"
            ],
            [
             0.8,
             "#7fbc41"
            ],
            [
             0.9,
             "#4d9221"
            ],
            [
             1,
             "#276419"
            ]
           ],
           "sequential": [
            [
             0,
             "#0d0887"
            ],
            [
             0.1111111111111111,
             "#46039f"
            ],
            [
             0.2222222222222222,
             "#7201a8"
            ],
            [
             0.3333333333333333,
             "#9c179e"
            ],
            [
             0.4444444444444444,
             "#bd3786"
            ],
            [
             0.5555555555555556,
             "#d8576b"
            ],
            [
             0.6666666666666666,
             "#ed7953"
            ],
            [
             0.7777777777777778,
             "#fb9f3a"
            ],
            [
             0.8888888888888888,
             "#fdca26"
            ],
            [
             1,
             "#f0f921"
            ]
           ],
           "sequentialminus": [
            [
             0,
             "#0d0887"
            ],
            [
             0.1111111111111111,
             "#46039f"
            ],
            [
             0.2222222222222222,
             "#7201a8"
            ],
            [
             0.3333333333333333,
             "#9c179e"
            ],
            [
             0.4444444444444444,
             "#bd3786"
            ],
            [
             0.5555555555555556,
             "#d8576b"
            ],
            [
             0.6666666666666666,
             "#ed7953"
            ],
            [
             0.7777777777777778,
             "#fb9f3a"
            ],
            [
             0.8888888888888888,
             "#fdca26"
            ],
            [
             1,
             "#f0f921"
            ]
           ]
          },
          "colorway": [
           "#636efa",
           "#EF553B",
           "#00cc96",
           "#ab63fa",
           "#FFA15A",
           "#19d3f3",
           "#FF6692",
           "#B6E880",
           "#FF97FF",
           "#FECB52"
          ],
          "font": {
           "color": "#2a3f5f"
          },
          "geo": {
           "bgcolor": "white",
           "lakecolor": "white",
           "landcolor": "#E5ECF6",
           "showlakes": true,
           "showland": true,
           "subunitcolor": "white"
          },
          "hoverlabel": {
           "align": "left"
          },
          "hovermode": "closest",
          "mapbox": {
           "style": "light"
          },
          "paper_bgcolor": "white",
          "plot_bgcolor": "#E5ECF6",
          "polar": {
           "angularaxis": {
            "gridcolor": "white",
            "linecolor": "white",
            "ticks": ""
           },
           "bgcolor": "#E5ECF6",
           "radialaxis": {
            "gridcolor": "white",
            "linecolor": "white",
            "ticks": ""
           }
          },
          "scene": {
           "xaxis": {
            "backgroundcolor": "#E5ECF6",
            "gridcolor": "white",
            "gridwidth": 2,
            "linecolor": "white",
            "showbackground": true,
            "ticks": "",
            "zerolinecolor": "white"
           },
           "yaxis": {
            "backgroundcolor": "#E5ECF6",
            "gridcolor": "white",
            "gridwidth": 2,
            "linecolor": "white",
            "showbackground": true,
            "ticks": "",
            "zerolinecolor": "white"
           },
           "zaxis": {
            "backgroundcolor": "#E5ECF6",
            "gridcolor": "white",
            "gridwidth": 2,
            "linecolor": "white",
            "showbackground": true,
            "ticks": "",
            "zerolinecolor": "white"
           }
          },
          "shapedefaults": {
           "line": {
            "color": "#2a3f5f"
           }
          },
          "ternary": {
           "aaxis": {
            "gridcolor": "white",
            "linecolor": "white",
            "ticks": ""
           },
           "baxis": {
            "gridcolor": "white",
            "linecolor": "white",
            "ticks": ""
           },
           "bgcolor": "#E5ECF6",
           "caxis": {
            "gridcolor": "white",
            "linecolor": "white",
            "ticks": ""
           }
          },
          "title": {
           "x": 0.05
          },
          "xaxis": {
           "automargin": true,
           "gridcolor": "white",
           "linecolor": "white",
           "ticks": "",
           "title": {
            "standoff": 15
           },
           "zerolinecolor": "white",
           "zerolinewidth": 2
          },
          "yaxis": {
           "automargin": true,
           "gridcolor": "white",
           "linecolor": "white",
           "ticks": "",
           "title": {
            "standoff": 15
           },
           "zerolinecolor": "white",
           "zerolinewidth": 2
          }
         }
        },
        "title": {
         "text": "Parametric ReLU and Derivative "
        },
        "xaxis": {
         "title": {
          "text": "x"
         }
        },
        "yaxis": {
         "title": {
          "text": "y"
         }
        }
       }
      }
     },
     "metadata": {},
     "output_type": "display_data"
    },
    {
     "data": {
      "application/vnd.plotly.v1+json": {
       "config": {
        "plotlyServerURL": "https://plot.ly"
       },
       "data": [
        {
         "mode": "lines",
         "name": "PReLU function (alpha=0.53)",
         "type": "scatter",
         "x": [
          -3,
          -2.9393939393939394,
          -2.878787878787879,
          -2.8181818181818183,
          -2.757575757575758,
          -2.696969696969697,
          -2.6363636363636362,
          -2.5757575757575757,
          -2.515151515151515,
          -2.4545454545454546,
          -2.393939393939394,
          -2.333333333333333,
          -2.2727272727272725,
          -2.212121212121212,
          -2.1515151515151514,
          -2.090909090909091,
          -2.0303030303030303,
          -1.9696969696969697,
          -1.9090909090909092,
          -1.8484848484848484,
          -1.7878787878787878,
          -1.7272727272727273,
          -1.6666666666666665,
          -1.606060606060606,
          -1.5454545454545454,
          -1.4848484848484849,
          -1.4242424242424243,
          -1.3636363636363635,
          -1.303030303030303,
          -1.2424242424242424,
          -1.1818181818181817,
          -1.121212121212121,
          -1.0606060606060606,
          -1,
          -0.9393939393939394,
          -0.8787878787878789,
          -0.8181818181818183,
          -0.7575757575757573,
          -0.6969696969696968,
          -0.6363636363636362,
          -0.5757575757575757,
          -0.5151515151515151,
          -0.4545454545454546,
          -0.39393939393939403,
          -0.33333333333333304,
          -0.2727272727272725,
          -0.21212121212121193,
          -0.15151515151515138,
          -0.09090909090909083,
          -0.030303030303030276,
          0.030303030303030276,
          0.09090909090909083,
          0.15151515151515138,
          0.21212121212121238,
          0.27272727272727293,
          0.3333333333333335,
          0.39393939393939403,
          0.4545454545454546,
          0.5151515151515151,
          0.5757575757575757,
          0.6363636363636367,
          0.6969696969696972,
          0.7575757575757578,
          0.8181818181818183,
          0.8787878787878789,
          0.9393939393939394,
          1,
          1.0606060606060606,
          1.121212121212121,
          1.1818181818181817,
          1.2424242424242422,
          1.3030303030303028,
          1.3636363636363633,
          1.4242424242424248,
          1.4848484848484853,
          1.5454545454545459,
          1.6060606060606064,
          1.666666666666667,
          1.7272727272727275,
          1.787878787878788,
          1.8484848484848486,
          1.9090909090909092,
          1.9696969696969697,
          2.0303030303030303,
          2.090909090909091,
          2.1515151515151514,
          2.212121212121212,
          2.2727272727272725,
          2.333333333333334,
          2.3939393939393945,
          2.454545454545455,
          2.5151515151515156,
          2.575757575757576,
          2.6363636363636367,
          2.6969696969696972,
          2.757575757575758,
          2.8181818181818183,
          2.878787878787879,
          2.9393939393939394,
          3
         ],
         "y": [
          -1.59,
          -1.557878787878788,
          -1.5257575757575759,
          -1.4936363636363639,
          -1.4615151515151517,
          -1.4293939393939394,
          -1.3972727272727272,
          -1.3651515151515152,
          -1.333030303030303,
          -1.300909090909091,
          -1.2687878787878788,
          -1.2366666666666666,
          -1.2045454545454546,
          -1.1724242424242424,
          -1.1403030303030304,
          -1.1081818181818182,
          -1.0760606060606062,
          -1.043939393939394,
          -1.011818181818182,
          -0.9796969696969697,
          -0.9475757575757576,
          -0.9154545454545455,
          -0.8833333333333333,
          -0.8512121212121212,
          -0.8190909090909091,
          -0.786969696969697,
          -0.7548484848484849,
          -0.7227272727272727,
          -0.6906060606060607,
          -0.6584848484848486,
          -0.6263636363636363,
          -0.5942424242424242,
          -0.5621212121212121,
          -0.53,
          -0.4978787878787879,
          -0.4657575757575758,
          -0.43363636363636376,
          -0.40151515151515144,
          -0.36939393939393933,
          -0.3372727272727272,
          -0.3051515151515151,
          -0.273030303030303,
          -0.24090909090909093,
          -0.20878787878787886,
          -0.17666666666666653,
          -0.14454545454545442,
          -0.11242424242424233,
          -0.08030303030303024,
          -0.04818181818181814,
          -0.016060606060606046,
          0.030303030303030276,
          0.09090909090909083,
          0.15151515151515138,
          0.21212121212121238,
          0.27272727272727293,
          0.3333333333333335,
          0.39393939393939403,
          0.4545454545454546,
          0.5151515151515151,
          0.5757575757575757,
          0.6363636363636367,
          0.6969696969696972,
          0.7575757575757578,
          0.8181818181818183,
          0.8787878787878789,
          0.9393939393939394,
          1,
          1.0606060606060606,
          1.121212121212121,
          1.1818181818181817,
          1.2424242424242422,
          1.3030303030303028,
          1.3636363636363633,
          1.4242424242424248,
          1.4848484848484853,
          1.5454545454545459,
          1.6060606060606064,
          1.666666666666667,
          1.7272727272727275,
          1.787878787878788,
          1.8484848484848486,
          1.9090909090909092,
          1.9696969696969697,
          2.0303030303030303,
          2.090909090909091,
          2.1515151515151514,
          2.212121212121212,
          2.2727272727272725,
          2.333333333333334,
          2.3939393939393945,
          2.454545454545455,
          2.5151515151515156,
          2.575757575757576,
          2.6363636363636367,
          2.6969696969696972,
          2.757575757575758,
          2.8181818181818183,
          2.878787878787879,
          2.9393939393939394,
          3
         ]
        },
        {
         "mode": "lines",
         "name": "PReLU derivative (alpha=0.53)",
         "type": "scatter",
         "x": [
          -3,
          -2.9393939393939394,
          -2.878787878787879,
          -2.8181818181818183,
          -2.757575757575758,
          -2.696969696969697,
          -2.6363636363636362,
          -2.5757575757575757,
          -2.515151515151515,
          -2.4545454545454546,
          -2.393939393939394,
          -2.333333333333333,
          -2.2727272727272725,
          -2.212121212121212,
          -2.1515151515151514,
          -2.090909090909091,
          -2.0303030303030303,
          -1.9696969696969697,
          -1.9090909090909092,
          -1.8484848484848484,
          -1.7878787878787878,
          -1.7272727272727273,
          -1.6666666666666665,
          -1.606060606060606,
          -1.5454545454545454,
          -1.4848484848484849,
          -1.4242424242424243,
          -1.3636363636363635,
          -1.303030303030303,
          -1.2424242424242424,
          -1.1818181818181817,
          -1.121212121212121,
          -1.0606060606060606,
          -1,
          -0.9393939393939394,
          -0.8787878787878789,
          -0.8181818181818183,
          -0.7575757575757573,
          -0.6969696969696968,
          -0.6363636363636362,
          -0.5757575757575757,
          -0.5151515151515151,
          -0.4545454545454546,
          -0.39393939393939403,
          -0.33333333333333304,
          -0.2727272727272725,
          -0.21212121212121193,
          -0.15151515151515138,
          -0.09090909090909083,
          -0.030303030303030276,
          0.030303030303030276,
          0.09090909090909083,
          0.15151515151515138,
          0.21212121212121238,
          0.27272727272727293,
          0.3333333333333335,
          0.39393939393939403,
          0.4545454545454546,
          0.5151515151515151,
          0.5757575757575757,
          0.6363636363636367,
          0.6969696969696972,
          0.7575757575757578,
          0.8181818181818183,
          0.8787878787878789,
          0.9393939393939394,
          1,
          1.0606060606060606,
          1.121212121212121,
          1.1818181818181817,
          1.2424242424242422,
          1.3030303030303028,
          1.3636363636363633,
          1.4242424242424248,
          1.4848484848484853,
          1.5454545454545459,
          1.6060606060606064,
          1.666666666666667,
          1.7272727272727275,
          1.787878787878788,
          1.8484848484848486,
          1.9090909090909092,
          1.9696969696969697,
          2.0303030303030303,
          2.090909090909091,
          2.1515151515151514,
          2.212121212121212,
          2.2727272727272725,
          2.333333333333334,
          2.3939393939393945,
          2.454545454545455,
          2.5151515151515156,
          2.575757575757576,
          2.6363636363636367,
          2.6969696969696972,
          2.757575757575758,
          2.8181818181818183,
          2.878787878787879,
          2.9393939393939394,
          3
         ],
         "y": [
          0.53,
          0.53,
          0.53,
          0.53,
          0.53,
          0.53,
          0.53,
          0.53,
          0.53,
          0.53,
          0.53,
          0.53,
          0.53,
          0.53,
          0.53,
          0.53,
          0.53,
          0.53,
          0.53,
          0.53,
          0.53,
          0.53,
          0.53,
          0.53,
          0.53,
          0.53,
          0.53,
          0.53,
          0.53,
          0.53,
          0.53,
          0.53,
          0.53,
          0.53,
          0.53,
          0.53,
          0.53,
          0.53,
          0.53,
          0.53,
          0.53,
          0.53,
          0.53,
          0.53,
          0.53,
          0.53,
          0.53,
          0.53,
          0.53,
          0.53,
          1,
          1,
          1,
          1,
          1,
          1,
          1,
          1,
          1,
          1,
          1,
          1,
          1,
          1,
          1,
          1,
          1,
          1,
          1,
          1,
          1,
          1,
          1,
          1,
          1,
          1,
          1,
          1,
          1,
          1,
          1,
          1,
          1,
          1,
          1,
          1,
          1,
          1,
          1,
          1,
          1,
          1,
          1,
          1,
          1,
          1,
          1,
          1,
          1,
          1
         ]
        }
       ],
       "layout": {
        "showlegend": true,
        "template": {
         "data": {
          "bar": [
           {
            "error_x": {
             "color": "#2a3f5f"
            },
            "error_y": {
             "color": "#2a3f5f"
            },
            "marker": {
             "line": {
              "color": "#E5ECF6",
              "width": 0.5
             },
             "pattern": {
              "fillmode": "overlay",
              "size": 10,
              "solidity": 0.2
             }
            },
            "type": "bar"
           }
          ],
          "barpolar": [
           {
            "marker": {
             "line": {
              "color": "#E5ECF6",
              "width": 0.5
             },
             "pattern": {
              "fillmode": "overlay",
              "size": 10,
              "solidity": 0.2
             }
            },
            "type": "barpolar"
           }
          ],
          "carpet": [
           {
            "aaxis": {
             "endlinecolor": "#2a3f5f",
             "gridcolor": "white",
             "linecolor": "white",
             "minorgridcolor": "white",
             "startlinecolor": "#2a3f5f"
            },
            "baxis": {
             "endlinecolor": "#2a3f5f",
             "gridcolor": "white",
             "linecolor": "white",
             "minorgridcolor": "white",
             "startlinecolor": "#2a3f5f"
            },
            "type": "carpet"
           }
          ],
          "choropleth": [
           {
            "colorbar": {
             "outlinewidth": 0,
             "ticks": ""
            },
            "type": "choropleth"
           }
          ],
          "contour": [
           {
            "colorbar": {
             "outlinewidth": 0,
             "ticks": ""
            },
            "colorscale": [
             [
              0,
              "#0d0887"
             ],
             [
              0.1111111111111111,
              "#46039f"
             ],
             [
              0.2222222222222222,
              "#7201a8"
             ],
             [
              0.3333333333333333,
              "#9c179e"
             ],
             [
              0.4444444444444444,
              "#bd3786"
             ],
             [
              0.5555555555555556,
              "#d8576b"
             ],
             [
              0.6666666666666666,
              "#ed7953"
             ],
             [
              0.7777777777777778,
              "#fb9f3a"
             ],
             [
              0.8888888888888888,
              "#fdca26"
             ],
             [
              1,
              "#f0f921"
             ]
            ],
            "type": "contour"
           }
          ],
          "contourcarpet": [
           {
            "colorbar": {
             "outlinewidth": 0,
             "ticks": ""
            },
            "type": "contourcarpet"
           }
          ],
          "heatmap": [
           {
            "colorbar": {
             "outlinewidth": 0,
             "ticks": ""
            },
            "colorscale": [
             [
              0,
              "#0d0887"
             ],
             [
              0.1111111111111111,
              "#46039f"
             ],
             [
              0.2222222222222222,
              "#7201a8"
             ],
             [
              0.3333333333333333,
              "#9c179e"
             ],
             [
              0.4444444444444444,
              "#bd3786"
             ],
             [
              0.5555555555555556,
              "#d8576b"
             ],
             [
              0.6666666666666666,
              "#ed7953"
             ],
             [
              0.7777777777777778,
              "#fb9f3a"
             ],
             [
              0.8888888888888888,
              "#fdca26"
             ],
             [
              1,
              "#f0f921"
             ]
            ],
            "type": "heatmap"
           }
          ],
          "heatmapgl": [
           {
            "colorbar": {
             "outlinewidth": 0,
             "ticks": ""
            },
            "colorscale": [
             [
              0,
              "#0d0887"
             ],
             [
              0.1111111111111111,
              "#46039f"
             ],
             [
              0.2222222222222222,
              "#7201a8"
             ],
             [
              0.3333333333333333,
              "#9c179e"
             ],
             [
              0.4444444444444444,
              "#bd3786"
             ],
             [
              0.5555555555555556,
              "#d8576b"
             ],
             [
              0.6666666666666666,
              "#ed7953"
             ],
             [
              0.7777777777777778,
              "#fb9f3a"
             ],
             [
              0.8888888888888888,
              "#fdca26"
             ],
             [
              1,
              "#f0f921"
             ]
            ],
            "type": "heatmapgl"
           }
          ],
          "histogram": [
           {
            "marker": {
             "pattern": {
              "fillmode": "overlay",
              "size": 10,
              "solidity": 0.2
             }
            },
            "type": "histogram"
           }
          ],
          "histogram2d": [
           {
            "colorbar": {
             "outlinewidth": 0,
             "ticks": ""
            },
            "colorscale": [
             [
              0,
              "#0d0887"
             ],
             [
              0.1111111111111111,
              "#46039f"
             ],
             [
              0.2222222222222222,
              "#7201a8"
             ],
             [
              0.3333333333333333,
              "#9c179e"
             ],
             [
              0.4444444444444444,
              "#bd3786"
             ],
             [
              0.5555555555555556,
              "#d8576b"
             ],
             [
              0.6666666666666666,
              "#ed7953"
             ],
             [
              0.7777777777777778,
              "#fb9f3a"
             ],
             [
              0.8888888888888888,
              "#fdca26"
             ],
             [
              1,
              "#f0f921"
             ]
            ],
            "type": "histogram2d"
           }
          ],
          "histogram2dcontour": [
           {
            "colorbar": {
             "outlinewidth": 0,
             "ticks": ""
            },
            "colorscale": [
             [
              0,
              "#0d0887"
             ],
             [
              0.1111111111111111,
              "#46039f"
             ],
             [
              0.2222222222222222,
              "#7201a8"
             ],
             [
              0.3333333333333333,
              "#9c179e"
             ],
             [
              0.4444444444444444,
              "#bd3786"
             ],
             [
              0.5555555555555556,
              "#d8576b"
             ],
             [
              0.6666666666666666,
              "#ed7953"
             ],
             [
              0.7777777777777778,
              "#fb9f3a"
             ],
             [
              0.8888888888888888,
              "#fdca26"
             ],
             [
              1,
              "#f0f921"
             ]
            ],
            "type": "histogram2dcontour"
           }
          ],
          "mesh3d": [
           {
            "colorbar": {
             "outlinewidth": 0,
             "ticks": ""
            },
            "type": "mesh3d"
           }
          ],
          "parcoords": [
           {
            "line": {
             "colorbar": {
              "outlinewidth": 0,
              "ticks": ""
             }
            },
            "type": "parcoords"
           }
          ],
          "pie": [
           {
            "automargin": true,
            "type": "pie"
           }
          ],
          "scatter": [
           {
            "fillpattern": {
             "fillmode": "overlay",
             "size": 10,
             "solidity": 0.2
            },
            "type": "scatter"
           }
          ],
          "scatter3d": [
           {
            "line": {
             "colorbar": {
              "outlinewidth": 0,
              "ticks": ""
             }
            },
            "marker": {
             "colorbar": {
              "outlinewidth": 0,
              "ticks": ""
             }
            },
            "type": "scatter3d"
           }
          ],
          "scattercarpet": [
           {
            "marker": {
             "colorbar": {
              "outlinewidth": 0,
              "ticks": ""
             }
            },
            "type": "scattercarpet"
           }
          ],
          "scattergeo": [
           {
            "marker": {
             "colorbar": {
              "outlinewidth": 0,
              "ticks": ""
             }
            },
            "type": "scattergeo"
           }
          ],
          "scattergl": [
           {
            "marker": {
             "colorbar": {
              "outlinewidth": 0,
              "ticks": ""
             }
            },
            "type": "scattergl"
           }
          ],
          "scattermapbox": [
           {
            "marker": {
             "colorbar": {
              "outlinewidth": 0,
              "ticks": ""
             }
            },
            "type": "scattermapbox"
           }
          ],
          "scatterpolar": [
           {
            "marker": {
             "colorbar": {
              "outlinewidth": 0,
              "ticks": ""
             }
            },
            "type": "scatterpolar"
           }
          ],
          "scatterpolargl": [
           {
            "marker": {
             "colorbar": {
              "outlinewidth": 0,
              "ticks": ""
             }
            },
            "type": "scatterpolargl"
           }
          ],
          "scatterternary": [
           {
            "marker": {
             "colorbar": {
              "outlinewidth": 0,
              "ticks": ""
             }
            },
            "type": "scatterternary"
           }
          ],
          "surface": [
           {
            "colorbar": {
             "outlinewidth": 0,
             "ticks": ""
            },
            "colorscale": [
             [
              0,
              "#0d0887"
             ],
             [
              0.1111111111111111,
              "#46039f"
             ],
             [
              0.2222222222222222,
              "#7201a8"
             ],
             [
              0.3333333333333333,
              "#9c179e"
             ],
             [
              0.4444444444444444,
              "#bd3786"
             ],
             [
              0.5555555555555556,
              "#d8576b"
             ],
             [
              0.6666666666666666,
              "#ed7953"
             ],
             [
              0.7777777777777778,
              "#fb9f3a"
             ],
             [
              0.8888888888888888,
              "#fdca26"
             ],
             [
              1,
              "#f0f921"
             ]
            ],
            "type": "surface"
           }
          ],
          "table": [
           {
            "cells": {
             "fill": {
              "color": "#EBF0F8"
             },
             "line": {
              "color": "white"
             }
            },
            "header": {
             "fill": {
              "color": "#C8D4E3"
             },
             "line": {
              "color": "white"
             }
            },
            "type": "table"
           }
          ]
         },
         "layout": {
          "annotationdefaults": {
           "arrowcolor": "#2a3f5f",
           "arrowhead": 0,
           "arrowwidth": 1
          },
          "autotypenumbers": "strict",
          "coloraxis": {
           "colorbar": {
            "outlinewidth": 0,
            "ticks": ""
           }
          },
          "colorscale": {
           "diverging": [
            [
             0,
             "#8e0152"
            ],
            [
             0.1,
             "#c51b7d"
            ],
            [
             0.2,
             "#de77ae"
            ],
            [
             0.3,
             "#f1b6da"
            ],
            [
             0.4,
             "#fde0ef"
            ],
            [
             0.5,
             "#f7f7f7"
            ],
            [
             0.6,
             "#e6f5d0"
            ],
            [
             0.7,
             "#b8e186"
            ],
            [
             0.8,
             "#7fbc41"
            ],
            [
             0.9,
             "#4d9221"
            ],
            [
             1,
             "#276419"
            ]
           ],
           "sequential": [
            [
             0,
             "#0d0887"
            ],
            [
             0.1111111111111111,
             "#46039f"
            ],
            [
             0.2222222222222222,
             "#7201a8"
            ],
            [
             0.3333333333333333,
             "#9c179e"
            ],
            [
             0.4444444444444444,
             "#bd3786"
            ],
            [
             0.5555555555555556,
             "#d8576b"
            ],
            [
             0.6666666666666666,
             "#ed7953"
            ],
            [
             0.7777777777777778,
             "#fb9f3a"
            ],
            [
             0.8888888888888888,
             "#fdca26"
            ],
            [
             1,
             "#f0f921"
            ]
           ],
           "sequentialminus": [
            [
             0,
             "#0d0887"
            ],
            [
             0.1111111111111111,
             "#46039f"
            ],
            [
             0.2222222222222222,
             "#7201a8"
            ],
            [
             0.3333333333333333,
             "#9c179e"
            ],
            [
             0.4444444444444444,
             "#bd3786"
            ],
            [
             0.5555555555555556,
             "#d8576b"
            ],
            [
             0.6666666666666666,
             "#ed7953"
            ],
            [
             0.7777777777777778,
             "#fb9f3a"
            ],
            [
             0.8888888888888888,
             "#fdca26"
            ],
            [
             1,
             "#f0f921"
            ]
           ]
          },
          "colorway": [
           "#636efa",
           "#EF553B",
           "#00cc96",
           "#ab63fa",
           "#FFA15A",
           "#19d3f3",
           "#FF6692",
           "#B6E880",
           "#FF97FF",
           "#FECB52"
          ],
          "font": {
           "color": "#2a3f5f"
          },
          "geo": {
           "bgcolor": "white",
           "lakecolor": "white",
           "landcolor": "#E5ECF6",
           "showlakes": true,
           "showland": true,
           "subunitcolor": "white"
          },
          "hoverlabel": {
           "align": "left"
          },
          "hovermode": "closest",
          "mapbox": {
           "style": "light"
          },
          "paper_bgcolor": "white",
          "plot_bgcolor": "#E5ECF6",
          "polar": {
           "angularaxis": {
            "gridcolor": "white",
            "linecolor": "white",
            "ticks": ""
           },
           "bgcolor": "#E5ECF6",
           "radialaxis": {
            "gridcolor": "white",
            "linecolor": "white",
            "ticks": ""
           }
          },
          "scene": {
           "xaxis": {
            "backgroundcolor": "#E5ECF6",
            "gridcolor": "white",
            "gridwidth": 2,
            "linecolor": "white",
            "showbackground": true,
            "ticks": "",
            "zerolinecolor": "white"
           },
           "yaxis": {
            "backgroundcolor": "#E5ECF6",
            "gridcolor": "white",
            "gridwidth": 2,
            "linecolor": "white",
            "showbackground": true,
            "ticks": "",
            "zerolinecolor": "white"
           },
           "zaxis": {
            "backgroundcolor": "#E5ECF6",
            "gridcolor": "white",
            "gridwidth": 2,
            "linecolor": "white",
            "showbackground": true,
            "ticks": "",
            "zerolinecolor": "white"
           }
          },
          "shapedefaults": {
           "line": {
            "color": "#2a3f5f"
           }
          },
          "ternary": {
           "aaxis": {
            "gridcolor": "white",
            "linecolor": "white",
            "ticks": ""
           },
           "baxis": {
            "gridcolor": "white",
            "linecolor": "white",
            "ticks": ""
           },
           "bgcolor": "#E5ECF6",
           "caxis": {
            "gridcolor": "white",
            "linecolor": "white",
            "ticks": ""
           }
          },
          "title": {
           "x": 0.05
          },
          "xaxis": {
           "automargin": true,
           "gridcolor": "white",
           "linecolor": "white",
           "ticks": "",
           "title": {
            "standoff": 15
           },
           "zerolinecolor": "white",
           "zerolinewidth": 2
          },
          "yaxis": {
           "automargin": true,
           "gridcolor": "white",
           "linecolor": "white",
           "ticks": "",
           "title": {
            "standoff": 15
           },
           "zerolinecolor": "white",
           "zerolinewidth": 2
          }
         }
        },
        "title": {
         "text": "Parametric ReLU and Derivative "
        },
        "xaxis": {
         "title": {
          "text": "x"
         }
        },
        "yaxis": {
         "title": {
          "text": "y"
         }
        }
       }
      }
     },
     "metadata": {},
     "output_type": "display_data"
    },
    {
     "data": {
      "application/vnd.plotly.v1+json": {
       "config": {
        "plotlyServerURL": "https://plot.ly"
       },
       "data": [
        {
         "mode": "lines",
         "name": "PReLU function (alpha=0.36)",
         "type": "scatter",
         "x": [
          -3,
          -2.9393939393939394,
          -2.878787878787879,
          -2.8181818181818183,
          -2.757575757575758,
          -2.696969696969697,
          -2.6363636363636362,
          -2.5757575757575757,
          -2.515151515151515,
          -2.4545454545454546,
          -2.393939393939394,
          -2.333333333333333,
          -2.2727272727272725,
          -2.212121212121212,
          -2.1515151515151514,
          -2.090909090909091,
          -2.0303030303030303,
          -1.9696969696969697,
          -1.9090909090909092,
          -1.8484848484848484,
          -1.7878787878787878,
          -1.7272727272727273,
          -1.6666666666666665,
          -1.606060606060606,
          -1.5454545454545454,
          -1.4848484848484849,
          -1.4242424242424243,
          -1.3636363636363635,
          -1.303030303030303,
          -1.2424242424242424,
          -1.1818181818181817,
          -1.121212121212121,
          -1.0606060606060606,
          -1,
          -0.9393939393939394,
          -0.8787878787878789,
          -0.8181818181818183,
          -0.7575757575757573,
          -0.6969696969696968,
          -0.6363636363636362,
          -0.5757575757575757,
          -0.5151515151515151,
          -0.4545454545454546,
          -0.39393939393939403,
          -0.33333333333333304,
          -0.2727272727272725,
          -0.21212121212121193,
          -0.15151515151515138,
          -0.09090909090909083,
          -0.030303030303030276,
          0.030303030303030276,
          0.09090909090909083,
          0.15151515151515138,
          0.21212121212121238,
          0.27272727272727293,
          0.3333333333333335,
          0.39393939393939403,
          0.4545454545454546,
          0.5151515151515151,
          0.5757575757575757,
          0.6363636363636367,
          0.6969696969696972,
          0.7575757575757578,
          0.8181818181818183,
          0.8787878787878789,
          0.9393939393939394,
          1,
          1.0606060606060606,
          1.121212121212121,
          1.1818181818181817,
          1.2424242424242422,
          1.3030303030303028,
          1.3636363636363633,
          1.4242424242424248,
          1.4848484848484853,
          1.5454545454545459,
          1.6060606060606064,
          1.666666666666667,
          1.7272727272727275,
          1.787878787878788,
          1.8484848484848486,
          1.9090909090909092,
          1.9696969696969697,
          2.0303030303030303,
          2.090909090909091,
          2.1515151515151514,
          2.212121212121212,
          2.2727272727272725,
          2.333333333333334,
          2.3939393939393945,
          2.454545454545455,
          2.5151515151515156,
          2.575757575757576,
          2.6363636363636367,
          2.6969696969696972,
          2.757575757575758,
          2.8181818181818183,
          2.878787878787879,
          2.9393939393939394,
          3
         ],
         "y": [
          -1.08,
          -1.0581818181818181,
          -1.0363636363636364,
          -1.0145454545454546,
          -0.9927272727272728,
          -0.9709090909090908,
          -0.949090909090909,
          -0.9272727272727272,
          -0.9054545454545454,
          -0.8836363636363637,
          -0.8618181818181818,
          -0.8399999999999999,
          -0.818181818181818,
          -0.7963636363636363,
          -0.7745454545454544,
          -0.7527272727272727,
          -0.7309090909090908,
          -0.7090909090909091,
          -0.6872727272727273,
          -0.6654545454545454,
          -0.6436363636363636,
          -0.6218181818181818,
          -0.6,
          -0.5781818181818181,
          -0.5563636363636363,
          -0.5345454545454545,
          -0.5127272727272727,
          -0.49090909090909085,
          -0.46909090909090906,
          -0.44727272727272727,
          -0.42545454545454536,
          -0.40363636363636357,
          -0.3818181818181818,
          -0.36,
          -0.3381818181818182,
          -0.3163636363636364,
          -0.2945454545454546,
          -0.27272727272727265,
          -0.25090909090909086,
          -0.22909090909090904,
          -0.20727272727272725,
          -0.18545454545454546,
          -0.16363636363636364,
          -0.14181818181818184,
          -0.11999999999999988,
          -0.09818181818181809,
          -0.07636363636363629,
          -0.054545454545454494,
          -0.032727272727272695,
          -0.0109090909090909,
          0.030303030303030276,
          0.09090909090909083,
          0.15151515151515138,
          0.21212121212121238,
          0.27272727272727293,
          0.3333333333333335,
          0.39393939393939403,
          0.4545454545454546,
          0.5151515151515151,
          0.5757575757575757,
          0.6363636363636367,
          0.6969696969696972,
          0.7575757575757578,
          0.8181818181818183,
          0.8787878787878789,
          0.9393939393939394,
          1,
          1.0606060606060606,
          1.121212121212121,
          1.1818181818181817,
          1.2424242424242422,
          1.3030303030303028,
          1.3636363636363633,
          1.4242424242424248,
          1.4848484848484853,
          1.5454545454545459,
          1.6060606060606064,
          1.666666666666667,
          1.7272727272727275,
          1.787878787878788,
          1.8484848484848486,
          1.9090909090909092,
          1.9696969696969697,
          2.0303030303030303,
          2.090909090909091,
          2.1515151515151514,
          2.212121212121212,
          2.2727272727272725,
          2.333333333333334,
          2.3939393939393945,
          2.454545454545455,
          2.5151515151515156,
          2.575757575757576,
          2.6363636363636367,
          2.6969696969696972,
          2.757575757575758,
          2.8181818181818183,
          2.878787878787879,
          2.9393939393939394,
          3
         ]
        },
        {
         "mode": "lines",
         "name": "PReLU derivative (alpha=0.36)",
         "type": "scatter",
         "x": [
          -3,
          -2.9393939393939394,
          -2.878787878787879,
          -2.8181818181818183,
          -2.757575757575758,
          -2.696969696969697,
          -2.6363636363636362,
          -2.5757575757575757,
          -2.515151515151515,
          -2.4545454545454546,
          -2.393939393939394,
          -2.333333333333333,
          -2.2727272727272725,
          -2.212121212121212,
          -2.1515151515151514,
          -2.090909090909091,
          -2.0303030303030303,
          -1.9696969696969697,
          -1.9090909090909092,
          -1.8484848484848484,
          -1.7878787878787878,
          -1.7272727272727273,
          -1.6666666666666665,
          -1.606060606060606,
          -1.5454545454545454,
          -1.4848484848484849,
          -1.4242424242424243,
          -1.3636363636363635,
          -1.303030303030303,
          -1.2424242424242424,
          -1.1818181818181817,
          -1.121212121212121,
          -1.0606060606060606,
          -1,
          -0.9393939393939394,
          -0.8787878787878789,
          -0.8181818181818183,
          -0.7575757575757573,
          -0.6969696969696968,
          -0.6363636363636362,
          -0.5757575757575757,
          -0.5151515151515151,
          -0.4545454545454546,
          -0.39393939393939403,
          -0.33333333333333304,
          -0.2727272727272725,
          -0.21212121212121193,
          -0.15151515151515138,
          -0.09090909090909083,
          -0.030303030303030276,
          0.030303030303030276,
          0.09090909090909083,
          0.15151515151515138,
          0.21212121212121238,
          0.27272727272727293,
          0.3333333333333335,
          0.39393939393939403,
          0.4545454545454546,
          0.5151515151515151,
          0.5757575757575757,
          0.6363636363636367,
          0.6969696969696972,
          0.7575757575757578,
          0.8181818181818183,
          0.8787878787878789,
          0.9393939393939394,
          1,
          1.0606060606060606,
          1.121212121212121,
          1.1818181818181817,
          1.2424242424242422,
          1.3030303030303028,
          1.3636363636363633,
          1.4242424242424248,
          1.4848484848484853,
          1.5454545454545459,
          1.6060606060606064,
          1.666666666666667,
          1.7272727272727275,
          1.787878787878788,
          1.8484848484848486,
          1.9090909090909092,
          1.9696969696969697,
          2.0303030303030303,
          2.090909090909091,
          2.1515151515151514,
          2.212121212121212,
          2.2727272727272725,
          2.333333333333334,
          2.3939393939393945,
          2.454545454545455,
          2.5151515151515156,
          2.575757575757576,
          2.6363636363636367,
          2.6969696969696972,
          2.757575757575758,
          2.8181818181818183,
          2.878787878787879,
          2.9393939393939394,
          3
         ],
         "y": [
          0.36,
          0.36,
          0.36,
          0.36,
          0.36,
          0.36,
          0.36,
          0.36,
          0.36,
          0.36,
          0.36,
          0.36,
          0.36,
          0.36,
          0.36,
          0.36,
          0.36,
          0.36,
          0.36,
          0.36,
          0.36,
          0.36,
          0.36,
          0.36,
          0.36,
          0.36,
          0.36,
          0.36,
          0.36,
          0.36,
          0.36,
          0.36,
          0.36,
          0.36,
          0.36,
          0.36,
          0.36,
          0.36,
          0.36,
          0.36,
          0.36,
          0.36,
          0.36,
          0.36,
          0.36,
          0.36,
          0.36,
          0.36,
          0.36,
          0.36,
          1,
          1,
          1,
          1,
          1,
          1,
          1,
          1,
          1,
          1,
          1,
          1,
          1,
          1,
          1,
          1,
          1,
          1,
          1,
          1,
          1,
          1,
          1,
          1,
          1,
          1,
          1,
          1,
          1,
          1,
          1,
          1,
          1,
          1,
          1,
          1,
          1,
          1,
          1,
          1,
          1,
          1,
          1,
          1,
          1,
          1,
          1,
          1,
          1,
          1
         ]
        }
       ],
       "layout": {
        "showlegend": true,
        "template": {
         "data": {
          "bar": [
           {
            "error_x": {
             "color": "#2a3f5f"
            },
            "error_y": {
             "color": "#2a3f5f"
            },
            "marker": {
             "line": {
              "color": "#E5ECF6",
              "width": 0.5
             },
             "pattern": {
              "fillmode": "overlay",
              "size": 10,
              "solidity": 0.2
             }
            },
            "type": "bar"
           }
          ],
          "barpolar": [
           {
            "marker": {
             "line": {
              "color": "#E5ECF6",
              "width": 0.5
             },
             "pattern": {
              "fillmode": "overlay",
              "size": 10,
              "solidity": 0.2
             }
            },
            "type": "barpolar"
           }
          ],
          "carpet": [
           {
            "aaxis": {
             "endlinecolor": "#2a3f5f",
             "gridcolor": "white",
             "linecolor": "white",
             "minorgridcolor": "white",
             "startlinecolor": "#2a3f5f"
            },
            "baxis": {
             "endlinecolor": "#2a3f5f",
             "gridcolor": "white",
             "linecolor": "white",
             "minorgridcolor": "white",
             "startlinecolor": "#2a3f5f"
            },
            "type": "carpet"
           }
          ],
          "choropleth": [
           {
            "colorbar": {
             "outlinewidth": 0,
             "ticks": ""
            },
            "type": "choropleth"
           }
          ],
          "contour": [
           {
            "colorbar": {
             "outlinewidth": 0,
             "ticks": ""
            },
            "colorscale": [
             [
              0,
              "#0d0887"
             ],
             [
              0.1111111111111111,
              "#46039f"
             ],
             [
              0.2222222222222222,
              "#7201a8"
             ],
             [
              0.3333333333333333,
              "#9c179e"
             ],
             [
              0.4444444444444444,
              "#bd3786"
             ],
             [
              0.5555555555555556,
              "#d8576b"
             ],
             [
              0.6666666666666666,
              "#ed7953"
             ],
             [
              0.7777777777777778,
              "#fb9f3a"
             ],
             [
              0.8888888888888888,
              "#fdca26"
             ],
             [
              1,
              "#f0f921"
             ]
            ],
            "type": "contour"
           }
          ],
          "contourcarpet": [
           {
            "colorbar": {
             "outlinewidth": 0,
             "ticks": ""
            },
            "type": "contourcarpet"
           }
          ],
          "heatmap": [
           {
            "colorbar": {
             "outlinewidth": 0,
             "ticks": ""
            },
            "colorscale": [
             [
              0,
              "#0d0887"
             ],
             [
              0.1111111111111111,
              "#46039f"
             ],
             [
              0.2222222222222222,
              "#7201a8"
             ],
             [
              0.3333333333333333,
              "#9c179e"
             ],
             [
              0.4444444444444444,
              "#bd3786"
             ],
             [
              0.5555555555555556,
              "#d8576b"
             ],
             [
              0.6666666666666666,
              "#ed7953"
             ],
             [
              0.7777777777777778,
              "#fb9f3a"
             ],
             [
              0.8888888888888888,
              "#fdca26"
             ],
             [
              1,
              "#f0f921"
             ]
            ],
            "type": "heatmap"
           }
          ],
          "heatmapgl": [
           {
            "colorbar": {
             "outlinewidth": 0,
             "ticks": ""
            },
            "colorscale": [
             [
              0,
              "#0d0887"
             ],
             [
              0.1111111111111111,
              "#46039f"
             ],
             [
              0.2222222222222222,
              "#7201a8"
             ],
             [
              0.3333333333333333,
              "#9c179e"
             ],
             [
              0.4444444444444444,
              "#bd3786"
             ],
             [
              0.5555555555555556,
              "#d8576b"
             ],
             [
              0.6666666666666666,
              "#ed7953"
             ],
             [
              0.7777777777777778,
              "#fb9f3a"
             ],
             [
              0.8888888888888888,
              "#fdca26"
             ],
             [
              1,
              "#f0f921"
             ]
            ],
            "type": "heatmapgl"
           }
          ],
          "histogram": [
           {
            "marker": {
             "pattern": {
              "fillmode": "overlay",
              "size": 10,
              "solidity": 0.2
             }
            },
            "type": "histogram"
           }
          ],
          "histogram2d": [
           {
            "colorbar": {
             "outlinewidth": 0,
             "ticks": ""
            },
            "colorscale": [
             [
              0,
              "#0d0887"
             ],
             [
              0.1111111111111111,
              "#46039f"
             ],
             [
              0.2222222222222222,
              "#7201a8"
             ],
             [
              0.3333333333333333,
              "#9c179e"
             ],
             [
              0.4444444444444444,
              "#bd3786"
             ],
             [
              0.5555555555555556,
              "#d8576b"
             ],
             [
              0.6666666666666666,
              "#ed7953"
             ],
             [
              0.7777777777777778,
              "#fb9f3a"
             ],
             [
              0.8888888888888888,
              "#fdca26"
             ],
             [
              1,
              "#f0f921"
             ]
            ],
            "type": "histogram2d"
           }
          ],
          "histogram2dcontour": [
           {
            "colorbar": {
             "outlinewidth": 0,
             "ticks": ""
            },
            "colorscale": [
             [
              0,
              "#0d0887"
             ],
             [
              0.1111111111111111,
              "#46039f"
             ],
             [
              0.2222222222222222,
              "#7201a8"
             ],
             [
              0.3333333333333333,
              "#9c179e"
             ],
             [
              0.4444444444444444,
              "#bd3786"
             ],
             [
              0.5555555555555556,
              "#d8576b"
             ],
             [
              0.6666666666666666,
              "#ed7953"
             ],
             [
              0.7777777777777778,
              "#fb9f3a"
             ],
             [
              0.8888888888888888,
              "#fdca26"
             ],
             [
              1,
              "#f0f921"
             ]
            ],
            "type": "histogram2dcontour"
           }
          ],
          "mesh3d": [
           {
            "colorbar": {
             "outlinewidth": 0,
             "ticks": ""
            },
            "type": "mesh3d"
           }
          ],
          "parcoords": [
           {
            "line": {
             "colorbar": {
              "outlinewidth": 0,
              "ticks": ""
             }
            },
            "type": "parcoords"
           }
          ],
          "pie": [
           {
            "automargin": true,
            "type": "pie"
           }
          ],
          "scatter": [
           {
            "fillpattern": {
             "fillmode": "overlay",
             "size": 10,
             "solidity": 0.2
            },
            "type": "scatter"
           }
          ],
          "scatter3d": [
           {
            "line": {
             "colorbar": {
              "outlinewidth": 0,
              "ticks": ""
             }
            },
            "marker": {
             "colorbar": {
              "outlinewidth": 0,
              "ticks": ""
             }
            },
            "type": "scatter3d"
           }
          ],
          "scattercarpet": [
           {
            "marker": {
             "colorbar": {
              "outlinewidth": 0,
              "ticks": ""
             }
            },
            "type": "scattercarpet"
           }
          ],
          "scattergeo": [
           {
            "marker": {
             "colorbar": {
              "outlinewidth": 0,
              "ticks": ""
             }
            },
            "type": "scattergeo"
           }
          ],
          "scattergl": [
           {
            "marker": {
             "colorbar": {
              "outlinewidth": 0,
              "ticks": ""
             }
            },
            "type": "scattergl"
           }
          ],
          "scattermapbox": [
           {
            "marker": {
             "colorbar": {
              "outlinewidth": 0,
              "ticks": ""
             }
            },
            "type": "scattermapbox"
           }
          ],
          "scatterpolar": [
           {
            "marker": {
             "colorbar": {
              "outlinewidth": 0,
              "ticks": ""
             }
            },
            "type": "scatterpolar"
           }
          ],
          "scatterpolargl": [
           {
            "marker": {
             "colorbar": {
              "outlinewidth": 0,
              "ticks": ""
             }
            },
            "type": "scatterpolargl"
           }
          ],
          "scatterternary": [
           {
            "marker": {
             "colorbar": {
              "outlinewidth": 0,
              "ticks": ""
             }
            },
            "type": "scatterternary"
           }
          ],
          "surface": [
           {
            "colorbar": {
             "outlinewidth": 0,
             "ticks": ""
            },
            "colorscale": [
             [
              0,
              "#0d0887"
             ],
             [
              0.1111111111111111,
              "#46039f"
             ],
             [
              0.2222222222222222,
              "#7201a8"
             ],
             [
              0.3333333333333333,
              "#9c179e"
             ],
             [
              0.4444444444444444,
              "#bd3786"
             ],
             [
              0.5555555555555556,
              "#d8576b"
             ],
             [
              0.6666666666666666,
              "#ed7953"
             ],
             [
              0.7777777777777778,
              "#fb9f3a"
             ],
             [
              0.8888888888888888,
              "#fdca26"
             ],
             [
              1,
              "#f0f921"
             ]
            ],
            "type": "surface"
           }
          ],
          "table": [
           {
            "cells": {
             "fill": {
              "color": "#EBF0F8"
             },
             "line": {
              "color": "white"
             }
            },
            "header": {
             "fill": {
              "color": "#C8D4E3"
             },
             "line": {
              "color": "white"
             }
            },
            "type": "table"
           }
          ]
         },
         "layout": {
          "annotationdefaults": {
           "arrowcolor": "#2a3f5f",
           "arrowhead": 0,
           "arrowwidth": 1
          },
          "autotypenumbers": "strict",
          "coloraxis": {
           "colorbar": {
            "outlinewidth": 0,
            "ticks": ""
           }
          },
          "colorscale": {
           "diverging": [
            [
             0,
             "#8e0152"
            ],
            [
             0.1,
             "#c51b7d"
            ],
            [
             0.2,
             "#de77ae"
            ],
            [
             0.3,
             "#f1b6da"
            ],
            [
             0.4,
             "#fde0ef"
            ],
            [
             0.5,
             "#f7f7f7"
            ],
            [
             0.6,
             "#e6f5d0"
            ],
            [
             0.7,
             "#b8e186"
            ],
            [
             0.8,
             "#7fbc41"
            ],
            [
             0.9,
             "#4d9221"
            ],
            [
             1,
             "#276419"
            ]
           ],
           "sequential": [
            [
             0,
             "#0d0887"
            ],
            [
             0.1111111111111111,
             "#46039f"
            ],
            [
             0.2222222222222222,
             "#7201a8"
            ],
            [
             0.3333333333333333,
             "#9c179e"
            ],
            [
             0.4444444444444444,
             "#bd3786"
            ],
            [
             0.5555555555555556,
             "#d8576b"
            ],
            [
             0.6666666666666666,
             "#ed7953"
            ],
            [
             0.7777777777777778,
             "#fb9f3a"
            ],
            [
             0.8888888888888888,
             "#fdca26"
            ],
            [
             1,
             "#f0f921"
            ]
           ],
           "sequentialminus": [
            [
             0,
             "#0d0887"
            ],
            [
             0.1111111111111111,
             "#46039f"
            ],
            [
             0.2222222222222222,
             "#7201a8"
            ],
            [
             0.3333333333333333,
             "#9c179e"
            ],
            [
             0.4444444444444444,
             "#bd3786"
            ],
            [
             0.5555555555555556,
             "#d8576b"
            ],
            [
             0.6666666666666666,
             "#ed7953"
            ],
            [
             0.7777777777777778,
             "#fb9f3a"
            ],
            [
             0.8888888888888888,
             "#fdca26"
            ],
            [
             1,
             "#f0f921"
            ]
           ]
          },
          "colorway": [
           "#636efa",
           "#EF553B",
           "#00cc96",
           "#ab63fa",
           "#FFA15A",
           "#19d3f3",
           "#FF6692",
           "#B6E880",
           "#FF97FF",
           "#FECB52"
          ],
          "font": {
           "color": "#2a3f5f"
          },
          "geo": {
           "bgcolor": "white",
           "lakecolor": "white",
           "landcolor": "#E5ECF6",
           "showlakes": true,
           "showland": true,
           "subunitcolor": "white"
          },
          "hoverlabel": {
           "align": "left"
          },
          "hovermode": "closest",
          "mapbox": {
           "style": "light"
          },
          "paper_bgcolor": "white",
          "plot_bgcolor": "#E5ECF6",
          "polar": {
           "angularaxis": {
            "gridcolor": "white",
            "linecolor": "white",
            "ticks": ""
           },
           "bgcolor": "#E5ECF6",
           "radialaxis": {
            "gridcolor": "white",
            "linecolor": "white",
            "ticks": ""
           }
          },
          "scene": {
           "xaxis": {
            "backgroundcolor": "#E5ECF6",
            "gridcolor": "white",
            "gridwidth": 2,
            "linecolor": "white",
            "showbackground": true,
            "ticks": "",
            "zerolinecolor": "white"
           },
           "yaxis": {
            "backgroundcolor": "#E5ECF6",
            "gridcolor": "white",
            "gridwidth": 2,
            "linecolor": "white",
            "showbackground": true,
            "ticks": "",
            "zerolinecolor": "white"
           },
           "zaxis": {
            "backgroundcolor": "#E5ECF6",
            "gridcolor": "white",
            "gridwidth": 2,
            "linecolor": "white",
            "showbackground": true,
            "ticks": "",
            "zerolinecolor": "white"
           }
          },
          "shapedefaults": {
           "line": {
            "color": "#2a3f5f"
           }
          },
          "ternary": {
           "aaxis": {
            "gridcolor": "white",
            "linecolor": "white",
            "ticks": ""
           },
           "baxis": {
            "gridcolor": "white",
            "linecolor": "white",
            "ticks": ""
           },
           "bgcolor": "#E5ECF6",
           "caxis": {
            "gridcolor": "white",
            "linecolor": "white",
            "ticks": ""
           }
          },
          "title": {
           "x": 0.05
          },
          "xaxis": {
           "automargin": true,
           "gridcolor": "white",
           "linecolor": "white",
           "ticks": "",
           "title": {
            "standoff": 15
           },
           "zerolinecolor": "white",
           "zerolinewidth": 2
          },
          "yaxis": {
           "automargin": true,
           "gridcolor": "white",
           "linecolor": "white",
           "ticks": "",
           "title": {
            "standoff": 15
           },
           "zerolinecolor": "white",
           "zerolinewidth": 2
          }
         }
        },
        "title": {
         "text": "Parametric ReLU and Derivative "
        },
        "xaxis": {
         "title": {
          "text": "x"
         }
        },
        "yaxis": {
         "title": {
          "text": "y"
         }
        }
       }
      }
     },
     "metadata": {},
     "output_type": "display_data"
    },
    {
     "data": {
      "application/vnd.plotly.v1+json": {
       "config": {
        "plotlyServerURL": "https://plot.ly"
       },
       "data": [
        {
         "mode": "lines",
         "name": "PReLU function (alpha=0.28)",
         "type": "scatter",
         "x": [
          -3,
          -2.9393939393939394,
          -2.878787878787879,
          -2.8181818181818183,
          -2.757575757575758,
          -2.696969696969697,
          -2.6363636363636362,
          -2.5757575757575757,
          -2.515151515151515,
          -2.4545454545454546,
          -2.393939393939394,
          -2.333333333333333,
          -2.2727272727272725,
          -2.212121212121212,
          -2.1515151515151514,
          -2.090909090909091,
          -2.0303030303030303,
          -1.9696969696969697,
          -1.9090909090909092,
          -1.8484848484848484,
          -1.7878787878787878,
          -1.7272727272727273,
          -1.6666666666666665,
          -1.606060606060606,
          -1.5454545454545454,
          -1.4848484848484849,
          -1.4242424242424243,
          -1.3636363636363635,
          -1.303030303030303,
          -1.2424242424242424,
          -1.1818181818181817,
          -1.121212121212121,
          -1.0606060606060606,
          -1,
          -0.9393939393939394,
          -0.8787878787878789,
          -0.8181818181818183,
          -0.7575757575757573,
          -0.6969696969696968,
          -0.6363636363636362,
          -0.5757575757575757,
          -0.5151515151515151,
          -0.4545454545454546,
          -0.39393939393939403,
          -0.33333333333333304,
          -0.2727272727272725,
          -0.21212121212121193,
          -0.15151515151515138,
          -0.09090909090909083,
          -0.030303030303030276,
          0.030303030303030276,
          0.09090909090909083,
          0.15151515151515138,
          0.21212121212121238,
          0.27272727272727293,
          0.3333333333333335,
          0.39393939393939403,
          0.4545454545454546,
          0.5151515151515151,
          0.5757575757575757,
          0.6363636363636367,
          0.6969696969696972,
          0.7575757575757578,
          0.8181818181818183,
          0.8787878787878789,
          0.9393939393939394,
          1,
          1.0606060606060606,
          1.121212121212121,
          1.1818181818181817,
          1.2424242424242422,
          1.3030303030303028,
          1.3636363636363633,
          1.4242424242424248,
          1.4848484848484853,
          1.5454545454545459,
          1.6060606060606064,
          1.666666666666667,
          1.7272727272727275,
          1.787878787878788,
          1.8484848484848486,
          1.9090909090909092,
          1.9696969696969697,
          2.0303030303030303,
          2.090909090909091,
          2.1515151515151514,
          2.212121212121212,
          2.2727272727272725,
          2.333333333333334,
          2.3939393939393945,
          2.454545454545455,
          2.5151515151515156,
          2.575757575757576,
          2.6363636363636367,
          2.6969696969696972,
          2.757575757575758,
          2.8181818181818183,
          2.878787878787879,
          2.9393939393939394,
          3
         ],
         "y": [
          -0.8400000000000001,
          -0.8230303030303031,
          -0.8060606060606061,
          -0.7890909090909092,
          -0.7721212121212122,
          -0.7551515151515151,
          -0.7381818181818183,
          -0.7212121212121213,
          -0.7042424242424243,
          -0.6872727272727274,
          -0.6703030303030304,
          -0.6533333333333333,
          -0.6363636363636364,
          -0.6193939393939394,
          -0.6024242424242424,
          -0.5854545454545454,
          -0.5684848484848485,
          -0.5515151515151516,
          -0.5345454545454547,
          -0.5175757575757576,
          -0.5006060606060606,
          -0.4836363636363637,
          -0.4666666666666667,
          -0.4496969696969697,
          -0.43272727272727274,
          -0.4157575757575758,
          -0.39878787878787886,
          -0.38181818181818183,
          -0.36484848484848487,
          -0.3478787878787879,
          -0.3309090909090909,
          -0.31393939393939396,
          -0.296969696969697,
          -0.28,
          -0.26303030303030306,
          -0.24606060606060612,
          -0.22909090909090915,
          -0.21212121212121207,
          -0.19515151515151513,
          -0.17818181818181816,
          -0.1612121212121212,
          -0.14424242424242426,
          -0.1272727272727273,
          -0.11030303030303033,
          -0.09333333333333325,
          -0.0763636363636363,
          -0.059393939393939346,
          -0.04242424242424239,
          -0.025454545454545435,
          -0.008484848484848479,
          0.030303030303030276,
          0.09090909090909083,
          0.15151515151515138,
          0.21212121212121238,
          0.27272727272727293,
          0.3333333333333335,
          0.39393939393939403,
          0.4545454545454546,
          0.5151515151515151,
          0.5757575757575757,
          0.6363636363636367,
          0.6969696969696972,
          0.7575757575757578,
          0.8181818181818183,
          0.8787878787878789,
          0.9393939393939394,
          1,
          1.0606060606060606,
          1.121212121212121,
          1.1818181818181817,
          1.2424242424242422,
          1.3030303030303028,
          1.3636363636363633,
          1.4242424242424248,
          1.4848484848484853,
          1.5454545454545459,
          1.6060606060606064,
          1.666666666666667,
          1.7272727272727275,
          1.787878787878788,
          1.8484848484848486,
          1.9090909090909092,
          1.9696969696969697,
          2.0303030303030303,
          2.090909090909091,
          2.1515151515151514,
          2.212121212121212,
          2.2727272727272725,
          2.333333333333334,
          2.3939393939393945,
          2.454545454545455,
          2.5151515151515156,
          2.575757575757576,
          2.6363636363636367,
          2.6969696969696972,
          2.757575757575758,
          2.8181818181818183,
          2.878787878787879,
          2.9393939393939394,
          3
         ]
        },
        {
         "mode": "lines",
         "name": "PReLU derivative (alpha=0.28)",
         "type": "scatter",
         "x": [
          -3,
          -2.9393939393939394,
          -2.878787878787879,
          -2.8181818181818183,
          -2.757575757575758,
          -2.696969696969697,
          -2.6363636363636362,
          -2.5757575757575757,
          -2.515151515151515,
          -2.4545454545454546,
          -2.393939393939394,
          -2.333333333333333,
          -2.2727272727272725,
          -2.212121212121212,
          -2.1515151515151514,
          -2.090909090909091,
          -2.0303030303030303,
          -1.9696969696969697,
          -1.9090909090909092,
          -1.8484848484848484,
          -1.7878787878787878,
          -1.7272727272727273,
          -1.6666666666666665,
          -1.606060606060606,
          -1.5454545454545454,
          -1.4848484848484849,
          -1.4242424242424243,
          -1.3636363636363635,
          -1.303030303030303,
          -1.2424242424242424,
          -1.1818181818181817,
          -1.121212121212121,
          -1.0606060606060606,
          -1,
          -0.9393939393939394,
          -0.8787878787878789,
          -0.8181818181818183,
          -0.7575757575757573,
          -0.6969696969696968,
          -0.6363636363636362,
          -0.5757575757575757,
          -0.5151515151515151,
          -0.4545454545454546,
          -0.39393939393939403,
          -0.33333333333333304,
          -0.2727272727272725,
          -0.21212121212121193,
          -0.15151515151515138,
          -0.09090909090909083,
          -0.030303030303030276,
          0.030303030303030276,
          0.09090909090909083,
          0.15151515151515138,
          0.21212121212121238,
          0.27272727272727293,
          0.3333333333333335,
          0.39393939393939403,
          0.4545454545454546,
          0.5151515151515151,
          0.5757575757575757,
          0.6363636363636367,
          0.6969696969696972,
          0.7575757575757578,
          0.8181818181818183,
          0.8787878787878789,
          0.9393939393939394,
          1,
          1.0606060606060606,
          1.121212121212121,
          1.1818181818181817,
          1.2424242424242422,
          1.3030303030303028,
          1.3636363636363633,
          1.4242424242424248,
          1.4848484848484853,
          1.5454545454545459,
          1.6060606060606064,
          1.666666666666667,
          1.7272727272727275,
          1.787878787878788,
          1.8484848484848486,
          1.9090909090909092,
          1.9696969696969697,
          2.0303030303030303,
          2.090909090909091,
          2.1515151515151514,
          2.212121212121212,
          2.2727272727272725,
          2.333333333333334,
          2.3939393939393945,
          2.454545454545455,
          2.5151515151515156,
          2.575757575757576,
          2.6363636363636367,
          2.6969696969696972,
          2.757575757575758,
          2.8181818181818183,
          2.878787878787879,
          2.9393939393939394,
          3
         ],
         "y": [
          0.28,
          0.28,
          0.28,
          0.28,
          0.28,
          0.28,
          0.28,
          0.28,
          0.28,
          0.28,
          0.28,
          0.28,
          0.28,
          0.28,
          0.28,
          0.28,
          0.28,
          0.28,
          0.28,
          0.28,
          0.28,
          0.28,
          0.28,
          0.28,
          0.28,
          0.28,
          0.28,
          0.28,
          0.28,
          0.28,
          0.28,
          0.28,
          0.28,
          0.28,
          0.28,
          0.28,
          0.28,
          0.28,
          0.28,
          0.28,
          0.28,
          0.28,
          0.28,
          0.28,
          0.28,
          0.28,
          0.28,
          0.28,
          0.28,
          0.28,
          1,
          1,
          1,
          1,
          1,
          1,
          1,
          1,
          1,
          1,
          1,
          1,
          1,
          1,
          1,
          1,
          1,
          1,
          1,
          1,
          1,
          1,
          1,
          1,
          1,
          1,
          1,
          1,
          1,
          1,
          1,
          1,
          1,
          1,
          1,
          1,
          1,
          1,
          1,
          1,
          1,
          1,
          1,
          1,
          1,
          1,
          1,
          1,
          1,
          1
         ]
        }
       ],
       "layout": {
        "showlegend": true,
        "template": {
         "data": {
          "bar": [
           {
            "error_x": {
             "color": "#2a3f5f"
            },
            "error_y": {
             "color": "#2a3f5f"
            },
            "marker": {
             "line": {
              "color": "#E5ECF6",
              "width": 0.5
             },
             "pattern": {
              "fillmode": "overlay",
              "size": 10,
              "solidity": 0.2
             }
            },
            "type": "bar"
           }
          ],
          "barpolar": [
           {
            "marker": {
             "line": {
              "color": "#E5ECF6",
              "width": 0.5
             },
             "pattern": {
              "fillmode": "overlay",
              "size": 10,
              "solidity": 0.2
             }
            },
            "type": "barpolar"
           }
          ],
          "carpet": [
           {
            "aaxis": {
             "endlinecolor": "#2a3f5f",
             "gridcolor": "white",
             "linecolor": "white",
             "minorgridcolor": "white",
             "startlinecolor": "#2a3f5f"
            },
            "baxis": {
             "endlinecolor": "#2a3f5f",
             "gridcolor": "white",
             "linecolor": "white",
             "minorgridcolor": "white",
             "startlinecolor": "#2a3f5f"
            },
            "type": "carpet"
           }
          ],
          "choropleth": [
           {
            "colorbar": {
             "outlinewidth": 0,
             "ticks": ""
            },
            "type": "choropleth"
           }
          ],
          "contour": [
           {
            "colorbar": {
             "outlinewidth": 0,
             "ticks": ""
            },
            "colorscale": [
             [
              0,
              "#0d0887"
             ],
             [
              0.1111111111111111,
              "#46039f"
             ],
             [
              0.2222222222222222,
              "#7201a8"
             ],
             [
              0.3333333333333333,
              "#9c179e"
             ],
             [
              0.4444444444444444,
              "#bd3786"
             ],
             [
              0.5555555555555556,
              "#d8576b"
             ],
             [
              0.6666666666666666,
              "#ed7953"
             ],
             [
              0.7777777777777778,
              "#fb9f3a"
             ],
             [
              0.8888888888888888,
              "#fdca26"
             ],
             [
              1,
              "#f0f921"
             ]
            ],
            "type": "contour"
           }
          ],
          "contourcarpet": [
           {
            "colorbar": {
             "outlinewidth": 0,
             "ticks": ""
            },
            "type": "contourcarpet"
           }
          ],
          "heatmap": [
           {
            "colorbar": {
             "outlinewidth": 0,
             "ticks": ""
            },
            "colorscale": [
             [
              0,
              "#0d0887"
             ],
             [
              0.1111111111111111,
              "#46039f"
             ],
             [
              0.2222222222222222,
              "#7201a8"
             ],
             [
              0.3333333333333333,
              "#9c179e"
             ],
             [
              0.4444444444444444,
              "#bd3786"
             ],
             [
              0.5555555555555556,
              "#d8576b"
             ],
             [
              0.6666666666666666,
              "#ed7953"
             ],
             [
              0.7777777777777778,
              "#fb9f3a"
             ],
             [
              0.8888888888888888,
              "#fdca26"
             ],
             [
              1,
              "#f0f921"
             ]
            ],
            "type": "heatmap"
           }
          ],
          "heatmapgl": [
           {
            "colorbar": {
             "outlinewidth": 0,
             "ticks": ""
            },
            "colorscale": [
             [
              0,
              "#0d0887"
             ],
             [
              0.1111111111111111,
              "#46039f"
             ],
             [
              0.2222222222222222,
              "#7201a8"
             ],
             [
              0.3333333333333333,
              "#9c179e"
             ],
             [
              0.4444444444444444,
              "#bd3786"
             ],
             [
              0.5555555555555556,
              "#d8576b"
             ],
             [
              0.6666666666666666,
              "#ed7953"
             ],
             [
              0.7777777777777778,
              "#fb9f3a"
             ],
             [
              0.8888888888888888,
              "#fdca26"
             ],
             [
              1,
              "#f0f921"
             ]
            ],
            "type": "heatmapgl"
           }
          ],
          "histogram": [
           {
            "marker": {
             "pattern": {
              "fillmode": "overlay",
              "size": 10,
              "solidity": 0.2
             }
            },
            "type": "histogram"
           }
          ],
          "histogram2d": [
           {
            "colorbar": {
             "outlinewidth": 0,
             "ticks": ""
            },
            "colorscale": [
             [
              0,
              "#0d0887"
             ],
             [
              0.1111111111111111,
              "#46039f"
             ],
             [
              0.2222222222222222,
              "#7201a8"
             ],
             [
              0.3333333333333333,
              "#9c179e"
             ],
             [
              0.4444444444444444,
              "#bd3786"
             ],
             [
              0.5555555555555556,
              "#d8576b"
             ],
             [
              0.6666666666666666,
              "#ed7953"
             ],
             [
              0.7777777777777778,
              "#fb9f3a"
             ],
             [
              0.8888888888888888,
              "#fdca26"
             ],
             [
              1,
              "#f0f921"
             ]
            ],
            "type": "histogram2d"
           }
          ],
          "histogram2dcontour": [
           {
            "colorbar": {
             "outlinewidth": 0,
             "ticks": ""
            },
            "colorscale": [
             [
              0,
              "#0d0887"
             ],
             [
              0.1111111111111111,
              "#46039f"
             ],
             [
              0.2222222222222222,
              "#7201a8"
             ],
             [
              0.3333333333333333,
              "#9c179e"
             ],
             [
              0.4444444444444444,
              "#bd3786"
             ],
             [
              0.5555555555555556,
              "#d8576b"
             ],
             [
              0.6666666666666666,
              "#ed7953"
             ],
             [
              0.7777777777777778,
              "#fb9f3a"
             ],
             [
              0.8888888888888888,
              "#fdca26"
             ],
             [
              1,
              "#f0f921"
             ]
            ],
            "type": "histogram2dcontour"
           }
          ],
          "mesh3d": [
           {
            "colorbar": {
             "outlinewidth": 0,
             "ticks": ""
            },
            "type": "mesh3d"
           }
          ],
          "parcoords": [
           {
            "line": {
             "colorbar": {
              "outlinewidth": 0,
              "ticks": ""
             }
            },
            "type": "parcoords"
           }
          ],
          "pie": [
           {
            "automargin": true,
            "type": "pie"
           }
          ],
          "scatter": [
           {
            "fillpattern": {
             "fillmode": "overlay",
             "size": 10,
             "solidity": 0.2
            },
            "type": "scatter"
           }
          ],
          "scatter3d": [
           {
            "line": {
             "colorbar": {
              "outlinewidth": 0,
              "ticks": ""
             }
            },
            "marker": {
             "colorbar": {
              "outlinewidth": 0,
              "ticks": ""
             }
            },
            "type": "scatter3d"
           }
          ],
          "scattercarpet": [
           {
            "marker": {
             "colorbar": {
              "outlinewidth": 0,
              "ticks": ""
             }
            },
            "type": "scattercarpet"
           }
          ],
          "scattergeo": [
           {
            "marker": {
             "colorbar": {
              "outlinewidth": 0,
              "ticks": ""
             }
            },
            "type": "scattergeo"
           }
          ],
          "scattergl": [
           {
            "marker": {
             "colorbar": {
              "outlinewidth": 0,
              "ticks": ""
             }
            },
            "type": "scattergl"
           }
          ],
          "scattermapbox": [
           {
            "marker": {
             "colorbar": {
              "outlinewidth": 0,
              "ticks": ""
             }
            },
            "type": "scattermapbox"
           }
          ],
          "scatterpolar": [
           {
            "marker": {
             "colorbar": {
              "outlinewidth": 0,
              "ticks": ""
             }
            },
            "type": "scatterpolar"
           }
          ],
          "scatterpolargl": [
           {
            "marker": {
             "colorbar": {
              "outlinewidth": 0,
              "ticks": ""
             }
            },
            "type": "scatterpolargl"
           }
          ],
          "scatterternary": [
           {
            "marker": {
             "colorbar": {
              "outlinewidth": 0,
              "ticks": ""
             }
            },
            "type": "scatterternary"
           }
          ],
          "surface": [
           {
            "colorbar": {
             "outlinewidth": 0,
             "ticks": ""
            },
            "colorscale": [
             [
              0,
              "#0d0887"
             ],
             [
              0.1111111111111111,
              "#46039f"
             ],
             [
              0.2222222222222222,
              "#7201a8"
             ],
             [
              0.3333333333333333,
              "#9c179e"
             ],
             [
              0.4444444444444444,
              "#bd3786"
             ],
             [
              0.5555555555555556,
              "#d8576b"
             ],
             [
              0.6666666666666666,
              "#ed7953"
             ],
             [
              0.7777777777777778,
              "#fb9f3a"
             ],
             [
              0.8888888888888888,
              "#fdca26"
             ],
             [
              1,
              "#f0f921"
             ]
            ],
            "type": "surface"
           }
          ],
          "table": [
           {
            "cells": {
             "fill": {
              "color": "#EBF0F8"
             },
             "line": {
              "color": "white"
             }
            },
            "header": {
             "fill": {
              "color": "#C8D4E3"
             },
             "line": {
              "color": "white"
             }
            },
            "type": "table"
           }
          ]
         },
         "layout": {
          "annotationdefaults": {
           "arrowcolor": "#2a3f5f",
           "arrowhead": 0,
           "arrowwidth": 1
          },
          "autotypenumbers": "strict",
          "coloraxis": {
           "colorbar": {
            "outlinewidth": 0,
            "ticks": ""
           }
          },
          "colorscale": {
           "diverging": [
            [
             0,
             "#8e0152"
            ],
            [
             0.1,
             "#c51b7d"
            ],
            [
             0.2,
             "#de77ae"
            ],
            [
             0.3,
             "#f1b6da"
            ],
            [
             0.4,
             "#fde0ef"
            ],
            [
             0.5,
             "#f7f7f7"
            ],
            [
             0.6,
             "#e6f5d0"
            ],
            [
             0.7,
             "#b8e186"
            ],
            [
             0.8,
             "#7fbc41"
            ],
            [
             0.9,
             "#4d9221"
            ],
            [
             1,
             "#276419"
            ]
           ],
           "sequential": [
            [
             0,
             "#0d0887"
            ],
            [
             0.1111111111111111,
             "#46039f"
            ],
            [
             0.2222222222222222,
             "#7201a8"
            ],
            [
             0.3333333333333333,
             "#9c179e"
            ],
            [
             0.4444444444444444,
             "#bd3786"
            ],
            [
             0.5555555555555556,
             "#d8576b"
            ],
            [
             0.6666666666666666,
             "#ed7953"
            ],
            [
             0.7777777777777778,
             "#fb9f3a"
            ],
            [
             0.8888888888888888,
             "#fdca26"
            ],
            [
             1,
             "#f0f921"
            ]
           ],
           "sequentialminus": [
            [
             0,
             "#0d0887"
            ],
            [
             0.1111111111111111,
             "#46039f"
            ],
            [
             0.2222222222222222,
             "#7201a8"
            ],
            [
             0.3333333333333333,
             "#9c179e"
            ],
            [
             0.4444444444444444,
             "#bd3786"
            ],
            [
             0.5555555555555556,
             "#d8576b"
            ],
            [
             0.6666666666666666,
             "#ed7953"
            ],
            [
             0.7777777777777778,
             "#fb9f3a"
            ],
            [
             0.8888888888888888,
             "#fdca26"
            ],
            [
             1,
             "#f0f921"
            ]
           ]
          },
          "colorway": [
           "#636efa",
           "#EF553B",
           "#00cc96",
           "#ab63fa",
           "#FFA15A",
           "#19d3f3",
           "#FF6692",
           "#B6E880",
           "#FF97FF",
           "#FECB52"
          ],
          "font": {
           "color": "#2a3f5f"
          },
          "geo": {
           "bgcolor": "white",
           "lakecolor": "white",
           "landcolor": "#E5ECF6",
           "showlakes": true,
           "showland": true,
           "subunitcolor": "white"
          },
          "hoverlabel": {
           "align": "left"
          },
          "hovermode": "closest",
          "mapbox": {
           "style": "light"
          },
          "paper_bgcolor": "white",
          "plot_bgcolor": "#E5ECF6",
          "polar": {
           "angularaxis": {
            "gridcolor": "white",
            "linecolor": "white",
            "ticks": ""
           },
           "bgcolor": "#E5ECF6",
           "radialaxis": {
            "gridcolor": "white",
            "linecolor": "white",
            "ticks": ""
           }
          },
          "scene": {
           "xaxis": {
            "backgroundcolor": "#E5ECF6",
            "gridcolor": "white",
            "gridwidth": 2,
            "linecolor": "white",
            "showbackground": true,
            "ticks": "",
            "zerolinecolor": "white"
           },
           "yaxis": {
            "backgroundcolor": "#E5ECF6",
            "gridcolor": "white",
            "gridwidth": 2,
            "linecolor": "white",
            "showbackground": true,
            "ticks": "",
            "zerolinecolor": "white"
           },
           "zaxis": {
            "backgroundcolor": "#E5ECF6",
            "gridcolor": "white",
            "gridwidth": 2,
            "linecolor": "white",
            "showbackground": true,
            "ticks": "",
            "zerolinecolor": "white"
           }
          },
          "shapedefaults": {
           "line": {
            "color": "#2a3f5f"
           }
          },
          "ternary": {
           "aaxis": {
            "gridcolor": "white",
            "linecolor": "white",
            "ticks": ""
           },
           "baxis": {
            "gridcolor": "white",
            "linecolor": "white",
            "ticks": ""
           },
           "bgcolor": "#E5ECF6",
           "caxis": {
            "gridcolor": "white",
            "linecolor": "white",
            "ticks": ""
           }
          },
          "title": {
           "x": 0.05
          },
          "xaxis": {
           "automargin": true,
           "gridcolor": "white",
           "linecolor": "white",
           "ticks": "",
           "title": {
            "standoff": 15
           },
           "zerolinecolor": "white",
           "zerolinewidth": 2
          },
          "yaxis": {
           "automargin": true,
           "gridcolor": "white",
           "linecolor": "white",
           "ticks": "",
           "title": {
            "standoff": 15
           },
           "zerolinecolor": "white",
           "zerolinewidth": 2
          }
         }
        },
        "title": {
         "text": "Parametric ReLU and Derivative "
        },
        "xaxis": {
         "title": {
          "text": "x"
         }
        },
        "yaxis": {
         "title": {
          "text": "y"
         }
        }
       }
      }
     },
     "metadata": {},
     "output_type": "display_data"
    },
    {
     "data": {
      "application/vnd.plotly.v1+json": {
       "config": {
        "plotlyServerURL": "https://plot.ly"
       },
       "data": [
        {
         "mode": "lines",
         "name": "PReLU function (alpha=0.27)",
         "type": "scatter",
         "x": [
          -3,
          -2.9393939393939394,
          -2.878787878787879,
          -2.8181818181818183,
          -2.757575757575758,
          -2.696969696969697,
          -2.6363636363636362,
          -2.5757575757575757,
          -2.515151515151515,
          -2.4545454545454546,
          -2.393939393939394,
          -2.333333333333333,
          -2.2727272727272725,
          -2.212121212121212,
          -2.1515151515151514,
          -2.090909090909091,
          -2.0303030303030303,
          -1.9696969696969697,
          -1.9090909090909092,
          -1.8484848484848484,
          -1.7878787878787878,
          -1.7272727272727273,
          -1.6666666666666665,
          -1.606060606060606,
          -1.5454545454545454,
          -1.4848484848484849,
          -1.4242424242424243,
          -1.3636363636363635,
          -1.303030303030303,
          -1.2424242424242424,
          -1.1818181818181817,
          -1.121212121212121,
          -1.0606060606060606,
          -1,
          -0.9393939393939394,
          -0.8787878787878789,
          -0.8181818181818183,
          -0.7575757575757573,
          -0.6969696969696968,
          -0.6363636363636362,
          -0.5757575757575757,
          -0.5151515151515151,
          -0.4545454545454546,
          -0.39393939393939403,
          -0.33333333333333304,
          -0.2727272727272725,
          -0.21212121212121193,
          -0.15151515151515138,
          -0.09090909090909083,
          -0.030303030303030276,
          0.030303030303030276,
          0.09090909090909083,
          0.15151515151515138,
          0.21212121212121238,
          0.27272727272727293,
          0.3333333333333335,
          0.39393939393939403,
          0.4545454545454546,
          0.5151515151515151,
          0.5757575757575757,
          0.6363636363636367,
          0.6969696969696972,
          0.7575757575757578,
          0.8181818181818183,
          0.8787878787878789,
          0.9393939393939394,
          1,
          1.0606060606060606,
          1.121212121212121,
          1.1818181818181817,
          1.2424242424242422,
          1.3030303030303028,
          1.3636363636363633,
          1.4242424242424248,
          1.4848484848484853,
          1.5454545454545459,
          1.6060606060606064,
          1.666666666666667,
          1.7272727272727275,
          1.787878787878788,
          1.8484848484848486,
          1.9090909090909092,
          1.9696969696969697,
          2.0303030303030303,
          2.090909090909091,
          2.1515151515151514,
          2.212121212121212,
          2.2727272727272725,
          2.333333333333334,
          2.3939393939393945,
          2.454545454545455,
          2.5151515151515156,
          2.575757575757576,
          2.6363636363636367,
          2.6969696969696972,
          2.757575757575758,
          2.8181818181818183,
          2.878787878787879,
          2.9393939393939394,
          3
         ],
         "y": [
          -0.81,
          -0.7936363636363637,
          -0.7772727272727273,
          -0.760909090909091,
          -0.7445454545454546,
          -0.7281818181818182,
          -0.7118181818181818,
          -0.6954545454545454,
          -0.6790909090909091,
          -0.6627272727272728,
          -0.6463636363636365,
          -0.63,
          -0.6136363636363636,
          -0.5972727272727273,
          -0.5809090909090909,
          -0.5645454545454546,
          -0.5481818181818182,
          -0.5318181818181819,
          -0.5154545454545455,
          -0.4990909090909091,
          -0.4827272727272727,
          -0.4663636363636364,
          -0.45,
          -0.43363636363636365,
          -0.4172727272727273,
          -0.40090909090909094,
          -0.3845454545454546,
          -0.36818181818181817,
          -0.3518181818181818,
          -0.3354545454545455,
          -0.3190909090909091,
          -0.30272727272727273,
          -0.2863636363636364,
          -0.27,
          -0.25363636363636366,
          -0.23727272727272733,
          -0.22090909090909097,
          -0.2045454545454545,
          -0.18818181818181814,
          -0.1718181818181818,
          -0.15545454545454546,
          -0.1390909090909091,
          -0.12272727272727274,
          -0.1063636363636364,
          -0.08999999999999993,
          -0.07363636363636357,
          -0.057272727272727225,
          -0.040909090909090874,
          -0.024545454545454527,
          -0.008181818181818176,
          0.030303030303030276,
          0.09090909090909083,
          0.15151515151515138,
          0.21212121212121238,
          0.27272727272727293,
          0.3333333333333335,
          0.39393939393939403,
          0.4545454545454546,
          0.5151515151515151,
          0.5757575757575757,
          0.6363636363636367,
          0.6969696969696972,
          0.7575757575757578,
          0.8181818181818183,
          0.8787878787878789,
          0.9393939393939394,
          1,
          1.0606060606060606,
          1.121212121212121,
          1.1818181818181817,
          1.2424242424242422,
          1.3030303030303028,
          1.3636363636363633,
          1.4242424242424248,
          1.4848484848484853,
          1.5454545454545459,
          1.6060606060606064,
          1.666666666666667,
          1.7272727272727275,
          1.787878787878788,
          1.8484848484848486,
          1.9090909090909092,
          1.9696969696969697,
          2.0303030303030303,
          2.090909090909091,
          2.1515151515151514,
          2.212121212121212,
          2.2727272727272725,
          2.333333333333334,
          2.3939393939393945,
          2.454545454545455,
          2.5151515151515156,
          2.575757575757576,
          2.6363636363636367,
          2.6969696969696972,
          2.757575757575758,
          2.8181818181818183,
          2.878787878787879,
          2.9393939393939394,
          3
         ]
        },
        {
         "mode": "lines",
         "name": "PReLU derivative (alpha=0.27)",
         "type": "scatter",
         "x": [
          -3,
          -2.9393939393939394,
          -2.878787878787879,
          -2.8181818181818183,
          -2.757575757575758,
          -2.696969696969697,
          -2.6363636363636362,
          -2.5757575757575757,
          -2.515151515151515,
          -2.4545454545454546,
          -2.393939393939394,
          -2.333333333333333,
          -2.2727272727272725,
          -2.212121212121212,
          -2.1515151515151514,
          -2.090909090909091,
          -2.0303030303030303,
          -1.9696969696969697,
          -1.9090909090909092,
          -1.8484848484848484,
          -1.7878787878787878,
          -1.7272727272727273,
          -1.6666666666666665,
          -1.606060606060606,
          -1.5454545454545454,
          -1.4848484848484849,
          -1.4242424242424243,
          -1.3636363636363635,
          -1.303030303030303,
          -1.2424242424242424,
          -1.1818181818181817,
          -1.121212121212121,
          -1.0606060606060606,
          -1,
          -0.9393939393939394,
          -0.8787878787878789,
          -0.8181818181818183,
          -0.7575757575757573,
          -0.6969696969696968,
          -0.6363636363636362,
          -0.5757575757575757,
          -0.5151515151515151,
          -0.4545454545454546,
          -0.39393939393939403,
          -0.33333333333333304,
          -0.2727272727272725,
          -0.21212121212121193,
          -0.15151515151515138,
          -0.09090909090909083,
          -0.030303030303030276,
          0.030303030303030276,
          0.09090909090909083,
          0.15151515151515138,
          0.21212121212121238,
          0.27272727272727293,
          0.3333333333333335,
          0.39393939393939403,
          0.4545454545454546,
          0.5151515151515151,
          0.5757575757575757,
          0.6363636363636367,
          0.6969696969696972,
          0.7575757575757578,
          0.8181818181818183,
          0.8787878787878789,
          0.9393939393939394,
          1,
          1.0606060606060606,
          1.121212121212121,
          1.1818181818181817,
          1.2424242424242422,
          1.3030303030303028,
          1.3636363636363633,
          1.4242424242424248,
          1.4848484848484853,
          1.5454545454545459,
          1.6060606060606064,
          1.666666666666667,
          1.7272727272727275,
          1.787878787878788,
          1.8484848484848486,
          1.9090909090909092,
          1.9696969696969697,
          2.0303030303030303,
          2.090909090909091,
          2.1515151515151514,
          2.212121212121212,
          2.2727272727272725,
          2.333333333333334,
          2.3939393939393945,
          2.454545454545455,
          2.5151515151515156,
          2.575757575757576,
          2.6363636363636367,
          2.6969696969696972,
          2.757575757575758,
          2.8181818181818183,
          2.878787878787879,
          2.9393939393939394,
          3
         ],
         "y": [
          0.27,
          0.27,
          0.27,
          0.27,
          0.27,
          0.27,
          0.27,
          0.27,
          0.27,
          0.27,
          0.27,
          0.27,
          0.27,
          0.27,
          0.27,
          0.27,
          0.27,
          0.27,
          0.27,
          0.27,
          0.27,
          0.27,
          0.27,
          0.27,
          0.27,
          0.27,
          0.27,
          0.27,
          0.27,
          0.27,
          0.27,
          0.27,
          0.27,
          0.27,
          0.27,
          0.27,
          0.27,
          0.27,
          0.27,
          0.27,
          0.27,
          0.27,
          0.27,
          0.27,
          0.27,
          0.27,
          0.27,
          0.27,
          0.27,
          0.27,
          1,
          1,
          1,
          1,
          1,
          1,
          1,
          1,
          1,
          1,
          1,
          1,
          1,
          1,
          1,
          1,
          1,
          1,
          1,
          1,
          1,
          1,
          1,
          1,
          1,
          1,
          1,
          1,
          1,
          1,
          1,
          1,
          1,
          1,
          1,
          1,
          1,
          1,
          1,
          1,
          1,
          1,
          1,
          1,
          1,
          1,
          1,
          1,
          1,
          1
         ]
        }
       ],
       "layout": {
        "showlegend": true,
        "template": {
         "data": {
          "bar": [
           {
            "error_x": {
             "color": "#2a3f5f"
            },
            "error_y": {
             "color": "#2a3f5f"
            },
            "marker": {
             "line": {
              "color": "#E5ECF6",
              "width": 0.5
             },
             "pattern": {
              "fillmode": "overlay",
              "size": 10,
              "solidity": 0.2
             }
            },
            "type": "bar"
           }
          ],
          "barpolar": [
           {
            "marker": {
             "line": {
              "color": "#E5ECF6",
              "width": 0.5
             },
             "pattern": {
              "fillmode": "overlay",
              "size": 10,
              "solidity": 0.2
             }
            },
            "type": "barpolar"
           }
          ],
          "carpet": [
           {
            "aaxis": {
             "endlinecolor": "#2a3f5f",
             "gridcolor": "white",
             "linecolor": "white",
             "minorgridcolor": "white",
             "startlinecolor": "#2a3f5f"
            },
            "baxis": {
             "endlinecolor": "#2a3f5f",
             "gridcolor": "white",
             "linecolor": "white",
             "minorgridcolor": "white",
             "startlinecolor": "#2a3f5f"
            },
            "type": "carpet"
           }
          ],
          "choropleth": [
           {
            "colorbar": {
             "outlinewidth": 0,
             "ticks": ""
            },
            "type": "choropleth"
           }
          ],
          "contour": [
           {
            "colorbar": {
             "outlinewidth": 0,
             "ticks": ""
            },
            "colorscale": [
             [
              0,
              "#0d0887"
             ],
             [
              0.1111111111111111,
              "#46039f"
             ],
             [
              0.2222222222222222,
              "#7201a8"
             ],
             [
              0.3333333333333333,
              "#9c179e"
             ],
             [
              0.4444444444444444,
              "#bd3786"
             ],
             [
              0.5555555555555556,
              "#d8576b"
             ],
             [
              0.6666666666666666,
              "#ed7953"
             ],
             [
              0.7777777777777778,
              "#fb9f3a"
             ],
             [
              0.8888888888888888,
              "#fdca26"
             ],
             [
              1,
              "#f0f921"
             ]
            ],
            "type": "contour"
           }
          ],
          "contourcarpet": [
           {
            "colorbar": {
             "outlinewidth": 0,
             "ticks": ""
            },
            "type": "contourcarpet"
           }
          ],
          "heatmap": [
           {
            "colorbar": {
             "outlinewidth": 0,
             "ticks": ""
            },
            "colorscale": [
             [
              0,
              "#0d0887"
             ],
             [
              0.1111111111111111,
              "#46039f"
             ],
             [
              0.2222222222222222,
              "#7201a8"
             ],
             [
              0.3333333333333333,
              "#9c179e"
             ],
             [
              0.4444444444444444,
              "#bd3786"
             ],
             [
              0.5555555555555556,
              "#d8576b"
             ],
             [
              0.6666666666666666,
              "#ed7953"
             ],
             [
              0.7777777777777778,
              "#fb9f3a"
             ],
             [
              0.8888888888888888,
              "#fdca26"
             ],
             [
              1,
              "#f0f921"
             ]
            ],
            "type": "heatmap"
           }
          ],
          "heatmapgl": [
           {
            "colorbar": {
             "outlinewidth": 0,
             "ticks": ""
            },
            "colorscale": [
             [
              0,
              "#0d0887"
             ],
             [
              0.1111111111111111,
              "#46039f"
             ],
             [
              0.2222222222222222,
              "#7201a8"
             ],
             [
              0.3333333333333333,
              "#9c179e"
             ],
             [
              0.4444444444444444,
              "#bd3786"
             ],
             [
              0.5555555555555556,
              "#d8576b"
             ],
             [
              0.6666666666666666,
              "#ed7953"
             ],
             [
              0.7777777777777778,
              "#fb9f3a"
             ],
             [
              0.8888888888888888,
              "#fdca26"
             ],
             [
              1,
              "#f0f921"
             ]
            ],
            "type": "heatmapgl"
           }
          ],
          "histogram": [
           {
            "marker": {
             "pattern": {
              "fillmode": "overlay",
              "size": 10,
              "solidity": 0.2
             }
            },
            "type": "histogram"
           }
          ],
          "histogram2d": [
           {
            "colorbar": {
             "outlinewidth": 0,
             "ticks": ""
            },
            "colorscale": [
             [
              0,
              "#0d0887"
             ],
             [
              0.1111111111111111,
              "#46039f"
             ],
             [
              0.2222222222222222,
              "#7201a8"
             ],
             [
              0.3333333333333333,
              "#9c179e"
             ],
             [
              0.4444444444444444,
              "#bd3786"
             ],
             [
              0.5555555555555556,
              "#d8576b"
             ],
             [
              0.6666666666666666,
              "#ed7953"
             ],
             [
              0.7777777777777778,
              "#fb9f3a"
             ],
             [
              0.8888888888888888,
              "#fdca26"
             ],
             [
              1,
              "#f0f921"
             ]
            ],
            "type": "histogram2d"
           }
          ],
          "histogram2dcontour": [
           {
            "colorbar": {
             "outlinewidth": 0,
             "ticks": ""
            },
            "colorscale": [
             [
              0,
              "#0d0887"
             ],
             [
              0.1111111111111111,
              "#46039f"
             ],
             [
              0.2222222222222222,
              "#7201a8"
             ],
             [
              0.3333333333333333,
              "#9c179e"
             ],
             [
              0.4444444444444444,
              "#bd3786"
             ],
             [
              0.5555555555555556,
              "#d8576b"
             ],
             [
              0.6666666666666666,
              "#ed7953"
             ],
             [
              0.7777777777777778,
              "#fb9f3a"
             ],
             [
              0.8888888888888888,
              "#fdca26"
             ],
             [
              1,
              "#f0f921"
             ]
            ],
            "type": "histogram2dcontour"
           }
          ],
          "mesh3d": [
           {
            "colorbar": {
             "outlinewidth": 0,
             "ticks": ""
            },
            "type": "mesh3d"
           }
          ],
          "parcoords": [
           {
            "line": {
             "colorbar": {
              "outlinewidth": 0,
              "ticks": ""
             }
            },
            "type": "parcoords"
           }
          ],
          "pie": [
           {
            "automargin": true,
            "type": "pie"
           }
          ],
          "scatter": [
           {
            "fillpattern": {
             "fillmode": "overlay",
             "size": 10,
             "solidity": 0.2
            },
            "type": "scatter"
           }
          ],
          "scatter3d": [
           {
            "line": {
             "colorbar": {
              "outlinewidth": 0,
              "ticks": ""
             }
            },
            "marker": {
             "colorbar": {
              "outlinewidth": 0,
              "ticks": ""
             }
            },
            "type": "scatter3d"
           }
          ],
          "scattercarpet": [
           {
            "marker": {
             "colorbar": {
              "outlinewidth": 0,
              "ticks": ""
             }
            },
            "type": "scattercarpet"
           }
          ],
          "scattergeo": [
           {
            "marker": {
             "colorbar": {
              "outlinewidth": 0,
              "ticks": ""
             }
            },
            "type": "scattergeo"
           }
          ],
          "scattergl": [
           {
            "marker": {
             "colorbar": {
              "outlinewidth": 0,
              "ticks": ""
             }
            },
            "type": "scattergl"
           }
          ],
          "scattermapbox": [
           {
            "marker": {
             "colorbar": {
              "outlinewidth": 0,
              "ticks": ""
             }
            },
            "type": "scattermapbox"
           }
          ],
          "scatterpolar": [
           {
            "marker": {
             "colorbar": {
              "outlinewidth": 0,
              "ticks": ""
             }
            },
            "type": "scatterpolar"
           }
          ],
          "scatterpolargl": [
           {
            "marker": {
             "colorbar": {
              "outlinewidth": 0,
              "ticks": ""
             }
            },
            "type": "scatterpolargl"
           }
          ],
          "scatterternary": [
           {
            "marker": {
             "colorbar": {
              "outlinewidth": 0,
              "ticks": ""
             }
            },
            "type": "scatterternary"
           }
          ],
          "surface": [
           {
            "colorbar": {
             "outlinewidth": 0,
             "ticks": ""
            },
            "colorscale": [
             [
              0,
              "#0d0887"
             ],
             [
              0.1111111111111111,
              "#46039f"
             ],
             [
              0.2222222222222222,
              "#7201a8"
             ],
             [
              0.3333333333333333,
              "#9c179e"
             ],
             [
              0.4444444444444444,
              "#bd3786"
             ],
             [
              0.5555555555555556,
              "#d8576b"
             ],
             [
              0.6666666666666666,
              "#ed7953"
             ],
             [
              0.7777777777777778,
              "#fb9f3a"
             ],
             [
              0.8888888888888888,
              "#fdca26"
             ],
             [
              1,
              "#f0f921"
             ]
            ],
            "type": "surface"
           }
          ],
          "table": [
           {
            "cells": {
             "fill": {
              "color": "#EBF0F8"
             },
             "line": {
              "color": "white"
             }
            },
            "header": {
             "fill": {
              "color": "#C8D4E3"
             },
             "line": {
              "color": "white"
             }
            },
            "type": "table"
           }
          ]
         },
         "layout": {
          "annotationdefaults": {
           "arrowcolor": "#2a3f5f",
           "arrowhead": 0,
           "arrowwidth": 1
          },
          "autotypenumbers": "strict",
          "coloraxis": {
           "colorbar": {
            "outlinewidth": 0,
            "ticks": ""
           }
          },
          "colorscale": {
           "diverging": [
            [
             0,
             "#8e0152"
            ],
            [
             0.1,
             "#c51b7d"
            ],
            [
             0.2,
             "#de77ae"
            ],
            [
             0.3,
             "#f1b6da"
            ],
            [
             0.4,
             "#fde0ef"
            ],
            [
             0.5,
             "#f7f7f7"
            ],
            [
             0.6,
             "#e6f5d0"
            ],
            [
             0.7,
             "#b8e186"
            ],
            [
             0.8,
             "#7fbc41"
            ],
            [
             0.9,
             "#4d9221"
            ],
            [
             1,
             "#276419"
            ]
           ],
           "sequential": [
            [
             0,
             "#0d0887"
            ],
            [
             0.1111111111111111,
             "#46039f"
            ],
            [
             0.2222222222222222,
             "#7201a8"
            ],
            [
             0.3333333333333333,
             "#9c179e"
            ],
            [
             0.4444444444444444,
             "#bd3786"
            ],
            [
             0.5555555555555556,
             "#d8576b"
            ],
            [
             0.6666666666666666,
             "#ed7953"
            ],
            [
             0.7777777777777778,
             "#fb9f3a"
            ],
            [
             0.8888888888888888,
             "#fdca26"
            ],
            [
             1,
             "#f0f921"
            ]
           ],
           "sequentialminus": [
            [
             0,
             "#0d0887"
            ],
            [
             0.1111111111111111,
             "#46039f"
            ],
            [
             0.2222222222222222,
             "#7201a8"
            ],
            [
             0.3333333333333333,
             "#9c179e"
            ],
            [
             0.4444444444444444,
             "#bd3786"
            ],
            [
             0.5555555555555556,
             "#d8576b"
            ],
            [
             0.6666666666666666,
             "#ed7953"
            ],
            [
             0.7777777777777778,
             "#fb9f3a"
            ],
            [
             0.8888888888888888,
             "#fdca26"
            ],
            [
             1,
             "#f0f921"
            ]
           ]
          },
          "colorway": [
           "#636efa",
           "#EF553B",
           "#00cc96",
           "#ab63fa",
           "#FFA15A",
           "#19d3f3",
           "#FF6692",
           "#B6E880",
           "#FF97FF",
           "#FECB52"
          ],
          "font": {
           "color": "#2a3f5f"
          },
          "geo": {
           "bgcolor": "white",
           "lakecolor": "white",
           "landcolor": "#E5ECF6",
           "showlakes": true,
           "showland": true,
           "subunitcolor": "white"
          },
          "hoverlabel": {
           "align": "left"
          },
          "hovermode": "closest",
          "mapbox": {
           "style": "light"
          },
          "paper_bgcolor": "white",
          "plot_bgcolor": "#E5ECF6",
          "polar": {
           "angularaxis": {
            "gridcolor": "white",
            "linecolor": "white",
            "ticks": ""
           },
           "bgcolor": "#E5ECF6",
           "radialaxis": {
            "gridcolor": "white",
            "linecolor": "white",
            "ticks": ""
           }
          },
          "scene": {
           "xaxis": {
            "backgroundcolor": "#E5ECF6",
            "gridcolor": "white",
            "gridwidth": 2,
            "linecolor": "white",
            "showbackground": true,
            "ticks": "",
            "zerolinecolor": "white"
           },
           "yaxis": {
            "backgroundcolor": "#E5ECF6",
            "gridcolor": "white",
            "gridwidth": 2,
            "linecolor": "white",
            "showbackground": true,
            "ticks": "",
            "zerolinecolor": "white"
           },
           "zaxis": {
            "backgroundcolor": "#E5ECF6",
            "gridcolor": "white",
            "gridwidth": 2,
            "linecolor": "white",
            "showbackground": true,
            "ticks": "",
            "zerolinecolor": "white"
           }
          },
          "shapedefaults": {
           "line": {
            "color": "#2a3f5f"
           }
          },
          "ternary": {
           "aaxis": {
            "gridcolor": "white",
            "linecolor": "white",
            "ticks": ""
           },
           "baxis": {
            "gridcolor": "white",
            "linecolor": "white",
            "ticks": ""
           },
           "bgcolor": "#E5ECF6",
           "caxis": {
            "gridcolor": "white",
            "linecolor": "white",
            "ticks": ""
           }
          },
          "title": {
           "x": 0.05
          },
          "xaxis": {
           "automargin": true,
           "gridcolor": "white",
           "linecolor": "white",
           "ticks": "",
           "title": {
            "standoff": 15
           },
           "zerolinecolor": "white",
           "zerolinewidth": 2
          },
          "yaxis": {
           "automargin": true,
           "gridcolor": "white",
           "linecolor": "white",
           "ticks": "",
           "title": {
            "standoff": 15
           },
           "zerolinecolor": "white",
           "zerolinewidth": 2
          }
         }
        },
        "title": {
         "text": "Parametric ReLU and Derivative "
        },
        "xaxis": {
         "title": {
          "text": "x"
         }
        },
        "yaxis": {
         "title": {
          "text": "y"
         }
        }
       }
      }
     },
     "metadata": {},
     "output_type": "display_data"
    },
    {
     "data": {
      "application/vnd.plotly.v1+json": {
       "config": {
        "plotlyServerURL": "https://plot.ly"
       },
       "data": [
        {
         "mode": "lines",
         "name": "PReLU function (alpha=0.25)",
         "type": "scatter",
         "x": [
          -3,
          -2.9393939393939394,
          -2.878787878787879,
          -2.8181818181818183,
          -2.757575757575758,
          -2.696969696969697,
          -2.6363636363636362,
          -2.5757575757575757,
          -2.515151515151515,
          -2.4545454545454546,
          -2.393939393939394,
          -2.333333333333333,
          -2.2727272727272725,
          -2.212121212121212,
          -2.1515151515151514,
          -2.090909090909091,
          -2.0303030303030303,
          -1.9696969696969697,
          -1.9090909090909092,
          -1.8484848484848484,
          -1.7878787878787878,
          -1.7272727272727273,
          -1.6666666666666665,
          -1.606060606060606,
          -1.5454545454545454,
          -1.4848484848484849,
          -1.4242424242424243,
          -1.3636363636363635,
          -1.303030303030303,
          -1.2424242424242424,
          -1.1818181818181817,
          -1.121212121212121,
          -1.0606060606060606,
          -1,
          -0.9393939393939394,
          -0.8787878787878789,
          -0.8181818181818183,
          -0.7575757575757573,
          -0.6969696969696968,
          -0.6363636363636362,
          -0.5757575757575757,
          -0.5151515151515151,
          -0.4545454545454546,
          -0.39393939393939403,
          -0.33333333333333304,
          -0.2727272727272725,
          -0.21212121212121193,
          -0.15151515151515138,
          -0.09090909090909083,
          -0.030303030303030276,
          0.030303030303030276,
          0.09090909090909083,
          0.15151515151515138,
          0.21212121212121238,
          0.27272727272727293,
          0.3333333333333335,
          0.39393939393939403,
          0.4545454545454546,
          0.5151515151515151,
          0.5757575757575757,
          0.6363636363636367,
          0.6969696969696972,
          0.7575757575757578,
          0.8181818181818183,
          0.8787878787878789,
          0.9393939393939394,
          1,
          1.0606060606060606,
          1.121212121212121,
          1.1818181818181817,
          1.2424242424242422,
          1.3030303030303028,
          1.3636363636363633,
          1.4242424242424248,
          1.4848484848484853,
          1.5454545454545459,
          1.6060606060606064,
          1.666666666666667,
          1.7272727272727275,
          1.787878787878788,
          1.8484848484848486,
          1.9090909090909092,
          1.9696969696969697,
          2.0303030303030303,
          2.090909090909091,
          2.1515151515151514,
          2.212121212121212,
          2.2727272727272725,
          2.333333333333334,
          2.3939393939393945,
          2.454545454545455,
          2.5151515151515156,
          2.575757575757576,
          2.6363636363636367,
          2.6969696969696972,
          2.757575757575758,
          2.8181818181818183,
          2.878787878787879,
          2.9393939393939394,
          3
         ],
         "y": [
          -0.75,
          -0.7348484848484849,
          -0.7196969696969697,
          -0.7045454545454546,
          -0.6893939393939394,
          -0.6742424242424242,
          -0.6590909090909091,
          -0.6439393939393939,
          -0.6287878787878788,
          -0.6136363636363636,
          -0.5984848484848485,
          -0.5833333333333333,
          -0.5681818181818181,
          -0.553030303030303,
          -0.5378787878787878,
          -0.5227272727272727,
          -0.5075757575757576,
          -0.49242424242424243,
          -0.4772727272727273,
          -0.4621212121212121,
          -0.44696969696969696,
          -0.4318181818181818,
          -0.41666666666666663,
          -0.4015151515151515,
          -0.38636363636363635,
          -0.3712121212121212,
          -0.3560606060606061,
          -0.3409090909090909,
          -0.32575757575757575,
          -0.3106060606060606,
          -0.2954545454545454,
          -0.2803030303030303,
          -0.26515151515151514,
          -0.25,
          -0.23484848484848486,
          -0.21969696969696972,
          -0.20454545454545459,
          -0.18939393939393934,
          -0.1742424242424242,
          -0.15909090909090906,
          -0.14393939393939392,
          -0.12878787878787878,
          -0.11363636363636365,
          -0.09848484848484851,
          -0.08333333333333326,
          -0.06818181818181812,
          -0.05303030303030298,
          -0.037878787878787845,
          -0.022727272727272707,
          -0.007575757575757569,
          0.030303030303030276,
          0.09090909090909083,
          0.15151515151515138,
          0.21212121212121238,
          0.27272727272727293,
          0.3333333333333335,
          0.39393939393939403,
          0.4545454545454546,
          0.5151515151515151,
          0.5757575757575757,
          0.6363636363636367,
          0.6969696969696972,
          0.7575757575757578,
          0.8181818181818183,
          0.8787878787878789,
          0.9393939393939394,
          1,
          1.0606060606060606,
          1.121212121212121,
          1.1818181818181817,
          1.2424242424242422,
          1.3030303030303028,
          1.3636363636363633,
          1.4242424242424248,
          1.4848484848484853,
          1.5454545454545459,
          1.6060606060606064,
          1.666666666666667,
          1.7272727272727275,
          1.787878787878788,
          1.8484848484848486,
          1.9090909090909092,
          1.9696969696969697,
          2.0303030303030303,
          2.090909090909091,
          2.1515151515151514,
          2.212121212121212,
          2.2727272727272725,
          2.333333333333334,
          2.3939393939393945,
          2.454545454545455,
          2.5151515151515156,
          2.575757575757576,
          2.6363636363636367,
          2.6969696969696972,
          2.757575757575758,
          2.8181818181818183,
          2.878787878787879,
          2.9393939393939394,
          3
         ]
        },
        {
         "mode": "lines",
         "name": "PReLU derivative (alpha=0.25)",
         "type": "scatter",
         "x": [
          -3,
          -2.9393939393939394,
          -2.878787878787879,
          -2.8181818181818183,
          -2.757575757575758,
          -2.696969696969697,
          -2.6363636363636362,
          -2.5757575757575757,
          -2.515151515151515,
          -2.4545454545454546,
          -2.393939393939394,
          -2.333333333333333,
          -2.2727272727272725,
          -2.212121212121212,
          -2.1515151515151514,
          -2.090909090909091,
          -2.0303030303030303,
          -1.9696969696969697,
          -1.9090909090909092,
          -1.8484848484848484,
          -1.7878787878787878,
          -1.7272727272727273,
          -1.6666666666666665,
          -1.606060606060606,
          -1.5454545454545454,
          -1.4848484848484849,
          -1.4242424242424243,
          -1.3636363636363635,
          -1.303030303030303,
          -1.2424242424242424,
          -1.1818181818181817,
          -1.121212121212121,
          -1.0606060606060606,
          -1,
          -0.9393939393939394,
          -0.8787878787878789,
          -0.8181818181818183,
          -0.7575757575757573,
          -0.6969696969696968,
          -0.6363636363636362,
          -0.5757575757575757,
          -0.5151515151515151,
          -0.4545454545454546,
          -0.39393939393939403,
          -0.33333333333333304,
          -0.2727272727272725,
          -0.21212121212121193,
          -0.15151515151515138,
          -0.09090909090909083,
          -0.030303030303030276,
          0.030303030303030276,
          0.09090909090909083,
          0.15151515151515138,
          0.21212121212121238,
          0.27272727272727293,
          0.3333333333333335,
          0.39393939393939403,
          0.4545454545454546,
          0.5151515151515151,
          0.5757575757575757,
          0.6363636363636367,
          0.6969696969696972,
          0.7575757575757578,
          0.8181818181818183,
          0.8787878787878789,
          0.9393939393939394,
          1,
          1.0606060606060606,
          1.121212121212121,
          1.1818181818181817,
          1.2424242424242422,
          1.3030303030303028,
          1.3636363636363633,
          1.4242424242424248,
          1.4848484848484853,
          1.5454545454545459,
          1.6060606060606064,
          1.666666666666667,
          1.7272727272727275,
          1.787878787878788,
          1.8484848484848486,
          1.9090909090909092,
          1.9696969696969697,
          2.0303030303030303,
          2.090909090909091,
          2.1515151515151514,
          2.212121212121212,
          2.2727272727272725,
          2.333333333333334,
          2.3939393939393945,
          2.454545454545455,
          2.5151515151515156,
          2.575757575757576,
          2.6363636363636367,
          2.6969696969696972,
          2.757575757575758,
          2.8181818181818183,
          2.878787878787879,
          2.9393939393939394,
          3
         ],
         "y": [
          0.25,
          0.25,
          0.25,
          0.25,
          0.25,
          0.25,
          0.25,
          0.25,
          0.25,
          0.25,
          0.25,
          0.25,
          0.25,
          0.25,
          0.25,
          0.25,
          0.25,
          0.25,
          0.25,
          0.25,
          0.25,
          0.25,
          0.25,
          0.25,
          0.25,
          0.25,
          0.25,
          0.25,
          0.25,
          0.25,
          0.25,
          0.25,
          0.25,
          0.25,
          0.25,
          0.25,
          0.25,
          0.25,
          0.25,
          0.25,
          0.25,
          0.25,
          0.25,
          0.25,
          0.25,
          0.25,
          0.25,
          0.25,
          0.25,
          0.25,
          1,
          1,
          1,
          1,
          1,
          1,
          1,
          1,
          1,
          1,
          1,
          1,
          1,
          1,
          1,
          1,
          1,
          1,
          1,
          1,
          1,
          1,
          1,
          1,
          1,
          1,
          1,
          1,
          1,
          1,
          1,
          1,
          1,
          1,
          1,
          1,
          1,
          1,
          1,
          1,
          1,
          1,
          1,
          1,
          1,
          1,
          1,
          1,
          1,
          1
         ]
        }
       ],
       "layout": {
        "showlegend": true,
        "template": {
         "data": {
          "bar": [
           {
            "error_x": {
             "color": "#2a3f5f"
            },
            "error_y": {
             "color": "#2a3f5f"
            },
            "marker": {
             "line": {
              "color": "#E5ECF6",
              "width": 0.5
             },
             "pattern": {
              "fillmode": "overlay",
              "size": 10,
              "solidity": 0.2
             }
            },
            "type": "bar"
           }
          ],
          "barpolar": [
           {
            "marker": {
             "line": {
              "color": "#E5ECF6",
              "width": 0.5
             },
             "pattern": {
              "fillmode": "overlay",
              "size": 10,
              "solidity": 0.2
             }
            },
            "type": "barpolar"
           }
          ],
          "carpet": [
           {
            "aaxis": {
             "endlinecolor": "#2a3f5f",
             "gridcolor": "white",
             "linecolor": "white",
             "minorgridcolor": "white",
             "startlinecolor": "#2a3f5f"
            },
            "baxis": {
             "endlinecolor": "#2a3f5f",
             "gridcolor": "white",
             "linecolor": "white",
             "minorgridcolor": "white",
             "startlinecolor": "#2a3f5f"
            },
            "type": "carpet"
           }
          ],
          "choropleth": [
           {
            "colorbar": {
             "outlinewidth": 0,
             "ticks": ""
            },
            "type": "choropleth"
           }
          ],
          "contour": [
           {
            "colorbar": {
             "outlinewidth": 0,
             "ticks": ""
            },
            "colorscale": [
             [
              0,
              "#0d0887"
             ],
             [
              0.1111111111111111,
              "#46039f"
             ],
             [
              0.2222222222222222,
              "#7201a8"
             ],
             [
              0.3333333333333333,
              "#9c179e"
             ],
             [
              0.4444444444444444,
              "#bd3786"
             ],
             [
              0.5555555555555556,
              "#d8576b"
             ],
             [
              0.6666666666666666,
              "#ed7953"
             ],
             [
              0.7777777777777778,
              "#fb9f3a"
             ],
             [
              0.8888888888888888,
              "#fdca26"
             ],
             [
              1,
              "#f0f921"
             ]
            ],
            "type": "contour"
           }
          ],
          "contourcarpet": [
           {
            "colorbar": {
             "outlinewidth": 0,
             "ticks": ""
            },
            "type": "contourcarpet"
           }
          ],
          "heatmap": [
           {
            "colorbar": {
             "outlinewidth": 0,
             "ticks": ""
            },
            "colorscale": [
             [
              0,
              "#0d0887"
             ],
             [
              0.1111111111111111,
              "#46039f"
             ],
             [
              0.2222222222222222,
              "#7201a8"
             ],
             [
              0.3333333333333333,
              "#9c179e"
             ],
             [
              0.4444444444444444,
              "#bd3786"
             ],
             [
              0.5555555555555556,
              "#d8576b"
             ],
             [
              0.6666666666666666,
              "#ed7953"
             ],
             [
              0.7777777777777778,
              "#fb9f3a"
             ],
             [
              0.8888888888888888,
              "#fdca26"
             ],
             [
              1,
              "#f0f921"
             ]
            ],
            "type": "heatmap"
           }
          ],
          "heatmapgl": [
           {
            "colorbar": {
             "outlinewidth": 0,
             "ticks": ""
            },
            "colorscale": [
             [
              0,
              "#0d0887"
             ],
             [
              0.1111111111111111,
              "#46039f"
             ],
             [
              0.2222222222222222,
              "#7201a8"
             ],
             [
              0.3333333333333333,
              "#9c179e"
             ],
             [
              0.4444444444444444,
              "#bd3786"
             ],
             [
              0.5555555555555556,
              "#d8576b"
             ],
             [
              0.6666666666666666,
              "#ed7953"
             ],
             [
              0.7777777777777778,
              "#fb9f3a"
             ],
             [
              0.8888888888888888,
              "#fdca26"
             ],
             [
              1,
              "#f0f921"
             ]
            ],
            "type": "heatmapgl"
           }
          ],
          "histogram": [
           {
            "marker": {
             "pattern": {
              "fillmode": "overlay",
              "size": 10,
              "solidity": 0.2
             }
            },
            "type": "histogram"
           }
          ],
          "histogram2d": [
           {
            "colorbar": {
             "outlinewidth": 0,
             "ticks": ""
            },
            "colorscale": [
             [
              0,
              "#0d0887"
             ],
             [
              0.1111111111111111,
              "#46039f"
             ],
             [
              0.2222222222222222,
              "#7201a8"
             ],
             [
              0.3333333333333333,
              "#9c179e"
             ],
             [
              0.4444444444444444,
              "#bd3786"
             ],
             [
              0.5555555555555556,
              "#d8576b"
             ],
             [
              0.6666666666666666,
              "#ed7953"
             ],
             [
              0.7777777777777778,
              "#fb9f3a"
             ],
             [
              0.8888888888888888,
              "#fdca26"
             ],
             [
              1,
              "#f0f921"
             ]
            ],
            "type": "histogram2d"
           }
          ],
          "histogram2dcontour": [
           {
            "colorbar": {
             "outlinewidth": 0,
             "ticks": ""
            },
            "colorscale": [
             [
              0,
              "#0d0887"
             ],
             [
              0.1111111111111111,
              "#46039f"
             ],
             [
              0.2222222222222222,
              "#7201a8"
             ],
             [
              0.3333333333333333,
              "#9c179e"
             ],
             [
              0.4444444444444444,
              "#bd3786"
             ],
             [
              0.5555555555555556,
              "#d8576b"
             ],
             [
              0.6666666666666666,
              "#ed7953"
             ],
             [
              0.7777777777777778,
              "#fb9f3a"
             ],
             [
              0.8888888888888888,
              "#fdca26"
             ],
             [
              1,
              "#f0f921"
             ]
            ],
            "type": "histogram2dcontour"
           }
          ],
          "mesh3d": [
           {
            "colorbar": {
             "outlinewidth": 0,
             "ticks": ""
            },
            "type": "mesh3d"
           }
          ],
          "parcoords": [
           {
            "line": {
             "colorbar": {
              "outlinewidth": 0,
              "ticks": ""
             }
            },
            "type": "parcoords"
           }
          ],
          "pie": [
           {
            "automargin": true,
            "type": "pie"
           }
          ],
          "scatter": [
           {
            "fillpattern": {
             "fillmode": "overlay",
             "size": 10,
             "solidity": 0.2
            },
            "type": "scatter"
           }
          ],
          "scatter3d": [
           {
            "line": {
             "colorbar": {
              "outlinewidth": 0,
              "ticks": ""
             }
            },
            "marker": {
             "colorbar": {
              "outlinewidth": 0,
              "ticks": ""
             }
            },
            "type": "scatter3d"
           }
          ],
          "scattercarpet": [
           {
            "marker": {
             "colorbar": {
              "outlinewidth": 0,
              "ticks": ""
             }
            },
            "type": "scattercarpet"
           }
          ],
          "scattergeo": [
           {
            "marker": {
             "colorbar": {
              "outlinewidth": 0,
              "ticks": ""
             }
            },
            "type": "scattergeo"
           }
          ],
          "scattergl": [
           {
            "marker": {
             "colorbar": {
              "outlinewidth": 0,
              "ticks": ""
             }
            },
            "type": "scattergl"
           }
          ],
          "scattermapbox": [
           {
            "marker": {
             "colorbar": {
              "outlinewidth": 0,
              "ticks": ""
             }
            },
            "type": "scattermapbox"
           }
          ],
          "scatterpolar": [
           {
            "marker": {
             "colorbar": {
              "outlinewidth": 0,
              "ticks": ""
             }
            },
            "type": "scatterpolar"
           }
          ],
          "scatterpolargl": [
           {
            "marker": {
             "colorbar": {
              "outlinewidth": 0,
              "ticks": ""
             }
            },
            "type": "scatterpolargl"
           }
          ],
          "scatterternary": [
           {
            "marker": {
             "colorbar": {
              "outlinewidth": 0,
              "ticks": ""
             }
            },
            "type": "scatterternary"
           }
          ],
          "surface": [
           {
            "colorbar": {
             "outlinewidth": 0,
             "ticks": ""
            },
            "colorscale": [
             [
              0,
              "#0d0887"
             ],
             [
              0.1111111111111111,
              "#46039f"
             ],
             [
              0.2222222222222222,
              "#7201a8"
             ],
             [
              0.3333333333333333,
              "#9c179e"
             ],
             [
              0.4444444444444444,
              "#bd3786"
             ],
             [
              0.5555555555555556,
              "#d8576b"
             ],
             [
              0.6666666666666666,
              "#ed7953"
             ],
             [
              0.7777777777777778,
              "#fb9f3a"
             ],
             [
              0.8888888888888888,
              "#fdca26"
             ],
             [
              1,
              "#f0f921"
             ]
            ],
            "type": "surface"
           }
          ],
          "table": [
           {
            "cells": {
             "fill": {
              "color": "#EBF0F8"
             },
             "line": {
              "color": "white"
             }
            },
            "header": {
             "fill": {
              "color": "#C8D4E3"
             },
             "line": {
              "color": "white"
             }
            },
            "type": "table"
           }
          ]
         },
         "layout": {
          "annotationdefaults": {
           "arrowcolor": "#2a3f5f",
           "arrowhead": 0,
           "arrowwidth": 1
          },
          "autotypenumbers": "strict",
          "coloraxis": {
           "colorbar": {
            "outlinewidth": 0,
            "ticks": ""
           }
          },
          "colorscale": {
           "diverging": [
            [
             0,
             "#8e0152"
            ],
            [
             0.1,
             "#c51b7d"
            ],
            [
             0.2,
             "#de77ae"
            ],
            [
             0.3,
             "#f1b6da"
            ],
            [
             0.4,
             "#fde0ef"
            ],
            [
             0.5,
             "#f7f7f7"
            ],
            [
             0.6,
             "#e6f5d0"
            ],
            [
             0.7,
             "#b8e186"
            ],
            [
             0.8,
             "#7fbc41"
            ],
            [
             0.9,
             "#4d9221"
            ],
            [
             1,
             "#276419"
            ]
           ],
           "sequential": [
            [
             0,
             "#0d0887"
            ],
            [
             0.1111111111111111,
             "#46039f"
            ],
            [
             0.2222222222222222,
             "#7201a8"
            ],
            [
             0.3333333333333333,
             "#9c179e"
            ],
            [
             0.4444444444444444,
             "#bd3786"
            ],
            [
             0.5555555555555556,
             "#d8576b"
            ],
            [
             0.6666666666666666,
             "#ed7953"
            ],
            [
             0.7777777777777778,
             "#fb9f3a"
            ],
            [
             0.8888888888888888,
             "#fdca26"
            ],
            [
             1,
             "#f0f921"
            ]
           ],
           "sequentialminus": [
            [
             0,
             "#0d0887"
            ],
            [
             0.1111111111111111,
             "#46039f"
            ],
            [
             0.2222222222222222,
             "#7201a8"
            ],
            [
             0.3333333333333333,
             "#9c179e"
            ],
            [
             0.4444444444444444,
             "#bd3786"
            ],
            [
             0.5555555555555556,
             "#d8576b"
            ],
            [
             0.6666666666666666,
             "#ed7953"
            ],
            [
             0.7777777777777778,
             "#fb9f3a"
            ],
            [
             0.8888888888888888,
             "#fdca26"
            ],
            [
             1,
             "#f0f921"
            ]
           ]
          },
          "colorway": [
           "#636efa",
           "#EF553B",
           "#00cc96",
           "#ab63fa",
           "#FFA15A",
           "#19d3f3",
           "#FF6692",
           "#B6E880",
           "#FF97FF",
           "#FECB52"
          ],
          "font": {
           "color": "#2a3f5f"
          },
          "geo": {
           "bgcolor": "white",
           "lakecolor": "white",
           "landcolor": "#E5ECF6",
           "showlakes": true,
           "showland": true,
           "subunitcolor": "white"
          },
          "hoverlabel": {
           "align": "left"
          },
          "hovermode": "closest",
          "mapbox": {
           "style": "light"
          },
          "paper_bgcolor": "white",
          "plot_bgcolor": "#E5ECF6",
          "polar": {
           "angularaxis": {
            "gridcolor": "white",
            "linecolor": "white",
            "ticks": ""
           },
           "bgcolor": "#E5ECF6",
           "radialaxis": {
            "gridcolor": "white",
            "linecolor": "white",
            "ticks": ""
           }
          },
          "scene": {
           "xaxis": {
            "backgroundcolor": "#E5ECF6",
            "gridcolor": "white",
            "gridwidth": 2,
            "linecolor": "white",
            "showbackground": true,
            "ticks": "",
            "zerolinecolor": "white"
           },
           "yaxis": {
            "backgroundcolor": "#E5ECF6",
            "gridcolor": "white",
            "gridwidth": 2,
            "linecolor": "white",
            "showbackground": true,
            "ticks": "",
            "zerolinecolor": "white"
           },
           "zaxis": {
            "backgroundcolor": "#E5ECF6",
            "gridcolor": "white",
            "gridwidth": 2,
            "linecolor": "white",
            "showbackground": true,
            "ticks": "",
            "zerolinecolor": "white"
           }
          },
          "shapedefaults": {
           "line": {
            "color": "#2a3f5f"
           }
          },
          "ternary": {
           "aaxis": {
            "gridcolor": "white",
            "linecolor": "white",
            "ticks": ""
           },
           "baxis": {
            "gridcolor": "white",
            "linecolor": "white",
            "ticks": ""
           },
           "bgcolor": "#E5ECF6",
           "caxis": {
            "gridcolor": "white",
            "linecolor": "white",
            "ticks": ""
           }
          },
          "title": {
           "x": 0.05
          },
          "xaxis": {
           "automargin": true,
           "gridcolor": "white",
           "linecolor": "white",
           "ticks": "",
           "title": {
            "standoff": 15
           },
           "zerolinecolor": "white",
           "zerolinewidth": 2
          },
          "yaxis": {
           "automargin": true,
           "gridcolor": "white",
           "linecolor": "white",
           "ticks": "",
           "title": {
            "standoff": 15
           },
           "zerolinecolor": "white",
           "zerolinewidth": 2
          }
         }
        },
        "title": {
         "text": "Parametric ReLU and Derivative "
        },
        "xaxis": {
         "title": {
          "text": "x"
         }
        },
        "yaxis": {
         "title": {
          "text": "y"
         }
        }
       }
      }
     },
     "metadata": {},
     "output_type": "display_data"
    },
    {
     "data": {
      "application/vnd.plotly.v1+json": {
       "config": {
        "plotlyServerURL": "https://plot.ly"
       },
       "data": [
        {
         "mode": "lines",
         "name": "PReLU function (alpha=0.2)",
         "type": "scatter",
         "x": [
          -3,
          -2.9393939393939394,
          -2.878787878787879,
          -2.8181818181818183,
          -2.757575757575758,
          -2.696969696969697,
          -2.6363636363636362,
          -2.5757575757575757,
          -2.515151515151515,
          -2.4545454545454546,
          -2.393939393939394,
          -2.333333333333333,
          -2.2727272727272725,
          -2.212121212121212,
          -2.1515151515151514,
          -2.090909090909091,
          -2.0303030303030303,
          -1.9696969696969697,
          -1.9090909090909092,
          -1.8484848484848484,
          -1.7878787878787878,
          -1.7272727272727273,
          -1.6666666666666665,
          -1.606060606060606,
          -1.5454545454545454,
          -1.4848484848484849,
          -1.4242424242424243,
          -1.3636363636363635,
          -1.303030303030303,
          -1.2424242424242424,
          -1.1818181818181817,
          -1.121212121212121,
          -1.0606060606060606,
          -1,
          -0.9393939393939394,
          -0.8787878787878789,
          -0.8181818181818183,
          -0.7575757575757573,
          -0.6969696969696968,
          -0.6363636363636362,
          -0.5757575757575757,
          -0.5151515151515151,
          -0.4545454545454546,
          -0.39393939393939403,
          -0.33333333333333304,
          -0.2727272727272725,
          -0.21212121212121193,
          -0.15151515151515138,
          -0.09090909090909083,
          -0.030303030303030276,
          0.030303030303030276,
          0.09090909090909083,
          0.15151515151515138,
          0.21212121212121238,
          0.27272727272727293,
          0.3333333333333335,
          0.39393939393939403,
          0.4545454545454546,
          0.5151515151515151,
          0.5757575757575757,
          0.6363636363636367,
          0.6969696969696972,
          0.7575757575757578,
          0.8181818181818183,
          0.8787878787878789,
          0.9393939393939394,
          1,
          1.0606060606060606,
          1.121212121212121,
          1.1818181818181817,
          1.2424242424242422,
          1.3030303030303028,
          1.3636363636363633,
          1.4242424242424248,
          1.4848484848484853,
          1.5454545454545459,
          1.6060606060606064,
          1.666666666666667,
          1.7272727272727275,
          1.787878787878788,
          1.8484848484848486,
          1.9090909090909092,
          1.9696969696969697,
          2.0303030303030303,
          2.090909090909091,
          2.1515151515151514,
          2.212121212121212,
          2.2727272727272725,
          2.333333333333334,
          2.3939393939393945,
          2.454545454545455,
          2.5151515151515156,
          2.575757575757576,
          2.6363636363636367,
          2.6969696969696972,
          2.757575757575758,
          2.8181818181818183,
          2.878787878787879,
          2.9393939393939394,
          3
         ],
         "y": [
          -0.6000000000000001,
          -0.5878787878787879,
          -0.5757575757575758,
          -0.5636363636363637,
          -0.5515151515151516,
          -0.5393939393939394,
          -0.5272727272727272,
          -0.5151515151515151,
          -0.503030303030303,
          -0.49090909090909096,
          -0.4787878787878788,
          -0.4666666666666666,
          -0.45454545454545453,
          -0.4424242424242424,
          -0.4303030303030303,
          -0.4181818181818182,
          -0.40606060606060607,
          -0.393939393939394,
          -0.38181818181818183,
          -0.3696969696969697,
          -0.3575757575757576,
          -0.34545454545454546,
          -0.3333333333333333,
          -0.3212121212121212,
          -0.3090909090909091,
          -0.296969696969697,
          -0.28484848484848485,
          -0.2727272727272727,
          -0.2606060606060606,
          -0.2484848484848485,
          -0.23636363636363633,
          -0.22424242424242424,
          -0.21212121212121213,
          -0.2,
          -0.1878787878787879,
          -0.17575757575757578,
          -0.1636363636363637,
          -0.1515151515151515,
          -0.13939393939393938,
          -0.12727272727272726,
          -0.11515151515151514,
          -0.10303030303030303,
          -0.09090909090909093,
          -0.07878787878787881,
          -0.06666666666666661,
          -0.0545454545454545,
          -0.04242424242424239,
          -0.030303030303030276,
          -0.018181818181818167,
          -0.006060606060606055,
          0.030303030303030276,
          0.09090909090909083,
          0.15151515151515138,
          0.21212121212121238,
          0.27272727272727293,
          0.3333333333333335,
          0.39393939393939403,
          0.4545454545454546,
          0.5151515151515151,
          0.5757575757575757,
          0.6363636363636367,
          0.6969696969696972,
          0.7575757575757578,
          0.8181818181818183,
          0.8787878787878789,
          0.9393939393939394,
          1,
          1.0606060606060606,
          1.121212121212121,
          1.1818181818181817,
          1.2424242424242422,
          1.3030303030303028,
          1.3636363636363633,
          1.4242424242424248,
          1.4848484848484853,
          1.5454545454545459,
          1.6060606060606064,
          1.666666666666667,
          1.7272727272727275,
          1.787878787878788,
          1.8484848484848486,
          1.9090909090909092,
          1.9696969696969697,
          2.0303030303030303,
          2.090909090909091,
          2.1515151515151514,
          2.212121212121212,
          2.2727272727272725,
          2.333333333333334,
          2.3939393939393945,
          2.454545454545455,
          2.5151515151515156,
          2.575757575757576,
          2.6363636363636367,
          2.6969696969696972,
          2.757575757575758,
          2.8181818181818183,
          2.878787878787879,
          2.9393939393939394,
          3
         ]
        },
        {
         "mode": "lines",
         "name": "PReLU derivative (alpha=0.2)",
         "type": "scatter",
         "x": [
          -3,
          -2.9393939393939394,
          -2.878787878787879,
          -2.8181818181818183,
          -2.757575757575758,
          -2.696969696969697,
          -2.6363636363636362,
          -2.5757575757575757,
          -2.515151515151515,
          -2.4545454545454546,
          -2.393939393939394,
          -2.333333333333333,
          -2.2727272727272725,
          -2.212121212121212,
          -2.1515151515151514,
          -2.090909090909091,
          -2.0303030303030303,
          -1.9696969696969697,
          -1.9090909090909092,
          -1.8484848484848484,
          -1.7878787878787878,
          -1.7272727272727273,
          -1.6666666666666665,
          -1.606060606060606,
          -1.5454545454545454,
          -1.4848484848484849,
          -1.4242424242424243,
          -1.3636363636363635,
          -1.303030303030303,
          -1.2424242424242424,
          -1.1818181818181817,
          -1.121212121212121,
          -1.0606060606060606,
          -1,
          -0.9393939393939394,
          -0.8787878787878789,
          -0.8181818181818183,
          -0.7575757575757573,
          -0.6969696969696968,
          -0.6363636363636362,
          -0.5757575757575757,
          -0.5151515151515151,
          -0.4545454545454546,
          -0.39393939393939403,
          -0.33333333333333304,
          -0.2727272727272725,
          -0.21212121212121193,
          -0.15151515151515138,
          -0.09090909090909083,
          -0.030303030303030276,
          0.030303030303030276,
          0.09090909090909083,
          0.15151515151515138,
          0.21212121212121238,
          0.27272727272727293,
          0.3333333333333335,
          0.39393939393939403,
          0.4545454545454546,
          0.5151515151515151,
          0.5757575757575757,
          0.6363636363636367,
          0.6969696969696972,
          0.7575757575757578,
          0.8181818181818183,
          0.8787878787878789,
          0.9393939393939394,
          1,
          1.0606060606060606,
          1.121212121212121,
          1.1818181818181817,
          1.2424242424242422,
          1.3030303030303028,
          1.3636363636363633,
          1.4242424242424248,
          1.4848484848484853,
          1.5454545454545459,
          1.6060606060606064,
          1.666666666666667,
          1.7272727272727275,
          1.787878787878788,
          1.8484848484848486,
          1.9090909090909092,
          1.9696969696969697,
          2.0303030303030303,
          2.090909090909091,
          2.1515151515151514,
          2.212121212121212,
          2.2727272727272725,
          2.333333333333334,
          2.3939393939393945,
          2.454545454545455,
          2.5151515151515156,
          2.575757575757576,
          2.6363636363636367,
          2.6969696969696972,
          2.757575757575758,
          2.8181818181818183,
          2.878787878787879,
          2.9393939393939394,
          3
         ],
         "y": [
          0.2,
          0.2,
          0.2,
          0.2,
          0.2,
          0.2,
          0.2,
          0.2,
          0.2,
          0.2,
          0.2,
          0.2,
          0.2,
          0.2,
          0.2,
          0.2,
          0.2,
          0.2,
          0.2,
          0.2,
          0.2,
          0.2,
          0.2,
          0.2,
          0.2,
          0.2,
          0.2,
          0.2,
          0.2,
          0.2,
          0.2,
          0.2,
          0.2,
          0.2,
          0.2,
          0.2,
          0.2,
          0.2,
          0.2,
          0.2,
          0.2,
          0.2,
          0.2,
          0.2,
          0.2,
          0.2,
          0.2,
          0.2,
          0.2,
          0.2,
          1,
          1,
          1,
          1,
          1,
          1,
          1,
          1,
          1,
          1,
          1,
          1,
          1,
          1,
          1,
          1,
          1,
          1,
          1,
          1,
          1,
          1,
          1,
          1,
          1,
          1,
          1,
          1,
          1,
          1,
          1,
          1,
          1,
          1,
          1,
          1,
          1,
          1,
          1,
          1,
          1,
          1,
          1,
          1,
          1,
          1,
          1,
          1,
          1,
          1
         ]
        }
       ],
       "layout": {
        "showlegend": true,
        "template": {
         "data": {
          "bar": [
           {
            "error_x": {
             "color": "#2a3f5f"
            },
            "error_y": {
             "color": "#2a3f5f"
            },
            "marker": {
             "line": {
              "color": "#E5ECF6",
              "width": 0.5
             },
             "pattern": {
              "fillmode": "overlay",
              "size": 10,
              "solidity": 0.2
             }
            },
            "type": "bar"
           }
          ],
          "barpolar": [
           {
            "marker": {
             "line": {
              "color": "#E5ECF6",
              "width": 0.5
             },
             "pattern": {
              "fillmode": "overlay",
              "size": 10,
              "solidity": 0.2
             }
            },
            "type": "barpolar"
           }
          ],
          "carpet": [
           {
            "aaxis": {
             "endlinecolor": "#2a3f5f",
             "gridcolor": "white",
             "linecolor": "white",
             "minorgridcolor": "white",
             "startlinecolor": "#2a3f5f"
            },
            "baxis": {
             "endlinecolor": "#2a3f5f",
             "gridcolor": "white",
             "linecolor": "white",
             "minorgridcolor": "white",
             "startlinecolor": "#2a3f5f"
            },
            "type": "carpet"
           }
          ],
          "choropleth": [
           {
            "colorbar": {
             "outlinewidth": 0,
             "ticks": ""
            },
            "type": "choropleth"
           }
          ],
          "contour": [
           {
            "colorbar": {
             "outlinewidth": 0,
             "ticks": ""
            },
            "colorscale": [
             [
              0,
              "#0d0887"
             ],
             [
              0.1111111111111111,
              "#46039f"
             ],
             [
              0.2222222222222222,
              "#7201a8"
             ],
             [
              0.3333333333333333,
              "#9c179e"
             ],
             [
              0.4444444444444444,
              "#bd3786"
             ],
             [
              0.5555555555555556,
              "#d8576b"
             ],
             [
              0.6666666666666666,
              "#ed7953"
             ],
             [
              0.7777777777777778,
              "#fb9f3a"
             ],
             [
              0.8888888888888888,
              "#fdca26"
             ],
             [
              1,
              "#f0f921"
             ]
            ],
            "type": "contour"
           }
          ],
          "contourcarpet": [
           {
            "colorbar": {
             "outlinewidth": 0,
             "ticks": ""
            },
            "type": "contourcarpet"
           }
          ],
          "heatmap": [
           {
            "colorbar": {
             "outlinewidth": 0,
             "ticks": ""
            },
            "colorscale": [
             [
              0,
              "#0d0887"
             ],
             [
              0.1111111111111111,
              "#46039f"
             ],
             [
              0.2222222222222222,
              "#7201a8"
             ],
             [
              0.3333333333333333,
              "#9c179e"
             ],
             [
              0.4444444444444444,
              "#bd3786"
             ],
             [
              0.5555555555555556,
              "#d8576b"
             ],
             [
              0.6666666666666666,
              "#ed7953"
             ],
             [
              0.7777777777777778,
              "#fb9f3a"
             ],
             [
              0.8888888888888888,
              "#fdca26"
             ],
             [
              1,
              "#f0f921"
             ]
            ],
            "type": "heatmap"
           }
          ],
          "heatmapgl": [
           {
            "colorbar": {
             "outlinewidth": 0,
             "ticks": ""
            },
            "colorscale": [
             [
              0,
              "#0d0887"
             ],
             [
              0.1111111111111111,
              "#46039f"
             ],
             [
              0.2222222222222222,
              "#7201a8"
             ],
             [
              0.3333333333333333,
              "#9c179e"
             ],
             [
              0.4444444444444444,
              "#bd3786"
             ],
             [
              0.5555555555555556,
              "#d8576b"
             ],
             [
              0.6666666666666666,
              "#ed7953"
             ],
             [
              0.7777777777777778,
              "#fb9f3a"
             ],
             [
              0.8888888888888888,
              "#fdca26"
             ],
             [
              1,
              "#f0f921"
             ]
            ],
            "type": "heatmapgl"
           }
          ],
          "histogram": [
           {
            "marker": {
             "pattern": {
              "fillmode": "overlay",
              "size": 10,
              "solidity": 0.2
             }
            },
            "type": "histogram"
           }
          ],
          "histogram2d": [
           {
            "colorbar": {
             "outlinewidth": 0,
             "ticks": ""
            },
            "colorscale": [
             [
              0,
              "#0d0887"
             ],
             [
              0.1111111111111111,
              "#46039f"
             ],
             [
              0.2222222222222222,
              "#7201a8"
             ],
             [
              0.3333333333333333,
              "#9c179e"
             ],
             [
              0.4444444444444444,
              "#bd3786"
             ],
             [
              0.5555555555555556,
              "#d8576b"
             ],
             [
              0.6666666666666666,
              "#ed7953"
             ],
             [
              0.7777777777777778,
              "#fb9f3a"
             ],
             [
              0.8888888888888888,
              "#fdca26"
             ],
             [
              1,
              "#f0f921"
             ]
            ],
            "type": "histogram2d"
           }
          ],
          "histogram2dcontour": [
           {
            "colorbar": {
             "outlinewidth": 0,
             "ticks": ""
            },
            "colorscale": [
             [
              0,
              "#0d0887"
             ],
             [
              0.1111111111111111,
              "#46039f"
             ],
             [
              0.2222222222222222,
              "#7201a8"
             ],
             [
              0.3333333333333333,
              "#9c179e"
             ],
             [
              0.4444444444444444,
              "#bd3786"
             ],
             [
              0.5555555555555556,
              "#d8576b"
             ],
             [
              0.6666666666666666,
              "#ed7953"
             ],
             [
              0.7777777777777778,
              "#fb9f3a"
             ],
             [
              0.8888888888888888,
              "#fdca26"
             ],
             [
              1,
              "#f0f921"
             ]
            ],
            "type": "histogram2dcontour"
           }
          ],
          "mesh3d": [
           {
            "colorbar": {
             "outlinewidth": 0,
             "ticks": ""
            },
            "type": "mesh3d"
           }
          ],
          "parcoords": [
           {
            "line": {
             "colorbar": {
              "outlinewidth": 0,
              "ticks": ""
             }
            },
            "type": "parcoords"
           }
          ],
          "pie": [
           {
            "automargin": true,
            "type": "pie"
           }
          ],
          "scatter": [
           {
            "fillpattern": {
             "fillmode": "overlay",
             "size": 10,
             "solidity": 0.2
            },
            "type": "scatter"
           }
          ],
          "scatter3d": [
           {
            "line": {
             "colorbar": {
              "outlinewidth": 0,
              "ticks": ""
             }
            },
            "marker": {
             "colorbar": {
              "outlinewidth": 0,
              "ticks": ""
             }
            },
            "type": "scatter3d"
           }
          ],
          "scattercarpet": [
           {
            "marker": {
             "colorbar": {
              "outlinewidth": 0,
              "ticks": ""
             }
            },
            "type": "scattercarpet"
           }
          ],
          "scattergeo": [
           {
            "marker": {
             "colorbar": {
              "outlinewidth": 0,
              "ticks": ""
             }
            },
            "type": "scattergeo"
           }
          ],
          "scattergl": [
           {
            "marker": {
             "colorbar": {
              "outlinewidth": 0,
              "ticks": ""
             }
            },
            "type": "scattergl"
           }
          ],
          "scattermapbox": [
           {
            "marker": {
             "colorbar": {
              "outlinewidth": 0,
              "ticks": ""
             }
            },
            "type": "scattermapbox"
           }
          ],
          "scatterpolar": [
           {
            "marker": {
             "colorbar": {
              "outlinewidth": 0,
              "ticks": ""
             }
            },
            "type": "scatterpolar"
           }
          ],
          "scatterpolargl": [
           {
            "marker": {
             "colorbar": {
              "outlinewidth": 0,
              "ticks": ""
             }
            },
            "type": "scatterpolargl"
           }
          ],
          "scatterternary": [
           {
            "marker": {
             "colorbar": {
              "outlinewidth": 0,
              "ticks": ""
             }
            },
            "type": "scatterternary"
           }
          ],
          "surface": [
           {
            "colorbar": {
             "outlinewidth": 0,
             "ticks": ""
            },
            "colorscale": [
             [
              0,
              "#0d0887"
             ],
             [
              0.1111111111111111,
              "#46039f"
             ],
             [
              0.2222222222222222,
              "#7201a8"
             ],
             [
              0.3333333333333333,
              "#9c179e"
             ],
             [
              0.4444444444444444,
              "#bd3786"
             ],
             [
              0.5555555555555556,
              "#d8576b"
             ],
             [
              0.6666666666666666,
              "#ed7953"
             ],
             [
              0.7777777777777778,
              "#fb9f3a"
             ],
             [
              0.8888888888888888,
              "#fdca26"
             ],
             [
              1,
              "#f0f921"
             ]
            ],
            "type": "surface"
           }
          ],
          "table": [
           {
            "cells": {
             "fill": {
              "color": "#EBF0F8"
             },
             "line": {
              "color": "white"
             }
            },
            "header": {
             "fill": {
              "color": "#C8D4E3"
             },
             "line": {
              "color": "white"
             }
            },
            "type": "table"
           }
          ]
         },
         "layout": {
          "annotationdefaults": {
           "arrowcolor": "#2a3f5f",
           "arrowhead": 0,
           "arrowwidth": 1
          },
          "autotypenumbers": "strict",
          "coloraxis": {
           "colorbar": {
            "outlinewidth": 0,
            "ticks": ""
           }
          },
          "colorscale": {
           "diverging": [
            [
             0,
             "#8e0152"
            ],
            [
             0.1,
             "#c51b7d"
            ],
            [
             0.2,
             "#de77ae"
            ],
            [
             0.3,
             "#f1b6da"
            ],
            [
             0.4,
             "#fde0ef"
            ],
            [
             0.5,
             "#f7f7f7"
            ],
            [
             0.6,
             "#e6f5d0"
            ],
            [
             0.7,
             "#b8e186"
            ],
            [
             0.8,
             "#7fbc41"
            ],
            [
             0.9,
             "#4d9221"
            ],
            [
             1,
             "#276419"
            ]
           ],
           "sequential": [
            [
             0,
             "#0d0887"
            ],
            [
             0.1111111111111111,
             "#46039f"
            ],
            [
             0.2222222222222222,
             "#7201a8"
            ],
            [
             0.3333333333333333,
             "#9c179e"
            ],
            [
             0.4444444444444444,
             "#bd3786"
            ],
            [
             0.5555555555555556,
             "#d8576b"
            ],
            [
             0.6666666666666666,
             "#ed7953"
            ],
            [
             0.7777777777777778,
             "#fb9f3a"
            ],
            [
             0.8888888888888888,
             "#fdca26"
            ],
            [
             1,
             "#f0f921"
            ]
           ],
           "sequentialminus": [
            [
             0,
             "#0d0887"
            ],
            [
             0.1111111111111111,
             "#46039f"
            ],
            [
             0.2222222222222222,
             "#7201a8"
            ],
            [
             0.3333333333333333,
             "#9c179e"
            ],
            [
             0.4444444444444444,
             "#bd3786"
            ],
            [
             0.5555555555555556,
             "#d8576b"
            ],
            [
             0.6666666666666666,
             "#ed7953"
            ],
            [
             0.7777777777777778,
             "#fb9f3a"
            ],
            [
             0.8888888888888888,
             "#fdca26"
            ],
            [
             1,
             "#f0f921"
            ]
           ]
          },
          "colorway": [
           "#636efa",
           "#EF553B",
           "#00cc96",
           "#ab63fa",
           "#FFA15A",
           "#19d3f3",
           "#FF6692",
           "#B6E880",
           "#FF97FF",
           "#FECB52"
          ],
          "font": {
           "color": "#2a3f5f"
          },
          "geo": {
           "bgcolor": "white",
           "lakecolor": "white",
           "landcolor": "#E5ECF6",
           "showlakes": true,
           "showland": true,
           "subunitcolor": "white"
          },
          "hoverlabel": {
           "align": "left"
          },
          "hovermode": "closest",
          "mapbox": {
           "style": "light"
          },
          "paper_bgcolor": "white",
          "plot_bgcolor": "#E5ECF6",
          "polar": {
           "angularaxis": {
            "gridcolor": "white",
            "linecolor": "white",
            "ticks": ""
           },
           "bgcolor": "#E5ECF6",
           "radialaxis": {
            "gridcolor": "white",
            "linecolor": "white",
            "ticks": ""
           }
          },
          "scene": {
           "xaxis": {
            "backgroundcolor": "#E5ECF6",
            "gridcolor": "white",
            "gridwidth": 2,
            "linecolor": "white",
            "showbackground": true,
            "ticks": "",
            "zerolinecolor": "white"
           },
           "yaxis": {
            "backgroundcolor": "#E5ECF6",
            "gridcolor": "white",
            "gridwidth": 2,
            "linecolor": "white",
            "showbackground": true,
            "ticks": "",
            "zerolinecolor": "white"
           },
           "zaxis": {
            "backgroundcolor": "#E5ECF6",
            "gridcolor": "white",
            "gridwidth": 2,
            "linecolor": "white",
            "showbackground": true,
            "ticks": "",
            "zerolinecolor": "white"
           }
          },
          "shapedefaults": {
           "line": {
            "color": "#2a3f5f"
           }
          },
          "ternary": {
           "aaxis": {
            "gridcolor": "white",
            "linecolor": "white",
            "ticks": ""
           },
           "baxis": {
            "gridcolor": "white",
            "linecolor": "white",
            "ticks": ""
           },
           "bgcolor": "#E5ECF6",
           "caxis": {
            "gridcolor": "white",
            "linecolor": "white",
            "ticks": ""
           }
          },
          "title": {
           "x": 0.05
          },
          "xaxis": {
           "automargin": true,
           "gridcolor": "white",
           "linecolor": "white",
           "ticks": "",
           "title": {
            "standoff": 15
           },
           "zerolinecolor": "white",
           "zerolinewidth": 2
          },
          "yaxis": {
           "automargin": true,
           "gridcolor": "white",
           "linecolor": "white",
           "ticks": "",
           "title": {
            "standoff": 15
           },
           "zerolinecolor": "white",
           "zerolinewidth": 2
          }
         }
        },
        "title": {
         "text": "Parametric ReLU and Derivative "
        },
        "xaxis": {
         "title": {
          "text": "x"
         }
        },
        "yaxis": {
         "title": {
          "text": "y"
         }
        }
       }
      }
     },
     "metadata": {},
     "output_type": "display_data"
    },
    {
     "data": {
      "application/vnd.plotly.v1+json": {
       "config": {
        "plotlyServerURL": "https://plot.ly"
       },
       "data": [
        {
         "mode": "lines",
         "name": "PReLU function (alpha=0.19)",
         "type": "scatter",
         "x": [
          -3,
          -2.9393939393939394,
          -2.878787878787879,
          -2.8181818181818183,
          -2.757575757575758,
          -2.696969696969697,
          -2.6363636363636362,
          -2.5757575757575757,
          -2.515151515151515,
          -2.4545454545454546,
          -2.393939393939394,
          -2.333333333333333,
          -2.2727272727272725,
          -2.212121212121212,
          -2.1515151515151514,
          -2.090909090909091,
          -2.0303030303030303,
          -1.9696969696969697,
          -1.9090909090909092,
          -1.8484848484848484,
          -1.7878787878787878,
          -1.7272727272727273,
          -1.6666666666666665,
          -1.606060606060606,
          -1.5454545454545454,
          -1.4848484848484849,
          -1.4242424242424243,
          -1.3636363636363635,
          -1.303030303030303,
          -1.2424242424242424,
          -1.1818181818181817,
          -1.121212121212121,
          -1.0606060606060606,
          -1,
          -0.9393939393939394,
          -0.8787878787878789,
          -0.8181818181818183,
          -0.7575757575757573,
          -0.6969696969696968,
          -0.6363636363636362,
          -0.5757575757575757,
          -0.5151515151515151,
          -0.4545454545454546,
          -0.39393939393939403,
          -0.33333333333333304,
          -0.2727272727272725,
          -0.21212121212121193,
          -0.15151515151515138,
          -0.09090909090909083,
          -0.030303030303030276,
          0.030303030303030276,
          0.09090909090909083,
          0.15151515151515138,
          0.21212121212121238,
          0.27272727272727293,
          0.3333333333333335,
          0.39393939393939403,
          0.4545454545454546,
          0.5151515151515151,
          0.5757575757575757,
          0.6363636363636367,
          0.6969696969696972,
          0.7575757575757578,
          0.8181818181818183,
          0.8787878787878789,
          0.9393939393939394,
          1,
          1.0606060606060606,
          1.121212121212121,
          1.1818181818181817,
          1.2424242424242422,
          1.3030303030303028,
          1.3636363636363633,
          1.4242424242424248,
          1.4848484848484853,
          1.5454545454545459,
          1.6060606060606064,
          1.666666666666667,
          1.7272727272727275,
          1.787878787878788,
          1.8484848484848486,
          1.9090909090909092,
          1.9696969696969697,
          2.0303030303030303,
          2.090909090909091,
          2.1515151515151514,
          2.212121212121212,
          2.2727272727272725,
          2.333333333333334,
          2.3939393939393945,
          2.454545454545455,
          2.5151515151515156,
          2.575757575757576,
          2.6363636363636367,
          2.6969696969696972,
          2.757575757575758,
          2.8181818181818183,
          2.878787878787879,
          2.9393939393939394,
          3
         ],
         "y": [
          -0.5700000000000001,
          -0.5584848484848485,
          -0.546969696969697,
          -0.5354545454545455,
          -0.523939393939394,
          -0.5124242424242424,
          -0.5009090909090909,
          -0.4893939393939394,
          -0.4778787878787879,
          -0.46636363636363637,
          -0.4548484848484849,
          -0.4433333333333333,
          -0.43181818181818177,
          -0.4203030303030303,
          -0.40878787878787876,
          -0.3972727272727273,
          -0.38575757575757574,
          -0.37424242424242427,
          -0.36272727272727273,
          -0.3512121212121212,
          -0.3396969696969697,
          -0.3281818181818182,
          -0.31666666666666665,
          -0.3051515151515151,
          -0.29363636363636364,
          -0.2821212121212121,
          -0.2706060606060606,
          -0.2590909090909091,
          -0.24757575757575756,
          -0.23606060606060605,
          -0.22454545454545452,
          -0.21303030303030301,
          -0.2015151515151515,
          -0.19,
          -0.1784848484848485,
          -0.166969696969697,
          -0.15545454545454548,
          -0.1439393939393939,
          -0.1324242424242424,
          -0.12090909090909088,
          -0.10939393939393938,
          -0.09787878787878787,
          -0.08636363636363638,
          -0.07484848484848487,
          -0.06333333333333328,
          -0.05181818181818177,
          -0.04030303030303027,
          -0.02878787878787876,
          -0.01727272727272726,
          -0.005757575757575752,
          0.030303030303030276,
          0.09090909090909083,
          0.15151515151515138,
          0.21212121212121238,
          0.27272727272727293,
          0.3333333333333335,
          0.39393939393939403,
          0.4545454545454546,
          0.5151515151515151,
          0.5757575757575757,
          0.6363636363636367,
          0.6969696969696972,
          0.7575757575757578,
          0.8181818181818183,
          0.8787878787878789,
          0.9393939393939394,
          1,
          1.0606060606060606,
          1.121212121212121,
          1.1818181818181817,
          1.2424242424242422,
          1.3030303030303028,
          1.3636363636363633,
          1.4242424242424248,
          1.4848484848484853,
          1.5454545454545459,
          1.6060606060606064,
          1.666666666666667,
          1.7272727272727275,
          1.787878787878788,
          1.8484848484848486,
          1.9090909090909092,
          1.9696969696969697,
          2.0303030303030303,
          2.090909090909091,
          2.1515151515151514,
          2.212121212121212,
          2.2727272727272725,
          2.333333333333334,
          2.3939393939393945,
          2.454545454545455,
          2.5151515151515156,
          2.575757575757576,
          2.6363636363636367,
          2.6969696969696972,
          2.757575757575758,
          2.8181818181818183,
          2.878787878787879,
          2.9393939393939394,
          3
         ]
        },
        {
         "mode": "lines",
         "name": "PReLU derivative (alpha=0.19)",
         "type": "scatter",
         "x": [
          -3,
          -2.9393939393939394,
          -2.878787878787879,
          -2.8181818181818183,
          -2.757575757575758,
          -2.696969696969697,
          -2.6363636363636362,
          -2.5757575757575757,
          -2.515151515151515,
          -2.4545454545454546,
          -2.393939393939394,
          -2.333333333333333,
          -2.2727272727272725,
          -2.212121212121212,
          -2.1515151515151514,
          -2.090909090909091,
          -2.0303030303030303,
          -1.9696969696969697,
          -1.9090909090909092,
          -1.8484848484848484,
          -1.7878787878787878,
          -1.7272727272727273,
          -1.6666666666666665,
          -1.606060606060606,
          -1.5454545454545454,
          -1.4848484848484849,
          -1.4242424242424243,
          -1.3636363636363635,
          -1.303030303030303,
          -1.2424242424242424,
          -1.1818181818181817,
          -1.121212121212121,
          -1.0606060606060606,
          -1,
          -0.9393939393939394,
          -0.8787878787878789,
          -0.8181818181818183,
          -0.7575757575757573,
          -0.6969696969696968,
          -0.6363636363636362,
          -0.5757575757575757,
          -0.5151515151515151,
          -0.4545454545454546,
          -0.39393939393939403,
          -0.33333333333333304,
          -0.2727272727272725,
          -0.21212121212121193,
          -0.15151515151515138,
          -0.09090909090909083,
          -0.030303030303030276,
          0.030303030303030276,
          0.09090909090909083,
          0.15151515151515138,
          0.21212121212121238,
          0.27272727272727293,
          0.3333333333333335,
          0.39393939393939403,
          0.4545454545454546,
          0.5151515151515151,
          0.5757575757575757,
          0.6363636363636367,
          0.6969696969696972,
          0.7575757575757578,
          0.8181818181818183,
          0.8787878787878789,
          0.9393939393939394,
          1,
          1.0606060606060606,
          1.121212121212121,
          1.1818181818181817,
          1.2424242424242422,
          1.3030303030303028,
          1.3636363636363633,
          1.4242424242424248,
          1.4848484848484853,
          1.5454545454545459,
          1.6060606060606064,
          1.666666666666667,
          1.7272727272727275,
          1.787878787878788,
          1.8484848484848486,
          1.9090909090909092,
          1.9696969696969697,
          2.0303030303030303,
          2.090909090909091,
          2.1515151515151514,
          2.212121212121212,
          2.2727272727272725,
          2.333333333333334,
          2.3939393939393945,
          2.454545454545455,
          2.5151515151515156,
          2.575757575757576,
          2.6363636363636367,
          2.6969696969696972,
          2.757575757575758,
          2.8181818181818183,
          2.878787878787879,
          2.9393939393939394,
          3
         ],
         "y": [
          0.19,
          0.19,
          0.19,
          0.19,
          0.19,
          0.19,
          0.19,
          0.19,
          0.19,
          0.19,
          0.19,
          0.19,
          0.19,
          0.19,
          0.19,
          0.19,
          0.19,
          0.19,
          0.19,
          0.19,
          0.19,
          0.19,
          0.19,
          0.19,
          0.19,
          0.19,
          0.19,
          0.19,
          0.19,
          0.19,
          0.19,
          0.19,
          0.19,
          0.19,
          0.19,
          0.19,
          0.19,
          0.19,
          0.19,
          0.19,
          0.19,
          0.19,
          0.19,
          0.19,
          0.19,
          0.19,
          0.19,
          0.19,
          0.19,
          0.19,
          1,
          1,
          1,
          1,
          1,
          1,
          1,
          1,
          1,
          1,
          1,
          1,
          1,
          1,
          1,
          1,
          1,
          1,
          1,
          1,
          1,
          1,
          1,
          1,
          1,
          1,
          1,
          1,
          1,
          1,
          1,
          1,
          1,
          1,
          1,
          1,
          1,
          1,
          1,
          1,
          1,
          1,
          1,
          1,
          1,
          1,
          1,
          1,
          1,
          1
         ]
        }
       ],
       "layout": {
        "showlegend": true,
        "template": {
         "data": {
          "bar": [
           {
            "error_x": {
             "color": "#2a3f5f"
            },
            "error_y": {
             "color": "#2a3f5f"
            },
            "marker": {
             "line": {
              "color": "#E5ECF6",
              "width": 0.5
             },
             "pattern": {
              "fillmode": "overlay",
              "size": 10,
              "solidity": 0.2
             }
            },
            "type": "bar"
           }
          ],
          "barpolar": [
           {
            "marker": {
             "line": {
              "color": "#E5ECF6",
              "width": 0.5
             },
             "pattern": {
              "fillmode": "overlay",
              "size": 10,
              "solidity": 0.2
             }
            },
            "type": "barpolar"
           }
          ],
          "carpet": [
           {
            "aaxis": {
             "endlinecolor": "#2a3f5f",
             "gridcolor": "white",
             "linecolor": "white",
             "minorgridcolor": "white",
             "startlinecolor": "#2a3f5f"
            },
            "baxis": {
             "endlinecolor": "#2a3f5f",
             "gridcolor": "white",
             "linecolor": "white",
             "minorgridcolor": "white",
             "startlinecolor": "#2a3f5f"
            },
            "type": "carpet"
           }
          ],
          "choropleth": [
           {
            "colorbar": {
             "outlinewidth": 0,
             "ticks": ""
            },
            "type": "choropleth"
           }
          ],
          "contour": [
           {
            "colorbar": {
             "outlinewidth": 0,
             "ticks": ""
            },
            "colorscale": [
             [
              0,
              "#0d0887"
             ],
             [
              0.1111111111111111,
              "#46039f"
             ],
             [
              0.2222222222222222,
              "#7201a8"
             ],
             [
              0.3333333333333333,
              "#9c179e"
             ],
             [
              0.4444444444444444,
              "#bd3786"
             ],
             [
              0.5555555555555556,
              "#d8576b"
             ],
             [
              0.6666666666666666,
              "#ed7953"
             ],
             [
              0.7777777777777778,
              "#fb9f3a"
             ],
             [
              0.8888888888888888,
              "#fdca26"
             ],
             [
              1,
              "#f0f921"
             ]
            ],
            "type": "contour"
           }
          ],
          "contourcarpet": [
           {
            "colorbar": {
             "outlinewidth": 0,
             "ticks": ""
            },
            "type": "contourcarpet"
           }
          ],
          "heatmap": [
           {
            "colorbar": {
             "outlinewidth": 0,
             "ticks": ""
            },
            "colorscale": [
             [
              0,
              "#0d0887"
             ],
             [
              0.1111111111111111,
              "#46039f"
             ],
             [
              0.2222222222222222,
              "#7201a8"
             ],
             [
              0.3333333333333333,
              "#9c179e"
             ],
             [
              0.4444444444444444,
              "#bd3786"
             ],
             [
              0.5555555555555556,
              "#d8576b"
             ],
             [
              0.6666666666666666,
              "#ed7953"
             ],
             [
              0.7777777777777778,
              "#fb9f3a"
             ],
             [
              0.8888888888888888,
              "#fdca26"
             ],
             [
              1,
              "#f0f921"
             ]
            ],
            "type": "heatmap"
           }
          ],
          "heatmapgl": [
           {
            "colorbar": {
             "outlinewidth": 0,
             "ticks": ""
            },
            "colorscale": [
             [
              0,
              "#0d0887"
             ],
             [
              0.1111111111111111,
              "#46039f"
             ],
             [
              0.2222222222222222,
              "#7201a8"
             ],
             [
              0.3333333333333333,
              "#9c179e"
             ],
             [
              0.4444444444444444,
              "#bd3786"
             ],
             [
              0.5555555555555556,
              "#d8576b"
             ],
             [
              0.6666666666666666,
              "#ed7953"
             ],
             [
              0.7777777777777778,
              "#fb9f3a"
             ],
             [
              0.8888888888888888,
              "#fdca26"
             ],
             [
              1,
              "#f0f921"
             ]
            ],
            "type": "heatmapgl"
           }
          ],
          "histogram": [
           {
            "marker": {
             "pattern": {
              "fillmode": "overlay",
              "size": 10,
              "solidity": 0.2
             }
            },
            "type": "histogram"
           }
          ],
          "histogram2d": [
           {
            "colorbar": {
             "outlinewidth": 0,
             "ticks": ""
            },
            "colorscale": [
             [
              0,
              "#0d0887"
             ],
             [
              0.1111111111111111,
              "#46039f"
             ],
             [
              0.2222222222222222,
              "#7201a8"
             ],
             [
              0.3333333333333333,
              "#9c179e"
             ],
             [
              0.4444444444444444,
              "#bd3786"
             ],
             [
              0.5555555555555556,
              "#d8576b"
             ],
             [
              0.6666666666666666,
              "#ed7953"
             ],
             [
              0.7777777777777778,
              "#fb9f3a"
             ],
             [
              0.8888888888888888,
              "#fdca26"
             ],
             [
              1,
              "#f0f921"
             ]
            ],
            "type": "histogram2d"
           }
          ],
          "histogram2dcontour": [
           {
            "colorbar": {
             "outlinewidth": 0,
             "ticks": ""
            },
            "colorscale": [
             [
              0,
              "#0d0887"
             ],
             [
              0.1111111111111111,
              "#46039f"
             ],
             [
              0.2222222222222222,
              "#7201a8"
             ],
             [
              0.3333333333333333,
              "#9c179e"
             ],
             [
              0.4444444444444444,
              "#bd3786"
             ],
             [
              0.5555555555555556,
              "#d8576b"
             ],
             [
              0.6666666666666666,
              "#ed7953"
             ],
             [
              0.7777777777777778,
              "#fb9f3a"
             ],
             [
              0.8888888888888888,
              "#fdca26"
             ],
             [
              1,
              "#f0f921"
             ]
            ],
            "type": "histogram2dcontour"
           }
          ],
          "mesh3d": [
           {
            "colorbar": {
             "outlinewidth": 0,
             "ticks": ""
            },
            "type": "mesh3d"
           }
          ],
          "parcoords": [
           {
            "line": {
             "colorbar": {
              "outlinewidth": 0,
              "ticks": ""
             }
            },
            "type": "parcoords"
           }
          ],
          "pie": [
           {
            "automargin": true,
            "type": "pie"
           }
          ],
          "scatter": [
           {
            "fillpattern": {
             "fillmode": "overlay",
             "size": 10,
             "solidity": 0.2
            },
            "type": "scatter"
           }
          ],
          "scatter3d": [
           {
            "line": {
             "colorbar": {
              "outlinewidth": 0,
              "ticks": ""
             }
            },
            "marker": {
             "colorbar": {
              "outlinewidth": 0,
              "ticks": ""
             }
            },
            "type": "scatter3d"
           }
          ],
          "scattercarpet": [
           {
            "marker": {
             "colorbar": {
              "outlinewidth": 0,
              "ticks": ""
             }
            },
            "type": "scattercarpet"
           }
          ],
          "scattergeo": [
           {
            "marker": {
             "colorbar": {
              "outlinewidth": 0,
              "ticks": ""
             }
            },
            "type": "scattergeo"
           }
          ],
          "scattergl": [
           {
            "marker": {
             "colorbar": {
              "outlinewidth": 0,
              "ticks": ""
             }
            },
            "type": "scattergl"
           }
          ],
          "scattermapbox": [
           {
            "marker": {
             "colorbar": {
              "outlinewidth": 0,
              "ticks": ""
             }
            },
            "type": "scattermapbox"
           }
          ],
          "scatterpolar": [
           {
            "marker": {
             "colorbar": {
              "outlinewidth": 0,
              "ticks": ""
             }
            },
            "type": "scatterpolar"
           }
          ],
          "scatterpolargl": [
           {
            "marker": {
             "colorbar": {
              "outlinewidth": 0,
              "ticks": ""
             }
            },
            "type": "scatterpolargl"
           }
          ],
          "scatterternary": [
           {
            "marker": {
             "colorbar": {
              "outlinewidth": 0,
              "ticks": ""
             }
            },
            "type": "scatterternary"
           }
          ],
          "surface": [
           {
            "colorbar": {
             "outlinewidth": 0,
             "ticks": ""
            },
            "colorscale": [
             [
              0,
              "#0d0887"
             ],
             [
              0.1111111111111111,
              "#46039f"
             ],
             [
              0.2222222222222222,
              "#7201a8"
             ],
             [
              0.3333333333333333,
              "#9c179e"
             ],
             [
              0.4444444444444444,
              "#bd3786"
             ],
             [
              0.5555555555555556,
              "#d8576b"
             ],
             [
              0.6666666666666666,
              "#ed7953"
             ],
             [
              0.7777777777777778,
              "#fb9f3a"
             ],
             [
              0.8888888888888888,
              "#fdca26"
             ],
             [
              1,
              "#f0f921"
             ]
            ],
            "type": "surface"
           }
          ],
          "table": [
           {
            "cells": {
             "fill": {
              "color": "#EBF0F8"
             },
             "line": {
              "color": "white"
             }
            },
            "header": {
             "fill": {
              "color": "#C8D4E3"
             },
             "line": {
              "color": "white"
             }
            },
            "type": "table"
           }
          ]
         },
         "layout": {
          "annotationdefaults": {
           "arrowcolor": "#2a3f5f",
           "arrowhead": 0,
           "arrowwidth": 1
          },
          "autotypenumbers": "strict",
          "coloraxis": {
           "colorbar": {
            "outlinewidth": 0,
            "ticks": ""
           }
          },
          "colorscale": {
           "diverging": [
            [
             0,
             "#8e0152"
            ],
            [
             0.1,
             "#c51b7d"
            ],
            [
             0.2,
             "#de77ae"
            ],
            [
             0.3,
             "#f1b6da"
            ],
            [
             0.4,
             "#fde0ef"
            ],
            [
             0.5,
             "#f7f7f7"
            ],
            [
             0.6,
             "#e6f5d0"
            ],
            [
             0.7,
             "#b8e186"
            ],
            [
             0.8,
             "#7fbc41"
            ],
            [
             0.9,
             "#4d9221"
            ],
            [
             1,
             "#276419"
            ]
           ],
           "sequential": [
            [
             0,
             "#0d0887"
            ],
            [
             0.1111111111111111,
             "#46039f"
            ],
            [
             0.2222222222222222,
             "#7201a8"
            ],
            [
             0.3333333333333333,
             "#9c179e"
            ],
            [
             0.4444444444444444,
             "#bd3786"
            ],
            [
             0.5555555555555556,
             "#d8576b"
            ],
            [
             0.6666666666666666,
             "#ed7953"
            ],
            [
             0.7777777777777778,
             "#fb9f3a"
            ],
            [
             0.8888888888888888,
             "#fdca26"
            ],
            [
             1,
             "#f0f921"
            ]
           ],
           "sequentialminus": [
            [
             0,
             "#0d0887"
            ],
            [
             0.1111111111111111,
             "#46039f"
            ],
            [
             0.2222222222222222,
             "#7201a8"
            ],
            [
             0.3333333333333333,
             "#9c179e"
            ],
            [
             0.4444444444444444,
             "#bd3786"
            ],
            [
             0.5555555555555556,
             "#d8576b"
            ],
            [
             0.6666666666666666,
             "#ed7953"
            ],
            [
             0.7777777777777778,
             "#fb9f3a"
            ],
            [
             0.8888888888888888,
             "#fdca26"
            ],
            [
             1,
             "#f0f921"
            ]
           ]
          },
          "colorway": [
           "#636efa",
           "#EF553B",
           "#00cc96",
           "#ab63fa",
           "#FFA15A",
           "#19d3f3",
           "#FF6692",
           "#B6E880",
           "#FF97FF",
           "#FECB52"
          ],
          "font": {
           "color": "#2a3f5f"
          },
          "geo": {
           "bgcolor": "white",
           "lakecolor": "white",
           "landcolor": "#E5ECF6",
           "showlakes": true,
           "showland": true,
           "subunitcolor": "white"
          },
          "hoverlabel": {
           "align": "left"
          },
          "hovermode": "closest",
          "mapbox": {
           "style": "light"
          },
          "paper_bgcolor": "white",
          "plot_bgcolor": "#E5ECF6",
          "polar": {
           "angularaxis": {
            "gridcolor": "white",
            "linecolor": "white",
            "ticks": ""
           },
           "bgcolor": "#E5ECF6",
           "radialaxis": {
            "gridcolor": "white",
            "linecolor": "white",
            "ticks": ""
           }
          },
          "scene": {
           "xaxis": {
            "backgroundcolor": "#E5ECF6",
            "gridcolor": "white",
            "gridwidth": 2,
            "linecolor": "white",
            "showbackground": true,
            "ticks": "",
            "zerolinecolor": "white"
           },
           "yaxis": {
            "backgroundcolor": "#E5ECF6",
            "gridcolor": "white",
            "gridwidth": 2,
            "linecolor": "white",
            "showbackground": true,
            "ticks": "",
            "zerolinecolor": "white"
           },
           "zaxis": {
            "backgroundcolor": "#E5ECF6",
            "gridcolor": "white",
            "gridwidth": 2,
            "linecolor": "white",
            "showbackground": true,
            "ticks": "",
            "zerolinecolor": "white"
           }
          },
          "shapedefaults": {
           "line": {
            "color": "#2a3f5f"
           }
          },
          "ternary": {
           "aaxis": {
            "gridcolor": "white",
            "linecolor": "white",
            "ticks": ""
           },
           "baxis": {
            "gridcolor": "white",
            "linecolor": "white",
            "ticks": ""
           },
           "bgcolor": "#E5ECF6",
           "caxis": {
            "gridcolor": "white",
            "linecolor": "white",
            "ticks": ""
           }
          },
          "title": {
           "x": 0.05
          },
          "xaxis": {
           "automargin": true,
           "gridcolor": "white",
           "linecolor": "white",
           "ticks": "",
           "title": {
            "standoff": 15
           },
           "zerolinecolor": "white",
           "zerolinewidth": 2
          },
          "yaxis": {
           "automargin": true,
           "gridcolor": "white",
           "linecolor": "white",
           "ticks": "",
           "title": {
            "standoff": 15
           },
           "zerolinecolor": "white",
           "zerolinewidth": 2
          }
         }
        },
        "title": {
         "text": "Parametric ReLU and Derivative "
        },
        "xaxis": {
         "title": {
          "text": "x"
         }
        },
        "yaxis": {
         "title": {
          "text": "y"
         }
        }
       }
      }
     },
     "metadata": {},
     "output_type": "display_data"
    },
    {
     "data": {
      "application/vnd.plotly.v1+json": {
       "config": {
        "plotlyServerURL": "https://plot.ly"
       },
       "data": [
        {
         "mode": "lines",
         "name": "PReLU function (alpha=0.2)",
         "type": "scatter",
         "x": [
          -3,
          -2.9393939393939394,
          -2.878787878787879,
          -2.8181818181818183,
          -2.757575757575758,
          -2.696969696969697,
          -2.6363636363636362,
          -2.5757575757575757,
          -2.515151515151515,
          -2.4545454545454546,
          -2.393939393939394,
          -2.333333333333333,
          -2.2727272727272725,
          -2.212121212121212,
          -2.1515151515151514,
          -2.090909090909091,
          -2.0303030303030303,
          -1.9696969696969697,
          -1.9090909090909092,
          -1.8484848484848484,
          -1.7878787878787878,
          -1.7272727272727273,
          -1.6666666666666665,
          -1.606060606060606,
          -1.5454545454545454,
          -1.4848484848484849,
          -1.4242424242424243,
          -1.3636363636363635,
          -1.303030303030303,
          -1.2424242424242424,
          -1.1818181818181817,
          -1.121212121212121,
          -1.0606060606060606,
          -1,
          -0.9393939393939394,
          -0.8787878787878789,
          -0.8181818181818183,
          -0.7575757575757573,
          -0.6969696969696968,
          -0.6363636363636362,
          -0.5757575757575757,
          -0.5151515151515151,
          -0.4545454545454546,
          -0.39393939393939403,
          -0.33333333333333304,
          -0.2727272727272725,
          -0.21212121212121193,
          -0.15151515151515138,
          -0.09090909090909083,
          -0.030303030303030276,
          0.030303030303030276,
          0.09090909090909083,
          0.15151515151515138,
          0.21212121212121238,
          0.27272727272727293,
          0.3333333333333335,
          0.39393939393939403,
          0.4545454545454546,
          0.5151515151515151,
          0.5757575757575757,
          0.6363636363636367,
          0.6969696969696972,
          0.7575757575757578,
          0.8181818181818183,
          0.8787878787878789,
          0.9393939393939394,
          1,
          1.0606060606060606,
          1.121212121212121,
          1.1818181818181817,
          1.2424242424242422,
          1.3030303030303028,
          1.3636363636363633,
          1.4242424242424248,
          1.4848484848484853,
          1.5454545454545459,
          1.6060606060606064,
          1.666666666666667,
          1.7272727272727275,
          1.787878787878788,
          1.8484848484848486,
          1.9090909090909092,
          1.9696969696969697,
          2.0303030303030303,
          2.090909090909091,
          2.1515151515151514,
          2.212121212121212,
          2.2727272727272725,
          2.333333333333334,
          2.3939393939393945,
          2.454545454545455,
          2.5151515151515156,
          2.575757575757576,
          2.6363636363636367,
          2.6969696969696972,
          2.757575757575758,
          2.8181818181818183,
          2.878787878787879,
          2.9393939393939394,
          3
         ],
         "y": [
          -0.6000000000000001,
          -0.5878787878787879,
          -0.5757575757575758,
          -0.5636363636363637,
          -0.5515151515151516,
          -0.5393939393939394,
          -0.5272727272727272,
          -0.5151515151515151,
          -0.503030303030303,
          -0.49090909090909096,
          -0.4787878787878788,
          -0.4666666666666666,
          -0.45454545454545453,
          -0.4424242424242424,
          -0.4303030303030303,
          -0.4181818181818182,
          -0.40606060606060607,
          -0.393939393939394,
          -0.38181818181818183,
          -0.3696969696969697,
          -0.3575757575757576,
          -0.34545454545454546,
          -0.3333333333333333,
          -0.3212121212121212,
          -0.3090909090909091,
          -0.296969696969697,
          -0.28484848484848485,
          -0.2727272727272727,
          -0.2606060606060606,
          -0.2484848484848485,
          -0.23636363636363633,
          -0.22424242424242424,
          -0.21212121212121213,
          -0.2,
          -0.1878787878787879,
          -0.17575757575757578,
          -0.1636363636363637,
          -0.1515151515151515,
          -0.13939393939393938,
          -0.12727272727272726,
          -0.11515151515151514,
          -0.10303030303030303,
          -0.09090909090909093,
          -0.07878787878787881,
          -0.06666666666666661,
          -0.0545454545454545,
          -0.04242424242424239,
          -0.030303030303030276,
          -0.018181818181818167,
          -0.006060606060606055,
          0.030303030303030276,
          0.09090909090909083,
          0.15151515151515138,
          0.21212121212121238,
          0.27272727272727293,
          0.3333333333333335,
          0.39393939393939403,
          0.4545454545454546,
          0.5151515151515151,
          0.5757575757575757,
          0.6363636363636367,
          0.6969696969696972,
          0.7575757575757578,
          0.8181818181818183,
          0.8787878787878789,
          0.9393939393939394,
          1,
          1.0606060606060606,
          1.121212121212121,
          1.1818181818181817,
          1.2424242424242422,
          1.3030303030303028,
          1.3636363636363633,
          1.4242424242424248,
          1.4848484848484853,
          1.5454545454545459,
          1.6060606060606064,
          1.666666666666667,
          1.7272727272727275,
          1.787878787878788,
          1.8484848484848486,
          1.9090909090909092,
          1.9696969696969697,
          2.0303030303030303,
          2.090909090909091,
          2.1515151515151514,
          2.212121212121212,
          2.2727272727272725,
          2.333333333333334,
          2.3939393939393945,
          2.454545454545455,
          2.5151515151515156,
          2.575757575757576,
          2.6363636363636367,
          2.6969696969696972,
          2.757575757575758,
          2.8181818181818183,
          2.878787878787879,
          2.9393939393939394,
          3
         ]
        },
        {
         "mode": "lines",
         "name": "PReLU derivative (alpha=0.2)",
         "type": "scatter",
         "x": [
          -3,
          -2.9393939393939394,
          -2.878787878787879,
          -2.8181818181818183,
          -2.757575757575758,
          -2.696969696969697,
          -2.6363636363636362,
          -2.5757575757575757,
          -2.515151515151515,
          -2.4545454545454546,
          -2.393939393939394,
          -2.333333333333333,
          -2.2727272727272725,
          -2.212121212121212,
          -2.1515151515151514,
          -2.090909090909091,
          -2.0303030303030303,
          -1.9696969696969697,
          -1.9090909090909092,
          -1.8484848484848484,
          -1.7878787878787878,
          -1.7272727272727273,
          -1.6666666666666665,
          -1.606060606060606,
          -1.5454545454545454,
          -1.4848484848484849,
          -1.4242424242424243,
          -1.3636363636363635,
          -1.303030303030303,
          -1.2424242424242424,
          -1.1818181818181817,
          -1.121212121212121,
          -1.0606060606060606,
          -1,
          -0.9393939393939394,
          -0.8787878787878789,
          -0.8181818181818183,
          -0.7575757575757573,
          -0.6969696969696968,
          -0.6363636363636362,
          -0.5757575757575757,
          -0.5151515151515151,
          -0.4545454545454546,
          -0.39393939393939403,
          -0.33333333333333304,
          -0.2727272727272725,
          -0.21212121212121193,
          -0.15151515151515138,
          -0.09090909090909083,
          -0.030303030303030276,
          0.030303030303030276,
          0.09090909090909083,
          0.15151515151515138,
          0.21212121212121238,
          0.27272727272727293,
          0.3333333333333335,
          0.39393939393939403,
          0.4545454545454546,
          0.5151515151515151,
          0.5757575757575757,
          0.6363636363636367,
          0.6969696969696972,
          0.7575757575757578,
          0.8181818181818183,
          0.8787878787878789,
          0.9393939393939394,
          1,
          1.0606060606060606,
          1.121212121212121,
          1.1818181818181817,
          1.2424242424242422,
          1.3030303030303028,
          1.3636363636363633,
          1.4242424242424248,
          1.4848484848484853,
          1.5454545454545459,
          1.6060606060606064,
          1.666666666666667,
          1.7272727272727275,
          1.787878787878788,
          1.8484848484848486,
          1.9090909090909092,
          1.9696969696969697,
          2.0303030303030303,
          2.090909090909091,
          2.1515151515151514,
          2.212121212121212,
          2.2727272727272725,
          2.333333333333334,
          2.3939393939393945,
          2.454545454545455,
          2.5151515151515156,
          2.575757575757576,
          2.6363636363636367,
          2.6969696969696972,
          2.757575757575758,
          2.8181818181818183,
          2.878787878787879,
          2.9393939393939394,
          3
         ],
         "y": [
          0.2,
          0.2,
          0.2,
          0.2,
          0.2,
          0.2,
          0.2,
          0.2,
          0.2,
          0.2,
          0.2,
          0.2,
          0.2,
          0.2,
          0.2,
          0.2,
          0.2,
          0.2,
          0.2,
          0.2,
          0.2,
          0.2,
          0.2,
          0.2,
          0.2,
          0.2,
          0.2,
          0.2,
          0.2,
          0.2,
          0.2,
          0.2,
          0.2,
          0.2,
          0.2,
          0.2,
          0.2,
          0.2,
          0.2,
          0.2,
          0.2,
          0.2,
          0.2,
          0.2,
          0.2,
          0.2,
          0.2,
          0.2,
          0.2,
          0.2,
          1,
          1,
          1,
          1,
          1,
          1,
          1,
          1,
          1,
          1,
          1,
          1,
          1,
          1,
          1,
          1,
          1,
          1,
          1,
          1,
          1,
          1,
          1,
          1,
          1,
          1,
          1,
          1,
          1,
          1,
          1,
          1,
          1,
          1,
          1,
          1,
          1,
          1,
          1,
          1,
          1,
          1,
          1,
          1,
          1,
          1,
          1,
          1,
          1,
          1
         ]
        }
       ],
       "layout": {
        "showlegend": true,
        "template": {
         "data": {
          "bar": [
           {
            "error_x": {
             "color": "#2a3f5f"
            },
            "error_y": {
             "color": "#2a3f5f"
            },
            "marker": {
             "line": {
              "color": "#E5ECF6",
              "width": 0.5
             },
             "pattern": {
              "fillmode": "overlay",
              "size": 10,
              "solidity": 0.2
             }
            },
            "type": "bar"
           }
          ],
          "barpolar": [
           {
            "marker": {
             "line": {
              "color": "#E5ECF6",
              "width": 0.5
             },
             "pattern": {
              "fillmode": "overlay",
              "size": 10,
              "solidity": 0.2
             }
            },
            "type": "barpolar"
           }
          ],
          "carpet": [
           {
            "aaxis": {
             "endlinecolor": "#2a3f5f",
             "gridcolor": "white",
             "linecolor": "white",
             "minorgridcolor": "white",
             "startlinecolor": "#2a3f5f"
            },
            "baxis": {
             "endlinecolor": "#2a3f5f",
             "gridcolor": "white",
             "linecolor": "white",
             "minorgridcolor": "white",
             "startlinecolor": "#2a3f5f"
            },
            "type": "carpet"
           }
          ],
          "choropleth": [
           {
            "colorbar": {
             "outlinewidth": 0,
             "ticks": ""
            },
            "type": "choropleth"
           }
          ],
          "contour": [
           {
            "colorbar": {
             "outlinewidth": 0,
             "ticks": ""
            },
            "colorscale": [
             [
              0,
              "#0d0887"
             ],
             [
              0.1111111111111111,
              "#46039f"
             ],
             [
              0.2222222222222222,
              "#7201a8"
             ],
             [
              0.3333333333333333,
              "#9c179e"
             ],
             [
              0.4444444444444444,
              "#bd3786"
             ],
             [
              0.5555555555555556,
              "#d8576b"
             ],
             [
              0.6666666666666666,
              "#ed7953"
             ],
             [
              0.7777777777777778,
              "#fb9f3a"
             ],
             [
              0.8888888888888888,
              "#fdca26"
             ],
             [
              1,
              "#f0f921"
             ]
            ],
            "type": "contour"
           }
          ],
          "contourcarpet": [
           {
            "colorbar": {
             "outlinewidth": 0,
             "ticks": ""
            },
            "type": "contourcarpet"
           }
          ],
          "heatmap": [
           {
            "colorbar": {
             "outlinewidth": 0,
             "ticks": ""
            },
            "colorscale": [
             [
              0,
              "#0d0887"
             ],
             [
              0.1111111111111111,
              "#46039f"
             ],
             [
              0.2222222222222222,
              "#7201a8"
             ],
             [
              0.3333333333333333,
              "#9c179e"
             ],
             [
              0.4444444444444444,
              "#bd3786"
             ],
             [
              0.5555555555555556,
              "#d8576b"
             ],
             [
              0.6666666666666666,
              "#ed7953"
             ],
             [
              0.7777777777777778,
              "#fb9f3a"
             ],
             [
              0.8888888888888888,
              "#fdca26"
             ],
             [
              1,
              "#f0f921"
             ]
            ],
            "type": "heatmap"
           }
          ],
          "heatmapgl": [
           {
            "colorbar": {
             "outlinewidth": 0,
             "ticks": ""
            },
            "colorscale": [
             [
              0,
              "#0d0887"
             ],
             [
              0.1111111111111111,
              "#46039f"
             ],
             [
              0.2222222222222222,
              "#7201a8"
             ],
             [
              0.3333333333333333,
              "#9c179e"
             ],
             [
              0.4444444444444444,
              "#bd3786"
             ],
             [
              0.5555555555555556,
              "#d8576b"
             ],
             [
              0.6666666666666666,
              "#ed7953"
             ],
             [
              0.7777777777777778,
              "#fb9f3a"
             ],
             [
              0.8888888888888888,
              "#fdca26"
             ],
             [
              1,
              "#f0f921"
             ]
            ],
            "type": "heatmapgl"
           }
          ],
          "histogram": [
           {
            "marker": {
             "pattern": {
              "fillmode": "overlay",
              "size": 10,
              "solidity": 0.2
             }
            },
            "type": "histogram"
           }
          ],
          "histogram2d": [
           {
            "colorbar": {
             "outlinewidth": 0,
             "ticks": ""
            },
            "colorscale": [
             [
              0,
              "#0d0887"
             ],
             [
              0.1111111111111111,
              "#46039f"
             ],
             [
              0.2222222222222222,
              "#7201a8"
             ],
             [
              0.3333333333333333,
              "#9c179e"
             ],
             [
              0.4444444444444444,
              "#bd3786"
             ],
             [
              0.5555555555555556,
              "#d8576b"
             ],
             [
              0.6666666666666666,
              "#ed7953"
             ],
             [
              0.7777777777777778,
              "#fb9f3a"
             ],
             [
              0.8888888888888888,
              "#fdca26"
             ],
             [
              1,
              "#f0f921"
             ]
            ],
            "type": "histogram2d"
           }
          ],
          "histogram2dcontour": [
           {
            "colorbar": {
             "outlinewidth": 0,
             "ticks": ""
            },
            "colorscale": [
             [
              0,
              "#0d0887"
             ],
             [
              0.1111111111111111,
              "#46039f"
             ],
             [
              0.2222222222222222,
              "#7201a8"
             ],
             [
              0.3333333333333333,
              "#9c179e"
             ],
             [
              0.4444444444444444,
              "#bd3786"
             ],
             [
              0.5555555555555556,
              "#d8576b"
             ],
             [
              0.6666666666666666,
              "#ed7953"
             ],
             [
              0.7777777777777778,
              "#fb9f3a"
             ],
             [
              0.8888888888888888,
              "#fdca26"
             ],
             [
              1,
              "#f0f921"
             ]
            ],
            "type": "histogram2dcontour"
           }
          ],
          "mesh3d": [
           {
            "colorbar": {
             "outlinewidth": 0,
             "ticks": ""
            },
            "type": "mesh3d"
           }
          ],
          "parcoords": [
           {
            "line": {
             "colorbar": {
              "outlinewidth": 0,
              "ticks": ""
             }
            },
            "type": "parcoords"
           }
          ],
          "pie": [
           {
            "automargin": true,
            "type": "pie"
           }
          ],
          "scatter": [
           {
            "fillpattern": {
             "fillmode": "overlay",
             "size": 10,
             "solidity": 0.2
            },
            "type": "scatter"
           }
          ],
          "scatter3d": [
           {
            "line": {
             "colorbar": {
              "outlinewidth": 0,
              "ticks": ""
             }
            },
            "marker": {
             "colorbar": {
              "outlinewidth": 0,
              "ticks": ""
             }
            },
            "type": "scatter3d"
           }
          ],
          "scattercarpet": [
           {
            "marker": {
             "colorbar": {
              "outlinewidth": 0,
              "ticks": ""
             }
            },
            "type": "scattercarpet"
           }
          ],
          "scattergeo": [
           {
            "marker": {
             "colorbar": {
              "outlinewidth": 0,
              "ticks": ""
             }
            },
            "type": "scattergeo"
           }
          ],
          "scattergl": [
           {
            "marker": {
             "colorbar": {
              "outlinewidth": 0,
              "ticks": ""
             }
            },
            "type": "scattergl"
           }
          ],
          "scattermapbox": [
           {
            "marker": {
             "colorbar": {
              "outlinewidth": 0,
              "ticks": ""
             }
            },
            "type": "scattermapbox"
           }
          ],
          "scatterpolar": [
           {
            "marker": {
             "colorbar": {
              "outlinewidth": 0,
              "ticks": ""
             }
            },
            "type": "scatterpolar"
           }
          ],
          "scatterpolargl": [
           {
            "marker": {
             "colorbar": {
              "outlinewidth": 0,
              "ticks": ""
             }
            },
            "type": "scatterpolargl"
           }
          ],
          "scatterternary": [
           {
            "marker": {
             "colorbar": {
              "outlinewidth": 0,
              "ticks": ""
             }
            },
            "type": "scatterternary"
           }
          ],
          "surface": [
           {
            "colorbar": {
             "outlinewidth": 0,
             "ticks": ""
            },
            "colorscale": [
             [
              0,
              "#0d0887"
             ],
             [
              0.1111111111111111,
              "#46039f"
             ],
             [
              0.2222222222222222,
              "#7201a8"
             ],
             [
              0.3333333333333333,
              "#9c179e"
             ],
             [
              0.4444444444444444,
              "#bd3786"
             ],
             [
              0.5555555555555556,
              "#d8576b"
             ],
             [
              0.6666666666666666,
              "#ed7953"
             ],
             [
              0.7777777777777778,
              "#fb9f3a"
             ],
             [
              0.8888888888888888,
              "#fdca26"
             ],
             [
              1,
              "#f0f921"
             ]
            ],
            "type": "surface"
           }
          ],
          "table": [
           {
            "cells": {
             "fill": {
              "color": "#EBF0F8"
             },
             "line": {
              "color": "white"
             }
            },
            "header": {
             "fill": {
              "color": "#C8D4E3"
             },
             "line": {
              "color": "white"
             }
            },
            "type": "table"
           }
          ]
         },
         "layout": {
          "annotationdefaults": {
           "arrowcolor": "#2a3f5f",
           "arrowhead": 0,
           "arrowwidth": 1
          },
          "autotypenumbers": "strict",
          "coloraxis": {
           "colorbar": {
            "outlinewidth": 0,
            "ticks": ""
           }
          },
          "colorscale": {
           "diverging": [
            [
             0,
             "#8e0152"
            ],
            [
             0.1,
             "#c51b7d"
            ],
            [
             0.2,
             "#de77ae"
            ],
            [
             0.3,
             "#f1b6da"
            ],
            [
             0.4,
             "#fde0ef"
            ],
            [
             0.5,
             "#f7f7f7"
            ],
            [
             0.6,
             "#e6f5d0"
            ],
            [
             0.7,
             "#b8e186"
            ],
            [
             0.8,
             "#7fbc41"
            ],
            [
             0.9,
             "#4d9221"
            ],
            [
             1,
             "#276419"
            ]
           ],
           "sequential": [
            [
             0,
             "#0d0887"
            ],
            [
             0.1111111111111111,
             "#46039f"
            ],
            [
             0.2222222222222222,
             "#7201a8"
            ],
            [
             0.3333333333333333,
             "#9c179e"
            ],
            [
             0.4444444444444444,
             "#bd3786"
            ],
            [
             0.5555555555555556,
             "#d8576b"
            ],
            [
             0.6666666666666666,
             "#ed7953"
            ],
            [
             0.7777777777777778,
             "#fb9f3a"
            ],
            [
             0.8888888888888888,
             "#fdca26"
            ],
            [
             1,
             "#f0f921"
            ]
           ],
           "sequentialminus": [
            [
             0,
             "#0d0887"
            ],
            [
             0.1111111111111111,
             "#46039f"
            ],
            [
             0.2222222222222222,
             "#7201a8"
            ],
            [
             0.3333333333333333,
             "#9c179e"
            ],
            [
             0.4444444444444444,
             "#bd3786"
            ],
            [
             0.5555555555555556,
             "#d8576b"
            ],
            [
             0.6666666666666666,
             "#ed7953"
            ],
            [
             0.7777777777777778,
             "#fb9f3a"
            ],
            [
             0.8888888888888888,
             "#fdca26"
            ],
            [
             1,
             "#f0f921"
            ]
           ]
          },
          "colorway": [
           "#636efa",
           "#EF553B",
           "#00cc96",
           "#ab63fa",
           "#FFA15A",
           "#19d3f3",
           "#FF6692",
           "#B6E880",
           "#FF97FF",
           "#FECB52"
          ],
          "font": {
           "color": "#2a3f5f"
          },
          "geo": {
           "bgcolor": "white",
           "lakecolor": "white",
           "landcolor": "#E5ECF6",
           "showlakes": true,
           "showland": true,
           "subunitcolor": "white"
          },
          "hoverlabel": {
           "align": "left"
          },
          "hovermode": "closest",
          "mapbox": {
           "style": "light"
          },
          "paper_bgcolor": "white",
          "plot_bgcolor": "#E5ECF6",
          "polar": {
           "angularaxis": {
            "gridcolor": "white",
            "linecolor": "white",
            "ticks": ""
           },
           "bgcolor": "#E5ECF6",
           "radialaxis": {
            "gridcolor": "white",
            "linecolor": "white",
            "ticks": ""
           }
          },
          "scene": {
           "xaxis": {
            "backgroundcolor": "#E5ECF6",
            "gridcolor": "white",
            "gridwidth": 2,
            "linecolor": "white",
            "showbackground": true,
            "ticks": "",
            "zerolinecolor": "white"
           },
           "yaxis": {
            "backgroundcolor": "#E5ECF6",
            "gridcolor": "white",
            "gridwidth": 2,
            "linecolor": "white",
            "showbackground": true,
            "ticks": "",
            "zerolinecolor": "white"
           },
           "zaxis": {
            "backgroundcolor": "#E5ECF6",
            "gridcolor": "white",
            "gridwidth": 2,
            "linecolor": "white",
            "showbackground": true,
            "ticks": "",
            "zerolinecolor": "white"
           }
          },
          "shapedefaults": {
           "line": {
            "color": "#2a3f5f"
           }
          },
          "ternary": {
           "aaxis": {
            "gridcolor": "white",
            "linecolor": "white",
            "ticks": ""
           },
           "baxis": {
            "gridcolor": "white",
            "linecolor": "white",
            "ticks": ""
           },
           "bgcolor": "#E5ECF6",
           "caxis": {
            "gridcolor": "white",
            "linecolor": "white",
            "ticks": ""
           }
          },
          "title": {
           "x": 0.05
          },
          "xaxis": {
           "automargin": true,
           "gridcolor": "white",
           "linecolor": "white",
           "ticks": "",
           "title": {
            "standoff": 15
           },
           "zerolinecolor": "white",
           "zerolinewidth": 2
          },
          "yaxis": {
           "automargin": true,
           "gridcolor": "white",
           "linecolor": "white",
           "ticks": "",
           "title": {
            "standoff": 15
           },
           "zerolinecolor": "white",
           "zerolinewidth": 2
          }
         }
        },
        "title": {
         "text": "Parametric ReLU and Derivative "
        },
        "xaxis": {
         "title": {
          "text": "x"
         }
        },
        "yaxis": {
         "title": {
          "text": "y"
         }
        }
       }
      }
     },
     "metadata": {},
     "output_type": "display_data"
    },
    {
     "data": {
      "application/vnd.plotly.v1+json": {
       "config": {
        "plotlyServerURL": "https://plot.ly"
       },
       "data": [
        {
         "mode": "lines",
         "name": "PReLU function (alpha=0.61)",
         "type": "scatter",
         "x": [
          -3,
          -2.9393939393939394,
          -2.878787878787879,
          -2.8181818181818183,
          -2.757575757575758,
          -2.696969696969697,
          -2.6363636363636362,
          -2.5757575757575757,
          -2.515151515151515,
          -2.4545454545454546,
          -2.393939393939394,
          -2.333333333333333,
          -2.2727272727272725,
          -2.212121212121212,
          -2.1515151515151514,
          -2.090909090909091,
          -2.0303030303030303,
          -1.9696969696969697,
          -1.9090909090909092,
          -1.8484848484848484,
          -1.7878787878787878,
          -1.7272727272727273,
          -1.6666666666666665,
          -1.606060606060606,
          -1.5454545454545454,
          -1.4848484848484849,
          -1.4242424242424243,
          -1.3636363636363635,
          -1.303030303030303,
          -1.2424242424242424,
          -1.1818181818181817,
          -1.121212121212121,
          -1.0606060606060606,
          -1,
          -0.9393939393939394,
          -0.8787878787878789,
          -0.8181818181818183,
          -0.7575757575757573,
          -0.6969696969696968,
          -0.6363636363636362,
          -0.5757575757575757,
          -0.5151515151515151,
          -0.4545454545454546,
          -0.39393939393939403,
          -0.33333333333333304,
          -0.2727272727272725,
          -0.21212121212121193,
          -0.15151515151515138,
          -0.09090909090909083,
          -0.030303030303030276,
          0.030303030303030276,
          0.09090909090909083,
          0.15151515151515138,
          0.21212121212121238,
          0.27272727272727293,
          0.3333333333333335,
          0.39393939393939403,
          0.4545454545454546,
          0.5151515151515151,
          0.5757575757575757,
          0.6363636363636367,
          0.6969696969696972,
          0.7575757575757578,
          0.8181818181818183,
          0.8787878787878789,
          0.9393939393939394,
          1,
          1.0606060606060606,
          1.121212121212121,
          1.1818181818181817,
          1.2424242424242422,
          1.3030303030303028,
          1.3636363636363633,
          1.4242424242424248,
          1.4848484848484853,
          1.5454545454545459,
          1.6060606060606064,
          1.666666666666667,
          1.7272727272727275,
          1.787878787878788,
          1.8484848484848486,
          1.9090909090909092,
          1.9696969696969697,
          2.0303030303030303,
          2.090909090909091,
          2.1515151515151514,
          2.212121212121212,
          2.2727272727272725,
          2.333333333333334,
          2.3939393939393945,
          2.454545454545455,
          2.5151515151515156,
          2.575757575757576,
          2.6363636363636367,
          2.6969696969696972,
          2.757575757575758,
          2.8181818181818183,
          2.878787878787879,
          2.9393939393939394,
          3
         ],
         "y": [
          -1.83,
          -1.793030303030303,
          -1.756060606060606,
          -1.7190909090909092,
          -1.6821212121212121,
          -1.645151515151515,
          -1.6081818181818182,
          -1.571212121212121,
          -1.5342424242424242,
          -1.4972727272727273,
          -1.4603030303030304,
          -1.4233333333333331,
          -1.3863636363636362,
          -1.3493939393939391,
          -1.3124242424242423,
          -1.2754545454545454,
          -1.2384848484848485,
          -1.2015151515151514,
          -1.1645454545454546,
          -1.1275757575757575,
          -1.0906060606060606,
          -1.0536363636363637,
          -1.0166666666666666,
          -0.9796969696969696,
          -0.9427272727272726,
          -0.9057575757575758,
          -0.8687878787878788,
          -0.8318181818181818,
          -0.7948484848484848,
          -0.7578787878787878,
          -0.7209090909090908,
          -0.6839393939393938,
          -0.646969696969697,
          -0.61,
          -0.573030303030303,
          -0.5360606060606061,
          -0.4990909090909092,
          -0.462121212121212,
          -0.42515151515151506,
          -0.3881818181818181,
          -0.35121212121212114,
          -0.3142424242424242,
          -0.2772727272727273,
          -0.24030303030303035,
          -0.20333333333333314,
          -0.1663636363636362,
          -0.12939393939393928,
          -0.09242424242424234,
          -0.0554545454545454,
          -0.01848484848484847,
          0.030303030303030276,
          0.09090909090909083,
          0.15151515151515138,
          0.21212121212121238,
          0.27272727272727293,
          0.3333333333333335,
          0.39393939393939403,
          0.4545454545454546,
          0.5151515151515151,
          0.5757575757575757,
          0.6363636363636367,
          0.6969696969696972,
          0.7575757575757578,
          0.8181818181818183,
          0.8787878787878789,
          0.9393939393939394,
          1,
          1.0606060606060606,
          1.121212121212121,
          1.1818181818181817,
          1.2424242424242422,
          1.3030303030303028,
          1.3636363636363633,
          1.4242424242424248,
          1.4848484848484853,
          1.5454545454545459,
          1.6060606060606064,
          1.666666666666667,
          1.7272727272727275,
          1.787878787878788,
          1.8484848484848486,
          1.9090909090909092,
          1.9696969696969697,
          2.0303030303030303,
          2.090909090909091,
          2.1515151515151514,
          2.212121212121212,
          2.2727272727272725,
          2.333333333333334,
          2.3939393939393945,
          2.454545454545455,
          2.5151515151515156,
          2.575757575757576,
          2.6363636363636367,
          2.6969696969696972,
          2.757575757575758,
          2.8181818181818183,
          2.878787878787879,
          2.9393939393939394,
          3
         ]
        },
        {
         "mode": "lines",
         "name": "PReLU derivative (alpha=0.61)",
         "type": "scatter",
         "x": [
          -3,
          -2.9393939393939394,
          -2.878787878787879,
          -2.8181818181818183,
          -2.757575757575758,
          -2.696969696969697,
          -2.6363636363636362,
          -2.5757575757575757,
          -2.515151515151515,
          -2.4545454545454546,
          -2.393939393939394,
          -2.333333333333333,
          -2.2727272727272725,
          -2.212121212121212,
          -2.1515151515151514,
          -2.090909090909091,
          -2.0303030303030303,
          -1.9696969696969697,
          -1.9090909090909092,
          -1.8484848484848484,
          -1.7878787878787878,
          -1.7272727272727273,
          -1.6666666666666665,
          -1.606060606060606,
          -1.5454545454545454,
          -1.4848484848484849,
          -1.4242424242424243,
          -1.3636363636363635,
          -1.303030303030303,
          -1.2424242424242424,
          -1.1818181818181817,
          -1.121212121212121,
          -1.0606060606060606,
          -1,
          -0.9393939393939394,
          -0.8787878787878789,
          -0.8181818181818183,
          -0.7575757575757573,
          -0.6969696969696968,
          -0.6363636363636362,
          -0.5757575757575757,
          -0.5151515151515151,
          -0.4545454545454546,
          -0.39393939393939403,
          -0.33333333333333304,
          -0.2727272727272725,
          -0.21212121212121193,
          -0.15151515151515138,
          -0.09090909090909083,
          -0.030303030303030276,
          0.030303030303030276,
          0.09090909090909083,
          0.15151515151515138,
          0.21212121212121238,
          0.27272727272727293,
          0.3333333333333335,
          0.39393939393939403,
          0.4545454545454546,
          0.5151515151515151,
          0.5757575757575757,
          0.6363636363636367,
          0.6969696969696972,
          0.7575757575757578,
          0.8181818181818183,
          0.8787878787878789,
          0.9393939393939394,
          1,
          1.0606060606060606,
          1.121212121212121,
          1.1818181818181817,
          1.2424242424242422,
          1.3030303030303028,
          1.3636363636363633,
          1.4242424242424248,
          1.4848484848484853,
          1.5454545454545459,
          1.6060606060606064,
          1.666666666666667,
          1.7272727272727275,
          1.787878787878788,
          1.8484848484848486,
          1.9090909090909092,
          1.9696969696969697,
          2.0303030303030303,
          2.090909090909091,
          2.1515151515151514,
          2.212121212121212,
          2.2727272727272725,
          2.333333333333334,
          2.3939393939393945,
          2.454545454545455,
          2.5151515151515156,
          2.575757575757576,
          2.6363636363636367,
          2.6969696969696972,
          2.757575757575758,
          2.8181818181818183,
          2.878787878787879,
          2.9393939393939394,
          3
         ],
         "y": [
          0.61,
          0.61,
          0.61,
          0.61,
          0.61,
          0.61,
          0.61,
          0.61,
          0.61,
          0.61,
          0.61,
          0.61,
          0.61,
          0.61,
          0.61,
          0.61,
          0.61,
          0.61,
          0.61,
          0.61,
          0.61,
          0.61,
          0.61,
          0.61,
          0.61,
          0.61,
          0.61,
          0.61,
          0.61,
          0.61,
          0.61,
          0.61,
          0.61,
          0.61,
          0.61,
          0.61,
          0.61,
          0.61,
          0.61,
          0.61,
          0.61,
          0.61,
          0.61,
          0.61,
          0.61,
          0.61,
          0.61,
          0.61,
          0.61,
          0.61,
          1,
          1,
          1,
          1,
          1,
          1,
          1,
          1,
          1,
          1,
          1,
          1,
          1,
          1,
          1,
          1,
          1,
          1,
          1,
          1,
          1,
          1,
          1,
          1,
          1,
          1,
          1,
          1,
          1,
          1,
          1,
          1,
          1,
          1,
          1,
          1,
          1,
          1,
          1,
          1,
          1,
          1,
          1,
          1,
          1,
          1,
          1,
          1,
          1,
          1
         ]
        }
       ],
       "layout": {
        "showlegend": true,
        "template": {
         "data": {
          "bar": [
           {
            "error_x": {
             "color": "#2a3f5f"
            },
            "error_y": {
             "color": "#2a3f5f"
            },
            "marker": {
             "line": {
              "color": "#E5ECF6",
              "width": 0.5
             },
             "pattern": {
              "fillmode": "overlay",
              "size": 10,
              "solidity": 0.2
             }
            },
            "type": "bar"
           }
          ],
          "barpolar": [
           {
            "marker": {
             "line": {
              "color": "#E5ECF6",
              "width": 0.5
             },
             "pattern": {
              "fillmode": "overlay",
              "size": 10,
              "solidity": 0.2
             }
            },
            "type": "barpolar"
           }
          ],
          "carpet": [
           {
            "aaxis": {
             "endlinecolor": "#2a3f5f",
             "gridcolor": "white",
             "linecolor": "white",
             "minorgridcolor": "white",
             "startlinecolor": "#2a3f5f"
            },
            "baxis": {
             "endlinecolor": "#2a3f5f",
             "gridcolor": "white",
             "linecolor": "white",
             "minorgridcolor": "white",
             "startlinecolor": "#2a3f5f"
            },
            "type": "carpet"
           }
          ],
          "choropleth": [
           {
            "colorbar": {
             "outlinewidth": 0,
             "ticks": ""
            },
            "type": "choropleth"
           }
          ],
          "contour": [
           {
            "colorbar": {
             "outlinewidth": 0,
             "ticks": ""
            },
            "colorscale": [
             [
              0,
              "#0d0887"
             ],
             [
              0.1111111111111111,
              "#46039f"
             ],
             [
              0.2222222222222222,
              "#7201a8"
             ],
             [
              0.3333333333333333,
              "#9c179e"
             ],
             [
              0.4444444444444444,
              "#bd3786"
             ],
             [
              0.5555555555555556,
              "#d8576b"
             ],
             [
              0.6666666666666666,
              "#ed7953"
             ],
             [
              0.7777777777777778,
              "#fb9f3a"
             ],
             [
              0.8888888888888888,
              "#fdca26"
             ],
             [
              1,
              "#f0f921"
             ]
            ],
            "type": "contour"
           }
          ],
          "contourcarpet": [
           {
            "colorbar": {
             "outlinewidth": 0,
             "ticks": ""
            },
            "type": "contourcarpet"
           }
          ],
          "heatmap": [
           {
            "colorbar": {
             "outlinewidth": 0,
             "ticks": ""
            },
            "colorscale": [
             [
              0,
              "#0d0887"
             ],
             [
              0.1111111111111111,
              "#46039f"
             ],
             [
              0.2222222222222222,
              "#7201a8"
             ],
             [
              0.3333333333333333,
              "#9c179e"
             ],
             [
              0.4444444444444444,
              "#bd3786"
             ],
             [
              0.5555555555555556,
              "#d8576b"
             ],
             [
              0.6666666666666666,
              "#ed7953"
             ],
             [
              0.7777777777777778,
              "#fb9f3a"
             ],
             [
              0.8888888888888888,
              "#fdca26"
             ],
             [
              1,
              "#f0f921"
             ]
            ],
            "type": "heatmap"
           }
          ],
          "heatmapgl": [
           {
            "colorbar": {
             "outlinewidth": 0,
             "ticks": ""
            },
            "colorscale": [
             [
              0,
              "#0d0887"
             ],
             [
              0.1111111111111111,
              "#46039f"
             ],
             [
              0.2222222222222222,
              "#7201a8"
             ],
             [
              0.3333333333333333,
              "#9c179e"
             ],
             [
              0.4444444444444444,
              "#bd3786"
             ],
             [
              0.5555555555555556,
              "#d8576b"
             ],
             [
              0.6666666666666666,
              "#ed7953"
             ],
             [
              0.7777777777777778,
              "#fb9f3a"
             ],
             [
              0.8888888888888888,
              "#fdca26"
             ],
             [
              1,
              "#f0f921"
             ]
            ],
            "type": "heatmapgl"
           }
          ],
          "histogram": [
           {
            "marker": {
             "pattern": {
              "fillmode": "overlay",
              "size": 10,
              "solidity": 0.2
             }
            },
            "type": "histogram"
           }
          ],
          "histogram2d": [
           {
            "colorbar": {
             "outlinewidth": 0,
             "ticks": ""
            },
            "colorscale": [
             [
              0,
              "#0d0887"
             ],
             [
              0.1111111111111111,
              "#46039f"
             ],
             [
              0.2222222222222222,
              "#7201a8"
             ],
             [
              0.3333333333333333,
              "#9c179e"
             ],
             [
              0.4444444444444444,
              "#bd3786"
             ],
             [
              0.5555555555555556,
              "#d8576b"
             ],
             [
              0.6666666666666666,
              "#ed7953"
             ],
             [
              0.7777777777777778,
              "#fb9f3a"
             ],
             [
              0.8888888888888888,
              "#fdca26"
             ],
             [
              1,
              "#f0f921"
             ]
            ],
            "type": "histogram2d"
           }
          ],
          "histogram2dcontour": [
           {
            "colorbar": {
             "outlinewidth": 0,
             "ticks": ""
            },
            "colorscale": [
             [
              0,
              "#0d0887"
             ],
             [
              0.1111111111111111,
              "#46039f"
             ],
             [
              0.2222222222222222,
              "#7201a8"
             ],
             [
              0.3333333333333333,
              "#9c179e"
             ],
             [
              0.4444444444444444,
              "#bd3786"
             ],
             [
              0.5555555555555556,
              "#d8576b"
             ],
             [
              0.6666666666666666,
              "#ed7953"
             ],
             [
              0.7777777777777778,
              "#fb9f3a"
             ],
             [
              0.8888888888888888,
              "#fdca26"
             ],
             [
              1,
              "#f0f921"
             ]
            ],
            "type": "histogram2dcontour"
           }
          ],
          "mesh3d": [
           {
            "colorbar": {
             "outlinewidth": 0,
             "ticks": ""
            },
            "type": "mesh3d"
           }
          ],
          "parcoords": [
           {
            "line": {
             "colorbar": {
              "outlinewidth": 0,
              "ticks": ""
             }
            },
            "type": "parcoords"
           }
          ],
          "pie": [
           {
            "automargin": true,
            "type": "pie"
           }
          ],
          "scatter": [
           {
            "fillpattern": {
             "fillmode": "overlay",
             "size": 10,
             "solidity": 0.2
            },
            "type": "scatter"
           }
          ],
          "scatter3d": [
           {
            "line": {
             "colorbar": {
              "outlinewidth": 0,
              "ticks": ""
             }
            },
            "marker": {
             "colorbar": {
              "outlinewidth": 0,
              "ticks": ""
             }
            },
            "type": "scatter3d"
           }
          ],
          "scattercarpet": [
           {
            "marker": {
             "colorbar": {
              "outlinewidth": 0,
              "ticks": ""
             }
            },
            "type": "scattercarpet"
           }
          ],
          "scattergeo": [
           {
            "marker": {
             "colorbar": {
              "outlinewidth": 0,
              "ticks": ""
             }
            },
            "type": "scattergeo"
           }
          ],
          "scattergl": [
           {
            "marker": {
             "colorbar": {
              "outlinewidth": 0,
              "ticks": ""
             }
            },
            "type": "scattergl"
           }
          ],
          "scattermapbox": [
           {
            "marker": {
             "colorbar": {
              "outlinewidth": 0,
              "ticks": ""
             }
            },
            "type": "scattermapbox"
           }
          ],
          "scatterpolar": [
           {
            "marker": {
             "colorbar": {
              "outlinewidth": 0,
              "ticks": ""
             }
            },
            "type": "scatterpolar"
           }
          ],
          "scatterpolargl": [
           {
            "marker": {
             "colorbar": {
              "outlinewidth": 0,
              "ticks": ""
             }
            },
            "type": "scatterpolargl"
           }
          ],
          "scatterternary": [
           {
            "marker": {
             "colorbar": {
              "outlinewidth": 0,
              "ticks": ""
             }
            },
            "type": "scatterternary"
           }
          ],
          "surface": [
           {
            "colorbar": {
             "outlinewidth": 0,
             "ticks": ""
            },
            "colorscale": [
             [
              0,
              "#0d0887"
             ],
             [
              0.1111111111111111,
              "#46039f"
             ],
             [
              0.2222222222222222,
              "#7201a8"
             ],
             [
              0.3333333333333333,
              "#9c179e"
             ],
             [
              0.4444444444444444,
              "#bd3786"
             ],
             [
              0.5555555555555556,
              "#d8576b"
             ],
             [
              0.6666666666666666,
              "#ed7953"
             ],
             [
              0.7777777777777778,
              "#fb9f3a"
             ],
             [
              0.8888888888888888,
              "#fdca26"
             ],
             [
              1,
              "#f0f921"
             ]
            ],
            "type": "surface"
           }
          ],
          "table": [
           {
            "cells": {
             "fill": {
              "color": "#EBF0F8"
             },
             "line": {
              "color": "white"
             }
            },
            "header": {
             "fill": {
              "color": "#C8D4E3"
             },
             "line": {
              "color": "white"
             }
            },
            "type": "table"
           }
          ]
         },
         "layout": {
          "annotationdefaults": {
           "arrowcolor": "#2a3f5f",
           "arrowhead": 0,
           "arrowwidth": 1
          },
          "autotypenumbers": "strict",
          "coloraxis": {
           "colorbar": {
            "outlinewidth": 0,
            "ticks": ""
           }
          },
          "colorscale": {
           "diverging": [
            [
             0,
             "#8e0152"
            ],
            [
             0.1,
             "#c51b7d"
            ],
            [
             0.2,
             "#de77ae"
            ],
            [
             0.3,
             "#f1b6da"
            ],
            [
             0.4,
             "#fde0ef"
            ],
            [
             0.5,
             "#f7f7f7"
            ],
            [
             0.6,
             "#e6f5d0"
            ],
            [
             0.7,
             "#b8e186"
            ],
            [
             0.8,
             "#7fbc41"
            ],
            [
             0.9,
             "#4d9221"
            ],
            [
             1,
             "#276419"
            ]
           ],
           "sequential": [
            [
             0,
             "#0d0887"
            ],
            [
             0.1111111111111111,
             "#46039f"
            ],
            [
             0.2222222222222222,
             "#7201a8"
            ],
            [
             0.3333333333333333,
             "#9c179e"
            ],
            [
             0.4444444444444444,
             "#bd3786"
            ],
            [
             0.5555555555555556,
             "#d8576b"
            ],
            [
             0.6666666666666666,
             "#ed7953"
            ],
            [
             0.7777777777777778,
             "#fb9f3a"
            ],
            [
             0.8888888888888888,
             "#fdca26"
            ],
            [
             1,
             "#f0f921"
            ]
           ],
           "sequentialminus": [
            [
             0,
             "#0d0887"
            ],
            [
             0.1111111111111111,
             "#46039f"
            ],
            [
             0.2222222222222222,
             "#7201a8"
            ],
            [
             0.3333333333333333,
             "#9c179e"
            ],
            [
             0.4444444444444444,
             "#bd3786"
            ],
            [
             0.5555555555555556,
             "#d8576b"
            ],
            [
             0.6666666666666666,
             "#ed7953"
            ],
            [
             0.7777777777777778,
             "#fb9f3a"
            ],
            [
             0.8888888888888888,
             "#fdca26"
            ],
            [
             1,
             "#f0f921"
            ]
           ]
          },
          "colorway": [
           "#636efa",
           "#EF553B",
           "#00cc96",
           "#ab63fa",
           "#FFA15A",
           "#19d3f3",
           "#FF6692",
           "#B6E880",
           "#FF97FF",
           "#FECB52"
          ],
          "font": {
           "color": "#2a3f5f"
          },
          "geo": {
           "bgcolor": "white",
           "lakecolor": "white",
           "landcolor": "#E5ECF6",
           "showlakes": true,
           "showland": true,
           "subunitcolor": "white"
          },
          "hoverlabel": {
           "align": "left"
          },
          "hovermode": "closest",
          "mapbox": {
           "style": "light"
          },
          "paper_bgcolor": "white",
          "plot_bgcolor": "#E5ECF6",
          "polar": {
           "angularaxis": {
            "gridcolor": "white",
            "linecolor": "white",
            "ticks": ""
           },
           "bgcolor": "#E5ECF6",
           "radialaxis": {
            "gridcolor": "white",
            "linecolor": "white",
            "ticks": ""
           }
          },
          "scene": {
           "xaxis": {
            "backgroundcolor": "#E5ECF6",
            "gridcolor": "white",
            "gridwidth": 2,
            "linecolor": "white",
            "showbackground": true,
            "ticks": "",
            "zerolinecolor": "white"
           },
           "yaxis": {
            "backgroundcolor": "#E5ECF6",
            "gridcolor": "white",
            "gridwidth": 2,
            "linecolor": "white",
            "showbackground": true,
            "ticks": "",
            "zerolinecolor": "white"
           },
           "zaxis": {
            "backgroundcolor": "#E5ECF6",
            "gridcolor": "white",
            "gridwidth": 2,
            "linecolor": "white",
            "showbackground": true,
            "ticks": "",
            "zerolinecolor": "white"
           }
          },
          "shapedefaults": {
           "line": {
            "color": "#2a3f5f"
           }
          },
          "ternary": {
           "aaxis": {
            "gridcolor": "white",
            "linecolor": "white",
            "ticks": ""
           },
           "baxis": {
            "gridcolor": "white",
            "linecolor": "white",
            "ticks": ""
           },
           "bgcolor": "#E5ECF6",
           "caxis": {
            "gridcolor": "white",
            "linecolor": "white",
            "ticks": ""
           }
          },
          "title": {
           "x": 0.05
          },
          "xaxis": {
           "automargin": true,
           "gridcolor": "white",
           "linecolor": "white",
           "ticks": "",
           "title": {
            "standoff": 15
           },
           "zerolinecolor": "white",
           "zerolinewidth": 2
          },
          "yaxis": {
           "automargin": true,
           "gridcolor": "white",
           "linecolor": "white",
           "ticks": "",
           "title": {
            "standoff": 15
           },
           "zerolinecolor": "white",
           "zerolinewidth": 2
          }
         }
        },
        "title": {
         "text": "Parametric ReLU and Derivative "
        },
        "xaxis": {
         "title": {
          "text": "x"
         }
        },
        "yaxis": {
         "title": {
          "text": "y"
         }
        }
       }
      }
     },
     "metadata": {},
     "output_type": "display_data"
    },
    {
     "data": {
      "application/vnd.plotly.v1+json": {
       "config": {
        "plotlyServerURL": "https://plot.ly"
       },
       "data": [
        {
         "mode": "lines",
         "name": "PReLU function (alpha=0.64)",
         "type": "scatter",
         "x": [
          -3,
          -2.9393939393939394,
          -2.878787878787879,
          -2.8181818181818183,
          -2.757575757575758,
          -2.696969696969697,
          -2.6363636363636362,
          -2.5757575757575757,
          -2.515151515151515,
          -2.4545454545454546,
          -2.393939393939394,
          -2.333333333333333,
          -2.2727272727272725,
          -2.212121212121212,
          -2.1515151515151514,
          -2.090909090909091,
          -2.0303030303030303,
          -1.9696969696969697,
          -1.9090909090909092,
          -1.8484848484848484,
          -1.7878787878787878,
          -1.7272727272727273,
          -1.6666666666666665,
          -1.606060606060606,
          -1.5454545454545454,
          -1.4848484848484849,
          -1.4242424242424243,
          -1.3636363636363635,
          -1.303030303030303,
          -1.2424242424242424,
          -1.1818181818181817,
          -1.121212121212121,
          -1.0606060606060606,
          -1,
          -0.9393939393939394,
          -0.8787878787878789,
          -0.8181818181818183,
          -0.7575757575757573,
          -0.6969696969696968,
          -0.6363636363636362,
          -0.5757575757575757,
          -0.5151515151515151,
          -0.4545454545454546,
          -0.39393939393939403,
          -0.33333333333333304,
          -0.2727272727272725,
          -0.21212121212121193,
          -0.15151515151515138,
          -0.09090909090909083,
          -0.030303030303030276,
          0.030303030303030276,
          0.09090909090909083,
          0.15151515151515138,
          0.21212121212121238,
          0.27272727272727293,
          0.3333333333333335,
          0.39393939393939403,
          0.4545454545454546,
          0.5151515151515151,
          0.5757575757575757,
          0.6363636363636367,
          0.6969696969696972,
          0.7575757575757578,
          0.8181818181818183,
          0.8787878787878789,
          0.9393939393939394,
          1,
          1.0606060606060606,
          1.121212121212121,
          1.1818181818181817,
          1.2424242424242422,
          1.3030303030303028,
          1.3636363636363633,
          1.4242424242424248,
          1.4848484848484853,
          1.5454545454545459,
          1.6060606060606064,
          1.666666666666667,
          1.7272727272727275,
          1.787878787878788,
          1.8484848484848486,
          1.9090909090909092,
          1.9696969696969697,
          2.0303030303030303,
          2.090909090909091,
          2.1515151515151514,
          2.212121212121212,
          2.2727272727272725,
          2.333333333333334,
          2.3939393939393945,
          2.454545454545455,
          2.5151515151515156,
          2.575757575757576,
          2.6363636363636367,
          2.6969696969696972,
          2.757575757575758,
          2.8181818181818183,
          2.878787878787879,
          2.9393939393939394,
          3
         ],
         "y": [
          -1.92,
          -1.8812121212121213,
          -1.8424242424242425,
          -1.8036363636363637,
          -1.764848484848485,
          -1.726060606060606,
          -1.6872727272727273,
          -1.6484848484848484,
          -1.6096969696969696,
          -1.570909090909091,
          -1.5321212121212122,
          -1.4933333333333332,
          -1.4545454545454544,
          -1.4157575757575758,
          -1.376969696969697,
          -1.3381818181818181,
          -1.2993939393939393,
          -1.2606060606060607,
          -1.221818181818182,
          -1.183030303030303,
          -1.1442424242424243,
          -1.1054545454545455,
          -1.0666666666666667,
          -1.0278787878787878,
          -0.9890909090909091,
          -0.9503030303030303,
          -0.9115151515151516,
          -0.8727272727272727,
          -0.833939393939394,
          -0.7951515151515152,
          -0.7563636363636362,
          -0.7175757575757575,
          -0.6787878787878787,
          -0.64,
          -0.6012121212121213,
          -0.5624242424242425,
          -0.5236363636363638,
          -0.4848484848484847,
          -0.44606060606060594,
          -0.40727272727272723,
          -0.36848484848484847,
          -0.3296969696969697,
          -0.29090909090909095,
          -0.2521212121212122,
          -0.21333333333333315,
          -0.1745454545454544,
          -0.13575757575757563,
          -0.09696969696969689,
          -0.05818181818181813,
          -0.019393939393939377,
          0.030303030303030276,
          0.09090909090909083,
          0.15151515151515138,
          0.21212121212121238,
          0.27272727272727293,
          0.3333333333333335,
          0.39393939393939403,
          0.4545454545454546,
          0.5151515151515151,
          0.5757575757575757,
          0.6363636363636367,
          0.6969696969696972,
          0.7575757575757578,
          0.8181818181818183,
          0.8787878787878789,
          0.9393939393939394,
          1,
          1.0606060606060606,
          1.121212121212121,
          1.1818181818181817,
          1.2424242424242422,
          1.3030303030303028,
          1.3636363636363633,
          1.4242424242424248,
          1.4848484848484853,
          1.5454545454545459,
          1.6060606060606064,
          1.666666666666667,
          1.7272727272727275,
          1.787878787878788,
          1.8484848484848486,
          1.9090909090909092,
          1.9696969696969697,
          2.0303030303030303,
          2.090909090909091,
          2.1515151515151514,
          2.212121212121212,
          2.2727272727272725,
          2.333333333333334,
          2.3939393939393945,
          2.454545454545455,
          2.5151515151515156,
          2.575757575757576,
          2.6363636363636367,
          2.6969696969696972,
          2.757575757575758,
          2.8181818181818183,
          2.878787878787879,
          2.9393939393939394,
          3
         ]
        },
        {
         "mode": "lines",
         "name": "PReLU derivative (alpha=0.64)",
         "type": "scatter",
         "x": [
          -3,
          -2.9393939393939394,
          -2.878787878787879,
          -2.8181818181818183,
          -2.757575757575758,
          -2.696969696969697,
          -2.6363636363636362,
          -2.5757575757575757,
          -2.515151515151515,
          -2.4545454545454546,
          -2.393939393939394,
          -2.333333333333333,
          -2.2727272727272725,
          -2.212121212121212,
          -2.1515151515151514,
          -2.090909090909091,
          -2.0303030303030303,
          -1.9696969696969697,
          -1.9090909090909092,
          -1.8484848484848484,
          -1.7878787878787878,
          -1.7272727272727273,
          -1.6666666666666665,
          -1.606060606060606,
          -1.5454545454545454,
          -1.4848484848484849,
          -1.4242424242424243,
          -1.3636363636363635,
          -1.303030303030303,
          -1.2424242424242424,
          -1.1818181818181817,
          -1.121212121212121,
          -1.0606060606060606,
          -1,
          -0.9393939393939394,
          -0.8787878787878789,
          -0.8181818181818183,
          -0.7575757575757573,
          -0.6969696969696968,
          -0.6363636363636362,
          -0.5757575757575757,
          -0.5151515151515151,
          -0.4545454545454546,
          -0.39393939393939403,
          -0.33333333333333304,
          -0.2727272727272725,
          -0.21212121212121193,
          -0.15151515151515138,
          -0.09090909090909083,
          -0.030303030303030276,
          0.030303030303030276,
          0.09090909090909083,
          0.15151515151515138,
          0.21212121212121238,
          0.27272727272727293,
          0.3333333333333335,
          0.39393939393939403,
          0.4545454545454546,
          0.5151515151515151,
          0.5757575757575757,
          0.6363636363636367,
          0.6969696969696972,
          0.7575757575757578,
          0.8181818181818183,
          0.8787878787878789,
          0.9393939393939394,
          1,
          1.0606060606060606,
          1.121212121212121,
          1.1818181818181817,
          1.2424242424242422,
          1.3030303030303028,
          1.3636363636363633,
          1.4242424242424248,
          1.4848484848484853,
          1.5454545454545459,
          1.6060606060606064,
          1.666666666666667,
          1.7272727272727275,
          1.787878787878788,
          1.8484848484848486,
          1.9090909090909092,
          1.9696969696969697,
          2.0303030303030303,
          2.090909090909091,
          2.1515151515151514,
          2.212121212121212,
          2.2727272727272725,
          2.333333333333334,
          2.3939393939393945,
          2.454545454545455,
          2.5151515151515156,
          2.575757575757576,
          2.6363636363636367,
          2.6969696969696972,
          2.757575757575758,
          2.8181818181818183,
          2.878787878787879,
          2.9393939393939394,
          3
         ],
         "y": [
          0.64,
          0.64,
          0.64,
          0.64,
          0.64,
          0.64,
          0.64,
          0.64,
          0.64,
          0.64,
          0.64,
          0.64,
          0.64,
          0.64,
          0.64,
          0.64,
          0.64,
          0.64,
          0.64,
          0.64,
          0.64,
          0.64,
          0.64,
          0.64,
          0.64,
          0.64,
          0.64,
          0.64,
          0.64,
          0.64,
          0.64,
          0.64,
          0.64,
          0.64,
          0.64,
          0.64,
          0.64,
          0.64,
          0.64,
          0.64,
          0.64,
          0.64,
          0.64,
          0.64,
          0.64,
          0.64,
          0.64,
          0.64,
          0.64,
          0.64,
          1,
          1,
          1,
          1,
          1,
          1,
          1,
          1,
          1,
          1,
          1,
          1,
          1,
          1,
          1,
          1,
          1,
          1,
          1,
          1,
          1,
          1,
          1,
          1,
          1,
          1,
          1,
          1,
          1,
          1,
          1,
          1,
          1,
          1,
          1,
          1,
          1,
          1,
          1,
          1,
          1,
          1,
          1,
          1,
          1,
          1,
          1,
          1,
          1,
          1
         ]
        }
       ],
       "layout": {
        "showlegend": true,
        "template": {
         "data": {
          "bar": [
           {
            "error_x": {
             "color": "#2a3f5f"
            },
            "error_y": {
             "color": "#2a3f5f"
            },
            "marker": {
             "line": {
              "color": "#E5ECF6",
              "width": 0.5
             },
             "pattern": {
              "fillmode": "overlay",
              "size": 10,
              "solidity": 0.2
             }
            },
            "type": "bar"
           }
          ],
          "barpolar": [
           {
            "marker": {
             "line": {
              "color": "#E5ECF6",
              "width": 0.5
             },
             "pattern": {
              "fillmode": "overlay",
              "size": 10,
              "solidity": 0.2
             }
            },
            "type": "barpolar"
           }
          ],
          "carpet": [
           {
            "aaxis": {
             "endlinecolor": "#2a3f5f",
             "gridcolor": "white",
             "linecolor": "white",
             "minorgridcolor": "white",
             "startlinecolor": "#2a3f5f"
            },
            "baxis": {
             "endlinecolor": "#2a3f5f",
             "gridcolor": "white",
             "linecolor": "white",
             "minorgridcolor": "white",
             "startlinecolor": "#2a3f5f"
            },
            "type": "carpet"
           }
          ],
          "choropleth": [
           {
            "colorbar": {
             "outlinewidth": 0,
             "ticks": ""
            },
            "type": "choropleth"
           }
          ],
          "contour": [
           {
            "colorbar": {
             "outlinewidth": 0,
             "ticks": ""
            },
            "colorscale": [
             [
              0,
              "#0d0887"
             ],
             [
              0.1111111111111111,
              "#46039f"
             ],
             [
              0.2222222222222222,
              "#7201a8"
             ],
             [
              0.3333333333333333,
              "#9c179e"
             ],
             [
              0.4444444444444444,
              "#bd3786"
             ],
             [
              0.5555555555555556,
              "#d8576b"
             ],
             [
              0.6666666666666666,
              "#ed7953"
             ],
             [
              0.7777777777777778,
              "#fb9f3a"
             ],
             [
              0.8888888888888888,
              "#fdca26"
             ],
             [
              1,
              "#f0f921"
             ]
            ],
            "type": "contour"
           }
          ],
          "contourcarpet": [
           {
            "colorbar": {
             "outlinewidth": 0,
             "ticks": ""
            },
            "type": "contourcarpet"
           }
          ],
          "heatmap": [
           {
            "colorbar": {
             "outlinewidth": 0,
             "ticks": ""
            },
            "colorscale": [
             [
              0,
              "#0d0887"
             ],
             [
              0.1111111111111111,
              "#46039f"
             ],
             [
              0.2222222222222222,
              "#7201a8"
             ],
             [
              0.3333333333333333,
              "#9c179e"
             ],
             [
              0.4444444444444444,
              "#bd3786"
             ],
             [
              0.5555555555555556,
              "#d8576b"
             ],
             [
              0.6666666666666666,
              "#ed7953"
             ],
             [
              0.7777777777777778,
              "#fb9f3a"
             ],
             [
              0.8888888888888888,
              "#fdca26"
             ],
             [
              1,
              "#f0f921"
             ]
            ],
            "type": "heatmap"
           }
          ],
          "heatmapgl": [
           {
            "colorbar": {
             "outlinewidth": 0,
             "ticks": ""
            },
            "colorscale": [
             [
              0,
              "#0d0887"
             ],
             [
              0.1111111111111111,
              "#46039f"
             ],
             [
              0.2222222222222222,
              "#7201a8"
             ],
             [
              0.3333333333333333,
              "#9c179e"
             ],
             [
              0.4444444444444444,
              "#bd3786"
             ],
             [
              0.5555555555555556,
              "#d8576b"
             ],
             [
              0.6666666666666666,
              "#ed7953"
             ],
             [
              0.7777777777777778,
              "#fb9f3a"
             ],
             [
              0.8888888888888888,
              "#fdca26"
             ],
             [
              1,
              "#f0f921"
             ]
            ],
            "type": "heatmapgl"
           }
          ],
          "histogram": [
           {
            "marker": {
             "pattern": {
              "fillmode": "overlay",
              "size": 10,
              "solidity": 0.2
             }
            },
            "type": "histogram"
           }
          ],
          "histogram2d": [
           {
            "colorbar": {
             "outlinewidth": 0,
             "ticks": ""
            },
            "colorscale": [
             [
              0,
              "#0d0887"
             ],
             [
              0.1111111111111111,
              "#46039f"
             ],
             [
              0.2222222222222222,
              "#7201a8"
             ],
             [
              0.3333333333333333,
              "#9c179e"
             ],
             [
              0.4444444444444444,
              "#bd3786"
             ],
             [
              0.5555555555555556,
              "#d8576b"
             ],
             [
              0.6666666666666666,
              "#ed7953"
             ],
             [
              0.7777777777777778,
              "#fb9f3a"
             ],
             [
              0.8888888888888888,
              "#fdca26"
             ],
             [
              1,
              "#f0f921"
             ]
            ],
            "type": "histogram2d"
           }
          ],
          "histogram2dcontour": [
           {
            "colorbar": {
             "outlinewidth": 0,
             "ticks": ""
            },
            "colorscale": [
             [
              0,
              "#0d0887"
             ],
             [
              0.1111111111111111,
              "#46039f"
             ],
             [
              0.2222222222222222,
              "#7201a8"
             ],
             [
              0.3333333333333333,
              "#9c179e"
             ],
             [
              0.4444444444444444,
              "#bd3786"
             ],
             [
              0.5555555555555556,
              "#d8576b"
             ],
             [
              0.6666666666666666,
              "#ed7953"
             ],
             [
              0.7777777777777778,
              "#fb9f3a"
             ],
             [
              0.8888888888888888,
              "#fdca26"
             ],
             [
              1,
              "#f0f921"
             ]
            ],
            "type": "histogram2dcontour"
           }
          ],
          "mesh3d": [
           {
            "colorbar": {
             "outlinewidth": 0,
             "ticks": ""
            },
            "type": "mesh3d"
           }
          ],
          "parcoords": [
           {
            "line": {
             "colorbar": {
              "outlinewidth": 0,
              "ticks": ""
             }
            },
            "type": "parcoords"
           }
          ],
          "pie": [
           {
            "automargin": true,
            "type": "pie"
           }
          ],
          "scatter": [
           {
            "fillpattern": {
             "fillmode": "overlay",
             "size": 10,
             "solidity": 0.2
            },
            "type": "scatter"
           }
          ],
          "scatter3d": [
           {
            "line": {
             "colorbar": {
              "outlinewidth": 0,
              "ticks": ""
             }
            },
            "marker": {
             "colorbar": {
              "outlinewidth": 0,
              "ticks": ""
             }
            },
            "type": "scatter3d"
           }
          ],
          "scattercarpet": [
           {
            "marker": {
             "colorbar": {
              "outlinewidth": 0,
              "ticks": ""
             }
            },
            "type": "scattercarpet"
           }
          ],
          "scattergeo": [
           {
            "marker": {
             "colorbar": {
              "outlinewidth": 0,
              "ticks": ""
             }
            },
            "type": "scattergeo"
           }
          ],
          "scattergl": [
           {
            "marker": {
             "colorbar": {
              "outlinewidth": 0,
              "ticks": ""
             }
            },
            "type": "scattergl"
           }
          ],
          "scattermapbox": [
           {
            "marker": {
             "colorbar": {
              "outlinewidth": 0,
              "ticks": ""
             }
            },
            "type": "scattermapbox"
           }
          ],
          "scatterpolar": [
           {
            "marker": {
             "colorbar": {
              "outlinewidth": 0,
              "ticks": ""
             }
            },
            "type": "scatterpolar"
           }
          ],
          "scatterpolargl": [
           {
            "marker": {
             "colorbar": {
              "outlinewidth": 0,
              "ticks": ""
             }
            },
            "type": "scatterpolargl"
           }
          ],
          "scatterternary": [
           {
            "marker": {
             "colorbar": {
              "outlinewidth": 0,
              "ticks": ""
             }
            },
            "type": "scatterternary"
           }
          ],
          "surface": [
           {
            "colorbar": {
             "outlinewidth": 0,
             "ticks": ""
            },
            "colorscale": [
             [
              0,
              "#0d0887"
             ],
             [
              0.1111111111111111,
              "#46039f"
             ],
             [
              0.2222222222222222,
              "#7201a8"
             ],
             [
              0.3333333333333333,
              "#9c179e"
             ],
             [
              0.4444444444444444,
              "#bd3786"
             ],
             [
              0.5555555555555556,
              "#d8576b"
             ],
             [
              0.6666666666666666,
              "#ed7953"
             ],
             [
              0.7777777777777778,
              "#fb9f3a"
             ],
             [
              0.8888888888888888,
              "#fdca26"
             ],
             [
              1,
              "#f0f921"
             ]
            ],
            "type": "surface"
           }
          ],
          "table": [
           {
            "cells": {
             "fill": {
              "color": "#EBF0F8"
             },
             "line": {
              "color": "white"
             }
            },
            "header": {
             "fill": {
              "color": "#C8D4E3"
             },
             "line": {
              "color": "white"
             }
            },
            "type": "table"
           }
          ]
         },
         "layout": {
          "annotationdefaults": {
           "arrowcolor": "#2a3f5f",
           "arrowhead": 0,
           "arrowwidth": 1
          },
          "autotypenumbers": "strict",
          "coloraxis": {
           "colorbar": {
            "outlinewidth": 0,
            "ticks": ""
           }
          },
          "colorscale": {
           "diverging": [
            [
             0,
             "#8e0152"
            ],
            [
             0.1,
             "#c51b7d"
            ],
            [
             0.2,
             "#de77ae"
            ],
            [
             0.3,
             "#f1b6da"
            ],
            [
             0.4,
             "#fde0ef"
            ],
            [
             0.5,
             "#f7f7f7"
            ],
            [
             0.6,
             "#e6f5d0"
            ],
            [
             0.7,
             "#b8e186"
            ],
            [
             0.8,
             "#7fbc41"
            ],
            [
             0.9,
             "#4d9221"
            ],
            [
             1,
             "#276419"
            ]
           ],
           "sequential": [
            [
             0,
             "#0d0887"
            ],
            [
             0.1111111111111111,
             "#46039f"
            ],
            [
             0.2222222222222222,
             "#7201a8"
            ],
            [
             0.3333333333333333,
             "#9c179e"
            ],
            [
             0.4444444444444444,
             "#bd3786"
            ],
            [
             0.5555555555555556,
             "#d8576b"
            ],
            [
             0.6666666666666666,
             "#ed7953"
            ],
            [
             0.7777777777777778,
             "#fb9f3a"
            ],
            [
             0.8888888888888888,
             "#fdca26"
            ],
            [
             1,
             "#f0f921"
            ]
           ],
           "sequentialminus": [
            [
             0,
             "#0d0887"
            ],
            [
             0.1111111111111111,
             "#46039f"
            ],
            [
             0.2222222222222222,
             "#7201a8"
            ],
            [
             0.3333333333333333,
             "#9c179e"
            ],
            [
             0.4444444444444444,
             "#bd3786"
            ],
            [
             0.5555555555555556,
             "#d8576b"
            ],
            [
             0.6666666666666666,
             "#ed7953"
            ],
            [
             0.7777777777777778,
             "#fb9f3a"
            ],
            [
             0.8888888888888888,
             "#fdca26"
            ],
            [
             1,
             "#f0f921"
            ]
           ]
          },
          "colorway": [
           "#636efa",
           "#EF553B",
           "#00cc96",
           "#ab63fa",
           "#FFA15A",
           "#19d3f3",
           "#FF6692",
           "#B6E880",
           "#FF97FF",
           "#FECB52"
          ],
          "font": {
           "color": "#2a3f5f"
          },
          "geo": {
           "bgcolor": "white",
           "lakecolor": "white",
           "landcolor": "#E5ECF6",
           "showlakes": true,
           "showland": true,
           "subunitcolor": "white"
          },
          "hoverlabel": {
           "align": "left"
          },
          "hovermode": "closest",
          "mapbox": {
           "style": "light"
          },
          "paper_bgcolor": "white",
          "plot_bgcolor": "#E5ECF6",
          "polar": {
           "angularaxis": {
            "gridcolor": "white",
            "linecolor": "white",
            "ticks": ""
           },
           "bgcolor": "#E5ECF6",
           "radialaxis": {
            "gridcolor": "white",
            "linecolor": "white",
            "ticks": ""
           }
          },
          "scene": {
           "xaxis": {
            "backgroundcolor": "#E5ECF6",
            "gridcolor": "white",
            "gridwidth": 2,
            "linecolor": "white",
            "showbackground": true,
            "ticks": "",
            "zerolinecolor": "white"
           },
           "yaxis": {
            "backgroundcolor": "#E5ECF6",
            "gridcolor": "white",
            "gridwidth": 2,
            "linecolor": "white",
            "showbackground": true,
            "ticks": "",
            "zerolinecolor": "white"
           },
           "zaxis": {
            "backgroundcolor": "#E5ECF6",
            "gridcolor": "white",
            "gridwidth": 2,
            "linecolor": "white",
            "showbackground": true,
            "ticks": "",
            "zerolinecolor": "white"
           }
          },
          "shapedefaults": {
           "line": {
            "color": "#2a3f5f"
           }
          },
          "ternary": {
           "aaxis": {
            "gridcolor": "white",
            "linecolor": "white",
            "ticks": ""
           },
           "baxis": {
            "gridcolor": "white",
            "linecolor": "white",
            "ticks": ""
           },
           "bgcolor": "#E5ECF6",
           "caxis": {
            "gridcolor": "white",
            "linecolor": "white",
            "ticks": ""
           }
          },
          "title": {
           "x": 0.05
          },
          "xaxis": {
           "automargin": true,
           "gridcolor": "white",
           "linecolor": "white",
           "ticks": "",
           "title": {
            "standoff": 15
           },
           "zerolinecolor": "white",
           "zerolinewidth": 2
          },
          "yaxis": {
           "automargin": true,
           "gridcolor": "white",
           "linecolor": "white",
           "ticks": "",
           "title": {
            "standoff": 15
           },
           "zerolinecolor": "white",
           "zerolinewidth": 2
          }
         }
        },
        "title": {
         "text": "Parametric ReLU and Derivative "
        },
        "xaxis": {
         "title": {
          "text": "x"
         }
        },
        "yaxis": {
         "title": {
          "text": "y"
         }
        }
       }
      }
     },
     "metadata": {},
     "output_type": "display_data"
    },
    {
     "data": {
      "application/vnd.plotly.v1+json": {
       "config": {
        "plotlyServerURL": "https://plot.ly"
       },
       "data": [
        {
         "mode": "lines",
         "name": "PReLU function (alpha=0.81)",
         "type": "scatter",
         "x": [
          -3,
          -2.9393939393939394,
          -2.878787878787879,
          -2.8181818181818183,
          -2.757575757575758,
          -2.696969696969697,
          -2.6363636363636362,
          -2.5757575757575757,
          -2.515151515151515,
          -2.4545454545454546,
          -2.393939393939394,
          -2.333333333333333,
          -2.2727272727272725,
          -2.212121212121212,
          -2.1515151515151514,
          -2.090909090909091,
          -2.0303030303030303,
          -1.9696969696969697,
          -1.9090909090909092,
          -1.8484848484848484,
          -1.7878787878787878,
          -1.7272727272727273,
          -1.6666666666666665,
          -1.606060606060606,
          -1.5454545454545454,
          -1.4848484848484849,
          -1.4242424242424243,
          -1.3636363636363635,
          -1.303030303030303,
          -1.2424242424242424,
          -1.1818181818181817,
          -1.121212121212121,
          -1.0606060606060606,
          -1,
          -0.9393939393939394,
          -0.8787878787878789,
          -0.8181818181818183,
          -0.7575757575757573,
          -0.6969696969696968,
          -0.6363636363636362,
          -0.5757575757575757,
          -0.5151515151515151,
          -0.4545454545454546,
          -0.39393939393939403,
          -0.33333333333333304,
          -0.2727272727272725,
          -0.21212121212121193,
          -0.15151515151515138,
          -0.09090909090909083,
          -0.030303030303030276,
          0.030303030303030276,
          0.09090909090909083,
          0.15151515151515138,
          0.21212121212121238,
          0.27272727272727293,
          0.3333333333333335,
          0.39393939393939403,
          0.4545454545454546,
          0.5151515151515151,
          0.5757575757575757,
          0.6363636363636367,
          0.6969696969696972,
          0.7575757575757578,
          0.8181818181818183,
          0.8787878787878789,
          0.9393939393939394,
          1,
          1.0606060606060606,
          1.121212121212121,
          1.1818181818181817,
          1.2424242424242422,
          1.3030303030303028,
          1.3636363636363633,
          1.4242424242424248,
          1.4848484848484853,
          1.5454545454545459,
          1.6060606060606064,
          1.666666666666667,
          1.7272727272727275,
          1.787878787878788,
          1.8484848484848486,
          1.9090909090909092,
          1.9696969696969697,
          2.0303030303030303,
          2.090909090909091,
          2.1515151515151514,
          2.212121212121212,
          2.2727272727272725,
          2.333333333333334,
          2.3939393939393945,
          2.454545454545455,
          2.5151515151515156,
          2.575757575757576,
          2.6363636363636367,
          2.6969696969696972,
          2.757575757575758,
          2.8181818181818183,
          2.878787878787879,
          2.9393939393939394,
          3
         ],
         "y": [
          -2.43,
          -2.3809090909090913,
          -2.331818181818182,
          -2.282727272727273,
          -2.233636363636364,
          -2.1845454545454546,
          -2.1354545454545457,
          -2.0863636363636364,
          -2.0372727272727276,
          -1.9881818181818183,
          -1.9390909090909092,
          -1.89,
          -1.8409090909090908,
          -1.7918181818181818,
          -1.7427272727272727,
          -1.6936363636363636,
          -1.6445454545454545,
          -1.5954545454545457,
          -1.5463636363636366,
          -1.4972727272727273,
          -1.4481818181818182,
          -1.3990909090909092,
          -1.3499999999999999,
          -1.300909090909091,
          -1.251818181818182,
          -1.2027272727272729,
          -1.1536363636363638,
          -1.1045454545454545,
          -1.0554545454545454,
          -1.0063636363636363,
          -0.9572727272727272,
          -0.9081818181818182,
          -0.8590909090909091,
          -0.81,
          -0.760909090909091,
          -0.7118181818181819,
          -0.6627272727272729,
          -0.6136363636363635,
          -0.5645454545454545,
          -0.5154545454545454,
          -0.4663636363636363,
          -0.4172727272727273,
          -0.3681818181818182,
          -0.3190909090909092,
          -0.2699999999999998,
          -0.22090909090909072,
          -0.17181818181818168,
          -0.12272727272727263,
          -0.07363636363636357,
          -0.024545454545454527,
          0.030303030303030276,
          0.09090909090909083,
          0.15151515151515138,
          0.21212121212121238,
          0.27272727272727293,
          0.3333333333333335,
          0.39393939393939403,
          0.4545454545454546,
          0.5151515151515151,
          0.5757575757575757,
          0.6363636363636367,
          0.6969696969696972,
          0.7575757575757578,
          0.8181818181818183,
          0.8787878787878789,
          0.9393939393939394,
          1,
          1.0606060606060606,
          1.121212121212121,
          1.1818181818181817,
          1.2424242424242422,
          1.3030303030303028,
          1.3636363636363633,
          1.4242424242424248,
          1.4848484848484853,
          1.5454545454545459,
          1.6060606060606064,
          1.666666666666667,
          1.7272727272727275,
          1.787878787878788,
          1.8484848484848486,
          1.9090909090909092,
          1.9696969696969697,
          2.0303030303030303,
          2.090909090909091,
          2.1515151515151514,
          2.212121212121212,
          2.2727272727272725,
          2.333333333333334,
          2.3939393939393945,
          2.454545454545455,
          2.5151515151515156,
          2.575757575757576,
          2.6363636363636367,
          2.6969696969696972,
          2.757575757575758,
          2.8181818181818183,
          2.878787878787879,
          2.9393939393939394,
          3
         ]
        },
        {
         "mode": "lines",
         "name": "PReLU derivative (alpha=0.81)",
         "type": "scatter",
         "x": [
          -3,
          -2.9393939393939394,
          -2.878787878787879,
          -2.8181818181818183,
          -2.757575757575758,
          -2.696969696969697,
          -2.6363636363636362,
          -2.5757575757575757,
          -2.515151515151515,
          -2.4545454545454546,
          -2.393939393939394,
          -2.333333333333333,
          -2.2727272727272725,
          -2.212121212121212,
          -2.1515151515151514,
          -2.090909090909091,
          -2.0303030303030303,
          -1.9696969696969697,
          -1.9090909090909092,
          -1.8484848484848484,
          -1.7878787878787878,
          -1.7272727272727273,
          -1.6666666666666665,
          -1.606060606060606,
          -1.5454545454545454,
          -1.4848484848484849,
          -1.4242424242424243,
          -1.3636363636363635,
          -1.303030303030303,
          -1.2424242424242424,
          -1.1818181818181817,
          -1.121212121212121,
          -1.0606060606060606,
          -1,
          -0.9393939393939394,
          -0.8787878787878789,
          -0.8181818181818183,
          -0.7575757575757573,
          -0.6969696969696968,
          -0.6363636363636362,
          -0.5757575757575757,
          -0.5151515151515151,
          -0.4545454545454546,
          -0.39393939393939403,
          -0.33333333333333304,
          -0.2727272727272725,
          -0.21212121212121193,
          -0.15151515151515138,
          -0.09090909090909083,
          -0.030303030303030276,
          0.030303030303030276,
          0.09090909090909083,
          0.15151515151515138,
          0.21212121212121238,
          0.27272727272727293,
          0.3333333333333335,
          0.39393939393939403,
          0.4545454545454546,
          0.5151515151515151,
          0.5757575757575757,
          0.6363636363636367,
          0.6969696969696972,
          0.7575757575757578,
          0.8181818181818183,
          0.8787878787878789,
          0.9393939393939394,
          1,
          1.0606060606060606,
          1.121212121212121,
          1.1818181818181817,
          1.2424242424242422,
          1.3030303030303028,
          1.3636363636363633,
          1.4242424242424248,
          1.4848484848484853,
          1.5454545454545459,
          1.6060606060606064,
          1.666666666666667,
          1.7272727272727275,
          1.787878787878788,
          1.8484848484848486,
          1.9090909090909092,
          1.9696969696969697,
          2.0303030303030303,
          2.090909090909091,
          2.1515151515151514,
          2.212121212121212,
          2.2727272727272725,
          2.333333333333334,
          2.3939393939393945,
          2.454545454545455,
          2.5151515151515156,
          2.575757575757576,
          2.6363636363636367,
          2.6969696969696972,
          2.757575757575758,
          2.8181818181818183,
          2.878787878787879,
          2.9393939393939394,
          3
         ],
         "y": [
          0.81,
          0.81,
          0.81,
          0.81,
          0.81,
          0.81,
          0.81,
          0.81,
          0.81,
          0.81,
          0.81,
          0.81,
          0.81,
          0.81,
          0.81,
          0.81,
          0.81,
          0.81,
          0.81,
          0.81,
          0.81,
          0.81,
          0.81,
          0.81,
          0.81,
          0.81,
          0.81,
          0.81,
          0.81,
          0.81,
          0.81,
          0.81,
          0.81,
          0.81,
          0.81,
          0.81,
          0.81,
          0.81,
          0.81,
          0.81,
          0.81,
          0.81,
          0.81,
          0.81,
          0.81,
          0.81,
          0.81,
          0.81,
          0.81,
          0.81,
          1,
          1,
          1,
          1,
          1,
          1,
          1,
          1,
          1,
          1,
          1,
          1,
          1,
          1,
          1,
          1,
          1,
          1,
          1,
          1,
          1,
          1,
          1,
          1,
          1,
          1,
          1,
          1,
          1,
          1,
          1,
          1,
          1,
          1,
          1,
          1,
          1,
          1,
          1,
          1,
          1,
          1,
          1,
          1,
          1,
          1,
          1,
          1,
          1,
          1
         ]
        }
       ],
       "layout": {
        "showlegend": true,
        "template": {
         "data": {
          "bar": [
           {
            "error_x": {
             "color": "#2a3f5f"
            },
            "error_y": {
             "color": "#2a3f5f"
            },
            "marker": {
             "line": {
              "color": "#E5ECF6",
              "width": 0.5
             },
             "pattern": {
              "fillmode": "overlay",
              "size": 10,
              "solidity": 0.2
             }
            },
            "type": "bar"
           }
          ],
          "barpolar": [
           {
            "marker": {
             "line": {
              "color": "#E5ECF6",
              "width": 0.5
             },
             "pattern": {
              "fillmode": "overlay",
              "size": 10,
              "solidity": 0.2
             }
            },
            "type": "barpolar"
           }
          ],
          "carpet": [
           {
            "aaxis": {
             "endlinecolor": "#2a3f5f",
             "gridcolor": "white",
             "linecolor": "white",
             "minorgridcolor": "white",
             "startlinecolor": "#2a3f5f"
            },
            "baxis": {
             "endlinecolor": "#2a3f5f",
             "gridcolor": "white",
             "linecolor": "white",
             "minorgridcolor": "white",
             "startlinecolor": "#2a3f5f"
            },
            "type": "carpet"
           }
          ],
          "choropleth": [
           {
            "colorbar": {
             "outlinewidth": 0,
             "ticks": ""
            },
            "type": "choropleth"
           }
          ],
          "contour": [
           {
            "colorbar": {
             "outlinewidth": 0,
             "ticks": ""
            },
            "colorscale": [
             [
              0,
              "#0d0887"
             ],
             [
              0.1111111111111111,
              "#46039f"
             ],
             [
              0.2222222222222222,
              "#7201a8"
             ],
             [
              0.3333333333333333,
              "#9c179e"
             ],
             [
              0.4444444444444444,
              "#bd3786"
             ],
             [
              0.5555555555555556,
              "#d8576b"
             ],
             [
              0.6666666666666666,
              "#ed7953"
             ],
             [
              0.7777777777777778,
              "#fb9f3a"
             ],
             [
              0.8888888888888888,
              "#fdca26"
             ],
             [
              1,
              "#f0f921"
             ]
            ],
            "type": "contour"
           }
          ],
          "contourcarpet": [
           {
            "colorbar": {
             "outlinewidth": 0,
             "ticks": ""
            },
            "type": "contourcarpet"
           }
          ],
          "heatmap": [
           {
            "colorbar": {
             "outlinewidth": 0,
             "ticks": ""
            },
            "colorscale": [
             [
              0,
              "#0d0887"
             ],
             [
              0.1111111111111111,
              "#46039f"
             ],
             [
              0.2222222222222222,
              "#7201a8"
             ],
             [
              0.3333333333333333,
              "#9c179e"
             ],
             [
              0.4444444444444444,
              "#bd3786"
             ],
             [
              0.5555555555555556,
              "#d8576b"
             ],
             [
              0.6666666666666666,
              "#ed7953"
             ],
             [
              0.7777777777777778,
              "#fb9f3a"
             ],
             [
              0.8888888888888888,
              "#fdca26"
             ],
             [
              1,
              "#f0f921"
             ]
            ],
            "type": "heatmap"
           }
          ],
          "heatmapgl": [
           {
            "colorbar": {
             "outlinewidth": 0,
             "ticks": ""
            },
            "colorscale": [
             [
              0,
              "#0d0887"
             ],
             [
              0.1111111111111111,
              "#46039f"
             ],
             [
              0.2222222222222222,
              "#7201a8"
             ],
             [
              0.3333333333333333,
              "#9c179e"
             ],
             [
              0.4444444444444444,
              "#bd3786"
             ],
             [
              0.5555555555555556,
              "#d8576b"
             ],
             [
              0.6666666666666666,
              "#ed7953"
             ],
             [
              0.7777777777777778,
              "#fb9f3a"
             ],
             [
              0.8888888888888888,
              "#fdca26"
             ],
             [
              1,
              "#f0f921"
             ]
            ],
            "type": "heatmapgl"
           }
          ],
          "histogram": [
           {
            "marker": {
             "pattern": {
              "fillmode": "overlay",
              "size": 10,
              "solidity": 0.2
             }
            },
            "type": "histogram"
           }
          ],
          "histogram2d": [
           {
            "colorbar": {
             "outlinewidth": 0,
             "ticks": ""
            },
            "colorscale": [
             [
              0,
              "#0d0887"
             ],
             [
              0.1111111111111111,
              "#46039f"
             ],
             [
              0.2222222222222222,
              "#7201a8"
             ],
             [
              0.3333333333333333,
              "#9c179e"
             ],
             [
              0.4444444444444444,
              "#bd3786"
             ],
             [
              0.5555555555555556,
              "#d8576b"
             ],
             [
              0.6666666666666666,
              "#ed7953"
             ],
             [
              0.7777777777777778,
              "#fb9f3a"
             ],
             [
              0.8888888888888888,
              "#fdca26"
             ],
             [
              1,
              "#f0f921"
             ]
            ],
            "type": "histogram2d"
           }
          ],
          "histogram2dcontour": [
           {
            "colorbar": {
             "outlinewidth": 0,
             "ticks": ""
            },
            "colorscale": [
             [
              0,
              "#0d0887"
             ],
             [
              0.1111111111111111,
              "#46039f"
             ],
             [
              0.2222222222222222,
              "#7201a8"
             ],
             [
              0.3333333333333333,
              "#9c179e"
             ],
             [
              0.4444444444444444,
              "#bd3786"
             ],
             [
              0.5555555555555556,
              "#d8576b"
             ],
             [
              0.6666666666666666,
              "#ed7953"
             ],
             [
              0.7777777777777778,
              "#fb9f3a"
             ],
             [
              0.8888888888888888,
              "#fdca26"
             ],
             [
              1,
              "#f0f921"
             ]
            ],
            "type": "histogram2dcontour"
           }
          ],
          "mesh3d": [
           {
            "colorbar": {
             "outlinewidth": 0,
             "ticks": ""
            },
            "type": "mesh3d"
           }
          ],
          "parcoords": [
           {
            "line": {
             "colorbar": {
              "outlinewidth": 0,
              "ticks": ""
             }
            },
            "type": "parcoords"
           }
          ],
          "pie": [
           {
            "automargin": true,
            "type": "pie"
           }
          ],
          "scatter": [
           {
            "fillpattern": {
             "fillmode": "overlay",
             "size": 10,
             "solidity": 0.2
            },
            "type": "scatter"
           }
          ],
          "scatter3d": [
           {
            "line": {
             "colorbar": {
              "outlinewidth": 0,
              "ticks": ""
             }
            },
            "marker": {
             "colorbar": {
              "outlinewidth": 0,
              "ticks": ""
             }
            },
            "type": "scatter3d"
           }
          ],
          "scattercarpet": [
           {
            "marker": {
             "colorbar": {
              "outlinewidth": 0,
              "ticks": ""
             }
            },
            "type": "scattercarpet"
           }
          ],
          "scattergeo": [
           {
            "marker": {
             "colorbar": {
              "outlinewidth": 0,
              "ticks": ""
             }
            },
            "type": "scattergeo"
           }
          ],
          "scattergl": [
           {
            "marker": {
             "colorbar": {
              "outlinewidth": 0,
              "ticks": ""
             }
            },
            "type": "scattergl"
           }
          ],
          "scattermapbox": [
           {
            "marker": {
             "colorbar": {
              "outlinewidth": 0,
              "ticks": ""
             }
            },
            "type": "scattermapbox"
           }
          ],
          "scatterpolar": [
           {
            "marker": {
             "colorbar": {
              "outlinewidth": 0,
              "ticks": ""
             }
            },
            "type": "scatterpolar"
           }
          ],
          "scatterpolargl": [
           {
            "marker": {
             "colorbar": {
              "outlinewidth": 0,
              "ticks": ""
             }
            },
            "type": "scatterpolargl"
           }
          ],
          "scatterternary": [
           {
            "marker": {
             "colorbar": {
              "outlinewidth": 0,
              "ticks": ""
             }
            },
            "type": "scatterternary"
           }
          ],
          "surface": [
           {
            "colorbar": {
             "outlinewidth": 0,
             "ticks": ""
            },
            "colorscale": [
             [
              0,
              "#0d0887"
             ],
             [
              0.1111111111111111,
              "#46039f"
             ],
             [
              0.2222222222222222,
              "#7201a8"
             ],
             [
              0.3333333333333333,
              "#9c179e"
             ],
             [
              0.4444444444444444,
              "#bd3786"
             ],
             [
              0.5555555555555556,
              "#d8576b"
             ],
             [
              0.6666666666666666,
              "#ed7953"
             ],
             [
              0.7777777777777778,
              "#fb9f3a"
             ],
             [
              0.8888888888888888,
              "#fdca26"
             ],
             [
              1,
              "#f0f921"
             ]
            ],
            "type": "surface"
           }
          ],
          "table": [
           {
            "cells": {
             "fill": {
              "color": "#EBF0F8"
             },
             "line": {
              "color": "white"
             }
            },
            "header": {
             "fill": {
              "color": "#C8D4E3"
             },
             "line": {
              "color": "white"
             }
            },
            "type": "table"
           }
          ]
         },
         "layout": {
          "annotationdefaults": {
           "arrowcolor": "#2a3f5f",
           "arrowhead": 0,
           "arrowwidth": 1
          },
          "autotypenumbers": "strict",
          "coloraxis": {
           "colorbar": {
            "outlinewidth": 0,
            "ticks": ""
           }
          },
          "colorscale": {
           "diverging": [
            [
             0,
             "#8e0152"
            ],
            [
             0.1,
             "#c51b7d"
            ],
            [
             0.2,
             "#de77ae"
            ],
            [
             0.3,
             "#f1b6da"
            ],
            [
             0.4,
             "#fde0ef"
            ],
            [
             0.5,
             "#f7f7f7"
            ],
            [
             0.6,
             "#e6f5d0"
            ],
            [
             0.7,
             "#b8e186"
            ],
            [
             0.8,
             "#7fbc41"
            ],
            [
             0.9,
             "#4d9221"
            ],
            [
             1,
             "#276419"
            ]
           ],
           "sequential": [
            [
             0,
             "#0d0887"
            ],
            [
             0.1111111111111111,
             "#46039f"
            ],
            [
             0.2222222222222222,
             "#7201a8"
            ],
            [
             0.3333333333333333,
             "#9c179e"
            ],
            [
             0.4444444444444444,
             "#bd3786"
            ],
            [
             0.5555555555555556,
             "#d8576b"
            ],
            [
             0.6666666666666666,
             "#ed7953"
            ],
            [
             0.7777777777777778,
             "#fb9f3a"
            ],
            [
             0.8888888888888888,
             "#fdca26"
            ],
            [
             1,
             "#f0f921"
            ]
           ],
           "sequentialminus": [
            [
             0,
             "#0d0887"
            ],
            [
             0.1111111111111111,
             "#46039f"
            ],
            [
             0.2222222222222222,
             "#7201a8"
            ],
            [
             0.3333333333333333,
             "#9c179e"
            ],
            [
             0.4444444444444444,
             "#bd3786"
            ],
            [
             0.5555555555555556,
             "#d8576b"
            ],
            [
             0.6666666666666666,
             "#ed7953"
            ],
            [
             0.7777777777777778,
             "#fb9f3a"
            ],
            [
             0.8888888888888888,
             "#fdca26"
            ],
            [
             1,
             "#f0f921"
            ]
           ]
          },
          "colorway": [
           "#636efa",
           "#EF553B",
           "#00cc96",
           "#ab63fa",
           "#FFA15A",
           "#19d3f3",
           "#FF6692",
           "#B6E880",
           "#FF97FF",
           "#FECB52"
          ],
          "font": {
           "color": "#2a3f5f"
          },
          "geo": {
           "bgcolor": "white",
           "lakecolor": "white",
           "landcolor": "#E5ECF6",
           "showlakes": true,
           "showland": true,
           "subunitcolor": "white"
          },
          "hoverlabel": {
           "align": "left"
          },
          "hovermode": "closest",
          "mapbox": {
           "style": "light"
          },
          "paper_bgcolor": "white",
          "plot_bgcolor": "#E5ECF6",
          "polar": {
           "angularaxis": {
            "gridcolor": "white",
            "linecolor": "white",
            "ticks": ""
           },
           "bgcolor": "#E5ECF6",
           "radialaxis": {
            "gridcolor": "white",
            "linecolor": "white",
            "ticks": ""
           }
          },
          "scene": {
           "xaxis": {
            "backgroundcolor": "#E5ECF6",
            "gridcolor": "white",
            "gridwidth": 2,
            "linecolor": "white",
            "showbackground": true,
            "ticks": "",
            "zerolinecolor": "white"
           },
           "yaxis": {
            "backgroundcolor": "#E5ECF6",
            "gridcolor": "white",
            "gridwidth": 2,
            "linecolor": "white",
            "showbackground": true,
            "ticks": "",
            "zerolinecolor": "white"
           },
           "zaxis": {
            "backgroundcolor": "#E5ECF6",
            "gridcolor": "white",
            "gridwidth": 2,
            "linecolor": "white",
            "showbackground": true,
            "ticks": "",
            "zerolinecolor": "white"
           }
          },
          "shapedefaults": {
           "line": {
            "color": "#2a3f5f"
           }
          },
          "ternary": {
           "aaxis": {
            "gridcolor": "white",
            "linecolor": "white",
            "ticks": ""
           },
           "baxis": {
            "gridcolor": "white",
            "linecolor": "white",
            "ticks": ""
           },
           "bgcolor": "#E5ECF6",
           "caxis": {
            "gridcolor": "white",
            "linecolor": "white",
            "ticks": ""
           }
          },
          "title": {
           "x": 0.05
          },
          "xaxis": {
           "automargin": true,
           "gridcolor": "white",
           "linecolor": "white",
           "ticks": "",
           "title": {
            "standoff": 15
           },
           "zerolinecolor": "white",
           "zerolinewidth": 2
          },
          "yaxis": {
           "automargin": true,
           "gridcolor": "white",
           "linecolor": "white",
           "ticks": "",
           "title": {
            "standoff": 15
           },
           "zerolinecolor": "white",
           "zerolinewidth": 2
          }
         }
        },
        "title": {
         "text": "Parametric ReLU and Derivative "
        },
        "xaxis": {
         "title": {
          "text": "x"
         }
        },
        "yaxis": {
         "title": {
          "text": "y"
         }
        }
       }
      }
     },
     "metadata": {},
     "output_type": "display_data"
    }
   ],
   "source": [
    "import numpy as np\n",
    "import plotly.graph_objects as go\n",
    "from ipywidgets import interact, widgets\n",
    "\n",
    "def parametric_relu(x, alpha=0.01):\n",
    "    return np.where(x > 0, x, alpha * x)\n",
    "\n",
    "def parametric_relu_derivative(x, alpha=0.01):\n",
    "    return np.where(x > 0, 1, alpha)\n",
    "\n",
    "x = np.linspace(-3, 3, 100)\n",
    "\n",
    "@interact(alpha=widgets.FloatSlider(value=0.01, min=0.01, max=1.0, step=0.01, description='Alpha'))\n",
    "def update_plot(alpha):\n",
    "    prelu_values = parametric_relu(x, alpha)\n",
    "    prelu_derivative_values = parametric_relu_derivative(x, alpha)\n",
    "    fig = go.Figure()\n",
    "    fig.add_trace(go.Scatter(x=x, y=prelu_values, mode='lines', name=f'PReLU function (alpha={alpha})'))\n",
    "    fig.add_trace(go.Scatter(x=x, y=prelu_derivative_values, mode='lines', name=f'PReLU derivative (alpha={alpha})'))\n",
    "    fig.update_layout(\n",
    "       title=f'Parametric ReLU and Derivative ',\n",
    "        xaxis=dict(title='x'),\n",
    "        yaxis=dict(title='y'),\n",
    "        showlegend=True\n",
    "    )\n",
    "    fig.show()\n"
   ]
  },
  {
   "cell_type": "markdown",
   "id": "21efaccd",
   "metadata": {},
   "source": [
    "### SoftMax"
   ]
  },
  {
   "cell_type": "code",
   "execution_count": 7,
   "id": "393a27f8",
   "metadata": {},
   "outputs": [
    {
     "data": {
      "application/vnd.plotly.v1+json": {
       "config": {
        "plotlyServerURL": "https://plot.ly"
       },
       "data": [
        {
         "line": {
          "color": "#FDAB9F"
         },
         "mode": "lines",
         "name": "Softmax",
         "type": "scatter",
         "x": [
          -5,
          -4.898989898989899,
          -4.797979797979798,
          -4.696969696969697,
          -4.595959595959596,
          -4.494949494949495,
          -4.393939393939394,
          -4.292929292929293,
          -4.191919191919192,
          -4.090909090909091,
          -3.9898989898989896,
          -3.888888888888889,
          -3.787878787878788,
          -3.686868686868687,
          -3.5858585858585856,
          -3.484848484848485,
          -3.383838383838384,
          -3.282828282828283,
          -3.1818181818181817,
          -3.080808080808081,
          -2.9797979797979797,
          -2.878787878787879,
          -2.7777777777777777,
          -2.676767676767677,
          -2.5757575757575757,
          -2.474747474747475,
          -2.3737373737373737,
          -2.272727272727273,
          -2.1717171717171717,
          -2.070707070707071,
          -1.9696969696969697,
          -1.868686868686869,
          -1.7676767676767677,
          -1.6666666666666665,
          -1.5656565656565657,
          -1.4646464646464645,
          -1.3636363636363638,
          -1.2626262626262625,
          -1.1616161616161618,
          -1.0606060606060606,
          -0.9595959595959593,
          -0.858585858585859,
          -0.7575757575757578,
          -0.6565656565656566,
          -0.5555555555555554,
          -0.45454545454545503,
          -0.3535353535353538,
          -0.2525252525252526,
          -0.15151515151515138,
          -0.050505050505050164,
          0.050505050505050164,
          0.15151515151515138,
          0.2525252525252526,
          0.3535353535353538,
          0.45454545454545414,
          0.5555555555555554,
          0.6565656565656566,
          0.7575757575757578,
          0.8585858585858581,
          0.9595959595959593,
          1.0606060606060606,
          1.1616161616161618,
          1.262626262626262,
          1.3636363636363633,
          1.4646464646464645,
          1.5656565656565657,
          1.666666666666667,
          1.7676767676767673,
          1.8686868686868685,
          1.9696969696969697,
          2.070707070707071,
          2.1717171717171713,
          2.2727272727272725,
          2.3737373737373737,
          2.474747474747475,
          2.5757575757575752,
          2.6767676767676765,
          2.7777777777777777,
          2.878787878787879,
          2.9797979797979792,
          3.0808080808080813,
          3.1818181818181817,
          3.282828282828282,
          3.383838383838384,
          3.4848484848484844,
          3.5858585858585865,
          3.686868686868687,
          3.787878787878787,
          3.8888888888888893,
          3.9898989898989896,
          4.09090909090909,
          4.191919191919192,
          4.292929292929292,
          4.3939393939393945,
          4.494949494949495,
          4.595959595959595,
          4.696969696969697,
          4.797979797979798,
          4.8989898989899,
          5
         ],
         "y": [
          0.000004362027096872079,
          0.000004825657431776977,
          0.000005338566022563919,
          0.000005905990547443207,
          0.000006533725386004805,
          0.000007228180789792242,
          0.000007996448341987782,
          0.000008846373374664451,
          0.000009786635083109727,
          0.000010826835155325678,
          0.0000119775958217652,
          0.00001325066832656064,
          0.00001465905292792232,
          0.000016217131653117523,
          0.00001794081516368613,
          0.000019847705230639465,
          0.0000219572744787933,
          0.000024291065235733263,
          0.000026872909516002808,
          0.000029729172386929858,
          0.000032889021201276225,
          0.00003638472344603676,
          0.00004025197624893768,
          0.00004453027090746039,
          0.0000492632961628597,
          0.00005449938433729679,
          0.00006029200488991344,
          0.000066700310431904,
          0.00007378974077633722,
          0.00008163269119111364,
          0.00009030925167907213,
          0.00009990802483456297,
          0.00011052703062821122,
          0.000122274707359277,
          0.00013527101899705465,
          0.00014964868021917407,
          0.00016555451165654514,
          0.00018315093918432946,
          0.0002026176525692757,
          0.00022415344041105706,
          0.00024797822011551755,
          0.0002743352836293414,
          0.0003034937818689576,
          0.00033575147321396554,
          0.00037143776413192637,
          0.0004109170729845238,
          0.0004545925513653368,
          0.0005029102009704754,
          0.0005563634280424097,
          0.000615498081895686,
          0.0006809180289765392,
          0.0007532913193771324,
          0.0008333570087751223,
          0.0009219327054622922,
          0.0010199229195303726,
          0.0011283282994735957,
          0.0012482558505295593,
          0.0013809302391052326,
          0.0015277062987257162,
          0.0016900828652129888,
          0.0018697180823755825,
          0.002068446334506604,
          0.002288296978599985,
          0.0025315150675731036,
          0.00280058427611547,
          0.00309825226327582,
          0.003427558730783206,
          0.0037918664636257533,
          0.004194895669864779,
          0.004640761970352726,
          0.005134018426295294,
          0.005679702033831355,
          0.0062833851604202655,
          0.00695123244829042,
          0.007690063766031137,
          0.008507423851171756,
          0.009411659354918417,
          0.01041200407580763,
          0.011518673252658797,
          0.01274296787971872,
          0.01409739010923513,
          0.015595770919917507,
          0.01725341135500018,
          0.019087238772190436,
          0.021115979701082456,
          0.02336035107320857,
          0.02584327177751461,
          0.02859009670160536,
          0.0316288756487224,
          0.03499063977444228,
          0.03870971846810613,
          0.042824089914884185,
          0.047375768918316456,
          0.05241123594366508,
          0.05798191176334664,
          0.06414468255139226,
          0.07096248078905026,
          0.07850492791357683,
          0.08684904527276448,
          0.0960800406452729
         ]
        }
       ],
       "layout": {
        "showlegend": true,
        "template": {
         "data": {
          "bar": [
           {
            "error_x": {
             "color": "#2a3f5f"
            },
            "error_y": {
             "color": "#2a3f5f"
            },
            "marker": {
             "line": {
              "color": "#E5ECF6",
              "width": 0.5
             },
             "pattern": {
              "fillmode": "overlay",
              "size": 10,
              "solidity": 0.2
             }
            },
            "type": "bar"
           }
          ],
          "barpolar": [
           {
            "marker": {
             "line": {
              "color": "#E5ECF6",
              "width": 0.5
             },
             "pattern": {
              "fillmode": "overlay",
              "size": 10,
              "solidity": 0.2
             }
            },
            "type": "barpolar"
           }
          ],
          "carpet": [
           {
            "aaxis": {
             "endlinecolor": "#2a3f5f",
             "gridcolor": "white",
             "linecolor": "white",
             "minorgridcolor": "white",
             "startlinecolor": "#2a3f5f"
            },
            "baxis": {
             "endlinecolor": "#2a3f5f",
             "gridcolor": "white",
             "linecolor": "white",
             "minorgridcolor": "white",
             "startlinecolor": "#2a3f5f"
            },
            "type": "carpet"
           }
          ],
          "choropleth": [
           {
            "colorbar": {
             "outlinewidth": 0,
             "ticks": ""
            },
            "type": "choropleth"
           }
          ],
          "contour": [
           {
            "colorbar": {
             "outlinewidth": 0,
             "ticks": ""
            },
            "colorscale": [
             [
              0,
              "#0d0887"
             ],
             [
              0.1111111111111111,
              "#46039f"
             ],
             [
              0.2222222222222222,
              "#7201a8"
             ],
             [
              0.3333333333333333,
              "#9c179e"
             ],
             [
              0.4444444444444444,
              "#bd3786"
             ],
             [
              0.5555555555555556,
              "#d8576b"
             ],
             [
              0.6666666666666666,
              "#ed7953"
             ],
             [
              0.7777777777777778,
              "#fb9f3a"
             ],
             [
              0.8888888888888888,
              "#fdca26"
             ],
             [
              1,
              "#f0f921"
             ]
            ],
            "type": "contour"
           }
          ],
          "contourcarpet": [
           {
            "colorbar": {
             "outlinewidth": 0,
             "ticks": ""
            },
            "type": "contourcarpet"
           }
          ],
          "heatmap": [
           {
            "colorbar": {
             "outlinewidth": 0,
             "ticks": ""
            },
            "colorscale": [
             [
              0,
              "#0d0887"
             ],
             [
              0.1111111111111111,
              "#46039f"
             ],
             [
              0.2222222222222222,
              "#7201a8"
             ],
             [
              0.3333333333333333,
              "#9c179e"
             ],
             [
              0.4444444444444444,
              "#bd3786"
             ],
             [
              0.5555555555555556,
              "#d8576b"
             ],
             [
              0.6666666666666666,
              "#ed7953"
             ],
             [
              0.7777777777777778,
              "#fb9f3a"
             ],
             [
              0.8888888888888888,
              "#fdca26"
             ],
             [
              1,
              "#f0f921"
             ]
            ],
            "type": "heatmap"
           }
          ],
          "heatmapgl": [
           {
            "colorbar": {
             "outlinewidth": 0,
             "ticks": ""
            },
            "colorscale": [
             [
              0,
              "#0d0887"
             ],
             [
              0.1111111111111111,
              "#46039f"
             ],
             [
              0.2222222222222222,
              "#7201a8"
             ],
             [
              0.3333333333333333,
              "#9c179e"
             ],
             [
              0.4444444444444444,
              "#bd3786"
             ],
             [
              0.5555555555555556,
              "#d8576b"
             ],
             [
              0.6666666666666666,
              "#ed7953"
             ],
             [
              0.7777777777777778,
              "#fb9f3a"
             ],
             [
              0.8888888888888888,
              "#fdca26"
             ],
             [
              1,
              "#f0f921"
             ]
            ],
            "type": "heatmapgl"
           }
          ],
          "histogram": [
           {
            "marker": {
             "pattern": {
              "fillmode": "overlay",
              "size": 10,
              "solidity": 0.2
             }
            },
            "type": "histogram"
           }
          ],
          "histogram2d": [
           {
            "colorbar": {
             "outlinewidth": 0,
             "ticks": ""
            },
            "colorscale": [
             [
              0,
              "#0d0887"
             ],
             [
              0.1111111111111111,
              "#46039f"
             ],
             [
              0.2222222222222222,
              "#7201a8"
             ],
             [
              0.3333333333333333,
              "#9c179e"
             ],
             [
              0.4444444444444444,
              "#bd3786"
             ],
             [
              0.5555555555555556,
              "#d8576b"
             ],
             [
              0.6666666666666666,
              "#ed7953"
             ],
             [
              0.7777777777777778,
              "#fb9f3a"
             ],
             [
              0.8888888888888888,
              "#fdca26"
             ],
             [
              1,
              "#f0f921"
             ]
            ],
            "type": "histogram2d"
           }
          ],
          "histogram2dcontour": [
           {
            "colorbar": {
             "outlinewidth": 0,
             "ticks": ""
            },
            "colorscale": [
             [
              0,
              "#0d0887"
             ],
             [
              0.1111111111111111,
              "#46039f"
             ],
             [
              0.2222222222222222,
              "#7201a8"
             ],
             [
              0.3333333333333333,
              "#9c179e"
             ],
             [
              0.4444444444444444,
              "#bd3786"
             ],
             [
              0.5555555555555556,
              "#d8576b"
             ],
             [
              0.6666666666666666,
              "#ed7953"
             ],
             [
              0.7777777777777778,
              "#fb9f3a"
             ],
             [
              0.8888888888888888,
              "#fdca26"
             ],
             [
              1,
              "#f0f921"
             ]
            ],
            "type": "histogram2dcontour"
           }
          ],
          "mesh3d": [
           {
            "colorbar": {
             "outlinewidth": 0,
             "ticks": ""
            },
            "type": "mesh3d"
           }
          ],
          "parcoords": [
           {
            "line": {
             "colorbar": {
              "outlinewidth": 0,
              "ticks": ""
             }
            },
            "type": "parcoords"
           }
          ],
          "pie": [
           {
            "automargin": true,
            "type": "pie"
           }
          ],
          "scatter": [
           {
            "fillpattern": {
             "fillmode": "overlay",
             "size": 10,
             "solidity": 0.2
            },
            "type": "scatter"
           }
          ],
          "scatter3d": [
           {
            "line": {
             "colorbar": {
              "outlinewidth": 0,
              "ticks": ""
             }
            },
            "marker": {
             "colorbar": {
              "outlinewidth": 0,
              "ticks": ""
             }
            },
            "type": "scatter3d"
           }
          ],
          "scattercarpet": [
           {
            "marker": {
             "colorbar": {
              "outlinewidth": 0,
              "ticks": ""
             }
            },
            "type": "scattercarpet"
           }
          ],
          "scattergeo": [
           {
            "marker": {
             "colorbar": {
              "outlinewidth": 0,
              "ticks": ""
             }
            },
            "type": "scattergeo"
           }
          ],
          "scattergl": [
           {
            "marker": {
             "colorbar": {
              "outlinewidth": 0,
              "ticks": ""
             }
            },
            "type": "scattergl"
           }
          ],
          "scattermapbox": [
           {
            "marker": {
             "colorbar": {
              "outlinewidth": 0,
              "ticks": ""
             }
            },
            "type": "scattermapbox"
           }
          ],
          "scatterpolar": [
           {
            "marker": {
             "colorbar": {
              "outlinewidth": 0,
              "ticks": ""
             }
            },
            "type": "scatterpolar"
           }
          ],
          "scatterpolargl": [
           {
            "marker": {
             "colorbar": {
              "outlinewidth": 0,
              "ticks": ""
             }
            },
            "type": "scatterpolargl"
           }
          ],
          "scatterternary": [
           {
            "marker": {
             "colorbar": {
              "outlinewidth": 0,
              "ticks": ""
             }
            },
            "type": "scatterternary"
           }
          ],
          "surface": [
           {
            "colorbar": {
             "outlinewidth": 0,
             "ticks": ""
            },
            "colorscale": [
             [
              0,
              "#0d0887"
             ],
             [
              0.1111111111111111,
              "#46039f"
             ],
             [
              0.2222222222222222,
              "#7201a8"
             ],
             [
              0.3333333333333333,
              "#9c179e"
             ],
             [
              0.4444444444444444,
              "#bd3786"
             ],
             [
              0.5555555555555556,
              "#d8576b"
             ],
             [
              0.6666666666666666,
              "#ed7953"
             ],
             [
              0.7777777777777778,
              "#fb9f3a"
             ],
             [
              0.8888888888888888,
              "#fdca26"
             ],
             [
              1,
              "#f0f921"
             ]
            ],
            "type": "surface"
           }
          ],
          "table": [
           {
            "cells": {
             "fill": {
              "color": "#EBF0F8"
             },
             "line": {
              "color": "white"
             }
            },
            "header": {
             "fill": {
              "color": "#C8D4E3"
             },
             "line": {
              "color": "white"
             }
            },
            "type": "table"
           }
          ]
         },
         "layout": {
          "annotationdefaults": {
           "arrowcolor": "#2a3f5f",
           "arrowhead": 0,
           "arrowwidth": 1
          },
          "autotypenumbers": "strict",
          "coloraxis": {
           "colorbar": {
            "outlinewidth": 0,
            "ticks": ""
           }
          },
          "colorscale": {
           "diverging": [
            [
             0,
             "#8e0152"
            ],
            [
             0.1,
             "#c51b7d"
            ],
            [
             0.2,
             "#de77ae"
            ],
            [
             0.3,
             "#f1b6da"
            ],
            [
             0.4,
             "#fde0ef"
            ],
            [
             0.5,
             "#f7f7f7"
            ],
            [
             0.6,
             "#e6f5d0"
            ],
            [
             0.7,
             "#b8e186"
            ],
            [
             0.8,
             "#7fbc41"
            ],
            [
             0.9,
             "#4d9221"
            ],
            [
             1,
             "#276419"
            ]
           ],
           "sequential": [
            [
             0,
             "#0d0887"
            ],
            [
             0.1111111111111111,
             "#46039f"
            ],
            [
             0.2222222222222222,
             "#7201a8"
            ],
            [
             0.3333333333333333,
             "#9c179e"
            ],
            [
             0.4444444444444444,
             "#bd3786"
            ],
            [
             0.5555555555555556,
             "#d8576b"
            ],
            [
             0.6666666666666666,
             "#ed7953"
            ],
            [
             0.7777777777777778,
             "#fb9f3a"
            ],
            [
             0.8888888888888888,
             "#fdca26"
            ],
            [
             1,
             "#f0f921"
            ]
           ],
           "sequentialminus": [
            [
             0,
             "#0d0887"
            ],
            [
             0.1111111111111111,
             "#46039f"
            ],
            [
             0.2222222222222222,
             "#7201a8"
            ],
            [
             0.3333333333333333,
             "#9c179e"
            ],
            [
             0.4444444444444444,
             "#bd3786"
            ],
            [
             0.5555555555555556,
             "#d8576b"
            ],
            [
             0.6666666666666666,
             "#ed7953"
            ],
            [
             0.7777777777777778,
             "#fb9f3a"
            ],
            [
             0.8888888888888888,
             "#fdca26"
            ],
            [
             1,
             "#f0f921"
            ]
           ]
          },
          "colorway": [
           "#636efa",
           "#EF553B",
           "#00cc96",
           "#ab63fa",
           "#FFA15A",
           "#19d3f3",
           "#FF6692",
           "#B6E880",
           "#FF97FF",
           "#FECB52"
          ],
          "font": {
           "color": "#2a3f5f"
          },
          "geo": {
           "bgcolor": "white",
           "lakecolor": "white",
           "landcolor": "#E5ECF6",
           "showlakes": true,
           "showland": true,
           "subunitcolor": "white"
          },
          "hoverlabel": {
           "align": "left"
          },
          "hovermode": "closest",
          "mapbox": {
           "style": "light"
          },
          "paper_bgcolor": "white",
          "plot_bgcolor": "#E5ECF6",
          "polar": {
           "angularaxis": {
            "gridcolor": "white",
            "linecolor": "white",
            "ticks": ""
           },
           "bgcolor": "#E5ECF6",
           "radialaxis": {
            "gridcolor": "white",
            "linecolor": "white",
            "ticks": ""
           }
          },
          "scene": {
           "xaxis": {
            "backgroundcolor": "#E5ECF6",
            "gridcolor": "white",
            "gridwidth": 2,
            "linecolor": "white",
            "showbackground": true,
            "ticks": "",
            "zerolinecolor": "white"
           },
           "yaxis": {
            "backgroundcolor": "#E5ECF6",
            "gridcolor": "white",
            "gridwidth": 2,
            "linecolor": "white",
            "showbackground": true,
            "ticks": "",
            "zerolinecolor": "white"
           },
           "zaxis": {
            "backgroundcolor": "#E5ECF6",
            "gridcolor": "white",
            "gridwidth": 2,
            "linecolor": "white",
            "showbackground": true,
            "ticks": "",
            "zerolinecolor": "white"
           }
          },
          "shapedefaults": {
           "line": {
            "color": "#2a3f5f"
           }
          },
          "ternary": {
           "aaxis": {
            "gridcolor": "white",
            "linecolor": "white",
            "ticks": ""
           },
           "baxis": {
            "gridcolor": "white",
            "linecolor": "white",
            "ticks": ""
           },
           "bgcolor": "#E5ECF6",
           "caxis": {
            "gridcolor": "white",
            "linecolor": "white",
            "ticks": ""
           }
          },
          "title": {
           "x": 0.05
          },
          "xaxis": {
           "automargin": true,
           "gridcolor": "white",
           "linecolor": "white",
           "ticks": "",
           "title": {
            "standoff": 15
           },
           "zerolinecolor": "white",
           "zerolinewidth": 2
          },
          "yaxis": {
           "automargin": true,
           "gridcolor": "white",
           "linecolor": "white",
           "ticks": "",
           "title": {
            "standoff": 15
           },
           "zerolinecolor": "white",
           "zerolinewidth": 2
          }
         }
        },
        "title": {
         "text": "Softmax function"
        },
        "xaxis": {
         "title": {
          "text": "x"
         }
        },
        "yaxis": {
         "title": {
          "text": "Probability"
         }
        }
       }
      }
     },
     "metadata": {},
     "output_type": "display_data"
    }
   ],
   "source": [
    "import numpy as np\n",
    "import plotly.graph_objects as go\n",
    "\n",
    "def softmax(x):\n",
    "    exp_values = np.exp(x - np.max(x, axis=-1, keepdims=True))\n",
    "    return exp_values / np.sum(exp_values, axis=-1, keepdims=True)\n",
    "\n",
    "x = np.linspace(-5, 5, 100)\n",
    "softmax_values = softmax(x)\n",
    "fig = go.Figure()\n",
    "fig.add_trace(go.Scatter(x=x, y=softmax_values, mode='lines', name='Softmax', line=dict(color='#FDAB9F')))\n",
    "\n",
    "fig.update_layout(\n",
    "    title='Softmax function',\n",
    "    xaxis=dict(title='x'),\n",
    "    yaxis=dict(title='Probability'),\n",
    "    showlegend=True\n",
    ")\n",
    "\n",
    "fig.show()\n"
   ]
  },
  {
   "cell_type": "code",
   "execution_count": null,
   "id": "8853401c",
   "metadata": {},
   "outputs": [],
   "source": []
  },
  {
   "cell_type": "code",
   "execution_count": null,
   "id": "9d4dbdc7",
   "metadata": {},
   "outputs": [],
   "source": []
  },
  {
   "cell_type": "code",
   "execution_count": null,
   "id": "ddc193ac",
   "metadata": {},
   "outputs": [],
   "source": []
  }
 ],
 "metadata": {
  "kernelspec": {
   "display_name": "Python 3 (ipykernel)",
   "language": "python",
   "name": "python3"
  },
  "language_info": {
   "codemirror_mode": {
    "name": "ipython",
    "version": 3
   },
   "file_extension": ".py",
   "mimetype": "text/x-python",
   "name": "python",
   "nbconvert_exporter": "python",
   "pygments_lexer": "ipython3",
   "version": "3.10.9"
  }
 },
 "nbformat": 4,
 "nbformat_minor": 5
}
