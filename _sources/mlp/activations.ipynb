{
 "cells": [
  {
   "cell_type": "markdown",
   "metadata": {},
   "source": [
    "# Activation functions"
   ]
  },
  {
   "cell_type": "markdown",
   "metadata": {},
   "source": [
    "## Team members:\n",
    "\n",
    "- Technical writer - Arman\n",
    "- Designer of interactive plots - Sabina\n",
    "- Designer of quizzes - Aidos"
   ]
  },
  {
   "cell_type": "markdown",
   "metadata": {},
   "source": [
    "## What is activation functions?\n",
    "\n",
    "Activation functions decide whether a neuron should be activated or not by calculating the weighted sum and further adding bias to it. They are differentiable operators for transforming input signals to outputs, while most of them add nonlinearity. Because activation functions are fundamental to deep learning, let’s briefly survey some common ones."
   ]
  },
  {
   "cell_type": "markdown",
   "metadata": {},
   "source": [
    "```{figure} images/activation_f.gif\n",
    ":align: center\n",
    "```"
   ]
  },
  {
   "cell_type": "markdown",
   "metadata": {},
   "source": [
    "## Why do Neural Networks Need an Activation Function?\n",
    "\n",
    "Activation functions, essential in neural networks, allow for more than mere linear transformations of inputs. Without them, a neural network, regardless of its hidden layers, would be reduced to a linear model, incapable of handling complex tasks. These functions enable the network to focus on relevant information and ignore the irrelevant, significantly enhancing its learning capability."
   ]
  },
  {
   "cell_type": "markdown",
   "metadata": {},
   "source": [
    "## 3 Types of Neural Networks Activation Functions\n",
    "\n",
    "Let's examine the most popular types of neural network activation functions to solidify our knowledge of activation functions in practice. The three most popular functions are:\n",
    "\n",
    "1. Binary step\n",
    "2. Linear activation\n",
    "3. Non-linear activation"
   ]
  },
  {
   "cell_type": "markdown",
   "metadata": {},
   "source": [
    "### Binary step activation function\n",
    "\n",
    "Binary step function depends on a threshold value that decides whether a neuron should be activated or not. The input fed to the activation function is compared to a certain threshold; if the input is greater than it, then the neuron is activated, else it is deactivated, meaning that its output is not passed on to the next hidden layer.\n",
    "\n",
    "```{math}\n",
    ":label: binary_step\n",
    "    f(x) =\n",
    "    \\begin{cases}\n",
    "    0, & \\text{if } x < 0,\\\\\n",
    "    1, & \\text{if } x \\geq 0.\n",
    "    \\end{cases}\n",
    "```"
   ]
  },
  {
   "cell_type": "markdown",
   "metadata": {},
   "source": [
    "<span style=\"display:none\" id=\"q_binary\">W3sicXVlc3Rpb24iOiAiV2hhdCBhcmUgc29tZSBsaW1pdGF0aW9ucyBvZiB1c2luZyBhIGJpbmFyeSBzdGVwIGZ1bmN0aW9uPyIsICJ0eXBlIjogIm1hbnlfY2hvaWNlIiwgImFuc3dlcnMiOiBbeyJhbnN3ZXIiOiAiVGhleSBhbGxvdyBiYWNrcHJvcGFnYXRpb24iLCAiY29ycmVjdCI6IGZhbHNlLCAiZmVlZGJhY2siOiAiTm8sIHRoYXQgaXMgaW5jb3JyZWN0LiJ9LCB7ImFuc3dlciI6ICJJdCBjYW5ub3QgcHJvdmlkZSBtdWx0aS12YWx1ZSBvdXRwdXRzIiwgImNvcnJlY3QiOiB0cnVlLCAiZmVlZGJhY2siOiAiQ29ycmVjdC4gSXQgY2FuJ3QgYmUgdXNlZCBmb3IgbXVsdGktY2xhc3MgY2xhc3NpZmljYXRpb24gcHJvYmxlbXMifSwgeyJhbnN3ZXIiOiAiVGhlIGdyYWRpZW50IG9mIHRoZSBzdGVwIGZ1bmN0aW9uIGlzIHplcm8iLCAiY29ycmVjdCI6IHRydWUsICJmZWVkYmFjayI6ICJDb3JyZWN0LiJ9LCB7ImFuc3dlciI6ICJOb25lIG9mIHRoZSBhYm92ZSIsICJjb3JyZWN0IjogZmFsc2UsICJmZWVkYmFjayI6ICJJbmNvcnJlY3QuIn1dfV0=</span>"
   ]
  },
  {
   "cell_type": "code",
   "execution_count": null,
   "metadata": {
    "editable": true,
    "slideshow": {
     "slide_type": ""
    },
    "tags": [
     "remove-input"
    ],
    "trusted": false
   },
   "outputs": [],
   "source": [
    "from jupyterquiz import display_quiz\n",
    "display_quiz(\"#q_binary\")"
   ]
  },
  {
   "cell_type": "code",
   "execution_count": 7,
   "metadata": {
    "tags": [
     "remove-input"
    ]
   },
   "outputs": [
    {
     "data": {
      "application/vnd.jupyter.widget-view+json": {
       "model_id": "e83f34e1df164156ac595b75da76f8a0",
       "version_major": 2,
       "version_minor": 0
      },
      "text/plain": [
       "FigureWidget({\n",
       "    'data': [{'line': {'color': '#FDAB9F'},\n",
       "              'mode': 'lines',\n",
       "              'name'…"
      ]
     },
     "metadata": {},
     "output_type": "display_data"
    }
   ],
   "source": [
    "import numpy as np\n",
    "import plotly.graph_objects as go\n",
    "from plotly.subplots import make_subplots\n",
    "\n",
    "def binary_step_function(x, threshold):\n",
    "    return np.where(x > threshold, 1, 0)\n",
    "\n",
    "def plot_binary_step(threshold):\n",
    "    x = np.linspace(-10, 10, 1000)\n",
    "    y = binary_step_function(x, threshold)\n",
    "\n",
    "    fig = make_subplots(rows=1, cols=1, subplot_titles=['Binary step activation function'])\n",
    "    trace = go.Scatter(x=x, y=y, mode='lines', name=f'Threshold = {threshold}', line=dict(color='#FDAB9F'))\n",
    "\n",
    "    fig.add_trace(trace)\n",
    "\n",
    "    fig.update_layout(\n",
    "        xaxis_title='x',\n",
    "        yaxis_title='f(x)',\n",
    "        showlegend=True,\n",
    "        legend=dict(x=0, y=1, traceorder='normal'),\n",
    "        height=500,\n",
    "        width=700,\n",
    "    )\n",
    "\n",
    "    return fig\n",
    "\n",
    "initial_threshold = 0.0\n",
    "\n",
    "fig = go.FigureWidget(plot_binary_step(initial_threshold))\n",
    "\n",
    "def update_threshold(threshold):\n",
    "    with fig.batch_update():\n",
    "        fig.data[0].y = binary_step_function(fig.data[0].x, threshold)\n",
    "        fig.layout.title.text = f'Binary step activation function (threshold = {threshold})'\n",
    "\n",
    "fig\n"
   ]
  },
  {
   "cell_type": "markdown",
   "metadata": {},
   "source": [
    "### Linear activation function\n",
    "\n",
    "The linear activation function, also referred to as \"no activation\" or \"identity function,\" is a function where the activation is directly proportional to the input. This function does not modify the weighted sum of the input and simply returns the value it was given. \n",
    "\n",
    "```{math}\n",
    ":label: linear_activation\n",
    "    f(x) = x\n",
    "```"
   ]
  },
  {
   "cell_type": "markdown",
   "metadata": {},
   "source": [
    "<span style=\"display:none\" id=\"q_linear\">W3sicXVlc3Rpb24iOiAiV2hhdCBhcmUgc29tZSBsaW1pdGF0aW9ucyBvZiB1c2luZyBhIGxpbmVhciBhY3RpdmF0aW9uIGZ1bmN0aW9uPyIsICJ0eXBlIjogIm1hbnlfY2hvaWNlIiwgImFuc3dlcnMiOiBbeyJhbnN3ZXIiOiAiSXRcdTIwMTlzIG5vdCBwb3NzaWJsZSB0byB1c2UgYmFja3Byb3BhZ2F0aW9uIiwgImNvcnJlY3QiOiB0cnVlLCAiZmVlZGJhY2siOiAiQ29ycmVjdC4gVGhlIGRlcml2YXRpdmUgb2YgdGhlIGZ1bmN0aW9uIGlzIGEgY29uc3RhbnQgYW5kIGhhcyBubyByZWxhdGlvbiB0byB0aGUgaW5wdXQgeCJ9LCB7ImFuc3dlciI6ICJUaGUgbGFzdCBsYXllciByZW1haW5zIGxpbmVhciByZWdhcmRsZXNzIG9mIG5ldHdvcmsgZGVwdGguIiwgImNvcnJlY3QiOiB0cnVlLCAiZmVlZGJhY2siOiAiQ29ycmVjdC4gSXQgZWZmZWN0aXZlbHkgcmVkdWNlcyB0aGUgbmV0d29yayB0byBvbmUgbGF5ZXIuIn0sIHsiYW5zd2VyIjogIkl0IG91dHB1dHMgdGhlIGlucHV0IHZhbHVlIHdpdGhvdXQgYW55IHRyYW5zZm9ybWF0aW9uLiIsICJjb3JyZWN0IjogdHJ1ZSwgImZlZWRiYWNrIjogIkNvcnJlY3QuIn0sIHsiYW5zd2VyIjogIkl0IGlzIGhpZ2hseSBlZmZlY3RpdmUgZm9yIGFsbCB0eXBlcyBvZiBuZXVyYWwgbmV0d29yayBhcmNoaXRlY3R1cmVzIiwgImNvcnJlY3QiOiBmYWxzZSwgImZlZWRiYWNrIjogIkluY29ycmVjdCJ9XX1d</span>"
   ]
  },
  {
   "cell_type": "code",
   "execution_count": null,
   "metadata": {
    "tags": [
     "remove-input"
    ]
   },
   "outputs": [],
   "source": [
    "from jupyterquiz import display_quiz\n",
    "display_quiz(\"#q_linear\")"
   ]
  },
  {
   "cell_type": "code",
   "execution_count": 8,
   "metadata": {
    "tags": [
     "remove-input"
    ]
   },
   "outputs": [
    {
     "data": {
      "application/vnd.jupyter.widget-view+json": {
       "model_id": "4a2d4d2c28de4785a54585896308bd6f",
       "version_major": 2,
       "version_minor": 0
      },
      "text/plain": [
       "VBox(children=(FigureWidget({\n",
       "    'data': [{'line': {'color': '#FDAB9F'},\n",
       "              'mode': 'lines',\n",
       "     …"
      ]
     },
     "metadata": {},
     "output_type": "display_data"
    }
   ],
   "source": [
    "import numpy as np\n",
    "import plotly.graph_objects as go\n",
    "from plotly.subplots import make_subplots\n",
    "from ipywidgets import interact, widgets\n",
    "\n",
    "def linear_activation_function(x):\n",
    "    return x\n",
    "\n",
    "def plot_linear_activation():\n",
    "    x = np.linspace(-10, 10, 1000)\n",
    "    y = linear_activation_function(x)\n",
    "\n",
    "    fig = make_subplots(rows=1, cols=1, subplot_titles=['Linear Activation Function'])\n",
    "    trace = go.Scatter(x=x, y=y, mode='lines', name='Linear Activation', line=dict(color='#FDAB9F'))\n",
    "\n",
    "    fig.add_trace(trace)\n",
    "\n",
    "    fig.update_layout(\n",
    "        xaxis_title='x',\n",
    "        yaxis_title='f(x)',\n",
    "        showlegend=True,\n",
    "        legend=dict(x=0, y=1, traceorder='normal'),\n",
    "        height=500,\n",
    "        width=700,\n",
    "    )\n",
    "\n",
    "    return fig\n",
    "\n",
    "\n",
    "fig_linear = go.FigureWidget(plot_linear_activation())\n",
    "widgets.VBox([fig_linear])\n"
   ]
  },
  {
   "cell_type": "markdown",
   "metadata": {},
   "source": [
    "### Non-Linear activation function\n",
    "\n",
    "The linear activation function is equivalent to a linear regression model. This is because the linear activation function simply outputs the input that it receives, without applying any transformation.\n",
    "\n",
    "In a neural network, the output of a neuron is computed using the following equation:\n",
    "\n",
    "```{math}\n",
    ":label: non_linear_act\n",
    "    output = activation(inputs * weights + bias)\n",
    "```\n",
    "\n",
    "Non-linear activation functions overcome linear ones by enabling backpropagation through input-dependent derivatives and supporting deep, complex architectures with non-linear input combinations."
   ]
  },
  {
   "cell_type": "markdown",
   "metadata": {},
   "source": [
    "## Sigmoid function\n",
    "\n",
    "This function takes any real value as input and outputs values in the range of 0 to 1. \n",
    "\n",
    "The larger the input (more positive), the closer the output value will be to 1.0, whereas the smaller the input (more negative), the closer the output will be to 0.0.\n",
    "\n",
    "\n",
    "```{math}\n",
    ":label: sigmoid\n",
    "    \\sigma(x) = \\frac{1}{1 + e^{-x}}\n",
    "```\n",
    "\n",
    "Derivative of sigmoid function:\n",
    "\n",
    "```{math}\n",
    ":label: sigmoid_derivative\n",
    "    \\sigma'(x) = \\sigma(x) \\cdot (1 - \\sigma(x))\n",
    "```\n",
    "\n",
    "As we can see from the above Figure, the gradient values are only significant for range -3 to 3, and the graph gets much flatter in other regions. \n",
    "\n",
    "It implies that for values greater than 3 or less than -3, the function will have very small gradients. As the gradient value approaches zero, the network ceases to learn and suffers from the [Vanishing gradient](https://en.wikipedia.org/wiki/Vanishing_gradient_problem) problem.\n"
   ]
  },
  {
   "cell_type": "markdown",
   "metadata": {},
   "source": [
    "<span style=\"display:none\" id=\"q_sigmoid\">W3sicXVlc3Rpb24iOiAiV2hhdCBpcyByZWxhdGVkIHRvIHNpZ21vaWQgZnVuY3Rpb24/IiwgInR5cGUiOiAibWFueV9jaG9pY2UiLCAiYW5zd2VycyI6IFt7ImFuc3dlciI6ICJHaXZlcyBhIGNsZWFyIHByZWRpY3Rpb24oY2xhc3NpZmljYXRpb24pIHdpdGggMSAmIDAiLCAiY29ycmVjdCI6IHRydWUsICJmZWVkYmFjayI6ICJDb3JyZWN0LiJ9LCB7ImFuc3dlciI6ICJOb3QgYSB6ZXJvLWNlbnRyaWMgZnVuY3Rpb24iLCAiY29ycmVjdCI6IHRydWUsICJmZWVkYmFjayI6ICJDb3JyZWN0LiJ9LCB7ImFuc3dlciI6ICJOb3JtYWxseSB1c2VkIGFzIHRoZSBvdXRwdXQgb2YgYSBiaW5hcnkgcHJvYmFiaWxpc3RpYyBmdW5jdGlvbi4iLCAiY29ycmVjdCI6IHRydWUsICJmZWVkYmFjayI6ICJDb3JyZWN0LiJ9LCB7ImFuc3dlciI6ICJOb24tbm9ybWFsaXplZCBmdW5jdGlvbiIsICJjb3JyZWN0IjogZmFsc2UsICJmZWVkYmFjayI6ICJJbmNvcnJlY3QsIHRoaXMgaXMgb25lIG9mIHRoZSBiZXN0IG5vcm1hbGl6ZWQgZnVuY3Rpb24uIn1dfV0=</span>"
   ]
  },
  {
   "cell_type": "code",
   "execution_count": null,
   "metadata": {
    "tags": [
     "remove-input"
    ]
   },
   "outputs": [],
   "source": [
    "from jupyterquiz import display_quiz\n",
    "display_quiz(\"#q_sigmoid\")"
   ]
  },
  {
   "cell_type": "code",
   "execution_count": 25,
   "metadata": {
    "tags": [
     "remove-input"
    ]
   },
   "outputs": [
    {
     "data": {
      "application/vnd.plotly.v1+json": {
       "config": {
        "plotlyServerURL": "https://plot.ly"
       },
       "data": [
        {
         "mode": "lines",
         "name": "Sigmoid function",
         "type": "scatter",
         "x": [
          -7,
          -6.858585858585859,
          -6.717171717171717,
          -6.575757575757576,
          -6.434343434343434,
          -6.292929292929293,
          -6.151515151515151,
          -6.01010101010101,
          -5.8686868686868685,
          -5.7272727272727275,
          -5.585858585858586,
          -5.444444444444445,
          -5.303030303030303,
          -5.161616161616162,
          -5.020202020202021,
          -4.878787878787879,
          -4.737373737373737,
          -4.595959595959596,
          -4.454545454545455,
          -4.313131313131313,
          -4.171717171717171,
          -4.03030303030303,
          -3.888888888888889,
          -3.7474747474747474,
          -3.6060606060606064,
          -3.464646464646465,
          -3.3232323232323235,
          -3.181818181818182,
          -3.0404040404040407,
          -2.898989898989899,
          -2.757575757575758,
          -2.616161616161616,
          -2.474747474747475,
          -2.333333333333334,
          -2.191919191919192,
          -2.050505050505051,
          -1.9090909090909092,
          -1.7676767676767682,
          -1.6262626262626263,
          -1.4848484848484853,
          -1.3434343434343434,
          -1.2020202020202024,
          -1.0606060606060606,
          -0.9191919191919196,
          -0.7777777777777777,
          -0.6363636363636367,
          -0.4949494949494948,
          -0.3535353535353538,
          -0.21212121212121282,
          -0.07070707070707094,
          0.07070707070707005,
          0.21212121212121193,
          0.3535353535353529,
          0.4949494949494948,
          0.6363636363636358,
          0.7777777777777777,
          0.9191919191919187,
          1.0606060606060606,
          1.2020202020202024,
          1.3434343434343425,
          1.4848484848484844,
          1.6262626262626263,
          1.7676767676767682,
          1.9090909090909083,
          2.05050505050505,
          2.191919191919192,
          2.333333333333332,
          2.474747474747474,
          2.616161616161616,
          2.757575757575758,
          2.898989898989898,
          3.0404040404040398,
          3.1818181818181817,
          3.3232323232323235,
          3.4646464646464636,
          3.6060606060606055,
          3.7474747474747474,
          3.8888888888888893,
          4.030303030303029,
          4.171717171717171,
          4.313131313131313,
          4.454545454545453,
          4.595959595959595,
          4.737373737373737,
          4.878787878787879,
          5.020202020202019,
          5.161616161616161,
          5.303030303030303,
          5.444444444444445,
          5.585858585858585,
          5.727272727272727,
          5.8686868686868685,
          6.01010101010101,
          6.1515151515151505,
          6.292929292929292,
          6.434343434343434,
          6.575757575757574,
          6.717171717171716,
          6.858585858585858,
          7
         ],
         "y": [
          0.0009110511944006454,
          0.0010492961157108282,
          0.001208493252455456,
          0.0013918098129428746,
          0.0016028890697310394,
          0.0018459210355774146,
          0.0021257233438627446,
          0.0024478337122145312,
          0.00281861552269445,
          0.003245378212767301,
          0.0037365143339650794,
          0.0043016552930929,
          0.004951847934391681,
          0.005699754236697003,
          0.006559876468528816,
          0.007548810140686255,
          0.008685526986175444,
          0.00999168993620805,
          0.01149200159022879,
          0.013214586922900501,
          0.015191409838007068,
          0.017458721552852136,
          0.02005753653785041,
          0.023034128681885445,
          0.02644053632137709,
          0.03033505956444819,
          0.034782726769969616,
          0.039855698945889674,
          0.04563357113013441,
          0.05220351857045891,
          0.059660223019174806,
          0.06810550134642622,
          0.07764754608342478,
          0.08839967720705838,
          0.10047849901384516,
          0.11400135868312054,
          0.12908301822783436,
          0.145831483534915,
          0.16434298741687609,
          0.18469620099093434,
          0.2069458493471576,
          0.23111602876488446,
          0.2571936527643822,
          0.28512257494140064,
          0.3147990233346844,
          0.346069006291123,
          0.37872828822967725,
          0.4125253704018182,
          0.4471676496673581,
          0.48233059321156435,
          0.5176694067884355,
          0.5528323503326417,
          0.5874746295981815,
          0.6212717117703228,
          0.6539309937088769,
          0.6852009766653157,
          0.7148774250585992,
          0.7428063472356178,
          0.7688839712351155,
          0.7930541506528422,
          0.8153037990090656,
          0.8356570125831239,
          0.854168516465085,
          0.8709169817721655,
          0.8859986413168793,
          0.8995215009861548,
          0.9116003227929415,
          0.9223524539165752,
          0.9318944986535737,
          0.940339776980825,
          0.947796481429541,
          0.9543664288698654,
          0.9601443010541102,
          0.9652172732300304,
          0.9696649404355518,
          0.973559463678623,
          0.9769658713181145,
          0.9799424634621495,
          0.9825412784471479,
          0.9848085901619928,
          0.9867854130770994,
          0.9885079984097713,
          0.990008310063792,
          0.9913144730138245,
          0.9924511898593137,
          0.9934401235314712,
          0.994300245763303,
          0.9950481520656084,
          0.9956983447069072,
          0.9962634856660348,
          0.9967546217872328,
          0.9971813844773055,
          0.9975521662877854,
          0.9978742766561371,
          0.9981540789644225,
          0.998397110930269,
          0.9986081901870572,
          0.9987915067475445,
          0.9989507038842891,
          0.9990889488055994
         ]
        },
        {
         "line": {
          "color": "#FDAB9F"
         },
         "mode": "lines",
         "name": "Sigmoid derivative",
         "type": "scatter",
         "x": [
          -7,
          -6.858585858585859,
          -6.717171717171717,
          -6.575757575757576,
          -6.434343434343434,
          -6.292929292929293,
          -6.151515151515151,
          -6.01010101010101,
          -5.8686868686868685,
          -5.7272727272727275,
          -5.585858585858586,
          -5.444444444444445,
          -5.303030303030303,
          -5.161616161616162,
          -5.020202020202021,
          -4.878787878787879,
          -4.737373737373737,
          -4.595959595959596,
          -4.454545454545455,
          -4.313131313131313,
          -4.171717171717171,
          -4.03030303030303,
          -3.888888888888889,
          -3.7474747474747474,
          -3.6060606060606064,
          -3.464646464646465,
          -3.3232323232323235,
          -3.181818181818182,
          -3.0404040404040407,
          -2.898989898989899,
          -2.757575757575758,
          -2.616161616161616,
          -2.474747474747475,
          -2.333333333333334,
          -2.191919191919192,
          -2.050505050505051,
          -1.9090909090909092,
          -1.7676767676767682,
          -1.6262626262626263,
          -1.4848484848484853,
          -1.3434343434343434,
          -1.2020202020202024,
          -1.0606060606060606,
          -0.9191919191919196,
          -0.7777777777777777,
          -0.6363636363636367,
          -0.4949494949494948,
          -0.3535353535353538,
          -0.21212121212121282,
          -0.07070707070707094,
          0.07070707070707005,
          0.21212121212121193,
          0.3535353535353529,
          0.4949494949494948,
          0.6363636363636358,
          0.7777777777777777,
          0.9191919191919187,
          1.0606060606060606,
          1.2020202020202024,
          1.3434343434343425,
          1.4848484848484844,
          1.6262626262626263,
          1.7676767676767682,
          1.9090909090909083,
          2.05050505050505,
          2.191919191919192,
          2.333333333333332,
          2.474747474747474,
          2.616161616161616,
          2.757575757575758,
          2.898989898989898,
          3.0404040404040398,
          3.1818181818181817,
          3.3232323232323235,
          3.4646464646464636,
          3.6060606060606055,
          3.7474747474747474,
          3.8888888888888893,
          4.030303030303029,
          4.171717171717171,
          4.313131313131313,
          4.454545454545453,
          4.595959595959595,
          4.737373737373737,
          4.878787878787879,
          5.020202020202019,
          5.161616161616161,
          5.303030303030303,
          5.444444444444445,
          5.585858585858585,
          5.727272727272727,
          5.8686868686868685,
          6.01010101010101,
          6.1515151515151505,
          6.292929292929292,
          6.434343434343434,
          6.575757575757574,
          6.717171717171716,
          6.858585858585858,
          7
         ],
         "y": [
          0.0009102211801218265,
          0.0010481950933723823,
          0.0012070327965142257,
          0.0013898726783874707,
          0.0016003198163611761,
          0.0018425136111078274,
          0.0021212046441281018,
          0.0024418418223318772,
          0.0028106709292296758,
          0.0032348457330233964,
          0.003722552794597153,
          0.004283151054832306,
          0.004927327136426342,
          0.005667267038338257,
          0.0065168444892464575,
          0.007491825606146128,
          0.008610088607147862,
          0.009891856068426729,
          0.011359935489678969,
          0.01303996161535761,
          0.01496063090514077,
          0.01715391459459211,
          0.019655231765883206,
          0.022503557597751786,
          0.025741434360415028,
          0.029414843725669573,
          0.03357288868841526,
          0.03826722220742428,
          0.04355114831604537,
          0.04947831121932266,
          0.05610088080847713,
          0.06346714203277816,
          0.07161840467064721,
          0.08058517427674627,
          0.09038257024976987,
          0.10100504890152304,
          0.11242059263302694,
          0.12456466194492082,
          0.1373343699037726,
          0.15058351433045072,
          0.16411926478514113,
          0.17770141001283357,
          0.19104507774209661,
          0.20382769220018604,
          0.21570059824221322,
          0.22630524917579767,
          0.23529317192429577,
          0.24234818917666093,
          0.247208742758329,
          0.24968779206374478,
          0.24968779206374478,
          0.24720874275832902,
          0.24234818917666096,
          0.23529317192429575,
          0.22630524917579772,
          0.21570059824221322,
          0.2038276922001861,
          0.19104507774209661,
          0.17770141001283357,
          0.16411926478514124,
          0.15058351433045078,
          0.13733436990377262,
          0.12456466194492084,
          0.11242059263302706,
          0.10100504890152313,
          0.09038257024976991,
          0.0805851742767464,
          0.07161840467064726,
          0.06346714203277827,
          0.056100880808477256,
          0.04947831121932276,
          0.04355114831604551,
          0.03826722220742441,
          0.033572888688415264,
          0.029414843725669534,
          0.025741434360414938,
          0.02250355759775182,
          0.019655231765883265,
          0.017153914594592087,
          0.014960630905140852,
          0.013039961615357667,
          0.011359935489678855,
          0.009891856068426704,
          0.008610088607147945,
          0.007491825606146184,
          0.006516844489246489,
          0.005667267038338251,
          0.00492732713642629,
          0.004283151054832194,
          0.0037225527945972305,
          0.0032348457330232546,
          0.0028106709292296935,
          0.0024418418223319215,
          0.0021212046441282076,
          0.0018425136111078707,
          0.0016003198163611872,
          0.0013898726783874418,
          0.0012070327965143031,
          0.0010481950933724721,
          0.000910221180121784
         ]
        }
       ],
       "layout": {
        "height": 500,
        "legend": {
         "traceorder": "normal",
         "x": 0,
         "y": 1
        },
        "showlegend": true,
        "template": {
         "data": {
          "bar": [
           {
            "error_x": {
             "color": "#2a3f5f"
            },
            "error_y": {
             "color": "#2a3f5f"
            },
            "marker": {
             "line": {
              "color": "#E5ECF6",
              "width": 0.5
             },
             "pattern": {
              "fillmode": "overlay",
              "size": 10,
              "solidity": 0.2
             }
            },
            "type": "bar"
           }
          ],
          "barpolar": [
           {
            "marker": {
             "line": {
              "color": "#E5ECF6",
              "width": 0.5
             },
             "pattern": {
              "fillmode": "overlay",
              "size": 10,
              "solidity": 0.2
             }
            },
            "type": "barpolar"
           }
          ],
          "carpet": [
           {
            "aaxis": {
             "endlinecolor": "#2a3f5f",
             "gridcolor": "white",
             "linecolor": "white",
             "minorgridcolor": "white",
             "startlinecolor": "#2a3f5f"
            },
            "baxis": {
             "endlinecolor": "#2a3f5f",
             "gridcolor": "white",
             "linecolor": "white",
             "minorgridcolor": "white",
             "startlinecolor": "#2a3f5f"
            },
            "type": "carpet"
           }
          ],
          "choropleth": [
           {
            "colorbar": {
             "outlinewidth": 0,
             "ticks": ""
            },
            "type": "choropleth"
           }
          ],
          "contour": [
           {
            "colorbar": {
             "outlinewidth": 0,
             "ticks": ""
            },
            "colorscale": [
             [
              0,
              "#0d0887"
             ],
             [
              0.1111111111111111,
              "#46039f"
             ],
             [
              0.2222222222222222,
              "#7201a8"
             ],
             [
              0.3333333333333333,
              "#9c179e"
             ],
             [
              0.4444444444444444,
              "#bd3786"
             ],
             [
              0.5555555555555556,
              "#d8576b"
             ],
             [
              0.6666666666666666,
              "#ed7953"
             ],
             [
              0.7777777777777778,
              "#fb9f3a"
             ],
             [
              0.8888888888888888,
              "#fdca26"
             ],
             [
              1,
              "#f0f921"
             ]
            ],
            "type": "contour"
           }
          ],
          "contourcarpet": [
           {
            "colorbar": {
             "outlinewidth": 0,
             "ticks": ""
            },
            "type": "contourcarpet"
           }
          ],
          "heatmap": [
           {
            "colorbar": {
             "outlinewidth": 0,
             "ticks": ""
            },
            "colorscale": [
             [
              0,
              "#0d0887"
             ],
             [
              0.1111111111111111,
              "#46039f"
             ],
             [
              0.2222222222222222,
              "#7201a8"
             ],
             [
              0.3333333333333333,
              "#9c179e"
             ],
             [
              0.4444444444444444,
              "#bd3786"
             ],
             [
              0.5555555555555556,
              "#d8576b"
             ],
             [
              0.6666666666666666,
              "#ed7953"
             ],
             [
              0.7777777777777778,
              "#fb9f3a"
             ],
             [
              0.8888888888888888,
              "#fdca26"
             ],
             [
              1,
              "#f0f921"
             ]
            ],
            "type": "heatmap"
           }
          ],
          "heatmapgl": [
           {
            "colorbar": {
             "outlinewidth": 0,
             "ticks": ""
            },
            "colorscale": [
             [
              0,
              "#0d0887"
             ],
             [
              0.1111111111111111,
              "#46039f"
             ],
             [
              0.2222222222222222,
              "#7201a8"
             ],
             [
              0.3333333333333333,
              "#9c179e"
             ],
             [
              0.4444444444444444,
              "#bd3786"
             ],
             [
              0.5555555555555556,
              "#d8576b"
             ],
             [
              0.6666666666666666,
              "#ed7953"
             ],
             [
              0.7777777777777778,
              "#fb9f3a"
             ],
             [
              0.8888888888888888,
              "#fdca26"
             ],
             [
              1,
              "#f0f921"
             ]
            ],
            "type": "heatmapgl"
           }
          ],
          "histogram": [
           {
            "marker": {
             "pattern": {
              "fillmode": "overlay",
              "size": 10,
              "solidity": 0.2
             }
            },
            "type": "histogram"
           }
          ],
          "histogram2d": [
           {
            "colorbar": {
             "outlinewidth": 0,
             "ticks": ""
            },
            "colorscale": [
             [
              0,
              "#0d0887"
             ],
             [
              0.1111111111111111,
              "#46039f"
             ],
             [
              0.2222222222222222,
              "#7201a8"
             ],
             [
              0.3333333333333333,
              "#9c179e"
             ],
             [
              0.4444444444444444,
              "#bd3786"
             ],
             [
              0.5555555555555556,
              "#d8576b"
             ],
             [
              0.6666666666666666,
              "#ed7953"
             ],
             [
              0.7777777777777778,
              "#fb9f3a"
             ],
             [
              0.8888888888888888,
              "#fdca26"
             ],
             [
              1,
              "#f0f921"
             ]
            ],
            "type": "histogram2d"
           }
          ],
          "histogram2dcontour": [
           {
            "colorbar": {
             "outlinewidth": 0,
             "ticks": ""
            },
            "colorscale": [
             [
              0,
              "#0d0887"
             ],
             [
              0.1111111111111111,
              "#46039f"
             ],
             [
              0.2222222222222222,
              "#7201a8"
             ],
             [
              0.3333333333333333,
              "#9c179e"
             ],
             [
              0.4444444444444444,
              "#bd3786"
             ],
             [
              0.5555555555555556,
              "#d8576b"
             ],
             [
              0.6666666666666666,
              "#ed7953"
             ],
             [
              0.7777777777777778,
              "#fb9f3a"
             ],
             [
              0.8888888888888888,
              "#fdca26"
             ],
             [
              1,
              "#f0f921"
             ]
            ],
            "type": "histogram2dcontour"
           }
          ],
          "mesh3d": [
           {
            "colorbar": {
             "outlinewidth": 0,
             "ticks": ""
            },
            "type": "mesh3d"
           }
          ],
          "parcoords": [
           {
            "line": {
             "colorbar": {
              "outlinewidth": 0,
              "ticks": ""
             }
            },
            "type": "parcoords"
           }
          ],
          "pie": [
           {
            "automargin": true,
            "type": "pie"
           }
          ],
          "scatter": [
           {
            "fillpattern": {
             "fillmode": "overlay",
             "size": 10,
             "solidity": 0.2
            },
            "type": "scatter"
           }
          ],
          "scatter3d": [
           {
            "line": {
             "colorbar": {
              "outlinewidth": 0,
              "ticks": ""
             }
            },
            "marker": {
             "colorbar": {
              "outlinewidth": 0,
              "ticks": ""
             }
            },
            "type": "scatter3d"
           }
          ],
          "scattercarpet": [
           {
            "marker": {
             "colorbar": {
              "outlinewidth": 0,
              "ticks": ""
             }
            },
            "type": "scattercarpet"
           }
          ],
          "scattergeo": [
           {
            "marker": {
             "colorbar": {
              "outlinewidth": 0,
              "ticks": ""
             }
            },
            "type": "scattergeo"
           }
          ],
          "scattergl": [
           {
            "marker": {
             "colorbar": {
              "outlinewidth": 0,
              "ticks": ""
             }
            },
            "type": "scattergl"
           }
          ],
          "scattermapbox": [
           {
            "marker": {
             "colorbar": {
              "outlinewidth": 0,
              "ticks": ""
             }
            },
            "type": "scattermapbox"
           }
          ],
          "scatterpolar": [
           {
            "marker": {
             "colorbar": {
              "outlinewidth": 0,
              "ticks": ""
             }
            },
            "type": "scatterpolar"
           }
          ],
          "scatterpolargl": [
           {
            "marker": {
             "colorbar": {
              "outlinewidth": 0,
              "ticks": ""
             }
            },
            "type": "scatterpolargl"
           }
          ],
          "scatterternary": [
           {
            "marker": {
             "colorbar": {
              "outlinewidth": 0,
              "ticks": ""
             }
            },
            "type": "scatterternary"
           }
          ],
          "surface": [
           {
            "colorbar": {
             "outlinewidth": 0,
             "ticks": ""
            },
            "colorscale": [
             [
              0,
              "#0d0887"
             ],
             [
              0.1111111111111111,
              "#46039f"
             ],
             [
              0.2222222222222222,
              "#7201a8"
             ],
             [
              0.3333333333333333,
              "#9c179e"
             ],
             [
              0.4444444444444444,
              "#bd3786"
             ],
             [
              0.5555555555555556,
              "#d8576b"
             ],
             [
              0.6666666666666666,
              "#ed7953"
             ],
             [
              0.7777777777777778,
              "#fb9f3a"
             ],
             [
              0.8888888888888888,
              "#fdca26"
             ],
             [
              1,
              "#f0f921"
             ]
            ],
            "type": "surface"
           }
          ],
          "table": [
           {
            "cells": {
             "fill": {
              "color": "#EBF0F8"
             },
             "line": {
              "color": "white"
             }
            },
            "header": {
             "fill": {
              "color": "#C8D4E3"
             },
             "line": {
              "color": "white"
             }
            },
            "type": "table"
           }
          ]
         },
         "layout": {
          "annotationdefaults": {
           "arrowcolor": "#2a3f5f",
           "arrowhead": 0,
           "arrowwidth": 1
          },
          "autotypenumbers": "strict",
          "coloraxis": {
           "colorbar": {
            "outlinewidth": 0,
            "ticks": ""
           }
          },
          "colorscale": {
           "diverging": [
            [
             0,
             "#8e0152"
            ],
            [
             0.1,
             "#c51b7d"
            ],
            [
             0.2,
             "#de77ae"
            ],
            [
             0.3,
             "#f1b6da"
            ],
            [
             0.4,
             "#fde0ef"
            ],
            [
             0.5,
             "#f7f7f7"
            ],
            [
             0.6,
             "#e6f5d0"
            ],
            [
             0.7,
             "#b8e186"
            ],
            [
             0.8,
             "#7fbc41"
            ],
            [
             0.9,
             "#4d9221"
            ],
            [
             1,
             "#276419"
            ]
           ],
           "sequential": [
            [
             0,
             "#0d0887"
            ],
            [
             0.1111111111111111,
             "#46039f"
            ],
            [
             0.2222222222222222,
             "#7201a8"
            ],
            [
             0.3333333333333333,
             "#9c179e"
            ],
            [
             0.4444444444444444,
             "#bd3786"
            ],
            [
             0.5555555555555556,
             "#d8576b"
            ],
            [
             0.6666666666666666,
             "#ed7953"
            ],
            [
             0.7777777777777778,
             "#fb9f3a"
            ],
            [
             0.8888888888888888,
             "#fdca26"
            ],
            [
             1,
             "#f0f921"
            ]
           ],
           "sequentialminus": [
            [
             0,
             "#0d0887"
            ],
            [
             0.1111111111111111,
             "#46039f"
            ],
            [
             0.2222222222222222,
             "#7201a8"
            ],
            [
             0.3333333333333333,
             "#9c179e"
            ],
            [
             0.4444444444444444,
             "#bd3786"
            ],
            [
             0.5555555555555556,
             "#d8576b"
            ],
            [
             0.6666666666666666,
             "#ed7953"
            ],
            [
             0.7777777777777778,
             "#fb9f3a"
            ],
            [
             0.8888888888888888,
             "#fdca26"
            ],
            [
             1,
             "#f0f921"
            ]
           ]
          },
          "colorway": [
           "#636efa",
           "#EF553B",
           "#00cc96",
           "#ab63fa",
           "#FFA15A",
           "#19d3f3",
           "#FF6692",
           "#B6E880",
           "#FF97FF",
           "#FECB52"
          ],
          "font": {
           "color": "#2a3f5f"
          },
          "geo": {
           "bgcolor": "white",
           "lakecolor": "white",
           "landcolor": "#E5ECF6",
           "showlakes": true,
           "showland": true,
           "subunitcolor": "white"
          },
          "hoverlabel": {
           "align": "left"
          },
          "hovermode": "closest",
          "mapbox": {
           "style": "light"
          },
          "paper_bgcolor": "white",
          "plot_bgcolor": "#E5ECF6",
          "polar": {
           "angularaxis": {
            "gridcolor": "white",
            "linecolor": "white",
            "ticks": ""
           },
           "bgcolor": "#E5ECF6",
           "radialaxis": {
            "gridcolor": "white",
            "linecolor": "white",
            "ticks": ""
           }
          },
          "scene": {
           "xaxis": {
            "backgroundcolor": "#E5ECF6",
            "gridcolor": "white",
            "gridwidth": 2,
            "linecolor": "white",
            "showbackground": true,
            "ticks": "",
            "zerolinecolor": "white"
           },
           "yaxis": {
            "backgroundcolor": "#E5ECF6",
            "gridcolor": "white",
            "gridwidth": 2,
            "linecolor": "white",
            "showbackground": true,
            "ticks": "",
            "zerolinecolor": "white"
           },
           "zaxis": {
            "backgroundcolor": "#E5ECF6",
            "gridcolor": "white",
            "gridwidth": 2,
            "linecolor": "white",
            "showbackground": true,
            "ticks": "",
            "zerolinecolor": "white"
           }
          },
          "shapedefaults": {
           "line": {
            "color": "#2a3f5f"
           }
          },
          "ternary": {
           "aaxis": {
            "gridcolor": "white",
            "linecolor": "white",
            "ticks": ""
           },
           "baxis": {
            "gridcolor": "white",
            "linecolor": "white",
            "ticks": ""
           },
           "bgcolor": "#E5ECF6",
           "caxis": {
            "gridcolor": "white",
            "linecolor": "white",
            "ticks": ""
           }
          },
          "title": {
           "x": 0.05
          },
          "xaxis": {
           "automargin": true,
           "gridcolor": "white",
           "linecolor": "white",
           "ticks": "",
           "title": {
            "standoff": 15
           },
           "zerolinecolor": "white",
           "zerolinewidth": 2
          },
          "yaxis": {
           "automargin": true,
           "gridcolor": "white",
           "linecolor": "white",
           "ticks": "",
           "title": {
            "standoff": 15
           },
           "zerolinecolor": "white",
           "zerolinewidth": 2
          }
         }
        },
        "title": {
         "text": "Sigmoid Function"
        },
        "updatemenus": [
         {
          "buttons": [
           {
            "args": [
             {
              "visible": [
               true,
               false
              ]
             },
             {
              "title": "Sigmoid Function"
             }
            ],
            "label": "Sigmoid",
            "method": "update"
           },
           {
            "args": [
             {
              "visible": [
               false,
               true
              ]
             },
             {
              "title": "Sigmoid Derivative"
             }
            ],
            "label": "Sigmoid Derivative",
            "method": "update"
           },
           {
            "args": [
             {
              "visible": [
               true,
               true
              ]
             },
             {
              "title": "Both Plots"
             }
            ],
            "label": "Both",
            "method": "update"
           }
          ],
          "direction": "down",
          "pad": {
           "r": 10,
           "t": -20
          },
          "showactive": true,
          "x": 0.33,
          "xanchor": "left",
          "y": 1.163,
          "yanchor": "top"
         }
        ],
        "width": 700,
        "xaxis": {
         "anchor": "y",
         "domain": [
          0,
          1
         ],
         "title": {
          "text": "X-axis"
         }
        },
        "yaxis": {
         "anchor": "x",
         "domain": [
          0,
          1
         ],
         "title": {
          "text": "f(x)"
         }
        }
       }
      }
     },
     "metadata": {},
     "output_type": "display_data"
    }
   ],
   "source": [
    "import numpy as np\n",
    "import plotly.graph_objects as go\n",
    "from plotly.subplots import make_subplots\n",
    "\n",
    "# Sigmoid and sigmoid derivative functions\n",
    "def sigmoid(x):\n",
    "    return 1 / (1 + np.exp(-x))\n",
    "\n",
    "def sigmoid_derivative(x):\n",
    "    return sigmoid(x) * (1 - sigmoid(x))\n",
    "\n",
    "x = np.linspace(-7, 7, 100)\n",
    "sigmoid_values = sigmoid(x)\n",
    "sigmoid_derivative_values = sigmoid_derivative(x)\n",
    "\n",
    "# Create initial plots with titles\n",
    "fig = make_subplots(rows=1, cols=1)\n",
    "\n",
    "sigmoid_trace = go.Scatter(x=x, y=sigmoid_values, mode='lines', name='Sigmoid function')\n",
    "sigmoid_derivative_trace = go.Scatter(x=x, y=sigmoid_derivative_values, mode='lines', name='Sigmoid derivative', line=dict(color='#FDAB9F'))\n",
    "\n",
    "# Set plot titles\n",
    "sigmoid_title = \"Sigmoid Function\"\n",
    "sigmoid_derivative_title = \"Sigmoid Derivative\"\n",
    "\n",
    "# Create buttons for interaction\n",
    "buttons = [\n",
    "    {\n",
    "        \"label\": \"Sigmoid\",\n",
    "        \"method\": \"update\",\n",
    "        \"args\": [{\"visible\": [True, False]}, {\"title\": sigmoid_title}],\n",
    "    },\n",
    "    {\n",
    "        \"label\": \"Sigmoid Derivative\",\n",
    "        \"method\": \"update\",\n",
    "        \"args\": [{\"visible\": [False, True]}, {\"title\": sigmoid_derivative_title}],\n",
    "    },\n",
    "    {\n",
    "        \"label\": \"Both\",\n",
    "        \"method\": \"update\",\n",
    "        \"args\": [{\"visible\": [True, True]}, {\"title\": \"Both Plots\"}],\n",
    "    },\n",
    "]\n",
    "\n",
    "# Update layout with buttons and increased pad\n",
    "fig.update_layout(\n",
    "    updatemenus=[\n",
    "        {\n",
    "            \"buttons\": buttons,\n",
    "            \"direction\": \"down\",\n",
    "            \"pad\": {\"r\": 10, \"t\": -20},  # Increased top padding\n",
    "            \"showactive\": True,\n",
    "            \"x\": 0.33,\n",
    "            \"xanchor\": \"left\",\n",
    "            \"y\": 1.163,\n",
    "            \"yanchor\": \"top\"\n",
    "        },\n",
    "    ],\n",
    "    title=sigmoid_title,  # Set the initial title\n",
    "    xaxis_title=\"X-axis\",\n",
    "    yaxis_title=\"f(x)\",\n",
    "    showlegend=True,\n",
    "    legend=dict(x=0, y=1, traceorder='normal'),\n",
    "    height=500,\n",
    "    width=700,\n",
    ")\n",
    "\n",
    "# Add initial traces to the figure\n",
    "fig.add_trace(sigmoid_trace)\n",
    "fig.add_trace(sigmoid_derivative_trace)\n",
    "\n",
    "# Show the initial figure\n",
    "fig.show()\n"
   ]
  },
  {
   "cell_type": "markdown",
   "metadata": {},
   "source": [
    "## Tanh function (Hyperbolic Tangent)\n",
    "\n",
    "The tanh activation function is similar to the sigmoid in that it maps input values to an s-shaped curve. But, in the tanh function, the range is (-1, 1) and is centered at 0. This addresses one of the issues with the sigmoid function.\n",
    "\n",
    "```{math}\n",
    ":label: tanh\n",
    "    \\tanh(x) = \\frac{e^{x} - e^{-x}}{e^{x} + e^{-x}}\n",
    "```\n",
    "\n",
    "The output of the tanh activation function is [Zero centered](https://stackoverflow.com/questions/59540276/why-in-preprocessing-image-data-we-need-to-do-zero-centered-data); hence we can easily map the output values as strongly negative, neutral, or strongly positive. \n",
    "\n",
    "Derivative of tanh function:\n",
    "\n",
    "```{math}\n",
    ":label: tanh_derivative\n",
    "\\tanh'(x) = 1 - \\tanh^2(x)\n",
    "```\n",
    "\n",
    "As you can see - it also faces the problem of vanishing gradients similar to the sigmoid activation function. Plus the gradient of the tanh function is much steeper as compared to the sigmoid function."
   ]
  },
  {
   "cell_type": "markdown",
   "metadata": {},
   "source": [
    "<span style=\"display:none\" id=\"q_tanh\">W3sicXVlc3Rpb24iOiAiV2hhdCBpcyBhZHZhbnRhZ2VzIG9mIHRhbmggZnVuY3Rpb24/IiwgInR5cGUiOiAibWFueV9jaG9pY2UiLCAiYW5zd2VycyI6IFt7ImFuc3dlciI6ICJMaWtlIGEgc2lnbW9pZCwgaXQgaGFzIGEgbGltaXRlZCByYW5nZSBvZiB2YWx1ZXMiLCAiY29ycmVjdCI6IHRydWUsICJmZWVkYmFjayI6ICJDb3JyZWN0LiJ9LCB7ImFuc3dlciI6ICJDb21wdXRhdGlvbmFsbHkgaW5leHBlbnNpdmUgZnVuY3Rpb24iLCAiY29ycmVjdCI6IGZhbHNlLCAiZmVlZGJhY2siOiAiTm8sIGJlY2F1c2UgaXQgaXMgZXhwb25lbnRpYWwgaW4gbmF0dXJlLiJ9LCB7ImFuc3dlciI6ICJVbmxpa2UgdGhlIHNpZ21vaWQsIHRoZSByYW5nZSBvZiB2YWx1ZXMgaXMgc3ltbWV0cmljYWwiLCAiY29ycmVjdCI6IHRydWUsICJmZWVkYmFjayI6ICJDb3JyZWN0LiJ9LCB7ImFuc3dlciI6ICJaZXJvLWNlbnRyaWMgZnVuY3Rpb24iLCAiY29ycmVjdCI6IHRydWUsICJmZWVkYmFjayI6ICJDb3JyZWN0LiJ9XX1d</span>"
   ]
  },
  {
   "cell_type": "code",
   "execution_count": null,
   "metadata": {
    "tags": [
     "remove-input"
    ]
   },
   "outputs": [],
   "source": [
    "from jupyterquiz import display_quiz\n",
    "display_quiz(\"#q_tanh\")"
   ]
  },
  {
   "cell_type": "markdown",
   "metadata": {},
   "source": [
    "```{note}\n",
    "Although both sigmoid and tanh face vanishing gradient issue, tanh is zero centered, and the gradients are not restricted to move in a certain direction. Therefore, in practice, tanh nonlinearity is always preferred to sigmoid nonlinearity.\n",
    "```"
   ]
  },
  {
   "cell_type": "code",
   "execution_count": 35,
   "metadata": {
    "tags": [
     "remove-input"
    ]
   },
   "outputs": [
    {
     "data": {
      "application/vnd.plotly.v1+json": {
       "config": {
        "plotlyServerURL": "https://plot.ly"
       },
       "data": [
        {
         "mode": "lines",
         "name": "tanh",
         "type": "scatter",
         "x": [
          -7,
          -6.858585858585859,
          -6.717171717171717,
          -6.575757575757576,
          -6.434343434343434,
          -6.292929292929293,
          -6.151515151515151,
          -6.01010101010101,
          -5.8686868686868685,
          -5.7272727272727275,
          -5.585858585858586,
          -5.444444444444445,
          -5.303030303030303,
          -5.161616161616162,
          -5.020202020202021,
          -4.878787878787879,
          -4.737373737373737,
          -4.595959595959596,
          -4.454545454545455,
          -4.313131313131313,
          -4.171717171717171,
          -4.03030303030303,
          -3.888888888888889,
          -3.7474747474747474,
          -3.6060606060606064,
          -3.464646464646465,
          -3.3232323232323235,
          -3.181818181818182,
          -3.0404040404040407,
          -2.898989898989899,
          -2.757575757575758,
          -2.616161616161616,
          -2.474747474747475,
          -2.333333333333334,
          -2.191919191919192,
          -2.050505050505051,
          -1.9090909090909092,
          -1.7676767676767682,
          -1.6262626262626263,
          -1.4848484848484853,
          -1.3434343434343434,
          -1.2020202020202024,
          -1.0606060606060606,
          -0.9191919191919196,
          -0.7777777777777777,
          -0.6363636363636367,
          -0.4949494949494948,
          -0.3535353535353538,
          -0.21212121212121282,
          -0.07070707070707094,
          0.07070707070707005,
          0.21212121212121193,
          0.3535353535353529,
          0.4949494949494948,
          0.6363636363636358,
          0.7777777777777777,
          0.9191919191919187,
          1.0606060606060606,
          1.2020202020202024,
          1.3434343434343425,
          1.4848484848484844,
          1.6262626262626263,
          1.7676767676767682,
          1.9090909090909083,
          2.05050505050505,
          2.191919191919192,
          2.333333333333332,
          2.474747474747474,
          2.616161616161616,
          2.757575757575758,
          2.898989898989898,
          3.0404040404040398,
          3.1818181818181817,
          3.3232323232323235,
          3.4646464646464636,
          3.6060606060606055,
          3.7474747474747474,
          3.8888888888888893,
          4.030303030303029,
          4.171717171717171,
          4.313131313131313,
          4.454545454545453,
          4.595959595959595,
          4.737373737373737,
          4.878787878787879,
          5.020202020202019,
          5.161616161616161,
          5.303030303030303,
          5.444444444444445,
          5.585858585858585,
          5.727272727272727,
          5.8686868686868685,
          6.01010101010101,
          6.1515151515151505,
          6.292929292929292,
          6.434343434343434,
          6.575757575757574,
          6.717171717171716,
          6.858585858585858,
          7
         ],
         "y": [
          -0.9999983369439447,
          -0.9999977933292803,
          -0.9999970720197813,
          -0.9999961149313877,
          -0.9999948449939436,
          -0.9999931599452729,
          -0.9999909240968349,
          -0.9999879574080253,
          -0.9999840209895904,
          -0.9999787978692679,
          -0.9999718674716198,
          -0.9999626717584847,
          -0.9999504703060593,
          -0.9999342807057018,
          -0.999912799497203,
          -0.9998842972817451,
          -0.9998464795933361,
          -0.9997963023691455,
          -0.9997297272365864,
          -0.9996413970474411,
          -0.9995242057705604,
          -0.999368728529705,
          -0.9991624666311112,
          -0.9988888480897063,
          -0.9985259054625207,
          -0.9980445285481079,
          -0.9974061583209597,
          -0.9965597488095614,
          -0.9954377740103706,
          -0.9939509963249229,
          -0.9919816416460111,
          -0.989374547118292,
          -0.9859257692708713,
          -0.9813680813098666,
          -0.9753527852312549,
          -0.9674273828633239,
          -0.9570090018249322,
          -0.9433542359113937,
          -0.9255274962065272,
          -0.9023724178465217,
          -0.8724946682797368,
          -0.8342697721569995,
          -0.7858957075716457,
          -0.7255149093946937,
          -0.651429357642829,
          -0.5624185091066976,
          -0.4581359410027759,
          -0.3395071407363771,
          -0.20899595543422458,
          -0.07058947277927188,
          0.070589472779271,
          0.20899595543422372,
          0.3395071407363763,
          0.4581359410027759,
          0.562418509106697,
          0.651429357642829,
          0.7255149093946932,
          0.7858957075716457,
          0.8342697721569995,
          0.8724946682797365,
          0.9023724178465214,
          0.9255274962065272,
          0.9433542359113937,
          0.9570090018249321,
          0.9674273828633239,
          0.9753527852312549,
          0.9813680813098666,
          0.9859257692708713,
          0.989374547118292,
          0.9919816416460111,
          0.9939509963249229,
          0.9954377740103706,
          0.9965597488095614,
          0.9974061583209597,
          0.9980445285481079,
          0.9985259054625207,
          0.9988888480897063,
          0.9991624666311112,
          0.999368728529705,
          0.9995242057705604,
          0.9996413970474411,
          0.9997297272365864,
          0.9997963023691455,
          0.9998464795933361,
          0.9998842972817451,
          0.999912799497203,
          0.9999342807057018,
          0.9999504703060593,
          0.9999626717584847,
          0.9999718674716198,
          0.9999787978692679,
          0.9999840209895904,
          0.9999879574080253,
          0.9999909240968349,
          0.9999931599452729,
          0.9999948449939436,
          0.9999961149313877,
          0.9999970720197813,
          0.9999977933292803,
          0.9999983369439447
         ]
        },
        {
         "line": {
          "color": "#FDAB9F"
         },
         "mode": "lines",
         "name": "tanh derivative",
         "type": "scatter",
         "x": [
          -7,
          -6.858585858585859,
          -6.717171717171717,
          -6.575757575757576,
          -6.434343434343434,
          -6.292929292929293,
          -6.151515151515151,
          -6.01010101010101,
          -5.8686868686868685,
          -5.7272727272727275,
          -5.585858585858586,
          -5.444444444444445,
          -5.303030303030303,
          -5.161616161616162,
          -5.020202020202021,
          -4.878787878787879,
          -4.737373737373737,
          -4.595959595959596,
          -4.454545454545455,
          -4.313131313131313,
          -4.171717171717171,
          -4.03030303030303,
          -3.888888888888889,
          -3.7474747474747474,
          -3.6060606060606064,
          -3.464646464646465,
          -3.3232323232323235,
          -3.181818181818182,
          -3.0404040404040407,
          -2.898989898989899,
          -2.757575757575758,
          -2.616161616161616,
          -2.474747474747475,
          -2.333333333333334,
          -2.191919191919192,
          -2.050505050505051,
          -1.9090909090909092,
          -1.7676767676767682,
          -1.6262626262626263,
          -1.4848484848484853,
          -1.3434343434343434,
          -1.2020202020202024,
          -1.0606060606060606,
          -0.9191919191919196,
          -0.7777777777777777,
          -0.6363636363636367,
          -0.4949494949494948,
          -0.3535353535353538,
          -0.21212121212121282,
          -0.07070707070707094,
          0.07070707070707005,
          0.21212121212121193,
          0.3535353535353529,
          0.4949494949494948,
          0.6363636363636358,
          0.7777777777777777,
          0.9191919191919187,
          1.0606060606060606,
          1.2020202020202024,
          1.3434343434343425,
          1.4848484848484844,
          1.6262626262626263,
          1.7676767676767682,
          1.9090909090909083,
          2.05050505050505,
          2.191919191919192,
          2.333333333333332,
          2.474747474747474,
          2.616161616161616,
          2.757575757575758,
          2.898989898989898,
          3.0404040404040398,
          3.1818181818181817,
          3.3232323232323235,
          3.4646464646464636,
          3.6060606060606055,
          3.7474747474747474,
          3.8888888888888893,
          4.030303030303029,
          4.171717171717171,
          4.313131313131313,
          4.454545454545453,
          4.595959595959595,
          4.737373737373737,
          4.878787878787879,
          5.020202020202019,
          5.161616161616161,
          5.303030303030303,
          5.444444444444445,
          5.585858585858585,
          5.727272727272727,
          5.8686868686868685,
          6.01010101010101,
          6.1515151515151505,
          6.292929292929292,
          6.434343434343434,
          6.575757575757574,
          6.717171717171716,
          6.858585858585858,
          7
         ],
         "y": [
          0.0000033261093448366807,
          0.0000044133365699750016,
          0.000005855951864419673,
          0.000007770122130823509,
          0.000010309985538636823,
          0.000013680062667775772,
          0.00001815172395824849,
          0.000024085038925480973,
          0.00003195776549047569,
          0.000042403811933877655,
          0.000056264265321237517,
          0.00007465508963289125,
          0.000099056934690811,
          0.00013143426957074045,
          0.00017439340166625072,
          0.0002313920493908217,
          0.00030701724481263515,
          0.0004073537689841533,
          0.0005404724794606519,
          0.0007170773090401372,
          0.0009513620787303667,
          0.0012621444369207424,
          0.0016743652756335825,
          0.0022210691620195844,
          0.0029460161202531365,
          0.003907119035185036,
          0.005180955343424665,
          0.006868667052623789,
          0.009103638073278408,
          0.01206141690469309,
          0.015972422637284822,
          0.021138005514474645,
          0.027950377487640732,
          0.03691668898619094,
          0.048686944341633565,
          0.06408425888621982,
          0.08413377042604686,
          0.11008278558803064,
          0.14339885376567685,
          0.18572401950982254,
          0.23875305382343215,
          0.3039939472651082,
          0.38236793682046233,
          0.4736281162460094,
          0.5756397920010512,
          0.6836854206141996,
          0.7901114595615011,
          0.8847349013890098,
          0.9563206906121356,
          0.9950171263327444,
          0.9950171263327445,
          0.956320690612136,
          0.8847349013890105,
          0.7901114595615011,
          0.6836854206142002,
          0.5756397920010512,
          0.4736281162460101,
          0.38236793682046233,
          0.3039939472651082,
          0.23875305382343248,
          0.18572401950982287,
          0.14339885376567685,
          0.11008278558803064,
          0.08413377042604708,
          0.06408425888621982,
          0.048686944341633565,
          0.03691668898619094,
          0.027950377487640732,
          0.021138005514474645,
          0.015972422637284822,
          0.01206141690469309,
          0.009103638073278408,
          0.006868667052623789,
          0.005180955343424665,
          0.003907119035185036,
          0.0029460161202531365,
          0.0022210691620195844,
          0.0016743652756335825,
          0.0012621444369207424,
          0.0009513620787303667,
          0.0007170773090401372,
          0.0005404724794606519,
          0.0004073537689841533,
          0.00030701724481263515,
          0.0002313920493908217,
          0.00017439340166625072,
          0.00013143426957074045,
          0.000099056934690811,
          0.00007465508963289125,
          0.000056264265321237517,
          0.000042403811933877655,
          0.00003195776549047569,
          0.000024085038925480973,
          0.00001815172395824849,
          0.000013680062667775772,
          0.000010309985538636823,
          0.000007770122130823509,
          0.000005855951864419673,
          0.0000044133365699750016,
          0.0000033261093448366807
         ]
        }
       ],
       "layout": {
        "height": 500,
        "legend": {
         "traceorder": "normal",
         "x": 0,
         "y": 1
        },
        "showlegend": true,
        "template": {
         "data": {
          "bar": [
           {
            "error_x": {
             "color": "#2a3f5f"
            },
            "error_y": {
             "color": "#2a3f5f"
            },
            "marker": {
             "line": {
              "color": "#E5ECF6",
              "width": 0.5
             },
             "pattern": {
              "fillmode": "overlay",
              "size": 10,
              "solidity": 0.2
             }
            },
            "type": "bar"
           }
          ],
          "barpolar": [
           {
            "marker": {
             "line": {
              "color": "#E5ECF6",
              "width": 0.5
             },
             "pattern": {
              "fillmode": "overlay",
              "size": 10,
              "solidity": 0.2
             }
            },
            "type": "barpolar"
           }
          ],
          "carpet": [
           {
            "aaxis": {
             "endlinecolor": "#2a3f5f",
             "gridcolor": "white",
             "linecolor": "white",
             "minorgridcolor": "white",
             "startlinecolor": "#2a3f5f"
            },
            "baxis": {
             "endlinecolor": "#2a3f5f",
             "gridcolor": "white",
             "linecolor": "white",
             "minorgridcolor": "white",
             "startlinecolor": "#2a3f5f"
            },
            "type": "carpet"
           }
          ],
          "choropleth": [
           {
            "colorbar": {
             "outlinewidth": 0,
             "ticks": ""
            },
            "type": "choropleth"
           }
          ],
          "contour": [
           {
            "colorbar": {
             "outlinewidth": 0,
             "ticks": ""
            },
            "colorscale": [
             [
              0,
              "#0d0887"
             ],
             [
              0.1111111111111111,
              "#46039f"
             ],
             [
              0.2222222222222222,
              "#7201a8"
             ],
             [
              0.3333333333333333,
              "#9c179e"
             ],
             [
              0.4444444444444444,
              "#bd3786"
             ],
             [
              0.5555555555555556,
              "#d8576b"
             ],
             [
              0.6666666666666666,
              "#ed7953"
             ],
             [
              0.7777777777777778,
              "#fb9f3a"
             ],
             [
              0.8888888888888888,
              "#fdca26"
             ],
             [
              1,
              "#f0f921"
             ]
            ],
            "type": "contour"
           }
          ],
          "contourcarpet": [
           {
            "colorbar": {
             "outlinewidth": 0,
             "ticks": ""
            },
            "type": "contourcarpet"
           }
          ],
          "heatmap": [
           {
            "colorbar": {
             "outlinewidth": 0,
             "ticks": ""
            },
            "colorscale": [
             [
              0,
              "#0d0887"
             ],
             [
              0.1111111111111111,
              "#46039f"
             ],
             [
              0.2222222222222222,
              "#7201a8"
             ],
             [
              0.3333333333333333,
              "#9c179e"
             ],
             [
              0.4444444444444444,
              "#bd3786"
             ],
             [
              0.5555555555555556,
              "#d8576b"
             ],
             [
              0.6666666666666666,
              "#ed7953"
             ],
             [
              0.7777777777777778,
              "#fb9f3a"
             ],
             [
              0.8888888888888888,
              "#fdca26"
             ],
             [
              1,
              "#f0f921"
             ]
            ],
            "type": "heatmap"
           }
          ],
          "heatmapgl": [
           {
            "colorbar": {
             "outlinewidth": 0,
             "ticks": ""
            },
            "colorscale": [
             [
              0,
              "#0d0887"
             ],
             [
              0.1111111111111111,
              "#46039f"
             ],
             [
              0.2222222222222222,
              "#7201a8"
             ],
             [
              0.3333333333333333,
              "#9c179e"
             ],
             [
              0.4444444444444444,
              "#bd3786"
             ],
             [
              0.5555555555555556,
              "#d8576b"
             ],
             [
              0.6666666666666666,
              "#ed7953"
             ],
             [
              0.7777777777777778,
              "#fb9f3a"
             ],
             [
              0.8888888888888888,
              "#fdca26"
             ],
             [
              1,
              "#f0f921"
             ]
            ],
            "type": "heatmapgl"
           }
          ],
          "histogram": [
           {
            "marker": {
             "pattern": {
              "fillmode": "overlay",
              "size": 10,
              "solidity": 0.2
             }
            },
            "type": "histogram"
           }
          ],
          "histogram2d": [
           {
            "colorbar": {
             "outlinewidth": 0,
             "ticks": ""
            },
            "colorscale": [
             [
              0,
              "#0d0887"
             ],
             [
              0.1111111111111111,
              "#46039f"
             ],
             [
              0.2222222222222222,
              "#7201a8"
             ],
             [
              0.3333333333333333,
              "#9c179e"
             ],
             [
              0.4444444444444444,
              "#bd3786"
             ],
             [
              0.5555555555555556,
              "#d8576b"
             ],
             [
              0.6666666666666666,
              "#ed7953"
             ],
             [
              0.7777777777777778,
              "#fb9f3a"
             ],
             [
              0.8888888888888888,
              "#fdca26"
             ],
             [
              1,
              "#f0f921"
             ]
            ],
            "type": "histogram2d"
           }
          ],
          "histogram2dcontour": [
           {
            "colorbar": {
             "outlinewidth": 0,
             "ticks": ""
            },
            "colorscale": [
             [
              0,
              "#0d0887"
             ],
             [
              0.1111111111111111,
              "#46039f"
             ],
             [
              0.2222222222222222,
              "#7201a8"
             ],
             [
              0.3333333333333333,
              "#9c179e"
             ],
             [
              0.4444444444444444,
              "#bd3786"
             ],
             [
              0.5555555555555556,
              "#d8576b"
             ],
             [
              0.6666666666666666,
              "#ed7953"
             ],
             [
              0.7777777777777778,
              "#fb9f3a"
             ],
             [
              0.8888888888888888,
              "#fdca26"
             ],
             [
              1,
              "#f0f921"
             ]
            ],
            "type": "histogram2dcontour"
           }
          ],
          "mesh3d": [
           {
            "colorbar": {
             "outlinewidth": 0,
             "ticks": ""
            },
            "type": "mesh3d"
           }
          ],
          "parcoords": [
           {
            "line": {
             "colorbar": {
              "outlinewidth": 0,
              "ticks": ""
             }
            },
            "type": "parcoords"
           }
          ],
          "pie": [
           {
            "automargin": true,
            "type": "pie"
           }
          ],
          "scatter": [
           {
            "fillpattern": {
             "fillmode": "overlay",
             "size": 10,
             "solidity": 0.2
            },
            "type": "scatter"
           }
          ],
          "scatter3d": [
           {
            "line": {
             "colorbar": {
              "outlinewidth": 0,
              "ticks": ""
             }
            },
            "marker": {
             "colorbar": {
              "outlinewidth": 0,
              "ticks": ""
             }
            },
            "type": "scatter3d"
           }
          ],
          "scattercarpet": [
           {
            "marker": {
             "colorbar": {
              "outlinewidth": 0,
              "ticks": ""
             }
            },
            "type": "scattercarpet"
           }
          ],
          "scattergeo": [
           {
            "marker": {
             "colorbar": {
              "outlinewidth": 0,
              "ticks": ""
             }
            },
            "type": "scattergeo"
           }
          ],
          "scattergl": [
           {
            "marker": {
             "colorbar": {
              "outlinewidth": 0,
              "ticks": ""
             }
            },
            "type": "scattergl"
           }
          ],
          "scattermapbox": [
           {
            "marker": {
             "colorbar": {
              "outlinewidth": 0,
              "ticks": ""
             }
            },
            "type": "scattermapbox"
           }
          ],
          "scatterpolar": [
           {
            "marker": {
             "colorbar": {
              "outlinewidth": 0,
              "ticks": ""
             }
            },
            "type": "scatterpolar"
           }
          ],
          "scatterpolargl": [
           {
            "marker": {
             "colorbar": {
              "outlinewidth": 0,
              "ticks": ""
             }
            },
            "type": "scatterpolargl"
           }
          ],
          "scatterternary": [
           {
            "marker": {
             "colorbar": {
              "outlinewidth": 0,
              "ticks": ""
             }
            },
            "type": "scatterternary"
           }
          ],
          "surface": [
           {
            "colorbar": {
             "outlinewidth": 0,
             "ticks": ""
            },
            "colorscale": [
             [
              0,
              "#0d0887"
             ],
             [
              0.1111111111111111,
              "#46039f"
             ],
             [
              0.2222222222222222,
              "#7201a8"
             ],
             [
              0.3333333333333333,
              "#9c179e"
             ],
             [
              0.4444444444444444,
              "#bd3786"
             ],
             [
              0.5555555555555556,
              "#d8576b"
             ],
             [
              0.6666666666666666,
              "#ed7953"
             ],
             [
              0.7777777777777778,
              "#fb9f3a"
             ],
             [
              0.8888888888888888,
              "#fdca26"
             ],
             [
              1,
              "#f0f921"
             ]
            ],
            "type": "surface"
           }
          ],
          "table": [
           {
            "cells": {
             "fill": {
              "color": "#EBF0F8"
             },
             "line": {
              "color": "white"
             }
            },
            "header": {
             "fill": {
              "color": "#C8D4E3"
             },
             "line": {
              "color": "white"
             }
            },
            "type": "table"
           }
          ]
         },
         "layout": {
          "annotationdefaults": {
           "arrowcolor": "#2a3f5f",
           "arrowhead": 0,
           "arrowwidth": 1
          },
          "autotypenumbers": "strict",
          "coloraxis": {
           "colorbar": {
            "outlinewidth": 0,
            "ticks": ""
           }
          },
          "colorscale": {
           "diverging": [
            [
             0,
             "#8e0152"
            ],
            [
             0.1,
             "#c51b7d"
            ],
            [
             0.2,
             "#de77ae"
            ],
            [
             0.3,
             "#f1b6da"
            ],
            [
             0.4,
             "#fde0ef"
            ],
            [
             0.5,
             "#f7f7f7"
            ],
            [
             0.6,
             "#e6f5d0"
            ],
            [
             0.7,
             "#b8e186"
            ],
            [
             0.8,
             "#7fbc41"
            ],
            [
             0.9,
             "#4d9221"
            ],
            [
             1,
             "#276419"
            ]
           ],
           "sequential": [
            [
             0,
             "#0d0887"
            ],
            [
             0.1111111111111111,
             "#46039f"
            ],
            [
             0.2222222222222222,
             "#7201a8"
            ],
            [
             0.3333333333333333,
             "#9c179e"
            ],
            [
             0.4444444444444444,
             "#bd3786"
            ],
            [
             0.5555555555555556,
             "#d8576b"
            ],
            [
             0.6666666666666666,
             "#ed7953"
            ],
            [
             0.7777777777777778,
             "#fb9f3a"
            ],
            [
             0.8888888888888888,
             "#fdca26"
            ],
            [
             1,
             "#f0f921"
            ]
           ],
           "sequentialminus": [
            [
             0,
             "#0d0887"
            ],
            [
             0.1111111111111111,
             "#46039f"
            ],
            [
             0.2222222222222222,
             "#7201a8"
            ],
            [
             0.3333333333333333,
             "#9c179e"
            ],
            [
             0.4444444444444444,
             "#bd3786"
            ],
            [
             0.5555555555555556,
             "#d8576b"
            ],
            [
             0.6666666666666666,
             "#ed7953"
            ],
            [
             0.7777777777777778,
             "#fb9f3a"
            ],
            [
             0.8888888888888888,
             "#fdca26"
            ],
            [
             1,
             "#f0f921"
            ]
           ]
          },
          "colorway": [
           "#636efa",
           "#EF553B",
           "#00cc96",
           "#ab63fa",
           "#FFA15A",
           "#19d3f3",
           "#FF6692",
           "#B6E880",
           "#FF97FF",
           "#FECB52"
          ],
          "font": {
           "color": "#2a3f5f"
          },
          "geo": {
           "bgcolor": "white",
           "lakecolor": "white",
           "landcolor": "#E5ECF6",
           "showlakes": true,
           "showland": true,
           "subunitcolor": "white"
          },
          "hoverlabel": {
           "align": "left"
          },
          "hovermode": "closest",
          "mapbox": {
           "style": "light"
          },
          "paper_bgcolor": "white",
          "plot_bgcolor": "#E5ECF6",
          "polar": {
           "angularaxis": {
            "gridcolor": "white",
            "linecolor": "white",
            "ticks": ""
           },
           "bgcolor": "#E5ECF6",
           "radialaxis": {
            "gridcolor": "white",
            "linecolor": "white",
            "ticks": ""
           }
          },
          "scene": {
           "xaxis": {
            "backgroundcolor": "#E5ECF6",
            "gridcolor": "white",
            "gridwidth": 2,
            "linecolor": "white",
            "showbackground": true,
            "ticks": "",
            "zerolinecolor": "white"
           },
           "yaxis": {
            "backgroundcolor": "#E5ECF6",
            "gridcolor": "white",
            "gridwidth": 2,
            "linecolor": "white",
            "showbackground": true,
            "ticks": "",
            "zerolinecolor": "white"
           },
           "zaxis": {
            "backgroundcolor": "#E5ECF6",
            "gridcolor": "white",
            "gridwidth": 2,
            "linecolor": "white",
            "showbackground": true,
            "ticks": "",
            "zerolinecolor": "white"
           }
          },
          "shapedefaults": {
           "line": {
            "color": "#2a3f5f"
           }
          },
          "ternary": {
           "aaxis": {
            "gridcolor": "white",
            "linecolor": "white",
            "ticks": ""
           },
           "baxis": {
            "gridcolor": "white",
            "linecolor": "white",
            "ticks": ""
           },
           "bgcolor": "#E5ECF6",
           "caxis": {
            "gridcolor": "white",
            "linecolor": "white",
            "ticks": ""
           }
          },
          "title": {
           "x": 0.05
          },
          "xaxis": {
           "automargin": true,
           "gridcolor": "white",
           "linecolor": "white",
           "ticks": "",
           "title": {
            "standoff": 15
           },
           "zerolinecolor": "white",
           "zerolinewidth": 2
          },
          "yaxis": {
           "automargin": true,
           "gridcolor": "white",
           "linecolor": "white",
           "ticks": "",
           "title": {
            "standoff": 15
           },
           "zerolinecolor": "white",
           "zerolinewidth": 2
          }
         }
        },
        "title": {
         "text": "Hyperbolic Tangent Function"
        },
        "updatemenus": [
         {
          "buttons": [
           {
            "args": [
             {
              "visible": [
               true,
               false
              ]
             },
             {
              "title": "Hyperbolic Tangent Function"
             }
            ],
            "label": "tanh",
            "method": "update"
           },
           {
            "args": [
             {
              "visible": [
               false,
               true
              ]
             },
             {
              "title": "Hyperbolic Tangent Derivative"
             }
            ],
            "label": "tanh Derivative",
            "method": "update"
           },
           {
            "args": [
             {
              "visible": [
               true,
               true
              ]
             },
             {
              "title": "Both Plots"
             }
            ],
            "label": "Both",
            "method": "update"
           }
          ],
          "direction": "down",
          "pad": {
           "r": 10,
           "t": -20
          },
          "showactive": true,
          "x": 0.4,
          "xanchor": "left",
          "y": 1.163,
          "yanchor": "top"
         }
        ],
        "width": 700,
        "xaxis": {
         "anchor": "y",
         "domain": [
          0,
          1
         ],
         "title": {
          "text": "X-axis"
         }
        },
        "yaxis": {
         "anchor": "x",
         "domain": [
          0,
          1
         ],
         "title": {
          "text": "tanh(x)"
         }
        }
       }
      }
     },
     "metadata": {},
     "output_type": "display_data"
    }
   ],
   "source": [
    "import numpy as np\n",
    "import plotly.graph_objects as go\n",
    "from plotly.subplots import make_subplots\n",
    "\n",
    "def tanh(x):\n",
    "    return np.tanh(x)\n",
    "\n",
    "def tanh_derivative(x):\n",
    "    return 1.0 - tanh(x)**2\n",
    "\n",
    "x = np.linspace(-7, 7, 100)\n",
    "tanh_values = tanh(x)\n",
    "tanh_derivative_values = tanh_derivative(x)\n",
    "\n",
    "fig = make_subplots(rows=1, cols=1)\n",
    "\n",
    "tanh_trace = go.Scatter(x=x, y=tanh_values, mode='lines', name='tanh')\n",
    "tanh_derivative_trace = go.Scatter(x=x, y=tanh_derivative_values, mode='lines', name='tanh derivative', line=dict(color='#FDAB9F'))\n",
    "\n",
    "tanh_title = \"Hyperbolic Tangent Function\"\n",
    "tanh_derivative_title = \"Hyperbolic Tangent Derivative\"\n",
    "\n",
    "buttons = [\n",
    "    {\n",
    "        \"label\": \"tanh\",\n",
    "        \"method\": \"update\",\n",
    "        \"args\": [{\"visible\": [True, False]}, {\"title\": tanh_title}],\n",
    "    },\n",
    "    {\n",
    "        \"label\": \"tanh Derivative\",\n",
    "        \"method\": \"update\",\n",
    "        \"args\": [{\"visible\": [False, True]}, {\"title\": tanh_derivative_title}],\n",
    "    },\n",
    "    {\n",
    "        \"label\": \"Both\",\n",
    "        \"method\": \"update\",\n",
    "        \"args\": [{\"visible\": [True, True]}, {\"title\": \"Both Plots\"}],\n",
    "    },\n",
    "]\n",
    "\n",
    "fig.update_layout(\n",
    "    updatemenus=[\n",
    "        {\n",
    "            \"buttons\": buttons,\n",
    "            \"direction\": \"down\",\n",
    "            \"pad\": {\"r\": 10, \"t\": -20},  \n",
    "            \"showactive\": True,\n",
    "            \"x\": 0.4,\n",
    "            \"xanchor\": \"left\",\n",
    "            \"y\": 1.163,\n",
    "            \"yanchor\": \"top\"\n",
    "        },\n",
    "    ],\n",
    "    title=tanh_title, \n",
    "    xaxis_title=\"X-axis\",\n",
    "    yaxis_title=\"tanh(x)\",\n",
    "    showlegend=True,\n",
    "    legend=dict(x=0, y=1, traceorder='normal'),\n",
    "    height=500,\n",
    "    width=700,\n",
    ")\n",
    "\n",
    "fig.add_trace(tanh_trace)\n",
    "fig.add_trace(tanh_derivative_trace)\n",
    "\n",
    "fig.show()"
   ]
  },
  {
   "cell_type": "markdown",
   "metadata": {},
   "source": [
    "## ReLU function\n",
    "\n",
    "ReLU (Rectified Linear Unit) is a more modern and widely used activation function. ReLU is a simple activation function that replaces negative values with 0 and leaves positive values unchanged, which helps avoid issues with gradients during backpropagation and is faster computationally.\n",
    "\n",
    "```{math}\n",
    ":label: relu\n",
    "f(x) = \\max(0, x)\n",
    "```"
   ]
  },
  {
   "cell_type": "markdown",
   "metadata": {},
   "source": [
    "<span style=\"display:none\" id=\"q_relu\">W3sicXVlc3Rpb24iOiAiSW4gdGhlIFJlTFUgYWN0aXZhdGlvbiBmdW5jdGlvbiwgd2hhdCBpcyB0aGUgb3V0cHV0IHdoZW4gdGhlIGlucHV0IGlzIG5lZ2F0aXZlPyIsICJ0eXBlIjogIm51bWVyaWMiLCAicHJlY2lzaW9uIjogMiwgImFuc3dlcnMiOiBbeyJ0eXBlIjogInZhbHVlIiwgInZhbHVlIjogMCwgImNvcnJlY3QiOiB0cnVlLCAiZmVlZGJhY2siOiAiQ29ycmVjdC4ifSwgeyJ0eXBlIjogInJhbmdlIiwgInZhbHVlIjogMC4wLCAiY29ycmVjdCI6IHRydWUsICJmZWVkYmFjayI6ICJDb3JyZWN0LiJ9LCB7InR5cGUiOiAiZGVmYXVsdCIsICJmZWVkYmFjayI6ICJUaGF0J3MgaW5jb3JyZWN0LiBUcnkgYWdhaW4uIn1dfV0=</span>"
   ]
  },
  {
   "cell_type": "code",
   "execution_count": 1,
   "metadata": {
    "tags": [
     "remove-input"
    ]
   },
   "outputs": [
    {
     "data": {
      "text/html": [
       "<div id=\"cnPMWWuyRBga\" data-shufflequestions=\"False\"\n",
       "               data-shuffleanswers=\"True\"\n",
       "               data-preserveresponses=\"false\"\n",
       "               data-numquestions=\"1000000\"\n",
       "               data-maxwidth=\"600\"\n",
       "               style=\"border-radius: 10px; text-align: left\"> <style>\n",
       "#cnPMWWuyRBga {\n",
       "   --jq-multiple-choice-bg: #6f78ffff;\n",
       "   --jq-mc-button-bg: #fafafa;\n",
       "   --jq-mc-button-border: #e0e0e0e0;\n",
       "   --jq-mc-button-inset-shadow: #555555;\n",
       "   --jq-many-choice-bg: #f75c03ff;\n",
       "   --jq-numeric-bg: #392061ff;\n",
       "   --jq-numeric-input-bg: #c0c0c0;\n",
       "   --jq-numeric-input-label: #101010;\n",
       "   --jq-numeric-input-shadow: #999999;\n",
       "   --jq-incorrect-color: #c80202;\n",
       "   --jq-correct-color: #009113;\n",
       "   --jq-text-color: #fafafa;\n",
       "}\n",
       "\n",
       ".Quiz {\n",
       "    max-width: 600px;\n",
       "    margin-top: 15px;\n",
       "    margin-left: auto;\n",
       "    margin-right: auto;\n",
       "    margin-bottom: 15px;\n",
       "    padding-bottom: 4px;\n",
       "    padding-top: 4px;\n",
       "    line-height: 1.1;\n",
       "    font-size: 16pt;\n",
       "    border-radius: inherit;\n",
       "}\n",
       "\n",
       ".QuizCode {\n",
       "    font-size: 14pt;\n",
       "    margin-top: 10px;\n",
       "    margin-left: 20px;\n",
       "    margin-right: 20px;\n",
       "}\n",
       "\n",
       ".QuizCode>pre {\n",
       "    padding: 4px;\n",
       "}\n",
       "\n",
       ".Answer {\n",
       "    margin: 10px 0;\n",
       "    display: grid;\n",
       "    grid-template-columns: 1fr 1fr;\n",
       "    grid-gap: 10px;\n",
       "    border-radius: inherit;\n",
       "}\n",
       "\n",
       ".Feedback {\n",
       "    font-size: 16pt;\n",
       "    text-align: center;\n",
       "    min-height: 2em;\n",
       "}\n",
       "\n",
       ".Input {\n",
       "    align: left;\n",
       "    font-size: 20pt;\n",
       "}\n",
       "\n",
       ".Input-text {\n",
       "    display: block;\n",
       "    margin: 10px;\n",
       "    color: inherit;\n",
       "    width: 140px;\n",
       "    background-color: var(--jq-numeric-input-bg);\n",
       "    color: var(--jq-text-color);\n",
       "    padding: 5px;\n",
       "    padding-left: 10px;\n",
       "    font-family: inherit;\n",
       "    font-size: 20px;\n",
       "    font-weight: inherit;\n",
       "    line-height: 20pt;\n",
       "    border: none;\n",
       "    border-radius: 0.2rem;\n",
       "    transition: box-shadow 0.1s);\n",
       "}\n",
       "\n",
       ".Input-text:focus {\n",
       "    outline: none;\n",
       "    background-color: var(--jq-numeric-input-bg);\n",
       "    box-shadow: 0.6rem 0.8rem 1.4rem -0.5rem var(--jq-numeric-input-shadow);\n",
       "}\n",
       "\n",
       ".MCButton {\n",
       "    background: var(--jq-mc-button-bg);\n",
       "    border: 1px solid var(--jq-mc-button-border);\n",
       "    border-radius: inherit;\n",
       "    padding: 10px;\n",
       "    font-size: 16px;\n",
       "    cursor: pointer;\n",
       "    text-align: center;\n",
       "    display: flex;\n",
       "    align-items: center;\n",
       "    justify-content: center;\n",
       "}\n",
       "\n",
       ".MCButton p {\n",
       "    color: inherit;\n",
       "}\n",
       "\n",
       ".MultipleChoiceQn {\n",
       "    padding: 10px;\n",
       "    background: var(--jq-multiple-choice-bg);\n",
       "    color: var(--jq-text-color);\n",
       "    border-radius: inherit;\n",
       "}\n",
       "\n",
       ".ManyChoiceQn {\n",
       "    padding: 10px;\n",
       "    background: var(--jq-many-choice-bg);\n",
       "    color: var(--jq-text-color);\n",
       "    border-radius: inherit;\n",
       "}\n",
       "\n",
       ".NumericQn {\n",
       "    padding: 10px;\n",
       "    background: var(--jq-numeric-bg);\n",
       "    color: var(--jq-text-color);\n",
       "    border-radius: inherit;\n",
       "}\n",
       "\n",
       ".NumericQn p {\n",
       "    color: inherit;\n",
       "}\n",
       "\n",
       ".InpLabel {\n",
       "    line-height: 34px;\n",
       "    float: left;\n",
       "    margin-right: 10px;\n",
       "    color: var(--jq-numeric-input-label);\n",
       "    font-size: 15pt;\n",
       "}\n",
       "\n",
       ".incorrect {\n",
       "    color: var(--jq-incorrect-color);\n",
       "}\n",
       "\n",
       ".correct {\n",
       "    color: var(--jq-correct-color);\n",
       "}\n",
       "\n",
       ".correctButton {\n",
       "    /*\n",
       "    background: var(--jq-correct-color);\n",
       "   */\n",
       "    animation: correct-anim 0.6s ease;\n",
       "    animation-fill-mode: forwards;\n",
       "    color: var(--jq-text-color);\n",
       "    box-shadow: inset 0px 0px 5px var(--jq-mc-button-inset-shadow);\n",
       "    outline: none;\n",
       "}\n",
       "\n",
       ".incorrectButton {\n",
       "    animation: incorrect-anim 0.8s ease;\n",
       "    animation-fill-mode: forwards;\n",
       "    color: var(--jq-text-color);\n",
       "    box-shadow: inset 0px 0px 5px var(--jq-mc-button-inset-shadow);\n",
       "    outline: none;\n",
       "}\n",
       "\n",
       "@keyframes incorrect-anim {\n",
       "    100% {\n",
       "        background-color: var(--jq-incorrect-color);\n",
       "    }\n",
       "}\n",
       "\n",
       "@keyframes correct-anim {\n",
       "    100% {\n",
       "        background-color: var(--jq-correct-color);\n",
       "    }\n",
       "}\n",
       "</style>"
      ],
      "text/plain": [
       "<IPython.core.display.HTML object>"
      ]
     },
     "metadata": {},
     "output_type": "display_data"
    },
    {
     "data": {
      "application/javascript": "var element=document.getElementById(\"q_relu\");\n            var questionscnPMWWuyRBga;\n            try {\n               questionscnPMWWuyRBga=JSON.parse(window.atob(element.innerHTML));\n            } catch(err) {\n               console.log(\"Fell into catch\");\n               questionscnPMWWuyRBga = JSON.parse(element.innerHTML);\n            }\n            console.log(questionscnPMWWuyRBga);;\n    // Make a random ID\nfunction makeid(length) {\n    var result = [];\n    var characters = 'ABCDEFGHIJKLMNOPQRSTUVWXYZabcdefghijklmnopqrstuvwxyz';\n    var charactersLength = characters.length;\n    for (var i = 0; i < length; i++) {\n        result.push(characters.charAt(Math.floor(Math.random() * charactersLength)));\n    }\n    return result.join('');\n}\n\n// Choose a random subset of an array. Can also be used to shuffle the array\nfunction getRandomSubarray(arr, size) {\n    var shuffled = arr.slice(0), i = arr.length, temp, index;\n    while (i--) {\n        index = Math.floor((i + 1) * Math.random());\n        temp = shuffled[index];\n        shuffled[index] = shuffled[i];\n        shuffled[i] = temp;\n    }\n    return shuffled.slice(0, size);\n}\n\nfunction printResponses(responsesContainer) {\n    var responses=JSON.parse(responsesContainer.dataset.responses);\n    var stringResponses='<B>IMPORTANT!</B>To preserve this answer sequence for submission, when you have finalized your answers: <ol> <li> Copy the text in this cell below \"Answer String\"</li> <li> Double click on the cell directly below the Answer String, labeled \"Replace Me\"</li> <li> Select the whole \"Replace Me\" text</li> <li> Paste in your answer string and press shift-Enter.</li><li>Save the notebook using the save icon or File->Save Notebook menu item</li></ul><br><br><br><b>Answer String:</b><br> ';\n    console.log(responses);\n    responses.forEach((response, index) => {\n        if (response) {\n            console.log(index + ': ' + response);\n            stringResponses+= index + ': ' + response +\"<BR>\";\n        }\n    });\n    responsesContainer.innerHTML=stringResponses;\n}\nfunction check_mc() {\n    var id = this.id.split('-')[0];\n    //var response = this.id.split('-')[1];\n    //console.log(response);\n    //console.log(\"In check_mc(), id=\"+id);\n    //console.log(event.srcElement.id)           \n    //console.log(event.srcElement.dataset.correct)   \n    //console.log(event.srcElement.dataset.feedback)\n\n    var label = event.srcElement;\n    //console.log(label, label.nodeName);\n    var depth = 0;\n    while ((label.nodeName != \"LABEL\") && (depth < 20)) {\n        label = label.parentElement;\n        console.log(depth, label);\n        depth++;\n    }\n\n\n\n    var answers = label.parentElement.children;\n\n    //console.log(answers);\n\n\n    // Split behavior based on multiple choice vs many choice:\n    var fb = document.getElementById(\"fb\" + id);\n\n\n\n\n    if (fb.dataset.numcorrect == 1) {\n        // What follows is for the saved responses stuff\n        var outerContainer = fb.parentElement.parentElement;\n        var responsesContainer = document.getElementById(\"responses\" + outerContainer.id);\n        if (responsesContainer) {\n            //console.log(responsesContainer);\n            var response = label.firstChild.innerText;\n            if (label.querySelector(\".QuizCode\")){\n                response+= label.querySelector(\".QuizCode\").firstChild.innerText;\n            }\n            console.log(response);\n            //console.log(document.getElementById(\"quizWrap\"+id));\n            var qnum = document.getElementById(\"quizWrap\"+id).dataset.qnum;\n            console.log(\"Question \" + qnum);\n            //console.log(id, \", got numcorrect=\",fb.dataset.numcorrect);\n            var responses=JSON.parse(responsesContainer.dataset.responses);\n            console.log(responses);\n            responses[qnum]= response;\n            responsesContainer.setAttribute('data-responses', JSON.stringify(responses));\n            printResponses(responsesContainer);\n        }\n        // End code to preserve responses\n        \n        for (var i = 0; i < answers.length; i++) {\n            var child = answers[i];\n            //console.log(child);\n            child.className = \"MCButton\";\n        }\n\n\n\n        if (label.dataset.correct == \"true\") {\n            // console.log(\"Correct action\");\n            if (\"feedback\" in label.dataset) {\n                fb.textContent = jaxify(label.dataset.feedback);\n            } else {\n                fb.textContent = \"Correct!\";\n            }\n            label.classList.add(\"correctButton\");\n\n            fb.className = \"Feedback\";\n            fb.classList.add(\"correct\");\n\n        } else {\n            if (\"feedback\" in label.dataset) {\n                fb.textContent = jaxify(label.dataset.feedback);\n            } else {\n                fb.textContent = \"Incorrect -- try again.\";\n            }\n            //console.log(\"Error action\");\n            label.classList.add(\"incorrectButton\");\n            fb.className = \"Feedback\";\n            fb.classList.add(\"incorrect\");\n        }\n    }\n    else {\n        var reset = false;\n        var feedback;\n         if (label.dataset.correct == \"true\") {\n            if (\"feedback\" in label.dataset) {\n                feedback = jaxify(label.dataset.feedback);\n            } else {\n                feedback = \"Correct!\";\n            }\n            if (label.dataset.answered <= 0) {\n                if (fb.dataset.answeredcorrect < 0) {\n                    fb.dataset.answeredcorrect = 1;\n                    reset = true;\n                } else {\n                    fb.dataset.answeredcorrect++;\n                }\n                if (reset) {\n                    for (var i = 0; i < answers.length; i++) {\n                        var child = answers[i];\n                        child.className = \"MCButton\";\n                        child.dataset.answered = 0;\n                    }\n                }\n                label.classList.add(\"correctButton\");\n                label.dataset.answered = 1;\n                fb.className = \"Feedback\";\n                fb.classList.add(\"correct\");\n\n            }\n        } else {\n            if (\"feedback\" in label.dataset) {\n                feedback = jaxify(label.dataset.feedback);\n            } else {\n                feedback = \"Incorrect -- try again.\";\n            }\n            if (fb.dataset.answeredcorrect > 0) {\n                fb.dataset.answeredcorrect = -1;\n                reset = true;\n            } else {\n                fb.dataset.answeredcorrect--;\n            }\n\n            if (reset) {\n                for (var i = 0; i < answers.length; i++) {\n                    var child = answers[i];\n                    child.className = \"MCButton\";\n                    child.dataset.answered = 0;\n                }\n            }\n            label.classList.add(\"incorrectButton\");\n            fb.className = \"Feedback\";\n            fb.classList.add(\"incorrect\");\n        }\n        // What follows is for the saved responses stuff\n        var outerContainer = fb.parentElement.parentElement;\n        var responsesContainer = document.getElementById(\"responses\" + outerContainer.id);\n        if (responsesContainer) {\n            //console.log(responsesContainer);\n            var response = label.firstChild.innerText;\n            if (label.querySelector(\".QuizCode\")){\n                response+= label.querySelector(\".QuizCode\").firstChild.innerText;\n            }\n            console.log(response);\n            //console.log(document.getElementById(\"quizWrap\"+id));\n            var qnum = document.getElementById(\"quizWrap\"+id).dataset.qnum;\n            console.log(\"Question \" + qnum);\n            //console.log(id, \", got numcorrect=\",fb.dataset.numcorrect);\n            var responses=JSON.parse(responsesContainer.dataset.responses);\n            if (label.dataset.correct == \"true\") {\n                if (typeof(responses[qnum]) == \"object\"){\n                    if (!responses[qnum].includes(response))\n                        responses[qnum].push(response);\n                } else{\n                    responses[qnum]= [ response ];\n                }\n            } else {\n                responses[qnum]= response;\n            }\n            console.log(responses);\n            responsesContainer.setAttribute('data-responses', JSON.stringify(responses));\n            printResponses(responsesContainer);\n        }\n        // End save responses stuff\n\n\n\n        var numcorrect = fb.dataset.numcorrect;\n        var answeredcorrect = fb.dataset.answeredcorrect;\n        if (answeredcorrect >= 0) {\n            fb.textContent = feedback + \" [\" + answeredcorrect + \"/\" + numcorrect + \"]\";\n        } else {\n            fb.textContent = feedback + \" [\" + 0 + \"/\" + numcorrect + \"]\";\n        }\n\n\n    }\n\n    if (typeof MathJax != 'undefined') {\n        var version = MathJax.version;\n        console.log('MathJax version', version);\n        if (version[0] == \"2\") {\n            MathJax.Hub.Queue([\"Typeset\", MathJax.Hub]);\n        } else if (version[0] == \"3\") {\n            MathJax.typeset([fb]);\n        }\n    } else {\n        console.log('MathJax not detected');\n    }\n\n}\n\nfunction make_mc(qa, shuffle_answers, outerqDiv, qDiv, aDiv, id) {\n    var shuffled;\n    if (shuffle_answers == \"True\") {\n        //console.log(shuffle_answers+\" read as true\");\n        shuffled = getRandomSubarray(qa.answers, qa.answers.length);\n    } else {\n        //console.log(shuffle_answers+\" read as false\");\n        shuffled = qa.answers;\n    }\n\n\n    var num_correct = 0;\n\n\n\n    shuffled.forEach((item, index, ans_array) => {\n        //console.log(answer);\n\n        // Make input element\n        var inp = document.createElement(\"input\");\n        inp.type = \"radio\";\n        inp.id = \"quizo\" + id + index;\n        inp.style = \"display:none;\";\n        aDiv.append(inp);\n\n        //Make label for input element\n        var lab = document.createElement(\"label\");\n        lab.className = \"MCButton\";\n        lab.id = id + '-' + index;\n        lab.onclick = check_mc;\n        var aSpan = document.createElement('span');\n        aSpan.classsName = \"\";\n        //qDiv.id=\"quizQn\"+id+index;\n        if (\"answer\" in item) {\n            aSpan.innerHTML = jaxify(item.answer);\n            //aSpan.innerHTML=item.answer;\n        }\n        lab.append(aSpan);\n\n        // Create div for code inside question\n        var codeSpan;\n        if (\"code\" in item) {\n            codeSpan = document.createElement('span');\n            codeSpan.id = \"code\" + id + index;\n            codeSpan.className = \"QuizCode\";\n            var codePre = document.createElement('pre');\n            codeSpan.append(codePre);\n            var codeCode = document.createElement('code');\n            codePre.append(codeCode);\n            codeCode.innerHTML = item.code;\n            lab.append(codeSpan);\n            //console.log(codeSpan);\n        }\n\n        //lab.textContent=item.answer;\n\n        // Set the data attributes for the answer\n        lab.setAttribute('data-correct', item.correct);\n        if (item.correct) {\n            num_correct++;\n        }\n        if (\"feedback\" in item) {\n            lab.setAttribute('data-feedback', item.feedback);\n        }\n        lab.setAttribute('data-answered', 0);\n\n        aDiv.append(lab);\n\n    });\n\n    if (num_correct > 1) {\n        outerqDiv.className = \"ManyChoiceQn\";\n    } else {\n        outerqDiv.className = \"MultipleChoiceQn\";\n    }\n\n    return num_correct;\n\n}\nfunction check_numeric(ths, event) {\n\n    if (event.keyCode === 13) {\n        ths.blur();\n\n        var id = ths.id.split('-')[0];\n\n        var submission = ths.value;\n        if (submission.indexOf('/') != -1) {\n            var sub_parts = submission.split('/');\n            //console.log(sub_parts);\n            submission = sub_parts[0] / sub_parts[1];\n        }\n        //console.log(\"Reader entered\", submission);\n\n        if (\"precision\" in ths.dataset) {\n            var precision = ths.dataset.precision;\n            // console.log(\"1:\", submission)\n            submission = Math.round((1 * submission + Number.EPSILON) * 10 ** precision) / 10 ** precision;\n            // console.log(\"Rounded to \", submission, \" precision=\", precision  );\n        }\n\n\n        //console.log(\"In check_numeric(), id=\"+id);\n        //console.log(event.srcElement.id)           \n        //console.log(event.srcElement.dataset.feedback)\n\n        var fb = document.getElementById(\"fb\" + id);\n        fb.style.display = \"none\";\n        fb.textContent = \"Incorrect -- try again.\";\n\n        var answers = JSON.parse(ths.dataset.answers);\n        //console.log(answers);\n\n        var defaultFB = \"\";\n        var correct;\n        var done = false;\n        answers.every(answer => {\n            //console.log(answer.type);\n\n            correct = false;\n            // if (answer.type==\"value\"){\n            if ('value' in answer) {\n                if (submission == answer.value) {\n                    if (\"feedback\" in answer) {\n                        fb.textContent = jaxify(answer.feedback);\n                    } else {\n                        fb.textContent = jaxify(\"Correct\");\n                    }\n                    correct = answer.correct;\n                    //console.log(answer.correct);\n                    done = true;\n                }\n                // } else if (answer.type==\"range\") {\n            } else if ('range' in answer) {\n                //console.log(answer.range);\n                if ((submission >= answer.range[0]) && (submission < answer.range[1])) {\n                    fb.textContent = jaxify(answer.feedback);\n                    correct = answer.correct;\n                    //console.log(answer.correct);\n                    done = true;\n                }\n            } else if (answer.type == \"default\") {\n                defaultFB = answer.feedback;\n            }\n            if (done) {\n                return false; // Break out of loop if this has been marked correct\n            } else {\n                return true; // Keep looking for case that includes this as a correct answer\n            }\n        });\n\n        if ((!done) && (defaultFB != \"\")) {\n            fb.innerHTML = jaxify(defaultFB);\n            //console.log(\"Default feedback\", defaultFB);\n        }\n\n        fb.style.display = \"block\";\n        if (correct) {\n            ths.className = \"Input-text\";\n            ths.classList.add(\"correctButton\");\n            fb.className = \"Feedback\";\n            fb.classList.add(\"correct\");\n        } else {\n            ths.className = \"Input-text\";\n            ths.classList.add(\"incorrectButton\");\n            fb.className = \"Feedback\";\n            fb.classList.add(\"incorrect\");\n        }\n\n        // What follows is for the saved responses stuff\n        var outerContainer = fb.parentElement.parentElement;\n        var responsesContainer = document.getElementById(\"responses\" + outerContainer.id);\n        if (responsesContainer) {\n            console.log(submission);\n            var qnum = document.getElementById(\"quizWrap\"+id).dataset.qnum;\n            //console.log(\"Question \" + qnum);\n            //console.log(id, \", got numcorrect=\",fb.dataset.numcorrect);\n            var responses=JSON.parse(responsesContainer.dataset.responses);\n            console.log(responses);\n            if (submission == ths.value){\n                responses[qnum]= submission;\n            } else {\n                responses[qnum]= ths.value + \"(\" + submission +\")\";\n            }\n            responsesContainer.setAttribute('data-responses', JSON.stringify(responses));\n            printResponses(responsesContainer);\n        }\n        // End code to preserve responses\n\n        if (typeof MathJax != 'undefined') {\n            var version = MathJax.version;\n            console.log('MathJax version', version);\n            if (version[0] == \"2\") {\n                MathJax.Hub.Queue([\"Typeset\", MathJax.Hub]);\n            } else if (version[0] == \"3\") {\n                MathJax.typeset([fb]);\n            }\n        } else {\n            console.log('MathJax not detected');\n        }\n        return false;\n    }\n\n}\n\nfunction isValid(el, charC) {\n    //console.log(\"Input char: \", charC);\n    if (charC == 46) {\n        if (el.value.indexOf('.') === -1) {\n            return true;\n        } else if (el.value.indexOf('/') != -1) {\n            var parts = el.value.split('/');\n            if (parts[1].indexOf('.') === -1) {\n                return true;\n            }\n        }\n        else {\n            return false;\n        }\n    } else if (charC == 47) {\n        if (el.value.indexOf('/') === -1) {\n            if ((el.value != \"\") && (el.value != \".\")) {\n                return true;\n            } else {\n                return false;\n            }\n        } else {\n            return false;\n        }\n    } else if (charC == 45) {\n        var edex = el.value.indexOf('e');\n        if (edex == -1) {\n            edex = el.value.indexOf('E');\n        }\n\n        if (el.value == \"\") {\n            return true;\n        } else if (edex == (el.value.length - 1)) { // If just after e or E\n            return true;\n        } else {\n            return false;\n        }\n    } else if (charC == 101) { // \"e\"\n        if ((el.value.indexOf('e') === -1) && (el.value.indexOf('E') === -1) && (el.value.indexOf('/') == -1)) {\n            // Prev symbol must be digit or decimal point:\n            if (el.value.slice(-1).search(/\\d/) >= 0) {\n                return true;\n            } else if (el.value.slice(-1).search(/\\./) >= 0) {\n                return true;\n            } else {\n                return false;\n            }\n        } else {\n            return false;\n        }\n    } else {\n        if (charC > 31 && (charC < 48 || charC > 57))\n            return false;\n    }\n    return true;\n}\n\nfunction numeric_keypress(evnt) {\n    var charC = (evnt.which) ? evnt.which : evnt.keyCode;\n\n    if (charC == 13) {\n        check_numeric(this, evnt);\n    } else {\n        return isValid(this, charC);\n    }\n}\n\n\n\n\n\nfunction make_numeric(qa, outerqDiv, qDiv, aDiv, id) {\n\n\n\n    //console.log(answer);\n\n\n    outerqDiv.className = \"NumericQn\";\n    aDiv.style.display = 'block';\n\n    var lab = document.createElement(\"label\");\n    lab.className = \"InpLabel\";\n    lab.textContent = \"Type numeric answer here:\";\n    aDiv.append(lab);\n\n    var inp = document.createElement(\"input\");\n    inp.type = \"text\";\n    //inp.id=\"input-\"+id;\n    inp.id = id + \"-0\";\n    inp.className = \"Input-text\";\n    inp.setAttribute('data-answers', JSON.stringify(qa.answers));\n    if (\"precision\" in qa) {\n        inp.setAttribute('data-precision', qa.precision);\n    }\n    aDiv.append(inp);\n    //console.log(inp);\n\n    //inp.addEventListener(\"keypress\", check_numeric);\n    //inp.addEventListener(\"keypress\", numeric_keypress);\n    /*\n    inp.addEventListener(\"keypress\", function(event) {\n        return numeric_keypress(this, event);\n    }\n                        );\n                        */\n    //inp.onkeypress=\"return numeric_keypress(this, event)\";\n    inp.onkeypress = numeric_keypress;\n    inp.onpaste = event => false;\n\n    inp.addEventListener(\"focus\", function (event) {\n        this.value = \"\";\n        return false;\n    }\n    );\n\n\n}\nfunction jaxify(string) {\n    var mystring = string;\n\n    var count = 0;\n    var loc = mystring.search(/([^\\\\]|^)(\\$)/);\n\n    var count2 = 0;\n    var loc2 = mystring.search(/([^\\\\]|^)(\\$\\$)/);\n\n    //console.log(loc);\n\n    while ((loc >= 0) || (loc2 >= 0)) {\n\n        /* Have to replace all the double $$ first with current implementation */\n        if (loc2 >= 0) {\n            if (count2 % 2 == 0) {\n                mystring = mystring.replace(/([^\\\\]|^)(\\$\\$)/, \"$1\\\\[\");\n            } else {\n                mystring = mystring.replace(/([^\\\\]|^)(\\$\\$)/, \"$1\\\\]\");\n            }\n            count2++;\n        } else {\n            if (count % 2 == 0) {\n                mystring = mystring.replace(/([^\\\\]|^)(\\$)/, \"$1\\\\(\");\n            } else {\n                mystring = mystring.replace(/([^\\\\]|^)(\\$)/, \"$1\\\\)\");\n            }\n            count++;\n        }\n        loc = mystring.search(/([^\\\\]|^)(\\$)/);\n        loc2 = mystring.search(/([^\\\\]|^)(\\$\\$)/);\n        //console.log(mystring,\", loc:\",loc,\", loc2:\",loc2);\n    }\n\n    //console.log(mystring);\n    return mystring;\n}\n\n\nfunction show_questions(json, mydiv) {\n    console.log('show_questions');\n    //var mydiv=document.getElementById(myid);\n    var shuffle_questions = mydiv.dataset.shufflequestions;\n    var num_questions = mydiv.dataset.numquestions;\n    var shuffle_answers = mydiv.dataset.shuffleanswers;\n    var max_width = mydiv.dataset.maxwidth;\n\n    if (num_questions > json.length) {\n        num_questions = json.length;\n    }\n\n    var questions;\n    if ((num_questions < json.length) || (shuffle_questions == \"True\")) {\n        //console.log(num_questions+\",\"+json.length);\n        questions = getRandomSubarray(json, num_questions);\n    } else {\n        questions = json;\n    }\n\n    //console.log(\"SQ: \"+shuffle_questions+\", NQ: \" + num_questions + \", SA: \", shuffle_answers);\n\n    // Iterate over questions\n    questions.forEach((qa, index, array) => {\n        //console.log(qa.question); \n\n        var id = makeid(8);\n        //console.log(id);\n\n\n        // Create Div to contain question and answers\n        var iDiv = document.createElement('div');\n        //iDiv.id = 'quizWrap' + id + index;\n        iDiv.id = 'quizWrap' + id;\n        iDiv.className = 'Quiz';\n        iDiv.setAttribute('data-qnum', index);\n        iDiv.style.maxWidth  =max_width+\"px\";\n        mydiv.appendChild(iDiv);\n        // iDiv.innerHTML=qa.question;\n        \n        var outerqDiv = document.createElement('div');\n        outerqDiv.id = \"OuterquizQn\" + id + index;\n        // Create div to contain question part\n        var qDiv = document.createElement('div');\n        qDiv.id = \"quizQn\" + id + index;\n        \n        if (qa.question) {\n            iDiv.append(outerqDiv);\n\n            //qDiv.textContent=qa.question;\n            qDiv.innerHTML = jaxify(qa.question);\n            outerqDiv.append(qDiv);\n        }\n\n        // Create div for code inside question\n        var codeDiv;\n        if (\"code\" in qa) {\n            codeDiv = document.createElement('div');\n            codeDiv.id = \"code\" + id + index;\n            codeDiv.className = \"QuizCode\";\n            var codePre = document.createElement('pre');\n            codeDiv.append(codePre);\n            var codeCode = document.createElement('code');\n            codePre.append(codeCode);\n            codeCode.innerHTML = qa.code;\n            outerqDiv.append(codeDiv);\n            //console.log(codeDiv);\n        }\n\n\n        // Create div to contain answer part\n        var aDiv = document.createElement('div');\n        aDiv.id = \"quizAns\" + id + index;\n        aDiv.className = 'Answer';\n        iDiv.append(aDiv);\n\n        //console.log(qa.type);\n\n        var num_correct;\n        if ((qa.type == \"multiple_choice\") || (qa.type == \"many_choice\") ) {\n            num_correct = make_mc(qa, shuffle_answers, outerqDiv, qDiv, aDiv, id);\n            if (\"answer_cols\" in qa) {\n                //aDiv.style.gridTemplateColumns = 'auto '.repeat(qa.answer_cols);\n                aDiv.style.gridTemplateColumns = 'repeat(' + qa.answer_cols + ', 1fr)';\n            }\n        } else if (qa.type == \"numeric\") {\n            //console.log(\"numeric\");\n            make_numeric(qa, outerqDiv, qDiv, aDiv, id);\n        }\n\n\n        //Make div for feedback\n        var fb = document.createElement(\"div\");\n        fb.id = \"fb\" + id;\n        //fb.style=\"font-size: 20px;text-align:center;\";\n        fb.className = \"Feedback\";\n        fb.setAttribute(\"data-answeredcorrect\", 0);\n        fb.setAttribute(\"data-numcorrect\", num_correct);\n        iDiv.append(fb);\n\n\n    });\n    var preserveResponses = mydiv.dataset.preserveresponses;\n    console.log(preserveResponses);\n    console.log(preserveResponses == \"true\");\n    if (preserveResponses == \"true\") {\n        console.log(preserveResponses);\n        // Create Div to contain record of answers\n        var iDiv = document.createElement('div');\n        iDiv.id = 'responses' + mydiv.id;\n        iDiv.className = 'JCResponses';\n        // Create a place to store responses as an empty array\n        iDiv.setAttribute('data-responses', '[]');\n\n        // Dummy Text\n        iDiv.innerHTML=\"<b>Select your answers and then follow the directions that will appear here.</b>\"\n        //iDiv.className = 'Quiz';\n        mydiv.appendChild(iDiv);\n    }\n//console.log(\"At end of show_questions\");\n    if (typeof MathJax != 'undefined') {\n        console.log(\"MathJax version\", MathJax.version);\n        var version = MathJax.version;\n        setTimeout(function(){\n            var version = MathJax.version;\n            console.log('After sleep, MathJax version', version);\n            if (version[0] == \"2\") {\n                MathJax.Hub.Queue([\"Typeset\", MathJax.Hub]);\n            } else if (version[0] == \"3\") {\n                MathJax.typeset([mydiv]);\n            }\n        }, 500);\nif (typeof version == 'undefined') {\n        } else\n        {\n            if (version[0] == \"2\") {\n                MathJax.Hub.Queue([\"Typeset\", MathJax.Hub]);\n            } else if (version[0] == \"3\") {\n                MathJax.typeset([mydiv]);\n            } else {\n                console.log(\"MathJax not found\");\n            }\n        }\n    }\n    return false;\n}\n/* This is to handle asynchrony issues in loading Jupyter notebooks\n           where the quiz has been previously run. The Javascript was generally\n           being run before the div was added to the DOM. I tried to do this\n           more elegantly using Mutation Observer, but I didn't get it to work.\n\n           Someone more knowledgeable could make this better ;-) */\n\n        function try_show() {\n          if(document.getElementById(\"cnPMWWuyRBga\")) {\n            show_questions(questionscnPMWWuyRBga,  cnPMWWuyRBga); \n          } else {\n             setTimeout(try_show, 200);\n          }\n        };\n    \n        {\n        // console.log(element);\n\n        //console.log(\"cnPMWWuyRBga\");\n        // console.log(document.getElementById(\"cnPMWWuyRBga\"));\n\n        try_show();\n        }\n        ",
      "text/plain": [
       "<IPython.core.display.Javascript object>"
      ]
     },
     "metadata": {},
     "output_type": "display_data"
    }
   ],
   "source": [
    "from jupyterquiz import display_quiz\n",
    "display_quiz(\"#q_relu\")"
   ]
  },
  {
   "cell_type": "code",
   "execution_count": 41,
   "metadata": {
    "tags": [
     "remove-input"
    ]
   },
   "outputs": [
    {
     "data": {
      "application/vnd.plotly.v1+json": {
       "config": {
        "plotlyServerURL": "https://plot.ly"
       },
       "data": [
        {
         "mode": "lines",
         "name": "ReLU function",
         "type": "scatter",
         "x": [
          -3,
          -2.9393939393939394,
          -2.878787878787879,
          -2.8181818181818183,
          -2.757575757575758,
          -2.696969696969697,
          -2.6363636363636362,
          -2.5757575757575757,
          -2.515151515151515,
          -2.4545454545454546,
          -2.393939393939394,
          -2.333333333333333,
          -2.2727272727272725,
          -2.212121212121212,
          -2.1515151515151514,
          -2.090909090909091,
          -2.0303030303030303,
          -1.9696969696969697,
          -1.9090909090909092,
          -1.8484848484848484,
          -1.7878787878787878,
          -1.7272727272727273,
          -1.6666666666666665,
          -1.606060606060606,
          -1.5454545454545454,
          -1.4848484848484849,
          -1.4242424242424243,
          -1.3636363636363635,
          -1.303030303030303,
          -1.2424242424242424,
          -1.1818181818181817,
          -1.121212121212121,
          -1.0606060606060606,
          -1,
          -0.9393939393939394,
          -0.8787878787878789,
          -0.8181818181818183,
          -0.7575757575757573,
          -0.6969696969696968,
          -0.6363636363636362,
          -0.5757575757575757,
          -0.5151515151515151,
          -0.4545454545454546,
          -0.39393939393939403,
          -0.33333333333333304,
          -0.2727272727272725,
          -0.21212121212121193,
          -0.15151515151515138,
          -0.09090909090909083,
          -0.030303030303030276,
          0.030303030303030276,
          0.09090909090909083,
          0.15151515151515138,
          0.21212121212121238,
          0.27272727272727293,
          0.3333333333333335,
          0.39393939393939403,
          0.4545454545454546,
          0.5151515151515151,
          0.5757575757575757,
          0.6363636363636367,
          0.6969696969696972,
          0.7575757575757578,
          0.8181818181818183,
          0.8787878787878789,
          0.9393939393939394,
          1,
          1.0606060606060606,
          1.121212121212121,
          1.1818181818181817,
          1.2424242424242422,
          1.3030303030303028,
          1.3636363636363633,
          1.4242424242424248,
          1.4848484848484853,
          1.5454545454545459,
          1.6060606060606064,
          1.666666666666667,
          1.7272727272727275,
          1.787878787878788,
          1.8484848484848486,
          1.9090909090909092,
          1.9696969696969697,
          2.0303030303030303,
          2.090909090909091,
          2.1515151515151514,
          2.212121212121212,
          2.2727272727272725,
          2.333333333333334,
          2.3939393939393945,
          2.454545454545455,
          2.5151515151515156,
          2.575757575757576,
          2.6363636363636367,
          2.6969696969696972,
          2.757575757575758,
          2.8181818181818183,
          2.878787878787879,
          2.9393939393939394,
          3
         ],
         "y": [
          0,
          0,
          0,
          0,
          0,
          0,
          0,
          0,
          0,
          0,
          0,
          0,
          0,
          0,
          0,
          0,
          0,
          0,
          0,
          0,
          0,
          0,
          0,
          0,
          0,
          0,
          0,
          0,
          0,
          0,
          0,
          0,
          0,
          0,
          0,
          0,
          0,
          0,
          0,
          0,
          0,
          0,
          0,
          0,
          0,
          0,
          0,
          0,
          0,
          0,
          0.030303030303030276,
          0.09090909090909083,
          0.15151515151515138,
          0.21212121212121238,
          0.27272727272727293,
          0.3333333333333335,
          0.39393939393939403,
          0.4545454545454546,
          0.5151515151515151,
          0.5757575757575757,
          0.6363636363636367,
          0.6969696969696972,
          0.7575757575757578,
          0.8181818181818183,
          0.8787878787878789,
          0.9393939393939394,
          1,
          1.0606060606060606,
          1.121212121212121,
          1.1818181818181817,
          1.2424242424242422,
          1.3030303030303028,
          1.3636363636363633,
          1.4242424242424248,
          1.4848484848484853,
          1.5454545454545459,
          1.6060606060606064,
          1.666666666666667,
          1.7272727272727275,
          1.787878787878788,
          1.8484848484848486,
          1.9090909090909092,
          1.9696969696969697,
          2.0303030303030303,
          2.090909090909091,
          2.1515151515151514,
          2.212121212121212,
          2.2727272727272725,
          2.333333333333334,
          2.3939393939393945,
          2.454545454545455,
          2.5151515151515156,
          2.575757575757576,
          2.6363636363636367,
          2.6969696969696972,
          2.757575757575758,
          2.8181818181818183,
          2.878787878787879,
          2.9393939393939394,
          3
         ]
        },
        {
         "line": {
          "color": "#FDAB9F"
         },
         "mode": "lines",
         "name": "ReLU derivative",
         "type": "scatter",
         "x": [
          -3,
          -2.9393939393939394,
          -2.878787878787879,
          -2.8181818181818183,
          -2.757575757575758,
          -2.696969696969697,
          -2.6363636363636362,
          -2.5757575757575757,
          -2.515151515151515,
          -2.4545454545454546,
          -2.393939393939394,
          -2.333333333333333,
          -2.2727272727272725,
          -2.212121212121212,
          -2.1515151515151514,
          -2.090909090909091,
          -2.0303030303030303,
          -1.9696969696969697,
          -1.9090909090909092,
          -1.8484848484848484,
          -1.7878787878787878,
          -1.7272727272727273,
          -1.6666666666666665,
          -1.606060606060606,
          -1.5454545454545454,
          -1.4848484848484849,
          -1.4242424242424243,
          -1.3636363636363635,
          -1.303030303030303,
          -1.2424242424242424,
          -1.1818181818181817,
          -1.121212121212121,
          -1.0606060606060606,
          -1,
          -0.9393939393939394,
          -0.8787878787878789,
          -0.8181818181818183,
          -0.7575757575757573,
          -0.6969696969696968,
          -0.6363636363636362,
          -0.5757575757575757,
          -0.5151515151515151,
          -0.4545454545454546,
          -0.39393939393939403,
          -0.33333333333333304,
          -0.2727272727272725,
          -0.21212121212121193,
          -0.15151515151515138,
          -0.09090909090909083,
          -0.030303030303030276,
          0.030303030303030276,
          0.09090909090909083,
          0.15151515151515138,
          0.21212121212121238,
          0.27272727272727293,
          0.3333333333333335,
          0.39393939393939403,
          0.4545454545454546,
          0.5151515151515151,
          0.5757575757575757,
          0.6363636363636367,
          0.6969696969696972,
          0.7575757575757578,
          0.8181818181818183,
          0.8787878787878789,
          0.9393939393939394,
          1,
          1.0606060606060606,
          1.121212121212121,
          1.1818181818181817,
          1.2424242424242422,
          1.3030303030303028,
          1.3636363636363633,
          1.4242424242424248,
          1.4848484848484853,
          1.5454545454545459,
          1.6060606060606064,
          1.666666666666667,
          1.7272727272727275,
          1.787878787878788,
          1.8484848484848486,
          1.9090909090909092,
          1.9696969696969697,
          2.0303030303030303,
          2.090909090909091,
          2.1515151515151514,
          2.212121212121212,
          2.2727272727272725,
          2.333333333333334,
          2.3939393939393945,
          2.454545454545455,
          2.5151515151515156,
          2.575757575757576,
          2.6363636363636367,
          2.6969696969696972,
          2.757575757575758,
          2.8181818181818183,
          2.878787878787879,
          2.9393939393939394,
          3
         ],
         "y": [
          0,
          0,
          0,
          0,
          0,
          0,
          0,
          0,
          0,
          0,
          0,
          0,
          0,
          0,
          0,
          0,
          0,
          0,
          0,
          0,
          0,
          0,
          0,
          0,
          0,
          0,
          0,
          0,
          0,
          0,
          0,
          0,
          0,
          0,
          0,
          0,
          0,
          0,
          0,
          0,
          0,
          0,
          0,
          0,
          0,
          0,
          0,
          0,
          0,
          0,
          1,
          1,
          1,
          1,
          1,
          1,
          1,
          1,
          1,
          1,
          1,
          1,
          1,
          1,
          1,
          1,
          1,
          1,
          1,
          1,
          1,
          1,
          1,
          1,
          1,
          1,
          1,
          1,
          1,
          1,
          1,
          1,
          1,
          1,
          1,
          1,
          1,
          1,
          1,
          1,
          1,
          1,
          1,
          1,
          1,
          1,
          1,
          1,
          1,
          1
         ]
        }
       ],
       "layout": {
        "height": 500,
        "legend": {
         "traceorder": "normal",
         "x": 0,
         "y": 1
        },
        "showlegend": true,
        "template": {
         "data": {
          "bar": [
           {
            "error_x": {
             "color": "#2a3f5f"
            },
            "error_y": {
             "color": "#2a3f5f"
            },
            "marker": {
             "line": {
              "color": "#E5ECF6",
              "width": 0.5
             },
             "pattern": {
              "fillmode": "overlay",
              "size": 10,
              "solidity": 0.2
             }
            },
            "type": "bar"
           }
          ],
          "barpolar": [
           {
            "marker": {
             "line": {
              "color": "#E5ECF6",
              "width": 0.5
             },
             "pattern": {
              "fillmode": "overlay",
              "size": 10,
              "solidity": 0.2
             }
            },
            "type": "barpolar"
           }
          ],
          "carpet": [
           {
            "aaxis": {
             "endlinecolor": "#2a3f5f",
             "gridcolor": "white",
             "linecolor": "white",
             "minorgridcolor": "white",
             "startlinecolor": "#2a3f5f"
            },
            "baxis": {
             "endlinecolor": "#2a3f5f",
             "gridcolor": "white",
             "linecolor": "white",
             "minorgridcolor": "white",
             "startlinecolor": "#2a3f5f"
            },
            "type": "carpet"
           }
          ],
          "choropleth": [
           {
            "colorbar": {
             "outlinewidth": 0,
             "ticks": ""
            },
            "type": "choropleth"
           }
          ],
          "contour": [
           {
            "colorbar": {
             "outlinewidth": 0,
             "ticks": ""
            },
            "colorscale": [
             [
              0,
              "#0d0887"
             ],
             [
              0.1111111111111111,
              "#46039f"
             ],
             [
              0.2222222222222222,
              "#7201a8"
             ],
             [
              0.3333333333333333,
              "#9c179e"
             ],
             [
              0.4444444444444444,
              "#bd3786"
             ],
             [
              0.5555555555555556,
              "#d8576b"
             ],
             [
              0.6666666666666666,
              "#ed7953"
             ],
             [
              0.7777777777777778,
              "#fb9f3a"
             ],
             [
              0.8888888888888888,
              "#fdca26"
             ],
             [
              1,
              "#f0f921"
             ]
            ],
            "type": "contour"
           }
          ],
          "contourcarpet": [
           {
            "colorbar": {
             "outlinewidth": 0,
             "ticks": ""
            },
            "type": "contourcarpet"
           }
          ],
          "heatmap": [
           {
            "colorbar": {
             "outlinewidth": 0,
             "ticks": ""
            },
            "colorscale": [
             [
              0,
              "#0d0887"
             ],
             [
              0.1111111111111111,
              "#46039f"
             ],
             [
              0.2222222222222222,
              "#7201a8"
             ],
             [
              0.3333333333333333,
              "#9c179e"
             ],
             [
              0.4444444444444444,
              "#bd3786"
             ],
             [
              0.5555555555555556,
              "#d8576b"
             ],
             [
              0.6666666666666666,
              "#ed7953"
             ],
             [
              0.7777777777777778,
              "#fb9f3a"
             ],
             [
              0.8888888888888888,
              "#fdca26"
             ],
             [
              1,
              "#f0f921"
             ]
            ],
            "type": "heatmap"
           }
          ],
          "heatmapgl": [
           {
            "colorbar": {
             "outlinewidth": 0,
             "ticks": ""
            },
            "colorscale": [
             [
              0,
              "#0d0887"
             ],
             [
              0.1111111111111111,
              "#46039f"
             ],
             [
              0.2222222222222222,
              "#7201a8"
             ],
             [
              0.3333333333333333,
              "#9c179e"
             ],
             [
              0.4444444444444444,
              "#bd3786"
             ],
             [
              0.5555555555555556,
              "#d8576b"
             ],
             [
              0.6666666666666666,
              "#ed7953"
             ],
             [
              0.7777777777777778,
              "#fb9f3a"
             ],
             [
              0.8888888888888888,
              "#fdca26"
             ],
             [
              1,
              "#f0f921"
             ]
            ],
            "type": "heatmapgl"
           }
          ],
          "histogram": [
           {
            "marker": {
             "pattern": {
              "fillmode": "overlay",
              "size": 10,
              "solidity": 0.2
             }
            },
            "type": "histogram"
           }
          ],
          "histogram2d": [
           {
            "colorbar": {
             "outlinewidth": 0,
             "ticks": ""
            },
            "colorscale": [
             [
              0,
              "#0d0887"
             ],
             [
              0.1111111111111111,
              "#46039f"
             ],
             [
              0.2222222222222222,
              "#7201a8"
             ],
             [
              0.3333333333333333,
              "#9c179e"
             ],
             [
              0.4444444444444444,
              "#bd3786"
             ],
             [
              0.5555555555555556,
              "#d8576b"
             ],
             [
              0.6666666666666666,
              "#ed7953"
             ],
             [
              0.7777777777777778,
              "#fb9f3a"
             ],
             [
              0.8888888888888888,
              "#fdca26"
             ],
             [
              1,
              "#f0f921"
             ]
            ],
            "type": "histogram2d"
           }
          ],
          "histogram2dcontour": [
           {
            "colorbar": {
             "outlinewidth": 0,
             "ticks": ""
            },
            "colorscale": [
             [
              0,
              "#0d0887"
             ],
             [
              0.1111111111111111,
              "#46039f"
             ],
             [
              0.2222222222222222,
              "#7201a8"
             ],
             [
              0.3333333333333333,
              "#9c179e"
             ],
             [
              0.4444444444444444,
              "#bd3786"
             ],
             [
              0.5555555555555556,
              "#d8576b"
             ],
             [
              0.6666666666666666,
              "#ed7953"
             ],
             [
              0.7777777777777778,
              "#fb9f3a"
             ],
             [
              0.8888888888888888,
              "#fdca26"
             ],
             [
              1,
              "#f0f921"
             ]
            ],
            "type": "histogram2dcontour"
           }
          ],
          "mesh3d": [
           {
            "colorbar": {
             "outlinewidth": 0,
             "ticks": ""
            },
            "type": "mesh3d"
           }
          ],
          "parcoords": [
           {
            "line": {
             "colorbar": {
              "outlinewidth": 0,
              "ticks": ""
             }
            },
            "type": "parcoords"
           }
          ],
          "pie": [
           {
            "automargin": true,
            "type": "pie"
           }
          ],
          "scatter": [
           {
            "fillpattern": {
             "fillmode": "overlay",
             "size": 10,
             "solidity": 0.2
            },
            "type": "scatter"
           }
          ],
          "scatter3d": [
           {
            "line": {
             "colorbar": {
              "outlinewidth": 0,
              "ticks": ""
             }
            },
            "marker": {
             "colorbar": {
              "outlinewidth": 0,
              "ticks": ""
             }
            },
            "type": "scatter3d"
           }
          ],
          "scattercarpet": [
           {
            "marker": {
             "colorbar": {
              "outlinewidth": 0,
              "ticks": ""
             }
            },
            "type": "scattercarpet"
           }
          ],
          "scattergeo": [
           {
            "marker": {
             "colorbar": {
              "outlinewidth": 0,
              "ticks": ""
             }
            },
            "type": "scattergeo"
           }
          ],
          "scattergl": [
           {
            "marker": {
             "colorbar": {
              "outlinewidth": 0,
              "ticks": ""
             }
            },
            "type": "scattergl"
           }
          ],
          "scattermapbox": [
           {
            "marker": {
             "colorbar": {
              "outlinewidth": 0,
              "ticks": ""
             }
            },
            "type": "scattermapbox"
           }
          ],
          "scatterpolar": [
           {
            "marker": {
             "colorbar": {
              "outlinewidth": 0,
              "ticks": ""
             }
            },
            "type": "scatterpolar"
           }
          ],
          "scatterpolargl": [
           {
            "marker": {
             "colorbar": {
              "outlinewidth": 0,
              "ticks": ""
             }
            },
            "type": "scatterpolargl"
           }
          ],
          "scatterternary": [
           {
            "marker": {
             "colorbar": {
              "outlinewidth": 0,
              "ticks": ""
             }
            },
            "type": "scatterternary"
           }
          ],
          "surface": [
           {
            "colorbar": {
             "outlinewidth": 0,
             "ticks": ""
            },
            "colorscale": [
             [
              0,
              "#0d0887"
             ],
             [
              0.1111111111111111,
              "#46039f"
             ],
             [
              0.2222222222222222,
              "#7201a8"
             ],
             [
              0.3333333333333333,
              "#9c179e"
             ],
             [
              0.4444444444444444,
              "#bd3786"
             ],
             [
              0.5555555555555556,
              "#d8576b"
             ],
             [
              0.6666666666666666,
              "#ed7953"
             ],
             [
              0.7777777777777778,
              "#fb9f3a"
             ],
             [
              0.8888888888888888,
              "#fdca26"
             ],
             [
              1,
              "#f0f921"
             ]
            ],
            "type": "surface"
           }
          ],
          "table": [
           {
            "cells": {
             "fill": {
              "color": "#EBF0F8"
             },
             "line": {
              "color": "white"
             }
            },
            "header": {
             "fill": {
              "color": "#C8D4E3"
             },
             "line": {
              "color": "white"
             }
            },
            "type": "table"
           }
          ]
         },
         "layout": {
          "annotationdefaults": {
           "arrowcolor": "#2a3f5f",
           "arrowhead": 0,
           "arrowwidth": 1
          },
          "autotypenumbers": "strict",
          "coloraxis": {
           "colorbar": {
            "outlinewidth": 0,
            "ticks": ""
           }
          },
          "colorscale": {
           "diverging": [
            [
             0,
             "#8e0152"
            ],
            [
             0.1,
             "#c51b7d"
            ],
            [
             0.2,
             "#de77ae"
            ],
            [
             0.3,
             "#f1b6da"
            ],
            [
             0.4,
             "#fde0ef"
            ],
            [
             0.5,
             "#f7f7f7"
            ],
            [
             0.6,
             "#e6f5d0"
            ],
            [
             0.7,
             "#b8e186"
            ],
            [
             0.8,
             "#7fbc41"
            ],
            [
             0.9,
             "#4d9221"
            ],
            [
             1,
             "#276419"
            ]
           ],
           "sequential": [
            [
             0,
             "#0d0887"
            ],
            [
             0.1111111111111111,
             "#46039f"
            ],
            [
             0.2222222222222222,
             "#7201a8"
            ],
            [
             0.3333333333333333,
             "#9c179e"
            ],
            [
             0.4444444444444444,
             "#bd3786"
            ],
            [
             0.5555555555555556,
             "#d8576b"
            ],
            [
             0.6666666666666666,
             "#ed7953"
            ],
            [
             0.7777777777777778,
             "#fb9f3a"
            ],
            [
             0.8888888888888888,
             "#fdca26"
            ],
            [
             1,
             "#f0f921"
            ]
           ],
           "sequentialminus": [
            [
             0,
             "#0d0887"
            ],
            [
             0.1111111111111111,
             "#46039f"
            ],
            [
             0.2222222222222222,
             "#7201a8"
            ],
            [
             0.3333333333333333,
             "#9c179e"
            ],
            [
             0.4444444444444444,
             "#bd3786"
            ],
            [
             0.5555555555555556,
             "#d8576b"
            ],
            [
             0.6666666666666666,
             "#ed7953"
            ],
            [
             0.7777777777777778,
             "#fb9f3a"
            ],
            [
             0.8888888888888888,
             "#fdca26"
            ],
            [
             1,
             "#f0f921"
            ]
           ]
          },
          "colorway": [
           "#636efa",
           "#EF553B",
           "#00cc96",
           "#ab63fa",
           "#FFA15A",
           "#19d3f3",
           "#FF6692",
           "#B6E880",
           "#FF97FF",
           "#FECB52"
          ],
          "font": {
           "color": "#2a3f5f"
          },
          "geo": {
           "bgcolor": "white",
           "lakecolor": "white",
           "landcolor": "#E5ECF6",
           "showlakes": true,
           "showland": true,
           "subunitcolor": "white"
          },
          "hoverlabel": {
           "align": "left"
          },
          "hovermode": "closest",
          "mapbox": {
           "style": "light"
          },
          "paper_bgcolor": "white",
          "plot_bgcolor": "#E5ECF6",
          "polar": {
           "angularaxis": {
            "gridcolor": "white",
            "linecolor": "white",
            "ticks": ""
           },
           "bgcolor": "#E5ECF6",
           "radialaxis": {
            "gridcolor": "white",
            "linecolor": "white",
            "ticks": ""
           }
          },
          "scene": {
           "xaxis": {
            "backgroundcolor": "#E5ECF6",
            "gridcolor": "white",
            "gridwidth": 2,
            "linecolor": "white",
            "showbackground": true,
            "ticks": "",
            "zerolinecolor": "white"
           },
           "yaxis": {
            "backgroundcolor": "#E5ECF6",
            "gridcolor": "white",
            "gridwidth": 2,
            "linecolor": "white",
            "showbackground": true,
            "ticks": "",
            "zerolinecolor": "white"
           },
           "zaxis": {
            "backgroundcolor": "#E5ECF6",
            "gridcolor": "white",
            "gridwidth": 2,
            "linecolor": "white",
            "showbackground": true,
            "ticks": "",
            "zerolinecolor": "white"
           }
          },
          "shapedefaults": {
           "line": {
            "color": "#2a3f5f"
           }
          },
          "ternary": {
           "aaxis": {
            "gridcolor": "white",
            "linecolor": "white",
            "ticks": ""
           },
           "baxis": {
            "gridcolor": "white",
            "linecolor": "white",
            "ticks": ""
           },
           "bgcolor": "#E5ECF6",
           "caxis": {
            "gridcolor": "white",
            "linecolor": "white",
            "ticks": ""
           }
          },
          "title": {
           "x": 0.05
          },
          "xaxis": {
           "automargin": true,
           "gridcolor": "white",
           "linecolor": "white",
           "ticks": "",
           "title": {
            "standoff": 15
           },
           "zerolinecolor": "white",
           "zerolinewidth": 2
          },
          "yaxis": {
           "automargin": true,
           "gridcolor": "white",
           "linecolor": "white",
           "ticks": "",
           "title": {
            "standoff": 15
           },
           "zerolinecolor": "white",
           "zerolinewidth": 2
          }
         }
        },
        "title": {
         "text": "Rectified Linear Unit (ReLU) Function"
        },
        "updatemenus": [
         {
          "buttons": [
           {
            "args": [
             {
              "visible": [
               true,
               false
              ]
             },
             {
              "title": "Rectified Linear Unit (ReLU) Function"
             }
            ],
            "label": "ReLU",
            "method": "update"
           },
           {
            "args": [
             {
              "visible": [
               false,
               true
              ]
             },
             {
              "title": "ReLU Derivative"
             }
            ],
            "label": "ReLU Derivative",
            "method": "update"
           },
           {
            "args": [
             {
              "visible": [
               true,
               true
              ]
             },
             {
              "title": "Both Plots"
             }
            ],
            "label": "Both",
            "method": "update"
           }
          ],
          "direction": "down",
          "pad": {
           "r": 10,
           "t": 10
          },
          "showactive": true,
          "x": 0.33,
          "xanchor": "left",
          "y": 1.163,
          "yanchor": "top"
         }
        ],
        "width": 700,
        "xaxis": {
         "anchor": "y",
         "domain": [
          0,
          1
         ],
         "title": {
          "text": "X-axis"
         }
        },
        "yaxis": {
         "anchor": "x",
         "domain": [
          0,
          1
         ],
         "title": {
          "text": "f(x)"
         }
        }
       }
      }
     },
     "metadata": {},
     "output_type": "display_data"
    }
   ],
   "source": [
    "import numpy as np\n",
    "import plotly.graph_objects as go\n",
    "from plotly.subplots import make_subplots\n",
    "\n",
    "def relu(x):\n",
    "    return np.maximum(0, x)\n",
    "\n",
    "def relu_derivative(x):\n",
    "    return np.where(x > 0, 1, 0)\n",
    "\n",
    "x = np.linspace(-3, 3, 100)\n",
    "relu_values = relu(x)\n",
    "relu_derivative_values = relu_derivative(x)\n",
    "\n",
    "fig = make_subplots(rows=1, cols=1)\n",
    "\n",
    "relu_trace = go.Scatter(x=x, y=relu_values, mode='lines', name='ReLU function')\n",
    "relu_derivative_trace = go.Scatter(x=x, y=relu_derivative_values, mode='lines', name='ReLU derivative', line=dict(color='#FDAB9F'))\n",
    "\n",
    "relu_title = \"Rectified Linear Unit (ReLU) Function\"\n",
    "relu_derivative_title = \"ReLU Derivative\"\n",
    "\n",
    "buttons = [\n",
    "    {\n",
    "        \"label\": \"ReLU\",\n",
    "        \"method\": \"update\",\n",
    "        \"args\": [{\"visible\": [True, False]}, {\"title\": relu_title}],\n",
    "    },\n",
    "    {\n",
    "        \"label\": \"ReLU Derivative\",\n",
    "        \"method\": \"update\",\n",
    "        \"args\": [{\"visible\": [False, True]}, {\"title\": relu_derivative_title}],\n",
    "    },\n",
    "    {\n",
    "        \"label\": \"Both\",\n",
    "        \"method\": \"update\",\n",
    "        \"args\": [{\"visible\": [True, True]}, {\"title\": \"Both Plots\"}],\n",
    "    },\n",
    "]\n",
    "\n",
    "fig.update_layout(\n",
    "    updatemenus=[\n",
    "        {\n",
    "            \"buttons\": buttons,\n",
    "            \"direction\": \"down\",\n",
    "            \"pad\": {\"r\": 10, \"t\": 10},  \n",
    "            \"showactive\": True,\n",
    "            \"x\": 0.33,\n",
    "            \"xanchor\": \"left\",\n",
    "            \"y\": 1.163,\n",
    "            \"yanchor\": \"top\"\n",
    "        },\n",
    "    ],\n",
    "    title=relu_title, \n",
    "    xaxis_title=\"X-axis\",\n",
    "    yaxis_title=\"f(x)\",\n",
    "    showlegend=True,\n",
    "    legend=dict(x=0, y=1, traceorder='normal'),\n",
    "    height=500,\n",
    "    width=700,\n",
    ")\n",
    "\n",
    "fig.add_trace(relu_trace)\n",
    "fig.add_trace(relu_derivative_trace)\n",
    "\n",
    "fig.show()\n"
   ]
  },
  {
   "cell_type": "markdown",
   "metadata": {},
   "source": [
    "### The Dying ReLU problem\n",
    "\n",
    "\n",
    "Derivative of ReLU function:\n",
    "\n",
    "```{math}\n",
    ":label: relu_derivative\n",
    "f'(x) = \n",
    "\\begin{cases} \n",
    "0 & \\text{if } x < 0 \\\\\n",
    "1 & \\text{if } x > 0 \\\\\n",
    "\\text{undefined} & \\text{if } x = 0 \n",
    "\\end{cases}\n",
    "```\n",
    "\n",
    "The negative side of the ReLU it makes the gradient value zero. Due to this reason, during the backpropagation process, the weights and biases for some neurons are not updated. This can create dead neurons which never get activated. "
   ]
  },
  {
   "cell_type": "markdown",
   "metadata": {},
   "source": [
    "### Leaky ReLU\n",
    "\n",
    "Leaky ReLU is an improved version of ReLU function to solve the Dying ReLU problem as it has a small positive slope in the negative area.\n",
    "\n",
    "```{math}\n",
    ":label: leaky_relu\n",
    "f(x) = \\max(0.01x, x)\n",
    "```\n",
    "\n",
    "The advantages of Leaky ReLU are same as that of ReLU, in addition to the fact that it does enable backpropagation, even for negative input values. \n",
    "\n",
    "```{admonition} Limitations\n",
    ":class: warning\n",
    "The predictions may not be consistent for negative input values.\n",
    "```"
   ]
  },
  {
   "cell_type": "markdown",
   "metadata": {},
   "source": [
    "<span style=\"display:none\" id=\"q_leaky_relu\">W3sicXVlc3Rpb24iOiAiSW4gYSBMZWFreSBSZUxVIGFjdGl2YXRpb24gZnVuY3Rpb24gd2l0aCBhIGxlYWt5IGZhY3RvciBvZiAwLjEsIGlmIHRoZSBpbnB1dCBpcyAtMC41LCB3aGF0IGlzIHRoZSBvdXRwdXQ/IiwgInR5cGUiOiAibnVtZXJpYyIsICJwcmVjaXNpb24iOiAyLCAiYW5zd2VycyI6IFt7InR5cGUiOiAidmFsdWUiLCAidmFsdWUiOiAtMC4wNSwgImNvcnJlY3QiOiB0cnVlLCAiZmVlZGJhY2siOiAiQ29ycmVjdC4ifSwgeyJ0eXBlIjogImRlZmF1bHQiLCAiZmVlZGJhY2siOiAiVGhhdCdzIGluY29ycmVjdC4gVHJ5IGFnYWluLiJ9XX1d</span>"
   ]
  },
  {
   "cell_type": "code",
   "execution_count": 2,
   "metadata": {
    "tags": [
     "remove-input"
    ]
   },
   "outputs": [
    {
     "data": {
      "text/html": [
       "<div id=\"BLcEOSkpiiSC\" data-shufflequestions=\"False\"\n",
       "               data-shuffleanswers=\"True\"\n",
       "               data-preserveresponses=\"false\"\n",
       "               data-numquestions=\"1000000\"\n",
       "               data-maxwidth=\"600\"\n",
       "               style=\"border-radius: 10px; text-align: left\"> <style>\n",
       "#BLcEOSkpiiSC {\n",
       "   --jq-multiple-choice-bg: #6f78ffff;\n",
       "   --jq-mc-button-bg: #fafafa;\n",
       "   --jq-mc-button-border: #e0e0e0e0;\n",
       "   --jq-mc-button-inset-shadow: #555555;\n",
       "   --jq-many-choice-bg: #f75c03ff;\n",
       "   --jq-numeric-bg: #392061ff;\n",
       "   --jq-numeric-input-bg: #c0c0c0;\n",
       "   --jq-numeric-input-label: #101010;\n",
       "   --jq-numeric-input-shadow: #999999;\n",
       "   --jq-incorrect-color: #c80202;\n",
       "   --jq-correct-color: #009113;\n",
       "   --jq-text-color: #fafafa;\n",
       "}\n",
       "\n",
       ".Quiz {\n",
       "    max-width: 600px;\n",
       "    margin-top: 15px;\n",
       "    margin-left: auto;\n",
       "    margin-right: auto;\n",
       "    margin-bottom: 15px;\n",
       "    padding-bottom: 4px;\n",
       "    padding-top: 4px;\n",
       "    line-height: 1.1;\n",
       "    font-size: 16pt;\n",
       "    border-radius: inherit;\n",
       "}\n",
       "\n",
       ".QuizCode {\n",
       "    font-size: 14pt;\n",
       "    margin-top: 10px;\n",
       "    margin-left: 20px;\n",
       "    margin-right: 20px;\n",
       "}\n",
       "\n",
       ".QuizCode>pre {\n",
       "    padding: 4px;\n",
       "}\n",
       "\n",
       ".Answer {\n",
       "    margin: 10px 0;\n",
       "    display: grid;\n",
       "    grid-template-columns: 1fr 1fr;\n",
       "    grid-gap: 10px;\n",
       "    border-radius: inherit;\n",
       "}\n",
       "\n",
       ".Feedback {\n",
       "    font-size: 16pt;\n",
       "    text-align: center;\n",
       "    min-height: 2em;\n",
       "}\n",
       "\n",
       ".Input {\n",
       "    align: left;\n",
       "    font-size: 20pt;\n",
       "}\n",
       "\n",
       ".Input-text {\n",
       "    display: block;\n",
       "    margin: 10px;\n",
       "    color: inherit;\n",
       "    width: 140px;\n",
       "    background-color: var(--jq-numeric-input-bg);\n",
       "    color: var(--jq-text-color);\n",
       "    padding: 5px;\n",
       "    padding-left: 10px;\n",
       "    font-family: inherit;\n",
       "    font-size: 20px;\n",
       "    font-weight: inherit;\n",
       "    line-height: 20pt;\n",
       "    border: none;\n",
       "    border-radius: 0.2rem;\n",
       "    transition: box-shadow 0.1s);\n",
       "}\n",
       "\n",
       ".Input-text:focus {\n",
       "    outline: none;\n",
       "    background-color: var(--jq-numeric-input-bg);\n",
       "    box-shadow: 0.6rem 0.8rem 1.4rem -0.5rem var(--jq-numeric-input-shadow);\n",
       "}\n",
       "\n",
       ".MCButton {\n",
       "    background: var(--jq-mc-button-bg);\n",
       "    border: 1px solid var(--jq-mc-button-border);\n",
       "    border-radius: inherit;\n",
       "    padding: 10px;\n",
       "    font-size: 16px;\n",
       "    cursor: pointer;\n",
       "    text-align: center;\n",
       "    display: flex;\n",
       "    align-items: center;\n",
       "    justify-content: center;\n",
       "}\n",
       "\n",
       ".MCButton p {\n",
       "    color: inherit;\n",
       "}\n",
       "\n",
       ".MultipleChoiceQn {\n",
       "    padding: 10px;\n",
       "    background: var(--jq-multiple-choice-bg);\n",
       "    color: var(--jq-text-color);\n",
       "    border-radius: inherit;\n",
       "}\n",
       "\n",
       ".ManyChoiceQn {\n",
       "    padding: 10px;\n",
       "    background: var(--jq-many-choice-bg);\n",
       "    color: var(--jq-text-color);\n",
       "    border-radius: inherit;\n",
       "}\n",
       "\n",
       ".NumericQn {\n",
       "    padding: 10px;\n",
       "    background: var(--jq-numeric-bg);\n",
       "    color: var(--jq-text-color);\n",
       "    border-radius: inherit;\n",
       "}\n",
       "\n",
       ".NumericQn p {\n",
       "    color: inherit;\n",
       "}\n",
       "\n",
       ".InpLabel {\n",
       "    line-height: 34px;\n",
       "    float: left;\n",
       "    margin-right: 10px;\n",
       "    color: var(--jq-numeric-input-label);\n",
       "    font-size: 15pt;\n",
       "}\n",
       "\n",
       ".incorrect {\n",
       "    color: var(--jq-incorrect-color);\n",
       "}\n",
       "\n",
       ".correct {\n",
       "    color: var(--jq-correct-color);\n",
       "}\n",
       "\n",
       ".correctButton {\n",
       "    /*\n",
       "    background: var(--jq-correct-color);\n",
       "   */\n",
       "    animation: correct-anim 0.6s ease;\n",
       "    animation-fill-mode: forwards;\n",
       "    color: var(--jq-text-color);\n",
       "    box-shadow: inset 0px 0px 5px var(--jq-mc-button-inset-shadow);\n",
       "    outline: none;\n",
       "}\n",
       "\n",
       ".incorrectButton {\n",
       "    animation: incorrect-anim 0.8s ease;\n",
       "    animation-fill-mode: forwards;\n",
       "    color: var(--jq-text-color);\n",
       "    box-shadow: inset 0px 0px 5px var(--jq-mc-button-inset-shadow);\n",
       "    outline: none;\n",
       "}\n",
       "\n",
       "@keyframes incorrect-anim {\n",
       "    100% {\n",
       "        background-color: var(--jq-incorrect-color);\n",
       "    }\n",
       "}\n",
       "\n",
       "@keyframes correct-anim {\n",
       "    100% {\n",
       "        background-color: var(--jq-correct-color);\n",
       "    }\n",
       "}\n",
       "</style>"
      ],
      "text/plain": [
       "<IPython.core.display.HTML object>"
      ]
     },
     "metadata": {},
     "output_type": "display_data"
    },
    {
     "data": {
      "application/javascript": "var element=document.getElementById(\"q_leaky_relu\");\n            var questionsBLcEOSkpiiSC;\n            try {\n               questionsBLcEOSkpiiSC=JSON.parse(window.atob(element.innerHTML));\n            } catch(err) {\n               console.log(\"Fell into catch\");\n               questionsBLcEOSkpiiSC = JSON.parse(element.innerHTML);\n            }\n            console.log(questionsBLcEOSkpiiSC);;\n    // Make a random ID\nfunction makeid(length) {\n    var result = [];\n    var characters = 'ABCDEFGHIJKLMNOPQRSTUVWXYZabcdefghijklmnopqrstuvwxyz';\n    var charactersLength = characters.length;\n    for (var i = 0; i < length; i++) {\n        result.push(characters.charAt(Math.floor(Math.random() * charactersLength)));\n    }\n    return result.join('');\n}\n\n// Choose a random subset of an array. Can also be used to shuffle the array\nfunction getRandomSubarray(arr, size) {\n    var shuffled = arr.slice(0), i = arr.length, temp, index;\n    while (i--) {\n        index = Math.floor((i + 1) * Math.random());\n        temp = shuffled[index];\n        shuffled[index] = shuffled[i];\n        shuffled[i] = temp;\n    }\n    return shuffled.slice(0, size);\n}\n\nfunction printResponses(responsesContainer) {\n    var responses=JSON.parse(responsesContainer.dataset.responses);\n    var stringResponses='<B>IMPORTANT!</B>To preserve this answer sequence for submission, when you have finalized your answers: <ol> <li> Copy the text in this cell below \"Answer String\"</li> <li> Double click on the cell directly below the Answer String, labeled \"Replace Me\"</li> <li> Select the whole \"Replace Me\" text</li> <li> Paste in your answer string and press shift-Enter.</li><li>Save the notebook using the save icon or File->Save Notebook menu item</li></ul><br><br><br><b>Answer String:</b><br> ';\n    console.log(responses);\n    responses.forEach((response, index) => {\n        if (response) {\n            console.log(index + ': ' + response);\n            stringResponses+= index + ': ' + response +\"<BR>\";\n        }\n    });\n    responsesContainer.innerHTML=stringResponses;\n}\nfunction check_mc() {\n    var id = this.id.split('-')[0];\n    //var response = this.id.split('-')[1];\n    //console.log(response);\n    //console.log(\"In check_mc(), id=\"+id);\n    //console.log(event.srcElement.id)           \n    //console.log(event.srcElement.dataset.correct)   \n    //console.log(event.srcElement.dataset.feedback)\n\n    var label = event.srcElement;\n    //console.log(label, label.nodeName);\n    var depth = 0;\n    while ((label.nodeName != \"LABEL\") && (depth < 20)) {\n        label = label.parentElement;\n        console.log(depth, label);\n        depth++;\n    }\n\n\n\n    var answers = label.parentElement.children;\n\n    //console.log(answers);\n\n\n    // Split behavior based on multiple choice vs many choice:\n    var fb = document.getElementById(\"fb\" + id);\n\n\n\n\n    if (fb.dataset.numcorrect == 1) {\n        // What follows is for the saved responses stuff\n        var outerContainer = fb.parentElement.parentElement;\n        var responsesContainer = document.getElementById(\"responses\" + outerContainer.id);\n        if (responsesContainer) {\n            //console.log(responsesContainer);\n            var response = label.firstChild.innerText;\n            if (label.querySelector(\".QuizCode\")){\n                response+= label.querySelector(\".QuizCode\").firstChild.innerText;\n            }\n            console.log(response);\n            //console.log(document.getElementById(\"quizWrap\"+id));\n            var qnum = document.getElementById(\"quizWrap\"+id).dataset.qnum;\n            console.log(\"Question \" + qnum);\n            //console.log(id, \", got numcorrect=\",fb.dataset.numcorrect);\n            var responses=JSON.parse(responsesContainer.dataset.responses);\n            console.log(responses);\n            responses[qnum]= response;\n            responsesContainer.setAttribute('data-responses', JSON.stringify(responses));\n            printResponses(responsesContainer);\n        }\n        // End code to preserve responses\n        \n        for (var i = 0; i < answers.length; i++) {\n            var child = answers[i];\n            //console.log(child);\n            child.className = \"MCButton\";\n        }\n\n\n\n        if (label.dataset.correct == \"true\") {\n            // console.log(\"Correct action\");\n            if (\"feedback\" in label.dataset) {\n                fb.textContent = jaxify(label.dataset.feedback);\n            } else {\n                fb.textContent = \"Correct!\";\n            }\n            label.classList.add(\"correctButton\");\n\n            fb.className = \"Feedback\";\n            fb.classList.add(\"correct\");\n\n        } else {\n            if (\"feedback\" in label.dataset) {\n                fb.textContent = jaxify(label.dataset.feedback);\n            } else {\n                fb.textContent = \"Incorrect -- try again.\";\n            }\n            //console.log(\"Error action\");\n            label.classList.add(\"incorrectButton\");\n            fb.className = \"Feedback\";\n            fb.classList.add(\"incorrect\");\n        }\n    }\n    else {\n        var reset = false;\n        var feedback;\n         if (label.dataset.correct == \"true\") {\n            if (\"feedback\" in label.dataset) {\n                feedback = jaxify(label.dataset.feedback);\n            } else {\n                feedback = \"Correct!\";\n            }\n            if (label.dataset.answered <= 0) {\n                if (fb.dataset.answeredcorrect < 0) {\n                    fb.dataset.answeredcorrect = 1;\n                    reset = true;\n                } else {\n                    fb.dataset.answeredcorrect++;\n                }\n                if (reset) {\n                    for (var i = 0; i < answers.length; i++) {\n                        var child = answers[i];\n                        child.className = \"MCButton\";\n                        child.dataset.answered = 0;\n                    }\n                }\n                label.classList.add(\"correctButton\");\n                label.dataset.answered = 1;\n                fb.className = \"Feedback\";\n                fb.classList.add(\"correct\");\n\n            }\n        } else {\n            if (\"feedback\" in label.dataset) {\n                feedback = jaxify(label.dataset.feedback);\n            } else {\n                feedback = \"Incorrect -- try again.\";\n            }\n            if (fb.dataset.answeredcorrect > 0) {\n                fb.dataset.answeredcorrect = -1;\n                reset = true;\n            } else {\n                fb.dataset.answeredcorrect--;\n            }\n\n            if (reset) {\n                for (var i = 0; i < answers.length; i++) {\n                    var child = answers[i];\n                    child.className = \"MCButton\";\n                    child.dataset.answered = 0;\n                }\n            }\n            label.classList.add(\"incorrectButton\");\n            fb.className = \"Feedback\";\n            fb.classList.add(\"incorrect\");\n        }\n        // What follows is for the saved responses stuff\n        var outerContainer = fb.parentElement.parentElement;\n        var responsesContainer = document.getElementById(\"responses\" + outerContainer.id);\n        if (responsesContainer) {\n            //console.log(responsesContainer);\n            var response = label.firstChild.innerText;\n            if (label.querySelector(\".QuizCode\")){\n                response+= label.querySelector(\".QuizCode\").firstChild.innerText;\n            }\n            console.log(response);\n            //console.log(document.getElementById(\"quizWrap\"+id));\n            var qnum = document.getElementById(\"quizWrap\"+id).dataset.qnum;\n            console.log(\"Question \" + qnum);\n            //console.log(id, \", got numcorrect=\",fb.dataset.numcorrect);\n            var responses=JSON.parse(responsesContainer.dataset.responses);\n            if (label.dataset.correct == \"true\") {\n                if (typeof(responses[qnum]) == \"object\"){\n                    if (!responses[qnum].includes(response))\n                        responses[qnum].push(response);\n                } else{\n                    responses[qnum]= [ response ];\n                }\n            } else {\n                responses[qnum]= response;\n            }\n            console.log(responses);\n            responsesContainer.setAttribute('data-responses', JSON.stringify(responses));\n            printResponses(responsesContainer);\n        }\n        // End save responses stuff\n\n\n\n        var numcorrect = fb.dataset.numcorrect;\n        var answeredcorrect = fb.dataset.answeredcorrect;\n        if (answeredcorrect >= 0) {\n            fb.textContent = feedback + \" [\" + answeredcorrect + \"/\" + numcorrect + \"]\";\n        } else {\n            fb.textContent = feedback + \" [\" + 0 + \"/\" + numcorrect + \"]\";\n        }\n\n\n    }\n\n    if (typeof MathJax != 'undefined') {\n        var version = MathJax.version;\n        console.log('MathJax version', version);\n        if (version[0] == \"2\") {\n            MathJax.Hub.Queue([\"Typeset\", MathJax.Hub]);\n        } else if (version[0] == \"3\") {\n            MathJax.typeset([fb]);\n        }\n    } else {\n        console.log('MathJax not detected');\n    }\n\n}\n\nfunction make_mc(qa, shuffle_answers, outerqDiv, qDiv, aDiv, id) {\n    var shuffled;\n    if (shuffle_answers == \"True\") {\n        //console.log(shuffle_answers+\" read as true\");\n        shuffled = getRandomSubarray(qa.answers, qa.answers.length);\n    } else {\n        //console.log(shuffle_answers+\" read as false\");\n        shuffled = qa.answers;\n    }\n\n\n    var num_correct = 0;\n\n\n\n    shuffled.forEach((item, index, ans_array) => {\n        //console.log(answer);\n\n        // Make input element\n        var inp = document.createElement(\"input\");\n        inp.type = \"radio\";\n        inp.id = \"quizo\" + id + index;\n        inp.style = \"display:none;\";\n        aDiv.append(inp);\n\n        //Make label for input element\n        var lab = document.createElement(\"label\");\n        lab.className = \"MCButton\";\n        lab.id = id + '-' + index;\n        lab.onclick = check_mc;\n        var aSpan = document.createElement('span');\n        aSpan.classsName = \"\";\n        //qDiv.id=\"quizQn\"+id+index;\n        if (\"answer\" in item) {\n            aSpan.innerHTML = jaxify(item.answer);\n            //aSpan.innerHTML=item.answer;\n        }\n        lab.append(aSpan);\n\n        // Create div for code inside question\n        var codeSpan;\n        if (\"code\" in item) {\n            codeSpan = document.createElement('span');\n            codeSpan.id = \"code\" + id + index;\n            codeSpan.className = \"QuizCode\";\n            var codePre = document.createElement('pre');\n            codeSpan.append(codePre);\n            var codeCode = document.createElement('code');\n            codePre.append(codeCode);\n            codeCode.innerHTML = item.code;\n            lab.append(codeSpan);\n            //console.log(codeSpan);\n        }\n\n        //lab.textContent=item.answer;\n\n        // Set the data attributes for the answer\n        lab.setAttribute('data-correct', item.correct);\n        if (item.correct) {\n            num_correct++;\n        }\n        if (\"feedback\" in item) {\n            lab.setAttribute('data-feedback', item.feedback);\n        }\n        lab.setAttribute('data-answered', 0);\n\n        aDiv.append(lab);\n\n    });\n\n    if (num_correct > 1) {\n        outerqDiv.className = \"ManyChoiceQn\";\n    } else {\n        outerqDiv.className = \"MultipleChoiceQn\";\n    }\n\n    return num_correct;\n\n}\nfunction check_numeric(ths, event) {\n\n    if (event.keyCode === 13) {\n        ths.blur();\n\n        var id = ths.id.split('-')[0];\n\n        var submission = ths.value;\n        if (submission.indexOf('/') != -1) {\n            var sub_parts = submission.split('/');\n            //console.log(sub_parts);\n            submission = sub_parts[0] / sub_parts[1];\n        }\n        //console.log(\"Reader entered\", submission);\n\n        if (\"precision\" in ths.dataset) {\n            var precision = ths.dataset.precision;\n            // console.log(\"1:\", submission)\n            submission = Math.round((1 * submission + Number.EPSILON) * 10 ** precision) / 10 ** precision;\n            // console.log(\"Rounded to \", submission, \" precision=\", precision  );\n        }\n\n\n        //console.log(\"In check_numeric(), id=\"+id);\n        //console.log(event.srcElement.id)           \n        //console.log(event.srcElement.dataset.feedback)\n\n        var fb = document.getElementById(\"fb\" + id);\n        fb.style.display = \"none\";\n        fb.textContent = \"Incorrect -- try again.\";\n\n        var answers = JSON.parse(ths.dataset.answers);\n        //console.log(answers);\n\n        var defaultFB = \"\";\n        var correct;\n        var done = false;\n        answers.every(answer => {\n            //console.log(answer.type);\n\n            correct = false;\n            // if (answer.type==\"value\"){\n            if ('value' in answer) {\n                if (submission == answer.value) {\n                    if (\"feedback\" in answer) {\n                        fb.textContent = jaxify(answer.feedback);\n                    } else {\n                        fb.textContent = jaxify(\"Correct\");\n                    }\n                    correct = answer.correct;\n                    //console.log(answer.correct);\n                    done = true;\n                }\n                // } else if (answer.type==\"range\") {\n            } else if ('range' in answer) {\n                //console.log(answer.range);\n                if ((submission >= answer.range[0]) && (submission < answer.range[1])) {\n                    fb.textContent = jaxify(answer.feedback);\n                    correct = answer.correct;\n                    //console.log(answer.correct);\n                    done = true;\n                }\n            } else if (answer.type == \"default\") {\n                defaultFB = answer.feedback;\n            }\n            if (done) {\n                return false; // Break out of loop if this has been marked correct\n            } else {\n                return true; // Keep looking for case that includes this as a correct answer\n            }\n        });\n\n        if ((!done) && (defaultFB != \"\")) {\n            fb.innerHTML = jaxify(defaultFB);\n            //console.log(\"Default feedback\", defaultFB);\n        }\n\n        fb.style.display = \"block\";\n        if (correct) {\n            ths.className = \"Input-text\";\n            ths.classList.add(\"correctButton\");\n            fb.className = \"Feedback\";\n            fb.classList.add(\"correct\");\n        } else {\n            ths.className = \"Input-text\";\n            ths.classList.add(\"incorrectButton\");\n            fb.className = \"Feedback\";\n            fb.classList.add(\"incorrect\");\n        }\n\n        // What follows is for the saved responses stuff\n        var outerContainer = fb.parentElement.parentElement;\n        var responsesContainer = document.getElementById(\"responses\" + outerContainer.id);\n        if (responsesContainer) {\n            console.log(submission);\n            var qnum = document.getElementById(\"quizWrap\"+id).dataset.qnum;\n            //console.log(\"Question \" + qnum);\n            //console.log(id, \", got numcorrect=\",fb.dataset.numcorrect);\n            var responses=JSON.parse(responsesContainer.dataset.responses);\n            console.log(responses);\n            if (submission == ths.value){\n                responses[qnum]= submission;\n            } else {\n                responses[qnum]= ths.value + \"(\" + submission +\")\";\n            }\n            responsesContainer.setAttribute('data-responses', JSON.stringify(responses));\n            printResponses(responsesContainer);\n        }\n        // End code to preserve responses\n\n        if (typeof MathJax != 'undefined') {\n            var version = MathJax.version;\n            console.log('MathJax version', version);\n            if (version[0] == \"2\") {\n                MathJax.Hub.Queue([\"Typeset\", MathJax.Hub]);\n            } else if (version[0] == \"3\") {\n                MathJax.typeset([fb]);\n            }\n        } else {\n            console.log('MathJax not detected');\n        }\n        return false;\n    }\n\n}\n\nfunction isValid(el, charC) {\n    //console.log(\"Input char: \", charC);\n    if (charC == 46) {\n        if (el.value.indexOf('.') === -1) {\n            return true;\n        } else if (el.value.indexOf('/') != -1) {\n            var parts = el.value.split('/');\n            if (parts[1].indexOf('.') === -1) {\n                return true;\n            }\n        }\n        else {\n            return false;\n        }\n    } else if (charC == 47) {\n        if (el.value.indexOf('/') === -1) {\n            if ((el.value != \"\") && (el.value != \".\")) {\n                return true;\n            } else {\n                return false;\n            }\n        } else {\n            return false;\n        }\n    } else if (charC == 45) {\n        var edex = el.value.indexOf('e');\n        if (edex == -1) {\n            edex = el.value.indexOf('E');\n        }\n\n        if (el.value == \"\") {\n            return true;\n        } else if (edex == (el.value.length - 1)) { // If just after e or E\n            return true;\n        } else {\n            return false;\n        }\n    } else if (charC == 101) { // \"e\"\n        if ((el.value.indexOf('e') === -1) && (el.value.indexOf('E') === -1) && (el.value.indexOf('/') == -1)) {\n            // Prev symbol must be digit or decimal point:\n            if (el.value.slice(-1).search(/\\d/) >= 0) {\n                return true;\n            } else if (el.value.slice(-1).search(/\\./) >= 0) {\n                return true;\n            } else {\n                return false;\n            }\n        } else {\n            return false;\n        }\n    } else {\n        if (charC > 31 && (charC < 48 || charC > 57))\n            return false;\n    }\n    return true;\n}\n\nfunction numeric_keypress(evnt) {\n    var charC = (evnt.which) ? evnt.which : evnt.keyCode;\n\n    if (charC == 13) {\n        check_numeric(this, evnt);\n    } else {\n        return isValid(this, charC);\n    }\n}\n\n\n\n\n\nfunction make_numeric(qa, outerqDiv, qDiv, aDiv, id) {\n\n\n\n    //console.log(answer);\n\n\n    outerqDiv.className = \"NumericQn\";\n    aDiv.style.display = 'block';\n\n    var lab = document.createElement(\"label\");\n    lab.className = \"InpLabel\";\n    lab.textContent = \"Type numeric answer here:\";\n    aDiv.append(lab);\n\n    var inp = document.createElement(\"input\");\n    inp.type = \"text\";\n    //inp.id=\"input-\"+id;\n    inp.id = id + \"-0\";\n    inp.className = \"Input-text\";\n    inp.setAttribute('data-answers', JSON.stringify(qa.answers));\n    if (\"precision\" in qa) {\n        inp.setAttribute('data-precision', qa.precision);\n    }\n    aDiv.append(inp);\n    //console.log(inp);\n\n    //inp.addEventListener(\"keypress\", check_numeric);\n    //inp.addEventListener(\"keypress\", numeric_keypress);\n    /*\n    inp.addEventListener(\"keypress\", function(event) {\n        return numeric_keypress(this, event);\n    }\n                        );\n                        */\n    //inp.onkeypress=\"return numeric_keypress(this, event)\";\n    inp.onkeypress = numeric_keypress;\n    inp.onpaste = event => false;\n\n    inp.addEventListener(\"focus\", function (event) {\n        this.value = \"\";\n        return false;\n    }\n    );\n\n\n}\nfunction jaxify(string) {\n    var mystring = string;\n\n    var count = 0;\n    var loc = mystring.search(/([^\\\\]|^)(\\$)/);\n\n    var count2 = 0;\n    var loc2 = mystring.search(/([^\\\\]|^)(\\$\\$)/);\n\n    //console.log(loc);\n\n    while ((loc >= 0) || (loc2 >= 0)) {\n\n        /* Have to replace all the double $$ first with current implementation */\n        if (loc2 >= 0) {\n            if (count2 % 2 == 0) {\n                mystring = mystring.replace(/([^\\\\]|^)(\\$\\$)/, \"$1\\\\[\");\n            } else {\n                mystring = mystring.replace(/([^\\\\]|^)(\\$\\$)/, \"$1\\\\]\");\n            }\n            count2++;\n        } else {\n            if (count % 2 == 0) {\n                mystring = mystring.replace(/([^\\\\]|^)(\\$)/, \"$1\\\\(\");\n            } else {\n                mystring = mystring.replace(/([^\\\\]|^)(\\$)/, \"$1\\\\)\");\n            }\n            count++;\n        }\n        loc = mystring.search(/([^\\\\]|^)(\\$)/);\n        loc2 = mystring.search(/([^\\\\]|^)(\\$\\$)/);\n        //console.log(mystring,\", loc:\",loc,\", loc2:\",loc2);\n    }\n\n    //console.log(mystring);\n    return mystring;\n}\n\n\nfunction show_questions(json, mydiv) {\n    console.log('show_questions');\n    //var mydiv=document.getElementById(myid);\n    var shuffle_questions = mydiv.dataset.shufflequestions;\n    var num_questions = mydiv.dataset.numquestions;\n    var shuffle_answers = mydiv.dataset.shuffleanswers;\n    var max_width = mydiv.dataset.maxwidth;\n\n    if (num_questions > json.length) {\n        num_questions = json.length;\n    }\n\n    var questions;\n    if ((num_questions < json.length) || (shuffle_questions == \"True\")) {\n        //console.log(num_questions+\",\"+json.length);\n        questions = getRandomSubarray(json, num_questions);\n    } else {\n        questions = json;\n    }\n\n    //console.log(\"SQ: \"+shuffle_questions+\", NQ: \" + num_questions + \", SA: \", shuffle_answers);\n\n    // Iterate over questions\n    questions.forEach((qa, index, array) => {\n        //console.log(qa.question); \n\n        var id = makeid(8);\n        //console.log(id);\n\n\n        // Create Div to contain question and answers\n        var iDiv = document.createElement('div');\n        //iDiv.id = 'quizWrap' + id + index;\n        iDiv.id = 'quizWrap' + id;\n        iDiv.className = 'Quiz';\n        iDiv.setAttribute('data-qnum', index);\n        iDiv.style.maxWidth  =max_width+\"px\";\n        mydiv.appendChild(iDiv);\n        // iDiv.innerHTML=qa.question;\n        \n        var outerqDiv = document.createElement('div');\n        outerqDiv.id = \"OuterquizQn\" + id + index;\n        // Create div to contain question part\n        var qDiv = document.createElement('div');\n        qDiv.id = \"quizQn\" + id + index;\n        \n        if (qa.question) {\n            iDiv.append(outerqDiv);\n\n            //qDiv.textContent=qa.question;\n            qDiv.innerHTML = jaxify(qa.question);\n            outerqDiv.append(qDiv);\n        }\n\n        // Create div for code inside question\n        var codeDiv;\n        if (\"code\" in qa) {\n            codeDiv = document.createElement('div');\n            codeDiv.id = \"code\" + id + index;\n            codeDiv.className = \"QuizCode\";\n            var codePre = document.createElement('pre');\n            codeDiv.append(codePre);\n            var codeCode = document.createElement('code');\n            codePre.append(codeCode);\n            codeCode.innerHTML = qa.code;\n            outerqDiv.append(codeDiv);\n            //console.log(codeDiv);\n        }\n\n\n        // Create div to contain answer part\n        var aDiv = document.createElement('div');\n        aDiv.id = \"quizAns\" + id + index;\n        aDiv.className = 'Answer';\n        iDiv.append(aDiv);\n\n        //console.log(qa.type);\n\n        var num_correct;\n        if ((qa.type == \"multiple_choice\") || (qa.type == \"many_choice\") ) {\n            num_correct = make_mc(qa, shuffle_answers, outerqDiv, qDiv, aDiv, id);\n            if (\"answer_cols\" in qa) {\n                //aDiv.style.gridTemplateColumns = 'auto '.repeat(qa.answer_cols);\n                aDiv.style.gridTemplateColumns = 'repeat(' + qa.answer_cols + ', 1fr)';\n            }\n        } else if (qa.type == \"numeric\") {\n            //console.log(\"numeric\");\n            make_numeric(qa, outerqDiv, qDiv, aDiv, id);\n        }\n\n\n        //Make div for feedback\n        var fb = document.createElement(\"div\");\n        fb.id = \"fb\" + id;\n        //fb.style=\"font-size: 20px;text-align:center;\";\n        fb.className = \"Feedback\";\n        fb.setAttribute(\"data-answeredcorrect\", 0);\n        fb.setAttribute(\"data-numcorrect\", num_correct);\n        iDiv.append(fb);\n\n\n    });\n    var preserveResponses = mydiv.dataset.preserveresponses;\n    console.log(preserveResponses);\n    console.log(preserveResponses == \"true\");\n    if (preserveResponses == \"true\") {\n        console.log(preserveResponses);\n        // Create Div to contain record of answers\n        var iDiv = document.createElement('div');\n        iDiv.id = 'responses' + mydiv.id;\n        iDiv.className = 'JCResponses';\n        // Create a place to store responses as an empty array\n        iDiv.setAttribute('data-responses', '[]');\n\n        // Dummy Text\n        iDiv.innerHTML=\"<b>Select your answers and then follow the directions that will appear here.</b>\"\n        //iDiv.className = 'Quiz';\n        mydiv.appendChild(iDiv);\n    }\n//console.log(\"At end of show_questions\");\n    if (typeof MathJax != 'undefined') {\n        console.log(\"MathJax version\", MathJax.version);\n        var version = MathJax.version;\n        setTimeout(function(){\n            var version = MathJax.version;\n            console.log('After sleep, MathJax version', version);\n            if (version[0] == \"2\") {\n                MathJax.Hub.Queue([\"Typeset\", MathJax.Hub]);\n            } else if (version[0] == \"3\") {\n                MathJax.typeset([mydiv]);\n            }\n        }, 500);\nif (typeof version == 'undefined') {\n        } else\n        {\n            if (version[0] == \"2\") {\n                MathJax.Hub.Queue([\"Typeset\", MathJax.Hub]);\n            } else if (version[0] == \"3\") {\n                MathJax.typeset([mydiv]);\n            } else {\n                console.log(\"MathJax not found\");\n            }\n        }\n    }\n    return false;\n}\n/* This is to handle asynchrony issues in loading Jupyter notebooks\n           where the quiz has been previously run. The Javascript was generally\n           being run before the div was added to the DOM. I tried to do this\n           more elegantly using Mutation Observer, but I didn't get it to work.\n\n           Someone more knowledgeable could make this better ;-) */\n\n        function try_show() {\n          if(document.getElementById(\"BLcEOSkpiiSC\")) {\n            show_questions(questionsBLcEOSkpiiSC,  BLcEOSkpiiSC); \n          } else {\n             setTimeout(try_show, 200);\n          }\n        };\n    \n        {\n        // console.log(element);\n\n        //console.log(\"BLcEOSkpiiSC\");\n        // console.log(document.getElementById(\"BLcEOSkpiiSC\"));\n\n        try_show();\n        }\n        ",
      "text/plain": [
       "<IPython.core.display.Javascript object>"
      ]
     },
     "metadata": {},
     "output_type": "display_data"
    }
   ],
   "source": [
    "from jupyterquiz import display_quiz\n",
    "display_quiz(\"#q_leaky_relu\")"
   ]
  },
  {
   "cell_type": "code",
   "execution_count": 48,
   "metadata": {
    "tags": [
     "remove-input"
    ]
   },
   "outputs": [
    {
     "data": {
      "application/vnd.plotly.v1+json": {
       "config": {
        "plotlyServerURL": "https://plot.ly"
       },
       "data": [
        {
         "mode": "lines",
         "name": "Leaky ReLU function",
         "type": "scatter",
         "x": [
          -3,
          -2.9393939393939394,
          -2.878787878787879,
          -2.8181818181818183,
          -2.757575757575758,
          -2.696969696969697,
          -2.6363636363636362,
          -2.5757575757575757,
          -2.515151515151515,
          -2.4545454545454546,
          -2.393939393939394,
          -2.333333333333333,
          -2.2727272727272725,
          -2.212121212121212,
          -2.1515151515151514,
          -2.090909090909091,
          -2.0303030303030303,
          -1.9696969696969697,
          -1.9090909090909092,
          -1.8484848484848484,
          -1.7878787878787878,
          -1.7272727272727273,
          -1.6666666666666665,
          -1.606060606060606,
          -1.5454545454545454,
          -1.4848484848484849,
          -1.4242424242424243,
          -1.3636363636363635,
          -1.303030303030303,
          -1.2424242424242424,
          -1.1818181818181817,
          -1.121212121212121,
          -1.0606060606060606,
          -1,
          -0.9393939393939394,
          -0.8787878787878789,
          -0.8181818181818183,
          -0.7575757575757573,
          -0.6969696969696968,
          -0.6363636363636362,
          -0.5757575757575757,
          -0.5151515151515151,
          -0.4545454545454546,
          -0.39393939393939403,
          -0.33333333333333304,
          -0.2727272727272725,
          -0.21212121212121193,
          -0.15151515151515138,
          -0.09090909090909083,
          -0.030303030303030276,
          0.030303030303030276,
          0.09090909090909083,
          0.15151515151515138,
          0.21212121212121238,
          0.27272727272727293,
          0.3333333333333335,
          0.39393939393939403,
          0.4545454545454546,
          0.5151515151515151,
          0.5757575757575757,
          0.6363636363636367,
          0.6969696969696972,
          0.7575757575757578,
          0.8181818181818183,
          0.8787878787878789,
          0.9393939393939394,
          1,
          1.0606060606060606,
          1.121212121212121,
          1.1818181818181817,
          1.2424242424242422,
          1.3030303030303028,
          1.3636363636363633,
          1.4242424242424248,
          1.4848484848484853,
          1.5454545454545459,
          1.6060606060606064,
          1.666666666666667,
          1.7272727272727275,
          1.787878787878788,
          1.8484848484848486,
          1.9090909090909092,
          1.9696969696969697,
          2.0303030303030303,
          2.090909090909091,
          2.1515151515151514,
          2.212121212121212,
          2.2727272727272725,
          2.333333333333334,
          2.3939393939393945,
          2.454545454545455,
          2.5151515151515156,
          2.575757575757576,
          2.6363636363636367,
          2.6969696969696972,
          2.757575757575758,
          2.8181818181818183,
          2.878787878787879,
          2.9393939393939394,
          3
         ],
         "y": [
          -0.03,
          -0.029393939393939396,
          -0.02878787878787879,
          -0.028181818181818183,
          -0.02757575757575758,
          -0.02696969696969697,
          -0.026363636363636363,
          -0.025757575757575757,
          -0.02515151515151515,
          -0.024545454545454547,
          -0.02393939393939394,
          -0.02333333333333333,
          -0.022727272727272724,
          -0.02212121212121212,
          -0.021515151515151515,
          -0.02090909090909091,
          -0.020303030303030302,
          -0.0196969696969697,
          -0.019090909090909092,
          -0.018484848484848486,
          -0.01787878787878788,
          -0.017272727272727273,
          -0.016666666666666666,
          -0.01606060606060606,
          -0.015454545454545455,
          -0.014848484848484849,
          -0.014242424242424244,
          -0.013636363636363636,
          -0.013030303030303031,
          -0.012424242424242424,
          -0.011818181818181816,
          -0.011212121212121211,
          -0.010606060606060605,
          -0.01,
          -0.009393939393939395,
          -0.008787878787878789,
          -0.008181818181818184,
          -0.007575757575757573,
          -0.006969696969696968,
          -0.006363636363636363,
          -0.005757575757575757,
          -0.005151515151515152,
          -0.004545454545454546,
          -0.0039393939393939405,
          -0.0033333333333333305,
          -0.002727272727272725,
          -0.0021212121212121193,
          -0.0015151515151515138,
          -0.0009090909090909083,
          -0.00030303030303030276,
          0.030303030303030276,
          0.09090909090909083,
          0.15151515151515138,
          0.21212121212121238,
          0.27272727272727293,
          0.3333333333333335,
          0.39393939393939403,
          0.4545454545454546,
          0.5151515151515151,
          0.5757575757575757,
          0.6363636363636367,
          0.6969696969696972,
          0.7575757575757578,
          0.8181818181818183,
          0.8787878787878789,
          0.9393939393939394,
          1,
          1.0606060606060606,
          1.121212121212121,
          1.1818181818181817,
          1.2424242424242422,
          1.3030303030303028,
          1.3636363636363633,
          1.4242424242424248,
          1.4848484848484853,
          1.5454545454545459,
          1.6060606060606064,
          1.666666666666667,
          1.7272727272727275,
          1.787878787878788,
          1.8484848484848486,
          1.9090909090909092,
          1.9696969696969697,
          2.0303030303030303,
          2.090909090909091,
          2.1515151515151514,
          2.212121212121212,
          2.2727272727272725,
          2.333333333333334,
          2.3939393939393945,
          2.454545454545455,
          2.5151515151515156,
          2.575757575757576,
          2.6363636363636367,
          2.6969696969696972,
          2.757575757575758,
          2.8181818181818183,
          2.878787878787879,
          2.9393939393939394,
          3
         ]
        },
        {
         "line": {
          "color": "#FDAB9F"
         },
         "mode": "lines",
         "name": "Leaky ReLU derivative",
         "type": "scatter",
         "x": [
          -3,
          -2.9393939393939394,
          -2.878787878787879,
          -2.8181818181818183,
          -2.757575757575758,
          -2.696969696969697,
          -2.6363636363636362,
          -2.5757575757575757,
          -2.515151515151515,
          -2.4545454545454546,
          -2.393939393939394,
          -2.333333333333333,
          -2.2727272727272725,
          -2.212121212121212,
          -2.1515151515151514,
          -2.090909090909091,
          -2.0303030303030303,
          -1.9696969696969697,
          -1.9090909090909092,
          -1.8484848484848484,
          -1.7878787878787878,
          -1.7272727272727273,
          -1.6666666666666665,
          -1.606060606060606,
          -1.5454545454545454,
          -1.4848484848484849,
          -1.4242424242424243,
          -1.3636363636363635,
          -1.303030303030303,
          -1.2424242424242424,
          -1.1818181818181817,
          -1.121212121212121,
          -1.0606060606060606,
          -1,
          -0.9393939393939394,
          -0.8787878787878789,
          -0.8181818181818183,
          -0.7575757575757573,
          -0.6969696969696968,
          -0.6363636363636362,
          -0.5757575757575757,
          -0.5151515151515151,
          -0.4545454545454546,
          -0.39393939393939403,
          -0.33333333333333304,
          -0.2727272727272725,
          -0.21212121212121193,
          -0.15151515151515138,
          -0.09090909090909083,
          -0.030303030303030276,
          0.030303030303030276,
          0.09090909090909083,
          0.15151515151515138,
          0.21212121212121238,
          0.27272727272727293,
          0.3333333333333335,
          0.39393939393939403,
          0.4545454545454546,
          0.5151515151515151,
          0.5757575757575757,
          0.6363636363636367,
          0.6969696969696972,
          0.7575757575757578,
          0.8181818181818183,
          0.8787878787878789,
          0.9393939393939394,
          1,
          1.0606060606060606,
          1.121212121212121,
          1.1818181818181817,
          1.2424242424242422,
          1.3030303030303028,
          1.3636363636363633,
          1.4242424242424248,
          1.4848484848484853,
          1.5454545454545459,
          1.6060606060606064,
          1.666666666666667,
          1.7272727272727275,
          1.787878787878788,
          1.8484848484848486,
          1.9090909090909092,
          1.9696969696969697,
          2.0303030303030303,
          2.090909090909091,
          2.1515151515151514,
          2.212121212121212,
          2.2727272727272725,
          2.333333333333334,
          2.3939393939393945,
          2.454545454545455,
          2.5151515151515156,
          2.575757575757576,
          2.6363636363636367,
          2.6969696969696972,
          2.757575757575758,
          2.8181818181818183,
          2.878787878787879,
          2.9393939393939394,
          3
         ],
         "y": [
          0.01,
          0.01,
          0.01,
          0.01,
          0.01,
          0.01,
          0.01,
          0.01,
          0.01,
          0.01,
          0.01,
          0.01,
          0.01,
          0.01,
          0.01,
          0.01,
          0.01,
          0.01,
          0.01,
          0.01,
          0.01,
          0.01,
          0.01,
          0.01,
          0.01,
          0.01,
          0.01,
          0.01,
          0.01,
          0.01,
          0.01,
          0.01,
          0.01,
          0.01,
          0.01,
          0.01,
          0.01,
          0.01,
          0.01,
          0.01,
          0.01,
          0.01,
          0.01,
          0.01,
          0.01,
          0.01,
          0.01,
          0.01,
          0.01,
          0.01,
          1,
          1,
          1,
          1,
          1,
          1,
          1,
          1,
          1,
          1,
          1,
          1,
          1,
          1,
          1,
          1,
          1,
          1,
          1,
          1,
          1,
          1,
          1,
          1,
          1,
          1,
          1,
          1,
          1,
          1,
          1,
          1,
          1,
          1,
          1,
          1,
          1,
          1,
          1,
          1,
          1,
          1,
          1,
          1,
          1,
          1,
          1,
          1,
          1,
          1
         ]
        }
       ],
       "layout": {
        "height": 500,
        "legend": {
         "traceorder": "normal",
         "x": 0,
         "y": 1
        },
        "showlegend": true,
        "template": {
         "data": {
          "bar": [
           {
            "error_x": {
             "color": "#2a3f5f"
            },
            "error_y": {
             "color": "#2a3f5f"
            },
            "marker": {
             "line": {
              "color": "#E5ECF6",
              "width": 0.5
             },
             "pattern": {
              "fillmode": "overlay",
              "size": 10,
              "solidity": 0.2
             }
            },
            "type": "bar"
           }
          ],
          "barpolar": [
           {
            "marker": {
             "line": {
              "color": "#E5ECF6",
              "width": 0.5
             },
             "pattern": {
              "fillmode": "overlay",
              "size": 10,
              "solidity": 0.2
             }
            },
            "type": "barpolar"
           }
          ],
          "carpet": [
           {
            "aaxis": {
             "endlinecolor": "#2a3f5f",
             "gridcolor": "white",
             "linecolor": "white",
             "minorgridcolor": "white",
             "startlinecolor": "#2a3f5f"
            },
            "baxis": {
             "endlinecolor": "#2a3f5f",
             "gridcolor": "white",
             "linecolor": "white",
             "minorgridcolor": "white",
             "startlinecolor": "#2a3f5f"
            },
            "type": "carpet"
           }
          ],
          "choropleth": [
           {
            "colorbar": {
             "outlinewidth": 0,
             "ticks": ""
            },
            "type": "choropleth"
           }
          ],
          "contour": [
           {
            "colorbar": {
             "outlinewidth": 0,
             "ticks": ""
            },
            "colorscale": [
             [
              0,
              "#0d0887"
             ],
             [
              0.1111111111111111,
              "#46039f"
             ],
             [
              0.2222222222222222,
              "#7201a8"
             ],
             [
              0.3333333333333333,
              "#9c179e"
             ],
             [
              0.4444444444444444,
              "#bd3786"
             ],
             [
              0.5555555555555556,
              "#d8576b"
             ],
             [
              0.6666666666666666,
              "#ed7953"
             ],
             [
              0.7777777777777778,
              "#fb9f3a"
             ],
             [
              0.8888888888888888,
              "#fdca26"
             ],
             [
              1,
              "#f0f921"
             ]
            ],
            "type": "contour"
           }
          ],
          "contourcarpet": [
           {
            "colorbar": {
             "outlinewidth": 0,
             "ticks": ""
            },
            "type": "contourcarpet"
           }
          ],
          "heatmap": [
           {
            "colorbar": {
             "outlinewidth": 0,
             "ticks": ""
            },
            "colorscale": [
             [
              0,
              "#0d0887"
             ],
             [
              0.1111111111111111,
              "#46039f"
             ],
             [
              0.2222222222222222,
              "#7201a8"
             ],
             [
              0.3333333333333333,
              "#9c179e"
             ],
             [
              0.4444444444444444,
              "#bd3786"
             ],
             [
              0.5555555555555556,
              "#d8576b"
             ],
             [
              0.6666666666666666,
              "#ed7953"
             ],
             [
              0.7777777777777778,
              "#fb9f3a"
             ],
             [
              0.8888888888888888,
              "#fdca26"
             ],
             [
              1,
              "#f0f921"
             ]
            ],
            "type": "heatmap"
           }
          ],
          "heatmapgl": [
           {
            "colorbar": {
             "outlinewidth": 0,
             "ticks": ""
            },
            "colorscale": [
             [
              0,
              "#0d0887"
             ],
             [
              0.1111111111111111,
              "#46039f"
             ],
             [
              0.2222222222222222,
              "#7201a8"
             ],
             [
              0.3333333333333333,
              "#9c179e"
             ],
             [
              0.4444444444444444,
              "#bd3786"
             ],
             [
              0.5555555555555556,
              "#d8576b"
             ],
             [
              0.6666666666666666,
              "#ed7953"
             ],
             [
              0.7777777777777778,
              "#fb9f3a"
             ],
             [
              0.8888888888888888,
              "#fdca26"
             ],
             [
              1,
              "#f0f921"
             ]
            ],
            "type": "heatmapgl"
           }
          ],
          "histogram": [
           {
            "marker": {
             "pattern": {
              "fillmode": "overlay",
              "size": 10,
              "solidity": 0.2
             }
            },
            "type": "histogram"
           }
          ],
          "histogram2d": [
           {
            "colorbar": {
             "outlinewidth": 0,
             "ticks": ""
            },
            "colorscale": [
             [
              0,
              "#0d0887"
             ],
             [
              0.1111111111111111,
              "#46039f"
             ],
             [
              0.2222222222222222,
              "#7201a8"
             ],
             [
              0.3333333333333333,
              "#9c179e"
             ],
             [
              0.4444444444444444,
              "#bd3786"
             ],
             [
              0.5555555555555556,
              "#d8576b"
             ],
             [
              0.6666666666666666,
              "#ed7953"
             ],
             [
              0.7777777777777778,
              "#fb9f3a"
             ],
             [
              0.8888888888888888,
              "#fdca26"
             ],
             [
              1,
              "#f0f921"
             ]
            ],
            "type": "histogram2d"
           }
          ],
          "histogram2dcontour": [
           {
            "colorbar": {
             "outlinewidth": 0,
             "ticks": ""
            },
            "colorscale": [
             [
              0,
              "#0d0887"
             ],
             [
              0.1111111111111111,
              "#46039f"
             ],
             [
              0.2222222222222222,
              "#7201a8"
             ],
             [
              0.3333333333333333,
              "#9c179e"
             ],
             [
              0.4444444444444444,
              "#bd3786"
             ],
             [
              0.5555555555555556,
              "#d8576b"
             ],
             [
              0.6666666666666666,
              "#ed7953"
             ],
             [
              0.7777777777777778,
              "#fb9f3a"
             ],
             [
              0.8888888888888888,
              "#fdca26"
             ],
             [
              1,
              "#f0f921"
             ]
            ],
            "type": "histogram2dcontour"
           }
          ],
          "mesh3d": [
           {
            "colorbar": {
             "outlinewidth": 0,
             "ticks": ""
            },
            "type": "mesh3d"
           }
          ],
          "parcoords": [
           {
            "line": {
             "colorbar": {
              "outlinewidth": 0,
              "ticks": ""
             }
            },
            "type": "parcoords"
           }
          ],
          "pie": [
           {
            "automargin": true,
            "type": "pie"
           }
          ],
          "scatter": [
           {
            "fillpattern": {
             "fillmode": "overlay",
             "size": 10,
             "solidity": 0.2
            },
            "type": "scatter"
           }
          ],
          "scatter3d": [
           {
            "line": {
             "colorbar": {
              "outlinewidth": 0,
              "ticks": ""
             }
            },
            "marker": {
             "colorbar": {
              "outlinewidth": 0,
              "ticks": ""
             }
            },
            "type": "scatter3d"
           }
          ],
          "scattercarpet": [
           {
            "marker": {
             "colorbar": {
              "outlinewidth": 0,
              "ticks": ""
             }
            },
            "type": "scattercarpet"
           }
          ],
          "scattergeo": [
           {
            "marker": {
             "colorbar": {
              "outlinewidth": 0,
              "ticks": ""
             }
            },
            "type": "scattergeo"
           }
          ],
          "scattergl": [
           {
            "marker": {
             "colorbar": {
              "outlinewidth": 0,
              "ticks": ""
             }
            },
            "type": "scattergl"
           }
          ],
          "scattermapbox": [
           {
            "marker": {
             "colorbar": {
              "outlinewidth": 0,
              "ticks": ""
             }
            },
            "type": "scattermapbox"
           }
          ],
          "scatterpolar": [
           {
            "marker": {
             "colorbar": {
              "outlinewidth": 0,
              "ticks": ""
             }
            },
            "type": "scatterpolar"
           }
          ],
          "scatterpolargl": [
           {
            "marker": {
             "colorbar": {
              "outlinewidth": 0,
              "ticks": ""
             }
            },
            "type": "scatterpolargl"
           }
          ],
          "scatterternary": [
           {
            "marker": {
             "colorbar": {
              "outlinewidth": 0,
              "ticks": ""
             }
            },
            "type": "scatterternary"
           }
          ],
          "surface": [
           {
            "colorbar": {
             "outlinewidth": 0,
             "ticks": ""
            },
            "colorscale": [
             [
              0,
              "#0d0887"
             ],
             [
              0.1111111111111111,
              "#46039f"
             ],
             [
              0.2222222222222222,
              "#7201a8"
             ],
             [
              0.3333333333333333,
              "#9c179e"
             ],
             [
              0.4444444444444444,
              "#bd3786"
             ],
             [
              0.5555555555555556,
              "#d8576b"
             ],
             [
              0.6666666666666666,
              "#ed7953"
             ],
             [
              0.7777777777777778,
              "#fb9f3a"
             ],
             [
              0.8888888888888888,
              "#fdca26"
             ],
             [
              1,
              "#f0f921"
             ]
            ],
            "type": "surface"
           }
          ],
          "table": [
           {
            "cells": {
             "fill": {
              "color": "#EBF0F8"
             },
             "line": {
              "color": "white"
             }
            },
            "header": {
             "fill": {
              "color": "#C8D4E3"
             },
             "line": {
              "color": "white"
             }
            },
            "type": "table"
           }
          ]
         },
         "layout": {
          "annotationdefaults": {
           "arrowcolor": "#2a3f5f",
           "arrowhead": 0,
           "arrowwidth": 1
          },
          "autotypenumbers": "strict",
          "coloraxis": {
           "colorbar": {
            "outlinewidth": 0,
            "ticks": ""
           }
          },
          "colorscale": {
           "diverging": [
            [
             0,
             "#8e0152"
            ],
            [
             0.1,
             "#c51b7d"
            ],
            [
             0.2,
             "#de77ae"
            ],
            [
             0.3,
             "#f1b6da"
            ],
            [
             0.4,
             "#fde0ef"
            ],
            [
             0.5,
             "#f7f7f7"
            ],
            [
             0.6,
             "#e6f5d0"
            ],
            [
             0.7,
             "#b8e186"
            ],
            [
             0.8,
             "#7fbc41"
            ],
            [
             0.9,
             "#4d9221"
            ],
            [
             1,
             "#276419"
            ]
           ],
           "sequential": [
            [
             0,
             "#0d0887"
            ],
            [
             0.1111111111111111,
             "#46039f"
            ],
            [
             0.2222222222222222,
             "#7201a8"
            ],
            [
             0.3333333333333333,
             "#9c179e"
            ],
            [
             0.4444444444444444,
             "#bd3786"
            ],
            [
             0.5555555555555556,
             "#d8576b"
            ],
            [
             0.6666666666666666,
             "#ed7953"
            ],
            [
             0.7777777777777778,
             "#fb9f3a"
            ],
            [
             0.8888888888888888,
             "#fdca26"
            ],
            [
             1,
             "#f0f921"
            ]
           ],
           "sequentialminus": [
            [
             0,
             "#0d0887"
            ],
            [
             0.1111111111111111,
             "#46039f"
            ],
            [
             0.2222222222222222,
             "#7201a8"
            ],
            [
             0.3333333333333333,
             "#9c179e"
            ],
            [
             0.4444444444444444,
             "#bd3786"
            ],
            [
             0.5555555555555556,
             "#d8576b"
            ],
            [
             0.6666666666666666,
             "#ed7953"
            ],
            [
             0.7777777777777778,
             "#fb9f3a"
            ],
            [
             0.8888888888888888,
             "#fdca26"
            ],
            [
             1,
             "#f0f921"
            ]
           ]
          },
          "colorway": [
           "#636efa",
           "#EF553B",
           "#00cc96",
           "#ab63fa",
           "#FFA15A",
           "#19d3f3",
           "#FF6692",
           "#B6E880",
           "#FF97FF",
           "#FECB52"
          ],
          "font": {
           "color": "#2a3f5f"
          },
          "geo": {
           "bgcolor": "white",
           "lakecolor": "white",
           "landcolor": "#E5ECF6",
           "showlakes": true,
           "showland": true,
           "subunitcolor": "white"
          },
          "hoverlabel": {
           "align": "left"
          },
          "hovermode": "closest",
          "mapbox": {
           "style": "light"
          },
          "paper_bgcolor": "white",
          "plot_bgcolor": "#E5ECF6",
          "polar": {
           "angularaxis": {
            "gridcolor": "white",
            "linecolor": "white",
            "ticks": ""
           },
           "bgcolor": "#E5ECF6",
           "radialaxis": {
            "gridcolor": "white",
            "linecolor": "white",
            "ticks": ""
           }
          },
          "scene": {
           "xaxis": {
            "backgroundcolor": "#E5ECF6",
            "gridcolor": "white",
            "gridwidth": 2,
            "linecolor": "white",
            "showbackground": true,
            "ticks": "",
            "zerolinecolor": "white"
           },
           "yaxis": {
            "backgroundcolor": "#E5ECF6",
            "gridcolor": "white",
            "gridwidth": 2,
            "linecolor": "white",
            "showbackground": true,
            "ticks": "",
            "zerolinecolor": "white"
           },
           "zaxis": {
            "backgroundcolor": "#E5ECF6",
            "gridcolor": "white",
            "gridwidth": 2,
            "linecolor": "white",
            "showbackground": true,
            "ticks": "",
            "zerolinecolor": "white"
           }
          },
          "shapedefaults": {
           "line": {
            "color": "#2a3f5f"
           }
          },
          "ternary": {
           "aaxis": {
            "gridcolor": "white",
            "linecolor": "white",
            "ticks": ""
           },
           "baxis": {
            "gridcolor": "white",
            "linecolor": "white",
            "ticks": ""
           },
           "bgcolor": "#E5ECF6",
           "caxis": {
            "gridcolor": "white",
            "linecolor": "white",
            "ticks": ""
           }
          },
          "title": {
           "x": 0.05
          },
          "xaxis": {
           "automargin": true,
           "gridcolor": "white",
           "linecolor": "white",
           "ticks": "",
           "title": {
            "standoff": 15
           },
           "zerolinecolor": "white",
           "zerolinewidth": 2
          },
          "yaxis": {
           "automargin": true,
           "gridcolor": "white",
           "linecolor": "white",
           "ticks": "",
           "title": {
            "standoff": 15
           },
           "zerolinecolor": "white",
           "zerolinewidth": 2
          }
         }
        },
        "title": {
         "text": "Leaky Rectified Linear Unit (Leaky ReLU) Function, alpha = 0.01"
        },
        "updatemenus": [
         {
          "buttons": [
           {
            "args": [
             {
              "visible": [
               true,
               false
              ]
             },
             {
              "title": "Leaky Rectified Linear Unit (Leaky ReLU) Function, alpha = 0.01"
             }
            ],
            "label": "Leaky ReLU",
            "method": "update"
           },
           {
            "args": [
             {
              "visible": [
               false,
               true
              ]
             },
             {
              "title": "Leaky ReLU Derivative"
             }
            ],
            "label": "Leaky ReLU Derivative",
            "method": "update"
           },
           {
            "args": [
             {
              "visible": [
               true,
               true
              ]
             },
             {
              "title": "Both Plots"
             }
            ],
            "label": "Both",
            "method": "update"
           }
          ],
          "direction": "down",
          "pad": {
           "r": 10,
           "t": 10
          },
          "showactive": true,
          "x": 0.33,
          "xanchor": "left",
          "y": 1.163,
          "yanchor": "top"
         }
        ],
        "width": 700,
        "xaxis": {
         "anchor": "y",
         "domain": [
          0,
          1
         ],
         "title": {
          "text": "X-axis"
         }
        },
        "yaxis": {
         "anchor": "x",
         "domain": [
          0,
          1
         ],
         "title": {
          "text": "Value"
         }
        }
       }
      }
     },
     "metadata": {},
     "output_type": "display_data"
    }
   ],
   "source": [
    "import numpy as np\n",
    "import plotly.graph_objects as go\n",
    "from plotly.subplots import make_subplots\n",
    "\n",
    "def leaky_relu(x, alpha=0.01):\n",
    "    return np.where(x > 0, x, alpha * x)\n",
    "\n",
    "def leaky_relu_derivative(x, alpha=0.01):\n",
    "    return np.where(x > 0, 1, alpha)\n",
    "\n",
    "x = np.linspace(-3, 3, 100)\n",
    "alpha = 0.01\n",
    "leaky_relu_values = leaky_relu(x, alpha=alpha)\n",
    "leaky_relu_derivative_values = leaky_relu_derivative(x, alpha=alpha)\n",
    "\n",
    "fig = make_subplots(rows=1, cols=1)\n",
    "\n",
    "leaky_relu_trace = go.Scatter(x=x, y=leaky_relu_values, mode='lines', name='Leaky ReLU function')\n",
    "leaky_relu_derivative_trace = go.Scatter(x=x, y=leaky_relu_derivative_values, mode='lines', name='Leaky ReLU derivative', line=dict(color='#FDAB9F'))\n",
    "\n",
    "leaky_relu_title = f\"Leaky Rectified Linear Unit (Leaky ReLU) Function, alpha = {alpha}\"\n",
    "leaky_relu_derivative_title = \"Leaky ReLU Derivative\"\n",
    "\n",
    "buttons = [\n",
    "    {\n",
    "        \"label\": \"Leaky ReLU\",\n",
    "        \"method\": \"update\",\n",
    "        \"args\": [{\"visible\": [True, False]}, {\"title\": leaky_relu_title}],\n",
    "    },\n",
    "    {\n",
    "        \"label\": \"Leaky ReLU Derivative\",\n",
    "        \"method\": \"update\",\n",
    "        \"args\": [{\"visible\": [False, True]}, {\"title\": leaky_relu_derivative_title}],\n",
    "    },\n",
    "    {\n",
    "        \"label\": \"Both\",\n",
    "        \"method\": \"update\",\n",
    "        \"args\": [{\"visible\": [True, True]}, {\"title\": \"Both Plots\"}],\n",
    "    },\n",
    "]\n",
    "\n",
    "fig.update_layout(\n",
    "    updatemenus=[\n",
    "        {\n",
    "            \"buttons\": buttons,\n",
    "            \"direction\": \"down\",\n",
    "            \"pad\": {\"r\": 10, \"t\": 10},\n",
    "            \"showactive\": True,\n",
    "            \"x\": 0.33,\n",
    "            \"xanchor\": \"left\",\n",
    "            \"y\": 1.163,\n",
    "            \"yanchor\": \"top\"\n",
    "        },\n",
    "    ],\n",
    "    title=leaky_relu_title, \n",
    "    xaxis_title=\"X-axis\",\n",
    "    yaxis_title=\"Value\",\n",
    "    showlegend=True,\n",
    "    legend=dict(x=0, y=1, traceorder='normal'),\n",
    "    height=500,\n",
    "    width=700,\n",
    ")\n",
    "\n",
    "fig.add_trace(leaky_relu_trace)\n",
    "fig.add_trace(leaky_relu_derivative_trace)\n",
    "\n",
    "fig.show()\n"
   ]
  },
  {
   "cell_type": "markdown",
   "metadata": {},
   "source": [
    "### Parametric ReLU\n",
    "\n",
    "Parametric ReLU provides the slope of the negative part of the function as an argument $\\alpha$. By performing backpropagation, the most appropriate value of $\\alpha$\n",
    "is learnt.\n",
    "\n",
    "```{math}\n",
    ":label: parametric_relu\n",
    "f(x) = \\max(\\alpha x, x)\n",
    "```\n",
    "\n",
    "The parameterized ReLU function is used when the Leaky ReLU function still fails at solving the problem of dead neurons, and the relevant information is not successfully passed to the next layer. \n",
    "\n",
    "```{admonition} Limitations\n",
    ":class: warning\n",
    "Limitations: Function may perform differently for different problems depending upon the value of slope parameter a.\n",
    "```"
   ]
  },
  {
   "cell_type": "code",
   "execution_count": 51,
   "metadata": {
    "tags": [
     "remove-input"
    ]
   },
   "outputs": [
    {
     "data": {
      "application/vnd.plotly.v1+json": {
       "config": {
        "plotlyServerURL": "https://plot.ly"
       },
       "data": [
        {
         "mode": "lines",
         "name": "Parametric ReLU alpha=0.01",
         "type": "scatter",
         "visible": false,
         "x": [
          -3,
          -2.9393939393939394,
          -2.878787878787879,
          -2.8181818181818183,
          -2.757575757575758,
          -2.696969696969697,
          -2.6363636363636362,
          -2.5757575757575757,
          -2.515151515151515,
          -2.4545454545454546,
          -2.393939393939394,
          -2.333333333333333,
          -2.2727272727272725,
          -2.212121212121212,
          -2.1515151515151514,
          -2.090909090909091,
          -2.0303030303030303,
          -1.9696969696969697,
          -1.9090909090909092,
          -1.8484848484848484,
          -1.7878787878787878,
          -1.7272727272727273,
          -1.6666666666666665,
          -1.606060606060606,
          -1.5454545454545454,
          -1.4848484848484849,
          -1.4242424242424243,
          -1.3636363636363635,
          -1.303030303030303,
          -1.2424242424242424,
          -1.1818181818181817,
          -1.121212121212121,
          -1.0606060606060606,
          -1,
          -0.9393939393939394,
          -0.8787878787878789,
          -0.8181818181818183,
          -0.7575757575757573,
          -0.6969696969696968,
          -0.6363636363636362,
          -0.5757575757575757,
          -0.5151515151515151,
          -0.4545454545454546,
          -0.39393939393939403,
          -0.33333333333333304,
          -0.2727272727272725,
          -0.21212121212121193,
          -0.15151515151515138,
          -0.09090909090909083,
          -0.030303030303030276,
          0.030303030303030276,
          0.09090909090909083,
          0.15151515151515138,
          0.21212121212121238,
          0.27272727272727293,
          0.3333333333333335,
          0.39393939393939403,
          0.4545454545454546,
          0.5151515151515151,
          0.5757575757575757,
          0.6363636363636367,
          0.6969696969696972,
          0.7575757575757578,
          0.8181818181818183,
          0.8787878787878789,
          0.9393939393939394,
          1,
          1.0606060606060606,
          1.121212121212121,
          1.1818181818181817,
          1.2424242424242422,
          1.3030303030303028,
          1.3636363636363633,
          1.4242424242424248,
          1.4848484848484853,
          1.5454545454545459,
          1.6060606060606064,
          1.666666666666667,
          1.7272727272727275,
          1.787878787878788,
          1.8484848484848486,
          1.9090909090909092,
          1.9696969696969697,
          2.0303030303030303,
          2.090909090909091,
          2.1515151515151514,
          2.212121212121212,
          2.2727272727272725,
          2.333333333333334,
          2.3939393939393945,
          2.454545454545455,
          2.5151515151515156,
          2.575757575757576,
          2.6363636363636367,
          2.6969696969696972,
          2.757575757575758,
          2.8181818181818183,
          2.878787878787879,
          2.9393939393939394,
          3
         ],
         "xaxis": "x",
         "y": [
          -0.03,
          -0.029393939393939396,
          -0.02878787878787879,
          -0.028181818181818183,
          -0.02757575757575758,
          -0.02696969696969697,
          -0.026363636363636363,
          -0.025757575757575757,
          -0.02515151515151515,
          -0.024545454545454547,
          -0.02393939393939394,
          -0.02333333333333333,
          -0.022727272727272724,
          -0.02212121212121212,
          -0.021515151515151515,
          -0.02090909090909091,
          -0.020303030303030302,
          -0.0196969696969697,
          -0.019090909090909092,
          -0.018484848484848486,
          -0.01787878787878788,
          -0.017272727272727273,
          -0.016666666666666666,
          -0.01606060606060606,
          -0.015454545454545455,
          -0.014848484848484849,
          -0.014242424242424244,
          -0.013636363636363636,
          -0.013030303030303031,
          -0.012424242424242424,
          -0.011818181818181816,
          -0.011212121212121211,
          -0.010606060606060605,
          -0.01,
          -0.009393939393939395,
          -0.008787878787878789,
          -0.008181818181818184,
          -0.007575757575757573,
          -0.006969696969696968,
          -0.006363636363636363,
          -0.005757575757575757,
          -0.005151515151515152,
          -0.004545454545454546,
          -0.0039393939393939405,
          -0.0033333333333333305,
          -0.002727272727272725,
          -0.0021212121212121193,
          -0.0015151515151515138,
          -0.0009090909090909083,
          -0.00030303030303030276,
          0.030303030303030276,
          0.09090909090909083,
          0.15151515151515138,
          0.21212121212121238,
          0.27272727272727293,
          0.3333333333333335,
          0.39393939393939403,
          0.4545454545454546,
          0.5151515151515151,
          0.5757575757575757,
          0.6363636363636367,
          0.6969696969696972,
          0.7575757575757578,
          0.8181818181818183,
          0.8787878787878789,
          0.9393939393939394,
          1,
          1.0606060606060606,
          1.121212121212121,
          1.1818181818181817,
          1.2424242424242422,
          1.3030303030303028,
          1.3636363636363633,
          1.4242424242424248,
          1.4848484848484853,
          1.5454545454545459,
          1.6060606060606064,
          1.666666666666667,
          1.7272727272727275,
          1.787878787878788,
          1.8484848484848486,
          1.9090909090909092,
          1.9696969696969697,
          2.0303030303030303,
          2.090909090909091,
          2.1515151515151514,
          2.212121212121212,
          2.2727272727272725,
          2.333333333333334,
          2.3939393939393945,
          2.454545454545455,
          2.5151515151515156,
          2.575757575757576,
          2.6363636363636367,
          2.6969696969696972,
          2.757575757575758,
          2.8181818181818183,
          2.878787878787879,
          2.9393939393939394,
          3
         ],
         "yaxis": "y"
        },
        {
         "line": {
          "color": "#FDAB9F"
         },
         "mode": "lines",
         "name": "Derivative alpha=0.01",
         "type": "scatter",
         "visible": false,
         "x": [
          -3,
          -2.9393939393939394,
          -2.878787878787879,
          -2.8181818181818183,
          -2.757575757575758,
          -2.696969696969697,
          -2.6363636363636362,
          -2.5757575757575757,
          -2.515151515151515,
          -2.4545454545454546,
          -2.393939393939394,
          -2.333333333333333,
          -2.2727272727272725,
          -2.212121212121212,
          -2.1515151515151514,
          -2.090909090909091,
          -2.0303030303030303,
          -1.9696969696969697,
          -1.9090909090909092,
          -1.8484848484848484,
          -1.7878787878787878,
          -1.7272727272727273,
          -1.6666666666666665,
          -1.606060606060606,
          -1.5454545454545454,
          -1.4848484848484849,
          -1.4242424242424243,
          -1.3636363636363635,
          -1.303030303030303,
          -1.2424242424242424,
          -1.1818181818181817,
          -1.121212121212121,
          -1.0606060606060606,
          -1,
          -0.9393939393939394,
          -0.8787878787878789,
          -0.8181818181818183,
          -0.7575757575757573,
          -0.6969696969696968,
          -0.6363636363636362,
          -0.5757575757575757,
          -0.5151515151515151,
          -0.4545454545454546,
          -0.39393939393939403,
          -0.33333333333333304,
          -0.2727272727272725,
          -0.21212121212121193,
          -0.15151515151515138,
          -0.09090909090909083,
          -0.030303030303030276,
          0.030303030303030276,
          0.09090909090909083,
          0.15151515151515138,
          0.21212121212121238,
          0.27272727272727293,
          0.3333333333333335,
          0.39393939393939403,
          0.4545454545454546,
          0.5151515151515151,
          0.5757575757575757,
          0.6363636363636367,
          0.6969696969696972,
          0.7575757575757578,
          0.8181818181818183,
          0.8787878787878789,
          0.9393939393939394,
          1,
          1.0606060606060606,
          1.121212121212121,
          1.1818181818181817,
          1.2424242424242422,
          1.3030303030303028,
          1.3636363636363633,
          1.4242424242424248,
          1.4848484848484853,
          1.5454545454545459,
          1.6060606060606064,
          1.666666666666667,
          1.7272727272727275,
          1.787878787878788,
          1.8484848484848486,
          1.9090909090909092,
          1.9696969696969697,
          2.0303030303030303,
          2.090909090909091,
          2.1515151515151514,
          2.212121212121212,
          2.2727272727272725,
          2.333333333333334,
          2.3939393939393945,
          2.454545454545455,
          2.5151515151515156,
          2.575757575757576,
          2.6363636363636367,
          2.6969696969696972,
          2.757575757575758,
          2.8181818181818183,
          2.878787878787879,
          2.9393939393939394,
          3
         ],
         "xaxis": "x",
         "y": [
          0.01,
          0.01,
          0.01,
          0.01,
          0.01,
          0.01,
          0.01,
          0.01,
          0.01,
          0.01,
          0.01,
          0.01,
          0.01,
          0.01,
          0.01,
          0.01,
          0.01,
          0.01,
          0.01,
          0.01,
          0.01,
          0.01,
          0.01,
          0.01,
          0.01,
          0.01,
          0.01,
          0.01,
          0.01,
          0.01,
          0.01,
          0.01,
          0.01,
          0.01,
          0.01,
          0.01,
          0.01,
          0.01,
          0.01,
          0.01,
          0.01,
          0.01,
          0.01,
          0.01,
          0.01,
          0.01,
          0.01,
          0.01,
          0.01,
          0.01,
          1,
          1,
          1,
          1,
          1,
          1,
          1,
          1,
          1,
          1,
          1,
          1,
          1,
          1,
          1,
          1,
          1,
          1,
          1,
          1,
          1,
          1,
          1,
          1,
          1,
          1,
          1,
          1,
          1,
          1,
          1,
          1,
          1,
          1,
          1,
          1,
          1,
          1,
          1,
          1,
          1,
          1,
          1,
          1,
          1,
          1,
          1,
          1,
          1,
          1
         ],
         "yaxis": "y"
        },
        {
         "mode": "lines",
         "name": "Parametric ReLU alpha=0.05",
         "type": "scatter",
         "visible": false,
         "x": [
          -3,
          -2.9393939393939394,
          -2.878787878787879,
          -2.8181818181818183,
          -2.757575757575758,
          -2.696969696969697,
          -2.6363636363636362,
          -2.5757575757575757,
          -2.515151515151515,
          -2.4545454545454546,
          -2.393939393939394,
          -2.333333333333333,
          -2.2727272727272725,
          -2.212121212121212,
          -2.1515151515151514,
          -2.090909090909091,
          -2.0303030303030303,
          -1.9696969696969697,
          -1.9090909090909092,
          -1.8484848484848484,
          -1.7878787878787878,
          -1.7272727272727273,
          -1.6666666666666665,
          -1.606060606060606,
          -1.5454545454545454,
          -1.4848484848484849,
          -1.4242424242424243,
          -1.3636363636363635,
          -1.303030303030303,
          -1.2424242424242424,
          -1.1818181818181817,
          -1.121212121212121,
          -1.0606060606060606,
          -1,
          -0.9393939393939394,
          -0.8787878787878789,
          -0.8181818181818183,
          -0.7575757575757573,
          -0.6969696969696968,
          -0.6363636363636362,
          -0.5757575757575757,
          -0.5151515151515151,
          -0.4545454545454546,
          -0.39393939393939403,
          -0.33333333333333304,
          -0.2727272727272725,
          -0.21212121212121193,
          -0.15151515151515138,
          -0.09090909090909083,
          -0.030303030303030276,
          0.030303030303030276,
          0.09090909090909083,
          0.15151515151515138,
          0.21212121212121238,
          0.27272727272727293,
          0.3333333333333335,
          0.39393939393939403,
          0.4545454545454546,
          0.5151515151515151,
          0.5757575757575757,
          0.6363636363636367,
          0.6969696969696972,
          0.7575757575757578,
          0.8181818181818183,
          0.8787878787878789,
          0.9393939393939394,
          1,
          1.0606060606060606,
          1.121212121212121,
          1.1818181818181817,
          1.2424242424242422,
          1.3030303030303028,
          1.3636363636363633,
          1.4242424242424248,
          1.4848484848484853,
          1.5454545454545459,
          1.6060606060606064,
          1.666666666666667,
          1.7272727272727275,
          1.787878787878788,
          1.8484848484848486,
          1.9090909090909092,
          1.9696969696969697,
          2.0303030303030303,
          2.090909090909091,
          2.1515151515151514,
          2.212121212121212,
          2.2727272727272725,
          2.333333333333334,
          2.3939393939393945,
          2.454545454545455,
          2.5151515151515156,
          2.575757575757576,
          2.6363636363636367,
          2.6969696969696972,
          2.757575757575758,
          2.8181818181818183,
          2.878787878787879,
          2.9393939393939394,
          3
         ],
         "xaxis": "x",
         "y": [
          -0.15000000000000002,
          -0.14696969696969697,
          -0.14393939393939395,
          -0.14090909090909093,
          -0.1378787878787879,
          -0.13484848484848486,
          -0.1318181818181818,
          -0.12878787878787878,
          -0.12575757575757576,
          -0.12272727272727274,
          -0.1196969696969697,
          -0.11666666666666665,
          -0.11363636363636363,
          -0.1106060606060606,
          -0.10757575757575757,
          -0.10454545454545455,
          -0.10151515151515152,
          -0.0984848484848485,
          -0.09545454545454546,
          -0.09242424242424242,
          -0.0893939393939394,
          -0.08636363636363636,
          -0.08333333333333333,
          -0.0803030303030303,
          -0.07727272727272727,
          -0.07424242424242425,
          -0.07121212121212121,
          -0.06818181818181818,
          -0.06515151515151515,
          -0.062121212121212126,
          -0.05909090909090908,
          -0.05606060606060606,
          -0.05303030303030303,
          -0.05,
          -0.046969696969696974,
          -0.043939393939393945,
          -0.04090909090909092,
          -0.03787878787878787,
          -0.034848484848484844,
          -0.031818181818181815,
          -0.028787878787878786,
          -0.025757575757575757,
          -0.02272727272727273,
          -0.019696969696969702,
          -0.016666666666666653,
          -0.013636363636363625,
          -0.010606060606060598,
          -0.007575757575757569,
          -0.004545454545454542,
          -0.0015151515151515138,
          0.030303030303030276,
          0.09090909090909083,
          0.15151515151515138,
          0.21212121212121238,
          0.27272727272727293,
          0.3333333333333335,
          0.39393939393939403,
          0.4545454545454546,
          0.5151515151515151,
          0.5757575757575757,
          0.6363636363636367,
          0.6969696969696972,
          0.7575757575757578,
          0.8181818181818183,
          0.8787878787878789,
          0.9393939393939394,
          1,
          1.0606060606060606,
          1.121212121212121,
          1.1818181818181817,
          1.2424242424242422,
          1.3030303030303028,
          1.3636363636363633,
          1.4242424242424248,
          1.4848484848484853,
          1.5454545454545459,
          1.6060606060606064,
          1.666666666666667,
          1.7272727272727275,
          1.787878787878788,
          1.8484848484848486,
          1.9090909090909092,
          1.9696969696969697,
          2.0303030303030303,
          2.090909090909091,
          2.1515151515151514,
          2.212121212121212,
          2.2727272727272725,
          2.333333333333334,
          2.3939393939393945,
          2.454545454545455,
          2.5151515151515156,
          2.575757575757576,
          2.6363636363636367,
          2.6969696969696972,
          2.757575757575758,
          2.8181818181818183,
          2.878787878787879,
          2.9393939393939394,
          3
         ],
         "yaxis": "y"
        },
        {
         "line": {
          "color": "#FDAB9F"
         },
         "mode": "lines",
         "name": "Derivative alpha=0.05",
         "type": "scatter",
         "visible": false,
         "x": [
          -3,
          -2.9393939393939394,
          -2.878787878787879,
          -2.8181818181818183,
          -2.757575757575758,
          -2.696969696969697,
          -2.6363636363636362,
          -2.5757575757575757,
          -2.515151515151515,
          -2.4545454545454546,
          -2.393939393939394,
          -2.333333333333333,
          -2.2727272727272725,
          -2.212121212121212,
          -2.1515151515151514,
          -2.090909090909091,
          -2.0303030303030303,
          -1.9696969696969697,
          -1.9090909090909092,
          -1.8484848484848484,
          -1.7878787878787878,
          -1.7272727272727273,
          -1.6666666666666665,
          -1.606060606060606,
          -1.5454545454545454,
          -1.4848484848484849,
          -1.4242424242424243,
          -1.3636363636363635,
          -1.303030303030303,
          -1.2424242424242424,
          -1.1818181818181817,
          -1.121212121212121,
          -1.0606060606060606,
          -1,
          -0.9393939393939394,
          -0.8787878787878789,
          -0.8181818181818183,
          -0.7575757575757573,
          -0.6969696969696968,
          -0.6363636363636362,
          -0.5757575757575757,
          -0.5151515151515151,
          -0.4545454545454546,
          -0.39393939393939403,
          -0.33333333333333304,
          -0.2727272727272725,
          -0.21212121212121193,
          -0.15151515151515138,
          -0.09090909090909083,
          -0.030303030303030276,
          0.030303030303030276,
          0.09090909090909083,
          0.15151515151515138,
          0.21212121212121238,
          0.27272727272727293,
          0.3333333333333335,
          0.39393939393939403,
          0.4545454545454546,
          0.5151515151515151,
          0.5757575757575757,
          0.6363636363636367,
          0.6969696969696972,
          0.7575757575757578,
          0.8181818181818183,
          0.8787878787878789,
          0.9393939393939394,
          1,
          1.0606060606060606,
          1.121212121212121,
          1.1818181818181817,
          1.2424242424242422,
          1.3030303030303028,
          1.3636363636363633,
          1.4242424242424248,
          1.4848484848484853,
          1.5454545454545459,
          1.6060606060606064,
          1.666666666666667,
          1.7272727272727275,
          1.787878787878788,
          1.8484848484848486,
          1.9090909090909092,
          1.9696969696969697,
          2.0303030303030303,
          2.090909090909091,
          2.1515151515151514,
          2.212121212121212,
          2.2727272727272725,
          2.333333333333334,
          2.3939393939393945,
          2.454545454545455,
          2.5151515151515156,
          2.575757575757576,
          2.6363636363636367,
          2.6969696969696972,
          2.757575757575758,
          2.8181818181818183,
          2.878787878787879,
          2.9393939393939394,
          3
         ],
         "xaxis": "x",
         "y": [
          0.05,
          0.05,
          0.05,
          0.05,
          0.05,
          0.05,
          0.05,
          0.05,
          0.05,
          0.05,
          0.05,
          0.05,
          0.05,
          0.05,
          0.05,
          0.05,
          0.05,
          0.05,
          0.05,
          0.05,
          0.05,
          0.05,
          0.05,
          0.05,
          0.05,
          0.05,
          0.05,
          0.05,
          0.05,
          0.05,
          0.05,
          0.05,
          0.05,
          0.05,
          0.05,
          0.05,
          0.05,
          0.05,
          0.05,
          0.05,
          0.05,
          0.05,
          0.05,
          0.05,
          0.05,
          0.05,
          0.05,
          0.05,
          0.05,
          0.05,
          1,
          1,
          1,
          1,
          1,
          1,
          1,
          1,
          1,
          1,
          1,
          1,
          1,
          1,
          1,
          1,
          1,
          1,
          1,
          1,
          1,
          1,
          1,
          1,
          1,
          1,
          1,
          1,
          1,
          1,
          1,
          1,
          1,
          1,
          1,
          1,
          1,
          1,
          1,
          1,
          1,
          1,
          1,
          1,
          1,
          1,
          1,
          1,
          1,
          1
         ],
         "yaxis": "y"
        },
        {
         "mode": "lines",
         "name": "Parametric ReLU alpha=0.1",
         "type": "scatter",
         "visible": false,
         "x": [
          -3,
          -2.9393939393939394,
          -2.878787878787879,
          -2.8181818181818183,
          -2.757575757575758,
          -2.696969696969697,
          -2.6363636363636362,
          -2.5757575757575757,
          -2.515151515151515,
          -2.4545454545454546,
          -2.393939393939394,
          -2.333333333333333,
          -2.2727272727272725,
          -2.212121212121212,
          -2.1515151515151514,
          -2.090909090909091,
          -2.0303030303030303,
          -1.9696969696969697,
          -1.9090909090909092,
          -1.8484848484848484,
          -1.7878787878787878,
          -1.7272727272727273,
          -1.6666666666666665,
          -1.606060606060606,
          -1.5454545454545454,
          -1.4848484848484849,
          -1.4242424242424243,
          -1.3636363636363635,
          -1.303030303030303,
          -1.2424242424242424,
          -1.1818181818181817,
          -1.121212121212121,
          -1.0606060606060606,
          -1,
          -0.9393939393939394,
          -0.8787878787878789,
          -0.8181818181818183,
          -0.7575757575757573,
          -0.6969696969696968,
          -0.6363636363636362,
          -0.5757575757575757,
          -0.5151515151515151,
          -0.4545454545454546,
          -0.39393939393939403,
          -0.33333333333333304,
          -0.2727272727272725,
          -0.21212121212121193,
          -0.15151515151515138,
          -0.09090909090909083,
          -0.030303030303030276,
          0.030303030303030276,
          0.09090909090909083,
          0.15151515151515138,
          0.21212121212121238,
          0.27272727272727293,
          0.3333333333333335,
          0.39393939393939403,
          0.4545454545454546,
          0.5151515151515151,
          0.5757575757575757,
          0.6363636363636367,
          0.6969696969696972,
          0.7575757575757578,
          0.8181818181818183,
          0.8787878787878789,
          0.9393939393939394,
          1,
          1.0606060606060606,
          1.121212121212121,
          1.1818181818181817,
          1.2424242424242422,
          1.3030303030303028,
          1.3636363636363633,
          1.4242424242424248,
          1.4848484848484853,
          1.5454545454545459,
          1.6060606060606064,
          1.666666666666667,
          1.7272727272727275,
          1.787878787878788,
          1.8484848484848486,
          1.9090909090909092,
          1.9696969696969697,
          2.0303030303030303,
          2.090909090909091,
          2.1515151515151514,
          2.212121212121212,
          2.2727272727272725,
          2.333333333333334,
          2.3939393939393945,
          2.454545454545455,
          2.5151515151515156,
          2.575757575757576,
          2.6363636363636367,
          2.6969696969696972,
          2.757575757575758,
          2.8181818181818183,
          2.878787878787879,
          2.9393939393939394,
          3
         ],
         "xaxis": "x",
         "y": [
          -0.30000000000000004,
          -0.29393939393939394,
          -0.2878787878787879,
          -0.28181818181818186,
          -0.2757575757575758,
          -0.2696969696969697,
          -0.2636363636363636,
          -0.25757575757575757,
          -0.2515151515151515,
          -0.24545454545454548,
          -0.2393939393939394,
          -0.2333333333333333,
          -0.22727272727272727,
          -0.2212121212121212,
          -0.21515151515151515,
          -0.2090909090909091,
          -0.20303030303030303,
          -0.196969696969697,
          -0.19090909090909092,
          -0.18484848484848485,
          -0.1787878787878788,
          -0.17272727272727273,
          -0.16666666666666666,
          -0.1606060606060606,
          -0.15454545454545454,
          -0.1484848484848485,
          -0.14242424242424243,
          -0.13636363636363635,
          -0.1303030303030303,
          -0.12424242424242425,
          -0.11818181818181817,
          -0.11212121212121212,
          -0.10606060606060606,
          -0.1,
          -0.09393939393939395,
          -0.08787878787878789,
          -0.08181818181818185,
          -0.07575757575757575,
          -0.06969696969696969,
          -0.06363636363636363,
          -0.05757575757575757,
          -0.051515151515151514,
          -0.04545454545454546,
          -0.039393939393939405,
          -0.033333333333333305,
          -0.02727272727272725,
          -0.021212121212121196,
          -0.015151515151515138,
          -0.009090909090909084,
          -0.0030303030303030277,
          0.030303030303030276,
          0.09090909090909083,
          0.15151515151515138,
          0.21212121212121238,
          0.27272727272727293,
          0.3333333333333335,
          0.39393939393939403,
          0.4545454545454546,
          0.5151515151515151,
          0.5757575757575757,
          0.6363636363636367,
          0.6969696969696972,
          0.7575757575757578,
          0.8181818181818183,
          0.8787878787878789,
          0.9393939393939394,
          1,
          1.0606060606060606,
          1.121212121212121,
          1.1818181818181817,
          1.2424242424242422,
          1.3030303030303028,
          1.3636363636363633,
          1.4242424242424248,
          1.4848484848484853,
          1.5454545454545459,
          1.6060606060606064,
          1.666666666666667,
          1.7272727272727275,
          1.787878787878788,
          1.8484848484848486,
          1.9090909090909092,
          1.9696969696969697,
          2.0303030303030303,
          2.090909090909091,
          2.1515151515151514,
          2.212121212121212,
          2.2727272727272725,
          2.333333333333334,
          2.3939393939393945,
          2.454545454545455,
          2.5151515151515156,
          2.575757575757576,
          2.6363636363636367,
          2.6969696969696972,
          2.757575757575758,
          2.8181818181818183,
          2.878787878787879,
          2.9393939393939394,
          3
         ],
         "yaxis": "y"
        },
        {
         "line": {
          "color": "#FDAB9F"
         },
         "mode": "lines",
         "name": "Derivative alpha=0.1",
         "type": "scatter",
         "visible": false,
         "x": [
          -3,
          -2.9393939393939394,
          -2.878787878787879,
          -2.8181818181818183,
          -2.757575757575758,
          -2.696969696969697,
          -2.6363636363636362,
          -2.5757575757575757,
          -2.515151515151515,
          -2.4545454545454546,
          -2.393939393939394,
          -2.333333333333333,
          -2.2727272727272725,
          -2.212121212121212,
          -2.1515151515151514,
          -2.090909090909091,
          -2.0303030303030303,
          -1.9696969696969697,
          -1.9090909090909092,
          -1.8484848484848484,
          -1.7878787878787878,
          -1.7272727272727273,
          -1.6666666666666665,
          -1.606060606060606,
          -1.5454545454545454,
          -1.4848484848484849,
          -1.4242424242424243,
          -1.3636363636363635,
          -1.303030303030303,
          -1.2424242424242424,
          -1.1818181818181817,
          -1.121212121212121,
          -1.0606060606060606,
          -1,
          -0.9393939393939394,
          -0.8787878787878789,
          -0.8181818181818183,
          -0.7575757575757573,
          -0.6969696969696968,
          -0.6363636363636362,
          -0.5757575757575757,
          -0.5151515151515151,
          -0.4545454545454546,
          -0.39393939393939403,
          -0.33333333333333304,
          -0.2727272727272725,
          -0.21212121212121193,
          -0.15151515151515138,
          -0.09090909090909083,
          -0.030303030303030276,
          0.030303030303030276,
          0.09090909090909083,
          0.15151515151515138,
          0.21212121212121238,
          0.27272727272727293,
          0.3333333333333335,
          0.39393939393939403,
          0.4545454545454546,
          0.5151515151515151,
          0.5757575757575757,
          0.6363636363636367,
          0.6969696969696972,
          0.7575757575757578,
          0.8181818181818183,
          0.8787878787878789,
          0.9393939393939394,
          1,
          1.0606060606060606,
          1.121212121212121,
          1.1818181818181817,
          1.2424242424242422,
          1.3030303030303028,
          1.3636363636363633,
          1.4242424242424248,
          1.4848484848484853,
          1.5454545454545459,
          1.6060606060606064,
          1.666666666666667,
          1.7272727272727275,
          1.787878787878788,
          1.8484848484848486,
          1.9090909090909092,
          1.9696969696969697,
          2.0303030303030303,
          2.090909090909091,
          2.1515151515151514,
          2.212121212121212,
          2.2727272727272725,
          2.333333333333334,
          2.3939393939393945,
          2.454545454545455,
          2.5151515151515156,
          2.575757575757576,
          2.6363636363636367,
          2.6969696969696972,
          2.757575757575758,
          2.8181818181818183,
          2.878787878787879,
          2.9393939393939394,
          3
         ],
         "xaxis": "x",
         "y": [
          0.1,
          0.1,
          0.1,
          0.1,
          0.1,
          0.1,
          0.1,
          0.1,
          0.1,
          0.1,
          0.1,
          0.1,
          0.1,
          0.1,
          0.1,
          0.1,
          0.1,
          0.1,
          0.1,
          0.1,
          0.1,
          0.1,
          0.1,
          0.1,
          0.1,
          0.1,
          0.1,
          0.1,
          0.1,
          0.1,
          0.1,
          0.1,
          0.1,
          0.1,
          0.1,
          0.1,
          0.1,
          0.1,
          0.1,
          0.1,
          0.1,
          0.1,
          0.1,
          0.1,
          0.1,
          0.1,
          0.1,
          0.1,
          0.1,
          0.1,
          1,
          1,
          1,
          1,
          1,
          1,
          1,
          1,
          1,
          1,
          1,
          1,
          1,
          1,
          1,
          1,
          1,
          1,
          1,
          1,
          1,
          1,
          1,
          1,
          1,
          1,
          1,
          1,
          1,
          1,
          1,
          1,
          1,
          1,
          1,
          1,
          1,
          1,
          1,
          1,
          1,
          1,
          1,
          1,
          1,
          1,
          1,
          1,
          1,
          1
         ],
         "yaxis": "y"
        },
        {
         "mode": "lines",
         "name": "Parametric ReLU alpha=0.2",
         "type": "scatter",
         "visible": false,
         "x": [
          -3,
          -2.9393939393939394,
          -2.878787878787879,
          -2.8181818181818183,
          -2.757575757575758,
          -2.696969696969697,
          -2.6363636363636362,
          -2.5757575757575757,
          -2.515151515151515,
          -2.4545454545454546,
          -2.393939393939394,
          -2.333333333333333,
          -2.2727272727272725,
          -2.212121212121212,
          -2.1515151515151514,
          -2.090909090909091,
          -2.0303030303030303,
          -1.9696969696969697,
          -1.9090909090909092,
          -1.8484848484848484,
          -1.7878787878787878,
          -1.7272727272727273,
          -1.6666666666666665,
          -1.606060606060606,
          -1.5454545454545454,
          -1.4848484848484849,
          -1.4242424242424243,
          -1.3636363636363635,
          -1.303030303030303,
          -1.2424242424242424,
          -1.1818181818181817,
          -1.121212121212121,
          -1.0606060606060606,
          -1,
          -0.9393939393939394,
          -0.8787878787878789,
          -0.8181818181818183,
          -0.7575757575757573,
          -0.6969696969696968,
          -0.6363636363636362,
          -0.5757575757575757,
          -0.5151515151515151,
          -0.4545454545454546,
          -0.39393939393939403,
          -0.33333333333333304,
          -0.2727272727272725,
          -0.21212121212121193,
          -0.15151515151515138,
          -0.09090909090909083,
          -0.030303030303030276,
          0.030303030303030276,
          0.09090909090909083,
          0.15151515151515138,
          0.21212121212121238,
          0.27272727272727293,
          0.3333333333333335,
          0.39393939393939403,
          0.4545454545454546,
          0.5151515151515151,
          0.5757575757575757,
          0.6363636363636367,
          0.6969696969696972,
          0.7575757575757578,
          0.8181818181818183,
          0.8787878787878789,
          0.9393939393939394,
          1,
          1.0606060606060606,
          1.121212121212121,
          1.1818181818181817,
          1.2424242424242422,
          1.3030303030303028,
          1.3636363636363633,
          1.4242424242424248,
          1.4848484848484853,
          1.5454545454545459,
          1.6060606060606064,
          1.666666666666667,
          1.7272727272727275,
          1.787878787878788,
          1.8484848484848486,
          1.9090909090909092,
          1.9696969696969697,
          2.0303030303030303,
          2.090909090909091,
          2.1515151515151514,
          2.212121212121212,
          2.2727272727272725,
          2.333333333333334,
          2.3939393939393945,
          2.454545454545455,
          2.5151515151515156,
          2.575757575757576,
          2.6363636363636367,
          2.6969696969696972,
          2.757575757575758,
          2.8181818181818183,
          2.878787878787879,
          2.9393939393939394,
          3
         ],
         "xaxis": "x",
         "y": [
          -0.6000000000000001,
          -0.5878787878787879,
          -0.5757575757575758,
          -0.5636363636363637,
          -0.5515151515151516,
          -0.5393939393939394,
          -0.5272727272727272,
          -0.5151515151515151,
          -0.503030303030303,
          -0.49090909090909096,
          -0.4787878787878788,
          -0.4666666666666666,
          -0.45454545454545453,
          -0.4424242424242424,
          -0.4303030303030303,
          -0.4181818181818182,
          -0.40606060606060607,
          -0.393939393939394,
          -0.38181818181818183,
          -0.3696969696969697,
          -0.3575757575757576,
          -0.34545454545454546,
          -0.3333333333333333,
          -0.3212121212121212,
          -0.3090909090909091,
          -0.296969696969697,
          -0.28484848484848485,
          -0.2727272727272727,
          -0.2606060606060606,
          -0.2484848484848485,
          -0.23636363636363633,
          -0.22424242424242424,
          -0.21212121212121213,
          -0.2,
          -0.1878787878787879,
          -0.17575757575757578,
          -0.1636363636363637,
          -0.1515151515151515,
          -0.13939393939393938,
          -0.12727272727272726,
          -0.11515151515151514,
          -0.10303030303030303,
          -0.09090909090909093,
          -0.07878787878787881,
          -0.06666666666666661,
          -0.0545454545454545,
          -0.04242424242424239,
          -0.030303030303030276,
          -0.018181818181818167,
          -0.006060606060606055,
          0.030303030303030276,
          0.09090909090909083,
          0.15151515151515138,
          0.21212121212121238,
          0.27272727272727293,
          0.3333333333333335,
          0.39393939393939403,
          0.4545454545454546,
          0.5151515151515151,
          0.5757575757575757,
          0.6363636363636367,
          0.6969696969696972,
          0.7575757575757578,
          0.8181818181818183,
          0.8787878787878789,
          0.9393939393939394,
          1,
          1.0606060606060606,
          1.121212121212121,
          1.1818181818181817,
          1.2424242424242422,
          1.3030303030303028,
          1.3636363636363633,
          1.4242424242424248,
          1.4848484848484853,
          1.5454545454545459,
          1.6060606060606064,
          1.666666666666667,
          1.7272727272727275,
          1.787878787878788,
          1.8484848484848486,
          1.9090909090909092,
          1.9696969696969697,
          2.0303030303030303,
          2.090909090909091,
          2.1515151515151514,
          2.212121212121212,
          2.2727272727272725,
          2.333333333333334,
          2.3939393939393945,
          2.454545454545455,
          2.5151515151515156,
          2.575757575757576,
          2.6363636363636367,
          2.6969696969696972,
          2.757575757575758,
          2.8181818181818183,
          2.878787878787879,
          2.9393939393939394,
          3
         ],
         "yaxis": "y"
        },
        {
         "line": {
          "color": "#FDAB9F"
         },
         "mode": "lines",
         "name": "Derivative alpha=0.2",
         "type": "scatter",
         "visible": false,
         "x": [
          -3,
          -2.9393939393939394,
          -2.878787878787879,
          -2.8181818181818183,
          -2.757575757575758,
          -2.696969696969697,
          -2.6363636363636362,
          -2.5757575757575757,
          -2.515151515151515,
          -2.4545454545454546,
          -2.393939393939394,
          -2.333333333333333,
          -2.2727272727272725,
          -2.212121212121212,
          -2.1515151515151514,
          -2.090909090909091,
          -2.0303030303030303,
          -1.9696969696969697,
          -1.9090909090909092,
          -1.8484848484848484,
          -1.7878787878787878,
          -1.7272727272727273,
          -1.6666666666666665,
          -1.606060606060606,
          -1.5454545454545454,
          -1.4848484848484849,
          -1.4242424242424243,
          -1.3636363636363635,
          -1.303030303030303,
          -1.2424242424242424,
          -1.1818181818181817,
          -1.121212121212121,
          -1.0606060606060606,
          -1,
          -0.9393939393939394,
          -0.8787878787878789,
          -0.8181818181818183,
          -0.7575757575757573,
          -0.6969696969696968,
          -0.6363636363636362,
          -0.5757575757575757,
          -0.5151515151515151,
          -0.4545454545454546,
          -0.39393939393939403,
          -0.33333333333333304,
          -0.2727272727272725,
          -0.21212121212121193,
          -0.15151515151515138,
          -0.09090909090909083,
          -0.030303030303030276,
          0.030303030303030276,
          0.09090909090909083,
          0.15151515151515138,
          0.21212121212121238,
          0.27272727272727293,
          0.3333333333333335,
          0.39393939393939403,
          0.4545454545454546,
          0.5151515151515151,
          0.5757575757575757,
          0.6363636363636367,
          0.6969696969696972,
          0.7575757575757578,
          0.8181818181818183,
          0.8787878787878789,
          0.9393939393939394,
          1,
          1.0606060606060606,
          1.121212121212121,
          1.1818181818181817,
          1.2424242424242422,
          1.3030303030303028,
          1.3636363636363633,
          1.4242424242424248,
          1.4848484848484853,
          1.5454545454545459,
          1.6060606060606064,
          1.666666666666667,
          1.7272727272727275,
          1.787878787878788,
          1.8484848484848486,
          1.9090909090909092,
          1.9696969696969697,
          2.0303030303030303,
          2.090909090909091,
          2.1515151515151514,
          2.212121212121212,
          2.2727272727272725,
          2.333333333333334,
          2.3939393939393945,
          2.454545454545455,
          2.5151515151515156,
          2.575757575757576,
          2.6363636363636367,
          2.6969696969696972,
          2.757575757575758,
          2.8181818181818183,
          2.878787878787879,
          2.9393939393939394,
          3
         ],
         "xaxis": "x",
         "y": [
          0.2,
          0.2,
          0.2,
          0.2,
          0.2,
          0.2,
          0.2,
          0.2,
          0.2,
          0.2,
          0.2,
          0.2,
          0.2,
          0.2,
          0.2,
          0.2,
          0.2,
          0.2,
          0.2,
          0.2,
          0.2,
          0.2,
          0.2,
          0.2,
          0.2,
          0.2,
          0.2,
          0.2,
          0.2,
          0.2,
          0.2,
          0.2,
          0.2,
          0.2,
          0.2,
          0.2,
          0.2,
          0.2,
          0.2,
          0.2,
          0.2,
          0.2,
          0.2,
          0.2,
          0.2,
          0.2,
          0.2,
          0.2,
          0.2,
          0.2,
          1,
          1,
          1,
          1,
          1,
          1,
          1,
          1,
          1,
          1,
          1,
          1,
          1,
          1,
          1,
          1,
          1,
          1,
          1,
          1,
          1,
          1,
          1,
          1,
          1,
          1,
          1,
          1,
          1,
          1,
          1,
          1,
          1,
          1,
          1,
          1,
          1,
          1,
          1,
          1,
          1,
          1,
          1,
          1,
          1,
          1,
          1,
          1,
          1,
          1
         ],
         "yaxis": "y"
        },
        {
         "mode": "lines",
         "name": "Parametric ReLU alpha=0.5",
         "type": "scatter",
         "visible": false,
         "x": [
          -3,
          -2.9393939393939394,
          -2.878787878787879,
          -2.8181818181818183,
          -2.757575757575758,
          -2.696969696969697,
          -2.6363636363636362,
          -2.5757575757575757,
          -2.515151515151515,
          -2.4545454545454546,
          -2.393939393939394,
          -2.333333333333333,
          -2.2727272727272725,
          -2.212121212121212,
          -2.1515151515151514,
          -2.090909090909091,
          -2.0303030303030303,
          -1.9696969696969697,
          -1.9090909090909092,
          -1.8484848484848484,
          -1.7878787878787878,
          -1.7272727272727273,
          -1.6666666666666665,
          -1.606060606060606,
          -1.5454545454545454,
          -1.4848484848484849,
          -1.4242424242424243,
          -1.3636363636363635,
          -1.303030303030303,
          -1.2424242424242424,
          -1.1818181818181817,
          -1.121212121212121,
          -1.0606060606060606,
          -1,
          -0.9393939393939394,
          -0.8787878787878789,
          -0.8181818181818183,
          -0.7575757575757573,
          -0.6969696969696968,
          -0.6363636363636362,
          -0.5757575757575757,
          -0.5151515151515151,
          -0.4545454545454546,
          -0.39393939393939403,
          -0.33333333333333304,
          -0.2727272727272725,
          -0.21212121212121193,
          -0.15151515151515138,
          -0.09090909090909083,
          -0.030303030303030276,
          0.030303030303030276,
          0.09090909090909083,
          0.15151515151515138,
          0.21212121212121238,
          0.27272727272727293,
          0.3333333333333335,
          0.39393939393939403,
          0.4545454545454546,
          0.5151515151515151,
          0.5757575757575757,
          0.6363636363636367,
          0.6969696969696972,
          0.7575757575757578,
          0.8181818181818183,
          0.8787878787878789,
          0.9393939393939394,
          1,
          1.0606060606060606,
          1.121212121212121,
          1.1818181818181817,
          1.2424242424242422,
          1.3030303030303028,
          1.3636363636363633,
          1.4242424242424248,
          1.4848484848484853,
          1.5454545454545459,
          1.6060606060606064,
          1.666666666666667,
          1.7272727272727275,
          1.787878787878788,
          1.8484848484848486,
          1.9090909090909092,
          1.9696969696969697,
          2.0303030303030303,
          2.090909090909091,
          2.1515151515151514,
          2.212121212121212,
          2.2727272727272725,
          2.333333333333334,
          2.3939393939393945,
          2.454545454545455,
          2.5151515151515156,
          2.575757575757576,
          2.6363636363636367,
          2.6969696969696972,
          2.757575757575758,
          2.8181818181818183,
          2.878787878787879,
          2.9393939393939394,
          3
         ],
         "xaxis": "x",
         "y": [
          -1.5,
          -1.4696969696969697,
          -1.4393939393939394,
          -1.4090909090909092,
          -1.378787878787879,
          -1.3484848484848484,
          -1.3181818181818181,
          -1.2878787878787878,
          -1.2575757575757576,
          -1.2272727272727273,
          -1.196969696969697,
          -1.1666666666666665,
          -1.1363636363636362,
          -1.106060606060606,
          -1.0757575757575757,
          -1.0454545454545454,
          -1.0151515151515151,
          -0.9848484848484849,
          -0.9545454545454546,
          -0.9242424242424242,
          -0.8939393939393939,
          -0.8636363636363636,
          -0.8333333333333333,
          -0.803030303030303,
          -0.7727272727272727,
          -0.7424242424242424,
          -0.7121212121212122,
          -0.6818181818181818,
          -0.6515151515151515,
          -0.6212121212121212,
          -0.5909090909090908,
          -0.5606060606060606,
          -0.5303030303030303,
          -0.5,
          -0.4696969696969697,
          -0.43939393939393945,
          -0.40909090909090917,
          -0.3787878787878787,
          -0.3484848484848484,
          -0.3181818181818181,
          -0.28787878787878785,
          -0.25757575757575757,
          -0.2272727272727273,
          -0.19696969696969702,
          -0.16666666666666652,
          -0.13636363636363624,
          -0.10606060606060597,
          -0.07575757575757569,
          -0.045454545454545414,
          -0.015151515151515138,
          0.030303030303030276,
          0.09090909090909083,
          0.15151515151515138,
          0.21212121212121238,
          0.27272727272727293,
          0.3333333333333335,
          0.39393939393939403,
          0.4545454545454546,
          0.5151515151515151,
          0.5757575757575757,
          0.6363636363636367,
          0.6969696969696972,
          0.7575757575757578,
          0.8181818181818183,
          0.8787878787878789,
          0.9393939393939394,
          1,
          1.0606060606060606,
          1.121212121212121,
          1.1818181818181817,
          1.2424242424242422,
          1.3030303030303028,
          1.3636363636363633,
          1.4242424242424248,
          1.4848484848484853,
          1.5454545454545459,
          1.6060606060606064,
          1.666666666666667,
          1.7272727272727275,
          1.787878787878788,
          1.8484848484848486,
          1.9090909090909092,
          1.9696969696969697,
          2.0303030303030303,
          2.090909090909091,
          2.1515151515151514,
          2.212121212121212,
          2.2727272727272725,
          2.333333333333334,
          2.3939393939393945,
          2.454545454545455,
          2.5151515151515156,
          2.575757575757576,
          2.6363636363636367,
          2.6969696969696972,
          2.757575757575758,
          2.8181818181818183,
          2.878787878787879,
          2.9393939393939394,
          3
         ],
         "yaxis": "y"
        },
        {
         "line": {
          "color": "#FDAB9F"
         },
         "mode": "lines",
         "name": "Derivative alpha=0.5",
         "type": "scatter",
         "visible": false,
         "x": [
          -3,
          -2.9393939393939394,
          -2.878787878787879,
          -2.8181818181818183,
          -2.757575757575758,
          -2.696969696969697,
          -2.6363636363636362,
          -2.5757575757575757,
          -2.515151515151515,
          -2.4545454545454546,
          -2.393939393939394,
          -2.333333333333333,
          -2.2727272727272725,
          -2.212121212121212,
          -2.1515151515151514,
          -2.090909090909091,
          -2.0303030303030303,
          -1.9696969696969697,
          -1.9090909090909092,
          -1.8484848484848484,
          -1.7878787878787878,
          -1.7272727272727273,
          -1.6666666666666665,
          -1.606060606060606,
          -1.5454545454545454,
          -1.4848484848484849,
          -1.4242424242424243,
          -1.3636363636363635,
          -1.303030303030303,
          -1.2424242424242424,
          -1.1818181818181817,
          -1.121212121212121,
          -1.0606060606060606,
          -1,
          -0.9393939393939394,
          -0.8787878787878789,
          -0.8181818181818183,
          -0.7575757575757573,
          -0.6969696969696968,
          -0.6363636363636362,
          -0.5757575757575757,
          -0.5151515151515151,
          -0.4545454545454546,
          -0.39393939393939403,
          -0.33333333333333304,
          -0.2727272727272725,
          -0.21212121212121193,
          -0.15151515151515138,
          -0.09090909090909083,
          -0.030303030303030276,
          0.030303030303030276,
          0.09090909090909083,
          0.15151515151515138,
          0.21212121212121238,
          0.27272727272727293,
          0.3333333333333335,
          0.39393939393939403,
          0.4545454545454546,
          0.5151515151515151,
          0.5757575757575757,
          0.6363636363636367,
          0.6969696969696972,
          0.7575757575757578,
          0.8181818181818183,
          0.8787878787878789,
          0.9393939393939394,
          1,
          1.0606060606060606,
          1.121212121212121,
          1.1818181818181817,
          1.2424242424242422,
          1.3030303030303028,
          1.3636363636363633,
          1.4242424242424248,
          1.4848484848484853,
          1.5454545454545459,
          1.6060606060606064,
          1.666666666666667,
          1.7272727272727275,
          1.787878787878788,
          1.8484848484848486,
          1.9090909090909092,
          1.9696969696969697,
          2.0303030303030303,
          2.090909090909091,
          2.1515151515151514,
          2.212121212121212,
          2.2727272727272725,
          2.333333333333334,
          2.3939393939393945,
          2.454545454545455,
          2.5151515151515156,
          2.575757575757576,
          2.6363636363636367,
          2.6969696969696972,
          2.757575757575758,
          2.8181818181818183,
          2.878787878787879,
          2.9393939393939394,
          3
         ],
         "xaxis": "x",
         "y": [
          0.5,
          0.5,
          0.5,
          0.5,
          0.5,
          0.5,
          0.5,
          0.5,
          0.5,
          0.5,
          0.5,
          0.5,
          0.5,
          0.5,
          0.5,
          0.5,
          0.5,
          0.5,
          0.5,
          0.5,
          0.5,
          0.5,
          0.5,
          0.5,
          0.5,
          0.5,
          0.5,
          0.5,
          0.5,
          0.5,
          0.5,
          0.5,
          0.5,
          0.5,
          0.5,
          0.5,
          0.5,
          0.5,
          0.5,
          0.5,
          0.5,
          0.5,
          0.5,
          0.5,
          0.5,
          0.5,
          0.5,
          0.5,
          0.5,
          0.5,
          1,
          1,
          1,
          1,
          1,
          1,
          1,
          1,
          1,
          1,
          1,
          1,
          1,
          1,
          1,
          1,
          1,
          1,
          1,
          1,
          1,
          1,
          1,
          1,
          1,
          1,
          1,
          1,
          1,
          1,
          1,
          1,
          1,
          1,
          1,
          1,
          1,
          1,
          1,
          1,
          1,
          1,
          1,
          1,
          1,
          1,
          1,
          1,
          1,
          1
         ],
         "yaxis": "y"
        }
       ],
       "layout": {
        "height": 500,
        "legend": {
         "traceorder": "normal",
         "x": 0,
         "y": 1
        },
        "showlegend": true,
        "template": {
         "data": {
          "bar": [
           {
            "error_x": {
             "color": "#2a3f5f"
            },
            "error_y": {
             "color": "#2a3f5f"
            },
            "marker": {
             "line": {
              "color": "#E5ECF6",
              "width": 0.5
             },
             "pattern": {
              "fillmode": "overlay",
              "size": 10,
              "solidity": 0.2
             }
            },
            "type": "bar"
           }
          ],
          "barpolar": [
           {
            "marker": {
             "line": {
              "color": "#E5ECF6",
              "width": 0.5
             },
             "pattern": {
              "fillmode": "overlay",
              "size": 10,
              "solidity": 0.2
             }
            },
            "type": "barpolar"
           }
          ],
          "carpet": [
           {
            "aaxis": {
             "endlinecolor": "#2a3f5f",
             "gridcolor": "white",
             "linecolor": "white",
             "minorgridcolor": "white",
             "startlinecolor": "#2a3f5f"
            },
            "baxis": {
             "endlinecolor": "#2a3f5f",
             "gridcolor": "white",
             "linecolor": "white",
             "minorgridcolor": "white",
             "startlinecolor": "#2a3f5f"
            },
            "type": "carpet"
           }
          ],
          "choropleth": [
           {
            "colorbar": {
             "outlinewidth": 0,
             "ticks": ""
            },
            "type": "choropleth"
           }
          ],
          "contour": [
           {
            "colorbar": {
             "outlinewidth": 0,
             "ticks": ""
            },
            "colorscale": [
             [
              0,
              "#0d0887"
             ],
             [
              0.1111111111111111,
              "#46039f"
             ],
             [
              0.2222222222222222,
              "#7201a8"
             ],
             [
              0.3333333333333333,
              "#9c179e"
             ],
             [
              0.4444444444444444,
              "#bd3786"
             ],
             [
              0.5555555555555556,
              "#d8576b"
             ],
             [
              0.6666666666666666,
              "#ed7953"
             ],
             [
              0.7777777777777778,
              "#fb9f3a"
             ],
             [
              0.8888888888888888,
              "#fdca26"
             ],
             [
              1,
              "#f0f921"
             ]
            ],
            "type": "contour"
           }
          ],
          "contourcarpet": [
           {
            "colorbar": {
             "outlinewidth": 0,
             "ticks": ""
            },
            "type": "contourcarpet"
           }
          ],
          "heatmap": [
           {
            "colorbar": {
             "outlinewidth": 0,
             "ticks": ""
            },
            "colorscale": [
             [
              0,
              "#0d0887"
             ],
             [
              0.1111111111111111,
              "#46039f"
             ],
             [
              0.2222222222222222,
              "#7201a8"
             ],
             [
              0.3333333333333333,
              "#9c179e"
             ],
             [
              0.4444444444444444,
              "#bd3786"
             ],
             [
              0.5555555555555556,
              "#d8576b"
             ],
             [
              0.6666666666666666,
              "#ed7953"
             ],
             [
              0.7777777777777778,
              "#fb9f3a"
             ],
             [
              0.8888888888888888,
              "#fdca26"
             ],
             [
              1,
              "#f0f921"
             ]
            ],
            "type": "heatmap"
           }
          ],
          "heatmapgl": [
           {
            "colorbar": {
             "outlinewidth": 0,
             "ticks": ""
            },
            "colorscale": [
             [
              0,
              "#0d0887"
             ],
             [
              0.1111111111111111,
              "#46039f"
             ],
             [
              0.2222222222222222,
              "#7201a8"
             ],
             [
              0.3333333333333333,
              "#9c179e"
             ],
             [
              0.4444444444444444,
              "#bd3786"
             ],
             [
              0.5555555555555556,
              "#d8576b"
             ],
             [
              0.6666666666666666,
              "#ed7953"
             ],
             [
              0.7777777777777778,
              "#fb9f3a"
             ],
             [
              0.8888888888888888,
              "#fdca26"
             ],
             [
              1,
              "#f0f921"
             ]
            ],
            "type": "heatmapgl"
           }
          ],
          "histogram": [
           {
            "marker": {
             "pattern": {
              "fillmode": "overlay",
              "size": 10,
              "solidity": 0.2
             }
            },
            "type": "histogram"
           }
          ],
          "histogram2d": [
           {
            "colorbar": {
             "outlinewidth": 0,
             "ticks": ""
            },
            "colorscale": [
             [
              0,
              "#0d0887"
             ],
             [
              0.1111111111111111,
              "#46039f"
             ],
             [
              0.2222222222222222,
              "#7201a8"
             ],
             [
              0.3333333333333333,
              "#9c179e"
             ],
             [
              0.4444444444444444,
              "#bd3786"
             ],
             [
              0.5555555555555556,
              "#d8576b"
             ],
             [
              0.6666666666666666,
              "#ed7953"
             ],
             [
              0.7777777777777778,
              "#fb9f3a"
             ],
             [
              0.8888888888888888,
              "#fdca26"
             ],
             [
              1,
              "#f0f921"
             ]
            ],
            "type": "histogram2d"
           }
          ],
          "histogram2dcontour": [
           {
            "colorbar": {
             "outlinewidth": 0,
             "ticks": ""
            },
            "colorscale": [
             [
              0,
              "#0d0887"
             ],
             [
              0.1111111111111111,
              "#46039f"
             ],
             [
              0.2222222222222222,
              "#7201a8"
             ],
             [
              0.3333333333333333,
              "#9c179e"
             ],
             [
              0.4444444444444444,
              "#bd3786"
             ],
             [
              0.5555555555555556,
              "#d8576b"
             ],
             [
              0.6666666666666666,
              "#ed7953"
             ],
             [
              0.7777777777777778,
              "#fb9f3a"
             ],
             [
              0.8888888888888888,
              "#fdca26"
             ],
             [
              1,
              "#f0f921"
             ]
            ],
            "type": "histogram2dcontour"
           }
          ],
          "mesh3d": [
           {
            "colorbar": {
             "outlinewidth": 0,
             "ticks": ""
            },
            "type": "mesh3d"
           }
          ],
          "parcoords": [
           {
            "line": {
             "colorbar": {
              "outlinewidth": 0,
              "ticks": ""
             }
            },
            "type": "parcoords"
           }
          ],
          "pie": [
           {
            "automargin": true,
            "type": "pie"
           }
          ],
          "scatter": [
           {
            "fillpattern": {
             "fillmode": "overlay",
             "size": 10,
             "solidity": 0.2
            },
            "type": "scatter"
           }
          ],
          "scatter3d": [
           {
            "line": {
             "colorbar": {
              "outlinewidth": 0,
              "ticks": ""
             }
            },
            "marker": {
             "colorbar": {
              "outlinewidth": 0,
              "ticks": ""
             }
            },
            "type": "scatter3d"
           }
          ],
          "scattercarpet": [
           {
            "marker": {
             "colorbar": {
              "outlinewidth": 0,
              "ticks": ""
             }
            },
            "type": "scattercarpet"
           }
          ],
          "scattergeo": [
           {
            "marker": {
             "colorbar": {
              "outlinewidth": 0,
              "ticks": ""
             }
            },
            "type": "scattergeo"
           }
          ],
          "scattergl": [
           {
            "marker": {
             "colorbar": {
              "outlinewidth": 0,
              "ticks": ""
             }
            },
            "type": "scattergl"
           }
          ],
          "scattermapbox": [
           {
            "marker": {
             "colorbar": {
              "outlinewidth": 0,
              "ticks": ""
             }
            },
            "type": "scattermapbox"
           }
          ],
          "scatterpolar": [
           {
            "marker": {
             "colorbar": {
              "outlinewidth": 0,
              "ticks": ""
             }
            },
            "type": "scatterpolar"
           }
          ],
          "scatterpolargl": [
           {
            "marker": {
             "colorbar": {
              "outlinewidth": 0,
              "ticks": ""
             }
            },
            "type": "scatterpolargl"
           }
          ],
          "scatterternary": [
           {
            "marker": {
             "colorbar": {
              "outlinewidth": 0,
              "ticks": ""
             }
            },
            "type": "scatterternary"
           }
          ],
          "surface": [
           {
            "colorbar": {
             "outlinewidth": 0,
             "ticks": ""
            },
            "colorscale": [
             [
              0,
              "#0d0887"
             ],
             [
              0.1111111111111111,
              "#46039f"
             ],
             [
              0.2222222222222222,
              "#7201a8"
             ],
             [
              0.3333333333333333,
              "#9c179e"
             ],
             [
              0.4444444444444444,
              "#bd3786"
             ],
             [
              0.5555555555555556,
              "#d8576b"
             ],
             [
              0.6666666666666666,
              "#ed7953"
             ],
             [
              0.7777777777777778,
              "#fb9f3a"
             ],
             [
              0.8888888888888888,
              "#fdca26"
             ],
             [
              1,
              "#f0f921"
             ]
            ],
            "type": "surface"
           }
          ],
          "table": [
           {
            "cells": {
             "fill": {
              "color": "#EBF0F8"
             },
             "line": {
              "color": "white"
             }
            },
            "header": {
             "fill": {
              "color": "#C8D4E3"
             },
             "line": {
              "color": "white"
             }
            },
            "type": "table"
           }
          ]
         },
         "layout": {
          "annotationdefaults": {
           "arrowcolor": "#2a3f5f",
           "arrowhead": 0,
           "arrowwidth": 1
          },
          "autotypenumbers": "strict",
          "coloraxis": {
           "colorbar": {
            "outlinewidth": 0,
            "ticks": ""
           }
          },
          "colorscale": {
           "diverging": [
            [
             0,
             "#8e0152"
            ],
            [
             0.1,
             "#c51b7d"
            ],
            [
             0.2,
             "#de77ae"
            ],
            [
             0.3,
             "#f1b6da"
            ],
            [
             0.4,
             "#fde0ef"
            ],
            [
             0.5,
             "#f7f7f7"
            ],
            [
             0.6,
             "#e6f5d0"
            ],
            [
             0.7,
             "#b8e186"
            ],
            [
             0.8,
             "#7fbc41"
            ],
            [
             0.9,
             "#4d9221"
            ],
            [
             1,
             "#276419"
            ]
           ],
           "sequential": [
            [
             0,
             "#0d0887"
            ],
            [
             0.1111111111111111,
             "#46039f"
            ],
            [
             0.2222222222222222,
             "#7201a8"
            ],
            [
             0.3333333333333333,
             "#9c179e"
            ],
            [
             0.4444444444444444,
             "#bd3786"
            ],
            [
             0.5555555555555556,
             "#d8576b"
            ],
            [
             0.6666666666666666,
             "#ed7953"
            ],
            [
             0.7777777777777778,
             "#fb9f3a"
            ],
            [
             0.8888888888888888,
             "#fdca26"
            ],
            [
             1,
             "#f0f921"
            ]
           ],
           "sequentialminus": [
            [
             0,
             "#0d0887"
            ],
            [
             0.1111111111111111,
             "#46039f"
            ],
            [
             0.2222222222222222,
             "#7201a8"
            ],
            [
             0.3333333333333333,
             "#9c179e"
            ],
            [
             0.4444444444444444,
             "#bd3786"
            ],
            [
             0.5555555555555556,
             "#d8576b"
            ],
            [
             0.6666666666666666,
             "#ed7953"
            ],
            [
             0.7777777777777778,
             "#fb9f3a"
            ],
            [
             0.8888888888888888,
             "#fdca26"
            ],
            [
             1,
             "#f0f921"
            ]
           ]
          },
          "colorway": [
           "#636efa",
           "#EF553B",
           "#00cc96",
           "#ab63fa",
           "#FFA15A",
           "#19d3f3",
           "#FF6692",
           "#B6E880",
           "#FF97FF",
           "#FECB52"
          ],
          "font": {
           "color": "#2a3f5f"
          },
          "geo": {
           "bgcolor": "white",
           "lakecolor": "white",
           "landcolor": "#E5ECF6",
           "showlakes": true,
           "showland": true,
           "subunitcolor": "white"
          },
          "hoverlabel": {
           "align": "left"
          },
          "hovermode": "closest",
          "mapbox": {
           "style": "light"
          },
          "paper_bgcolor": "white",
          "plot_bgcolor": "#E5ECF6",
          "polar": {
           "angularaxis": {
            "gridcolor": "white",
            "linecolor": "white",
            "ticks": ""
           },
           "bgcolor": "#E5ECF6",
           "radialaxis": {
            "gridcolor": "white",
            "linecolor": "white",
            "ticks": ""
           }
          },
          "scene": {
           "xaxis": {
            "backgroundcolor": "#E5ECF6",
            "gridcolor": "white",
            "gridwidth": 2,
            "linecolor": "white",
            "showbackground": true,
            "ticks": "",
            "zerolinecolor": "white"
           },
           "yaxis": {
            "backgroundcolor": "#E5ECF6",
            "gridcolor": "white",
            "gridwidth": 2,
            "linecolor": "white",
            "showbackground": true,
            "ticks": "",
            "zerolinecolor": "white"
           },
           "zaxis": {
            "backgroundcolor": "#E5ECF6",
            "gridcolor": "white",
            "gridwidth": 2,
            "linecolor": "white",
            "showbackground": true,
            "ticks": "",
            "zerolinecolor": "white"
           }
          },
          "shapedefaults": {
           "line": {
            "color": "#2a3f5f"
           }
          },
          "ternary": {
           "aaxis": {
            "gridcolor": "white",
            "linecolor": "white",
            "ticks": ""
           },
           "baxis": {
            "gridcolor": "white",
            "linecolor": "white",
            "ticks": ""
           },
           "bgcolor": "#E5ECF6",
           "caxis": {
            "gridcolor": "white",
            "linecolor": "white",
            "ticks": ""
           }
          },
          "title": {
           "x": 0.05
          },
          "xaxis": {
           "automargin": true,
           "gridcolor": "white",
           "linecolor": "white",
           "ticks": "",
           "title": {
            "standoff": 15
           },
           "zerolinecolor": "white",
           "zerolinewidth": 2
          },
          "yaxis": {
           "automargin": true,
           "gridcolor": "white",
           "linecolor": "white",
           "ticks": "",
           "title": {
            "standoff": 15
           },
           "zerolinecolor": "white",
           "zerolinewidth": 2
          }
         }
        },
        "title": {
         "text": "Parametric Rectified Linear Unit (Leaky ReLU)"
        },
        "updatemenus": [
         {
          "buttons": [
           {
            "args": [
             {
              "visible": [
               true,
               true,
               false,
               false,
               false,
               false,
               false,
               false,
               false,
               false
              ]
             }
            ],
            "label": "Alpha 0.01",
            "method": "update"
           },
           {
            "args": [
             {
              "visible": [
               false,
               false,
               true,
               true,
               false,
               false,
               false,
               false,
               false,
               false
              ]
             }
            ],
            "label": "Alpha 0.05",
            "method": "update"
           },
           {
            "args": [
             {
              "visible": [
               false,
               false,
               false,
               false,
               true,
               true,
               false,
               false,
               false,
               false
              ]
             }
            ],
            "label": "Alpha 0.1",
            "method": "update"
           },
           {
            "args": [
             {
              "visible": [
               false,
               false,
               false,
               false,
               false,
               false,
               true,
               true,
               false,
               false
              ]
             }
            ],
            "label": "Alpha 0.2",
            "method": "update"
           },
           {
            "args": [
             {
              "visible": [
               false,
               false,
               false,
               false,
               false,
               false,
               false,
               false,
               true,
               true
              ]
             }
            ],
            "label": "Alpha 0.5",
            "method": "update"
           }
          ],
          "direction": "down",
          "pad": {
           "r": 10,
           "t": 10
          },
          "showactive": true,
          "x": 0.33,
          "xanchor": "left",
          "y": 1.15,
          "yanchor": "top"
         }
        ],
        "width": 700,
        "xaxis": {
         "anchor": "y",
         "domain": [
          0,
          1
         ],
         "title": {
          "text": "X-axis"
         }
        },
        "yaxis": {
         "anchor": "x",
         "domain": [
          0,
          1
         ],
         "title": {
          "text": "Value"
         }
        }
       }
      }
     },
     "metadata": {},
     "output_type": "display_data"
    }
   ],
   "source": [
    "import plotly.graph_objects as go\n",
    "from plotly.subplots import make_subplots\n",
    "\n",
    "def leaky_relu(x, alpha=0.01):\n",
    "    return np.where(x > 0, x, alpha * x)\n",
    "\n",
    "def leaky_relu_derivative(x, alpha=0.01):\n",
    "    return np.where(x > 0, 1, alpha)\n",
    "\n",
    "x = np.linspace(-3, 3, 100)\n",
    "\n",
    "\n",
    "alpha_values = [0.01, 0.05, 0.1, 0.2, 0.5]\n",
    "\n",
    "fig = make_subplots(rows=1, cols=1)\n",
    "\n",
    "\n",
    "for alpha in alpha_values:\n",
    "    leaky_relu_values = leaky_relu(x, alpha=alpha)\n",
    "    leaky_relu_derivative_values = leaky_relu_derivative(x, alpha=alpha)\n",
    "\n",
    "    fig.add_trace(\n",
    "        go.Scatter(x=x, y=leaky_relu_values, mode='lines', name=f'Parametric ReLU alpha={alpha}'),\n",
    "        row=1, col=1\n",
    "    )\n",
    "    fig.add_trace(\n",
    "        go.Scatter(x=x, y=leaky_relu_derivative_values, mode='lines', name=f'Derivative alpha={alpha}', line=dict(color='#FDAB9F')),\n",
    "        row=1, col=1\n",
    "    )\n",
    "\n",
    "# Update layout\n",
    "fig.update_layout(\n",
    "    title=\"Parametric Rectified Linear Unit (Leaky ReLU)\",\n",
    "    xaxis_title=\"X-axis\",\n",
    "    yaxis_title=\"Value\",\n",
    "    showlegend=True,\n",
    "    legend=dict(x=0, y=1, traceorder='normal'),\n",
    "    height=500,\n",
    "    width=700,\n",
    "    updatemenus=[\n",
    "        {\n",
    "            \"buttons\": [\n",
    "                {\"label\": f\"Alpha {alpha}\", \"method\": \"update\", \"args\": [{\"visible\": [alpha == a for a in alpha_values for _ in (0, 1)]}] }\n",
    "                for alpha in alpha_values\n",
    "            ],\n",
    "            \"direction\": \"down\",\n",
    "            \"pad\": {\"r\": 10, \"t\": 10},\n",
    "            \"showactive\": True,\n",
    "            \"x\": 0.33,\n",
    "            \"xanchor\": \"left\",\n",
    "            \"y\": 1.15,\n",
    "            \"yanchor\": \"top\"\n",
    "        },\n",
    "    ]\n",
    ")\n",
    "\n",
    "fig.update_traces(visible=False)\n",
    "\n",
    "fig.show()\n"
   ]
  },
  {
   "cell_type": "markdown",
   "metadata": {},
   "source": [
    "## SoftMax\n",
    "\n",
    "Before exploring the ins and outs of the Softmax activation function, we should focus on its building block: the sigmoid/logistic activation function that works on calculating probability values. \n",
    "\n",
    "The output of the sigmoid function was in the range of 0 to 1, which can be thought of as probability. \n",
    "\n",
    "````{admonition} Question\n",
    ":class: important\n",
    "Let’s suppose we have five output values of 0.8, 0.9, 0.7, 0.8, and 0.6, respectively. How can we move forward with it?\n",
    "\n",
    "```{admonition} Answer\n",
    ":class: hint, dropdown\n",
    "We can’t.\n",
    "\n",
    "The above values don’t make sense as the sum of all the classes/output probabilities should be equal to 1\n",
    "```\n",
    "````\n",
    "\n",
    "The Softmax function is described as a combination of multiple sigmoids. It calculates the relative probabilities. Similar to the sigmoid/logistic activation function, the SoftMax function returns the probability of each class. \n",
    "\n",
    "```{math}\n",
    "\\text{Softmax}(x_i) = \\frac{e^{x_i}}{\\sum_{j} e^{x_j}}\n",
    "```\n",
    "\n",
    "```{note}\n",
    "SoftMax is most commonly used as an activation function for the last layer of the neural network in the case of multi-class classification. \n",
    "```\n",
    "\n",
    "````{admonition} Simple example how SoftMax works\n",
    ":class: dropdown\n",
    "Assume that you have three classes, meaning that there would be three neurons in the output layer. Now, suppose that your output from the neurons is [1.8, 0.9, 0.68].\n",
    "\n",
    "Applying the softmax function over these values to give a probabilistic view will result in the following outcome: [0.58, 0.23, 0.19]. \n",
    "\n",
    "The function returns 1 for the largest probability index while it returns 0 for the other two array indexes. So the output would be the class corresponding to the 1st neuron(index 0) out of three.\n",
    "````"
   ]
  },
  {
   "cell_type": "code",
   "execution_count": 52,
   "metadata": {
    "tags": [
     "remove-input"
    ]
   },
   "outputs": [
    {
     "data": {
      "application/vnd.plotly.v1+json": {
       "config": {
        "plotlyServerURL": "https://plot.ly"
       },
       "data": [
        {
         "line": {
          "color": "#FDAB9F"
         },
         "mode": "lines",
         "name": "Softmax",
         "type": "scatter",
         "x": [
          -5,
          -4.898989898989899,
          -4.797979797979798,
          -4.696969696969697,
          -4.595959595959596,
          -4.494949494949495,
          -4.393939393939394,
          -4.292929292929293,
          -4.191919191919192,
          -4.090909090909091,
          -3.9898989898989896,
          -3.888888888888889,
          -3.787878787878788,
          -3.686868686868687,
          -3.5858585858585856,
          -3.484848484848485,
          -3.383838383838384,
          -3.282828282828283,
          -3.1818181818181817,
          -3.080808080808081,
          -2.9797979797979797,
          -2.878787878787879,
          -2.7777777777777777,
          -2.676767676767677,
          -2.5757575757575757,
          -2.474747474747475,
          -2.3737373737373737,
          -2.272727272727273,
          -2.1717171717171717,
          -2.070707070707071,
          -1.9696969696969697,
          -1.868686868686869,
          -1.7676767676767677,
          -1.6666666666666665,
          -1.5656565656565657,
          -1.4646464646464645,
          -1.3636363636363638,
          -1.2626262626262625,
          -1.1616161616161618,
          -1.0606060606060606,
          -0.9595959595959593,
          -0.858585858585859,
          -0.7575757575757578,
          -0.6565656565656566,
          -0.5555555555555554,
          -0.45454545454545503,
          -0.3535353535353538,
          -0.2525252525252526,
          -0.15151515151515138,
          -0.050505050505050164,
          0.050505050505050164,
          0.15151515151515138,
          0.2525252525252526,
          0.3535353535353538,
          0.45454545454545414,
          0.5555555555555554,
          0.6565656565656566,
          0.7575757575757578,
          0.8585858585858581,
          0.9595959595959593,
          1.0606060606060606,
          1.1616161616161618,
          1.262626262626262,
          1.3636363636363633,
          1.4646464646464645,
          1.5656565656565657,
          1.666666666666667,
          1.7676767676767673,
          1.8686868686868685,
          1.9696969696969697,
          2.070707070707071,
          2.1717171717171713,
          2.2727272727272725,
          2.3737373737373737,
          2.474747474747475,
          2.5757575757575752,
          2.6767676767676765,
          2.7777777777777777,
          2.878787878787879,
          2.9797979797979792,
          3.0808080808080813,
          3.1818181818181817,
          3.282828282828282,
          3.383838383838384,
          3.4848484848484844,
          3.5858585858585865,
          3.686868686868687,
          3.787878787878787,
          3.8888888888888893,
          3.9898989898989896,
          4.09090909090909,
          4.191919191919192,
          4.292929292929292,
          4.3939393939393945,
          4.494949494949495,
          4.595959595959595,
          4.696969696969697,
          4.797979797979798,
          4.8989898989899,
          5
         ],
         "y": [
          0.000004362027096872079,
          0.000004825657431776977,
          0.000005338566022563919,
          0.000005905990547443207,
          0.000006533725386004805,
          0.000007228180789792242,
          0.000007996448341987782,
          0.000008846373374664451,
          0.000009786635083109727,
          0.000010826835155325678,
          0.0000119775958217652,
          0.00001325066832656064,
          0.00001465905292792232,
          0.000016217131653117523,
          0.00001794081516368613,
          0.000019847705230639465,
          0.0000219572744787933,
          0.000024291065235733263,
          0.000026872909516002808,
          0.000029729172386929858,
          0.000032889021201276225,
          0.00003638472344603676,
          0.00004025197624893768,
          0.00004453027090746039,
          0.0000492632961628597,
          0.00005449938433729679,
          0.00006029200488991344,
          0.000066700310431904,
          0.00007378974077633722,
          0.00008163269119111364,
          0.00009030925167907213,
          0.00009990802483456297,
          0.00011052703062821122,
          0.000122274707359277,
          0.00013527101899705465,
          0.00014964868021917407,
          0.00016555451165654514,
          0.00018315093918432946,
          0.0002026176525692757,
          0.00022415344041105706,
          0.00024797822011551755,
          0.0002743352836293414,
          0.0003034937818689576,
          0.00033575147321396554,
          0.00037143776413192637,
          0.0004109170729845238,
          0.0004545925513653368,
          0.0005029102009704754,
          0.0005563634280424097,
          0.000615498081895686,
          0.0006809180289765392,
          0.0007532913193771324,
          0.0008333570087751223,
          0.0009219327054622922,
          0.0010199229195303726,
          0.0011283282994735957,
          0.0012482558505295593,
          0.0013809302391052326,
          0.0015277062987257162,
          0.0016900828652129888,
          0.0018697180823755825,
          0.002068446334506604,
          0.002288296978599985,
          0.0025315150675731036,
          0.00280058427611547,
          0.00309825226327582,
          0.003427558730783206,
          0.0037918664636257533,
          0.004194895669864779,
          0.004640761970352726,
          0.005134018426295294,
          0.005679702033831355,
          0.0062833851604202655,
          0.00695123244829042,
          0.007690063766031137,
          0.008507423851171756,
          0.009411659354918417,
          0.01041200407580763,
          0.011518673252658797,
          0.01274296787971872,
          0.01409739010923513,
          0.015595770919917507,
          0.01725341135500018,
          0.019087238772190436,
          0.021115979701082456,
          0.02336035107320857,
          0.02584327177751461,
          0.02859009670160536,
          0.0316288756487224,
          0.03499063977444228,
          0.03870971846810613,
          0.042824089914884185,
          0.047375768918316456,
          0.05241123594366508,
          0.05798191176334664,
          0.06414468255139226,
          0.07096248078905026,
          0.07850492791357683,
          0.08684904527276448,
          0.0960800406452729
         ]
        }
       ],
       "layout": {
        "showlegend": true,
        "template": {
         "data": {
          "bar": [
           {
            "error_x": {
             "color": "#2a3f5f"
            },
            "error_y": {
             "color": "#2a3f5f"
            },
            "marker": {
             "line": {
              "color": "#E5ECF6",
              "width": 0.5
             },
             "pattern": {
              "fillmode": "overlay",
              "size": 10,
              "solidity": 0.2
             }
            },
            "type": "bar"
           }
          ],
          "barpolar": [
           {
            "marker": {
             "line": {
              "color": "#E5ECF6",
              "width": 0.5
             },
             "pattern": {
              "fillmode": "overlay",
              "size": 10,
              "solidity": 0.2
             }
            },
            "type": "barpolar"
           }
          ],
          "carpet": [
           {
            "aaxis": {
             "endlinecolor": "#2a3f5f",
             "gridcolor": "white",
             "linecolor": "white",
             "minorgridcolor": "white",
             "startlinecolor": "#2a3f5f"
            },
            "baxis": {
             "endlinecolor": "#2a3f5f",
             "gridcolor": "white",
             "linecolor": "white",
             "minorgridcolor": "white",
             "startlinecolor": "#2a3f5f"
            },
            "type": "carpet"
           }
          ],
          "choropleth": [
           {
            "colorbar": {
             "outlinewidth": 0,
             "ticks": ""
            },
            "type": "choropleth"
           }
          ],
          "contour": [
           {
            "colorbar": {
             "outlinewidth": 0,
             "ticks": ""
            },
            "colorscale": [
             [
              0,
              "#0d0887"
             ],
             [
              0.1111111111111111,
              "#46039f"
             ],
             [
              0.2222222222222222,
              "#7201a8"
             ],
             [
              0.3333333333333333,
              "#9c179e"
             ],
             [
              0.4444444444444444,
              "#bd3786"
             ],
             [
              0.5555555555555556,
              "#d8576b"
             ],
             [
              0.6666666666666666,
              "#ed7953"
             ],
             [
              0.7777777777777778,
              "#fb9f3a"
             ],
             [
              0.8888888888888888,
              "#fdca26"
             ],
             [
              1,
              "#f0f921"
             ]
            ],
            "type": "contour"
           }
          ],
          "contourcarpet": [
           {
            "colorbar": {
             "outlinewidth": 0,
             "ticks": ""
            },
            "type": "contourcarpet"
           }
          ],
          "heatmap": [
           {
            "colorbar": {
             "outlinewidth": 0,
             "ticks": ""
            },
            "colorscale": [
             [
              0,
              "#0d0887"
             ],
             [
              0.1111111111111111,
              "#46039f"
             ],
             [
              0.2222222222222222,
              "#7201a8"
             ],
             [
              0.3333333333333333,
              "#9c179e"
             ],
             [
              0.4444444444444444,
              "#bd3786"
             ],
             [
              0.5555555555555556,
              "#d8576b"
             ],
             [
              0.6666666666666666,
              "#ed7953"
             ],
             [
              0.7777777777777778,
              "#fb9f3a"
             ],
             [
              0.8888888888888888,
              "#fdca26"
             ],
             [
              1,
              "#f0f921"
             ]
            ],
            "type": "heatmap"
           }
          ],
          "heatmapgl": [
           {
            "colorbar": {
             "outlinewidth": 0,
             "ticks": ""
            },
            "colorscale": [
             [
              0,
              "#0d0887"
             ],
             [
              0.1111111111111111,
              "#46039f"
             ],
             [
              0.2222222222222222,
              "#7201a8"
             ],
             [
              0.3333333333333333,
              "#9c179e"
             ],
             [
              0.4444444444444444,
              "#bd3786"
             ],
             [
              0.5555555555555556,
              "#d8576b"
             ],
             [
              0.6666666666666666,
              "#ed7953"
             ],
             [
              0.7777777777777778,
              "#fb9f3a"
             ],
             [
              0.8888888888888888,
              "#fdca26"
             ],
             [
              1,
              "#f0f921"
             ]
            ],
            "type": "heatmapgl"
           }
          ],
          "histogram": [
           {
            "marker": {
             "pattern": {
              "fillmode": "overlay",
              "size": 10,
              "solidity": 0.2
             }
            },
            "type": "histogram"
           }
          ],
          "histogram2d": [
           {
            "colorbar": {
             "outlinewidth": 0,
             "ticks": ""
            },
            "colorscale": [
             [
              0,
              "#0d0887"
             ],
             [
              0.1111111111111111,
              "#46039f"
             ],
             [
              0.2222222222222222,
              "#7201a8"
             ],
             [
              0.3333333333333333,
              "#9c179e"
             ],
             [
              0.4444444444444444,
              "#bd3786"
             ],
             [
              0.5555555555555556,
              "#d8576b"
             ],
             [
              0.6666666666666666,
              "#ed7953"
             ],
             [
              0.7777777777777778,
              "#fb9f3a"
             ],
             [
              0.8888888888888888,
              "#fdca26"
             ],
             [
              1,
              "#f0f921"
             ]
            ],
            "type": "histogram2d"
           }
          ],
          "histogram2dcontour": [
           {
            "colorbar": {
             "outlinewidth": 0,
             "ticks": ""
            },
            "colorscale": [
             [
              0,
              "#0d0887"
             ],
             [
              0.1111111111111111,
              "#46039f"
             ],
             [
              0.2222222222222222,
              "#7201a8"
             ],
             [
              0.3333333333333333,
              "#9c179e"
             ],
             [
              0.4444444444444444,
              "#bd3786"
             ],
             [
              0.5555555555555556,
              "#d8576b"
             ],
             [
              0.6666666666666666,
              "#ed7953"
             ],
             [
              0.7777777777777778,
              "#fb9f3a"
             ],
             [
              0.8888888888888888,
              "#fdca26"
             ],
             [
              1,
              "#f0f921"
             ]
            ],
            "type": "histogram2dcontour"
           }
          ],
          "mesh3d": [
           {
            "colorbar": {
             "outlinewidth": 0,
             "ticks": ""
            },
            "type": "mesh3d"
           }
          ],
          "parcoords": [
           {
            "line": {
             "colorbar": {
              "outlinewidth": 0,
              "ticks": ""
             }
            },
            "type": "parcoords"
           }
          ],
          "pie": [
           {
            "automargin": true,
            "type": "pie"
           }
          ],
          "scatter": [
           {
            "fillpattern": {
             "fillmode": "overlay",
             "size": 10,
             "solidity": 0.2
            },
            "type": "scatter"
           }
          ],
          "scatter3d": [
           {
            "line": {
             "colorbar": {
              "outlinewidth": 0,
              "ticks": ""
             }
            },
            "marker": {
             "colorbar": {
              "outlinewidth": 0,
              "ticks": ""
             }
            },
            "type": "scatter3d"
           }
          ],
          "scattercarpet": [
           {
            "marker": {
             "colorbar": {
              "outlinewidth": 0,
              "ticks": ""
             }
            },
            "type": "scattercarpet"
           }
          ],
          "scattergeo": [
           {
            "marker": {
             "colorbar": {
              "outlinewidth": 0,
              "ticks": ""
             }
            },
            "type": "scattergeo"
           }
          ],
          "scattergl": [
           {
            "marker": {
             "colorbar": {
              "outlinewidth": 0,
              "ticks": ""
             }
            },
            "type": "scattergl"
           }
          ],
          "scattermapbox": [
           {
            "marker": {
             "colorbar": {
              "outlinewidth": 0,
              "ticks": ""
             }
            },
            "type": "scattermapbox"
           }
          ],
          "scatterpolar": [
           {
            "marker": {
             "colorbar": {
              "outlinewidth": 0,
              "ticks": ""
             }
            },
            "type": "scatterpolar"
           }
          ],
          "scatterpolargl": [
           {
            "marker": {
             "colorbar": {
              "outlinewidth": 0,
              "ticks": ""
             }
            },
            "type": "scatterpolargl"
           }
          ],
          "scatterternary": [
           {
            "marker": {
             "colorbar": {
              "outlinewidth": 0,
              "ticks": ""
             }
            },
            "type": "scatterternary"
           }
          ],
          "surface": [
           {
            "colorbar": {
             "outlinewidth": 0,
             "ticks": ""
            },
            "colorscale": [
             [
              0,
              "#0d0887"
             ],
             [
              0.1111111111111111,
              "#46039f"
             ],
             [
              0.2222222222222222,
              "#7201a8"
             ],
             [
              0.3333333333333333,
              "#9c179e"
             ],
             [
              0.4444444444444444,
              "#bd3786"
             ],
             [
              0.5555555555555556,
              "#d8576b"
             ],
             [
              0.6666666666666666,
              "#ed7953"
             ],
             [
              0.7777777777777778,
              "#fb9f3a"
             ],
             [
              0.8888888888888888,
              "#fdca26"
             ],
             [
              1,
              "#f0f921"
             ]
            ],
            "type": "surface"
           }
          ],
          "table": [
           {
            "cells": {
             "fill": {
              "color": "#EBF0F8"
             },
             "line": {
              "color": "white"
             }
            },
            "header": {
             "fill": {
              "color": "#C8D4E3"
             },
             "line": {
              "color": "white"
             }
            },
            "type": "table"
           }
          ]
         },
         "layout": {
          "annotationdefaults": {
           "arrowcolor": "#2a3f5f",
           "arrowhead": 0,
           "arrowwidth": 1
          },
          "autotypenumbers": "strict",
          "coloraxis": {
           "colorbar": {
            "outlinewidth": 0,
            "ticks": ""
           }
          },
          "colorscale": {
           "diverging": [
            [
             0,
             "#8e0152"
            ],
            [
             0.1,
             "#c51b7d"
            ],
            [
             0.2,
             "#de77ae"
            ],
            [
             0.3,
             "#f1b6da"
            ],
            [
             0.4,
             "#fde0ef"
            ],
            [
             0.5,
             "#f7f7f7"
            ],
            [
             0.6,
             "#e6f5d0"
            ],
            [
             0.7,
             "#b8e186"
            ],
            [
             0.8,
             "#7fbc41"
            ],
            [
             0.9,
             "#4d9221"
            ],
            [
             1,
             "#276419"
            ]
           ],
           "sequential": [
            [
             0,
             "#0d0887"
            ],
            [
             0.1111111111111111,
             "#46039f"
            ],
            [
             0.2222222222222222,
             "#7201a8"
            ],
            [
             0.3333333333333333,
             "#9c179e"
            ],
            [
             0.4444444444444444,
             "#bd3786"
            ],
            [
             0.5555555555555556,
             "#d8576b"
            ],
            [
             0.6666666666666666,
             "#ed7953"
            ],
            [
             0.7777777777777778,
             "#fb9f3a"
            ],
            [
             0.8888888888888888,
             "#fdca26"
            ],
            [
             1,
             "#f0f921"
            ]
           ],
           "sequentialminus": [
            [
             0,
             "#0d0887"
            ],
            [
             0.1111111111111111,
             "#46039f"
            ],
            [
             0.2222222222222222,
             "#7201a8"
            ],
            [
             0.3333333333333333,
             "#9c179e"
            ],
            [
             0.4444444444444444,
             "#bd3786"
            ],
            [
             0.5555555555555556,
             "#d8576b"
            ],
            [
             0.6666666666666666,
             "#ed7953"
            ],
            [
             0.7777777777777778,
             "#fb9f3a"
            ],
            [
             0.8888888888888888,
             "#fdca26"
            ],
            [
             1,
             "#f0f921"
            ]
           ]
          },
          "colorway": [
           "#636efa",
           "#EF553B",
           "#00cc96",
           "#ab63fa",
           "#FFA15A",
           "#19d3f3",
           "#FF6692",
           "#B6E880",
           "#FF97FF",
           "#FECB52"
          ],
          "font": {
           "color": "#2a3f5f"
          },
          "geo": {
           "bgcolor": "white",
           "lakecolor": "white",
           "landcolor": "#E5ECF6",
           "showlakes": true,
           "showland": true,
           "subunitcolor": "white"
          },
          "hoverlabel": {
           "align": "left"
          },
          "hovermode": "closest",
          "mapbox": {
           "style": "light"
          },
          "paper_bgcolor": "white",
          "plot_bgcolor": "#E5ECF6",
          "polar": {
           "angularaxis": {
            "gridcolor": "white",
            "linecolor": "white",
            "ticks": ""
           },
           "bgcolor": "#E5ECF6",
           "radialaxis": {
            "gridcolor": "white",
            "linecolor": "white",
            "ticks": ""
           }
          },
          "scene": {
           "xaxis": {
            "backgroundcolor": "#E5ECF6",
            "gridcolor": "white",
            "gridwidth": 2,
            "linecolor": "white",
            "showbackground": true,
            "ticks": "",
            "zerolinecolor": "white"
           },
           "yaxis": {
            "backgroundcolor": "#E5ECF6",
            "gridcolor": "white",
            "gridwidth": 2,
            "linecolor": "white",
            "showbackground": true,
            "ticks": "",
            "zerolinecolor": "white"
           },
           "zaxis": {
            "backgroundcolor": "#E5ECF6",
            "gridcolor": "white",
            "gridwidth": 2,
            "linecolor": "white",
            "showbackground": true,
            "ticks": "",
            "zerolinecolor": "white"
           }
          },
          "shapedefaults": {
           "line": {
            "color": "#2a3f5f"
           }
          },
          "ternary": {
           "aaxis": {
            "gridcolor": "white",
            "linecolor": "white",
            "ticks": ""
           },
           "baxis": {
            "gridcolor": "white",
            "linecolor": "white",
            "ticks": ""
           },
           "bgcolor": "#E5ECF6",
           "caxis": {
            "gridcolor": "white",
            "linecolor": "white",
            "ticks": ""
           }
          },
          "title": {
           "x": 0.05
          },
          "xaxis": {
           "automargin": true,
           "gridcolor": "white",
           "linecolor": "white",
           "ticks": "",
           "title": {
            "standoff": 15
           },
           "zerolinecolor": "white",
           "zerolinewidth": 2
          },
          "yaxis": {
           "automargin": true,
           "gridcolor": "white",
           "linecolor": "white",
           "ticks": "",
           "title": {
            "standoff": 15
           },
           "zerolinecolor": "white",
           "zerolinewidth": 2
          }
         }
        },
        "title": {
         "text": "Softmax function"
        },
        "xaxis": {
         "title": {
          "text": "x"
         }
        },
        "yaxis": {
         "title": {
          "text": "Probability"
         }
        }
       }
      }
     },
     "metadata": {},
     "output_type": "display_data"
    }
   ],
   "source": [
    "import numpy as np\n",
    "import plotly.graph_objects as go\n",
    "\n",
    "def softmax(x):\n",
    "    exp_values = np.exp(x - np.max(x, axis=-1, keepdims=True))\n",
    "    return exp_values / np.sum(exp_values, axis=-1, keepdims=True)\n",
    "\n",
    "x = np.linspace(-5, 5, 100)\n",
    "softmax_values = softmax(x)\n",
    "fig = go.Figure()\n",
    "fig.add_trace(go.Scatter(x=x, y=softmax_values, mode='lines', name='Softmax', line=dict(color='#FDAB9F')))\n",
    "\n",
    "fig.update_layout(\n",
    "    title='Softmax function',\n",
    "    xaxis=dict(title='x'),\n",
    "    yaxis=dict(title='Probability'),\n",
    "    showlegend=True\n",
    ")\n",
    "\n",
    "fig.show()\n"
   ]
  }
 ],
 "metadata": {
  "kernelspec": {
   "display_name": "Python 3.10.6 64-bit",
   "language": "python",
   "name": "python3"
  },
  "language_info": {
   "codemirror_mode": {
    "name": "ipython",
    "version": 3
   },
   "file_extension": ".py",
   "mimetype": "text/x-python",
   "name": "python",
   "nbconvert_exporter": "python",
   "pygments_lexer": "ipython3",
   "version": "3.10.9"
  },
  "orig_nbformat": 4,
  "vscode": {
   "interpreter": {
    "hash": "916dbcbb3f70747c44a77c7bcd40155683ae19c65e1c03b4aa3499c5328201f1"
   }
  }
 },
 "nbformat": 4,
 "nbformat_minor": 2
}
